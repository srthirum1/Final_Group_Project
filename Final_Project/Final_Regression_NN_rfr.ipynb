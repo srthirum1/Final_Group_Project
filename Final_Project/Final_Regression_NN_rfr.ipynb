{
  "nbformat": 4,
  "nbformat_minor": 0,
  "metadata": {
    "colab": {
      "name": "Final_Regression_NN_rfr.ipynb",
      "provenance": [],
      "collapsed_sections": []
    },
    "kernelspec": {
      "name": "python3",
      "display_name": "Python 3"
    },
    "language_info": {
      "name": "python"
    }
  },
  "cells": [
    {
      "cell_type": "code",
      "metadata": {
        "colab": {
          "base_uri": "https://localhost:8080/"
        },
        "id": "lFv5-T_zupnd",
        "outputId": "163b484a-6d44-4523-83a0-e1f3f15dd53d"
      },
      "source": [
        "import os\n",
        "# Find the latest version of spark 3.0  from http://www.apache.org/dist/spark/ and enter as the spark version\n",
        "# For example:\n",
        "spark_version = 'spark-3.0.3'\n",
        "#spark_version = 'spark-3.<enter version>'\n",
        "os.environ['SPARK_VERSION']=spark_version\n",
        "\n",
        "# Install Spark and Java\n",
        "!apt-get update\n",
        "!apt-get install openjdk-11-jdk-headless -qq > /dev/null\n",
        "!wget -q http://www.apache.org/dist/spark/$SPARK_VERSION/$SPARK_VERSION-bin-hadoop2.7.tgz\n",
        "!tar xf $SPARK_VERSION-bin-hadoop2.7.tgz\n",
        "!pip install -q findspark\n",
        "\n",
        "# Set Environment Variables\n",
        "import os\n",
        "os.environ[\"JAVA_HOME\"] = \"/usr/lib/jvm/java-11-openjdk-amd64\"\n",
        "os.environ[\"SPARK_HOME\"] = f\"/content/{spark_version}-bin-hadoop2.7\"\n",
        "\n",
        "# Start a SparkSession\n",
        "import findspark\n",
        "findspark.init()"
      ],
      "execution_count": null,
      "outputs": [
        {
          "output_type": "stream",
          "text": [
            "\r0% [Working]\r            \rGet:1 http://security.ubuntu.com/ubuntu bionic-security InRelease [88.7 kB]\n",
            "\r0% [Connecting to archive.ubuntu.com] [1 InRelease 14.2 kB/88.7 kB 16%] [Connec\r                                                                               \rIgn:2 https://developer.download.nvidia.com/compute/cuda/repos/ubuntu1804/x86_64  InRelease\n",
            "Hit:3 https://cloud.r-project.org/bin/linux/ubuntu bionic-cran40/ InRelease\n",
            "Ign:4 https://developer.download.nvidia.com/compute/machine-learning/repos/ubuntu1804/x86_64  InRelease\n",
            "Hit:5 http://ppa.launchpad.net/c2d4u.team/c2d4u4.0+/ubuntu bionic InRelease\n",
            "Hit:6 https://developer.download.nvidia.com/compute/cuda/repos/ubuntu1804/x86_64  Release\n",
            "Hit:7 https://developer.download.nvidia.com/compute/machine-learning/repos/ubuntu1804/x86_64  Release\n",
            "Hit:8 http://archive.ubuntu.com/ubuntu bionic InRelease\n",
            "Get:9 http://archive.ubuntu.com/ubuntu bionic-updates InRelease [88.7 kB]\n",
            "Hit:10 http://ppa.launchpad.net/cran/libgit2/ubuntu bionic InRelease\n",
            "Hit:11 http://ppa.launchpad.net/deadsnakes/ppa/ubuntu bionic InRelease\n",
            "Get:12 http://archive.ubuntu.com/ubuntu bionic-backports InRelease [74.6 kB]\n",
            "Hit:13 http://ppa.launchpad.net/graphics-drivers/ppa/ubuntu bionic InRelease\n",
            "Fetched 252 kB in 2s (105 kB/s)\n",
            "Reading package lists... Done\n"
          ],
          "name": "stdout"
        }
      ]
    },
    {
      "cell_type": "code",
      "metadata": {
        "id": "Chcx1Hb5vNuS",
        "colab": {
          "base_uri": "https://localhost:8080/"
        },
        "outputId": "518989b9-2f17-4925-e6d0-ad7f7c32e24d"
      },
      "source": [
        "# First, enter the following code to download a Postgres driver that will allow Spark to interact with Postgres:\n",
        "!wget https://jdbc.postgresql.org/download/postgresql-42.2.16.jar"
      ],
      "execution_count": null,
      "outputs": [
        {
          "output_type": "stream",
          "text": [
            "--2021-08-19 21:04:13--  https://jdbc.postgresql.org/download/postgresql-42.2.16.jar\n",
            "Resolving jdbc.postgresql.org (jdbc.postgresql.org)... 72.32.157.228, 2001:4800:3e1:1::228\n",
            "Connecting to jdbc.postgresql.org (jdbc.postgresql.org)|72.32.157.228|:443... connected.\n",
            "HTTP request sent, awaiting response... 200 OK\n",
            "Length: 1002883 (979K) [application/java-archive]\n",
            "Saving to: ‘postgresql-42.2.16.jar.2’\n",
            "\n",
            "postgresql-42.2.16. 100%[===================>] 979.38K  --.-KB/s    in 0.1s    \n",
            "\n",
            "2021-08-19 21:04:13 (6.48 MB/s) - ‘postgresql-42.2.16.jar.2’ saved [1002883/1002883]\n",
            "\n"
          ],
          "name": "stdout"
        }
      ]
    },
    {
      "cell_type": "code",
      "metadata": {
        "id": "x1fG3JpHGtlD"
      },
      "source": [
        "from pyspark.sql import SparkSession\n",
        "spark = SparkSession.builder.appName(\"Final_Regression_NeuralNetwork\").config(\"spark.driver.extraClassPath\",\"/content/postgresql-42.2.16.jar\").getOrCreate()"
      ],
      "execution_count": null,
      "outputs": []
    },
    {
      "cell_type": "code",
      "metadata": {
        "id": "L9WRF-EGf86x"
      },
      "source": [
        "# Load in a sql functions\n",
        "# Import our dependencies\n",
        "import numpy as np\n",
        "import pandas as pd\n",
        "import seaborn as sns\n",
        "import tensorflow as tf\n",
        "import matplotlib.pyplot as plt\n",
        "\n",
        "from sklearn.model_selection import train_test_split\n",
        "from sklearn.preprocessing import StandardScaler, OneHotEncoder\n",
        "from pyspark.sql.functions import col, avg, sum, count, rand, randn, to_timestamp, to_date, date_format, sqrt, unix_timestamp, from_unixtime\n",
        "from pathlib import Path\n",
        "from sklearn.linear_model import LinearRegression"
      ],
      "execution_count": null,
      "outputs": []
    },
    {
      "cell_type": "code",
      "metadata": {
        "id": "kbZk5lFRFR6p"
      },
      "source": [
        "# Read in data from S3 Buckets\n",
        "from pyspark import SparkFiles\n",
        "url = \"https://tq2cutebucket.s3.us-west-1.amazonaws.com/final_data.csv\"\n",
        "spark.sparkContext.addFile(url)\n",
        "df = spark.read.option(\"encoding\", \"UTF-8\").csv(SparkFiles.get(\"final_data.csv\"), sep=\",\", header=True, inferSchema=True)"
      ],
      "execution_count": null,
      "outputs": []
    },
    {
      "cell_type": "code",
      "metadata": {
        "id": "BguLxFOQnce6"
      },
      "source": [
        "# Drop null values\n",
        "# This is a safety step in case the data is not perfect\n",
        "df = df.dropDuplicates(['MLS_Number','Street_Address','City','Zip_Code','county','County_Index','SqFtTotal','Lot_Size','BedsTotal','BathsTotal','BathsFull','BathsHalf','Year_Built','List_Price','Sale_Price'])\n",
        "df = df.sort(\"MLS_Number\")"
      ],
      "execution_count": null,
      "outputs": []
    },
    {
      "cell_type": "code",
      "metadata": {
        "id": "VsQLq4dTRh0d"
      },
      "source": [
        "# Process the date column (listing date and sale date)\n",
        "#df.select(to_date(df.Sale_Date, 'MM/dd/yyyy HH:mm').alias('date')).show()\n",
        "\n",
        "df = df.withColumn('Sale_Date',to_date(to_timestamp(col('Sale_Date'), 'M/d/yyyy H:mm')))\n",
        "df = df.withColumn('Listing_Date',to_date(to_timestamp(col('Listing_Date'), 'M/d/yyyy H:mm')))"
      ],
      "execution_count": null,
      "outputs": []
    },
    {
      "cell_type": "code",
      "metadata": {
        "id": "CG1oQPD4SdRR"
      },
      "source": [
        "# Convert data to pandas df\n",
        "data_df=df.select('county','SqFtTotal','Lot_Size','Age','BathsTotal','BedsTotal','BathsFull','BathsHalf','DOM','Year_Sold','List_Price','Sale_Price').toPandas()"
      ],
      "execution_count": null,
      "outputs": []
    },
    {
      "cell_type": "code",
      "metadata": {
        "colab": {
          "base_uri": "https://localhost:8080/"
        },
        "id": "po1cWS6sQTnG",
        "outputId": "b0b5de18-3162-4c51-8aa6-eba4f5d344b9"
      },
      "source": [
        "# Break down county into column of county_county\n",
        "application_cat = data_df.dtypes[data_df.dtypes == \"object\"].index.tolist()\n",
        "data_df[application_cat].nunique()"
      ],
      "execution_count": null,
      "outputs": [
        {
          "output_type": "execute_result",
          "data": {
            "text/plain": [
              "county    46\n",
              "dtype: int64"
            ]
          },
          "metadata": {},
          "execution_count": 158
        }
      ]
    },
    {
      "cell_type": "code",
      "metadata": {
        "colab": {
          "base_uri": "https://localhost:8080/"
        },
        "id": "hfAEi9_UScPG",
        "outputId": "0bc1a07e-e9b2-4548-991a-8a6cfe0190cf"
      },
      "source": [
        "# Look at APPLICATION_TYPE value counts for binning\n",
        "#  YOUR CODE GOES HERE\n",
        "# Check the unique value counts to see if binning is required\n",
        "county_type_counts = data_df.county.value_counts()\n",
        "county_type_counts"
      ],
      "execution_count": null,
      "outputs": [
        {
          "output_type": "execute_result",
          "data": {
            "text/plain": [
              "Los Angeles        701\n",
              "Riverside          412\n",
              "Orange             403\n",
              "San Bernardino     282\n",
              "Sacramento         281\n",
              "San Diego          237\n",
              "Contra Costa       237\n",
              "Santa Clara        208\n",
              "Alameda            181\n",
              "Placer             122\n",
              "San Joaquin        104\n",
              "Stanislaus          94\n",
              "Butte               91\n",
              "San Mateo           79\n",
              "Marin               75\n",
              "San Luis Obispo     75\n",
              "Solano              60\n",
              "Ventura             53\n",
              "Yuba                52\n",
              "El Dorado           49\n",
              "Sonoma              44\n",
              "San Francisco       41\n",
              "Merced              39\n",
              "Monterey            37\n",
              "Santa Cruz          34\n",
              "Yolo                31\n",
              "Sutter              29\n",
              "Nevada              26\n",
              "Madera              18\n",
              "Lake                14\n",
              "Santa Barbara       13\n",
              "Napa                13\n",
              "Kern                12\n",
              "San Benito          11\n",
              "Mendocino           10\n",
              "Amador              10\n",
              "Shasta               9\n",
              "Fresno               9\n",
              "Colusa               8\n",
              "Calaveras            7\n",
              "Glenn                3\n",
              "Tehama               3\n",
              "Tuolumne             3\n",
              "Tulare               2\n",
              "Plumas               2\n",
              "Imperial             1\n",
              "Name: county, dtype: int64"
            ]
          },
          "metadata": {},
          "execution_count": 159
        }
      ]
    },
    {
      "cell_type": "code",
      "metadata": {
        "id": "_xC285QmUJAQ"
      },
      "source": [
        "# Determine which values to replace if counts are less than ...?\n",
        "# Determine which values to replaceapplication_type_counts\n",
        "replace_county = list(county_type_counts[county_type_counts < 10].index)\n",
        "\n",
        "# Replace in dataframe\n",
        "for app in replace_county:\n",
        "    data_df.county = data_df.county.replace(app,\"Other\")\n",
        "    \n",
        "# Check to make sure binning was successful\n",
        "# data_df.county.value_counts()"
      ],
      "execution_count": null,
      "outputs": []
    },
    {
      "cell_type": "code",
      "metadata": {
        "id": "0ZtE1DA1V4cS"
      },
      "source": [
        "from sklearn.preprocessing import StandardScaler,OneHotEncoder\n",
        "# Create a OneHotEncoder instance\n",
        "enc = OneHotEncoder(sparse=False)\n",
        "\n",
        "# Fit and transform the OneHotEncoder using the categorical variable list\n",
        "encode_df = pd.DataFrame(enc.fit_transform(data_df[application_cat]))\n",
        "\n",
        "\n",
        "# Add the encoded variable names to the dataframe\n",
        "encode_df.columns = enc.get_feature_names(application_cat)\n",
        "#encode_df.head()"
      ],
      "execution_count": null,
      "outputs": []
    },
    {
      "cell_type": "code",
      "metadata": {
        "id": "J9fUm4WAawxO"
      },
      "source": [
        "# Merge one-hot encoded features and drop the originals\n",
        "data_df = data_df.merge(encode_df,left_index=True, right_index=True)\n",
        "data_df = data_df.drop(application_cat,1)"
      ],
      "execution_count": null,
      "outputs": []
    },
    {
      "cell_type": "code",
      "metadata": {
        "colab": {
          "base_uri": "https://localhost:8080/",
          "height": 357
        },
        "id": "kuv2gyrAOGox",
        "outputId": "aea54d45-d26e-4170-a4e3-4011f8f84a21"
      },
      "source": [
        "# Perform descriptive analytics\n",
        "# This will take times and RAM resources\n",
        "data_df.describe().transpose().head(10)\n",
        "#data_df.columns"
      ],
      "execution_count": null,
      "outputs": [
        {
          "output_type": "execute_result",
          "data": {
            "text/html": [
              "<div>\n",
              "<style scoped>\n",
              "    .dataframe tbody tr th:only-of-type {\n",
              "        vertical-align: middle;\n",
              "    }\n",
              "\n",
              "    .dataframe tbody tr th {\n",
              "        vertical-align: top;\n",
              "    }\n",
              "\n",
              "    .dataframe thead th {\n",
              "        text-align: right;\n",
              "    }\n",
              "</style>\n",
              "<table border=\"1\" class=\"dataframe\">\n",
              "  <thead>\n",
              "    <tr style=\"text-align: right;\">\n",
              "      <th></th>\n",
              "      <th>count</th>\n",
              "      <th>mean</th>\n",
              "      <th>std</th>\n",
              "      <th>min</th>\n",
              "      <th>25%</th>\n",
              "      <th>50%</th>\n",
              "      <th>75%</th>\n",
              "      <th>max</th>\n",
              "    </tr>\n",
              "  </thead>\n",
              "  <tbody>\n",
              "    <tr>\n",
              "      <th>SqFtTotal</th>\n",
              "      <td>4225.0</td>\n",
              "      <td>2.005063e+03</td>\n",
              "      <td>9.413365e+02</td>\n",
              "      <td>454.0</td>\n",
              "      <td>1368.0</td>\n",
              "      <td>1792.0</td>\n",
              "      <td>2383.0</td>\n",
              "      <td>13300.0</td>\n",
              "    </tr>\n",
              "    <tr>\n",
              "      <th>Lot_Size</th>\n",
              "      <td>4225.0</td>\n",
              "      <td>3.089252e+05</td>\n",
              "      <td>9.476886e+06</td>\n",
              "      <td>864.0</td>\n",
              "      <td>5683.0</td>\n",
              "      <td>7149.0</td>\n",
              "      <td>10063.0</td>\n",
              "      <td>493360560.0</td>\n",
              "    </tr>\n",
              "    <tr>\n",
              "      <th>Age</th>\n",
              "      <td>4225.0</td>\n",
              "      <td>4.465278e+01</td>\n",
              "      <td>2.580530e+01</td>\n",
              "      <td>0.0</td>\n",
              "      <td>23.0</td>\n",
              "      <td>43.0</td>\n",
              "      <td>64.0</td>\n",
              "      <td>138.0</td>\n",
              "    </tr>\n",
              "    <tr>\n",
              "      <th>BathsTotal</th>\n",
              "      <td>4225.0</td>\n",
              "      <td>2.480710e+00</td>\n",
              "      <td>1.010442e+00</td>\n",
              "      <td>0.0</td>\n",
              "      <td>2.0</td>\n",
              "      <td>2.0</td>\n",
              "      <td>3.0</td>\n",
              "      <td>12.0</td>\n",
              "    </tr>\n",
              "    <tr>\n",
              "      <th>BedsTotal</th>\n",
              "      <td>4225.0</td>\n",
              "      <td>3.438817e+00</td>\n",
              "      <td>8.884830e-01</td>\n",
              "      <td>1.0</td>\n",
              "      <td>3.0</td>\n",
              "      <td>3.0</td>\n",
              "      <td>4.0</td>\n",
              "      <td>8.0</td>\n",
              "    </tr>\n",
              "    <tr>\n",
              "      <th>BathsFull</th>\n",
              "      <td>4225.0</td>\n",
              "      <td>2.208757e+00</td>\n",
              "      <td>8.359631e-01</td>\n",
              "      <td>0.0</td>\n",
              "      <td>2.0</td>\n",
              "      <td>2.0</td>\n",
              "      <td>3.0</td>\n",
              "      <td>8.0</td>\n",
              "    </tr>\n",
              "    <tr>\n",
              "      <th>BathsHalf</th>\n",
              "      <td>4225.0</td>\n",
              "      <td>2.719527e-01</td>\n",
              "      <td>4.627524e-01</td>\n",
              "      <td>0.0</td>\n",
              "      <td>0.0</td>\n",
              "      <td>0.0</td>\n",
              "      <td>1.0</td>\n",
              "      <td>4.0</td>\n",
              "    </tr>\n",
              "    <tr>\n",
              "      <th>DOM</th>\n",
              "      <td>4225.0</td>\n",
              "      <td>1.036047e+01</td>\n",
              "      <td>3.052176e+01</td>\n",
              "      <td>0.0</td>\n",
              "      <td>3.0</td>\n",
              "      <td>6.0</td>\n",
              "      <td>9.0</td>\n",
              "      <td>1013.0</td>\n",
              "    </tr>\n",
              "    <tr>\n",
              "      <th>Year_Sold</th>\n",
              "      <td>4225.0</td>\n",
              "      <td>2.020981e+03</td>\n",
              "      <td>1.371441e-01</td>\n",
              "      <td>2020.0</td>\n",
              "      <td>2021.0</td>\n",
              "      <td>2021.0</td>\n",
              "      <td>2021.0</td>\n",
              "      <td>2021.0</td>\n",
              "    </tr>\n",
              "    <tr>\n",
              "      <th>List_Price</th>\n",
              "      <td>4225.0</td>\n",
              "      <td>1.014835e+06</td>\n",
              "      <td>1.119410e+06</td>\n",
              "      <td>76900.0</td>\n",
              "      <td>499000.0</td>\n",
              "      <td>715900.0</td>\n",
              "      <td>1130000.0</td>\n",
              "      <td>24999000.0</td>\n",
              "    </tr>\n",
              "  </tbody>\n",
              "</table>\n",
              "</div>"
            ],
            "text/plain": [
              "             count          mean  ...        75%          max\n",
              "SqFtTotal   4225.0  2.005063e+03  ...     2383.0      13300.0\n",
              "Lot_Size    4225.0  3.089252e+05  ...    10063.0  493360560.0\n",
              "Age         4225.0  4.465278e+01  ...       64.0        138.0\n",
              "BathsTotal  4225.0  2.480710e+00  ...        3.0         12.0\n",
              "BedsTotal   4225.0  3.438817e+00  ...        4.0          8.0\n",
              "BathsFull   4225.0  2.208757e+00  ...        3.0          8.0\n",
              "BathsHalf   4225.0  2.719527e-01  ...        1.0          4.0\n",
              "DOM         4225.0  1.036047e+01  ...        9.0       1013.0\n",
              "Year_Sold   4225.0  2.020981e+03  ...     2021.0       2021.0\n",
              "List_Price  4225.0  1.014835e+06  ...  1130000.0   24999000.0\n",
              "\n",
              "[10 rows x 8 columns]"
            ]
          },
          "metadata": {},
          "execution_count": 163
        }
      ]
    },
    {
      "cell_type": "markdown",
      "metadata": {
        "id": "71bcOUMB57DQ"
      },
      "source": [
        "**INPUT:** need to make some decision here"
      ]
    },
    {
      "cell_type": "code",
      "metadata": {
        "id": "eEM5St_j51xk"
      },
      "source": [
        "# Need to make some decision here, which will affect all the 4 models\n",
        "test_size = 0.05 # due to sample size of 4K thousand samples\n",
        "random_state = 5\n",
        "hidden_nodes_layer1 = 15 # Change this number will affect both NN and NN2 models\n",
        "hidden_nodes_layer2 = 20 # Change this number will affect both NN and NN2 models\n",
        "hidden_nodes_layer3 = 10 # Change this number will affect both NN and NN2 models\n",
        "activation='relu'\n",
        "activation_last='linear'\n",
        "loss_input='mean_absolute_error'\n",
        "optimizer_input='Adam'\n",
        "metrics_input='MSE'\n",
        "size_batch_no = 32\n",
        "epochs_no = 200"
      ],
      "execution_count": null,
      "outputs": []
    },
    {
      "cell_type": "code",
      "metadata": {
        "id": "JBbAJ98y3O0v",
        "colab": {
          "base_uri": "https://localhost:8080/",
          "height": 470
        },
        "outputId": "102e207a-9882-4cef-aee5-7e19d3961cc6"
      },
      "source": [
        "# Chose the variables\n",
        "y = data_df.Sale_Price\n",
        "X = data_df.drop(columns=['Sale_Price']) # Include the Listing Price Here\n",
        "\n",
        "# Split training/test datasets\n",
        "# Regression 1 and Neural Network 1 need X_train, not X2\n",
        "from sklearn.model_selection import train_test_split\n",
        "X_train, X_test, y_train, y_test = train_test_split(X, y, test_size=test_size, random_state=random_state)\n",
        "\n",
        "# Model 2 exclude List_Price amongst the independent variables\n",
        "# Regression 2 and Neural Network 2 \"EXCLUDEs\" the variable \"List_Price\"\n",
        "X2_train = X_train.drop(columns=['List_Price']) # This way, we can be sure that the number of data points for training is the same\n",
        "X2_test = X_test.drop(columns=['List_Price']) # The same, the number of data points for testing is the same as Model 1\n",
        "\n",
        "X2_train"
      ],
      "execution_count": null,
      "outputs": [
        {
          "output_type": "execute_result",
          "data": {
            "text/html": [
              "<div>\n",
              "<style scoped>\n",
              "    .dataframe tbody tr th:only-of-type {\n",
              "        vertical-align: middle;\n",
              "    }\n",
              "\n",
              "    .dataframe tbody tr th {\n",
              "        vertical-align: top;\n",
              "    }\n",
              "\n",
              "    .dataframe thead th {\n",
              "        text-align: right;\n",
              "    }\n",
              "</style>\n",
              "<table border=\"1\" class=\"dataframe\">\n",
              "  <thead>\n",
              "    <tr style=\"text-align: right;\">\n",
              "      <th></th>\n",
              "      <th>SqFtTotal</th>\n",
              "      <th>Lot_Size</th>\n",
              "      <th>Age</th>\n",
              "      <th>BathsTotal</th>\n",
              "      <th>BedsTotal</th>\n",
              "      <th>BathsFull</th>\n",
              "      <th>BathsHalf</th>\n",
              "      <th>DOM</th>\n",
              "      <th>Year_Sold</th>\n",
              "      <th>county_Alameda</th>\n",
              "      <th>county_Amador</th>\n",
              "      <th>county_Butte</th>\n",
              "      <th>county_Contra Costa</th>\n",
              "      <th>county_El Dorado</th>\n",
              "      <th>county_Kern</th>\n",
              "      <th>county_Lake</th>\n",
              "      <th>county_Los Angeles</th>\n",
              "      <th>county_Madera</th>\n",
              "      <th>county_Marin</th>\n",
              "      <th>county_Mendocino</th>\n",
              "      <th>county_Merced</th>\n",
              "      <th>county_Monterey</th>\n",
              "      <th>county_Napa</th>\n",
              "      <th>county_Nevada</th>\n",
              "      <th>county_Orange</th>\n",
              "      <th>county_Other</th>\n",
              "      <th>county_Placer</th>\n",
              "      <th>county_Riverside</th>\n",
              "      <th>county_Sacramento</th>\n",
              "      <th>county_San Benito</th>\n",
              "      <th>county_San Bernardino</th>\n",
              "      <th>county_San Diego</th>\n",
              "      <th>county_San Francisco</th>\n",
              "      <th>county_San Joaquin</th>\n",
              "      <th>county_San Luis Obispo</th>\n",
              "      <th>county_San Mateo</th>\n",
              "      <th>county_Santa Barbara</th>\n",
              "      <th>county_Santa Clara</th>\n",
              "      <th>county_Santa Cruz</th>\n",
              "      <th>county_Solano</th>\n",
              "      <th>county_Sonoma</th>\n",
              "      <th>county_Stanislaus</th>\n",
              "      <th>county_Sutter</th>\n",
              "      <th>county_Ventura</th>\n",
              "      <th>county_Yolo</th>\n",
              "      <th>county_Yuba</th>\n",
              "    </tr>\n",
              "  </thead>\n",
              "  <tbody>\n",
              "    <tr>\n",
              "      <th>3465</th>\n",
              "      <td>1661</td>\n",
              "      <td>5502.0</td>\n",
              "      <td>20</td>\n",
              "      <td>2</td>\n",
              "      <td>4</td>\n",
              "      <td>2</td>\n",
              "      <td>0</td>\n",
              "      <td>6</td>\n",
              "      <td>2021</td>\n",
              "      <td>0.0</td>\n",
              "      <td>0.0</td>\n",
              "      <td>0.0</td>\n",
              "      <td>0.0</td>\n",
              "      <td>0.0</td>\n",
              "      <td>0.0</td>\n",
              "      <td>0.0</td>\n",
              "      <td>0.0</td>\n",
              "      <td>0.0</td>\n",
              "      <td>0.0</td>\n",
              "      <td>0.0</td>\n",
              "      <td>0.0</td>\n",
              "      <td>0.0</td>\n",
              "      <td>0.0</td>\n",
              "      <td>0.0</td>\n",
              "      <td>0.0</td>\n",
              "      <td>0.0</td>\n",
              "      <td>0.0</td>\n",
              "      <td>0.0</td>\n",
              "      <td>0.0</td>\n",
              "      <td>0.0</td>\n",
              "      <td>0.0</td>\n",
              "      <td>0.0</td>\n",
              "      <td>0.0</td>\n",
              "      <td>0.0</td>\n",
              "      <td>0.0</td>\n",
              "      <td>0.0</td>\n",
              "      <td>0.0</td>\n",
              "      <td>0.0</td>\n",
              "      <td>0.0</td>\n",
              "      <td>0.0</td>\n",
              "      <td>0.0</td>\n",
              "      <td>1.0</td>\n",
              "      <td>0.0</td>\n",
              "      <td>0.0</td>\n",
              "      <td>0.0</td>\n",
              "      <td>0.0</td>\n",
              "    </tr>\n",
              "    <tr>\n",
              "      <th>2281</th>\n",
              "      <td>1066</td>\n",
              "      <td>10692.0</td>\n",
              "      <td>57</td>\n",
              "      <td>1</td>\n",
              "      <td>3</td>\n",
              "      <td>1</td>\n",
              "      <td>0</td>\n",
              "      <td>1</td>\n",
              "      <td>2021</td>\n",
              "      <td>0.0</td>\n",
              "      <td>0.0</td>\n",
              "      <td>0.0</td>\n",
              "      <td>0.0</td>\n",
              "      <td>0.0</td>\n",
              "      <td>0.0</td>\n",
              "      <td>0.0</td>\n",
              "      <td>0.0</td>\n",
              "      <td>0.0</td>\n",
              "      <td>0.0</td>\n",
              "      <td>0.0</td>\n",
              "      <td>0.0</td>\n",
              "      <td>0.0</td>\n",
              "      <td>0.0</td>\n",
              "      <td>0.0</td>\n",
              "      <td>0.0</td>\n",
              "      <td>0.0</td>\n",
              "      <td>0.0</td>\n",
              "      <td>0.0</td>\n",
              "      <td>0.0</td>\n",
              "      <td>0.0</td>\n",
              "      <td>1.0</td>\n",
              "      <td>0.0</td>\n",
              "      <td>0.0</td>\n",
              "      <td>0.0</td>\n",
              "      <td>0.0</td>\n",
              "      <td>0.0</td>\n",
              "      <td>0.0</td>\n",
              "      <td>0.0</td>\n",
              "      <td>0.0</td>\n",
              "      <td>0.0</td>\n",
              "      <td>0.0</td>\n",
              "      <td>0.0</td>\n",
              "      <td>0.0</td>\n",
              "      <td>0.0</td>\n",
              "      <td>0.0</td>\n",
              "      <td>0.0</td>\n",
              "    </tr>\n",
              "    <tr>\n",
              "      <th>2019</th>\n",
              "      <td>2002</td>\n",
              "      <td>7500.0</td>\n",
              "      <td>45</td>\n",
              "      <td>2</td>\n",
              "      <td>3</td>\n",
              "      <td>2</td>\n",
              "      <td>0</td>\n",
              "      <td>0</td>\n",
              "      <td>2021</td>\n",
              "      <td>0.0</td>\n",
              "      <td>0.0</td>\n",
              "      <td>0.0</td>\n",
              "      <td>0.0</td>\n",
              "      <td>0.0</td>\n",
              "      <td>0.0</td>\n",
              "      <td>0.0</td>\n",
              "      <td>1.0</td>\n",
              "      <td>0.0</td>\n",
              "      <td>0.0</td>\n",
              "      <td>0.0</td>\n",
              "      <td>0.0</td>\n",
              "      <td>0.0</td>\n",
              "      <td>0.0</td>\n",
              "      <td>0.0</td>\n",
              "      <td>0.0</td>\n",
              "      <td>0.0</td>\n",
              "      <td>0.0</td>\n",
              "      <td>0.0</td>\n",
              "      <td>0.0</td>\n",
              "      <td>0.0</td>\n",
              "      <td>0.0</td>\n",
              "      <td>0.0</td>\n",
              "      <td>0.0</td>\n",
              "      <td>0.0</td>\n",
              "      <td>0.0</td>\n",
              "      <td>0.0</td>\n",
              "      <td>0.0</td>\n",
              "      <td>0.0</td>\n",
              "      <td>0.0</td>\n",
              "      <td>0.0</td>\n",
              "      <td>0.0</td>\n",
              "      <td>0.0</td>\n",
              "      <td>0.0</td>\n",
              "      <td>0.0</td>\n",
              "      <td>0.0</td>\n",
              "      <td>0.0</td>\n",
              "    </tr>\n",
              "    <tr>\n",
              "      <th>3284</th>\n",
              "      <td>1298</td>\n",
              "      <td>5898.0</td>\n",
              "      <td>47</td>\n",
              "      <td>2</td>\n",
              "      <td>3</td>\n",
              "      <td>2</td>\n",
              "      <td>0</td>\n",
              "      <td>20</td>\n",
              "      <td>2021</td>\n",
              "      <td>0.0</td>\n",
              "      <td>0.0</td>\n",
              "      <td>0.0</td>\n",
              "      <td>0.0</td>\n",
              "      <td>0.0</td>\n",
              "      <td>0.0</td>\n",
              "      <td>0.0</td>\n",
              "      <td>0.0</td>\n",
              "      <td>0.0</td>\n",
              "      <td>0.0</td>\n",
              "      <td>0.0</td>\n",
              "      <td>0.0</td>\n",
              "      <td>0.0</td>\n",
              "      <td>0.0</td>\n",
              "      <td>0.0</td>\n",
              "      <td>0.0</td>\n",
              "      <td>0.0</td>\n",
              "      <td>0.0</td>\n",
              "      <td>0.0</td>\n",
              "      <td>1.0</td>\n",
              "      <td>0.0</td>\n",
              "      <td>0.0</td>\n",
              "      <td>0.0</td>\n",
              "      <td>0.0</td>\n",
              "      <td>0.0</td>\n",
              "      <td>0.0</td>\n",
              "      <td>0.0</td>\n",
              "      <td>0.0</td>\n",
              "      <td>0.0</td>\n",
              "      <td>0.0</td>\n",
              "      <td>0.0</td>\n",
              "      <td>0.0</td>\n",
              "      <td>0.0</td>\n",
              "      <td>0.0</td>\n",
              "      <td>0.0</td>\n",
              "      <td>0.0</td>\n",
              "      <td>0.0</td>\n",
              "    </tr>\n",
              "    <tr>\n",
              "      <th>2550</th>\n",
              "      <td>1317</td>\n",
              "      <td>4792.0</td>\n",
              "      <td>26</td>\n",
              "      <td>2</td>\n",
              "      <td>3</td>\n",
              "      <td>2</td>\n",
              "      <td>0</td>\n",
              "      <td>4</td>\n",
              "      <td>2021</td>\n",
              "      <td>0.0</td>\n",
              "      <td>0.0</td>\n",
              "      <td>0.0</td>\n",
              "      <td>0.0</td>\n",
              "      <td>0.0</td>\n",
              "      <td>0.0</td>\n",
              "      <td>0.0</td>\n",
              "      <td>0.0</td>\n",
              "      <td>0.0</td>\n",
              "      <td>0.0</td>\n",
              "      <td>0.0</td>\n",
              "      <td>0.0</td>\n",
              "      <td>0.0</td>\n",
              "      <td>0.0</td>\n",
              "      <td>0.0</td>\n",
              "      <td>0.0</td>\n",
              "      <td>0.0</td>\n",
              "      <td>0.0</td>\n",
              "      <td>1.0</td>\n",
              "      <td>0.0</td>\n",
              "      <td>0.0</td>\n",
              "      <td>0.0</td>\n",
              "      <td>0.0</td>\n",
              "      <td>0.0</td>\n",
              "      <td>0.0</td>\n",
              "      <td>0.0</td>\n",
              "      <td>0.0</td>\n",
              "      <td>0.0</td>\n",
              "      <td>0.0</td>\n",
              "      <td>0.0</td>\n",
              "      <td>0.0</td>\n",
              "      <td>0.0</td>\n",
              "      <td>0.0</td>\n",
              "      <td>0.0</td>\n",
              "      <td>0.0</td>\n",
              "      <td>0.0</td>\n",
              "      <td>0.0</td>\n",
              "    </tr>\n",
              "    <tr>\n",
              "      <th>...</th>\n",
              "      <td>...</td>\n",
              "      <td>...</td>\n",
              "      <td>...</td>\n",
              "      <td>...</td>\n",
              "      <td>...</td>\n",
              "      <td>...</td>\n",
              "      <td>...</td>\n",
              "      <td>...</td>\n",
              "      <td>...</td>\n",
              "      <td>...</td>\n",
              "      <td>...</td>\n",
              "      <td>...</td>\n",
              "      <td>...</td>\n",
              "      <td>...</td>\n",
              "      <td>...</td>\n",
              "      <td>...</td>\n",
              "      <td>...</td>\n",
              "      <td>...</td>\n",
              "      <td>...</td>\n",
              "      <td>...</td>\n",
              "      <td>...</td>\n",
              "      <td>...</td>\n",
              "      <td>...</td>\n",
              "      <td>...</td>\n",
              "      <td>...</td>\n",
              "      <td>...</td>\n",
              "      <td>...</td>\n",
              "      <td>...</td>\n",
              "      <td>...</td>\n",
              "      <td>...</td>\n",
              "      <td>...</td>\n",
              "      <td>...</td>\n",
              "      <td>...</td>\n",
              "      <td>...</td>\n",
              "      <td>...</td>\n",
              "      <td>...</td>\n",
              "      <td>...</td>\n",
              "      <td>...</td>\n",
              "      <td>...</td>\n",
              "      <td>...</td>\n",
              "      <td>...</td>\n",
              "      <td>...</td>\n",
              "      <td>...</td>\n",
              "      <td>...</td>\n",
              "      <td>...</td>\n",
              "      <td>...</td>\n",
              "    </tr>\n",
              "    <tr>\n",
              "      <th>3046</th>\n",
              "      <td>2635</td>\n",
              "      <td>11108.0</td>\n",
              "      <td>16</td>\n",
              "      <td>3</td>\n",
              "      <td>2</td>\n",
              "      <td>2</td>\n",
              "      <td>1</td>\n",
              "      <td>8</td>\n",
              "      <td>2021</td>\n",
              "      <td>0.0</td>\n",
              "      <td>0.0</td>\n",
              "      <td>0.0</td>\n",
              "      <td>0.0</td>\n",
              "      <td>0.0</td>\n",
              "      <td>0.0</td>\n",
              "      <td>0.0</td>\n",
              "      <td>0.0</td>\n",
              "      <td>0.0</td>\n",
              "      <td>0.0</td>\n",
              "      <td>0.0</td>\n",
              "      <td>0.0</td>\n",
              "      <td>0.0</td>\n",
              "      <td>0.0</td>\n",
              "      <td>0.0</td>\n",
              "      <td>0.0</td>\n",
              "      <td>0.0</td>\n",
              "      <td>1.0</td>\n",
              "      <td>0.0</td>\n",
              "      <td>0.0</td>\n",
              "      <td>0.0</td>\n",
              "      <td>0.0</td>\n",
              "      <td>0.0</td>\n",
              "      <td>0.0</td>\n",
              "      <td>0.0</td>\n",
              "      <td>0.0</td>\n",
              "      <td>0.0</td>\n",
              "      <td>0.0</td>\n",
              "      <td>0.0</td>\n",
              "      <td>0.0</td>\n",
              "      <td>0.0</td>\n",
              "      <td>0.0</td>\n",
              "      <td>0.0</td>\n",
              "      <td>0.0</td>\n",
              "      <td>0.0</td>\n",
              "      <td>0.0</td>\n",
              "      <td>0.0</td>\n",
              "    </tr>\n",
              "    <tr>\n",
              "      <th>1725</th>\n",
              "      <td>1954</td>\n",
              "      <td>7344.0</td>\n",
              "      <td>57</td>\n",
              "      <td>2</td>\n",
              "      <td>4</td>\n",
              "      <td>2</td>\n",
              "      <td>0</td>\n",
              "      <td>15</td>\n",
              "      <td>2021</td>\n",
              "      <td>0.0</td>\n",
              "      <td>0.0</td>\n",
              "      <td>0.0</td>\n",
              "      <td>0.0</td>\n",
              "      <td>0.0</td>\n",
              "      <td>0.0</td>\n",
              "      <td>0.0</td>\n",
              "      <td>0.0</td>\n",
              "      <td>0.0</td>\n",
              "      <td>0.0</td>\n",
              "      <td>0.0</td>\n",
              "      <td>0.0</td>\n",
              "      <td>0.0</td>\n",
              "      <td>0.0</td>\n",
              "      <td>0.0</td>\n",
              "      <td>1.0</td>\n",
              "      <td>0.0</td>\n",
              "      <td>0.0</td>\n",
              "      <td>0.0</td>\n",
              "      <td>0.0</td>\n",
              "      <td>0.0</td>\n",
              "      <td>0.0</td>\n",
              "      <td>0.0</td>\n",
              "      <td>0.0</td>\n",
              "      <td>0.0</td>\n",
              "      <td>0.0</td>\n",
              "      <td>0.0</td>\n",
              "      <td>0.0</td>\n",
              "      <td>0.0</td>\n",
              "      <td>0.0</td>\n",
              "      <td>0.0</td>\n",
              "      <td>0.0</td>\n",
              "      <td>0.0</td>\n",
              "      <td>0.0</td>\n",
              "      <td>0.0</td>\n",
              "      <td>0.0</td>\n",
              "      <td>0.0</td>\n",
              "    </tr>\n",
              "    <tr>\n",
              "      <th>4079</th>\n",
              "      <td>3240</td>\n",
              "      <td>2750.0</td>\n",
              "      <td>123</td>\n",
              "      <td>4</td>\n",
              "      <td>5</td>\n",
              "      <td>4</td>\n",
              "      <td>0</td>\n",
              "      <td>0</td>\n",
              "      <td>2021</td>\n",
              "      <td>0.0</td>\n",
              "      <td>0.0</td>\n",
              "      <td>0.0</td>\n",
              "      <td>0.0</td>\n",
              "      <td>0.0</td>\n",
              "      <td>0.0</td>\n",
              "      <td>0.0</td>\n",
              "      <td>0.0</td>\n",
              "      <td>0.0</td>\n",
              "      <td>0.0</td>\n",
              "      <td>0.0</td>\n",
              "      <td>0.0</td>\n",
              "      <td>0.0</td>\n",
              "      <td>0.0</td>\n",
              "      <td>0.0</td>\n",
              "      <td>0.0</td>\n",
              "      <td>0.0</td>\n",
              "      <td>0.0</td>\n",
              "      <td>0.0</td>\n",
              "      <td>0.0</td>\n",
              "      <td>0.0</td>\n",
              "      <td>0.0</td>\n",
              "      <td>0.0</td>\n",
              "      <td>1.0</td>\n",
              "      <td>0.0</td>\n",
              "      <td>0.0</td>\n",
              "      <td>0.0</td>\n",
              "      <td>0.0</td>\n",
              "      <td>0.0</td>\n",
              "      <td>0.0</td>\n",
              "      <td>0.0</td>\n",
              "      <td>0.0</td>\n",
              "      <td>0.0</td>\n",
              "      <td>0.0</td>\n",
              "      <td>0.0</td>\n",
              "      <td>0.0</td>\n",
              "      <td>0.0</td>\n",
              "    </tr>\n",
              "    <tr>\n",
              "      <th>2254</th>\n",
              "      <td>2082</td>\n",
              "      <td>6930.0</td>\n",
              "      <td>66</td>\n",
              "      <td>1</td>\n",
              "      <td>4</td>\n",
              "      <td>1</td>\n",
              "      <td>0</td>\n",
              "      <td>2</td>\n",
              "      <td>2021</td>\n",
              "      <td>0.0</td>\n",
              "      <td>0.0</td>\n",
              "      <td>0.0</td>\n",
              "      <td>0.0</td>\n",
              "      <td>0.0</td>\n",
              "      <td>0.0</td>\n",
              "      <td>0.0</td>\n",
              "      <td>0.0</td>\n",
              "      <td>0.0</td>\n",
              "      <td>0.0</td>\n",
              "      <td>0.0</td>\n",
              "      <td>0.0</td>\n",
              "      <td>0.0</td>\n",
              "      <td>0.0</td>\n",
              "      <td>0.0</td>\n",
              "      <td>1.0</td>\n",
              "      <td>0.0</td>\n",
              "      <td>0.0</td>\n",
              "      <td>0.0</td>\n",
              "      <td>0.0</td>\n",
              "      <td>0.0</td>\n",
              "      <td>0.0</td>\n",
              "      <td>0.0</td>\n",
              "      <td>0.0</td>\n",
              "      <td>0.0</td>\n",
              "      <td>0.0</td>\n",
              "      <td>0.0</td>\n",
              "      <td>0.0</td>\n",
              "      <td>0.0</td>\n",
              "      <td>0.0</td>\n",
              "      <td>0.0</td>\n",
              "      <td>0.0</td>\n",
              "      <td>0.0</td>\n",
              "      <td>0.0</td>\n",
              "      <td>0.0</td>\n",
              "      <td>0.0</td>\n",
              "      <td>0.0</td>\n",
              "    </tr>\n",
              "    <tr>\n",
              "      <th>2915</th>\n",
              "      <td>1600</td>\n",
              "      <td>4500.0</td>\n",
              "      <td>23</td>\n",
              "      <td>2</td>\n",
              "      <td>3</td>\n",
              "      <td>2</td>\n",
              "      <td>0</td>\n",
              "      <td>6</td>\n",
              "      <td>2021</td>\n",
              "      <td>0.0</td>\n",
              "      <td>0.0</td>\n",
              "      <td>0.0</td>\n",
              "      <td>0.0</td>\n",
              "      <td>0.0</td>\n",
              "      <td>0.0</td>\n",
              "      <td>0.0</td>\n",
              "      <td>0.0</td>\n",
              "      <td>0.0</td>\n",
              "      <td>0.0</td>\n",
              "      <td>0.0</td>\n",
              "      <td>0.0</td>\n",
              "      <td>0.0</td>\n",
              "      <td>0.0</td>\n",
              "      <td>0.0</td>\n",
              "      <td>0.0</td>\n",
              "      <td>0.0</td>\n",
              "      <td>0.0</td>\n",
              "      <td>0.0</td>\n",
              "      <td>1.0</td>\n",
              "      <td>0.0</td>\n",
              "      <td>0.0</td>\n",
              "      <td>0.0</td>\n",
              "      <td>0.0</td>\n",
              "      <td>0.0</td>\n",
              "      <td>0.0</td>\n",
              "      <td>0.0</td>\n",
              "      <td>0.0</td>\n",
              "      <td>0.0</td>\n",
              "      <td>0.0</td>\n",
              "      <td>0.0</td>\n",
              "      <td>0.0</td>\n",
              "      <td>0.0</td>\n",
              "      <td>0.0</td>\n",
              "      <td>0.0</td>\n",
              "      <td>0.0</td>\n",
              "      <td>0.0</td>\n",
              "    </tr>\n",
              "  </tbody>\n",
              "</table>\n",
              "<p>4013 rows × 46 columns</p>\n",
              "</div>"
            ],
            "text/plain": [
              "      SqFtTotal  Lot_Size  Age  ...  county_Ventura  county_Yolo  county_Yuba\n",
              "3465       1661    5502.0   20  ...             0.0          0.0          0.0\n",
              "2281       1066   10692.0   57  ...             0.0          0.0          0.0\n",
              "2019       2002    7500.0   45  ...             0.0          0.0          0.0\n",
              "3284       1298    5898.0   47  ...             0.0          0.0          0.0\n",
              "2550       1317    4792.0   26  ...             0.0          0.0          0.0\n",
              "...         ...       ...  ...  ...             ...          ...          ...\n",
              "3046       2635   11108.0   16  ...             0.0          0.0          0.0\n",
              "1725       1954    7344.0   57  ...             0.0          0.0          0.0\n",
              "4079       3240    2750.0  123  ...             0.0          0.0          0.0\n",
              "2254       2082    6930.0   66  ...             0.0          0.0          0.0\n",
              "2915       1600    4500.0   23  ...             0.0          0.0          0.0\n",
              "\n",
              "[4013 rows x 46 columns]"
            ]
          },
          "metadata": {},
          "execution_count": 165
        }
      ]
    },
    {
      "cell_type": "markdown",
      "metadata": {
        "id": "PfRKI3rii-Qe"
      },
      "source": [
        "**MODEL 1:** **REGRESSION with \"List_Price\"**"
      ]
    },
    {
      "cell_type": "code",
      "metadata": {
        "id": "MoAa5O7T-38e"
      },
      "source": [
        "# Fit ML Regression to a trainingg set\n",
        "# Forcing intercept to be zero\n",
        "from sklearn.linear_model import LinearRegression\n",
        "regression = LinearRegression(fit_intercept=False) # False = no-intercept\n",
        "regression.fit(X_train, y_train)\n",
        "\n",
        "# Predicting the test result\n",
        "y1_pred = regression.predict(X_test)\n",
        "\n",
        "# https://scikit-learn.org/stable/modules/generated/sklearn.linear_model.LinearRegression.html\n",
        "# LinearRegression(copy_X=True, fit_intercept=False, n_jobs=None, normalize=False)"
      ],
      "execution_count": null,
      "outputs": []
    },
    {
      "cell_type": "code",
      "metadata": {
        "id": "HpXUUU9NJBgL",
        "colab": {
          "base_uri": "https://localhost:8080/"
        },
        "outputId": "4a190e66-996f-4198-f5fc-e1e19707604a"
      },
      "source": [
        "# Print out the interceptor\n",
        "# Expect intercept is zero\n",
        "print(\"Intercept: \" + str(regression.intercept_))"
      ],
      "execution_count": null,
      "outputs": [
        {
          "output_type": "stream",
          "text": [
            "Intercept: 0.0\n"
          ],
          "name": "stdout"
        }
      ]
    },
    {
      "cell_type": "code",
      "metadata": {
        "colab": {
          "base_uri": "https://localhost:8080/",
          "height": 357
        },
        "id": "3-DBzdS7dsY3",
        "outputId": "b167f59a-e1a5-4573-919b-2c7f1ce754a5"
      },
      "source": [
        "#put results as a DataFrame\n",
        "coef_df = pd.DataFrame(regression.coef_, X_train.columns, columns=['Coefficient'])\n",
        "coef_df['Coefficient'] = coef_df['Coefficient'].map('{:,.5f}'.format)\n",
        "coef_df.head(10)"
      ],
      "execution_count": null,
      "outputs": [
        {
          "output_type": "execute_result",
          "data": {
            "text/html": [
              "<div>\n",
              "<style scoped>\n",
              "    .dataframe tbody tr th:only-of-type {\n",
              "        vertical-align: middle;\n",
              "    }\n",
              "\n",
              "    .dataframe tbody tr th {\n",
              "        vertical-align: top;\n",
              "    }\n",
              "\n",
              "    .dataframe thead th {\n",
              "        text-align: right;\n",
              "    }\n",
              "</style>\n",
              "<table border=\"1\" class=\"dataframe\">\n",
              "  <thead>\n",
              "    <tr style=\"text-align: right;\">\n",
              "      <th></th>\n",
              "      <th>Coefficient</th>\n",
              "    </tr>\n",
              "  </thead>\n",
              "  <tbody>\n",
              "    <tr>\n",
              "      <th>SqFtTotal</th>\n",
              "      <td>7.05846</td>\n",
              "    </tr>\n",
              "    <tr>\n",
              "      <th>Lot_Size</th>\n",
              "      <td>-0.00004</td>\n",
              "    </tr>\n",
              "    <tr>\n",
              "      <th>Age</th>\n",
              "      <td>237.80992</td>\n",
              "    </tr>\n",
              "    <tr>\n",
              "      <th>BathsTotal</th>\n",
              "      <td>-6,615.07688</td>\n",
              "    </tr>\n",
              "    <tr>\n",
              "      <th>BedsTotal</th>\n",
              "      <td>4,338.21438</td>\n",
              "    </tr>\n",
              "    <tr>\n",
              "      <th>BathsFull</th>\n",
              "      <td>-1,794.02309</td>\n",
              "    </tr>\n",
              "    <tr>\n",
              "      <th>BathsHalf</th>\n",
              "      <td>-4,821.05354</td>\n",
              "    </tr>\n",
              "    <tr>\n",
              "      <th>DOM</th>\n",
              "      <td>-20.42945</td>\n",
              "    </tr>\n",
              "    <tr>\n",
              "      <th>Year_Sold</th>\n",
              "      <td>14,287.70729</td>\n",
              "    </tr>\n",
              "    <tr>\n",
              "      <th>List_Price</th>\n",
              "      <td>1.01986</td>\n",
              "    </tr>\n",
              "  </tbody>\n",
              "</table>\n",
              "</div>"
            ],
            "text/plain": [
              "             Coefficient\n",
              "SqFtTotal        7.05846\n",
              "Lot_Size        -0.00004\n",
              "Age            237.80992\n",
              "BathsTotal  -6,615.07688\n",
              "BedsTotal    4,338.21438\n",
              "BathsFull   -1,794.02309\n",
              "BathsHalf   -4,821.05354\n",
              "DOM            -20.42945\n",
              "Year_Sold   14,287.70729\n",
              "List_Price       1.01986"
            ]
          },
          "metadata": {},
          "execution_count": 168
        }
      ]
    },
    {
      "cell_type": "code",
      "metadata": {
        "colab": {
          "base_uri": "https://localhost:8080/"
        },
        "id": "EStisQ_uhzcw",
        "outputId": "38221b5f-7dbb-46e3-dc45-7f6159afba92"
      },
      "source": [
        "# evaluate the performance of the algorithm (MAE - MSE - RMSE)\n",
        "from sklearn import metrics\n",
        "from sklearn.metrics import r2_score\n",
        "print('Model 1: Regression with List_Price')\n",
        "#print('Mean Absolute Error (MAE):', metrics.mean_absolute_error(y_test, y1_pred))  \n",
        "#print('Mean Squared Error (MSE):', metrics.mean_squared_error(y_test, y1_pred))  \n",
        "print('Root Mean Squared Error (RMSE):', np.sqrt(metrics.mean_squared_error(y_test, y1_pred)))\n",
        "print('Variance -- VarScore:', metrics.explained_variance_score(y_test,y1_pred))\n",
        "print(\"R squared(R2):\", metrics.r2_score(y_test, y1_pred))"
      ],
      "execution_count": null,
      "outputs": [
        {
          "output_type": "stream",
          "text": [
            "Model 1: Regression with List_Price\n",
            "Root Mean Squared Error (RMSE): 316639.1125205762\n",
            "Variance -- VarScore: 0.9606342819218879\n",
            "R squared(R2): 0.9605332854433306\n"
          ],
          "name": "stdout"
        }
      ]
    },
    {
      "cell_type": "code",
      "metadata": {
        "colab": {
          "base_uri": "https://localhost:8080/",
          "height": 357
        },
        "id": "Y_UaOkJ51YBe",
        "outputId": "dd7f9b2f-8e3e-4c2e-efaf-1582be5ab3bf"
      },
      "source": [
        "#df = create a df of Sales_Price and Prediction values\n",
        "result1_df = pd.DataFrame({\"Sale_Price\": [x for x in y_test], \"Predict_Reg_1\": [x for x in y1_pred]})\n",
        "result1_df['Predict_Reg_1'] = result1_df['Predict_Reg_1'].map('{:,.2f}'.format)\n",
        "result1_df.head(10)"
      ],
      "execution_count": null,
      "outputs": [
        {
          "output_type": "execute_result",
          "data": {
            "text/html": [
              "<div>\n",
              "<style scoped>\n",
              "    .dataframe tbody tr th:only-of-type {\n",
              "        vertical-align: middle;\n",
              "    }\n",
              "\n",
              "    .dataframe tbody tr th {\n",
              "        vertical-align: top;\n",
              "    }\n",
              "\n",
              "    .dataframe thead th {\n",
              "        text-align: right;\n",
              "    }\n",
              "</style>\n",
              "<table border=\"1\" class=\"dataframe\">\n",
              "  <thead>\n",
              "    <tr style=\"text-align: right;\">\n",
              "      <th></th>\n",
              "      <th>Sale_Price</th>\n",
              "      <th>Predict_Reg_1</th>\n",
              "    </tr>\n",
              "  </thead>\n",
              "  <tbody>\n",
              "    <tr>\n",
              "      <th>0</th>\n",
              "      <td>1005000</td>\n",
              "      <td>913,281.32</td>\n",
              "    </tr>\n",
              "    <tr>\n",
              "      <th>1</th>\n",
              "      <td>1175000</td>\n",
              "      <td>1,219,022.44</td>\n",
              "    </tr>\n",
              "    <tr>\n",
              "      <th>2</th>\n",
              "      <td>565000</td>\n",
              "      <td>587,771.36</td>\n",
              "    </tr>\n",
              "    <tr>\n",
              "      <th>3</th>\n",
              "      <td>950000</td>\n",
              "      <td>959,388.14</td>\n",
              "    </tr>\n",
              "    <tr>\n",
              "      <th>4</th>\n",
              "      <td>625000</td>\n",
              "      <td>608,544.68</td>\n",
              "    </tr>\n",
              "    <tr>\n",
              "      <th>5</th>\n",
              "      <td>1925000</td>\n",
              "      <td>1,872,278.90</td>\n",
              "    </tr>\n",
              "    <tr>\n",
              "      <th>6</th>\n",
              "      <td>21150000</td>\n",
              "      <td>25,521,630.17</td>\n",
              "    </tr>\n",
              "    <tr>\n",
              "      <th>7</th>\n",
              "      <td>2000000</td>\n",
              "      <td>1,830,298.75</td>\n",
              "    </tr>\n",
              "    <tr>\n",
              "      <th>8</th>\n",
              "      <td>341000</td>\n",
              "      <td>321,158.59</td>\n",
              "    </tr>\n",
              "    <tr>\n",
              "      <th>9</th>\n",
              "      <td>1450000</td>\n",
              "      <td>1,469,391.98</td>\n",
              "    </tr>\n",
              "  </tbody>\n",
              "</table>\n",
              "</div>"
            ],
            "text/plain": [
              "   Sale_Price  Predict_Reg_1\n",
              "0     1005000     913,281.32\n",
              "1     1175000   1,219,022.44\n",
              "2      565000     587,771.36\n",
              "3      950000     959,388.14\n",
              "4      625000     608,544.68\n",
              "5     1925000   1,872,278.90\n",
              "6    21150000  25,521,630.17\n",
              "7     2000000   1,830,298.75\n",
              "8      341000     321,158.59\n",
              "9     1450000   1,469,391.98"
            ]
          },
          "metadata": {},
          "execution_count": 170
        }
      ]
    },
    {
      "cell_type": "code",
      "metadata": {
        "colab": {
          "base_uri": "https://localhost:8080/",
          "height": 352
        },
        "id": "CtUryTDUjt0t",
        "outputId": "fc190896-66f6-4252-9079-3d6e5618d0a0"
      },
      "source": [
        "# visualizing residuals\n",
        "fig = plt.figure(figsize=(10,5))\n",
        "residuals = (y_test - y1_pred)\n",
        "sns.histplot(residuals)"
      ],
      "execution_count": null,
      "outputs": [
        {
          "output_type": "execute_result",
          "data": {
            "text/plain": [
              "<matplotlib.axes._subplots.AxesSubplot at 0x7f90f1d802d0>"
            ]
          },
          "metadata": {},
          "execution_count": 171
        },
        {
          "output_type": "display_data",
          "data": {
            "image/png": "[encoded data removed]",
            "text/plain": [
              "<Figure size 720x360 with 1 Axes>"
            ]
          },
          "metadata": {
            "needs_background": "light"
          }
        }
      ]
    },
    {
      "cell_type": "code",
      "metadata": {
        "id": "e1K3xZFIHdJW",
        "colab": {
          "base_uri": "https://localhost:8080/",
          "height": 350
        },
        "outputId": "681dbb03-3ab3-41a1-cd9e-311fec1275e5"
      },
      "source": [
        "import matplotlib.pyplot as plt\n",
        "plt.figure(figsize=(10,5))\n",
        "plt.plot(np.array(y1_pred))\n",
        "plt.plot(np.array(y_test))\n",
        "plt.title('Model 1: Regression with List_Price')\n",
        "plt.ylabel('Price')\n",
        "plt.xlabel('No. of Samples')\n",
        "plt.legend(['Predict Reg 1', 'Sale_Price'], loc='upper right')\n",
        "plt.show()"
      ],
      "execution_count": null,
      "outputs": [
        {
          "output_type": "display_data",
          "data": {
            "image/png": "[encoded data removed]",
            "text/plain": [
              "<Figure size 720x360 with 1 Axes>"
            ]
          },
          "metadata": {
            "needs_background": "light"
          }
        }
      ]
    },
    {
      "cell_type": "markdown",
      "metadata": {
        "id": "qblGLMT9kgdL"
      },
      "source": [
        "**MODEL 2:** **REGRESSION** without **List_Price**"
      ]
    },
    {
      "cell_type": "code",
      "metadata": {
        "colab": {
          "base_uri": "https://localhost:8080/"
        },
        "id": "PzP4y966Lvix",
        "outputId": "367505b6-4fb4-459e-f74a-bc3f0aadaa28"
      },
      "source": [
        "# Need to keep it here to remind what the the testing and traing features\n",
        "print(X2_train.shape, X2_test.shape, y_train.shape, y_test.shape)"
      ],
      "execution_count": null,
      "outputs": [
        {
          "output_type": "stream",
          "text": [
            "(4013, 46) (212, 46) (4013,) (212,)\n"
          ],
          "name": "stdout"
        }
      ]
    },
    {
      "cell_type": "code",
      "metadata": {
        "id": "TQtERu_fkdJC"
      },
      "source": [
        "# Fit ML Regression to a training set\n",
        "# Forcing intercept to be zero\n",
        "from sklearn.linear_model import LinearRegression\n",
        "regression2 = LinearRegression(fit_intercept=False) # False = no-intercept\n",
        "regression2.fit(X2_train, y_train)\n",
        "\n",
        "# Predicting the test result\n",
        "y2_pred = regression2.predict(X2_test) # <= X has no List_Price"
      ],
      "execution_count": null,
      "outputs": []
    },
    {
      "cell_type": "code",
      "metadata": {
        "colab": {
          "base_uri": "https://localhost:8080/",
          "height": 357
        },
        "id": "VpVrNVp6H__u",
        "outputId": "0c736be1-ab2e-4fad-a50e-b5334f21e52b"
      },
      "source": [
        "#save Coefficent values as a DataFrame\n",
        "coef2_df = pd.DataFrame(regression2.coef_, X2_train.columns, columns=['Coefficient'])\n",
        "coef2_df['Coefficient'] = coef2_df['Coefficient'].map('{:,.5f}'.format)\n",
        "coef2_df.head(10)"
      ],
      "execution_count": null,
      "outputs": [
        {
          "output_type": "execute_result",
          "data": {
            "text/html": [
              "<div>\n",
              "<style scoped>\n",
              "    .dataframe tbody tr th:only-of-type {\n",
              "        vertical-align: middle;\n",
              "    }\n",
              "\n",
              "    .dataframe tbody tr th {\n",
              "        vertical-align: top;\n",
              "    }\n",
              "\n",
              "    .dataframe thead th {\n",
              "        text-align: right;\n",
              "    }\n",
              "</style>\n",
              "<table border=\"1\" class=\"dataframe\">\n",
              "  <thead>\n",
              "    <tr style=\"text-align: right;\">\n",
              "      <th></th>\n",
              "      <th>Coefficient</th>\n",
              "    </tr>\n",
              "  </thead>\n",
              "  <tbody>\n",
              "    <tr>\n",
              "      <th>SqFtTotal</th>\n",
              "      <td>879.53279</td>\n",
              "    </tr>\n",
              "    <tr>\n",
              "      <th>Lot_Size</th>\n",
              "      <td>-0.00069</td>\n",
              "    </tr>\n",
              "    <tr>\n",
              "      <th>Age</th>\n",
              "      <td>6,500.96247</td>\n",
              "    </tr>\n",
              "    <tr>\n",
              "      <th>BathsTotal</th>\n",
              "      <td>36,268.40595</td>\n",
              "    </tr>\n",
              "    <tr>\n",
              "      <th>BedsTotal</th>\n",
              "      <td>-187,635.94393</td>\n",
              "    </tr>\n",
              "    <tr>\n",
              "      <th>BathsFull</th>\n",
              "      <td>-45,284.97722</td>\n",
              "    </tr>\n",
              "    <tr>\n",
              "      <th>BathsHalf</th>\n",
              "      <td>81,541.31618</td>\n",
              "    </tr>\n",
              "    <tr>\n",
              "      <th>DOM</th>\n",
              "      <td>-418.30383</td>\n",
              "    </tr>\n",
              "    <tr>\n",
              "      <th>Year_Sold</th>\n",
              "      <td>47,083.74609</td>\n",
              "    </tr>\n",
              "    <tr>\n",
              "      <th>county_Alameda</th>\n",
              "      <td>-95,141,812.41179</td>\n",
              "    </tr>\n",
              "  </tbody>\n",
              "</table>\n",
              "</div>"
            ],
            "text/plain": [
              "                      Coefficient\n",
              "SqFtTotal               879.53279\n",
              "Lot_Size                 -0.00069\n",
              "Age                   6,500.96247\n",
              "BathsTotal           36,268.40595\n",
              "BedsTotal          -187,635.94393\n",
              "BathsFull           -45,284.97722\n",
              "BathsHalf            81,541.31618\n",
              "DOM                    -418.30383\n",
              "Year_Sold            47,083.74609\n",
              "county_Alameda  -95,141,812.41179"
            ]
          },
          "metadata": {},
          "execution_count": 175
        }
      ]
    },
    {
      "cell_type": "markdown",
      "metadata": {
        "id": "MmkpmZF6lVFx"
      },
      "source": [
        "**r2_score:** It drops significantly"
      ]
    },
    {
      "cell_type": "code",
      "metadata": {
        "colab": {
          "base_uri": "https://localhost:8080/"
        },
        "id": "MMsHCCTmkdZ5",
        "outputId": "dea220d2-38a2-4f40-d714-b46721774a26"
      },
      "source": [
        "# evaluate the performance of the algorithm (MAE - MSE - RMSE)\n",
        "from sklearn import metrics\n",
        "from sklearn.metrics import r2_score\n",
        "print('Model 2: Regression without List_Price')\n",
        "#print('Mean Absolute Error (MAE):', metrics.mean_absolute_error(y_test, y2_pred))  \n",
        "#print('Mean Squared Error (MSE):', metrics.mean_squared_error(y_test, y2_pred))  \n",
        "print('Root Mean Squared Error (RMSE):', np.sqrt(metrics.mean_squared_error(y_test, y2_pred)))\n",
        "print('Variance -- VarScore:', metrics.explained_variance_score(y_test,y2_pred))\n",
        "print(\"R squared(R2):\", metrics.r2_score(y_test, y2_pred))"
      ],
      "execution_count": null,
      "outputs": [
        {
          "output_type": "stream",
          "text": [
            "Model 2: Regression without List_Price\n",
            "Root Mean Squared Error (RMSE): 912523.6454568175\n",
            "Variance -- VarScore: 0.6723058986678696\n",
            "R squared(R2): 0.6722142200798393\n"
          ],
          "name": "stdout"
        }
      ]
    },
    {
      "cell_type": "code",
      "metadata": {
        "colab": {
          "base_uri": "https://localhost:8080/",
          "height": 357
        },
        "id": "0oCgHMX50Jgn",
        "outputId": "e3f60fae-5e58-41a8-99f2-a855c8048658"
      },
      "source": [
        "#df = create a df of Sales_Price and Prediction values\n",
        "result2_df = pd.DataFrame({\"Sale_Price\": [x for x in y_test], \"Predict_Reg_2\": [x for x in y2_pred]})\n",
        "result2_df['Predict_Reg_2'] = result2_df['Predict_Reg_2'].map('{:,.2f}'.format)\n",
        "result2_df.head(10)"
      ],
      "execution_count": null,
      "outputs": [
        {
          "output_type": "execute_result",
          "data": {
            "text/html": [
              "<div>\n",
              "<style scoped>\n",
              "    .dataframe tbody tr th:only-of-type {\n",
              "        vertical-align: middle;\n",
              "    }\n",
              "\n",
              "    .dataframe tbody tr th {\n",
              "        vertical-align: top;\n",
              "    }\n",
              "\n",
              "    .dataframe thead th {\n",
              "        text-align: right;\n",
              "    }\n",
              "</style>\n",
              "<table border=\"1\" class=\"dataframe\">\n",
              "  <thead>\n",
              "    <tr style=\"text-align: right;\">\n",
              "      <th></th>\n",
              "      <th>Sale_Price</th>\n",
              "      <th>Predict_Reg_2</th>\n",
              "    </tr>\n",
              "  </thead>\n",
              "  <tbody>\n",
              "    <tr>\n",
              "      <th>0</th>\n",
              "      <td>1005000</td>\n",
              "      <td>1,416,121.20</td>\n",
              "    </tr>\n",
              "    <tr>\n",
              "      <th>1</th>\n",
              "      <td>1175000</td>\n",
              "      <td>1,559,513.55</td>\n",
              "    </tr>\n",
              "    <tr>\n",
              "      <th>2</th>\n",
              "      <td>565000</td>\n",
              "      <td>639,187.61</td>\n",
              "    </tr>\n",
              "    <tr>\n",
              "      <th>3</th>\n",
              "      <td>950000</td>\n",
              "      <td>1,152,340.72</td>\n",
              "    </tr>\n",
              "    <tr>\n",
              "      <th>4</th>\n",
              "      <td>625000</td>\n",
              "      <td>526,425.80</td>\n",
              "    </tr>\n",
              "    <tr>\n",
              "      <th>5</th>\n",
              "      <td>1925000</td>\n",
              "      <td>965,161.08</td>\n",
              "    </tr>\n",
              "    <tr>\n",
              "      <th>6</th>\n",
              "      <td>21150000</td>\n",
              "      <td>10,581,912.84</td>\n",
              "    </tr>\n",
              "    <tr>\n",
              "      <th>7</th>\n",
              "      <td>2000000</td>\n",
              "      <td>1,322,725.73</td>\n",
              "    </tr>\n",
              "    <tr>\n",
              "      <th>8</th>\n",
              "      <td>341000</td>\n",
              "      <td>564,749.91</td>\n",
              "    </tr>\n",
              "    <tr>\n",
              "      <th>9</th>\n",
              "      <td>1450000</td>\n",
              "      <td>2,446,670.51</td>\n",
              "    </tr>\n",
              "  </tbody>\n",
              "</table>\n",
              "</div>"
            ],
            "text/plain": [
              "   Sale_Price  Predict_Reg_2\n",
              "0     1005000   1,416,121.20\n",
              "1     1175000   1,559,513.55\n",
              "2      565000     639,187.61\n",
              "3      950000   1,152,340.72\n",
              "4      625000     526,425.80\n",
              "5     1925000     965,161.08\n",
              "6    21150000  10,581,912.84\n",
              "7     2000000   1,322,725.73\n",
              "8      341000     564,749.91\n",
              "9     1450000   2,446,670.51"
            ]
          },
          "metadata": {},
          "execution_count": 177
        }
      ]
    },
    {
      "cell_type": "code",
      "metadata": {
        "id": "bUXTlRQ5BWnK"
      },
      "source": [
        "# This is the final data frame. Merge two df to match the independent variables and the predicted price\n",
        "# Keep running this each model to collect prediction data for all the model\n",
        "total_result_df = result1_df.merge(result2_df, how='left', on='Sale_Price', left_index=True, right_index=True)"
      ],
      "execution_count": null,
      "outputs": []
    },
    {
      "cell_type": "code",
      "metadata": {
        "colab": {
          "base_uri": "https://localhost:8080/",
          "height": 352
        },
        "id": "zmeaOpy58SE3",
        "outputId": "c539aadd-d3f3-45fd-9aee-91c457ead9f3"
      },
      "source": [
        "# visualizing residuals\n",
        "fig = plt.figure(figsize=(10,5))\n",
        "residuals2 = (y_test - y2_pred)\n",
        "sns.histplot(residuals2)"
      ],
      "execution_count": null,
      "outputs": [
        {
          "output_type": "execute_result",
          "data": {
            "text/plain": [
              "<matplotlib.axes._subplots.AxesSubplot at 0x7f90e87abdd0>"
            ]
          },
          "metadata": {},
          "execution_count": 179
        },
        {
          "output_type": "display_data",
          "data": {
            "image/png": "[encoded data removed]",
            "text/plain": [
              "<Figure size 720x360 with 1 Axes>"
            ]
          },
          "metadata": {
            "needs_background": "light"
          }
        }
      ]
    },
    {
      "cell_type": "code",
      "metadata": {
        "colab": {
          "base_uri": "https://localhost:8080/",
          "height": 350
        },
        "id": "BYViqxlPkd2W",
        "outputId": "84cb0cbd-6d11-4622-d7a5-31438ae2a457"
      },
      "source": [
        "import matplotlib.pyplot as plt\n",
        "plt.figure(figsize=(10,5))\n",
        "plt.plot(np.array(y2_pred))\n",
        "plt.plot(np.array(y_test))\n",
        "plt.title('Model 2: Regression without List_Price')\n",
        "plt.ylabel('Price')\n",
        "plt.xlabel('No. of Samples')\n",
        "plt.legend(['Predict Reg 2', 'Sale_Price'], loc='upper right')\n",
        "plt.show()"
      ],
      "execution_count": null,
      "outputs": [
        {
          "output_type": "display_data",
          "data": {
            "image/png": "[encoded data removed]",
            "text/plain": [
              "<Figure size 720x360 with 1 Axes>"
            ]
          },
          "metadata": {
            "needs_background": "light"
          }
        }
      ]
    },
    {
      "cell_type": "markdown",
      "metadata": {
        "id": "Yy-i8GgGYCCW"
      },
      "source": [
        "**MODEL 3:** Neural Network 1 with List_Price"
      ]
    },
    {
      "cell_type": "code",
      "metadata": {
        "colab": {
          "base_uri": "https://localhost:8080/"
        },
        "id": "96eYo3qYX_aL",
        "outputId": "9e32da19-54fc-4cdf-fedc-b44693602a17"
      },
      "source": [
        "# Copy from Model 1: Regression 1\n",
        "print(X_train.shape, X_test.shape, y_train.shape, y_test.shape)"
      ],
      "execution_count": null,
      "outputs": [
        {
          "output_type": "stream",
          "text": [
            "(4013, 47) (212, 47) (4013,) (212,)\n"
          ],
          "name": "stdout"
        }
      ]
    },
    {
      "cell_type": "code",
      "metadata": {
        "colab": {
          "base_uri": "https://localhost:8080/"
        },
        "id": "cmskpKV-X_za",
        "outputId": "1321468e-8017-4d7d-98f5-c375ba62921d"
      },
      "source": [
        "from keras.models import Sequential\n",
        "from keras.layers import Dense\n",
        "from keras.callbacks import ModelCheckpoint\n",
        "\n",
        "# Define the model - deep neural net\n",
        "number_input_features = X_train.shape[1]\n",
        "\n",
        "model3 = tf.keras.models.Sequential()\n",
        "\n",
        "# First hidden layer\n",
        "\n",
        "model3.add(tf.keras.layers.Dense(units=hidden_nodes_layer1, input_dim=number_input_features, activation=activation))\n",
        "\n",
        "# Second hidden layer\n",
        "model3.add(tf.keras.layers.Dense(units=hidden_nodes_layer2, activation=activation))\n",
        "\n",
        "# Third hidden layer\n",
        "model3.add(tf.keras.layers.Dense(units=hidden_nodes_layer3, activation=activation))\n",
        "\n",
        "# Output layer\n",
        "#  YOUR CODE GOES HERE\n",
        "model3.add(tf.keras.layers.Dense(units=1, activation=activation_last))#sigmoid, softmax, tanh\n",
        "\n",
        "# Check the structure of the model\n",
        "model3.summary()"
      ],
      "execution_count": null,
      "outputs": [
        {
          "output_type": "stream",
          "text": [
            "Model: \"sequential_4\"\n",
            "_________________________________________________________________\n",
            "Layer (type)                 Output Shape              Param #   \n",
            "=================================================================\n",
            "dense_16 (Dense)             (None, 15)                720       \n",
            "_________________________________________________________________\n",
            "dense_17 (Dense)             (None, 20)                320       \n",
            "_________________________________________________________________\n",
            "dense_18 (Dense)             (None, 10)                210       \n",
            "_________________________________________________________________\n",
            "dense_19 (Dense)             (None, 1)                 11        \n",
            "=================================================================\n",
            "Total params: 1,261\n",
            "Trainable params: 1,261\n",
            "Non-trainable params: 0\n",
            "_________________________________________________________________\n"
          ],
          "name": "stdout"
        }
      ]
    },
    {
      "cell_type": "code",
      "metadata": {
        "id": "LFuxOnLuYAH6",
        "colab": {
          "base_uri": "https://localhost:8080/"
        },
        "outputId": "078de0ca-3a72-403d-ed10-491621de12dc"
      },
      "source": [
        "# Define the checkpoint path and filenames\n",
        "os.makedirs(\"checkpoints1/\", exist_ok=True)\n",
        "checkpoint_path = \"checkpoints1/weights.{epoch:02d}.hdf5\"\n",
        "\n",
        "# Compile the model\n",
        "#model3.compile(optimizer='Adam', loss='mean_absolute_error', metrics=['MSE'])\n",
        "model3.compile(loss=loss_input, optimizer=optimizer_input, metrics=[metrics_input])# AdaGrad, AdaDelta, Adam\n",
        "\n",
        "# Create a callback that saves the model's weights\n",
        "cp_callback = ModelCheckpoint(\n",
        "    filepath=checkpoint_path,\n",
        "    verbose=1,\n",
        "    save_weights_only=True,\n",
        "    period=5,\n",
        "    save_freq='epoch')"
      ],
      "execution_count": null,
      "outputs": [
        {
          "output_type": "stream",
          "text": [
            "WARNING:tensorflow:`period` argument is deprecated. Please use `save_freq` to specify the frequency in number of batches seen.\n"
          ],
          "name": "stdout"
        }
      ]
    },
    {
      "cell_type": "code",
      "metadata": {
        "colab": {
          "base_uri": "https://localhost:8080/"
        },
        "id": "fdtkdTcdMMZa",
        "outputId": "f5771172-920a-4b13-f8da-d781ebbc5b5d"
      },
      "source": [
        "# Train the model\n",
        "history = model3.fit(X_train, y_train, batch_size=size_batch_no, epochs=epochs_no, callbacks=[cp_callback], validation_data=(X_test, y_test))\n",
        "\n",
        "#history = model3.fit(X_train, y_train, batch_size=32, epochs=200, callbacks=[cp_callback], validation_data=(X_test, y_test))"
      ],
      "execution_count": null,
      "outputs": [
        {
          "output_type": "stream",
          "text": [
            "Epoch 1/200\n",
            "126/126 [==============================] - 1s 6ms/step - loss: 872583.9375 - MSE: 2856629567488.0000 - val_loss: 370046.6562 - val_MSE: 270677704704.0000\n",
            "Epoch 2/200\n",
            "126/126 [==============================] - 0s 2ms/step - loss: 108201.5859 - MSE: 383885737984.0000 - val_loss: 87829.7891 - val_MSE: 144235954176.0000\n",
            "Epoch 3/200\n",
            "126/126 [==============================] - 0s 2ms/step - loss: 68197.9688 - MSE: 36618166272.0000 - val_loss: 86926.8750 - val_MSE: 138602315776.0000\n",
            "Epoch 4/200\n",
            "126/126 [==============================] - 0s 2ms/step - loss: 68605.8203 - MSE: 41802743808.0000 - val_loss: 86335.2578 - val_MSE: 124609519616.0000\n",
            "Epoch 5/200\n",
            "126/126 [==============================] - 0s 2ms/step - loss: 69537.6172 - MSE: 64742322176.0000 - val_loss: 86770.4844 - val_MSE: 116121518080.0000\n",
            "\n",
            "Epoch 00005: saving model to checkpoints1/weights.05.hdf5\n",
            "Epoch 6/200\n",
            "126/126 [==============================] - 0s 2ms/step - loss: 70082.2969 - MSE: 84832518144.0000 - val_loss: 87807.2188 - val_MSE: 107311087616.0000\n",
            "Epoch 7/200\n",
            "126/126 [==============================] - 0s 2ms/step - loss: 66758.6719 - MSE: 23216195584.0000 - val_loss: 87779.6484 - val_MSE: 107250753536.0000\n",
            "Epoch 8/200\n",
            "126/126 [==============================] - 0s 2ms/step - loss: 67294.7812 - MSE: 29631991808.0000 - val_loss: 86322.6719 - val_MSE: 126245740544.0000\n",
            "Epoch 9/200\n",
            "126/126 [==============================] - 0s 2ms/step - loss: 67561.9297 - MSE: 34081542144.0000 - val_loss: 86344.4922 - val_MSE: 126514028544.0000\n",
            "Epoch 10/200\n",
            "126/126 [==============================] - 0s 2ms/step - loss: 70060.6719 - MSE: 83409993728.0000 - val_loss: 87840.7656 - val_MSE: 106830200832.0000\n",
            "\n",
            "Epoch 00010: saving model to checkpoints1/weights.10.hdf5\n",
            "Epoch 11/200\n",
            "126/126 [==============================] - 0s 2ms/step - loss: 65850.8828 - MSE: 21915432960.0000 - val_loss: 86406.1016 - val_MSE: 129832878080.0000\n",
            "Epoch 12/200\n",
            "126/126 [==============================] - 0s 2ms/step - loss: 66718.1641 - MSE: 31463739392.0000 - val_loss: 86309.2734 - val_MSE: 124086771712.0000\n",
            "Epoch 13/200\n",
            "126/126 [==============================] - 0s 2ms/step - loss: 67391.7031 - MSE: 35124580352.0000 - val_loss: 86440.8906 - val_MSE: 132056514560.0000\n",
            "Epoch 14/200\n",
            "126/126 [==============================] - 0s 2ms/step - loss: 66882.7812 - MSE: 24998772736.0000 - val_loss: 86439.1328 - val_MSE: 131815432192.0000\n",
            "Epoch 15/200\n",
            "126/126 [==============================] - 0s 2ms/step - loss: 65102.2969 - MSE: 18713798656.0000 - val_loss: 86844.4375 - val_MSE: 136656863232.0000\n",
            "\n",
            "Epoch 00015: saving model to checkpoints1/weights.15.hdf5\n",
            "Epoch 16/200\n",
            "126/126 [==============================] - 0s 2ms/step - loss: 64832.0781 - MSE: 17894004736.0000 - val_loss: 86425.1328 - val_MSE: 118982123520.0000\n",
            "Epoch 17/200\n",
            "126/126 [==============================] - 0s 2ms/step - loss: 66969.7031 - MSE: 27139418112.0000 - val_loss: 86302.8125 - val_MSE: 127786516480.0000\n",
            "Epoch 18/200\n",
            "126/126 [==============================] - 0s 2ms/step - loss: 66101.4219 - MSE: 24602408960.0000 - val_loss: 86213.2734 - val_MSE: 125590126592.0000\n",
            "Epoch 19/200\n",
            "126/126 [==============================] - 0s 2ms/step - loss: 66744.0391 - MSE: 34344417280.0000 - val_loss: 87633.7578 - val_MSE: 142101266432.0000\n",
            "Epoch 20/200\n",
            "126/126 [==============================] - 0s 2ms/step - loss: 65286.6758 - MSE: 18767736832.0000 - val_loss: 86254.6641 - val_MSE: 121977716736.0000\n",
            "\n",
            "Epoch 00020: saving model to checkpoints1/weights.20.hdf5\n",
            "Epoch 21/200\n",
            "126/126 [==============================] - 0s 2ms/step - loss: 64571.4727 - MSE: 17342593024.0000 - val_loss: 86332.6797 - val_MSE: 127949258752.0000\n",
            "Epoch 22/200\n",
            "126/126 [==============================] - 0s 2ms/step - loss: 65620.6172 - MSE: 21918615552.0000 - val_loss: 87503.3984 - val_MSE: 106603421696.0000\n",
            "Epoch 23/200\n",
            "126/126 [==============================] - 0s 2ms/step - loss: 66963.2656 - MSE: 25139083264.0000 - val_loss: 86182.1484 - val_MSE: 124881117184.0000\n",
            "Epoch 24/200\n",
            "126/126 [==============================] - 0s 2ms/step - loss: 67658.3438 - MSE: 33622530048.0000 - val_loss: 86236.9375 - val_MSE: 128086245376.0000\n",
            "Epoch 25/200\n",
            "126/126 [==============================] - 0s 2ms/step - loss: 63954.7695 - MSE: 15116405760.0000 - val_loss: 86775.3516 - val_MSE: 112033325056.0000\n",
            "\n",
            "Epoch 00025: saving model to checkpoints1/weights.25.hdf5\n",
            "Epoch 26/200\n",
            "126/126 [==============================] - 0s 2ms/step - loss: 64451.6016 - MSE: 17529167872.0000 - val_loss: 87132.2422 - val_MSE: 108210356224.0000\n",
            "Epoch 27/200\n",
            "126/126 [==============================] - 0s 2ms/step - loss: 65616.2891 - MSE: 20247709696.0000 - val_loss: 86628.0625 - val_MSE: 134393536512.0000\n",
            "Epoch 28/200\n",
            "126/126 [==============================] - 0s 2ms/step - loss: 65666.2891 - MSE: 22365247488.0000 - val_loss: 87700.8359 - val_MSE: 104023785472.0000\n",
            "Epoch 29/200\n",
            "126/126 [==============================] - 0s 2ms/step - loss: 67832.6641 - MSE: 21520764928.0000 - val_loss: 86281.0547 - val_MSE: 130543460352.0000\n",
            "Epoch 30/200\n",
            "126/126 [==============================] - 0s 2ms/step - loss: 66290.4375 - MSE: 31751297024.0000 - val_loss: 87192.5547 - val_MSE: 138787995648.0000\n",
            "\n",
            "Epoch 00030: saving model to checkpoints1/weights.30.hdf5\n",
            "Epoch 31/200\n",
            "126/126 [==============================] - 0s 2ms/step - loss: 66526.4609 - MSE: 21180729344.0000 - val_loss: 86177.2422 - val_MSE: 126327308288.0000\n",
            "Epoch 32/200\n",
            "126/126 [==============================] - 0s 2ms/step - loss: 65039.8789 - MSE: 19083618304.0000 - val_loss: 86438.0078 - val_MSE: 132048306176.0000\n",
            "Epoch 33/200\n",
            "126/126 [==============================] - 0s 2ms/step - loss: 64027.5156 - MSE: 15639874560.0000 - val_loss: 87785.0781 - val_MSE: 142267826176.0000\n",
            "Epoch 34/200\n",
            "126/126 [==============================] - 0s 2ms/step - loss: 64493.0039 - MSE: 16070338560.0000 - val_loss: 86093.8203 - val_MSE: 121421938688.0000\n",
            "Epoch 35/200\n",
            "126/126 [==============================] - 0s 2ms/step - loss: 65759.6797 - MSE: 21633452032.0000 - val_loss: 87354.1484 - val_MSE: 105461514240.0000\n",
            "\n",
            "Epoch 00035: saving model to checkpoints1/weights.35.hdf5\n",
            "Epoch 36/200\n",
            "126/126 [==============================] - 0s 2ms/step - loss: 66563.2578 - MSE: 22584967168.0000 - val_loss: 86112.8672 - val_MSE: 126172676096.0000\n",
            "Epoch 37/200\n",
            "126/126 [==============================] - 0s 2ms/step - loss: 65147.0898 - MSE: 20893474816.0000 - val_loss: 87339.3594 - val_MSE: 105076695040.0000\n",
            "Epoch 38/200\n",
            "126/126 [==============================] - 0s 2ms/step - loss: 64832.2617 - MSE: 16942595072.0000 - val_loss: 86152.5469 - val_MSE: 117885534208.0000\n",
            "Epoch 39/200\n",
            "126/126 [==============================] - 0s 2ms/step - loss: 65716.5781 - MSE: 21306042368.0000 - val_loss: 86891.6484 - val_MSE: 136313339904.0000\n",
            "Epoch 40/200\n",
            "126/126 [==============================] - 0s 2ms/step - loss: 64976.7695 - MSE: 18690588672.0000 - val_loss: 89625.7656 - val_MSE: 152152260608.0000\n",
            "\n",
            "Epoch 00040: saving model to checkpoints1/weights.40.hdf5\n",
            "Epoch 41/200\n",
            "126/126 [==============================] - 0s 2ms/step - loss: 65846.8984 - MSE: 19634558976.0000 - val_loss: 86118.3984 - val_MSE: 118749716480.0000\n",
            "Epoch 42/200\n",
            "126/126 [==============================] - 0s 2ms/step - loss: 66867.3516 - MSE: 20846577664.0000 - val_loss: 86342.1250 - val_MSE: 113755529216.0000\n",
            "Epoch 43/200\n",
            "126/126 [==============================] - 0s 2ms/step - loss: 64979.5938 - MSE: 17126896640.0000 - val_loss: 87516.5938 - val_MSE: 103370964992.0000\n",
            "Epoch 44/200\n",
            "126/126 [==============================] - 0s 2ms/step - loss: 65237.1523 - MSE: 16635120640.0000 - val_loss: 86203.8594 - val_MSE: 127939158016.0000\n",
            "Epoch 45/200\n",
            "126/126 [==============================] - 0s 2ms/step - loss: 65116.9414 - MSE: 18296031232.0000 - val_loss: 86384.3750 - val_MSE: 113076142080.0000\n",
            "\n",
            "Epoch 00045: saving model to checkpoints1/weights.45.hdf5\n",
            "Epoch 46/200\n",
            "126/126 [==============================] - 0s 2ms/step - loss: 63687.5273 - MSE: 15368250368.0000 - val_loss: 87387.5000 - val_MSE: 139329077248.0000\n",
            "Epoch 47/200\n",
            "126/126 [==============================] - 0s 2ms/step - loss: 64684.6758 - MSE: 16026942464.0000 - val_loss: 86040.2812 - val_MSE: 124814344192.0000\n",
            "Epoch 48/200\n",
            "126/126 [==============================] - 0s 2ms/step - loss: 64212.4883 - MSE: 15845625856.0000 - val_loss: 86206.8359 - val_MSE: 128617111552.0000\n",
            "Epoch 49/200\n",
            "126/126 [==============================] - 0s 2ms/step - loss: 64570.9023 - MSE: 17973385216.0000 - val_loss: 86320.9609 - val_MSE: 130670870528.0000\n",
            "Epoch 50/200\n",
            "126/126 [==============================] - 0s 2ms/step - loss: 64700.8398 - MSE: 15790701568.0000 - val_loss: 86167.6641 - val_MSE: 128096796672.0000\n",
            "\n",
            "Epoch 00050: saving model to checkpoints1/weights.50.hdf5\n",
            "Epoch 51/200\n",
            "126/126 [==============================] - 0s 2ms/step - loss: 64281.7891 - MSE: 14996740096.0000 - val_loss: 86115.3047 - val_MSE: 126979743744.0000\n",
            "Epoch 52/200\n",
            "126/126 [==============================] - 0s 2ms/step - loss: 64372.7969 - MSE: 17564696576.0000 - val_loss: 86495.7656 - val_MSE: 132871675904.0000\n",
            "Epoch 53/200\n",
            "126/126 [==============================] - 0s 2ms/step - loss: 65042.8516 - MSE: 17483687936.0000 - val_loss: 89481.1250 - val_MSE: 95781797888.0000\n",
            "Epoch 54/200\n",
            "126/126 [==============================] - 0s 2ms/step - loss: 63789.2812 - MSE: 14855702528.0000 - val_loss: 86573.0000 - val_MSE: 109528850432.0000\n",
            "Epoch 55/200\n",
            "126/126 [==============================] - 0s 2ms/step - loss: 65211.8477 - MSE: 16683164672.0000 - val_loss: 85932.8125 - val_MSE: 121856442368.0000\n",
            "\n",
            "Epoch 00055: saving model to checkpoints1/weights.55.hdf5\n",
            "Epoch 56/200\n",
            "126/126 [==============================] - 0s 2ms/step - loss: 64337.2930 - MSE: 16712211456.0000 - val_loss: 86330.7812 - val_MSE: 130985869312.0000\n",
            "Epoch 57/200\n",
            "126/126 [==============================] - 0s 2ms/step - loss: 65231.0742 - MSE: 21656678400.0000 - val_loss: 85994.1953 - val_MSE: 124990496768.0000\n",
            "Epoch 58/200\n",
            "126/126 [==============================] - 0s 2ms/step - loss: 64568.6055 - MSE: 15435056128.0000 - val_loss: 86096.7812 - val_MSE: 114623610880.0000\n",
            "Epoch 59/200\n",
            "126/126 [==============================] - 0s 2ms/step - loss: 63964.8086 - MSE: 15482711040.0000 - val_loss: 91441.8203 - val_MSE: 158827773952.0000\n",
            "Epoch 60/200\n",
            "126/126 [==============================] - 0s 2ms/step - loss: 64145.0117 - MSE: 14991278080.0000 - val_loss: 85945.2266 - val_MSE: 118387171328.0000\n",
            "\n",
            "Epoch 00060: saving model to checkpoints1/weights.60.hdf5\n",
            "Epoch 61/200\n",
            "126/126 [==============================] - 0s 2ms/step - loss: 64601.0156 - MSE: 16374036480.0000 - val_loss: 86135.1328 - val_MSE: 128052477952.0000\n",
            "Epoch 62/200\n",
            "126/126 [==============================] - 0s 2ms/step - loss: 63692.6094 - MSE: 15565756416.0000 - val_loss: 86351.9688 - val_MSE: 131418619904.0000\n",
            "Epoch 63/200\n",
            "126/126 [==============================] - 0s 2ms/step - loss: 64088.5742 - MSE: 15409812480.0000 - val_loss: 87463.4453 - val_MSE: 139361959936.0000\n",
            "Epoch 64/200\n",
            "126/126 [==============================] - 0s 2ms/step - loss: 63841.1602 - MSE: 14862435328.0000 - val_loss: 86015.6484 - val_MSE: 114863382528.0000\n",
            "Epoch 65/200\n",
            "126/126 [==============================] - 0s 2ms/step - loss: 63780.7734 - MSE: 15596824576.0000 - val_loss: 87528.5859 - val_MSE: 139775000576.0000\n",
            "\n",
            "Epoch 00065: saving model to checkpoints1/weights.65.hdf5\n",
            "Epoch 66/200\n",
            "126/126 [==============================] - 0s 2ms/step - loss: 64535.5078 - MSE: 15792628736.0000 - val_loss: 87788.6641 - val_MSE: 141358497792.0000\n",
            "Epoch 67/200\n",
            "126/126 [==============================] - 0s 2ms/step - loss: 64039.2695 - MSE: 15620333568.0000 - val_loss: 87522.9375 - val_MSE: 139710234624.0000\n",
            "Epoch 68/200\n",
            "126/126 [==============================] - 0s 2ms/step - loss: 64324.1367 - MSE: 15926392832.0000 - val_loss: 90511.3125 - val_MSE: 154710573056.0000\n",
            "Epoch 69/200\n",
            "126/126 [==============================] - 0s 2ms/step - loss: 64352.9492 - MSE: 15438338048.0000 - val_loss: 86243.8203 - val_MSE: 111022989312.0000\n",
            "Epoch 70/200\n",
            "126/126 [==============================] - 0s 2ms/step - loss: 64327.6836 - MSE: 15250673664.0000 - val_loss: 86242.1641 - val_MSE: 130167406592.0000\n",
            "\n",
            "Epoch 00070: saving model to checkpoints1/weights.70.hdf5\n",
            "Epoch 71/200\n",
            "126/126 [==============================] - 0s 2ms/step - loss: 63795.1836 - MSE: 14674225152.0000 - val_loss: 86147.0000 - val_MSE: 128843530240.0000\n",
            "Epoch 72/200\n",
            "126/126 [==============================] - 0s 2ms/step - loss: 63392.9961 - MSE: 15365481472.0000 - val_loss: 90482.0156 - val_MSE: 154600325120.0000\n",
            "Epoch 73/200\n",
            "126/126 [==============================] - 0s 2ms/step - loss: 65498.9492 - MSE: 15779552256.0000 - val_loss: 85880.3203 - val_MSE: 123047387136.0000\n",
            "Epoch 74/200\n",
            "126/126 [==============================] - 0s 2ms/step - loss: 64048.9062 - MSE: 15534561280.0000 - val_loss: 87055.3125 - val_MSE: 136873910272.0000\n",
            "Epoch 75/200\n",
            "126/126 [==============================] - 0s 2ms/step - loss: 63543.8125 - MSE: 15534385152.0000 - val_loss: 85843.8359 - val_MSE: 119446134784.0000\n",
            "\n",
            "Epoch 00075: saving model to checkpoints1/weights.75.hdf5\n",
            "Epoch 76/200\n",
            "126/126 [==============================] - 0s 2ms/step - loss: 63820.3711 - MSE: 15381082112.0000 - val_loss: 87859.8125 - val_MSE: 141752025088.0000\n",
            "Epoch 77/200\n",
            "126/126 [==============================] - 0s 2ms/step - loss: 63672.8906 - MSE: 15049893888.0000 - val_loss: 86291.7656 - val_MSE: 110409924608.0000\n",
            "Epoch 78/200\n",
            "126/126 [==============================] - 0s 2ms/step - loss: 65151.7148 - MSE: 17887670272.0000 - val_loss: 86088.3359 - val_MSE: 127660490752.0000\n",
            "Epoch 79/200\n",
            "126/126 [==============================] - 0s 2ms/step - loss: 64671.2305 - MSE: 16404948992.0000 - val_loss: 86559.5000 - val_MSE: 106726178816.0000\n",
            "Epoch 80/200\n",
            "126/126 [==============================] - 0s 2ms/step - loss: 65712.3359 - MSE: 26246090752.0000 - val_loss: 87575.6953 - val_MSE: 139729010688.0000\n",
            "\n",
            "Epoch 00080: saving model to checkpoints1/weights.80.hdf5\n",
            "Epoch 81/200\n",
            "126/126 [==============================] - 0s 2ms/step - loss: 64717.0469 - MSE: 16702449664.0000 - val_loss: 85847.8281 - val_MSE: 123005722624.0000\n",
            "Epoch 82/200\n",
            "126/126 [==============================] - 0s 2ms/step - loss: 63971.5977 - MSE: 14833373184.0000 - val_loss: 86050.1094 - val_MSE: 127414771712.0000\n",
            "Epoch 83/200\n",
            "126/126 [==============================] - 0s 2ms/step - loss: 64424.4922 - MSE: 15406147584.0000 - val_loss: 85931.8281 - val_MSE: 114356953088.0000\n",
            "Epoch 84/200\n",
            "126/126 [==============================] - 0s 2ms/step - loss: 64495.5742 - MSE: 15404374016.0000 - val_loss: 86325.3125 - val_MSE: 131371999232.0000\n",
            "Epoch 85/200\n",
            "126/126 [==============================] - 0s 2ms/step - loss: 63572.1875 - MSE: 15019034624.0000 - val_loss: 85849.4453 - val_MSE: 118123380736.0000\n",
            "\n",
            "Epoch 00085: saving model to checkpoints1/weights.85.hdf5\n",
            "Epoch 86/200\n",
            "126/126 [==============================] - 0s 2ms/step - loss: 64044.6992 - MSE: 17257682944.0000 - val_loss: 87633.8750 - val_MSE: 100543643648.0000\n",
            "Epoch 87/200\n",
            "126/126 [==============================] - 0s 2ms/step - loss: 63256.6133 - MSE: 14626898944.0000 - val_loss: 88038.5312 - val_MSE: 142653210624.0000\n",
            "Epoch 88/200\n",
            "126/126 [==============================] - 0s 2ms/step - loss: 63663.8359 - MSE: 14751802368.0000 - val_loss: 85849.5625 - val_MSE: 117398110208.0000\n",
            "Epoch 89/200\n",
            "126/126 [==============================] - 0s 2ms/step - loss: 63994.4883 - MSE: 15090412544.0000 - val_loss: 86048.3750 - val_MSE: 127361712128.0000\n",
            "Epoch 90/200\n",
            "126/126 [==============================] - 0s 2ms/step - loss: 63984.4883 - MSE: 15178145792.0000 - val_loss: 85813.5547 - val_MSE: 120600305664.0000\n",
            "\n",
            "Epoch 00090: saving model to checkpoints1/weights.90.hdf5\n",
            "Epoch 91/200\n",
            "126/126 [==============================] - 0s 2ms/step - loss: 63531.6875 - MSE: 14691145728.0000 - val_loss: 85831.2344 - val_MSE: 117804064768.0000\n",
            "Epoch 92/200\n",
            "126/126 [==============================] - 0s 2ms/step - loss: 64091.2617 - MSE: 15136090112.0000 - val_loss: 86471.3281 - val_MSE: 107826454528.0000\n",
            "Epoch 93/200\n",
            "126/126 [==============================] - 0s 2ms/step - loss: 63202.0547 - MSE: 14787984384.0000 - val_loss: 86098.6328 - val_MSE: 111999639552.0000\n",
            "Epoch 94/200\n",
            "126/126 [==============================] - 0s 2ms/step - loss: 63463.6836 - MSE: 14507765760.0000 - val_loss: 86260.9531 - val_MSE: 130713919488.0000\n",
            "Epoch 95/200\n",
            "126/126 [==============================] - 0s 2ms/step - loss: 63446.0547 - MSE: 14728782848.0000 - val_loss: 86028.5156 - val_MSE: 112864387072.0000\n",
            "\n",
            "Epoch 00095: saving model to checkpoints1/weights.95.hdf5\n",
            "Epoch 96/200\n",
            "126/126 [==============================] - 0s 2ms/step - loss: 63468.8320 - MSE: 14839181312.0000 - val_loss: 87024.1641 - val_MSE: 102996140032.0000\n",
            "Epoch 97/200\n",
            "126/126 [==============================] - 0s 2ms/step - loss: 64009.8516 - MSE: 14167035904.0000 - val_loss: 86461.3203 - val_MSE: 107423334400.0000\n",
            "Epoch 98/200\n",
            "126/126 [==============================] - 0s 2ms/step - loss: 64241.6172 - MSE: 14990282752.0000 - val_loss: 86593.6016 - val_MSE: 106219683840.0000\n",
            "Epoch 99/200\n",
            "126/126 [==============================] - 0s 2ms/step - loss: 64089.5117 - MSE: 14723456000.0000 - val_loss: 86175.1797 - val_MSE: 129429774336.0000\n",
            "Epoch 100/200\n",
            "126/126 [==============================] - 0s 2ms/step - loss: 63299.9883 - MSE: 14585067520.0000 - val_loss: 85816.9219 - val_MSE: 122515161088.0000\n",
            "\n",
            "Epoch 00100: saving model to checkpoints1/weights.100.hdf5\n",
            "Epoch 101/200\n",
            "126/126 [==============================] - 0s 2ms/step - loss: 64110.5156 - MSE: 16155023360.0000 - val_loss: 85847.7266 - val_MSE: 117749972992.0000\n",
            "Epoch 102/200\n",
            "126/126 [==============================] - 0s 2ms/step - loss: 63335.1836 - MSE: 14655976448.0000 - val_loss: 87672.8047 - val_MSE: 100102946816.0000\n",
            "Epoch 103/200\n",
            "126/126 [==============================] - 0s 2ms/step - loss: 64140.0039 - MSE: 15367410688.0000 - val_loss: 87714.8672 - val_MSE: 140390924288.0000\n",
            "Epoch 104/200\n",
            "126/126 [==============================] - 0s 2ms/step - loss: 63613.1562 - MSE: 15167026176.0000 - val_loss: 85739.7344 - val_MSE: 117319057408.0000\n",
            "Epoch 105/200\n",
            "126/126 [==============================] - 0s 2ms/step - loss: 63708.6016 - MSE: 15113904128.0000 - val_loss: 85750.9609 - val_MSE: 120500789248.0000\n",
            "\n",
            "Epoch 00105: saving model to checkpoints1/weights.105.hdf5\n",
            "Epoch 106/200\n",
            "126/126 [==============================] - 0s 2ms/step - loss: 66665.9219 - MSE: 52268691456.0000 - val_loss: 86594.3281 - val_MSE: 133475393536.0000\n",
            "Epoch 107/200\n",
            "126/126 [==============================] - 0s 2ms/step - loss: 63983.6445 - MSE: 15098303488.0000 - val_loss: 85811.9844 - val_MSE: 123109253120.0000\n",
            "Epoch 108/200\n",
            "126/126 [==============================] - 0s 2ms/step - loss: 63765.9375 - MSE: 15100748800.0000 - val_loss: 85807.3750 - val_MSE: 115326148608.0000\n",
            "Epoch 109/200\n",
            "126/126 [==============================] - 0s 2ms/step - loss: 64855.3672 - MSE: 15416144896.0000 - val_loss: 86073.1016 - val_MSE: 128049496064.0000\n",
            "Epoch 110/200\n",
            "126/126 [==============================] - 0s 2ms/step - loss: 63949.3945 - MSE: 14818895872.0000 - val_loss: 85786.4688 - val_MSE: 122374823936.0000\n",
            "\n",
            "Epoch 00110: saving model to checkpoints1/weights.110.hdf5\n",
            "Epoch 111/200\n",
            "126/126 [==============================] - 0s 2ms/step - loss: 63451.4492 - MSE: 14554525696.0000 - val_loss: 85736.7188 - val_MSE: 119748616192.0000\n",
            "Epoch 112/200\n",
            "126/126 [==============================] - 0s 2ms/step - loss: 63915.0195 - MSE: 15852375040.0000 - val_loss: 86067.2812 - val_MSE: 127950430208.0000\n",
            "Epoch 113/200\n",
            "126/126 [==============================] - 0s 2ms/step - loss: 64903.1289 - MSE: 18453028864.0000 - val_loss: 86260.9531 - val_MSE: 130839683072.0000\n",
            "Epoch 114/200\n",
            "126/126 [==============================] - 0s 2ms/step - loss: 63665.3516 - MSE: 14973699072.0000 - val_loss: 87340.4062 - val_MSE: 138301915136.0000\n",
            "Epoch 115/200\n",
            "126/126 [==============================] - 0s 2ms/step - loss: 64498.2344 - MSE: 15117159424.0000 - val_loss: 89788.8047 - val_MSE: 151062724608.0000\n",
            "\n",
            "Epoch 00115: saving model to checkpoints1/weights.115.hdf5\n",
            "Epoch 116/200\n",
            "126/126 [==============================] - 0s 2ms/step - loss: 63591.4883 - MSE: 14830818304.0000 - val_loss: 87855.5938 - val_MSE: 99256008704.0000\n",
            "Epoch 117/200\n",
            "126/126 [==============================] - 0s 2ms/step - loss: 63283.3672 - MSE: 14430399488.0000 - val_loss: 85925.2266 - val_MSE: 113601019904.0000\n",
            "Epoch 118/200\n",
            "126/126 [==============================] - 0s 2ms/step - loss: 63544.0625 - MSE: 14729427968.0000 - val_loss: 86628.5469 - val_MSE: 133849047040.0000\n",
            "Epoch 119/200\n",
            "126/126 [==============================] - 0s 2ms/step - loss: 63526.8828 - MSE: 14977247232.0000 - val_loss: 86579.5938 - val_MSE: 106015195136.0000\n",
            "Epoch 120/200\n",
            "126/126 [==============================] - 0s 2ms/step - loss: 63658.4961 - MSE: 14982188032.0000 - val_loss: 85769.8047 - val_MSE: 117424889856.0000\n",
            "\n",
            "Epoch 00120: saving model to checkpoints1/weights.120.hdf5\n",
            "Epoch 121/200\n",
            "126/126 [==============================] - 0s 2ms/step - loss: 63932.1797 - MSE: 14613575680.0000 - val_loss: 86506.6719 - val_MSE: 106660864000.0000\n",
            "Epoch 122/200\n",
            "126/126 [==============================] - 0s 2ms/step - loss: 63759.3125 - MSE: 14891777024.0000 - val_loss: 85750.2422 - val_MSE: 119138344960.0000\n",
            "Epoch 123/200\n",
            "126/126 [==============================] - 0s 2ms/step - loss: 63442.1680 - MSE: 14967898112.0000 - val_loss: 87511.9688 - val_MSE: 139309268992.0000\n",
            "Epoch 124/200\n",
            "126/126 [==============================] - 0s 2ms/step - loss: 63646.3555 - MSE: 15037585408.0000 - val_loss: 88725.8906 - val_MSE: 96269721600.0000\n",
            "Epoch 125/200\n",
            "126/126 [==============================] - 0s 2ms/step - loss: 63653.0977 - MSE: 14758297600.0000 - val_loss: 86518.2344 - val_MSE: 106388701184.0000\n",
            "\n",
            "Epoch 00125: saving model to checkpoints1/weights.125.hdf5\n",
            "Epoch 126/200\n",
            "126/126 [==============================] - 0s 2ms/step - loss: 64163.5312 - MSE: 15372378112.0000 - val_loss: 85889.4688 - val_MSE: 124982124544.0000\n",
            "Epoch 127/200\n",
            "126/126 [==============================] - 0s 2ms/step - loss: 63334.8516 - MSE: 14682499072.0000 - val_loss: 86247.6875 - val_MSE: 108981682176.0000\n",
            "Epoch 128/200\n",
            "126/126 [==============================] - 0s 2ms/step - loss: 63854.1016 - MSE: 15089010688.0000 - val_loss: 85734.4688 - val_MSE: 120303026176.0000\n",
            "Epoch 129/200\n",
            "126/126 [==============================] - 0s 2ms/step - loss: 63476.5352 - MSE: 14824920064.0000 - val_loss: 85895.5469 - val_MSE: 113394089984.0000\n",
            "Epoch 130/200\n",
            "126/126 [==============================] - 0s 2ms/step - loss: 63162.7266 - MSE: 14748683264.0000 - val_loss: 86792.7188 - val_MSE: 103754784768.0000\n",
            "\n",
            "Epoch 00130: saving model to checkpoints1/weights.130.hdf5\n",
            "Epoch 131/200\n",
            "126/126 [==============================] - 0s 2ms/step - loss: 63660.3281 - MSE: 14359946240.0000 - val_loss: 85762.6406 - val_MSE: 116023599104.0000\n",
            "Epoch 132/200\n",
            "126/126 [==============================] - 0s 2ms/step - loss: 63386.1680 - MSE: 14695328768.0000 - val_loss: 85720.7188 - val_MSE: 120044208128.0000\n",
            "Epoch 133/200\n",
            "126/126 [==============================] - 0s 2ms/step - loss: 63756.0078 - MSE: 14972394496.0000 - val_loss: 85921.3516 - val_MSE: 125787414528.0000\n",
            "Epoch 134/200\n",
            "126/126 [==============================] - 0s 2ms/step - loss: 63794.7109 - MSE: 15035845632.0000 - val_loss: 86871.1406 - val_MSE: 135149830144.0000\n",
            "Epoch 135/200\n",
            "126/126 [==============================] - 0s 2ms/step - loss: 64343.1133 - MSE: 15428985856.0000 - val_loss: 86754.3906 - val_MSE: 134459645952.0000\n",
            "\n",
            "Epoch 00135: saving model to checkpoints1/weights.135.hdf5\n",
            "Epoch 136/200\n",
            "126/126 [==============================] - 0s 2ms/step - loss: 64126.9258 - MSE: 15314816000.0000 - val_loss: 86135.3203 - val_MSE: 129172209664.0000\n",
            "Epoch 137/200\n",
            "126/126 [==============================] - 0s 2ms/step - loss: 64071.7539 - MSE: 15085618176.0000 - val_loss: 85709.2109 - val_MSE: 117143126016.0000\n",
            "Epoch 138/200\n",
            "126/126 [==============================] - 0s 2ms/step - loss: 64179.7695 - MSE: 15051429888.0000 - val_loss: 88197.4219 - val_MSE: 97379811328.0000\n",
            "Epoch 139/200\n",
            "126/126 [==============================] - 0s 2ms/step - loss: 63721.6680 - MSE: 14668954624.0000 - val_loss: 91831.2266 - val_MSE: 159105482752.0000\n",
            "Epoch 140/200\n",
            "126/126 [==============================] - 0s 2ms/step - loss: 63575.9844 - MSE: 14578955264.0000 - val_loss: 85695.3203 - val_MSE: 116585668608.0000\n",
            "\n",
            "Epoch 00140: saving model to checkpoints1/weights.140.hdf5\n",
            "Epoch 141/200\n",
            "126/126 [==============================] - 0s 2ms/step - loss: 63894.2305 - MSE: 15017665536.0000 - val_loss: 88481.1250 - val_MSE: 144259104768.0000\n",
            "Epoch 142/200\n",
            "126/126 [==============================] - 0s 2ms/step - loss: 63744.4570 - MSE: 14817849344.0000 - val_loss: 85710.7188 - val_MSE: 121225265152.0000\n",
            "Epoch 143/200\n",
            "126/126 [==============================] - 0s 2ms/step - loss: 63769.4922 - MSE: 14797390848.0000 - val_loss: 85815.2188 - val_MSE: 124019597312.0000\n",
            "Epoch 144/200\n",
            "126/126 [==============================] - 0s 2ms/step - loss: 63296.4766 - MSE: 14565999616.0000 - val_loss: 85773.7578 - val_MSE: 123217575936.0000\n",
            "Epoch 145/200\n",
            "126/126 [==============================] - 0s 2ms/step - loss: 63952.4766 - MSE: 14835143680.0000 - val_loss: 86329.7422 - val_MSE: 131344982016.0000\n",
            "\n",
            "Epoch 00145: saving model to checkpoints1/weights.145.hdf5\n",
            "Epoch 146/200\n",
            "126/126 [==============================] - 0s 2ms/step - loss: 63791.2188 - MSE: 14995102720.0000 - val_loss: 87174.4531 - val_MSE: 136936792064.0000\n",
            "Epoch 147/200\n",
            "126/126 [==============================] - 0s 2ms/step - loss: 64408.8867 - MSE: 15229945856.0000 - val_loss: 85775.4141 - val_MSE: 123229954048.0000\n",
            "Epoch 148/200\n",
            "126/126 [==============================] - 0s 2ms/step - loss: 63387.2891 - MSE: 14713286656.0000 - val_loss: 85848.8516 - val_MSE: 124759588864.0000\n",
            "Epoch 149/200\n",
            "126/126 [==============================] - 0s 2ms/step - loss: 63856.6328 - MSE: 15223405568.0000 - val_loss: 85917.5312 - val_MSE: 125967532032.0000\n",
            "Epoch 150/200\n",
            "126/126 [==============================] - 0s 2ms/step - loss: 63375.1445 - MSE: 14731104256.0000 - val_loss: 86274.0781 - val_MSE: 130963095552.0000\n",
            "\n",
            "Epoch 00150: saving model to checkpoints1/weights.150.hdf5\n",
            "Epoch 151/200\n",
            "126/126 [==============================] - 0s 2ms/step - loss: 63477.2305 - MSE: 14728951808.0000 - val_loss: 87320.2891 - val_MSE: 137972793344.0000\n",
            "Epoch 152/200\n",
            "126/126 [==============================] - 0s 2ms/step - loss: 63814.8906 - MSE: 14652473344.0000 - val_loss: 89489.0547 - val_MSE: 149213069312.0000\n",
            "Epoch 153/200\n",
            "126/126 [==============================] - 0s 2ms/step - loss: 63635.5078 - MSE: 14816933888.0000 - val_loss: 86045.0625 - val_MSE: 109933281280.0000\n",
            "Epoch 154/200\n",
            "126/126 [==============================] - 0s 2ms/step - loss: 63413.3828 - MSE: 14680274944.0000 - val_loss: 85770.7734 - val_MSE: 123451572224.0000\n",
            "Epoch 155/200\n",
            "126/126 [==============================] - 0s 2ms/step - loss: 63545.8594 - MSE: 14730068992.0000 - val_loss: 85708.2188 - val_MSE: 116202389504.0000\n",
            "\n",
            "Epoch 00155: saving model to checkpoints1/weights.155.hdf5\n",
            "Epoch 156/200\n",
            "126/126 [==============================] - 0s 2ms/step - loss: 63782.6602 - MSE: 14938939392.0000 - val_loss: 85680.9219 - val_MSE: 121133170688.0000\n",
            "Epoch 157/200\n",
            "126/126 [==============================] - 0s 2ms/step - loss: 63986.0469 - MSE: 14894264320.0000 - val_loss: 88002.0000 - val_MSE: 141665353728.0000\n",
            "Epoch 158/200\n",
            "126/126 [==============================] - 0s 2ms/step - loss: 63738.5234 - MSE: 14901581824.0000 - val_loss: 85745.5469 - val_MSE: 114029461504.0000\n",
            "Epoch 159/200\n",
            "126/126 [==============================] - 0s 2ms/step - loss: 63533.3164 - MSE: 14952307712.0000 - val_loss: 86450.6406 - val_MSE: 105418932224.0000\n",
            "Epoch 160/200\n",
            "126/126 [==============================] - 0s 2ms/step - loss: 63673.1172 - MSE: 14708209664.0000 - val_loss: 86801.0391 - val_MSE: 134697582592.0000\n",
            "\n",
            "Epoch 00160: saving model to checkpoints1/weights.160.hdf5\n",
            "Epoch 161/200\n",
            "126/126 [==============================] - 0s 2ms/step - loss: 63713.6641 - MSE: 15017223168.0000 - val_loss: 86009.4062 - val_MSE: 110391984128.0000\n",
            "Epoch 162/200\n",
            "126/126 [==============================] - 0s 2ms/step - loss: 63473.3203 - MSE: 14929214464.0000 - val_loss: 85677.0469 - val_MSE: 116532019200.0000\n",
            "Epoch 163/200\n",
            "126/126 [==============================] - 0s 2ms/step - loss: 63876.4297 - MSE: 15590333440.0000 - val_loss: 85989.1641 - val_MSE: 127288442880.0000\n",
            "Epoch 164/200\n",
            "126/126 [==============================] - 0s 2ms/step - loss: 63724.6211 - MSE: 15004315648.0000 - val_loss: 85645.4375 - val_MSE: 118243516416.0000\n",
            "Epoch 165/200\n",
            "126/126 [==============================] - 0s 2ms/step - loss: 63704.3281 - MSE: 14615869440.0000 - val_loss: 85771.4844 - val_MSE: 114796175360.0000\n",
            "\n",
            "Epoch 00165: saving model to checkpoints1/weights.165.hdf5\n",
            "Epoch 166/200\n",
            "126/126 [==============================] - 0s 2ms/step - loss: 63383.0977 - MSE: 15082527744.0000 - val_loss: 87524.4922 - val_MSE: 139246551040.0000\n",
            "Epoch 167/200\n",
            "126/126 [==============================] - 0s 2ms/step - loss: 64087.6875 - MSE: 14815290368.0000 - val_loss: 86236.2422 - val_MSE: 130702901248.0000\n",
            "Epoch 168/200\n",
            "126/126 [==============================] - 0s 2ms/step - loss: 63279.3594 - MSE: 14666512384.0000 - val_loss: 87633.3359 - val_MSE: 139838128128.0000\n",
            "Epoch 169/200\n",
            "126/126 [==============================] - 0s 2ms/step - loss: 63356.8320 - MSE: 14344846336.0000 - val_loss: 85915.2656 - val_MSE: 111580135424.0000\n",
            "Epoch 170/200\n",
            "126/126 [==============================] - 0s 2ms/step - loss: 63645.3203 - MSE: 14848812032.0000 - val_loss: 85727.4375 - val_MSE: 114366570496.0000\n",
            "\n",
            "Epoch 00170: saving model to checkpoints1/weights.170.hdf5\n",
            "Epoch 171/200\n",
            "126/126 [==============================] - 0s 2ms/step - loss: 63547.0078 - MSE: 14982529024.0000 - val_loss: 86861.5469 - val_MSE: 135160619008.0000\n",
            "Epoch 172/200\n",
            "126/126 [==============================] - 0s 2ms/step - loss: 63635.8516 - MSE: 14976833536.0000 - val_loss: 85790.9922 - val_MSE: 113440768000.0000\n",
            "Epoch 173/200\n",
            "126/126 [==============================] - 0s 2ms/step - loss: 63105.7148 - MSE: 14411250688.0000 - val_loss: 85785.2344 - val_MSE: 124051128320.0000\n",
            "Epoch 174/200\n",
            "126/126 [==============================] - 0s 2ms/step - loss: 63215.0352 - MSE: 14725918720.0000 - val_loss: 85640.4688 - val_MSE: 119787634688.0000\n",
            "Epoch 175/200\n",
            "126/126 [==============================] - 0s 2ms/step - loss: 63961.2617 - MSE: 15596740608.0000 - val_loss: 86051.7578 - val_MSE: 109546496000.0000\n",
            "\n",
            "Epoch 00175: saving model to checkpoints1/weights.175.hdf5\n",
            "Epoch 176/200\n",
            "126/126 [==============================] - 0s 2ms/step - loss: 63404.3867 - MSE: 14901330944.0000 - val_loss: 85706.9609 - val_MSE: 114844557312.0000\n",
            "Epoch 177/200\n",
            "126/126 [==============================] - 0s 2ms/step - loss: 63549.4297 - MSE: 14611499008.0000 - val_loss: 86476.4922 - val_MSE: 105481986048.0000\n",
            "Epoch 178/200\n",
            "126/126 [==============================] - 0s 2ms/step - loss: 63804.4688 - MSE: 15331955712.0000 - val_loss: 86107.1719 - val_MSE: 109056638976.0000\n",
            "Epoch 179/200\n",
            "126/126 [==============================] - 0s 2ms/step - loss: 63410.3516 - MSE: 14610862080.0000 - val_loss: 86432.5859 - val_MSE: 105960636416.0000\n",
            "Epoch 180/200\n",
            "126/126 [==============================] - 0s 2ms/step - loss: 64068.2734 - MSE: 15052480512.0000 - val_loss: 87113.0156 - val_MSE: 136593948672.0000\n",
            "\n",
            "Epoch 00180: saving model to checkpoints1/weights.180.hdf5\n",
            "Epoch 181/200\n",
            "126/126 [==============================] - 0s 2ms/step - loss: 63867.3594 - MSE: 15468877824.0000 - val_loss: 86340.3672 - val_MSE: 106332217344.0000\n",
            "Epoch 182/200\n",
            "126/126 [==============================] - 0s 2ms/step - loss: 64352.5234 - MSE: 15145346048.0000 - val_loss: 88490.0000 - val_MSE: 144268574720.0000\n",
            "Epoch 183/200\n",
            "126/126 [==============================] - 0s 2ms/step - loss: 63707.7539 - MSE: 14602061824.0000 - val_loss: 85622.0469 - val_MSE: 119361462272.0000\n",
            "Epoch 184/200\n",
            "126/126 [==============================] - 0s 2ms/step - loss: 63705.5820 - MSE: 14648470528.0000 - val_loss: 85617.8672 - val_MSE: 119695958016.0000\n",
            "Epoch 185/200\n",
            "126/126 [==============================] - 0s 2ms/step - loss: 64070.4805 - MSE: 15278455808.0000 - val_loss: 87603.7344 - val_MSE: 139623415808.0000\n",
            "\n",
            "Epoch 00185: saving model to checkpoints1/weights.185.hdf5\n",
            "Epoch 186/200\n",
            "126/126 [==============================] - 0s 2ms/step - loss: 63904.9961 - MSE: 15227202560.0000 - val_loss: 85796.0781 - val_MSE: 112894738432.0000\n",
            "Epoch 187/200\n",
            "126/126 [==============================] - 0s 2ms/step - loss: 63523.6758 - MSE: 14822989824.0000 - val_loss: 86725.6094 - val_MSE: 103015112704.0000\n",
            "Epoch 188/200\n",
            "126/126 [==============================] - 0s 2ms/step - loss: 63513.9141 - MSE: 14770381824.0000 - val_loss: 85642.9375 - val_MSE: 116009844736.0000\n",
            "Epoch 189/200\n",
            "126/126 [==============================] - 0s 2ms/step - loss: 63353.3164 - MSE: 14780016640.0000 - val_loss: 86143.9844 - val_MSE: 108359696384.0000\n",
            "Epoch 190/200\n",
            "126/126 [==============================] - 0s 2ms/step - loss: 63843.2852 - MSE: 14400723968.0000 - val_loss: 92370.1406 - val_MSE: 161131200512.0000\n",
            "\n",
            "Epoch 00190: saving model to checkpoints1/weights.190.hdf5\n",
            "Epoch 191/200\n",
            "126/126 [==============================] - 0s 2ms/step - loss: 63335.4375 - MSE: 14969544704.0000 - val_loss: 87093.7812 - val_MSE: 136548343808.0000\n",
            "Epoch 192/200\n",
            "126/126 [==============================] - 0s 2ms/step - loss: 63721.3438 - MSE: 15031280640.0000 - val_loss: 86205.0469 - val_MSE: 130512314368.0000\n",
            "Epoch 193/200\n",
            "126/126 [==============================] - 0s 2ms/step - loss: 63210.4180 - MSE: 15019609088.0000 - val_loss: 85627.0391 - val_MSE: 116374437888.0000\n",
            "Epoch 194/200\n",
            "126/126 [==============================] - 0s 2ms/step - loss: 64125.1172 - MSE: 14937662464.0000 - val_loss: 85678.2734 - val_MSE: 114440675328.0000\n",
            "Epoch 195/200\n",
            "126/126 [==============================] - 0s 2ms/step - loss: 63546.4102 - MSE: 14644429824.0000 - val_loss: 85819.2344 - val_MSE: 125027188736.0000\n",
            "\n",
            "Epoch 00195: saving model to checkpoints1/weights.195.hdf5\n",
            "Epoch 196/200\n",
            "126/126 [==============================] - 0s 2ms/step - loss: 63909.5195 - MSE: 14739563520.0000 - val_loss: 85740.4219 - val_MSE: 123576000512.0000\n",
            "Epoch 197/200\n",
            "126/126 [==============================] - 0s 2ms/step - loss: 63658.3086 - MSE: 14849404928.0000 - val_loss: 87291.9219 - val_MSE: 137689333760.0000\n",
            "Epoch 198/200\n",
            "126/126 [==============================] - 0s 2ms/step - loss: 63162.0547 - MSE: 14552231936.0000 - val_loss: 88810.4375 - val_MSE: 145735319552.0000\n",
            "Epoch 199/200\n",
            "126/126 [==============================] - 0s 2ms/step - loss: 62904.8008 - MSE: 14361210880.0000 - val_loss: 85917.9219 - val_MSE: 110947524608.0000\n",
            "Epoch 200/200\n",
            "126/126 [==============================] - 0s 2ms/step - loss: 63510.1562 - MSE: 14591559680.0000 - val_loss: 86470.8203 - val_MSE: 132661600256.0000\n",
            "\n",
            "Epoch 00200: saving model to checkpoints1/weights.200.hdf5\n"
          ],
          "name": "stdout"
        }
      ]
    },
    {
      "cell_type": "code",
      "metadata": {
        "id": "0EiU3b8dZgFo"
      },
      "source": [
        "# the predict() method is used to generate predictions\n",
        "y3_pred = model3.predict(X_test) # <= X has List_Price\n",
        "# Export our model to HDF5 file\n",
        "model3.save(\"NN_housing.h5\")"
      ],
      "execution_count": null,
      "outputs": []
    },
    {
      "cell_type": "code",
      "metadata": {
        "id": "z-2wilvtZga7",
        "colab": {
          "base_uri": "https://localhost:8080/"
        },
        "outputId": "9d903225-b99b-4009-8cb3-9e022d3f0c3c"
      },
      "source": [
        "# evaluate the performance of the algorithm\n",
        "from sklearn import metrics\n",
        "from sklearn.metrics import r2_score\n",
        "print('Model 3: Neural Network with List_Price')\n",
        "#print('Mean Absolute Error (MAE):', metrics.mean_absolute_error(y_test, y3_pred))  \n",
        "#print('Mean Squared Error (MSE):', metrics.mean_squared_error(y_test, y3_pred))  \n",
        "print('Root Mean Squared Error (RMSE):', np.sqrt(metrics.mean_squared_error(y_test, y3_pred)))\n",
        "print('Variance -- VarScore:', metrics.explained_variance_score(y_test,y3_pred))\n",
        "print(\"R squared(R2):\", metrics.r2_score(y_test, y3_pred))"
      ],
      "execution_count": null,
      "outputs": [
        {
          "output_type": "stream",
          "text": [
            "Model 3: Neural Network with List_Price\n",
            "Root Mean Squared Error (RMSE): 364227.4148407067\n",
            "Variance -- VarScore: 0.9477986841756235\n",
            "R squared(R2): 0.9477787674347592\n"
          ],
          "name": "stdout"
        }
      ]
    },
    {
      "cell_type": "code",
      "metadata": {
        "id": "ZpTWQJpjYAmW",
        "colab": {
          "base_uri": "https://localhost:8080/",
          "height": 357
        },
        "outputId": "7741b24f-0626-4e20-fedc-5da98cbd5d2e"
      },
      "source": [
        "#df = create a df of Sales_Price and Prediction values\n",
        "result3_df = pd.DataFrame({\"Sale_Price\": [x for x in y_test], \"Predict_NN_3\": [x[0] for x in y3_pred]})\n",
        "result3_df['Predict_NN_3'] = result3_df['Predict_NN_3'].map('{:,.2f}'.format)\n",
        "result3_df.head(10)"
      ],
      "execution_count": null,
      "outputs": [
        {
          "output_type": "execute_result",
          "data": {
            "text/html": [
              "<div>\n",
              "<style scoped>\n",
              "    .dataframe tbody tr th:only-of-type {\n",
              "        vertical-align: middle;\n",
              "    }\n",
              "\n",
              "    .dataframe tbody tr th {\n",
              "        vertical-align: top;\n",
              "    }\n",
              "\n",
              "    .dataframe thead th {\n",
              "        text-align: right;\n",
              "    }\n",
              "</style>\n",
              "<table border=\"1\" class=\"dataframe\">\n",
              "  <thead>\n",
              "    <tr style=\"text-align: right;\">\n",
              "      <th></th>\n",
              "      <th>Sale_Price</th>\n",
              "      <th>Predict_NN_3</th>\n",
              "    </tr>\n",
              "  </thead>\n",
              "  <tbody>\n",
              "    <tr>\n",
              "      <th>0</th>\n",
              "      <td>1005000</td>\n",
              "      <td>938,110.44</td>\n",
              "    </tr>\n",
              "    <tr>\n",
              "      <th>1</th>\n",
              "      <td>1175000</td>\n",
              "      <td>1,237,749.88</td>\n",
              "    </tr>\n",
              "    <tr>\n",
              "      <th>2</th>\n",
              "      <td>565000</td>\n",
              "      <td>599,585.00</td>\n",
              "    </tr>\n",
              "    <tr>\n",
              "      <th>3</th>\n",
              "      <td>950000</td>\n",
              "      <td>977,048.06</td>\n",
              "    </tr>\n",
              "    <tr>\n",
              "      <th>4</th>\n",
              "      <td>625000</td>\n",
              "      <td>594,399.44</td>\n",
              "    </tr>\n",
              "    <tr>\n",
              "      <th>5</th>\n",
              "      <td>1925000</td>\n",
              "      <td>1,889,316.75</td>\n",
              "    </tr>\n",
              "    <tr>\n",
              "      <th>6</th>\n",
              "      <td>21150000</td>\n",
              "      <td>26,193,086.00</td>\n",
              "    </tr>\n",
              "    <tr>\n",
              "      <th>7</th>\n",
              "      <td>2000000</td>\n",
              "      <td>1,782,769.75</td>\n",
              "    </tr>\n",
              "    <tr>\n",
              "      <th>8</th>\n",
              "      <td>341000</td>\n",
              "      <td>321,130.22</td>\n",
              "    </tr>\n",
              "    <tr>\n",
              "      <th>9</th>\n",
              "      <td>1450000</td>\n",
              "      <td>1,525,661.00</td>\n",
              "    </tr>\n",
              "  </tbody>\n",
              "</table>\n",
              "</div>"
            ],
            "text/plain": [
              "   Sale_Price   Predict_NN_3\n",
              "0     1005000     938,110.44\n",
              "1     1175000   1,237,749.88\n",
              "2      565000     599,585.00\n",
              "3      950000     977,048.06\n",
              "4      625000     594,399.44\n",
              "5     1925000   1,889,316.75\n",
              "6    21150000  26,193,086.00\n",
              "7     2000000   1,782,769.75\n",
              "8      341000     321,130.22\n",
              "9     1450000   1,525,661.00"
            ]
          },
          "metadata": {},
          "execution_count": 187
        }
      ]
    },
    {
      "cell_type": "code",
      "metadata": {
        "id": "xWbhndi6gTx8"
      },
      "source": [
        "# This is the final data frame. Merge two df to match the independent variables and the predicted price\n",
        "total_result_df = total_result_df.merge(result3_df, how='left', on='Sale_Price', left_index=True, right_index=True)\n",
        "#total_result_df.head(10)"
      ],
      "execution_count": null,
      "outputs": []
    },
    {
      "cell_type": "code",
      "metadata": {
        "id": "PFh1zpD3-LIA"
      },
      "source": [
        "# visualizing residuals\n",
        "#fig = plt.figure(figsize=(10,5))\n",
        "#residuals3 = (y_test - y3_pred)\n",
        "#sns.distplot(residuals)\n",
        "#sns.histplot(residuals3)\n",
        "\n",
        "# Error: Exception: Data must be 1-dimensional"
      ],
      "execution_count": null,
      "outputs": []
    },
    {
      "cell_type": "code",
      "metadata": {
        "id": "rrfrCC9jgT8d",
        "colab": {
          "base_uri": "https://localhost:8080/",
          "height": 350
        },
        "outputId": "709f6610-c266-46db-9470-54f9865fbc3b"
      },
      "source": [
        "import matplotlib.pyplot as plt\n",
        "plt.figure(figsize=(10,5))\n",
        "plt.plot(np.array(y3_pred))\n",
        "plt.plot(np.array(y_test))\n",
        "plt.title('Model 3: Neural Network with List_Price')\n",
        "plt.ylabel('Price')\n",
        "plt.xlabel('No. of Samples')\n",
        "plt.legend(['Predict NN 3', 'Sale_Price'], loc='upper right')\n",
        "plt.show()"
      ],
      "execution_count": null,
      "outputs": [
        {
          "output_type": "display_data",
          "data": {
            "image/png": "[encoded data removed]",
            "text/plain": [
              "<Figure size 720x360 with 1 Axes>"
            ]
          },
          "metadata": {
            "needs_background": "light"
          }
        }
      ]
    },
    {
      "cell_type": "markdown",
      "metadata": {
        "id": "waex9f_kniqz"
      },
      "source": [
        "**MODEL 4:** Neural Network 2 **without** List_Price"
      ]
    },
    {
      "cell_type": "code",
      "metadata": {
        "id": "3AF0ydwJng24",
        "colab": {
          "base_uri": "https://localhost:8080/"
        },
        "outputId": "96c4a14a-c36e-4228-f488-0419795fc6eb"
      },
      "source": [
        "# Need to keep it here to remind what the the testing and traing features\n",
        "print(X2_train.shape, X2_test.shape, y_train.shape, y_test.shape)"
      ],
      "execution_count": null,
      "outputs": [
        {
          "output_type": "stream",
          "text": [
            "(4013, 46) (212, 46) (4013,) (212,)\n"
          ],
          "name": "stdout"
        }
      ]
    },
    {
      "cell_type": "code",
      "metadata": {
        "id": "pIv-9WI_nhJy",
        "colab": {
          "base_uri": "https://localhost:8080/"
        },
        "outputId": "9bc45564-c44e-45f3-d2cc-6b4472a5b273"
      },
      "source": [
        "# Define the model - deep neural net, i.e., the number of input features and hidden nodes for each layer.\n",
        "# See inputs above\n",
        "\n",
        "from keras.models import Sequential\n",
        "from keras.layers import Dense\n",
        "from keras.callbacks import ModelCheckpoint\n",
        "\n",
        "# Define the model - deep neural net\n",
        "number_input_features2 = X2_train.shape[1] # <= pay attention here, X2 has no List_Price\n",
        "\n",
        "model4 = tf.keras.models.Sequential()\n",
        "\n",
        "# First hidden layer\n",
        "\n",
        "model4.add(tf.keras.layers.Dense(units=hidden_nodes_layer1, input_dim=number_input_features2, activation=activation))\n",
        "\n",
        "# Second hidden layer\n",
        "model4.add(tf.keras.layers.Dense(units=hidden_nodes_layer2, activation=activation))\n",
        "\n",
        "# Third hidden layer\n",
        "model4.add(tf.keras.layers.Dense(units=hidden_nodes_layer3, activation=activation))\n",
        "\n",
        "# Output layer\n",
        "model4.add(tf.keras.layers.Dense(units=1, activation=activation_last))#sigmoid, softmax, tanh\n",
        "\n",
        "# Check the structure of the model\n",
        "model4.summary()"
      ],
      "execution_count": null,
      "outputs": [
        {
          "output_type": "stream",
          "text": [
            "Model: \"sequential_5\"\n",
            "_________________________________________________________________\n",
            "Layer (type)                 Output Shape              Param #   \n",
            "=================================================================\n",
            "dense_20 (Dense)             (None, 15)                705       \n",
            "_________________________________________________________________\n",
            "dense_21 (Dense)             (None, 20)                320       \n",
            "_________________________________________________________________\n",
            "dense_22 (Dense)             (None, 10)                210       \n",
            "_________________________________________________________________\n",
            "dense_23 (Dense)             (None, 1)                 11        \n",
            "=================================================================\n",
            "Total params: 1,246\n",
            "Trainable params: 1,246\n",
            "Non-trainable params: 0\n",
            "_________________________________________________________________\n"
          ],
          "name": "stdout"
        }
      ]
    },
    {
      "cell_type": "code",
      "metadata": {
        "id": "czD0PWaknhTK",
        "colab": {
          "base_uri": "https://localhost:8080/"
        },
        "outputId": "789d9fef-d20b-45ca-c394-15845a88fa03"
      },
      "source": [
        "# Define the checkpoint path and filenames\n",
        "os.makedirs(\"checkpoints2/\", exist_ok=True)\n",
        "checkpoint_path2 = \"checkpoints2/weights.{epoch:02d}.hdf5\"\n",
        "\n",
        "# Compile the model 4\n",
        "#model4.compile(optimizer='Adam', loss='mean_absolute_error', metrics=['MSE'])\n",
        "model4.compile(loss=loss_input, optimizer=optimizer_input, metrics=[metrics_input])\n",
        "\n",
        "# Create a callback that saves the model's weights\n",
        "cp_callback2 = ModelCheckpoint(\n",
        "    filepath=checkpoint_path2,\n",
        "    verbose=1,\n",
        "    save_weights_only=True,\n",
        "    period=5,\n",
        "    save_freq='epoch')"
      ],
      "execution_count": null,
      "outputs": [
        {
          "output_type": "stream",
          "text": [
            "WARNING:tensorflow:`period` argument is deprecated. Please use `save_freq` to specify the frequency in number of batches seen.\n"
          ],
          "name": "stdout"
        }
      ]
    },
    {
      "cell_type": "code",
      "metadata": {
        "id": "o1oDDY2lRVxU",
        "colab": {
          "base_uri": "https://localhost:8080/"
        },
        "outputId": "05ae1d67-da62-425d-969b-100f2caa80f7"
      },
      "source": [
        "# Train the model\n",
        "history2 = model4.fit(X2_train, y_train, batch_size=size_batch_no, epochs=epochs_no, callbacks=[cp_callback2], validation_data=(X2_test, y_test))\n",
        "#history2 = model4.fit(X2_train, y_train, batch_size=32, epochs=200, callbacks=[cp_callback2], validation_data=(X2_test, y_test))"
      ],
      "execution_count": null,
      "outputs": [
        {
          "output_type": "stream",
          "text": [
            "Epoch 1/200\n",
            "126/126 [==============================] - 1s 3ms/step - loss: 1105909.2500 - MSE: 3445317697536.0000 - val_loss: 1128086.2500 - val_MSE: 3811138863104.0000\n",
            "Epoch 2/200\n",
            "126/126 [==============================] - 0s 2ms/step - loss: 1086896.0000 - MSE: 2666832855040.0000 - val_loss: 1122343.7500 - val_MSE: 3793755045888.0000\n",
            "Epoch 3/200\n",
            "126/126 [==============================] - 0s 2ms/step - loss: 1099069.7500 - MSE: 4181066252288.0000 - val_loss: 1102787.6250 - val_MSE: 3736233050112.0000\n",
            "Epoch 4/200\n",
            "126/126 [==============================] - 0s 2ms/step - loss: 1073805.5000 - MSE: 3746769141760.0000 - val_loss: 1077901.0000 - val_MSE: 3665517608960.0000\n",
            "Epoch 5/200\n",
            "126/126 [==============================] - 0s 2ms/step - loss: 998218.1250 - MSE: 2228133298176.0000 - val_loss: 1007914.1250 - val_MSE: 3469167820800.0000\n",
            "\n",
            "Epoch 00005: saving model to checkpoints2/weights.05.hdf5\n",
            "Epoch 6/200\n",
            "126/126 [==============================] - 0s 2ms/step - loss: 889735.8750 - MSE: 2033669505024.0000 - val_loss: 827450.0625 - val_MSE: 3011427434496.0000\n",
            "Epoch 7/200\n",
            "126/126 [==============================] - 0s 2ms/step - loss: 677877.7500 - MSE: 3107055206400.0000 - val_loss: 583284.6875 - val_MSE: 2391183982592.0000\n",
            "Epoch 8/200\n",
            "126/126 [==============================] - 0s 2ms/step - loss: 518656.6250 - MSE: 1193039233024.0000 - val_loss: 536304.0625 - val_MSE: 2122811179008.0000\n",
            "Epoch 9/200\n",
            "126/126 [==============================] - 0s 2ms/step - loss: 505756.0312 - MSE: 1106552553472.0000 - val_loss: 532815.8750 - val_MSE: 2088370831360.0000\n",
            "Epoch 10/200\n",
            "126/126 [==============================] - 0s 2ms/step - loss: 505724.6250 - MSE: 1100533727232.0000 - val_loss: 533595.8750 - val_MSE: 2076462153728.0000\n",
            "\n",
            "Epoch 00010: saving model to checkpoints2/weights.10.hdf5\n",
            "Epoch 11/200\n",
            "126/126 [==============================] - 0s 2ms/step - loss: 504825.1562 - MSE: 1092228153344.0000 - val_loss: 531312.0625 - val_MSE: 2062096269312.0000\n",
            "Epoch 12/200\n",
            "126/126 [==============================] - 0s 2ms/step - loss: 503735.1250 - MSE: 1087540166656.0000 - val_loss: 530044.8750 - val_MSE: 2057240313856.0000\n",
            "Epoch 13/200\n",
            "126/126 [==============================] - 0s 2ms/step - loss: 503173.3750 - MSE: 1081617350656.0000 - val_loss: 528928.1250 - val_MSE: 2046476943360.0000\n",
            "Epoch 14/200\n",
            "126/126 [==============================] - 0s 2ms/step - loss: 502442.2812 - MSE: 1085966319616.0000 - val_loss: 527412.7500 - val_MSE: 2035065028608.0000\n",
            "Epoch 15/200\n",
            "126/126 [==============================] - 0s 2ms/step - loss: 501757.7188 - MSE: 1073376985088.0000 - val_loss: 527735.3750 - val_MSE: 2044445065216.0000\n",
            "\n",
            "Epoch 00015: saving model to checkpoints2/weights.15.hdf5\n",
            "Epoch 16/200\n",
            "126/126 [==============================] - 0s 2ms/step - loss: 501029.3750 - MSE: 1077450047488.0000 - val_loss: 525136.9375 - val_MSE: 2013346660352.0000\n",
            "Epoch 17/200\n",
            "126/126 [==============================] - 0s 2ms/step - loss: 500619.6875 - MSE: 1071166652416.0000 - val_loss: 523583.6562 - val_MSE: 1996472188928.0000\n",
            "Epoch 18/200\n",
            "126/126 [==============================] - 0s 2ms/step - loss: 499779.4688 - MSE: 1060289708032.0000 - val_loss: 523769.1562 - val_MSE: 2009228509184.0000\n",
            "Epoch 19/200\n",
            "126/126 [==============================] - 0s 2ms/step - loss: 500411.0938 - MSE: 1072181542912.0000 - val_loss: 527566.3125 - val_MSE: 2003738558464.0000\n",
            "Epoch 20/200\n",
            "126/126 [==============================] - 0s 2ms/step - loss: 499645.9688 - MSE: 1062085656576.0000 - val_loss: 523829.7500 - val_MSE: 1980524920832.0000\n",
            "\n",
            "Epoch 00020: saving model to checkpoints2/weights.20.hdf5\n",
            "Epoch 21/200\n",
            "126/126 [==============================] - 0s 2ms/step - loss: 498086.5000 - MSE: 1055263555584.0000 - val_loss: 521555.3125 - val_MSE: 1967845146624.0000\n",
            "Epoch 22/200\n",
            "126/126 [==============================] - 0s 2ms/step - loss: 497119.7812 - MSE: 1053402464256.0000 - val_loss: 519321.5938 - val_MSE: 1948237430784.0000\n",
            "Epoch 23/200\n",
            "126/126 [==============================] - 0s 2ms/step - loss: 496592.9375 - MSE: 1040172580864.0000 - val_loss: 519780.8750 - val_MSE: 1964939149312.0000\n",
            "Epoch 24/200\n",
            "126/126 [==============================] - 0s 2ms/step - loss: 496223.0000 - MSE: 1045911437312.0000 - val_loss: 518374.5000 - val_MSE: 1947363573760.0000\n",
            "Epoch 25/200\n",
            "126/126 [==============================] - 0s 2ms/step - loss: 496598.5938 - MSE: 1045397176320.0000 - val_loss: 521874.7812 - val_MSE: 1965254901760.0000\n",
            "\n",
            "Epoch 00025: saving model to checkpoints2/weights.25.hdf5\n",
            "Epoch 26/200\n",
            "126/126 [==============================] - 0s 2ms/step - loss: 495349.0625 - MSE: 1044105920512.0000 - val_loss: 517455.0938 - val_MSE: 1929376169984.0000\n",
            "Epoch 27/200\n",
            "126/126 [==============================] - 0s 2ms/step - loss: 494126.9688 - MSE: 1029837225984.0000 - val_loss: 516228.3750 - val_MSE: 1928018001920.0000\n",
            "Epoch 28/200\n",
            "126/126 [==============================] - 0s 2ms/step - loss: 493571.7188 - MSE: 1028864212992.0000 - val_loss: 516128.8438 - val_MSE: 1931861032960.0000\n",
            "Epoch 29/200\n",
            "126/126 [==============================] - 0s 2ms/step - loss: 492782.3438 - MSE: 1030713442304.0000 - val_loss: 513095.9688 - val_MSE: 1883039727616.0000\n",
            "Epoch 30/200\n",
            "126/126 [==============================] - 0s 2ms/step - loss: 494731.8750 - MSE: 1032783462400.0000 - val_loss: 518295.9375 - val_MSE: 1892992417792.0000\n",
            "\n",
            "Epoch 00030: saving model to checkpoints2/weights.30.hdf5\n",
            "Epoch 31/200\n",
            "126/126 [==============================] - 0s 2ms/step - loss: 494684.6250 - MSE: 1022397841408.0000 - val_loss: 515634.2188 - val_MSE: 1868619448320.0000\n",
            "Epoch 32/200\n",
            "126/126 [==============================] - 0s 2ms/step - loss: 491925.6250 - MSE: 1009854185472.0000 - val_loss: 513216.6562 - val_MSE: 1880181178368.0000\n",
            "Epoch 33/200\n",
            "126/126 [==============================] - 0s 2ms/step - loss: 490649.4062 - MSE: 1007024406528.0000 - val_loss: 513538.9688 - val_MSE: 1892513611776.0000\n",
            "Epoch 34/200\n",
            "126/126 [==============================] - 0s 2ms/step - loss: 489989.9375 - MSE: 1011071909888.0000 - val_loss: 509492.2500 - val_MSE: 1848335663104.0000\n",
            "Epoch 35/200\n",
            "126/126 [==============================] - 0s 2ms/step - loss: 489243.2812 - MSE: 1005676855296.0000 - val_loss: 509363.1562 - val_MSE: 1845721300992.0000\n",
            "\n",
            "Epoch 00035: saving model to checkpoints2/weights.35.hdf5\n",
            "Epoch 36/200\n",
            "126/126 [==============================] - 0s 2ms/step - loss: 488888.3125 - MSE: 1000244314112.0000 - val_loss: 509068.1875 - val_MSE: 1839955968000.0000\n",
            "Epoch 37/200\n",
            "126/126 [==============================] - 0s 2ms/step - loss: 488195.4375 - MSE: 998789283840.0000 - val_loss: 507388.3125 - val_MSE: 1818928742400.0000\n",
            "Epoch 38/200\n",
            "126/126 [==============================] - 0s 2ms/step - loss: 496875.4062 - MSE: 1050818904064.0000 - val_loss: 513783.4062 - val_MSE: 1834580967424.0000\n",
            "Epoch 39/200\n",
            "126/126 [==============================] - 0s 2ms/step - loss: 495110.0000 - MSE: 1012054949888.0000 - val_loss: 513585.3438 - val_MSE: 1841808015360.0000\n",
            "Epoch 40/200\n",
            "126/126 [==============================] - 0s 2ms/step - loss: 493959.0000 - MSE: 1012234256384.0000 - val_loss: 511271.8750 - val_MSE: 1808241655808.0000\n",
            "\n",
            "Epoch 00040: saving model to checkpoints2/weights.40.hdf5\n",
            "Epoch 41/200\n",
            "126/126 [==============================] - 0s 2ms/step - loss: 493254.0000 - MSE: 1002308698112.0000 - val_loss: 510299.8438 - val_MSE: 1795975282688.0000\n",
            "Epoch 42/200\n",
            "126/126 [==============================] - 0s 2ms/step - loss: 492171.5938 - MSE: 999178436608.0000 - val_loss: 509471.4688 - val_MSE: 1787031977984.0000\n",
            "Epoch 43/200\n",
            "126/126 [==============================] - 0s 2ms/step - loss: 490914.7500 - MSE: 989360881664.0000 - val_loss: 509017.4688 - val_MSE: 1788698427392.0000\n",
            "Epoch 44/200\n",
            "126/126 [==============================] - 0s 2ms/step - loss: 489337.5625 - MSE: 987187380224.0000 - val_loss: 508073.6250 - val_MSE: 1774562181120.0000\n",
            "Epoch 45/200\n",
            "126/126 [==============================] - 0s 2ms/step - loss: 486997.8438 - MSE: 970832543744.0000 - val_loss: 510133.6875 - val_MSE: 1811708772352.0000\n",
            "\n",
            "Epoch 00045: saving model to checkpoints2/weights.45.hdf5\n",
            "Epoch 46/200\n",
            "126/126 [==============================] - 0s 2ms/step - loss: 485877.1875 - MSE: 980944551936.0000 - val_loss: 506523.7812 - val_MSE: 1777826004992.0000\n",
            "Epoch 47/200\n",
            "126/126 [==============================] - 0s 2ms/step - loss: 483993.0625 - MSE: 971533254656.0000 - val_loss: 503912.3125 - val_MSE: 1757188194304.0000\n",
            "Epoch 48/200\n",
            "126/126 [==============================] - 0s 2ms/step - loss: 483504.6250 - MSE: 969372073984.0000 - val_loss: 503414.3125 - val_MSE: 1750200221696.0000\n",
            "Epoch 49/200\n",
            "126/126 [==============================] - 0s 2ms/step - loss: 482809.2188 - MSE: 966466928640.0000 - val_loss: 502679.4062 - val_MSE: 1747557679104.0000\n",
            "Epoch 50/200\n",
            "126/126 [==============================] - 0s 2ms/step - loss: 482217.4688 - MSE: 955841249280.0000 - val_loss: 503465.7500 - val_MSE: 1759253757952.0000\n",
            "\n",
            "Epoch 00050: saving model to checkpoints2/weights.50.hdf5\n",
            "Epoch 51/200\n",
            "126/126 [==============================] - 0s 2ms/step - loss: 481673.2812 - MSE: 963085402112.0000 - val_loss: 501725.5938 - val_MSE: 1742153056256.0000\n",
            "Epoch 52/200\n",
            "126/126 [==============================] - 0s 2ms/step - loss: 481570.8438 - MSE: 959218319360.0000 - val_loss: 500268.0625 - val_MSE: 1714333286400.0000\n",
            "Epoch 53/200\n",
            "126/126 [==============================] - 0s 2ms/step - loss: 481127.7812 - MSE: 955215708160.0000 - val_loss: 499696.7812 - val_MSE: 1705712812032.0000\n",
            "Epoch 54/200\n",
            "126/126 [==============================] - 0s 2ms/step - loss: 480334.0625 - MSE: 945432297472.0000 - val_loss: 499724.5625 - val_MSE: 1716037877760.0000\n",
            "Epoch 55/200\n",
            "126/126 [==============================] - 0s 2ms/step - loss: 479878.4062 - MSE: 950635134976.0000 - val_loss: 504036.5000 - val_MSE: 1722584006656.0000\n",
            "\n",
            "Epoch 00055: saving model to checkpoints2/weights.55.hdf5\n",
            "Epoch 56/200\n",
            "126/126 [==============================] - 0s 2ms/step - loss: 481188.9688 - MSE: 948462682112.0000 - val_loss: 499638.3438 - val_MSE: 1687829610496.0000\n",
            "Epoch 57/200\n",
            "126/126 [==============================] - 0s 2ms/step - loss: 479291.3438 - MSE: 943079751680.0000 - val_loss: 497760.9688 - val_MSE: 1682591055872.0000\n",
            "Epoch 58/200\n",
            "126/126 [==============================] - 0s 2ms/step - loss: 478502.8438 - MSE: 935296892928.0000 - val_loss: 496591.7812 - val_MSE: 1667695902720.0000\n",
            "Epoch 59/200\n",
            "126/126 [==============================] - 0s 2ms/step - loss: 478143.1250 - MSE: 930576728064.0000 - val_loss: 497708.1562 - val_MSE: 1688955518976.0000\n",
            "Epoch 60/200\n",
            "126/126 [==============================] - 0s 2ms/step - loss: 477488.6875 - MSE: 939645206528.0000 - val_loss: 493791.7812 - val_MSE: 1647557607424.0000\n",
            "\n",
            "Epoch 00060: saving model to checkpoints2/weights.60.hdf5\n",
            "Epoch 61/200\n",
            "126/126 [==============================] - 0s 2ms/step - loss: 477228.6562 - MSE: 928234995712.0000 - val_loss: 494666.4375 - val_MSE: 1653277065216.0000\n",
            "Epoch 62/200\n",
            "126/126 [==============================] - 0s 2ms/step - loss: 476712.7500 - MSE: 920047190016.0000 - val_loss: 494626.2500 - val_MSE: 1653914468352.0000\n",
            "Epoch 63/200\n",
            "126/126 [==============================] - 0s 2ms/step - loss: 476322.0312 - MSE: 926655774720.0000 - val_loss: 494332.9688 - val_MSE: 1652705853440.0000\n",
            "Epoch 64/200\n",
            "126/126 [==============================] - 0s 2ms/step - loss: 488509.9062 - MSE: 1108867809280.0000 - val_loss: 500918.3438 - val_MSE: 1662356946944.0000\n",
            "Epoch 65/200\n",
            "126/126 [==============================] - 0s 2ms/step - loss: 484787.6875 - MSE: 943661121536.0000 - val_loss: 499166.1875 - val_MSE: 1635697164288.0000\n",
            "\n",
            "Epoch 00065: saving model to checkpoints2/weights.65.hdf5\n",
            "Epoch 66/200\n",
            "126/126 [==============================] - 0s 2ms/step - loss: 484008.1250 - MSE: 936359952384.0000 - val_loss: 498609.8125 - val_MSE: 1630606589952.0000\n",
            "Epoch 67/200\n",
            "126/126 [==============================] - 0s 2ms/step - loss: 483105.9062 - MSE: 931800219648.0000 - val_loss: 498612.7812 - val_MSE: 1634865643520.0000\n",
            "Epoch 68/200\n",
            "126/126 [==============================] - 0s 2ms/step - loss: 482157.1875 - MSE: 931548626944.0000 - val_loss: 497464.0312 - val_MSE: 1616897114112.0000\n",
            "Epoch 69/200\n",
            "126/126 [==============================] - 0s 2ms/step - loss: 481173.1875 - MSE: 929868021760.0000 - val_loss: 496541.2188 - val_MSE: 1590941188096.0000\n",
            "Epoch 70/200\n",
            "126/126 [==============================] - 0s 2ms/step - loss: 480270.3438 - MSE: 920341184512.0000 - val_loss: 496107.7500 - val_MSE: 1596705210368.0000\n",
            "\n",
            "Epoch 00070: saving model to checkpoints2/weights.70.hdf5\n",
            "Epoch 71/200\n",
            "126/126 [==============================] - 0s 2ms/step - loss: 479898.5000 - MSE: 920514396160.0000 - val_loss: 496062.6562 - val_MSE: 1602823520256.0000\n",
            "Epoch 72/200\n",
            "126/126 [==============================] - 0s 2ms/step - loss: 479067.0312 - MSE: 919231922176.0000 - val_loss: 495980.3125 - val_MSE: 1604812406784.0000\n",
            "Epoch 73/200\n",
            "126/126 [==============================] - 0s 2ms/step - loss: 477630.7500 - MSE: 911165423616.0000 - val_loss: 495939.1562 - val_MSE: 1565790175232.0000\n",
            "Epoch 74/200\n",
            "126/126 [==============================] - 0s 2ms/step - loss: 475876.4688 - MSE: 903772110848.0000 - val_loss: 495583.7812 - val_MSE: 1567723880448.0000\n",
            "Epoch 75/200\n",
            "126/126 [==============================] - 0s 2ms/step - loss: 473772.8750 - MSE: 898593587200.0000 - val_loss: 493944.5938 - val_MSE: 1561887899648.0000\n",
            "\n",
            "Epoch 00075: saving model to checkpoints2/weights.75.hdf5\n",
            "Epoch 76/200\n",
            "126/126 [==============================] - 0s 2ms/step - loss: 476321.0938 - MSE: 933456969728.0000 - val_loss: 495189.8438 - val_MSE: 1571343826944.0000\n",
            "Epoch 77/200\n",
            "126/126 [==============================] - 0s 2ms/step - loss: 473163.4375 - MSE: 895688769536.0000 - val_loss: 494192.4375 - val_MSE: 1581208305664.0000\n",
            "Epoch 78/200\n",
            "126/126 [==============================] - 0s 2ms/step - loss: 472034.3750 - MSE: 894025203712.0000 - val_loss: 493199.4688 - val_MSE: 1573137154048.0000\n",
            "Epoch 79/200\n",
            "126/126 [==============================] - 0s 2ms/step - loss: 471253.4688 - MSE: 889118195712.0000 - val_loss: 492234.8750 - val_MSE: 1566153637888.0000\n",
            "Epoch 80/200\n",
            "126/126 [==============================] - 0s 2ms/step - loss: 471113.3125 - MSE: 889844727808.0000 - val_loss: 491577.0312 - val_MSE: 1558391554048.0000\n",
            "\n",
            "Epoch 00080: saving model to checkpoints2/weights.80.hdf5\n",
            "Epoch 81/200\n",
            "126/126 [==============================] - 0s 2ms/step - loss: 470409.3438 - MSE: 885619556352.0000 - val_loss: 491440.9688 - val_MSE: 1558928818176.0000\n",
            "Epoch 82/200\n",
            "126/126 [==============================] - 0s 2ms/step - loss: 470432.1875 - MSE: 880290562048.0000 - val_loss: 494567.7812 - val_MSE: 1588762116096.0000\n",
            "Epoch 83/200\n",
            "126/126 [==============================] - 0s 2ms/step - loss: 476346.0312 - MSE: 906817437696.0000 - val_loss: 494155.0938 - val_MSE: 1521651810304.0000\n",
            "Epoch 84/200\n",
            "126/126 [==============================] - 0s 2ms/step - loss: 474642.7500 - MSE: 880731553792.0000 - val_loss: 494218.6562 - val_MSE: 1527244259328.0000\n",
            "Epoch 85/200\n",
            "126/126 [==============================] - 0s 2ms/step - loss: 472782.6562 - MSE: 882606407680.0000 - val_loss: 493953.1250 - val_MSE: 1531306573824.0000\n",
            "\n",
            "Epoch 00085: saving model to checkpoints2/weights.85.hdf5\n",
            "Epoch 86/200\n",
            "126/126 [==============================] - 0s 2ms/step - loss: 470149.5312 - MSE: 879690645504.0000 - val_loss: 492079.8438 - val_MSE: 1527236657152.0000\n",
            "Epoch 87/200\n",
            "126/126 [==============================] - 0s 2ms/step - loss: 469029.2500 - MSE: 868172234752.0000 - val_loss: 491562.9062 - val_MSE: 1542921256960.0000\n",
            "Epoch 88/200\n",
            "126/126 [==============================] - 0s 2ms/step - loss: 468770.0312 - MSE: 877602668544.0000 - val_loss: 491080.8438 - val_MSE: 1538785542144.0000\n",
            "Epoch 89/200\n",
            "126/126 [==============================] - 0s 2ms/step - loss: 468429.8438 - MSE: 882753798144.0000 - val_loss: 490093.7812 - val_MSE: 1514541023232.0000\n",
            "Epoch 90/200\n",
            "126/126 [==============================] - 0s 2ms/step - loss: 468173.1562 - MSE: 873786966016.0000 - val_loss: 490079.1562 - val_MSE: 1517415825408.0000\n",
            "\n",
            "Epoch 00090: saving model to checkpoints2/weights.90.hdf5\n",
            "Epoch 91/200\n",
            "126/126 [==============================] - 0s 2ms/step - loss: 468115.4375 - MSE: 866465284096.0000 - val_loss: 490269.3438 - val_MSE: 1519058550784.0000\n",
            "Epoch 92/200\n",
            "126/126 [==============================] - 0s 2ms/step - loss: 467349.1562 - MSE: 869009129472.0000 - val_loss: 490238.6562 - val_MSE: 1525452242944.0000\n",
            "Epoch 93/200\n",
            "126/126 [==============================] - 0s 2ms/step - loss: 467047.4062 - MSE: 873784016896.0000 - val_loss: 489147.8438 - val_MSE: 1500598370304.0000\n",
            "Epoch 94/200\n",
            "126/126 [==============================] - 0s 2ms/step - loss: 466462.0312 - MSE: 854544154624.0000 - val_loss: 490590.9062 - val_MSE: 1532699475968.0000\n",
            "Epoch 95/200\n",
            "126/126 [==============================] - 0s 2ms/step - loss: 466514.0625 - MSE: 876497272832.0000 - val_loss: 487901.2812 - val_MSE: 1471441141760.0000\n",
            "\n",
            "Epoch 00095: saving model to checkpoints2/weights.95.hdf5\n",
            "Epoch 96/200\n",
            "126/126 [==============================] - 0s 2ms/step - loss: 466913.7812 - MSE: 864068304896.0000 - val_loss: 488896.2500 - val_MSE: 1493865725952.0000\n",
            "Epoch 97/200\n",
            "126/126 [==============================] - 0s 2ms/step - loss: 465999.4375 - MSE: 861855481856.0000 - val_loss: 488547.0625 - val_MSE: 1484286853120.0000\n",
            "Epoch 98/200\n",
            "126/126 [==============================] - 0s 2ms/step - loss: 465791.5938 - MSE: 859702689792.0000 - val_loss: 488596.3125 - val_MSE: 1499811676160.0000\n",
            "Epoch 99/200\n",
            "126/126 [==============================] - 0s 2ms/step - loss: 465056.8438 - MSE: 863693438976.0000 - val_loss: 487405.9375 - val_MSE: 1479611777024.0000\n",
            "Epoch 100/200\n",
            "126/126 [==============================] - 0s 2ms/step - loss: 464729.8125 - MSE: 849942544384.0000 - val_loss: 487059.9375 - val_MSE: 1488463069184.0000\n",
            "\n",
            "Epoch 00100: saving model to checkpoints2/weights.100.hdf5\n",
            "Epoch 101/200\n",
            "126/126 [==============================] - 0s 2ms/step - loss: 464539.1875 - MSE: 862286118912.0000 - val_loss: 486205.2500 - val_MSE: 1459875741696.0000\n",
            "Epoch 102/200\n",
            "126/126 [==============================] - 0s 2ms/step - loss: 464181.1562 - MSE: 856298029056.0000 - val_loss: 485174.4375 - val_MSE: 1452400312320.0000\n",
            "Epoch 103/200\n",
            "126/126 [==============================] - 0s 2ms/step - loss: 499645.5000 - MSE: 3163543306240.0000 - val_loss: 489318.8750 - val_MSE: 1473765834752.0000\n",
            "Epoch 104/200\n",
            "126/126 [==============================] - 0s 2ms/step - loss: 474337.5000 - MSE: 884069302272.0000 - val_loss: 489970.2500 - val_MSE: 1445390712832.0000\n",
            "Epoch 105/200\n",
            "126/126 [==============================] - 0s 2ms/step - loss: 473482.6562 - MSE: 872953544704.0000 - val_loss: 488822.2500 - val_MSE: 1483808702464.0000\n",
            "\n",
            "Epoch 00105: saving model to checkpoints2/weights.105.hdf5\n",
            "Epoch 106/200\n",
            "126/126 [==============================] - 0s 2ms/step - loss: 472755.3438 - MSE: 875555192832.0000 - val_loss: 488705.8750 - val_MSE: 1461321596928.0000\n",
            "Epoch 107/200\n",
            "126/126 [==============================] - 0s 2ms/step - loss: 471831.0938 - MSE: 871581351936.0000 - val_loss: 488906.1250 - val_MSE: 1448212955136.0000\n",
            "Epoch 108/200\n",
            "126/126 [==============================] - 0s 2ms/step - loss: 470522.0312 - MSE: 861409837056.0000 - val_loss: 488366.5625 - val_MSE: 1459988594688.0000\n",
            "Epoch 109/200\n",
            "126/126 [==============================] - 0s 2ms/step - loss: 469032.0312 - MSE: 859600060416.0000 - val_loss: 488396.4375 - val_MSE: 1448537751552.0000\n",
            "Epoch 110/200\n",
            "126/126 [==============================] - 0s 2ms/step - loss: 486386.6562 - MSE: 1756444098560.0000 - val_loss: 487709.4375 - val_MSE: 1472795246592.0000\n",
            "\n",
            "Epoch 00110: saving model to checkpoints2/weights.110.hdf5\n",
            "Epoch 111/200\n",
            "126/126 [==============================] - 0s 2ms/step - loss: 470214.4375 - MSE: 867524804608.0000 - val_loss: 487647.7812 - val_MSE: 1458071535616.0000\n",
            "Epoch 112/200\n",
            "126/126 [==============================] - 0s 2ms/step - loss: 471610.5938 - MSE: 890748796928.0000 - val_loss: 487394.8438 - val_MSE: 1472496402432.0000\n",
            "Epoch 113/200\n",
            "126/126 [==============================] - 0s 2ms/step - loss: 468448.2500 - MSE: 865711489024.0000 - val_loss: 487580.6562 - val_MSE: 1444214079488.0000\n",
            "Epoch 114/200\n",
            "126/126 [==============================] - 0s 2ms/step - loss: 467282.7812 - MSE: 857546031104.0000 - val_loss: 488405.3438 - val_MSE: 1424702570496.0000\n",
            "Epoch 115/200\n",
            "126/126 [==============================] - 0s 2ms/step - loss: 465854.7188 - MSE: 852250853376.0000 - val_loss: 487392.5000 - val_MSE: 1441227866112.0000\n",
            "\n",
            "Epoch 00115: saving model to checkpoints2/weights.115.hdf5\n",
            "Epoch 116/200\n",
            "126/126 [==============================] - 0s 2ms/step - loss: 463639.6250 - MSE: 846625243136.0000 - val_loss: 486216.9375 - val_MSE: 1443011231744.0000\n",
            "Epoch 117/200\n",
            "126/126 [==============================] - 0s 2ms/step - loss: 461672.8750 - MSE: 843837538304.0000 - val_loss: 484170.1250 - val_MSE: 1449283551232.0000\n",
            "Epoch 118/200\n",
            "126/126 [==============================] - 0s 2ms/step - loss: 460542.4062 - MSE: 835666509824.0000 - val_loss: 484883.3125 - val_MSE: 1483616157696.0000\n",
            "Epoch 119/200\n",
            "126/126 [==============================] - 0s 2ms/step - loss: 460702.9375 - MSE: 850232868864.0000 - val_loss: 482870.2500 - val_MSE: 1454160084992.0000\n",
            "Epoch 120/200\n",
            "126/126 [==============================] - 0s 2ms/step - loss: 460332.4375 - MSE: 842402627584.0000 - val_loss: 482992.2500 - val_MSE: 1456353312768.0000\n",
            "\n",
            "Epoch 00120: saving model to checkpoints2/weights.120.hdf5\n",
            "Epoch 121/200\n",
            "126/126 [==============================] - 0s 2ms/step - loss: 459957.7188 - MSE: 837892046848.0000 - val_loss: 482886.3438 - val_MSE: 1459265339392.0000\n",
            "Epoch 122/200\n",
            "126/126 [==============================] - 0s 2ms/step - loss: 459529.4375 - MSE: 841569861632.0000 - val_loss: 481458.7812 - val_MSE: 1430120300544.0000\n",
            "Epoch 123/200\n",
            "126/126 [==============================] - 0s 2ms/step - loss: 459218.1562 - MSE: 838188269568.0000 - val_loss: 480984.7812 - val_MSE: 1432233050112.0000\n",
            "Epoch 124/200\n",
            "126/126 [==============================] - 0s 2ms/step - loss: 466290.0000 - MSE: 948082835456.0000 - val_loss: 485507.2188 - val_MSE: 1485838745600.0000\n",
            "Epoch 125/200\n",
            "126/126 [==============================] - 0s 2ms/step - loss: 468896.5000 - MSE: 864237715456.0000 - val_loss: 483903.5938 - val_MSE: 1422772797440.0000\n",
            "\n",
            "Epoch 00125: saving model to checkpoints2/weights.125.hdf5\n",
            "Epoch 126/200\n",
            "126/126 [==============================] - 0s 2ms/step - loss: 467128.4375 - MSE: 857727762432.0000 - val_loss: 483217.6250 - val_MSE: 1433173884928.0000\n",
            "Epoch 127/200\n",
            "126/126 [==============================] - 0s 3ms/step - loss: 465756.0000 - MSE: 846885158912.0000 - val_loss: 482987.7500 - val_MSE: 1446971703296.0000\n",
            "Epoch 128/200\n",
            "126/126 [==============================] - 0s 2ms/step - loss: 464462.3438 - MSE: 850733498368.0000 - val_loss: 483035.4062 - val_MSE: 1422187954176.0000\n",
            "Epoch 129/200\n",
            "126/126 [==============================] - 0s 2ms/step - loss: 462926.7812 - MSE: 844178325504.0000 - val_loss: 483359.0312 - val_MSE: 1408298516480.0000\n",
            "Epoch 130/200\n",
            "126/126 [==============================] - 0s 2ms/step - loss: 460769.0000 - MSE: 832098205696.0000 - val_loss: 483138.5000 - val_MSE: 1416711634944.0000\n",
            "\n",
            "Epoch 00130: saving model to checkpoints2/weights.130.hdf5\n",
            "Epoch 131/200\n",
            "126/126 [==============================] - 0s 2ms/step - loss: 457935.9375 - MSE: 828218212352.0000 - val_loss: 480394.8438 - val_MSE: 1424033447936.0000\n",
            "Epoch 132/200\n",
            "126/126 [==============================] - 0s 2ms/step - loss: 456548.0625 - MSE: 827064254464.0000 - val_loss: 479151.0938 - val_MSE: 1433721503744.0000\n",
            "Epoch 133/200\n",
            "126/126 [==============================] - 0s 2ms/step - loss: 456069.1562 - MSE: 828615163904.0000 - val_loss: 478842.1875 - val_MSE: 1437162930176.0000\n",
            "Epoch 134/200\n",
            "126/126 [==============================] - 0s 2ms/step - loss: 455790.6250 - MSE: 831059853312.0000 - val_loss: 478009.9688 - val_MSE: 1416462204928.0000\n",
            "Epoch 135/200\n",
            "126/126 [==============================] - 0s 2ms/step - loss: 455368.7812 - MSE: 827596341248.0000 - val_loss: 477381.4688 - val_MSE: 1405399990272.0000\n",
            "\n",
            "Epoch 00135: saving model to checkpoints2/weights.135.hdf5\n",
            "Epoch 136/200\n",
            "126/126 [==============================] - 0s 2ms/step - loss: 454741.7500 - MSE: 822009987072.0000 - val_loss: 477497.3438 - val_MSE: 1422151778304.0000\n",
            "Epoch 137/200\n",
            "126/126 [==============================] - 0s 2ms/step - loss: 454343.7812 - MSE: 827361067008.0000 - val_loss: 477470.2500 - val_MSE: 1432532418560.0000\n",
            "Epoch 138/200\n",
            "126/126 [==============================] - 0s 3ms/step - loss: 453835.4688 - MSE: 819425902592.0000 - val_loss: 476054.3438 - val_MSE: 1411050110976.0000\n",
            "Epoch 139/200\n",
            "126/126 [==============================] - 0s 2ms/step - loss: 453449.2812 - MSE: 822506356736.0000 - val_loss: 476215.7500 - val_MSE: 1405921656832.0000\n",
            "Epoch 140/200\n",
            "126/126 [==============================] - 0s 3ms/step - loss: 453106.4375 - MSE: 822885351424.0000 - val_loss: 475486.7188 - val_MSE: 1390489632768.0000\n",
            "\n",
            "Epoch 00140: saving model to checkpoints2/weights.140.hdf5\n",
            "Epoch 141/200\n",
            "126/126 [==============================] - 0s 2ms/step - loss: 452403.2500 - MSE: 820653326336.0000 - val_loss: 474734.5625 - val_MSE: 1390103232512.0000\n",
            "Epoch 142/200\n",
            "126/126 [==============================] - 0s 2ms/step - loss: 452053.9375 - MSE: 810943971328.0000 - val_loss: 474549.6562 - val_MSE: 1400475877376.0000\n",
            "Epoch 143/200\n",
            "126/126 [==============================] - 0s 2ms/step - loss: 451428.7812 - MSE: 816723787776.0000 - val_loss: 473074.3750 - val_MSE: 1378084454400.0000\n",
            "Epoch 144/200\n",
            "126/126 [==============================] - 0s 2ms/step - loss: 457495.1562 - MSE: 839074775040.0000 - val_loss: 478162.9688 - val_MSE: 1358974550016.0000\n",
            "Epoch 145/200\n",
            "126/126 [==============================] - 0s 2ms/step - loss: 453588.3125 - MSE: 813299531776.0000 - val_loss: 474853.3125 - val_MSE: 1377120681984.0000\n",
            "\n",
            "Epoch 00145: saving model to checkpoints2/weights.145.hdf5\n",
            "Epoch 146/200\n",
            "126/126 [==============================] - 0s 2ms/step - loss: 450151.4688 - MSE: 812053954560.0000 - val_loss: 472624.6562 - val_MSE: 1384352186368.0000\n",
            "Epoch 147/200\n",
            "126/126 [==============================] - 0s 2ms/step - loss: 449817.1875 - MSE: 809996910592.0000 - val_loss: 471174.3750 - val_MSE: 1372802646016.0000\n",
            "Epoch 148/200\n",
            "126/126 [==============================] - 0s 2ms/step - loss: 448943.3438 - MSE: 812049760256.0000 - val_loss: 472070.7188 - val_MSE: 1351255851008.0000\n",
            "Epoch 149/200\n",
            "126/126 [==============================] - 0s 2ms/step - loss: 448924.8750 - MSE: 802409807872.0000 - val_loss: 471215.6250 - val_MSE: 1372344942592.0000\n",
            "Epoch 150/200\n",
            "126/126 [==============================] - 0s 2ms/step - loss: 477693.8125 - MSE: 1634486059008.0000 - val_loss: 475615.8125 - val_MSE: 1363434012672.0000\n",
            "\n",
            "Epoch 00150: saving model to checkpoints2/weights.150.hdf5\n",
            "Epoch 151/200\n",
            "126/126 [==============================] - 0s 2ms/step - loss: 460882.1875 - MSE: 838420594688.0000 - val_loss: 474105.1562 - val_MSE: 1379629400064.0000\n",
            "Epoch 152/200\n",
            "126/126 [==============================] - 0s 2ms/step - loss: 459020.4375 - MSE: 834359394304.0000 - val_loss: 473297.4062 - val_MSE: 1379673047040.0000\n",
            "Epoch 153/200\n",
            "126/126 [==============================] - 0s 2ms/step - loss: 457268.4062 - MSE: 832609255424.0000 - val_loss: 472817.5938 - val_MSE: 1361812652032.0000\n",
            "Epoch 154/200\n",
            "126/126 [==============================] - 0s 2ms/step - loss: 455462.5000 - MSE: 823999594496.0000 - val_loss: 472002.1250 - val_MSE: 1360426434560.0000\n",
            "Epoch 155/200\n",
            "126/126 [==============================] - 0s 2ms/step - loss: 453076.9375 - MSE: 813896368128.0000 - val_loss: 472053.8438 - val_MSE: 1377361985536.0000\n",
            "\n",
            "Epoch 00155: saving model to checkpoints2/weights.155.hdf5\n",
            "Epoch 156/200\n",
            "126/126 [==============================] - 0s 2ms/step - loss: 457592.2500 - MSE: 889943031808.0000 - val_loss: 471275.2812 - val_MSE: 1351454818304.0000\n",
            "Epoch 157/200\n",
            "126/126 [==============================] - 0s 2ms/step - loss: 452944.9375 - MSE: 815353430016.0000 - val_loss: 470834.5000 - val_MSE: 1371802697728.0000\n",
            "Epoch 158/200\n",
            "126/126 [==============================] - 0s 2ms/step - loss: 451317.3125 - MSE: 813738229760.0000 - val_loss: 470590.8750 - val_MSE: 1367030890496.0000\n",
            "Epoch 159/200\n",
            "126/126 [==============================] - 0s 2ms/step - loss: 449192.1875 - MSE: 806054461440.0000 - val_loss: 470470.1875 - val_MSE: 1360952557568.0000\n",
            "Epoch 160/200\n",
            "126/126 [==============================] - 0s 2ms/step - loss: 445467.0625 - MSE: 794620854272.0000 - val_loss: 467668.6875 - val_MSE: 1362582437888.0000\n",
            "\n",
            "Epoch 00160: saving model to checkpoints2/weights.160.hdf5\n",
            "Epoch 161/200\n",
            "126/126 [==============================] - 0s 2ms/step - loss: 443515.0625 - MSE: 793095438336.0000 - val_loss: 465898.2188 - val_MSE: 1334659252224.0000\n",
            "Epoch 162/200\n",
            "126/126 [==============================] - 0s 2ms/step - loss: 442849.4062 - MSE: 792001511424.0000 - val_loss: 465855.0938 - val_MSE: 1342668144640.0000\n",
            "Epoch 163/200\n",
            "126/126 [==============================] - 0s 2ms/step - loss: 441956.5625 - MSE: 793357844480.0000 - val_loss: 465284.6562 - val_MSE: 1321913548800.0000\n",
            "Epoch 164/200\n",
            "126/126 [==============================] - 0s 2ms/step - loss: 441599.9688 - MSE: 785142906880.0000 - val_loss: 463968.3438 - val_MSE: 1313297924096.0000\n",
            "Epoch 165/200\n",
            "126/126 [==============================] - 0s 2ms/step - loss: 440754.5312 - MSE: 786125684736.0000 - val_loss: 464373.2188 - val_MSE: 1291900944384.0000\n",
            "\n",
            "Epoch 00165: saving model to checkpoints2/weights.165.hdf5\n",
            "Epoch 166/200\n",
            "126/126 [==============================] - 0s 2ms/step - loss: 440834.1250 - MSE: 779658199040.0000 - val_loss: 463969.9375 - val_MSE: 1324901859328.0000\n",
            "Epoch 167/200\n",
            "126/126 [==============================] - 0s 2ms/step - loss: 439346.6875 - MSE: 781238403072.0000 - val_loss: 463687.7812 - val_MSE: 1332324335616.0000\n",
            "Epoch 168/200\n",
            "126/126 [==============================] - 0s 2ms/step - loss: 439017.5312 - MSE: 782332592128.0000 - val_loss: 463509.7500 - val_MSE: 1322594205696.0000\n",
            "Epoch 169/200\n",
            "126/126 [==============================] - 0s 2ms/step - loss: 438139.5625 - MSE: 778554048512.0000 - val_loss: 461653.1250 - val_MSE: 1310702305280.0000\n",
            "Epoch 170/200\n",
            "126/126 [==============================] - 0s 2ms/step - loss: 437262.5000 - MSE: 775486832640.0000 - val_loss: 463429.5938 - val_MSE: 1339090403328.0000\n",
            "\n",
            "Epoch 00170: saving model to checkpoints2/weights.170.hdf5\n",
            "Epoch 171/200\n",
            "126/126 [==============================] - 0s 2ms/step - loss: 436791.3438 - MSE: 779024990208.0000 - val_loss: 460305.7812 - val_MSE: 1308364111872.0000\n",
            "Epoch 172/200\n",
            "126/126 [==============================] - 0s 2ms/step - loss: 435898.0625 - MSE: 770852651008.0000 - val_loss: 459440.5625 - val_MSE: 1295780544512.0000\n",
            "Epoch 173/200\n",
            "126/126 [==============================] - 0s 2ms/step - loss: 435323.8750 - MSE: 770127167488.0000 - val_loss: 457694.0625 - val_MSE: 1294341767168.0000\n",
            "Epoch 174/200\n",
            "126/126 [==============================] - 0s 2ms/step - loss: 447466.2188 - MSE: 1471604326400.0000 - val_loss: 469498.3438 - val_MSE: 1382393053184.0000\n",
            "Epoch 175/200\n",
            "126/126 [==============================] - 0s 2ms/step - loss: 455149.3438 - MSE: 841142173696.0000 - val_loss: 463259.5938 - val_MSE: 1319205732352.0000\n",
            "\n",
            "Epoch 00175: saving model to checkpoints2/weights.175.hdf5\n",
            "Epoch 176/200\n",
            "126/126 [==============================] - 0s 2ms/step - loss: 450350.0000 - MSE: 813999128576.0000 - val_loss: 461684.5625 - val_MSE: 1319136788480.0000\n",
            "Epoch 177/200\n",
            "126/126 [==============================] - 0s 2ms/step - loss: 447354.2812 - MSE: 802375073792.0000 - val_loss: 460856.5000 - val_MSE: 1321088843776.0000\n",
            "Epoch 178/200\n",
            "126/126 [==============================] - 0s 2ms/step - loss: 448212.1250 - MSE: 846374174720.0000 - val_loss: 461111.4375 - val_MSE: 1330816876544.0000\n",
            "Epoch 179/200\n",
            "126/126 [==============================] - 0s 2ms/step - loss: 445458.1875 - MSE: 800853655552.0000 - val_loss: 458856.1562 - val_MSE: 1293430947840.0000\n",
            "Epoch 180/200\n",
            "126/126 [==============================] - 0s 2ms/step - loss: 442787.0312 - MSE: 795003125760.0000 - val_loss: 458668.0312 - val_MSE: 1273505775616.0000\n",
            "\n",
            "Epoch 00180: saving model to checkpoints2/weights.180.hdf5\n",
            "Epoch 181/200\n",
            "126/126 [==============================] - 0s 2ms/step - loss: 442077.6562 - MSE: 794096107520.0000 - val_loss: 458170.1562 - val_MSE: 1299746390016.0000\n",
            "Epoch 182/200\n",
            "126/126 [==============================] - 0s 2ms/step - loss: 441364.1875 - MSE: 787511705600.0000 - val_loss: 458134.3438 - val_MSE: 1254549749760.0000\n",
            "Epoch 183/200\n",
            "126/126 [==============================] - 0s 2ms/step - loss: 439466.0938 - MSE: 781710262272.0000 - val_loss: 457811.0625 - val_MSE: 1256429715456.0000\n",
            "Epoch 184/200\n",
            "126/126 [==============================] - 0s 2ms/step - loss: 439005.7500 - MSE: 777247129600.0000 - val_loss: 456249.6875 - val_MSE: 1274516340736.0000\n",
            "Epoch 185/200\n",
            "126/126 [==============================] - 0s 2ms/step - loss: 439807.6875 - MSE: 780191662080.0000 - val_loss: 456509.5000 - val_MSE: 1277485776896.0000\n",
            "\n",
            "Epoch 00185: saving model to checkpoints2/weights.185.hdf5\n",
            "Epoch 186/200\n",
            "126/126 [==============================] - 0s 2ms/step - loss: 437714.1250 - MSE: 779779244032.0000 - val_loss: 456303.0938 - val_MSE: 1254551322624.0000\n",
            "Epoch 187/200\n",
            "126/126 [==============================] - 0s 2ms/step - loss: 435080.8750 - MSE: 763280883712.0000 - val_loss: 456833.0938 - val_MSE: 1272586305536.0000\n",
            "Epoch 188/200\n",
            "126/126 [==============================] - 0s 2ms/step - loss: 430876.9375 - MSE: 754727583744.0000 - val_loss: 455003.5625 - val_MSE: 1271348068352.0000\n",
            "Epoch 189/200\n",
            "126/126 [==============================] - 0s 2ms/step - loss: 427279.9062 - MSE: 750900019200.0000 - val_loss: 450837.2500 - val_MSE: 1242915143680.0000\n",
            "Epoch 190/200\n",
            "126/126 [==============================] - 0s 2ms/step - loss: 426649.6875 - MSE: 744539947008.0000 - val_loss: 452133.5938 - val_MSE: 1252619583488.0000\n",
            "\n",
            "Epoch 00190: saving model to checkpoints2/weights.190.hdf5\n",
            "Epoch 191/200\n",
            "126/126 [==============================] - 0s 2ms/step - loss: 427788.2812 - MSE: 758203219968.0000 - val_loss: 459733.5938 - val_MSE: 1328231088128.0000\n",
            "Epoch 192/200\n",
            "126/126 [==============================] - 0s 2ms/step - loss: 443962.2188 - MSE: 805447401472.0000 - val_loss: 453826.8438 - val_MSE: 1262850932736.0000\n",
            "Epoch 193/200\n",
            "126/126 [==============================] - 0s 2ms/step - loss: 440905.3125 - MSE: 788393689088.0000 - val_loss: 453098.1875 - val_MSE: 1264591306752.0000\n",
            "Epoch 194/200\n",
            "126/126 [==============================] - 0s 2ms/step - loss: 438070.4688 - MSE: 781132234752.0000 - val_loss: 454009.9375 - val_MSE: 1201314332672.0000\n",
            "Epoch 195/200\n",
            "126/126 [==============================] - 0s 2ms/step - loss: 435445.2500 - MSE: 764899033088.0000 - val_loss: 452653.0312 - val_MSE: 1216887390208.0000\n",
            "\n",
            "Epoch 00195: saving model to checkpoints2/weights.195.hdf5\n",
            "Epoch 196/200\n",
            "126/126 [==============================] - 0s 2ms/step - loss: 432272.6562 - MSE: 754962464768.0000 - val_loss: 453021.8750 - val_MSE: 1217042448384.0000\n",
            "Epoch 197/200\n",
            "126/126 [==============================] - 0s 2ms/step - loss: 432011.6875 - MSE: 767898943488.0000 - val_loss: 452948.5938 - val_MSE: 1228609159168.0000\n",
            "Epoch 198/200\n",
            "126/126 [==============================] - 0s 2ms/step - loss: 426841.6250 - MSE: 739269672960.0000 - val_loss: 451493.0312 - val_MSE: 1198221164544.0000\n",
            "Epoch 199/200\n",
            "126/126 [==============================] - 0s 2ms/step - loss: 455027.0625 - MSE: 2698835918848.0000 - val_loss: 449356.0312 - val_MSE: 1215475613696.0000\n",
            "Epoch 200/200\n",
            "126/126 [==============================] - 0s 2ms/step - loss: 432963.3438 - MSE: 766101880832.0000 - val_loss: 449542.2500 - val_MSE: 1204886175744.0000\n",
            "\n",
            "Epoch 00200: saving model to checkpoints2/weights.200.hdf5\n"
          ],
          "name": "stdout"
        }
      ]
    },
    {
      "cell_type": "code",
      "metadata": {
        "id": "GTPKTrmLF60r"
      },
      "source": [
        "# Export our model to HDF5 file\n",
        "model4.save(\"NN2_housing.h5\")\n",
        "\n",
        "# the predict() method is used to generate predictions\n",
        "y4_pred = model4.predict(X2_test) # <= X2 has no List_Price"
      ],
      "execution_count": null,
      "outputs": []
    },
    {
      "cell_type": "markdown",
      "metadata": {
        "id": "hEZsgBuuqk_r"
      },
      "source": [
        "**Note: ** R-square drops significantly"
      ]
    },
    {
      "cell_type": "code",
      "metadata": {
        "id": "dYvH8QKknhaV",
        "colab": {
          "base_uri": "https://localhost:8080/"
        },
        "outputId": "baea0d50-3b9e-4c6f-8d53-e7158b39ea4a"
      },
      "source": [
        "# evaluate the performance of the algorithm (MAE - MSE - RMSE)\n",
        "from sklearn import metrics\n",
        "print('Model 4: Neural Network without List_Price')\n",
        "#print('Mean Absolute Error (MAE):', metrics.mean_absolute_error(y_test, y4_pred))  \n",
        "#print('Mean Squared Error (MSE):', metrics.mean_squared_error(y_test, y4_pred))  \n",
        "print('Root Mean Squared Error (RMSE):', np.sqrt(metrics.mean_squared_error(y_test, y4_pred)))\n",
        "print('Variance -- VarScore:', metrics.explained_variance_score(y_test,y4_pred))\n",
        "print(\"R squared(R2):\", metrics.r2_score(y_test, y4_pred))"
      ],
      "execution_count": null,
      "outputs": [
        {
          "output_type": "stream",
          "text": [
            "Model 4: Neural Network without List_Price\n",
            "Root Mean Squared Error (RMSE): 1097673.156692757\n",
            "Variance -- VarScore: 0.537689883623117\n",
            "R squared(R2): 0.5257056589610347\n"
          ],
          "name": "stdout"
        }
      ]
    },
    {
      "cell_type": "code",
      "metadata": {
        "id": "is_CmT9WnhlK",
        "colab": {
          "base_uri": "https://localhost:8080/",
          "height": 357
        },
        "outputId": "32524590-a231-448b-d50f-30dd55fb120a"
      },
      "source": [
        "#df = create a df of Sales_Price and Prediction values\n",
        "result4_df = pd.DataFrame({\"Sale_Price\": [x for x in y_test], \"Predict_NN_4\": [x[0] for x in y4_pred]})\n",
        "result4_df['Predict_NN_4'] = result4_df['Predict_NN_4'].map('{:,.2f}'.format)\n",
        "result4_df.head(10)"
      ],
      "execution_count": null,
      "outputs": [
        {
          "output_type": "execute_result",
          "data": {
            "text/html": [
              "<div>\n",
              "<style scoped>\n",
              "    .dataframe tbody tr th:only-of-type {\n",
              "        vertical-align: middle;\n",
              "    }\n",
              "\n",
              "    .dataframe tbody tr th {\n",
              "        vertical-align: top;\n",
              "    }\n",
              "\n",
              "    .dataframe thead th {\n",
              "        text-align: right;\n",
              "    }\n",
              "</style>\n",
              "<table border=\"1\" class=\"dataframe\">\n",
              "  <thead>\n",
              "    <tr style=\"text-align: right;\">\n",
              "      <th></th>\n",
              "      <th>Sale_Price</th>\n",
              "      <th>Predict_NN_4</th>\n",
              "    </tr>\n",
              "  </thead>\n",
              "  <tbody>\n",
              "    <tr>\n",
              "      <th>0</th>\n",
              "      <td>1005000</td>\n",
              "      <td>893,362.38</td>\n",
              "    </tr>\n",
              "    <tr>\n",
              "      <th>1</th>\n",
              "      <td>1175000</td>\n",
              "      <td>1,406,229.62</td>\n",
              "    </tr>\n",
              "    <tr>\n",
              "      <th>2</th>\n",
              "      <td>565000</td>\n",
              "      <td>723,752.31</td>\n",
              "    </tr>\n",
              "    <tr>\n",
              "      <th>3</th>\n",
              "      <td>950000</td>\n",
              "      <td>998,141.25</td>\n",
              "    </tr>\n",
              "    <tr>\n",
              "      <th>4</th>\n",
              "      <td>625000</td>\n",
              "      <td>598,905.44</td>\n",
              "    </tr>\n",
              "    <tr>\n",
              "      <th>5</th>\n",
              "      <td>1925000</td>\n",
              "      <td>940,863.06</td>\n",
              "    </tr>\n",
              "    <tr>\n",
              "      <th>6</th>\n",
              "      <td>21150000</td>\n",
              "      <td>7,940,968.00</td>\n",
              "    </tr>\n",
              "    <tr>\n",
              "      <th>7</th>\n",
              "      <td>2000000</td>\n",
              "      <td>1,234,092.62</td>\n",
              "    </tr>\n",
              "    <tr>\n",
              "      <th>8</th>\n",
              "      <td>341000</td>\n",
              "      <td>761,218.81</td>\n",
              "    </tr>\n",
              "    <tr>\n",
              "      <th>9</th>\n",
              "      <td>1450000</td>\n",
              "      <td>1,712,736.12</td>\n",
              "    </tr>\n",
              "  </tbody>\n",
              "</table>\n",
              "</div>"
            ],
            "text/plain": [
              "   Sale_Price  Predict_NN_4\n",
              "0     1005000    893,362.38\n",
              "1     1175000  1,406,229.62\n",
              "2      565000    723,752.31\n",
              "3      950000    998,141.25\n",
              "4      625000    598,905.44\n",
              "5     1925000    940,863.06\n",
              "6    21150000  7,940,968.00\n",
              "7     2000000  1,234,092.62\n",
              "8      341000    761,218.81\n",
              "9     1450000  1,712,736.12"
            ]
          },
          "metadata": {},
          "execution_count": 197
        }
      ]
    },
    {
      "cell_type": "code",
      "metadata": {
        "id": "vJhdTSzW7HG7"
      },
      "source": [
        "# This is the final data frame of all the model prediction\n",
        "total_result_df = total_result_df.merge(result4_df, how='left', on='Sale_Price', left_index=True, right_index=True)\n",
        "#total_result_df.head(10)"
      ],
      "execution_count": null,
      "outputs": []
    },
    {
      "cell_type": "code",
      "metadata": {
        "id": "rpu_kYUZqwrg",
        "colab": {
          "base_uri": "https://localhost:8080/",
          "height": 350
        },
        "outputId": "5af3b069-8eb2-43e1-c6e7-b4490fd68062"
      },
      "source": [
        "import matplotlib.pyplot as plt\n",
        "plt.figure(figsize=(10,5))\n",
        "plt.plot(np.array(y4_pred))\n",
        "plt.plot(np.array(y_test))\n",
        "plt.title('Model 4: Neural Network without List_Price')\n",
        "plt.ylabel('Price')\n",
        "plt.xlabel('No. of Samples')\n",
        "plt.legend(['Prediction 4', 'Sale_Price'], loc='upper right')\n",
        "plt.show()"
      ],
      "execution_count": null,
      "outputs": [
        {
          "output_type": "display_data",
          "data": {
            "image/png": "[encoded data removed]",
            "text/plain": [
              "<Figure size 720x360 with 1 Axes>"
            ]
          },
          "metadata": {
            "needs_background": "light"
          }
        }
      ]
    },
    {
      "cell_type": "code",
      "metadata": {
        "id": "HFJdJchwqw0j",
        "colab": {
          "base_uri": "https://localhost:8080/"
        },
        "outputId": "043645ef-644d-4f19-a3cb-cde43cfb2dbc"
      },
      "source": [
        "print(\"SUMMARY OF R2_SCORE\"'\\n')\n",
        "print(\"Model 1: Regression with List_Price:\", metrics.r2_score(y_test, y1_pred))\n",
        "print('')\n",
        "print(\"Model 2: Regression withOUT List_Price:\", metrics.r2_score(y_test, y2_pred))\n",
        "print('')\n",
        "print(\"Model 3: Neural Network with List_Price:\", metrics.r2_score(y_test, y3_pred))\n",
        "print('')\n",
        "print(\"Model 4: Neural Network withOUT List_Price:\", metrics.r2_score(y_test, y4_pred))"
      ],
      "execution_count": null,
      "outputs": [
        {
          "output_type": "stream",
          "text": [
            "SUMMARY OF R2_SCORE\n",
            "\n",
            "Model 1: Regression with List_Price: 0.9605332854433306\n",
            "\n",
            "Model 2: Regression withOUT List_Price: 0.6722142200798393\n",
            "\n",
            "Model 3: Neural Network with List_Price: 0.9477787674347592\n",
            "\n",
            "Model 4: Neural Network withOUT List_Price: 0.5257056589610347\n"
          ],
          "name": "stdout"
        }
      ]
    },
    {
      "cell_type": "markdown",
      "metadata": {
        "id": "lM1xNxclg6nL"
      },
      "source": [
        "**BEGIN Random Forest**"
      ]
    },
    {
      "cell_type": "code",
      "metadata": {
        "colab": {
          "base_uri": "https://localhost:8080/"
        },
        "id": "edws-8myHsRT",
        "outputId": "b2e51534-384c-42ac-dd3a-5dada7ba579f"
      },
      "source": [
        "# Need to keep it here to remind what the the testing and traing features\n",
        "print(X_train.shape, X_test.shape, y_train.shape, y_test.shape)# <= X_tranin includes \"List_Price\"\n",
        "print(X2_train.shape, X2_test.shape, y_train.shape, y_test.shape)# <= X2_train excludes \"List_Price\""
      ],
      "execution_count": null,
      "outputs": [
        {
          "output_type": "stream",
          "text": [
            "(4013, 47) (212, 47) (4013,) (212,)\n",
            "(4013, 46) (212, 46) (4013,) (212,)\n"
          ],
          "name": "stdout"
        }
      ]
    },
    {
      "cell_type": "code",
      "metadata": {
        "id": "u_91-RrbHq75"
      },
      "source": [
        "from sklearn.linear_model import LinearRegression, Ridge, Lasso\n",
        "from sklearn.ensemble import RandomForestRegressor\n",
        "from sklearn.model_selection import cross_val_score, train_test_split, GridSearchCV"
      ],
      "execution_count": null,
      "outputs": []
    },
    {
      "cell_type": "code",
      "metadata": {
        "colab": {
          "base_uri": "https://localhost:8080/"
        },
        "id": "Lo5pcmPrHrO_",
        "outputId": "ac1759f4-12d5-43e7-cf06-a91d72a59b30"
      },
      "source": [
        "# Evaluate the model\n",
        "model5 = RandomForestRegressor(n_estimators = epochs_no, max_depth = 5, min_samples_leaf= 5, max_features = 'sqrt')  # using GridSearch\n",
        "model5 = RandomForestRegressor()\n",
        "model5.fit(X_train, y_train) # gets the parameters for the rfr model"
      ],
      "execution_count": null,
      "outputs": [
        {
          "output_type": "execute_result",
          "data": {
            "text/plain": [
              "RandomForestRegressor(bootstrap=True, ccp_alpha=0.0, criterion='mse',\n",
              "                      max_depth=None, max_features='auto', max_leaf_nodes=None,\n",
              "                      max_samples=None, min_impurity_decrease=0.0,\n",
              "                      min_impurity_split=None, min_samples_leaf=1,\n",
              "                      min_samples_split=2, min_weight_fraction_leaf=0.0,\n",
              "                      n_estimators=100, n_jobs=None, oob_score=False,\n",
              "                      random_state=None, verbose=0, warm_start=False)"
            ]
          },
          "metadata": {},
          "execution_count": 203
        }
      ]
    },
    {
      "cell_type": "code",
      "metadata": {
        "id": "KxWyxltALiYA"
      },
      "source": [
        "# the predict() method is used to generate predictions\n",
        "y5_pred = model5.predict(X_test) # <= X2 has no List_Price"
      ],
      "execution_count": null,
      "outputs": []
    },
    {
      "cell_type": "code",
      "metadata": {
        "id": "tbGe_HupdqEq",
        "colab": {
          "base_uri": "https://localhost:8080/"
        },
        "outputId": "e1ae03ee-b443-443b-f911-a6dd2ac02fe8"
      },
      "source": [
        "# evaluate the performance of the algorithm (MAE - MSE - RMSE)\n",
        "print('Model 5: Random Forest with List_Price')\n",
        "#print('Mean Absolute Error (MAE):', metrics.mean_absolute_error(y_test, y4_pred))  \n",
        "#print('Mean Squared Error (MSE):', metrics.mean_squared_error(y_test, y4_pred))  \n",
        "print('Root Mean Squared Error (RMSE):', np.sqrt(metrics.mean_squared_error(y_test, y5_pred)))\n",
        "print('Variance -- VarScore:', metrics.explained_variance_score(y_test,y5_pred))\n",
        "print(\"R squared(R2):\", metrics.r2_score(y_test, y5_pred))"
      ],
      "execution_count": null,
      "outputs": [
        {
          "output_type": "stream",
          "text": [
            "Model 5: Random Forest with List_Price\n",
            "Root Mean Squared Error (RMSE): 249951.11179597076\n",
            "Variance -- VarScore: 0.975511226730619\n",
            "R squared(R2): 0.9754069721764181\n"
          ],
          "name": "stdout"
        }
      ]
    },
    {
      "cell_type": "code",
      "metadata": {
        "colab": {
          "base_uri": "https://localhost:8080/",
          "height": 357
        },
        "id": "sbhMVg3RLyi5",
        "outputId": "e98ed8bd-fce6-4330-a0a6-600f6a373ea5"
      },
      "source": [
        "#df = create a df of Sales_Price and Prediction values\n",
        "result5_df = pd.DataFrame({\"Sale_Price\": [x for x in y_test], \"Predict_rfr_5\": [x for x in y5_pred]})\n",
        "result5_df['Predict_rfr_5'] = result5_df['Predict_rfr_5'].map('{:,.2f}'.format)\n",
        "result5_df.head(10)"
      ],
      "execution_count": null,
      "outputs": [
        {
          "output_type": "execute_result",
          "data": {
            "text/html": [
              "<div>\n",
              "<style scoped>\n",
              "    .dataframe tbody tr th:only-of-type {\n",
              "        vertical-align: middle;\n",
              "    }\n",
              "\n",
              "    .dataframe tbody tr th {\n",
              "        vertical-align: top;\n",
              "    }\n",
              "\n",
              "    .dataframe thead th {\n",
              "        text-align: right;\n",
              "    }\n",
              "</style>\n",
              "<table border=\"1\" class=\"dataframe\">\n",
              "  <thead>\n",
              "    <tr style=\"text-align: right;\">\n",
              "      <th></th>\n",
              "      <th>Sale_Price</th>\n",
              "      <th>Predict_rfr_5</th>\n",
              "    </tr>\n",
              "  </thead>\n",
              "  <tbody>\n",
              "    <tr>\n",
              "      <th>0</th>\n",
              "      <td>1005000</td>\n",
              "      <td>940,514.20</td>\n",
              "    </tr>\n",
              "    <tr>\n",
              "      <th>1</th>\n",
              "      <td>1175000</td>\n",
              "      <td>1,186,084.00</td>\n",
              "    </tr>\n",
              "    <tr>\n",
              "      <th>2</th>\n",
              "      <td>565000</td>\n",
              "      <td>569,890.00</td>\n",
              "    </tr>\n",
              "    <tr>\n",
              "      <th>3</th>\n",
              "      <td>950000</td>\n",
              "      <td>940,118.68</td>\n",
              "    </tr>\n",
              "    <tr>\n",
              "      <th>4</th>\n",
              "      <td>625000</td>\n",
              "      <td>599,575.52</td>\n",
              "    </tr>\n",
              "    <tr>\n",
              "      <th>5</th>\n",
              "      <td>1925000</td>\n",
              "      <td>1,965,106.00</td>\n",
              "    </tr>\n",
              "    <tr>\n",
              "      <th>6</th>\n",
              "      <td>21150000</td>\n",
              "      <td>17,837,550.00</td>\n",
              "    </tr>\n",
              "    <tr>\n",
              "      <th>7</th>\n",
              "      <td>2000000</td>\n",
              "      <td>1,944,670.90</td>\n",
              "    </tr>\n",
              "    <tr>\n",
              "      <th>8</th>\n",
              "      <td>341000</td>\n",
              "      <td>311,230.00</td>\n",
              "    </tr>\n",
              "    <tr>\n",
              "      <th>9</th>\n",
              "      <td>1450000</td>\n",
              "      <td>1,521,242.42</td>\n",
              "    </tr>\n",
              "  </tbody>\n",
              "</table>\n",
              "</div>"
            ],
            "text/plain": [
              "   Sale_Price  Predict_rfr_5\n",
              "0     1005000     940,514.20\n",
              "1     1175000   1,186,084.00\n",
              "2      565000     569,890.00\n",
              "3      950000     940,118.68\n",
              "4      625000     599,575.52\n",
              "5     1925000   1,965,106.00\n",
              "6    21150000  17,837,550.00\n",
              "7     2000000   1,944,670.90\n",
              "8      341000     311,230.00\n",
              "9     1450000   1,521,242.42"
            ]
          },
          "metadata": {},
          "execution_count": 206
        }
      ]
    },
    {
      "cell_type": "code",
      "metadata": {
        "id": "9qtWwemgMREN"
      },
      "source": [
        "# This is the final data frame of all the model prediction\n",
        "total_result_df = total_result_df.merge(result5_df, how='left', on='Sale_Price', left_index=True, right_index=True)\n",
        "#total_result_df.head(10)"
      ],
      "execution_count": null,
      "outputs": []
    },
    {
      "cell_type": "code",
      "metadata": {
        "colab": {
          "base_uri": "https://localhost:8080/",
          "height": 350
        },
        "id": "mt2XujmnMqNR",
        "outputId": "19020b09-b621-4216-9efc-0320fed260df"
      },
      "source": [
        "import matplotlib.pyplot as plt\n",
        "plt.figure(figsize=(10,5))\n",
        "plt.plot(np.array(y5_pred))\n",
        "plt.plot(np.array(y_test))\n",
        "plt.title('Model 5: Random Forest with List_Price')\n",
        "plt.ylabel('Price')\n",
        "plt.xlabel('No. of Samples')\n",
        "plt.legend(['Predict_rfr_5', 'Sale_Price'], loc='upper right')\n",
        "plt.show()"
      ],
      "execution_count": null,
      "outputs": [
        {
          "output_type": "display_data",
          "data": {
            "image/png": "[encoded data removed]",
            "text/plain": [
              "<Figure size 720x360 with 1 Axes>"
            ]
          },
          "metadata": {
            "needs_background": "light"
          }
        }
      ]
    },
    {
      "cell_type": "code",
      "metadata": {
        "colab": {
          "base_uri": "https://localhost:8080/"
        },
        "id": "PvCKYEm0I4eQ",
        "outputId": "fa2f16db-cdca-4d67-f585-eab40ff17dee"
      },
      "source": [
        "# Random forest determined feature importances\n",
        "model5.feature_importances_"
      ],
      "execution_count": null,
      "outputs": [
        {
          "output_type": "execute_result",
          "data": {
            "text/plain": [
              "array([3.13473350e-03, 3.29143497e-03, 4.29868676e-03, 3.71513811e-04,\n",
              "       3.23787222e-04, 5.81235704e-04, 4.05606571e-04, 2.22847661e-03,\n",
              "       2.11039480e-06, 9.81351067e-01, 5.36151786e-04, 1.67350787e-07,\n",
              "       1.50245713e-06, 1.41700145e-04, 4.74920450e-06, 2.98230031e-07,\n",
              "       2.22009892e-06, 2.23802566e-04, 6.63492938e-07, 3.01404776e-04,\n",
              "       2.92299911e-07, 8.40699132e-07, 5.25467629e-06, 3.64716986e-06,\n",
              "       1.63697751e-06, 2.48468766e-04, 1.13651723e-06, 1.49386957e-05,\n",
              "       9.51471837e-06, 1.23107946e-05, 2.28603753e-07, 9.78812361e-06,\n",
              "       4.89042643e-05, 1.43533015e-04, 7.31847391e-06, 1.20816094e-05,\n",
              "       1.89364753e-03, 1.34741817e-07, 3.14531040e-04, 1.37079173e-05,\n",
              "       2.09908703e-06, 3.75288429e-05, 2.02006638e-06, 2.51005628e-06,\n",
              "       5.76398103e-06, 6.10300954e-06, 7.45769542e-07])"
            ]
          },
          "metadata": {},
          "execution_count": 209
        }
      ]
    },
    {
      "cell_type": "code",
      "metadata": {
        "colab": {
          "base_uri": "https://localhost:8080/"
        },
        "id": "RjDEzVUJI-FA",
        "outputId": "2247c4a7-8f82-43c9-d30e-58f11f8b9288"
      },
      "source": [
        "importance = model5.feature_importances_\n",
        "\n",
        "# map feature importance values to the features\n",
        "feature_importances = zip(importance, X.columns)\n",
        "#list(feature_importances)\n",
        "\n",
        "sorted_feature_importances = sorted(feature_importances, reverse = True)\n",
        "#print(sorted_feature_importances)\n",
        "\n",
        "top_15_predictors = sorted_feature_importances[0:10]\n",
        "values = [value for value, predictors in top_15_predictors]\n",
        "predictors = [predictors for value, predictors in top_15_predictors]\n",
        "print(predictors)"
      ],
      "execution_count": null,
      "outputs": [
        {
          "output_type": "stream",
          "text": [
            "['List_Price', 'Age', 'Lot_Size', 'SqFtTotal', 'DOM', 'county_San Mateo', 'BathsFull', 'county_Alameda', 'BathsHalf', 'BathsTotal']\n"
          ],
          "name": "stdout"
        }
      ]
    },
    {
      "cell_type": "code",
      "metadata": {
        "colab": {
          "base_uri": "https://localhost:8080/",
          "height": 363
        },
        "id": "MWf91sL3JF4m",
        "outputId": "fcfa2f29-a6c9-470c-e389-be5e6efbb600"
      },
      "source": [
        "# Plot the feature importances of the forest\n",
        "plt.figure()\n",
        "plt.title(\"Feature importances\")\n",
        "plt.bar(range(len(predictors)), values,color=\"r\", align=\"center\");\n",
        "plt.xticks(range(len(predictors)), predictors, rotation=90);"
      ],
      "execution_count": null,
      "outputs": [
        {
          "output_type": "display_data",
          "data": {
            "image/png": "[encoded data removed]",
            "text/plain": [
              "<Figure size 432x288 with 1 Axes>"
            ]
          },
          "metadata": {
            "needs_background": "light"
          }
        }
      ]
    },
    {
      "cell_type": "markdown",
      "metadata": {
        "id": "QDExaVkIftfi"
      },
      "source": [
        "**Model 6** Random Forest without List_Price"
      ]
    },
    {
      "cell_type": "code",
      "metadata": {
        "id": "VNsL7Q5HIl2G"
      },
      "source": [
        "# Evaluate the model\n",
        "model6 = RandomForestRegressor(n_estimators = epochs_no, max_depth = 5, min_samples_leaf= 5, max_features = 'sqrt')  # using GridSearch\n",
        "model6 = RandomForestRegressor()\n",
        "model6.fit(X2_train, y_train) # gets the parameters for the rfr model\n",
        "# the predict() method is used to generate predictions\n",
        "y6_pred = model6.predict(X2_test) # <= X2 has no List_Price"
      ],
      "execution_count": null,
      "outputs": []
    },
    {
      "cell_type": "code",
      "metadata": {
        "id": "MlW1TuRrIl9n",
        "colab": {
          "base_uri": "https://localhost:8080/"
        },
        "outputId": "baf8c3f1-45e6-48e0-8f50-2637c32fd1c8"
      },
      "source": [
        "# evaluate the performance of the algorithm (MAE - MSE - RMSE)\n",
        "print('Model 6: Random Forest without List_Price')\n",
        "#print('Mean Absolute Error (MAE):', metrics.mean_absolute_error(y_test, y4_pred))  \n",
        "#print('Mean Squared Error (MSE):', metrics.mean_squared_error(y_test, y4_pred))  \n",
        "print('Root Mean Squared Error (RMSE):', np.sqrt(metrics.mean_squared_error(y_test, y6_pred)))\n",
        "print('Variance -- VarScore:', metrics.explained_variance_score(y_test,y6_pred))\n",
        "print(\"R squared(R2):\", metrics.r2_score(y_test, y6_pred))"
      ],
      "execution_count": null,
      "outputs": [
        {
          "output_type": "stream",
          "text": [
            "Model 6: Random Forest without List_Price\n",
            "Root Mean Squared Error (RMSE): 884946.8904190123\n",
            "Variance -- VarScore: 0.6917448461215323\n",
            "R squared(R2): 0.6917264451526179\n"
          ],
          "name": "stdout"
        }
      ]
    },
    {
      "cell_type": "code",
      "metadata": {
        "id": "7iAf_VyugZEr",
        "colab": {
          "base_uri": "https://localhost:8080/",
          "height": 357
        },
        "outputId": "014cc2ca-5a5e-4636-9571-c70a6439d768"
      },
      "source": [
        "#df = create a df of Sales_Price and Prediction values\n",
        "result6_df = pd.DataFrame({\"Sale_Price\": [x for x in y_test], \"Predict_rfr_6\": [x for x in y6_pred]})\n",
        "result6_df['Predict_rfr_6'] = result6_df['Predict_rfr_6'].map('{:,.2f}'.format)\n",
        "result6_df.head(10)"
      ],
      "execution_count": null,
      "outputs": [
        {
          "output_type": "execute_result",
          "data": {
            "text/html": [
              "<div>\n",
              "<style scoped>\n",
              "    .dataframe tbody tr th:only-of-type {\n",
              "        vertical-align: middle;\n",
              "    }\n",
              "\n",
              "    .dataframe tbody tr th {\n",
              "        vertical-align: top;\n",
              "    }\n",
              "\n",
              "    .dataframe thead th {\n",
              "        text-align: right;\n",
              "    }\n",
              "</style>\n",
              "<table border=\"1\" class=\"dataframe\">\n",
              "  <thead>\n",
              "    <tr style=\"text-align: right;\">\n",
              "      <th></th>\n",
              "      <th>Sale_Price</th>\n",
              "      <th>Predict_rfr_6</th>\n",
              "    </tr>\n",
              "  </thead>\n",
              "  <tbody>\n",
              "    <tr>\n",
              "      <th>0</th>\n",
              "      <td>1005000</td>\n",
              "      <td>1,440,661.42</td>\n",
              "    </tr>\n",
              "    <tr>\n",
              "      <th>1</th>\n",
              "      <td>1175000</td>\n",
              "      <td>1,479,167.00</td>\n",
              "    </tr>\n",
              "    <tr>\n",
              "      <th>2</th>\n",
              "      <td>565000</td>\n",
              "      <td>508,560.00</td>\n",
              "    </tr>\n",
              "    <tr>\n",
              "      <th>3</th>\n",
              "      <td>950000</td>\n",
              "      <td>1,035,472.50</td>\n",
              "    </tr>\n",
              "    <tr>\n",
              "      <th>4</th>\n",
              "      <td>625000</td>\n",
              "      <td>688,514.00</td>\n",
              "    </tr>\n",
              "    <tr>\n",
              "      <th>5</th>\n",
              "      <td>1925000</td>\n",
              "      <td>843,236.56</td>\n",
              "    </tr>\n",
              "    <tr>\n",
              "      <th>6</th>\n",
              "      <td>21150000</td>\n",
              "      <td>11,352,300.00</td>\n",
              "    </tr>\n",
              "    <tr>\n",
              "      <th>7</th>\n",
              "      <td>2000000</td>\n",
              "      <td>1,475,541.70</td>\n",
              "    </tr>\n",
              "    <tr>\n",
              "      <th>8</th>\n",
              "      <td>341000</td>\n",
              "      <td>627,354.00</td>\n",
              "    </tr>\n",
              "    <tr>\n",
              "      <th>9</th>\n",
              "      <td>1450000</td>\n",
              "      <td>1,592,350.00</td>\n",
              "    </tr>\n",
              "  </tbody>\n",
              "</table>\n",
              "</div>"
            ],
            "text/plain": [
              "   Sale_Price  Predict_rfr_6\n",
              "0     1005000   1,440,661.42\n",
              "1     1175000   1,479,167.00\n",
              "2      565000     508,560.00\n",
              "3      950000   1,035,472.50\n",
              "4      625000     688,514.00\n",
              "5     1925000     843,236.56\n",
              "6    21150000  11,352,300.00\n",
              "7     2000000   1,475,541.70\n",
              "8      341000     627,354.00\n",
              "9     1450000   1,592,350.00"
            ]
          },
          "metadata": {},
          "execution_count": 214
        }
      ]
    },
    {
      "cell_type": "code",
      "metadata": {
        "id": "pLQEVEm8g0ye",
        "colab": {
          "base_uri": "https://localhost:8080/",
          "height": 350
        },
        "outputId": "ce1ee23e-d2e5-4329-b2eb-e0ae204d7d99"
      },
      "source": [
        "import matplotlib.pyplot as plt\n",
        "plt.figure(figsize=(10,5))\n",
        "plt.plot(np.array(y5_pred))\n",
        "plt.plot(np.array(y_test))\n",
        "plt.title('Model 6: Random Forest without List_Price')\n",
        "plt.ylabel('Price')\n",
        "plt.xlabel('No. of Samples')\n",
        "plt.legend(['Predict_rfr_6', 'Sale_Price'], loc='upper right')\n",
        "plt.show()"
      ],
      "execution_count": null,
      "outputs": [
        {
          "output_type": "display_data",
          "data": {
            "image/png": "[encoded data removed]",
            "text/plain": [
              "<Figure size 720x360 with 1 Axes>"
            ]
          },
          "metadata": {
            "needs_background": "light"
          }
        }
      ]
    },
    {
      "cell_type": "code",
      "metadata": {
        "id": "Ua1BVZjYhVNu",
        "colab": {
          "base_uri": "https://localhost:8080/",
          "height": 407
        },
        "outputId": "c3f2be24-d31e-407e-deaf-56373bbf3e48"
      },
      "source": [
        "# Random forest determined feature importances\n",
        "model6.feature_importances_\n",
        "importance = model6.feature_importances_\n",
        "\n",
        "# map feature importance values to the features\n",
        "feature_importances = zip(importance, X.columns)\n",
        "#list(feature_importances)\n",
        "\n",
        "sorted_feature_importances = sorted(feature_importances, reverse = True)\n",
        "#print(sorted_feature_importances)\n",
        "\n",
        "top_15_predictors = sorted_feature_importances[0:10]\n",
        "values = [value for value, predictors in top_15_predictors]\n",
        "predictors = [predictors for value, predictors in top_15_predictors]\n",
        "print(predictors)\n",
        "\n",
        "# Plot the feature importances of the forest\n",
        "plt.figure()\n",
        "plt.title(\"Feature importances\")\n",
        "plt.bar(range(len(predictors)), values, color=\"r\", align=\"center\");\n",
        "plt.xticks(range(len(predictors)), predictors, rotation=90);"
      ],
      "execution_count": null,
      "outputs": [
        {
          "output_type": "stream",
          "text": [
            "['SqFtTotal', 'Age', 'Lot_Size', 'county_Santa Barbara', 'county_San Luis Obispo', 'county_Madera', 'DOM', 'BathsFull', 'BathsTotal', 'BedsTotal']\n"
          ],
          "name": "stdout"
        },
        {
          "output_type": "display_data",
          "data": {
            "image/png": "[encoded data removed]",
            "text/plain": [
              "<Figure size 432x288 with 1 Axes>"
            ]
          },
          "metadata": {
            "needs_background": "light"
          }
        }
      ]
    },
    {
      "cell_type": "markdown",
      "metadata": {
        "id": "WDLgxbL-htXh"
      },
      "source": [
        "**Final Report**"
      ]
    },
    {
      "cell_type": "code",
      "metadata": {
        "id": "gfXDEV2qgZjC",
        "colab": {
          "base_uri": "https://localhost:8080/"
        },
        "outputId": "c27c837e-bc75-4ba6-d602-b87762bdf240"
      },
      "source": [
        "print(\"SUMMARY OF R2_SCORE\"'\\n')\n",
        "print(\"Model 1: Regression with List_Price:\", metrics.r2_score(y_test, y1_pred))\n",
        "print('')\n",
        "print(\"Model 2: Regression withOUT List_Price:\", metrics.r2_score(y_test, y2_pred))\n",
        "print('')\n",
        "print(\"Model 3: Neural Network with List_Price:\", metrics.r2_score(y_test, y3_pred))\n",
        "print('')\n",
        "print(\"Model 4: Neural Network withOUT List_Price:\", metrics.r2_score(y_test, y4_pred))\n",
        "print('')\n",
        "print(\"Model 5: Random Forest with List_Price:\", metrics.r2_score(y_test, y5_pred))\n",
        "print('')\n",
        "print(\"Model 6: Random Forest withOUT List_Price:\", metrics.r2_score(y_test, y6_pred))"
      ],
      "execution_count": null,
      "outputs": [
        {
          "output_type": "stream",
          "text": [
            "SUMMARY OF R2_SCORE\n",
            "\n",
            "Model 1: Regression with List_Price: 0.9605332854433306\n",
            "\n",
            "Model 2: Regression withOUT List_Price: 0.6722142200798393\n",
            "\n",
            "Model 3: Neural Network with List_Price: 0.9477787674347592\n",
            "\n",
            "Model 4: Neural Network withOUT List_Price: 0.5257056589610347\n",
            "\n",
            "Model 5: Random Forest with List_Price: 0.9754069721764181\n",
            "\n",
            "Model 6: Random Forest withOUT List_Price: 0.6917264451526179\n"
          ],
          "name": "stdout"
        }
      ]
    },
    {
      "cell_type": "code",
      "metadata": {
        "colab": {
          "base_uri": "https://localhost:8080/",
          "height": 234
        },
        "id": "s4Hb5Xu1W4OF",
        "outputId": "f16ec5fa-875d-4ae7-c962-d6c0f2077d06"
      },
      "source": [
        "\n",
        "data = {\n",
        "\"Model\":[\"Model 1: Regression with List_Price\", \"Model 2: Regression withOUT List_Price\",\"Model 3: Neural Network with List_Price\",\n",
        "         \"Model 4: Neural Network withOUT List_Price\",\"Model 5: Random Forest with List_Price\",\"Model 6: Random Forest withOUT List_Price\"],\n",
        "\"R2_score\":[metrics.r2_score(y_test, y1_pred),metrics.r2_score(y_test, y2_pred),metrics.r2_score(y_test, y3_pred),metrics.r2_score(y_test, y4_pred),\n",
        "            metrics.r2_score(y_test, y5_pred),metrics.r2_score(y_test, y6_pred)]};\n",
        "\n",
        "r2score_df = pd.DataFrame(data=data);\n",
        "r2score_df"
      ],
      "execution_count": null,
      "outputs": [
        {
          "output_type": "execute_result",
          "data": {
            "text/html": [
              "<div>\n",
              "<style scoped>\n",
              "    .dataframe tbody tr th:only-of-type {\n",
              "        vertical-align: middle;\n",
              "    }\n",
              "\n",
              "    .dataframe tbody tr th {\n",
              "        vertical-align: top;\n",
              "    }\n",
              "\n",
              "    .dataframe thead th {\n",
              "        text-align: right;\n",
              "    }\n",
              "</style>\n",
              "<table border=\"1\" class=\"dataframe\">\n",
              "  <thead>\n",
              "    <tr style=\"text-align: right;\">\n",
              "      <th></th>\n",
              "      <th>Model</th>\n",
              "      <th>R2_score</th>\n",
              "    </tr>\n",
              "  </thead>\n",
              "  <tbody>\n",
              "    <tr>\n",
              "      <th>0</th>\n",
              "      <td>Model 1: Regression with List_Price</td>\n",
              "      <td>0.960533</td>\n",
              "    </tr>\n",
              "    <tr>\n",
              "      <th>1</th>\n",
              "      <td>Model 2: Regression withOUT List_Price</td>\n",
              "      <td>0.672214</td>\n",
              "    </tr>\n",
              "    <tr>\n",
              "      <th>2</th>\n",
              "      <td>Model 3: Neural Network with List_Price</td>\n",
              "      <td>0.947779</td>\n",
              "    </tr>\n",
              "    <tr>\n",
              "      <th>3</th>\n",
              "      <td>Model 4: Neural Network withOUT List_Price</td>\n",
              "      <td>0.525706</td>\n",
              "    </tr>\n",
              "    <tr>\n",
              "      <th>4</th>\n",
              "      <td>Model 5: Random Forest with List_Price</td>\n",
              "      <td>0.975407</td>\n",
              "    </tr>\n",
              "    <tr>\n",
              "      <th>5</th>\n",
              "      <td>Model 6: Random Forest withOUT List_Price</td>\n",
              "      <td>0.691726</td>\n",
              "    </tr>\n",
              "  </tbody>\n",
              "</table>\n",
              "</div>"
            ],
            "text/plain": [
              "                                        Model  R2_score\n",
              "0         Model 1: Regression with List_Price  0.960533\n",
              "1      Model 2: Regression withOUT List_Price  0.672214\n",
              "2     Model 3: Neural Network with List_Price  0.947779\n",
              "3  Model 4: Neural Network withOUT List_Price  0.525706\n",
              "4      Model 5: Random Forest with List_Price  0.975407\n",
              "5   Model 6: Random Forest withOUT List_Price  0.691726"
            ]
          },
          "metadata": {},
          "execution_count": 218
        }
      ]
    },
    {
      "cell_type": "code",
      "metadata": {
        "colab": {
          "base_uri": "https://localhost:8080/",
          "height": 502
        },
        "id": "GJpc47LWanCD",
        "outputId": "7abb27aa-f672-4fb6-b431-30194924d847"
      },
      "source": [
        "import matplotlib.colors as mcolors\n",
        "import matplotlib.pyplot as plot\n",
        "# Reserve the row order\n",
        "r2score_df = r2score_df.iloc[::-1]\n",
        "#datafram plot barh\n",
        "r2score_df.plot.barh(figsize = (8,8), fontsize=12, x=\"Model\", title=\"R2 Score plot\", colormap='winter', grid=True, sort_columns=True)\n",
        "plot.show();"
      ],
      "execution_count": null,
      "outputs": [
        {
          "output_type": "display_data",
          "data": {
            "image/png": "[encoded data removed]",
            "text/plain": [
              "<Figure size 576x576 with 1 Axes>"
            ]
          },
          "metadata": {
            "needs_background": "light"
          }
        }
      ]
    },
    {
      "cell_type": "code",
      "metadata": {
        "id": "MX2IYZj_h3nW",
        "colab": {
          "base_uri": "https://localhost:8080/",
          "height": 357
        },
        "outputId": "48f76eef-05eb-4a14-bb39-b18725675149"
      },
      "source": [
        "# This is the final data frame of all the model prediction\n",
        "total_result_df = total_result_df.merge(result6_df, how='left', on='Sale_Price', left_index=True, right_index=True)\n",
        "total_result_df.head(10)"
      ],
      "execution_count": null,
      "outputs": [
        {
          "output_type": "execute_result",
          "data": {
            "text/html": [
              "<div>\n",
              "<style scoped>\n",
              "    .dataframe tbody tr th:only-of-type {\n",
              "        vertical-align: middle;\n",
              "    }\n",
              "\n",
              "    .dataframe tbody tr th {\n",
              "        vertical-align: top;\n",
              "    }\n",
              "\n",
              "    .dataframe thead th {\n",
              "        text-align: right;\n",
              "    }\n",
              "</style>\n",
              "<table border=\"1\" class=\"dataframe\">\n",
              "  <thead>\n",
              "    <tr style=\"text-align: right;\">\n",
              "      <th></th>\n",
              "      <th>Sale_Price</th>\n",
              "      <th>Predict_Reg_1</th>\n",
              "      <th>Predict_Reg_2</th>\n",
              "      <th>Predict_NN_3</th>\n",
              "      <th>Predict_NN_4</th>\n",
              "      <th>Predict_rfr_5</th>\n",
              "      <th>Predict_rfr_6</th>\n",
              "    </tr>\n",
              "  </thead>\n",
              "  <tbody>\n",
              "    <tr>\n",
              "      <th>0</th>\n",
              "      <td>1005000</td>\n",
              "      <td>913,281.32</td>\n",
              "      <td>1,416,121.20</td>\n",
              "      <td>938,110.44</td>\n",
              "      <td>893,362.38</td>\n",
              "      <td>940,514.20</td>\n",
              "      <td>1,440,661.42</td>\n",
              "    </tr>\n",
              "    <tr>\n",
              "      <th>1</th>\n",
              "      <td>1175000</td>\n",
              "      <td>1,219,022.44</td>\n",
              "      <td>1,559,513.55</td>\n",
              "      <td>1,237,749.88</td>\n",
              "      <td>1,406,229.62</td>\n",
              "      <td>1,186,084.00</td>\n",
              "      <td>1,479,167.00</td>\n",
              "    </tr>\n",
              "    <tr>\n",
              "      <th>2</th>\n",
              "      <td>565000</td>\n",
              "      <td>587,771.36</td>\n",
              "      <td>639,187.61</td>\n",
              "      <td>599,585.00</td>\n",
              "      <td>723,752.31</td>\n",
              "      <td>569,890.00</td>\n",
              "      <td>508,560.00</td>\n",
              "    </tr>\n",
              "    <tr>\n",
              "      <th>3</th>\n",
              "      <td>950000</td>\n",
              "      <td>959,388.14</td>\n",
              "      <td>1,152,340.72</td>\n",
              "      <td>977,048.06</td>\n",
              "      <td>998,141.25</td>\n",
              "      <td>940,118.68</td>\n",
              "      <td>1,035,472.50</td>\n",
              "    </tr>\n",
              "    <tr>\n",
              "      <th>4</th>\n",
              "      <td>625000</td>\n",
              "      <td>608,544.68</td>\n",
              "      <td>526,425.80</td>\n",
              "      <td>594,399.44</td>\n",
              "      <td>598,905.44</td>\n",
              "      <td>599,575.52</td>\n",
              "      <td>688,514.00</td>\n",
              "    </tr>\n",
              "    <tr>\n",
              "      <th>5</th>\n",
              "      <td>1925000</td>\n",
              "      <td>1,872,278.90</td>\n",
              "      <td>965,161.08</td>\n",
              "      <td>1,889,316.75</td>\n",
              "      <td>940,863.06</td>\n",
              "      <td>1,965,106.00</td>\n",
              "      <td>843,236.56</td>\n",
              "    </tr>\n",
              "    <tr>\n",
              "      <th>6</th>\n",
              "      <td>21150000</td>\n",
              "      <td>25,521,630.17</td>\n",
              "      <td>10,581,912.84</td>\n",
              "      <td>26,193,086.00</td>\n",
              "      <td>7,940,968.00</td>\n",
              "      <td>17,837,550.00</td>\n",
              "      <td>11,352,300.00</td>\n",
              "    </tr>\n",
              "    <tr>\n",
              "      <th>7</th>\n",
              "      <td>2000000</td>\n",
              "      <td>1,830,298.75</td>\n",
              "      <td>1,322,725.73</td>\n",
              "      <td>1,782,769.75</td>\n",
              "      <td>1,234,092.62</td>\n",
              "      <td>1,944,670.90</td>\n",
              "      <td>1,475,541.70</td>\n",
              "    </tr>\n",
              "    <tr>\n",
              "      <th>8</th>\n",
              "      <td>341000</td>\n",
              "      <td>321,158.59</td>\n",
              "      <td>564,749.91</td>\n",
              "      <td>321,130.22</td>\n",
              "      <td>761,218.81</td>\n",
              "      <td>311,230.00</td>\n",
              "      <td>627,354.00</td>\n",
              "    </tr>\n",
              "    <tr>\n",
              "      <th>9</th>\n",
              "      <td>1450000</td>\n",
              "      <td>1,469,391.98</td>\n",
              "      <td>2,446,670.51</td>\n",
              "      <td>1,525,661.00</td>\n",
              "      <td>1,712,736.12</td>\n",
              "      <td>1,521,242.42</td>\n",
              "      <td>1,592,350.00</td>\n",
              "    </tr>\n",
              "  </tbody>\n",
              "</table>\n",
              "</div>"
            ],
            "text/plain": [
              "   Sale_Price  Predict_Reg_1  ...  Predict_rfr_5  Predict_rfr_6\n",
              "0     1005000     913,281.32  ...     940,514.20   1,440,661.42\n",
              "1     1175000   1,219,022.44  ...   1,186,084.00   1,479,167.00\n",
              "2      565000     587,771.36  ...     569,890.00     508,560.00\n",
              "3      950000     959,388.14  ...     940,118.68   1,035,472.50\n",
              "4      625000     608,544.68  ...     599,575.52     688,514.00\n",
              "5     1925000   1,872,278.90  ...   1,965,106.00     843,236.56\n",
              "6    21150000  25,521,630.17  ...  17,837,550.00  11,352,300.00\n",
              "7     2000000   1,830,298.75  ...   1,944,670.90   1,475,541.70\n",
              "8      341000     321,158.59  ...     311,230.00     627,354.00\n",
              "9     1450000   1,469,391.98  ...   1,521,242.42   1,592,350.00\n",
              "\n",
              "[10 rows x 7 columns]"
            ]
          },
          "metadata": {},
          "execution_count": 220
        }
      ]
    },
    {
      "cell_type": "markdown",
      "metadata": {
        "id": "Xr5Eanle7jRy"
      },
      "source": [
        "**END of the End!**"
      ]
    }
  ]
}