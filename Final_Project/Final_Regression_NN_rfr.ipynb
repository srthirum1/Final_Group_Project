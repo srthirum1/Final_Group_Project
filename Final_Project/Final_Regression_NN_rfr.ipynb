{
  "nbformat": 4,
  "nbformat_minor": 0,
  "metadata": {
    "colab": {
      "name": "Final_Regression_NN_rfr.ipynb",
      "provenance": [],
      "collapsed_sections": []
    },
    "kernelspec": {
      "name": "python3",
      "display_name": "Python 3"
    },
    "language_info": {
      "name": "python"
    }
  },
  "cells": [
    {
      "cell_type": "code",
      "metadata": {
        "colab": {
          "base_uri": "https://localhost:8080/"
        },
        "id": "lFv5-T_zupnd",
        "outputId": "3ca865ce-4243-478c-82c2-52c9cc1d2bb2"
      },
      "source": [
        "import os\n",
        "# Find the latest version of spark 3.0  from http://www.apache.org/dist/spark/ and enter as the spark version\n",
        "# For example:\n",
        "spark_version = 'spark-3.0.3'\n",
        "#spark_version = 'spark-3.<enter version>'\n",
        "os.environ['SPARK_VERSION']=spark_version\n",
        "\n",
        "# Install Spark and Java\n",
        "!apt-get update\n",
        "!apt-get install openjdk-11-jdk-headless -qq > /dev/null\n",
        "!wget -q http://www.apache.org/dist/spark/$SPARK_VERSION/$SPARK_VERSION-bin-hadoop2.7.tgz\n",
        "!tar xf $SPARK_VERSION-bin-hadoop2.7.tgz\n",
        "!pip install -q findspark\n",
        "\n",
        "# Set Environment Variables\n",
        "import os\n",
        "os.environ[\"JAVA_HOME\"] = \"/usr/lib/jvm/java-11-openjdk-amd64\"\n",
        "os.environ[\"SPARK_HOME\"] = f\"/content/{spark_version}-bin-hadoop2.7\"\n",
        "\n",
        "# Start a SparkSession\n",
        "import findspark\n",
        "findspark.init()"
      ],
      "execution_count": 1,
      "outputs": [
        {
          "output_type": "stream",
          "text": [
            "\r0% [Working]\r            \rGet:1 http://security.ubuntu.com/ubuntu bionic-security InRelease [88.7 kB]\n",
            "\r0% [Connecting to archive.ubuntu.com (91.189.88.152)] [1 InRelease 0 B/88.7 kB \r                                                                               \rGet:2 https://cloud.r-project.org/bin/linux/ubuntu bionic-cran40/ InRelease [3,626 B]\n",
            "\r0% [Connecting to archive.ubuntu.com (91.189.88.152)] [1 InRelease 17.1 kB/88.7\r0% [Connecting to archive.ubuntu.com (91.189.88.152)] [1 InRelease 83.7 kB/88.7\r                                                                               \r0% [Waiting for headers] [Waiting for headers] [Waiting for headers]\r0% [2 InRelease gpgv 3,626 B] [Waiting for headers] [Waiting for headers] [Wait\r                                                                               \rIgn:3 https://developer.download.nvidia.com/compute/cuda/repos/ubuntu1804/x86_64  InRelease\n",
            "\r0% [2 InRelease gpgv 3,626 B] [Waiting for headers] [Waiting for headers] [Wait\r                                                                               \rGet:4 http://ppa.launchpad.net/c2d4u.team/c2d4u4.0+/ubuntu bionic InRelease [15.9 kB]\n",
            "Hit:5 http://archive.ubuntu.com/ubuntu bionic InRelease\n",
            "Ign:6 https://developer.download.nvidia.com/compute/machine-learning/repos/ubuntu1804/x86_64  InRelease\n",
            "Hit:7 https://developer.download.nvidia.com/compute/cuda/repos/ubuntu1804/x86_64  Release\n",
            "Hit:8 https://developer.download.nvidia.com/compute/machine-learning/repos/ubuntu1804/x86_64  Release\n",
            "Get:9 http://archive.ubuntu.com/ubuntu bionic-updates InRelease [88.7 kB]\n",
            "Hit:10 http://ppa.launchpad.net/cran/libgit2/ubuntu bionic InRelease\n",
            "Get:11 http://archive.ubuntu.com/ubuntu bionic-backports InRelease [74.6 kB]\n",
            "Hit:12 http://ppa.launchpad.net/deadsnakes/ppa/ubuntu bionic InRelease\n",
            "Hit:13 http://ppa.launchpad.net/graphics-drivers/ppa/ubuntu bionic InRelease\n",
            "Get:14 http://security.ubuntu.com/ubuntu bionic-security/restricted amd64 Packages [543 kB]\n",
            "Get:15 http://security.ubuntu.com/ubuntu bionic-security/main amd64 Packages [2,294 kB]\n",
            "Get:18 http://ppa.launchpad.net/c2d4u.team/c2d4u4.0+/ubuntu bionic/main Sources [1,792 kB]\n",
            "Get:19 http://archive.ubuntu.com/ubuntu bionic-updates/multiverse amd64 Packages [34.4 kB]\n",
            "Get:20 http://ppa.launchpad.net/c2d4u.team/c2d4u4.0+/ubuntu bionic/main amd64 Packages [917 kB]\n",
            "Get:21 http://archive.ubuntu.com/ubuntu bionic-updates/main amd64 Packages [2,730 kB]\n",
            "Get:22 http://archive.ubuntu.com/ubuntu bionic-updates/restricted amd64 Packages [575 kB]\n",
            "Get:23 http://archive.ubuntu.com/ubuntu bionic-updates/universe amd64 Packages [2,196 kB]\n",
            "Fetched 11.4 MB in 4s (2,570 kB/s)\n",
            "Reading package lists... Done\n"
          ],
          "name": "stdout"
        }
      ]
    },
    {
      "cell_type": "code",
      "metadata": {
        "id": "Chcx1Hb5vNuS",
        "colab": {
          "base_uri": "https://localhost:8080/"
        },
        "outputId": "3a5d2d17-7449-45ff-8388-3e32c3d1da55"
      },
      "source": [
        "# First, enter the following code to download a Postgres driver that will allow Spark to interact with Postgres:\n",
        "!wget https://jdbc.postgresql.org/download/postgresql-42.2.16.jar"
      ],
      "execution_count": 2,
      "outputs": [
        {
          "output_type": "stream",
          "text": [
            "--2021-08-17 14:32:06--  https://jdbc.postgresql.org/download/postgresql-42.2.16.jar\n",
            "Resolving jdbc.postgresql.org (jdbc.postgresql.org)... 72.32.157.228, 2001:4800:3e1:1::228\n",
            "Connecting to jdbc.postgresql.org (jdbc.postgresql.org)|72.32.157.228|:443... connected.\n",
            "HTTP request sent, awaiting response... 200 OK\n",
            "Length: 1002883 (979K) [application/java-archive]\n",
            "Saving to: ‘postgresql-42.2.16.jar’\n",
            "\n",
            "postgresql-42.2.16. 100%[===================>] 979.38K  5.75MB/s    in 0.2s    \n",
            "\n",
            "2021-08-17 14:32:07 (5.75 MB/s) - ‘postgresql-42.2.16.jar’ saved [1002883/1002883]\n",
            "\n"
          ],
          "name": "stdout"
        }
      ]
    },
    {
      "cell_type": "code",
      "metadata": {
        "id": "x1fG3JpHGtlD"
      },
      "source": [
        "from pyspark.sql import SparkSession\n",
        "spark = SparkSession.builder.appName(\"Final_Regression_NeuralNetwork\").config(\"spark.driver.extraClassPath\",\"/content/postgresql-42.2.16.jar\").getOrCreate()"
      ],
      "execution_count": 3,
      "outputs": []
    },
    {
      "cell_type": "code",
      "metadata": {
        "id": "L9WRF-EGf86x"
      },
      "source": [
        "# Load in a sql functions\n",
        "# Import our dependencies\n",
        "import numpy as np\n",
        "import pandas as pd\n",
        "import seaborn as sns\n",
        "import tensorflow as tf\n",
        "import matplotlib.pyplot as plt\n",
        "import matplotlib.pyplot as plt\n",
        "\n",
        "from sklearn.model_selection import train_test_split\n",
        "from sklearn.preprocessing import StandardScaler, OneHotEncoder\n",
        "from pyspark.sql.functions import col, avg, sum, count, rand, randn, to_timestamp, to_date, date_format, sqrt, unix_timestamp, from_unixtime\n",
        "from pathlib import Path\n",
        "from sklearn.linear_model import LinearRegression"
      ],
      "execution_count": 4,
      "outputs": []
    },
    {
      "cell_type": "code",
      "metadata": {
        "id": "kbZk5lFRFR6p"
      },
      "source": [
        "# Read in data from S3 Buckets\n",
        "from pyspark import SparkFiles\n",
        "url = \"https://tq2cutebucket.s3.us-west-1.amazonaws.com/final_data.csv\"\n",
        "spark.sparkContext.addFile(url)\n",
        "df = spark.read.option(\"encoding\", \"UTF-8\").csv(SparkFiles.get(\"final_data.csv\"), sep=\",\", header=True, inferSchema=True)"
      ],
      "execution_count": 5,
      "outputs": []
    },
    {
      "cell_type": "code",
      "metadata": {
        "id": "BguLxFOQnce6"
      },
      "source": [
        "# Drop null values\n",
        "# This is a safety step in case the data is not perfect\n",
        "df = df.dropDuplicates(['MLS_Number','Street_Address','City','Zip_Code','county','County_Index','SqFtTotal','Lot_Size','BedsTotal','BathsTotal','BathsFull','BathsHalf','Year_Built','List_Price','Sale_Price'])\n",
        "df = df.sort(\"MLS_Number\")"
      ],
      "execution_count": 6,
      "outputs": []
    },
    {
      "cell_type": "code",
      "metadata": {
        "id": "VsQLq4dTRh0d"
      },
      "source": [
        "# Process the date column (listing date and sale date)\n",
        "#df.select(to_date(df.Sale_Date, 'MM/dd/yyyy HH:mm').alias('date')).show()\n",
        "\n",
        "df = df.withColumn('Sale_Date',to_date(to_timestamp(col('Sale_Date'), 'M/d/yyyy H:mm')))\n",
        "df = df.withColumn('Listing_Date',to_date(to_timestamp(col('Listing_Date'), 'M/d/yyyy H:mm')))"
      ],
      "execution_count": 7,
      "outputs": []
    },
    {
      "cell_type": "code",
      "metadata": {
        "id": "CG1oQPD4SdRR"
      },
      "source": [
        "# Convert data to pandas df\n",
        "data_df=df.select('county','SqFtTotal','Lot_Size','Age','BathsTotal','BedsTotal','BathsFull','BathsHalf','DOM','Year_Sold','List_Price','Sale_Price').toPandas()"
      ],
      "execution_count": 8,
      "outputs": []
    },
    {
      "cell_type": "code",
      "metadata": {
        "colab": {
          "base_uri": "https://localhost:8080/"
        },
        "id": "po1cWS6sQTnG",
        "outputId": "aa31dab2-1a8e-406d-e3b0-f533c222ea7a"
      },
      "source": [
        "# Break down county into column of county_county\n",
        "application_cat = data_df.dtypes[data_df.dtypes == \"object\"].index.tolist()\n",
        "data_df[application_cat].nunique()"
      ],
      "execution_count": 9,
      "outputs": [
        {
          "output_type": "execute_result",
          "data": {
            "text/plain": [
              "county    46\n",
              "dtype: int64"
            ]
          },
          "metadata": {
            "tags": []
          },
          "execution_count": 9
        }
      ]
    },
    {
      "cell_type": "code",
      "metadata": {
        "colab": {
          "base_uri": "https://localhost:8080/"
        },
        "id": "hfAEi9_UScPG",
        "outputId": "7469805f-33e4-466f-8056-b6c8a34f8895"
      },
      "source": [
        "# Look at APPLICATION_TYPE value counts for binning\n",
        "#  YOUR CODE GOES HERE\n",
        "# Check the unique value counts to see if binning is required\n",
        "county_type_counts = data_df.county.value_counts()\n",
        "county_type_counts"
      ],
      "execution_count": 10,
      "outputs": [
        {
          "output_type": "execute_result",
          "data": {
            "text/plain": [
              "Los Angeles        701\n",
              "Riverside          412\n",
              "Orange             403\n",
              "San Bernardino     282\n",
              "Sacramento         281\n",
              "Contra Costa       237\n",
              "San Diego          237\n",
              "Santa Clara        208\n",
              "Alameda            181\n",
              "Placer             122\n",
              "San Joaquin        104\n",
              "Stanislaus          94\n",
              "Butte               91\n",
              "San Mateo           79\n",
              "Marin               75\n",
              "San Luis Obispo     75\n",
              "Solano              60\n",
              "Ventura             53\n",
              "Yuba                52\n",
              "El Dorado           49\n",
              "Sonoma              44\n",
              "San Francisco       41\n",
              "Merced              39\n",
              "Monterey            37\n",
              "Santa Cruz          34\n",
              "Yolo                31\n",
              "Sutter              29\n",
              "Nevada              26\n",
              "Madera              18\n",
              "Lake                14\n",
              "Santa Barbara       13\n",
              "Napa                13\n",
              "Kern                12\n",
              "San Benito          11\n",
              "Mendocino           10\n",
              "Amador              10\n",
              "Fresno               9\n",
              "Shasta               9\n",
              "Colusa               8\n",
              "Calaveras            7\n",
              "Glenn                3\n",
              "Tuolumne             3\n",
              "Tehama               3\n",
              "Tulare               2\n",
              "Plumas               2\n",
              "Imperial             1\n",
              "Name: county, dtype: int64"
            ]
          },
          "metadata": {
            "tags": []
          },
          "execution_count": 10
        }
      ]
    },
    {
      "cell_type": "code",
      "metadata": {
        "id": "_xC285QmUJAQ"
      },
      "source": [
        "# Determine which values to replace if counts are less than ...?\n",
        "# Determine which values to replaceapplication_type_counts\n",
        "replace_county = list(county_type_counts[county_type_counts < 10].index)\n",
        "\n",
        "# Replace in dataframe\n",
        "for app in replace_county:\n",
        "    data_df.county = data_df.county.replace(app,\"Other\")\n",
        "    \n",
        "# Check to make sure binning was successful\n",
        "# data_df.county.value_counts()"
      ],
      "execution_count": 11,
      "outputs": []
    },
    {
      "cell_type": "code",
      "metadata": {
        "id": "0ZtE1DA1V4cS"
      },
      "source": [
        "from sklearn.preprocessing import StandardScaler,OneHotEncoder\n",
        "# Create a OneHotEncoder instance\n",
        "enc = OneHotEncoder(sparse=False)\n",
        "\n",
        "# Fit and transform the OneHotEncoder using the categorical variable list\n",
        "encode_df = pd.DataFrame(enc.fit_transform(data_df[application_cat]))\n",
        "\n",
        "\n",
        "# Add the encoded variable names to the dataframe\n",
        "encode_df.columns = enc.get_feature_names(application_cat)\n",
        "#encode_df.head()"
      ],
      "execution_count": 12,
      "outputs": []
    },
    {
      "cell_type": "code",
      "metadata": {
        "id": "J9fUm4WAawxO"
      },
      "source": [
        "# Merge one-hot encoded features and drop the originals\n",
        "data_df = data_df.merge(encode_df,left_index=True, right_index=True)\n",
        "data_df = data_df.drop(application_cat,1)"
      ],
      "execution_count": 13,
      "outputs": []
    },
    {
      "cell_type": "code",
      "metadata": {
        "colab": {
          "base_uri": "https://localhost:8080/",
          "height": 357
        },
        "id": "kuv2gyrAOGox",
        "outputId": "c31c1cac-8512-46b9-eb5c-1cdd6abe828c"
      },
      "source": [
        "# Perform descriptive analytics\n",
        "# This will take times and RAM resources\n",
        "data_df.describe().transpose().head(10)\n",
        "#data_df.columns"
      ],
      "execution_count": 14,
      "outputs": [
        {
          "output_type": "execute_result",
          "data": {
            "text/html": [
              "<div>\n",
              "<style scoped>\n",
              "    .dataframe tbody tr th:only-of-type {\n",
              "        vertical-align: middle;\n",
              "    }\n",
              "\n",
              "    .dataframe tbody tr th {\n",
              "        vertical-align: top;\n",
              "    }\n",
              "\n",
              "    .dataframe thead th {\n",
              "        text-align: right;\n",
              "    }\n",
              "</style>\n",
              "<table border=\"1\" class=\"dataframe\">\n",
              "  <thead>\n",
              "    <tr style=\"text-align: right;\">\n",
              "      <th></th>\n",
              "      <th>count</th>\n",
              "      <th>mean</th>\n",
              "      <th>std</th>\n",
              "      <th>min</th>\n",
              "      <th>25%</th>\n",
              "      <th>50%</th>\n",
              "      <th>75%</th>\n",
              "      <th>max</th>\n",
              "    </tr>\n",
              "  </thead>\n",
              "  <tbody>\n",
              "    <tr>\n",
              "      <th>SqFtTotal</th>\n",
              "      <td>4225.0</td>\n",
              "      <td>2.005063e+03</td>\n",
              "      <td>9.413365e+02</td>\n",
              "      <td>454.0</td>\n",
              "      <td>1368.0</td>\n",
              "      <td>1792.0</td>\n",
              "      <td>2383.0</td>\n",
              "      <td>13300.0</td>\n",
              "    </tr>\n",
              "    <tr>\n",
              "      <th>Lot_Size</th>\n",
              "      <td>4225.0</td>\n",
              "      <td>3.089252e+05</td>\n",
              "      <td>9.476886e+06</td>\n",
              "      <td>864.0</td>\n",
              "      <td>5683.0</td>\n",
              "      <td>7149.0</td>\n",
              "      <td>10063.0</td>\n",
              "      <td>493360560.0</td>\n",
              "    </tr>\n",
              "    <tr>\n",
              "      <th>Age</th>\n",
              "      <td>4225.0</td>\n",
              "      <td>4.465278e+01</td>\n",
              "      <td>2.580530e+01</td>\n",
              "      <td>0.0</td>\n",
              "      <td>23.0</td>\n",
              "      <td>43.0</td>\n",
              "      <td>64.0</td>\n",
              "      <td>138.0</td>\n",
              "    </tr>\n",
              "    <tr>\n",
              "      <th>BathsTotal</th>\n",
              "      <td>4225.0</td>\n",
              "      <td>2.480710e+00</td>\n",
              "      <td>1.010442e+00</td>\n",
              "      <td>0.0</td>\n",
              "      <td>2.0</td>\n",
              "      <td>2.0</td>\n",
              "      <td>3.0</td>\n",
              "      <td>12.0</td>\n",
              "    </tr>\n",
              "    <tr>\n",
              "      <th>BedsTotal</th>\n",
              "      <td>4225.0</td>\n",
              "      <td>3.438817e+00</td>\n",
              "      <td>8.884830e-01</td>\n",
              "      <td>1.0</td>\n",
              "      <td>3.0</td>\n",
              "      <td>3.0</td>\n",
              "      <td>4.0</td>\n",
              "      <td>8.0</td>\n",
              "    </tr>\n",
              "    <tr>\n",
              "      <th>BathsFull</th>\n",
              "      <td>4225.0</td>\n",
              "      <td>2.208757e+00</td>\n",
              "      <td>8.359631e-01</td>\n",
              "      <td>0.0</td>\n",
              "      <td>2.0</td>\n",
              "      <td>2.0</td>\n",
              "      <td>3.0</td>\n",
              "      <td>8.0</td>\n",
              "    </tr>\n",
              "    <tr>\n",
              "      <th>BathsHalf</th>\n",
              "      <td>4225.0</td>\n",
              "      <td>2.719527e-01</td>\n",
              "      <td>4.627524e-01</td>\n",
              "      <td>0.0</td>\n",
              "      <td>0.0</td>\n",
              "      <td>0.0</td>\n",
              "      <td>1.0</td>\n",
              "      <td>4.0</td>\n",
              "    </tr>\n",
              "    <tr>\n",
              "      <th>DOM</th>\n",
              "      <td>4225.0</td>\n",
              "      <td>1.036047e+01</td>\n",
              "      <td>3.052176e+01</td>\n",
              "      <td>0.0</td>\n",
              "      <td>3.0</td>\n",
              "      <td>6.0</td>\n",
              "      <td>9.0</td>\n",
              "      <td>1013.0</td>\n",
              "    </tr>\n",
              "    <tr>\n",
              "      <th>Year_Sold</th>\n",
              "      <td>4225.0</td>\n",
              "      <td>2.020981e+03</td>\n",
              "      <td>1.371441e-01</td>\n",
              "      <td>2020.0</td>\n",
              "      <td>2021.0</td>\n",
              "      <td>2021.0</td>\n",
              "      <td>2021.0</td>\n",
              "      <td>2021.0</td>\n",
              "    </tr>\n",
              "    <tr>\n",
              "      <th>List_Price</th>\n",
              "      <td>4225.0</td>\n",
              "      <td>1.014835e+06</td>\n",
              "      <td>1.119410e+06</td>\n",
              "      <td>76900.0</td>\n",
              "      <td>499000.0</td>\n",
              "      <td>715900.0</td>\n",
              "      <td>1130000.0</td>\n",
              "      <td>24999000.0</td>\n",
              "    </tr>\n",
              "  </tbody>\n",
              "</table>\n",
              "</div>"
            ],
            "text/plain": [
              "             count          mean  ...        75%          max\n",
              "SqFtTotal   4225.0  2.005063e+03  ...     2383.0      13300.0\n",
              "Lot_Size    4225.0  3.089252e+05  ...    10063.0  493360560.0\n",
              "Age         4225.0  4.465278e+01  ...       64.0        138.0\n",
              "BathsTotal  4225.0  2.480710e+00  ...        3.0         12.0\n",
              "BedsTotal   4225.0  3.438817e+00  ...        4.0          8.0\n",
              "BathsFull   4225.0  2.208757e+00  ...        3.0          8.0\n",
              "BathsHalf   4225.0  2.719527e-01  ...        1.0          4.0\n",
              "DOM         4225.0  1.036047e+01  ...        9.0       1013.0\n",
              "Year_Sold   4225.0  2.020981e+03  ...     2021.0       2021.0\n",
              "List_Price  4225.0  1.014835e+06  ...  1130000.0   24999000.0\n",
              "\n",
              "[10 rows x 8 columns]"
            ]
          },
          "metadata": {
            "tags": []
          },
          "execution_count": 14
        }
      ]
    },
    {
      "cell_type": "markdown",
      "metadata": {
        "id": "71bcOUMB57DQ"
      },
      "source": [
        "**INPUT:** need to make some decision here"
      ]
    },
    {
      "cell_type": "code",
      "metadata": {
        "id": "eEM5St_j51xk"
      },
      "source": [
        "# Need to make some decision here, which will affect all the 4 models\n",
        "test_size = 0.05 # due to sample size of 4K thousand samples\n",
        "random_state = 5\n",
        "hidden_nodes_layer1 = 15 # Change this number will affect both NN and NN2 models\n",
        "hidden_nodes_layer2 = 20 # Change this number will affect both NN and NN2 models\n",
        "hidden_nodes_layer3 = 10 # Change this number will affect both NN and NN2 models\n",
        "activation='relu'\n",
        "activation_last='linear'\n",
        "loss_input='mean_absolute_error'\n",
        "optimizer_input='Adam'\n",
        "metrics_input='MSE'\n",
        "size_batch_no = 32\n",
        "epochs_no = 200"
      ],
      "execution_count": 15,
      "outputs": []
    },
    {
      "cell_type": "code",
      "metadata": {
        "id": "JBbAJ98y3O0v",
        "colab": {
          "base_uri": "https://localhost:8080/",
          "height": 470
        },
        "outputId": "c35b7d1d-0d49-4bcb-d743-269f72e29079"
      },
      "source": [
        "# Chose the variables\n",
        "y = data_df.Sale_Price\n",
        "X = data_df.drop(columns=['Sale_Price']) # Include the Listing Price Here\n",
        "\n",
        "# Split training/test datasets\n",
        "# Regression 1 and Neural Network 1 need X_train, not X2\n",
        "from sklearn.model_selection import train_test_split\n",
        "X_train, X_test, y_train, y_test = train_test_split(X, y, test_size=test_size, random_state=random_state)\n",
        "\n",
        "# Model 2 exclude List_Price amongst the independent variables\n",
        "# Regression 2 and Neural Network 2 \"EXCLUDEs\" the variable \"List_Price\"\n",
        "X2_train = X_train.drop(columns=['List_Price']) # This way, we can be sure that the number of data points for training is the same\n",
        "X2_test = X_test.drop(columns=['List_Price']) # The same, the number of data points for testing is the same as Model 1\n",
        "\n",
        "X2_train"
      ],
      "execution_count": 16,
      "outputs": [
        {
          "output_type": "execute_result",
          "data": {
            "text/html": [
              "<div>\n",
              "<style scoped>\n",
              "    .dataframe tbody tr th:only-of-type {\n",
              "        vertical-align: middle;\n",
              "    }\n",
              "\n",
              "    .dataframe tbody tr th {\n",
              "        vertical-align: top;\n",
              "    }\n",
              "\n",
              "    .dataframe thead th {\n",
              "        text-align: right;\n",
              "    }\n",
              "</style>\n",
              "<table border=\"1\" class=\"dataframe\">\n",
              "  <thead>\n",
              "    <tr style=\"text-align: right;\">\n",
              "      <th></th>\n",
              "      <th>SqFtTotal</th>\n",
              "      <th>Lot_Size</th>\n",
              "      <th>Age</th>\n",
              "      <th>BathsTotal</th>\n",
              "      <th>BedsTotal</th>\n",
              "      <th>BathsFull</th>\n",
              "      <th>BathsHalf</th>\n",
              "      <th>DOM</th>\n",
              "      <th>Year_Sold</th>\n",
              "      <th>county_Alameda</th>\n",
              "      <th>county_Amador</th>\n",
              "      <th>county_Butte</th>\n",
              "      <th>county_Contra Costa</th>\n",
              "      <th>county_El Dorado</th>\n",
              "      <th>county_Kern</th>\n",
              "      <th>county_Lake</th>\n",
              "      <th>county_Los Angeles</th>\n",
              "      <th>county_Madera</th>\n",
              "      <th>county_Marin</th>\n",
              "      <th>county_Mendocino</th>\n",
              "      <th>county_Merced</th>\n",
              "      <th>county_Monterey</th>\n",
              "      <th>county_Napa</th>\n",
              "      <th>county_Nevada</th>\n",
              "      <th>county_Orange</th>\n",
              "      <th>county_Other</th>\n",
              "      <th>county_Placer</th>\n",
              "      <th>county_Riverside</th>\n",
              "      <th>county_Sacramento</th>\n",
              "      <th>county_San Benito</th>\n",
              "      <th>county_San Bernardino</th>\n",
              "      <th>county_San Diego</th>\n",
              "      <th>county_San Francisco</th>\n",
              "      <th>county_San Joaquin</th>\n",
              "      <th>county_San Luis Obispo</th>\n",
              "      <th>county_San Mateo</th>\n",
              "      <th>county_Santa Barbara</th>\n",
              "      <th>county_Santa Clara</th>\n",
              "      <th>county_Santa Cruz</th>\n",
              "      <th>county_Solano</th>\n",
              "      <th>county_Sonoma</th>\n",
              "      <th>county_Stanislaus</th>\n",
              "      <th>county_Sutter</th>\n",
              "      <th>county_Ventura</th>\n",
              "      <th>county_Yolo</th>\n",
              "      <th>county_Yuba</th>\n",
              "    </tr>\n",
              "  </thead>\n",
              "  <tbody>\n",
              "    <tr>\n",
              "      <th>3465</th>\n",
              "      <td>1661</td>\n",
              "      <td>5502.0</td>\n",
              "      <td>20</td>\n",
              "      <td>2</td>\n",
              "      <td>4</td>\n",
              "      <td>2</td>\n",
              "      <td>0</td>\n",
              "      <td>6</td>\n",
              "      <td>2021</td>\n",
              "      <td>0.0</td>\n",
              "      <td>0.0</td>\n",
              "      <td>0.0</td>\n",
              "      <td>0.0</td>\n",
              "      <td>0.0</td>\n",
              "      <td>0.0</td>\n",
              "      <td>0.0</td>\n",
              "      <td>0.0</td>\n",
              "      <td>0.0</td>\n",
              "      <td>0.0</td>\n",
              "      <td>0.0</td>\n",
              "      <td>0.0</td>\n",
              "      <td>0.0</td>\n",
              "      <td>0.0</td>\n",
              "      <td>0.0</td>\n",
              "      <td>0.0</td>\n",
              "      <td>0.0</td>\n",
              "      <td>0.0</td>\n",
              "      <td>0.0</td>\n",
              "      <td>0.0</td>\n",
              "      <td>0.0</td>\n",
              "      <td>0.0</td>\n",
              "      <td>0.0</td>\n",
              "      <td>0.0</td>\n",
              "      <td>0.0</td>\n",
              "      <td>0.0</td>\n",
              "      <td>0.0</td>\n",
              "      <td>0.0</td>\n",
              "      <td>0.0</td>\n",
              "      <td>0.0</td>\n",
              "      <td>0.0</td>\n",
              "      <td>0.0</td>\n",
              "      <td>1.0</td>\n",
              "      <td>0.0</td>\n",
              "      <td>0.0</td>\n",
              "      <td>0.0</td>\n",
              "      <td>0.0</td>\n",
              "    </tr>\n",
              "    <tr>\n",
              "      <th>2281</th>\n",
              "      <td>1066</td>\n",
              "      <td>10692.0</td>\n",
              "      <td>57</td>\n",
              "      <td>1</td>\n",
              "      <td>3</td>\n",
              "      <td>1</td>\n",
              "      <td>0</td>\n",
              "      <td>1</td>\n",
              "      <td>2021</td>\n",
              "      <td>0.0</td>\n",
              "      <td>0.0</td>\n",
              "      <td>0.0</td>\n",
              "      <td>0.0</td>\n",
              "      <td>0.0</td>\n",
              "      <td>0.0</td>\n",
              "      <td>0.0</td>\n",
              "      <td>0.0</td>\n",
              "      <td>0.0</td>\n",
              "      <td>0.0</td>\n",
              "      <td>0.0</td>\n",
              "      <td>0.0</td>\n",
              "      <td>0.0</td>\n",
              "      <td>0.0</td>\n",
              "      <td>0.0</td>\n",
              "      <td>0.0</td>\n",
              "      <td>0.0</td>\n",
              "      <td>0.0</td>\n",
              "      <td>0.0</td>\n",
              "      <td>0.0</td>\n",
              "      <td>0.0</td>\n",
              "      <td>1.0</td>\n",
              "      <td>0.0</td>\n",
              "      <td>0.0</td>\n",
              "      <td>0.0</td>\n",
              "      <td>0.0</td>\n",
              "      <td>0.0</td>\n",
              "      <td>0.0</td>\n",
              "      <td>0.0</td>\n",
              "      <td>0.0</td>\n",
              "      <td>0.0</td>\n",
              "      <td>0.0</td>\n",
              "      <td>0.0</td>\n",
              "      <td>0.0</td>\n",
              "      <td>0.0</td>\n",
              "      <td>0.0</td>\n",
              "      <td>0.0</td>\n",
              "    </tr>\n",
              "    <tr>\n",
              "      <th>2019</th>\n",
              "      <td>2002</td>\n",
              "      <td>7500.0</td>\n",
              "      <td>45</td>\n",
              "      <td>2</td>\n",
              "      <td>3</td>\n",
              "      <td>2</td>\n",
              "      <td>0</td>\n",
              "      <td>0</td>\n",
              "      <td>2021</td>\n",
              "      <td>0.0</td>\n",
              "      <td>0.0</td>\n",
              "      <td>0.0</td>\n",
              "      <td>0.0</td>\n",
              "      <td>0.0</td>\n",
              "      <td>0.0</td>\n",
              "      <td>0.0</td>\n",
              "      <td>1.0</td>\n",
              "      <td>0.0</td>\n",
              "      <td>0.0</td>\n",
              "      <td>0.0</td>\n",
              "      <td>0.0</td>\n",
              "      <td>0.0</td>\n",
              "      <td>0.0</td>\n",
              "      <td>0.0</td>\n",
              "      <td>0.0</td>\n",
              "      <td>0.0</td>\n",
              "      <td>0.0</td>\n",
              "      <td>0.0</td>\n",
              "      <td>0.0</td>\n",
              "      <td>0.0</td>\n",
              "      <td>0.0</td>\n",
              "      <td>0.0</td>\n",
              "      <td>0.0</td>\n",
              "      <td>0.0</td>\n",
              "      <td>0.0</td>\n",
              "      <td>0.0</td>\n",
              "      <td>0.0</td>\n",
              "      <td>0.0</td>\n",
              "      <td>0.0</td>\n",
              "      <td>0.0</td>\n",
              "      <td>0.0</td>\n",
              "      <td>0.0</td>\n",
              "      <td>0.0</td>\n",
              "      <td>0.0</td>\n",
              "      <td>0.0</td>\n",
              "      <td>0.0</td>\n",
              "    </tr>\n",
              "    <tr>\n",
              "      <th>3284</th>\n",
              "      <td>1298</td>\n",
              "      <td>5898.0</td>\n",
              "      <td>47</td>\n",
              "      <td>2</td>\n",
              "      <td>3</td>\n",
              "      <td>2</td>\n",
              "      <td>0</td>\n",
              "      <td>20</td>\n",
              "      <td>2021</td>\n",
              "      <td>0.0</td>\n",
              "      <td>0.0</td>\n",
              "      <td>0.0</td>\n",
              "      <td>0.0</td>\n",
              "      <td>0.0</td>\n",
              "      <td>0.0</td>\n",
              "      <td>0.0</td>\n",
              "      <td>0.0</td>\n",
              "      <td>0.0</td>\n",
              "      <td>0.0</td>\n",
              "      <td>0.0</td>\n",
              "      <td>0.0</td>\n",
              "      <td>0.0</td>\n",
              "      <td>0.0</td>\n",
              "      <td>0.0</td>\n",
              "      <td>0.0</td>\n",
              "      <td>0.0</td>\n",
              "      <td>0.0</td>\n",
              "      <td>0.0</td>\n",
              "      <td>1.0</td>\n",
              "      <td>0.0</td>\n",
              "      <td>0.0</td>\n",
              "      <td>0.0</td>\n",
              "      <td>0.0</td>\n",
              "      <td>0.0</td>\n",
              "      <td>0.0</td>\n",
              "      <td>0.0</td>\n",
              "      <td>0.0</td>\n",
              "      <td>0.0</td>\n",
              "      <td>0.0</td>\n",
              "      <td>0.0</td>\n",
              "      <td>0.0</td>\n",
              "      <td>0.0</td>\n",
              "      <td>0.0</td>\n",
              "      <td>0.0</td>\n",
              "      <td>0.0</td>\n",
              "      <td>0.0</td>\n",
              "    </tr>\n",
              "    <tr>\n",
              "      <th>2550</th>\n",
              "      <td>1317</td>\n",
              "      <td>4792.0</td>\n",
              "      <td>26</td>\n",
              "      <td>2</td>\n",
              "      <td>3</td>\n",
              "      <td>2</td>\n",
              "      <td>0</td>\n",
              "      <td>4</td>\n",
              "      <td>2021</td>\n",
              "      <td>0.0</td>\n",
              "      <td>0.0</td>\n",
              "      <td>0.0</td>\n",
              "      <td>0.0</td>\n",
              "      <td>0.0</td>\n",
              "      <td>0.0</td>\n",
              "      <td>0.0</td>\n",
              "      <td>0.0</td>\n",
              "      <td>0.0</td>\n",
              "      <td>0.0</td>\n",
              "      <td>0.0</td>\n",
              "      <td>0.0</td>\n",
              "      <td>0.0</td>\n",
              "      <td>0.0</td>\n",
              "      <td>0.0</td>\n",
              "      <td>0.0</td>\n",
              "      <td>0.0</td>\n",
              "      <td>0.0</td>\n",
              "      <td>1.0</td>\n",
              "      <td>0.0</td>\n",
              "      <td>0.0</td>\n",
              "      <td>0.0</td>\n",
              "      <td>0.0</td>\n",
              "      <td>0.0</td>\n",
              "      <td>0.0</td>\n",
              "      <td>0.0</td>\n",
              "      <td>0.0</td>\n",
              "      <td>0.0</td>\n",
              "      <td>0.0</td>\n",
              "      <td>0.0</td>\n",
              "      <td>0.0</td>\n",
              "      <td>0.0</td>\n",
              "      <td>0.0</td>\n",
              "      <td>0.0</td>\n",
              "      <td>0.0</td>\n",
              "      <td>0.0</td>\n",
              "      <td>0.0</td>\n",
              "    </tr>\n",
              "    <tr>\n",
              "      <th>...</th>\n",
              "      <td>...</td>\n",
              "      <td>...</td>\n",
              "      <td>...</td>\n",
              "      <td>...</td>\n",
              "      <td>...</td>\n",
              "      <td>...</td>\n",
              "      <td>...</td>\n",
              "      <td>...</td>\n",
              "      <td>...</td>\n",
              "      <td>...</td>\n",
              "      <td>...</td>\n",
              "      <td>...</td>\n",
              "      <td>...</td>\n",
              "      <td>...</td>\n",
              "      <td>...</td>\n",
              "      <td>...</td>\n",
              "      <td>...</td>\n",
              "      <td>...</td>\n",
              "      <td>...</td>\n",
              "      <td>...</td>\n",
              "      <td>...</td>\n",
              "      <td>...</td>\n",
              "      <td>...</td>\n",
              "      <td>...</td>\n",
              "      <td>...</td>\n",
              "      <td>...</td>\n",
              "      <td>...</td>\n",
              "      <td>...</td>\n",
              "      <td>...</td>\n",
              "      <td>...</td>\n",
              "      <td>...</td>\n",
              "      <td>...</td>\n",
              "      <td>...</td>\n",
              "      <td>...</td>\n",
              "      <td>...</td>\n",
              "      <td>...</td>\n",
              "      <td>...</td>\n",
              "      <td>...</td>\n",
              "      <td>...</td>\n",
              "      <td>...</td>\n",
              "      <td>...</td>\n",
              "      <td>...</td>\n",
              "      <td>...</td>\n",
              "      <td>...</td>\n",
              "      <td>...</td>\n",
              "      <td>...</td>\n",
              "    </tr>\n",
              "    <tr>\n",
              "      <th>3046</th>\n",
              "      <td>2635</td>\n",
              "      <td>11108.0</td>\n",
              "      <td>16</td>\n",
              "      <td>3</td>\n",
              "      <td>2</td>\n",
              "      <td>2</td>\n",
              "      <td>1</td>\n",
              "      <td>8</td>\n",
              "      <td>2021</td>\n",
              "      <td>0.0</td>\n",
              "      <td>0.0</td>\n",
              "      <td>0.0</td>\n",
              "      <td>0.0</td>\n",
              "      <td>0.0</td>\n",
              "      <td>0.0</td>\n",
              "      <td>0.0</td>\n",
              "      <td>0.0</td>\n",
              "      <td>0.0</td>\n",
              "      <td>0.0</td>\n",
              "      <td>0.0</td>\n",
              "      <td>0.0</td>\n",
              "      <td>0.0</td>\n",
              "      <td>0.0</td>\n",
              "      <td>0.0</td>\n",
              "      <td>0.0</td>\n",
              "      <td>0.0</td>\n",
              "      <td>1.0</td>\n",
              "      <td>0.0</td>\n",
              "      <td>0.0</td>\n",
              "      <td>0.0</td>\n",
              "      <td>0.0</td>\n",
              "      <td>0.0</td>\n",
              "      <td>0.0</td>\n",
              "      <td>0.0</td>\n",
              "      <td>0.0</td>\n",
              "      <td>0.0</td>\n",
              "      <td>0.0</td>\n",
              "      <td>0.0</td>\n",
              "      <td>0.0</td>\n",
              "      <td>0.0</td>\n",
              "      <td>0.0</td>\n",
              "      <td>0.0</td>\n",
              "      <td>0.0</td>\n",
              "      <td>0.0</td>\n",
              "      <td>0.0</td>\n",
              "      <td>0.0</td>\n",
              "    </tr>\n",
              "    <tr>\n",
              "      <th>1725</th>\n",
              "      <td>1954</td>\n",
              "      <td>7344.0</td>\n",
              "      <td>57</td>\n",
              "      <td>2</td>\n",
              "      <td>4</td>\n",
              "      <td>2</td>\n",
              "      <td>0</td>\n",
              "      <td>15</td>\n",
              "      <td>2021</td>\n",
              "      <td>0.0</td>\n",
              "      <td>0.0</td>\n",
              "      <td>0.0</td>\n",
              "      <td>0.0</td>\n",
              "      <td>0.0</td>\n",
              "      <td>0.0</td>\n",
              "      <td>0.0</td>\n",
              "      <td>0.0</td>\n",
              "      <td>0.0</td>\n",
              "      <td>0.0</td>\n",
              "      <td>0.0</td>\n",
              "      <td>0.0</td>\n",
              "      <td>0.0</td>\n",
              "      <td>0.0</td>\n",
              "      <td>0.0</td>\n",
              "      <td>1.0</td>\n",
              "      <td>0.0</td>\n",
              "      <td>0.0</td>\n",
              "      <td>0.0</td>\n",
              "      <td>0.0</td>\n",
              "      <td>0.0</td>\n",
              "      <td>0.0</td>\n",
              "      <td>0.0</td>\n",
              "      <td>0.0</td>\n",
              "      <td>0.0</td>\n",
              "      <td>0.0</td>\n",
              "      <td>0.0</td>\n",
              "      <td>0.0</td>\n",
              "      <td>0.0</td>\n",
              "      <td>0.0</td>\n",
              "      <td>0.0</td>\n",
              "      <td>0.0</td>\n",
              "      <td>0.0</td>\n",
              "      <td>0.0</td>\n",
              "      <td>0.0</td>\n",
              "      <td>0.0</td>\n",
              "      <td>0.0</td>\n",
              "    </tr>\n",
              "    <tr>\n",
              "      <th>4079</th>\n",
              "      <td>3240</td>\n",
              "      <td>2750.0</td>\n",
              "      <td>123</td>\n",
              "      <td>4</td>\n",
              "      <td>5</td>\n",
              "      <td>4</td>\n",
              "      <td>0</td>\n",
              "      <td>0</td>\n",
              "      <td>2021</td>\n",
              "      <td>0.0</td>\n",
              "      <td>0.0</td>\n",
              "      <td>0.0</td>\n",
              "      <td>0.0</td>\n",
              "      <td>0.0</td>\n",
              "      <td>0.0</td>\n",
              "      <td>0.0</td>\n",
              "      <td>0.0</td>\n",
              "      <td>0.0</td>\n",
              "      <td>0.0</td>\n",
              "      <td>0.0</td>\n",
              "      <td>0.0</td>\n",
              "      <td>0.0</td>\n",
              "      <td>0.0</td>\n",
              "      <td>0.0</td>\n",
              "      <td>0.0</td>\n",
              "      <td>0.0</td>\n",
              "      <td>0.0</td>\n",
              "      <td>0.0</td>\n",
              "      <td>0.0</td>\n",
              "      <td>0.0</td>\n",
              "      <td>0.0</td>\n",
              "      <td>0.0</td>\n",
              "      <td>1.0</td>\n",
              "      <td>0.0</td>\n",
              "      <td>0.0</td>\n",
              "      <td>0.0</td>\n",
              "      <td>0.0</td>\n",
              "      <td>0.0</td>\n",
              "      <td>0.0</td>\n",
              "      <td>0.0</td>\n",
              "      <td>0.0</td>\n",
              "      <td>0.0</td>\n",
              "      <td>0.0</td>\n",
              "      <td>0.0</td>\n",
              "      <td>0.0</td>\n",
              "      <td>0.0</td>\n",
              "    </tr>\n",
              "    <tr>\n",
              "      <th>2254</th>\n",
              "      <td>2082</td>\n",
              "      <td>6930.0</td>\n",
              "      <td>66</td>\n",
              "      <td>1</td>\n",
              "      <td>4</td>\n",
              "      <td>1</td>\n",
              "      <td>0</td>\n",
              "      <td>2</td>\n",
              "      <td>2021</td>\n",
              "      <td>0.0</td>\n",
              "      <td>0.0</td>\n",
              "      <td>0.0</td>\n",
              "      <td>0.0</td>\n",
              "      <td>0.0</td>\n",
              "      <td>0.0</td>\n",
              "      <td>0.0</td>\n",
              "      <td>0.0</td>\n",
              "      <td>0.0</td>\n",
              "      <td>0.0</td>\n",
              "      <td>0.0</td>\n",
              "      <td>0.0</td>\n",
              "      <td>0.0</td>\n",
              "      <td>0.0</td>\n",
              "      <td>0.0</td>\n",
              "      <td>1.0</td>\n",
              "      <td>0.0</td>\n",
              "      <td>0.0</td>\n",
              "      <td>0.0</td>\n",
              "      <td>0.0</td>\n",
              "      <td>0.0</td>\n",
              "      <td>0.0</td>\n",
              "      <td>0.0</td>\n",
              "      <td>0.0</td>\n",
              "      <td>0.0</td>\n",
              "      <td>0.0</td>\n",
              "      <td>0.0</td>\n",
              "      <td>0.0</td>\n",
              "      <td>0.0</td>\n",
              "      <td>0.0</td>\n",
              "      <td>0.0</td>\n",
              "      <td>0.0</td>\n",
              "      <td>0.0</td>\n",
              "      <td>0.0</td>\n",
              "      <td>0.0</td>\n",
              "      <td>0.0</td>\n",
              "      <td>0.0</td>\n",
              "    </tr>\n",
              "    <tr>\n",
              "      <th>2915</th>\n",
              "      <td>1600</td>\n",
              "      <td>4500.0</td>\n",
              "      <td>23</td>\n",
              "      <td>2</td>\n",
              "      <td>3</td>\n",
              "      <td>2</td>\n",
              "      <td>0</td>\n",
              "      <td>6</td>\n",
              "      <td>2021</td>\n",
              "      <td>0.0</td>\n",
              "      <td>0.0</td>\n",
              "      <td>0.0</td>\n",
              "      <td>0.0</td>\n",
              "      <td>0.0</td>\n",
              "      <td>0.0</td>\n",
              "      <td>0.0</td>\n",
              "      <td>0.0</td>\n",
              "      <td>0.0</td>\n",
              "      <td>0.0</td>\n",
              "      <td>0.0</td>\n",
              "      <td>0.0</td>\n",
              "      <td>0.0</td>\n",
              "      <td>0.0</td>\n",
              "      <td>0.0</td>\n",
              "      <td>0.0</td>\n",
              "      <td>0.0</td>\n",
              "      <td>0.0</td>\n",
              "      <td>0.0</td>\n",
              "      <td>1.0</td>\n",
              "      <td>0.0</td>\n",
              "      <td>0.0</td>\n",
              "      <td>0.0</td>\n",
              "      <td>0.0</td>\n",
              "      <td>0.0</td>\n",
              "      <td>0.0</td>\n",
              "      <td>0.0</td>\n",
              "      <td>0.0</td>\n",
              "      <td>0.0</td>\n",
              "      <td>0.0</td>\n",
              "      <td>0.0</td>\n",
              "      <td>0.0</td>\n",
              "      <td>0.0</td>\n",
              "      <td>0.0</td>\n",
              "      <td>0.0</td>\n",
              "      <td>0.0</td>\n",
              "      <td>0.0</td>\n",
              "    </tr>\n",
              "  </tbody>\n",
              "</table>\n",
              "<p>4013 rows × 46 columns</p>\n",
              "</div>"
            ],
            "text/plain": [
              "      SqFtTotal  Lot_Size  Age  ...  county_Ventura  county_Yolo  county_Yuba\n",
              "3465       1661    5502.0   20  ...             0.0          0.0          0.0\n",
              "2281       1066   10692.0   57  ...             0.0          0.0          0.0\n",
              "2019       2002    7500.0   45  ...             0.0          0.0          0.0\n",
              "3284       1298    5898.0   47  ...             0.0          0.0          0.0\n",
              "2550       1317    4792.0   26  ...             0.0          0.0          0.0\n",
              "...         ...       ...  ...  ...             ...          ...          ...\n",
              "3046       2635   11108.0   16  ...             0.0          0.0          0.0\n",
              "1725       1954    7344.0   57  ...             0.0          0.0          0.0\n",
              "4079       3240    2750.0  123  ...             0.0          0.0          0.0\n",
              "2254       2082    6930.0   66  ...             0.0          0.0          0.0\n",
              "2915       1600    4500.0   23  ...             0.0          0.0          0.0\n",
              "\n",
              "[4013 rows x 46 columns]"
            ]
          },
          "metadata": {
            "tags": []
          },
          "execution_count": 16
        }
      ]
    },
    {
      "cell_type": "markdown",
      "metadata": {
        "id": "PfRKI3rii-Qe"
      },
      "source": [
        "**MODEL 1:** **REGRESSION with \"List_Price\"**"
      ]
    },
    {
      "cell_type": "code",
      "metadata": {
        "id": "MoAa5O7T-38e"
      },
      "source": [
        "# Fit ML Regression to a trainingg set\n",
        "# Forcing intercept to be zero\n",
        "from sklearn.linear_model import LinearRegression\n",
        "regression = LinearRegression(fit_intercept=False) # False = no-intercept\n",
        "regression.fit(X_train, y_train)\n",
        "\n",
        "# Predicting the test result\n",
        "y1_pred = regression.predict(X_test)\n",
        "\n",
        "# https://scikit-learn.org/stable/modules/generated/sklearn.linear_model.LinearRegression.html\n",
        "# LinearRegression(copy_X=True, fit_intercept=False, n_jobs=None, normalize=False)"
      ],
      "execution_count": 17,
      "outputs": []
    },
    {
      "cell_type": "code",
      "metadata": {
        "id": "HpXUUU9NJBgL",
        "colab": {
          "base_uri": "https://localhost:8080/"
        },
        "outputId": "a8aa45e4-fbf2-4b01-f785-38cadd77d15f"
      },
      "source": [
        "# Print out the interceptor\n",
        "# Expect intercept is zero\n",
        "print(\"Intercept: \" + str(regression.intercept_))"
      ],
      "execution_count": 18,
      "outputs": [
        {
          "output_type": "stream",
          "text": [
            "Intercept: 0.0\n"
          ],
          "name": "stdout"
        }
      ]
    },
    {
      "cell_type": "code",
      "metadata": {
        "colab": {
          "base_uri": "https://localhost:8080/",
          "height": 357
        },
        "id": "3-DBzdS7dsY3",
        "outputId": "f826cc7c-b22c-4022-f12e-aa36d9e13307"
      },
      "source": [
        "#put results as a DataFrame\n",
        "coef_df = pd.DataFrame(regression.coef_, X_train.columns, columns=['Coefficient'])\n",
        "coef_df['Coefficient'] = coef_df['Coefficient'].map('{:,.5f}'.format)\n",
        "coef_df.head(10)"
      ],
      "execution_count": 19,
      "outputs": [
        {
          "output_type": "execute_result",
          "data": {
            "text/html": [
              "<div>\n",
              "<style scoped>\n",
              "    .dataframe tbody tr th:only-of-type {\n",
              "        vertical-align: middle;\n",
              "    }\n",
              "\n",
              "    .dataframe tbody tr th {\n",
              "        vertical-align: top;\n",
              "    }\n",
              "\n",
              "    .dataframe thead th {\n",
              "        text-align: right;\n",
              "    }\n",
              "</style>\n",
              "<table border=\"1\" class=\"dataframe\">\n",
              "  <thead>\n",
              "    <tr style=\"text-align: right;\">\n",
              "      <th></th>\n",
              "      <th>Coefficient</th>\n",
              "    </tr>\n",
              "  </thead>\n",
              "  <tbody>\n",
              "    <tr>\n",
              "      <th>SqFtTotal</th>\n",
              "      <td>7.05846</td>\n",
              "    </tr>\n",
              "    <tr>\n",
              "      <th>Lot_Size</th>\n",
              "      <td>-0.00004</td>\n",
              "    </tr>\n",
              "    <tr>\n",
              "      <th>Age</th>\n",
              "      <td>237.80992</td>\n",
              "    </tr>\n",
              "    <tr>\n",
              "      <th>BathsTotal</th>\n",
              "      <td>-6,615.07688</td>\n",
              "    </tr>\n",
              "    <tr>\n",
              "      <th>BedsTotal</th>\n",
              "      <td>4,338.21438</td>\n",
              "    </tr>\n",
              "    <tr>\n",
              "      <th>BathsFull</th>\n",
              "      <td>-1,794.02309</td>\n",
              "    </tr>\n",
              "    <tr>\n",
              "      <th>BathsHalf</th>\n",
              "      <td>-4,821.05354</td>\n",
              "    </tr>\n",
              "    <tr>\n",
              "      <th>DOM</th>\n",
              "      <td>-20.42945</td>\n",
              "    </tr>\n",
              "    <tr>\n",
              "      <th>Year_Sold</th>\n",
              "      <td>14,287.70729</td>\n",
              "    </tr>\n",
              "    <tr>\n",
              "      <th>List_Price</th>\n",
              "      <td>1.01986</td>\n",
              "    </tr>\n",
              "  </tbody>\n",
              "</table>\n",
              "</div>"
            ],
            "text/plain": [
              "             Coefficient\n",
              "SqFtTotal        7.05846\n",
              "Lot_Size        -0.00004\n",
              "Age            237.80992\n",
              "BathsTotal  -6,615.07688\n",
              "BedsTotal    4,338.21438\n",
              "BathsFull   -1,794.02309\n",
              "BathsHalf   -4,821.05354\n",
              "DOM            -20.42945\n",
              "Year_Sold   14,287.70729\n",
              "List_Price       1.01986"
            ]
          },
          "metadata": {
            "tags": []
          },
          "execution_count": 19
        }
      ]
    },
    {
      "cell_type": "code",
      "metadata": {
        "colab": {
          "base_uri": "https://localhost:8080/"
        },
        "id": "EStisQ_uhzcw",
        "outputId": "4924a8a8-9faf-4dad-8564-1561018b3a1c"
      },
      "source": [
        "# evaluate the performance of the algorithm (MAE - MSE - RMSE)\n",
        "from sklearn import metrics\n",
        "from sklearn.metrics import r2_score\n",
        "print('Model 1: Regression with List_Price')\n",
        "#print('Mean Absolute Error (MAE):', metrics.mean_absolute_error(y_test, y1_pred))  \n",
        "#print('Mean Squared Error (MSE):', metrics.mean_squared_error(y_test, y1_pred))  \n",
        "print('Root Mean Squared Error (RMSE):', np.sqrt(metrics.mean_squared_error(y_test, y1_pred)))\n",
        "print('Variance -- VarScore:', metrics.explained_variance_score(y_test,y1_pred))\n",
        "print(\"R squared(R2):\", metrics.r2_score(y_test, y1_pred))"
      ],
      "execution_count": 20,
      "outputs": [
        {
          "output_type": "stream",
          "text": [
            "Model 1: Regression with List_Price\n",
            "Root Mean Squared Error (RMSE): 316639.1125205762\n",
            "Variance -- VarScore: 0.9606342819218879\n",
            "R squared(R2): 0.9605332854433306\n"
          ],
          "name": "stdout"
        }
      ]
    },
    {
      "cell_type": "code",
      "metadata": {
        "colab": {
          "base_uri": "https://localhost:8080/",
          "height": 357
        },
        "id": "Y_UaOkJ51YBe",
        "outputId": "cc817fca-ba23-402f-8142-813c36308d04"
      },
      "source": [
        "#df = create a df of Sales_Price and Prediction values\n",
        "result1_df = pd.DataFrame({\"Sale_Price\": [x for x in y_test], \"Predict_Reg_1\": [x for x in y1_pred]})\n",
        "result1_df['Predict_Reg_1'] = result1_df['Predict_Reg_1'].map('{:,.2f}'.format)\n",
        "result1_df.head(10)"
      ],
      "execution_count": 21,
      "outputs": [
        {
          "output_type": "execute_result",
          "data": {
            "text/html": [
              "<div>\n",
              "<style scoped>\n",
              "    .dataframe tbody tr th:only-of-type {\n",
              "        vertical-align: middle;\n",
              "    }\n",
              "\n",
              "    .dataframe tbody tr th {\n",
              "        vertical-align: top;\n",
              "    }\n",
              "\n",
              "    .dataframe thead th {\n",
              "        text-align: right;\n",
              "    }\n",
              "</style>\n",
              "<table border=\"1\" class=\"dataframe\">\n",
              "  <thead>\n",
              "    <tr style=\"text-align: right;\">\n",
              "      <th></th>\n",
              "      <th>Sale_Price</th>\n",
              "      <th>Predict_Reg_1</th>\n",
              "    </tr>\n",
              "  </thead>\n",
              "  <tbody>\n",
              "    <tr>\n",
              "      <th>0</th>\n",
              "      <td>1005000</td>\n",
              "      <td>913,281.32</td>\n",
              "    </tr>\n",
              "    <tr>\n",
              "      <th>1</th>\n",
              "      <td>1175000</td>\n",
              "      <td>1,219,022.44</td>\n",
              "    </tr>\n",
              "    <tr>\n",
              "      <th>2</th>\n",
              "      <td>565000</td>\n",
              "      <td>587,771.36</td>\n",
              "    </tr>\n",
              "    <tr>\n",
              "      <th>3</th>\n",
              "      <td>950000</td>\n",
              "      <td>959,388.14</td>\n",
              "    </tr>\n",
              "    <tr>\n",
              "      <th>4</th>\n",
              "      <td>625000</td>\n",
              "      <td>608,544.68</td>\n",
              "    </tr>\n",
              "    <tr>\n",
              "      <th>5</th>\n",
              "      <td>1925000</td>\n",
              "      <td>1,872,278.90</td>\n",
              "    </tr>\n",
              "    <tr>\n",
              "      <th>6</th>\n",
              "      <td>21150000</td>\n",
              "      <td>25,521,630.17</td>\n",
              "    </tr>\n",
              "    <tr>\n",
              "      <th>7</th>\n",
              "      <td>2000000</td>\n",
              "      <td>1,830,298.75</td>\n",
              "    </tr>\n",
              "    <tr>\n",
              "      <th>8</th>\n",
              "      <td>341000</td>\n",
              "      <td>321,158.59</td>\n",
              "    </tr>\n",
              "    <tr>\n",
              "      <th>9</th>\n",
              "      <td>1450000</td>\n",
              "      <td>1,469,391.98</td>\n",
              "    </tr>\n",
              "  </tbody>\n",
              "</table>\n",
              "</div>"
            ],
            "text/plain": [
              "   Sale_Price  Predict_Reg_1\n",
              "0     1005000     913,281.32\n",
              "1     1175000   1,219,022.44\n",
              "2      565000     587,771.36\n",
              "3      950000     959,388.14\n",
              "4      625000     608,544.68\n",
              "5     1925000   1,872,278.90\n",
              "6    21150000  25,521,630.17\n",
              "7     2000000   1,830,298.75\n",
              "8      341000     321,158.59\n",
              "9     1450000   1,469,391.98"
            ]
          },
          "metadata": {
            "tags": []
          },
          "execution_count": 21
        }
      ]
    },
    {
      "cell_type": "code",
      "metadata": {
        "colab": {
          "base_uri": "https://localhost:8080/",
          "height": 352
        },
        "id": "CtUryTDUjt0t",
        "outputId": "4961aa5a-ad7b-451b-985c-3fe5c9f73e7f"
      },
      "source": [
        "# visualizing residuals\n",
        "fig = plt.figure(figsize=(10,5))\n",
        "residuals = (y_test - y1_pred)\n",
        "sns.histplot(residuals)"
      ],
      "execution_count": 22,
      "outputs": [
        {
          "output_type": "execute_result",
          "data": {
            "text/plain": [
              "<matplotlib.axes._subplots.AxesSubplot at 0x7faf53852550>"
            ]
          },
          "metadata": {
            "tags": []
          },
          "execution_count": 22
        },
        {
          "output_type": "display_data",
          "data": {
            "image/png": "[encoded data removed]",
            "text/plain": [
              "<Figure size 720x360 with 1 Axes>"
            ]
          },
          "metadata": {
            "tags": [],
            "needs_background": "light"
          }
        }
      ]
    },
    {
      "cell_type": "code",
      "metadata": {
        "id": "e1K3xZFIHdJW",
        "colab": {
          "base_uri": "https://localhost:8080/",
          "height": 350
        },
        "outputId": "2699f435-4d64-4910-db6d-429d42c9a06b"
      },
      "source": [
        "import matplotlib.pyplot as plt\n",
        "plt.figure(figsize=(10,5))\n",
        "plt.plot(np.array(y1_pred))\n",
        "plt.plot(np.array(y_test))\n",
        "plt.title('Model 1: Regression with List_Price')\n",
        "plt.ylabel('Price')\n",
        "plt.xlabel('No. of Samples')\n",
        "plt.legend(['Predict Reg 1', 'Sale_Price'], loc='upper right')\n",
        "plt.show()"
      ],
      "execution_count": 23,
      "outputs": [
        {
          "output_type": "display_data",
          "data": {
            "image/png": "[encoded data removed]",
            "text/plain": [
              "<Figure size 720x360 with 1 Axes>"
            ]
          },
          "metadata": {
            "tags": [],
            "needs_background": "light"
          }
        }
      ]
    },
    {
      "cell_type": "markdown",
      "metadata": {
        "id": "qblGLMT9kgdL"
      },
      "source": [
        "**MODEL 2:** **REGRESSION** without **List_Price**"
      ]
    },
    {
      "cell_type": "code",
      "metadata": {
        "colab": {
          "base_uri": "https://localhost:8080/"
        },
        "id": "PzP4y966Lvix",
        "outputId": "8e817071-7d52-4022-cd56-6596ab14dbc2"
      },
      "source": [
        "# Need to keep it here to remind what the the testing and traing features\n",
        "print(X2_train.shape, X2_test.shape, y_train.shape, y_test.shape)"
      ],
      "execution_count": 24,
      "outputs": [
        {
          "output_type": "stream",
          "text": [
            "(4013, 46) (212, 46) (4013,) (212,)\n"
          ],
          "name": "stdout"
        }
      ]
    },
    {
      "cell_type": "code",
      "metadata": {
        "id": "TQtERu_fkdJC"
      },
      "source": [
        "# Fit ML Regression to a training set\n",
        "# Forcing intercept to be zero\n",
        "from sklearn.linear_model import LinearRegression\n",
        "regression2 = LinearRegression(fit_intercept=False) # False = no-intercept\n",
        "regression2.fit(X2_train, y_train)\n",
        "\n",
        "# Predicting the test result\n",
        "y2_pred = regression2.predict(X2_test) # <= X has no List_Price"
      ],
      "execution_count": 25,
      "outputs": []
    },
    {
      "cell_type": "code",
      "metadata": {
        "colab": {
          "base_uri": "https://localhost:8080/",
          "height": 357
        },
        "id": "VpVrNVp6H__u",
        "outputId": "487b4aae-9786-49e4-a01f-279b044ec766"
      },
      "source": [
        "#save Coefficent values as a DataFrame\n",
        "coef2_df = pd.DataFrame(regression2.coef_, X2_train.columns, columns=['Coefficient'])\n",
        "coef2_df['Coefficient'] = coef2_df['Coefficient'].map('{:,.5f}'.format)\n",
        "coef2_df.head(10)"
      ],
      "execution_count": 26,
      "outputs": [
        {
          "output_type": "execute_result",
          "data": {
            "text/html": [
              "<div>\n",
              "<style scoped>\n",
              "    .dataframe tbody tr th:only-of-type {\n",
              "        vertical-align: middle;\n",
              "    }\n",
              "\n",
              "    .dataframe tbody tr th {\n",
              "        vertical-align: top;\n",
              "    }\n",
              "\n",
              "    .dataframe thead th {\n",
              "        text-align: right;\n",
              "    }\n",
              "</style>\n",
              "<table border=\"1\" class=\"dataframe\">\n",
              "  <thead>\n",
              "    <tr style=\"text-align: right;\">\n",
              "      <th></th>\n",
              "      <th>Coefficient</th>\n",
              "    </tr>\n",
              "  </thead>\n",
              "  <tbody>\n",
              "    <tr>\n",
              "      <th>SqFtTotal</th>\n",
              "      <td>879.53279</td>\n",
              "    </tr>\n",
              "    <tr>\n",
              "      <th>Lot_Size</th>\n",
              "      <td>-0.00069</td>\n",
              "    </tr>\n",
              "    <tr>\n",
              "      <th>Age</th>\n",
              "      <td>6,500.96247</td>\n",
              "    </tr>\n",
              "    <tr>\n",
              "      <th>BathsTotal</th>\n",
              "      <td>36,268.40595</td>\n",
              "    </tr>\n",
              "    <tr>\n",
              "      <th>BedsTotal</th>\n",
              "      <td>-187,635.94393</td>\n",
              "    </tr>\n",
              "    <tr>\n",
              "      <th>BathsFull</th>\n",
              "      <td>-45,284.97722</td>\n",
              "    </tr>\n",
              "    <tr>\n",
              "      <th>BathsHalf</th>\n",
              "      <td>81,541.31618</td>\n",
              "    </tr>\n",
              "    <tr>\n",
              "      <th>DOM</th>\n",
              "      <td>-418.30383</td>\n",
              "    </tr>\n",
              "    <tr>\n",
              "      <th>Year_Sold</th>\n",
              "      <td>47,083.74609</td>\n",
              "    </tr>\n",
              "    <tr>\n",
              "      <th>county_Alameda</th>\n",
              "      <td>-95,141,812.41179</td>\n",
              "    </tr>\n",
              "  </tbody>\n",
              "</table>\n",
              "</div>"
            ],
            "text/plain": [
              "                      Coefficient\n",
              "SqFtTotal               879.53279\n",
              "Lot_Size                 -0.00069\n",
              "Age                   6,500.96247\n",
              "BathsTotal           36,268.40595\n",
              "BedsTotal          -187,635.94393\n",
              "BathsFull           -45,284.97722\n",
              "BathsHalf            81,541.31618\n",
              "DOM                    -418.30383\n",
              "Year_Sold            47,083.74609\n",
              "county_Alameda  -95,141,812.41179"
            ]
          },
          "metadata": {
            "tags": []
          },
          "execution_count": 26
        }
      ]
    },
    {
      "cell_type": "markdown",
      "metadata": {
        "id": "MmkpmZF6lVFx"
      },
      "source": [
        "**r2_score:** It drops significantly"
      ]
    },
    {
      "cell_type": "code",
      "metadata": {
        "colab": {
          "base_uri": "https://localhost:8080/"
        },
        "id": "MMsHCCTmkdZ5",
        "outputId": "526c2e16-b1ba-4711-9dd6-21e0cd5e5228"
      },
      "source": [
        "# evaluate the performance of the algorithm (MAE - MSE - RMSE)\n",
        "from sklearn import metrics\n",
        "from sklearn.metrics import r2_score\n",
        "print('Model 2: Regression without List_Price')\n",
        "#print('Mean Absolute Error (MAE):', metrics.mean_absolute_error(y_test, y2_pred))  \n",
        "#print('Mean Squared Error (MSE):', metrics.mean_squared_error(y_test, y2_pred))  \n",
        "print('Root Mean Squared Error (RMSE):', np.sqrt(metrics.mean_squared_error(y_test, y2_pred)))\n",
        "print('Variance -- VarScore:', metrics.explained_variance_score(y_test,y2_pred))\n",
        "print(\"R squared(R2):\", metrics.r2_score(y_test, y2_pred))"
      ],
      "execution_count": 27,
      "outputs": [
        {
          "output_type": "stream",
          "text": [
            "Model 2: Regression without List_Price\n",
            "Root Mean Squared Error (RMSE): 912523.6454568175\n",
            "Variance -- VarScore: 0.6723058986678696\n",
            "R squared(R2): 0.6722142200798393\n"
          ],
          "name": "stdout"
        }
      ]
    },
    {
      "cell_type": "code",
      "metadata": {
        "colab": {
          "base_uri": "https://localhost:8080/",
          "height": 357
        },
        "id": "0oCgHMX50Jgn",
        "outputId": "046bd151-8881-478c-abb0-cd4b8a26beb4"
      },
      "source": [
        "#df = create a df of Sales_Price and Prediction values\n",
        "result2_df = pd.DataFrame({\"Sale_Price\": [x for x in y_test], \"Predict_Reg_2\": [x for x in y2_pred]})\n",
        "result2_df['Predict_Reg_2'] = result2_df['Predict_Reg_2'].map('{:,.2f}'.format)\n",
        "result2_df.head(10)"
      ],
      "execution_count": 28,
      "outputs": [
        {
          "output_type": "execute_result",
          "data": {
            "text/html": [
              "<div>\n",
              "<style scoped>\n",
              "    .dataframe tbody tr th:only-of-type {\n",
              "        vertical-align: middle;\n",
              "    }\n",
              "\n",
              "    .dataframe tbody tr th {\n",
              "        vertical-align: top;\n",
              "    }\n",
              "\n",
              "    .dataframe thead th {\n",
              "        text-align: right;\n",
              "    }\n",
              "</style>\n",
              "<table border=\"1\" class=\"dataframe\">\n",
              "  <thead>\n",
              "    <tr style=\"text-align: right;\">\n",
              "      <th></th>\n",
              "      <th>Sale_Price</th>\n",
              "      <th>Predict_Reg_2</th>\n",
              "    </tr>\n",
              "  </thead>\n",
              "  <tbody>\n",
              "    <tr>\n",
              "      <th>0</th>\n",
              "      <td>1005000</td>\n",
              "      <td>1,416,121.20</td>\n",
              "    </tr>\n",
              "    <tr>\n",
              "      <th>1</th>\n",
              "      <td>1175000</td>\n",
              "      <td>1,559,513.55</td>\n",
              "    </tr>\n",
              "    <tr>\n",
              "      <th>2</th>\n",
              "      <td>565000</td>\n",
              "      <td>639,187.61</td>\n",
              "    </tr>\n",
              "    <tr>\n",
              "      <th>3</th>\n",
              "      <td>950000</td>\n",
              "      <td>1,152,340.72</td>\n",
              "    </tr>\n",
              "    <tr>\n",
              "      <th>4</th>\n",
              "      <td>625000</td>\n",
              "      <td>526,425.80</td>\n",
              "    </tr>\n",
              "    <tr>\n",
              "      <th>5</th>\n",
              "      <td>1925000</td>\n",
              "      <td>965,161.08</td>\n",
              "    </tr>\n",
              "    <tr>\n",
              "      <th>6</th>\n",
              "      <td>21150000</td>\n",
              "      <td>10,581,912.84</td>\n",
              "    </tr>\n",
              "    <tr>\n",
              "      <th>7</th>\n",
              "      <td>2000000</td>\n",
              "      <td>1,322,725.73</td>\n",
              "    </tr>\n",
              "    <tr>\n",
              "      <th>8</th>\n",
              "      <td>341000</td>\n",
              "      <td>564,749.91</td>\n",
              "    </tr>\n",
              "    <tr>\n",
              "      <th>9</th>\n",
              "      <td>1450000</td>\n",
              "      <td>2,446,670.51</td>\n",
              "    </tr>\n",
              "  </tbody>\n",
              "</table>\n",
              "</div>"
            ],
            "text/plain": [
              "   Sale_Price  Predict_Reg_2\n",
              "0     1005000   1,416,121.20\n",
              "1     1175000   1,559,513.55\n",
              "2      565000     639,187.61\n",
              "3      950000   1,152,340.72\n",
              "4      625000     526,425.80\n",
              "5     1925000     965,161.08\n",
              "6    21150000  10,581,912.84\n",
              "7     2000000   1,322,725.73\n",
              "8      341000     564,749.91\n",
              "9     1450000   2,446,670.51"
            ]
          },
          "metadata": {
            "tags": []
          },
          "execution_count": 28
        }
      ]
    },
    {
      "cell_type": "code",
      "metadata": {
        "id": "bUXTlRQ5BWnK"
      },
      "source": [
        "# This is the final data frame. Merge two df to match the independent variables and the predicted price\n",
        "# Keep running this each model to collect prediction data for all the model\n",
        "total_result_df = result1_df.merge(result2_df, how='left', on='Sale_Price', left_index=True, right_index=True)"
      ],
      "execution_count": 29,
      "outputs": []
    },
    {
      "cell_type": "code",
      "metadata": {
        "colab": {
          "base_uri": "https://localhost:8080/",
          "height": 352
        },
        "id": "zmeaOpy58SE3",
        "outputId": "cfc08556-111c-4a53-bb38-61307da1a38b"
      },
      "source": [
        "# visualizing residuals\n",
        "fig = plt.figure(figsize=(10,5))\n",
        "residuals2 = (y_test - y2_pred)\n",
        "sns.histplot(residuals2)"
      ],
      "execution_count": 30,
      "outputs": [
        {
          "output_type": "execute_result",
          "data": {
            "text/plain": [
              "<matplotlib.axes._subplots.AxesSubplot at 0x7faf550b9610>"
            ]
          },
          "metadata": {
            "tags": []
          },
          "execution_count": 30
        },
        {
          "output_type": "display_data",
          "data": {
            "image/png": "[encoded data removed]",
            "text/plain": [
              "<Figure size 720x360 with 1 Axes>"
            ]
          },
          "metadata": {
            "tags": [],
            "needs_background": "light"
          }
        }
      ]
    },
    {
      "cell_type": "code",
      "metadata": {
        "colab": {
          "base_uri": "https://localhost:8080/",
          "height": 350
        },
        "id": "BYViqxlPkd2W",
        "outputId": "0d414dca-a397-4ac0-99f3-e704c6a66037"
      },
      "source": [
        "import matplotlib.pyplot as plt\n",
        "plt.figure(figsize=(10,5))\n",
        "plt.plot(np.array(y2_pred))\n",
        "plt.plot(np.array(y_test))\n",
        "plt.title('Model 2: Regression without List_Price')\n",
        "plt.ylabel('Price')\n",
        "plt.xlabel('No. of Samples')\n",
        "plt.legend(['Predict Reg 2', 'Sale_Price'], loc='upper right')\n",
        "plt.show()"
      ],
      "execution_count": 31,
      "outputs": [
        {
          "output_type": "display_data",
          "data": {
            "image/png": "[encoded data removed]",
            "text/plain": [
              "<Figure size 720x360 with 1 Axes>"
            ]
          },
          "metadata": {
            "tags": [],
            "needs_background": "light"
          }
        }
      ]
    },
    {
      "cell_type": "markdown",
      "metadata": {
        "id": "Yy-i8GgGYCCW"
      },
      "source": [
        "**MODEL 3:** Neural Network 1 with List_Price"
      ]
    },
    {
      "cell_type": "code",
      "metadata": {
        "colab": {
          "base_uri": "https://localhost:8080/"
        },
        "id": "96eYo3qYX_aL",
        "outputId": "9513b408-6e8c-453b-c4de-e7fa46021bb3"
      },
      "source": [
        "# Copy from Model 1: Regression 1\n",
        "print(X_train.shape, X_test.shape, y_train.shape, y_test.shape)"
      ],
      "execution_count": 32,
      "outputs": [
        {
          "output_type": "stream",
          "text": [
            "(4013, 47) (212, 47) (4013,) (212,)\n"
          ],
          "name": "stdout"
        }
      ]
    },
    {
      "cell_type": "code",
      "metadata": {
        "colab": {
          "base_uri": "https://localhost:8080/"
        },
        "id": "cmskpKV-X_za",
        "outputId": "5b21c2f7-1e8a-47f3-8886-afff034c7582"
      },
      "source": [
        "from keras.models import Sequential\n",
        "from keras.layers import Dense\n",
        "from keras.callbacks import ModelCheckpoint\n",
        "\n",
        "# Define the model - deep neural net\n",
        "number_input_features = X_train.shape[1]\n",
        "\n",
        "model3 = tf.keras.models.Sequential()\n",
        "\n",
        "# First hidden layer\n",
        "\n",
        "model3.add(tf.keras.layers.Dense(units=hidden_nodes_layer1, input_dim=number_input_features, activation=activation))\n",
        "\n",
        "# Second hidden layer\n",
        "model3.add(tf.keras.layers.Dense(units=hidden_nodes_layer2, activation=activation))\n",
        "\n",
        "# Third hidden layer\n",
        "model3.add(tf.keras.layers.Dense(units=hidden_nodes_layer3, activation=activation))\n",
        "\n",
        "# Output layer\n",
        "#  YOUR CODE GOES HERE\n",
        "model3.add(tf.keras.layers.Dense(units=1, activation=activation_last))#sigmoid, softmax, tanh\n",
        "\n",
        "# Check the structure of the model\n",
        "model3.summary()"
      ],
      "execution_count": 33,
      "outputs": [
        {
          "output_type": "stream",
          "text": [
            "Model: \"sequential\"\n",
            "_________________________________________________________________\n",
            "Layer (type)                 Output Shape              Param #   \n",
            "=================================================================\n",
            "dense (Dense)                (None, 15)                720       \n",
            "_________________________________________________________________\n",
            "dense_1 (Dense)              (None, 20)                320       \n",
            "_________________________________________________________________\n",
            "dense_2 (Dense)              (None, 10)                210       \n",
            "_________________________________________________________________\n",
            "dense_3 (Dense)              (None, 1)                 11        \n",
            "=================================================================\n",
            "Total params: 1,261\n",
            "Trainable params: 1,261\n",
            "Non-trainable params: 0\n",
            "_________________________________________________________________\n"
          ],
          "name": "stdout"
        }
      ]
    },
    {
      "cell_type": "code",
      "metadata": {
        "id": "LFuxOnLuYAH6",
        "colab": {
          "base_uri": "https://localhost:8080/"
        },
        "outputId": "e1c56ca6-df49-451e-d0e1-704ba98fe910"
      },
      "source": [
        "# Define the checkpoint path and filenames\n",
        "os.makedirs(\"checkpoints1/\", exist_ok=True)\n",
        "checkpoint_path = \"checkpoints1/weights.{epoch:02d}.hdf5\"\n",
        "\n",
        "# Compile the model\n",
        "#model3.compile(optimizer='Adam', loss='mean_absolute_error', metrics=['MSE'])\n",
        "model3.compile(loss=loss_input, optimizer=optimizer_input, metrics=[metrics_input])# AdaGrad, AdaDelta, Adam\n",
        "\n",
        "# Create a callback that saves the model's weights\n",
        "cp_callback = ModelCheckpoint(\n",
        "    filepath=checkpoint_path,\n",
        "    verbose=1,\n",
        "    save_weights_only=True,\n",
        "    period=5,\n",
        "    save_freq='epoch')"
      ],
      "execution_count": 34,
      "outputs": [
        {
          "output_type": "stream",
          "text": [
            "WARNING:tensorflow:`period` argument is deprecated. Please use `save_freq` to specify the frequency in number of batches seen.\n"
          ],
          "name": "stdout"
        }
      ]
    },
    {
      "cell_type": "code",
      "metadata": {
        "colab": {
          "base_uri": "https://localhost:8080/"
        },
        "id": "fdtkdTcdMMZa",
        "outputId": "b3873add-7e21-4663-d5c1-cf18e1435b11"
      },
      "source": [
        "# Train the model\n",
        "history = model3.fit(X_train, y_train, batch_size=size_batch_no, epochs=epochs_no, callbacks=[cp_callback], validation_data=(X_test, y_test))\n",
        "\n",
        "#history = model3.fit(X_train, y_train, batch_size=32, epochs=200, callbacks=[cp_callback], validation_data=(X_test, y_test))"
      ],
      "execution_count": 35,
      "outputs": [
        {
          "output_type": "stream",
          "text": [
            "Epoch 1/200\n",
            "126/126 [==============================] - 1s 3ms/step - loss: 754266.7500 - MSE: 2255130460160.0000 - val_loss: 143515.9688 - val_MSE: 61899304960.0000\n",
            "Epoch 2/200\n",
            "126/126 [==============================] - 0s 2ms/step - loss: 71742.3906 - MSE: 61012172800.0000 - val_loss: 87075.4531 - val_MSE: 140503678976.0000\n",
            "Epoch 3/200\n",
            "126/126 [==============================] - 0s 2ms/step - loss: 73516.5000 - MSE: 126271799296.0000 - val_loss: 86345.7344 - val_MSE: 129282555904.0000\n",
            "Epoch 4/200\n",
            "126/126 [==============================] - 0s 2ms/step - loss: 66973.6875 - MSE: 29777684480.0000 - val_loss: 86603.5078 - val_MSE: 135748231168.0000\n",
            "Epoch 5/200\n",
            "126/126 [==============================] - 0s 2ms/step - loss: 72496.6094 - MSE: 123039432704.0000 - val_loss: 88151.9375 - val_MSE: 148258603008.0000\n",
            "\n",
            "Epoch 00005: saving model to checkpoints1/weights.05.hdf5\n",
            "Epoch 6/200\n",
            "126/126 [==============================] - 0s 2ms/step - loss: 79768.6406 - MSE: 409251741696.0000 - val_loss: 86794.7109 - val_MSE: 117281497088.0000\n",
            "Epoch 7/200\n",
            "126/126 [==============================] - 0s 2ms/step - loss: 68226.5781 - MSE: 53682380800.0000 - val_loss: 90234.9375 - val_MSE: 159228297216.0000\n",
            "Epoch 8/200\n",
            "126/126 [==============================] - 0s 2ms/step - loss: 77961.3203 - MSE: 354470559744.0000 - val_loss: 87308.6484 - val_MSE: 142188511232.0000\n",
            "Epoch 9/200\n",
            "126/126 [==============================] - 0s 2ms/step - loss: 73302.7266 - MSE: 213217607680.0000 - val_loss: 86790.6250 - val_MSE: 116352933888.0000\n",
            "Epoch 10/200\n",
            "126/126 [==============================] - 0s 2ms/step - loss: 69686.8281 - MSE: 70407372800.0000 - val_loss: 89118.2266 - val_MSE: 101442805760.0000\n",
            "\n",
            "Epoch 00010: saving model to checkpoints1/weights.10.hdf5\n",
            "Epoch 11/200\n",
            "126/126 [==============================] - 0s 2ms/step - loss: 69422.5625 - MSE: 68458266624.0000 - val_loss: 92645.4922 - val_MSE: 92499877888.0000\n",
            "Epoch 12/200\n",
            "126/126 [==============================] - 0s 2ms/step - loss: 69024.2266 - MSE: 54252597248.0000 - val_loss: 87733.7812 - val_MSE: 107896995840.0000\n",
            "Epoch 13/200\n",
            "126/126 [==============================] - 0s 2ms/step - loss: 68981.4531 - MSE: 46087254016.0000 - val_loss: 87601.5391 - val_MSE: 143158804480.0000\n",
            "Epoch 14/200\n",
            "126/126 [==============================] - 0s 2ms/step - loss: 78669.5781 - MSE: 632175722496.0000 - val_loss: 86471.3281 - val_MSE: 120600788992.0000\n",
            "Epoch 15/200\n",
            "126/126 [==============================] - 0s 2ms/step - loss: 69496.3438 - MSE: 60216463360.0000 - val_loss: 90971.4609 - val_MSE: 161369948160.0000\n",
            "\n",
            "Epoch 00015: saving model to checkpoints1/weights.15.hdf5\n",
            "Epoch 16/200\n",
            "126/126 [==============================] - 0s 2ms/step - loss: 71907.8594 - MSE: 74971815936.0000 - val_loss: 86345.4922 - val_MSE: 122768171008.0000\n",
            "Epoch 17/200\n",
            "126/126 [==============================] - 0s 2ms/step - loss: 67252.0312 - MSE: 33532545024.0000 - val_loss: 86244.4375 - val_MSE: 127217737728.0000\n",
            "Epoch 18/200\n",
            "126/126 [==============================] - 0s 2ms/step - loss: 68730.6797 - MSE: 45629005824.0000 - val_loss: 86332.4844 - val_MSE: 122484367360.0000\n",
            "Epoch 19/200\n",
            "126/126 [==============================] - 0s 2ms/step - loss: 68578.9844 - MSE: 51439001600.0000 - val_loss: 86359.8594 - val_MSE: 121603686400.0000\n",
            "Epoch 20/200\n",
            "126/126 [==============================] - 0s 2ms/step - loss: 69981.5938 - MSE: 65358278656.0000 - val_loss: 86280.9688 - val_MSE: 122427342848.0000\n",
            "\n",
            "Epoch 00020: saving model to checkpoints1/weights.20.hdf5\n",
            "Epoch 21/200\n",
            "126/126 [==============================] - 0s 2ms/step - loss: 72153.4844 - MSE: 77010272256.0000 - val_loss: 86287.1094 - val_MSE: 124228222976.0000\n",
            "Epoch 22/200\n",
            "126/126 [==============================] - 0s 2ms/step - loss: 70513.3672 - MSE: 81164894208.0000 - val_loss: 86193.6328 - val_MSE: 125039058944.0000\n",
            "Epoch 23/200\n",
            "126/126 [==============================] - 0s 2ms/step - loss: 67448.2422 - MSE: 39271710720.0000 - val_loss: 88723.7734 - val_MSE: 150126182400.0000\n",
            "Epoch 24/200\n",
            "126/126 [==============================] - 0s 2ms/step - loss: 67556.9922 - MSE: 42428100608.0000 - val_loss: 86528.5000 - val_MSE: 116147609600.0000\n",
            "Epoch 25/200\n",
            "126/126 [==============================] - 0s 2ms/step - loss: 66556.4375 - MSE: 25709684736.0000 - val_loss: 86398.2891 - val_MSE: 117860958208.0000\n",
            "\n",
            "Epoch 00025: saving model to checkpoints1/weights.25.hdf5\n",
            "Epoch 26/200\n",
            "126/126 [==============================] - 0s 2ms/step - loss: 66580.7812 - MSE: 34697408512.0000 - val_loss: 86388.2422 - val_MSE: 118116687872.0000\n",
            "Epoch 27/200\n",
            "126/126 [==============================] - 0s 2ms/step - loss: 65104.7539 - MSE: 19515772928.0000 - val_loss: 87030.0859 - val_MSE: 138992517120.0000\n",
            "Epoch 28/200\n",
            "126/126 [==============================] - 0s 2ms/step - loss: 68030.8828 - MSE: 44494454784.0000 - val_loss: 87888.5000 - val_MSE: 104050384896.0000\n",
            "Epoch 29/200\n",
            "126/126 [==============================] - 0s 2ms/step - loss: 67857.0547 - MSE: 44115841024.0000 - val_loss: 87445.5859 - val_MSE: 141784809472.0000\n",
            "Epoch 30/200\n",
            "126/126 [==============================] - 0s 2ms/step - loss: 66840.1719 - MSE: 28015175680.0000 - val_loss: 86090.9609 - val_MSE: 123572011008.0000\n",
            "\n",
            "Epoch 00030: saving model to checkpoints1/weights.30.hdf5\n",
            "Epoch 31/200\n",
            "126/126 [==============================] - 0s 2ms/step - loss: 68947.4219 - MSE: 55194062848.0000 - val_loss: 91414.4453 - val_MSE: 161878032384.0000\n",
            "Epoch 32/200\n",
            "126/126 [==============================] - 0s 2ms/step - loss: 67385.5078 - MSE: 34639286272.0000 - val_loss: 86149.6484 - val_MSE: 128498049024.0000\n",
            "Epoch 33/200\n",
            "126/126 [==============================] - 0s 2ms/step - loss: 68841.3203 - MSE: 54477094912.0000 - val_loss: 88946.0781 - val_MSE: 99536035840.0000\n",
            "Epoch 34/200\n",
            "126/126 [==============================] - 0s 2ms/step - loss: 68078.1562 - MSE: 34572828672.0000 - val_loss: 86268.4688 - val_MSE: 116948779008.0000\n",
            "Epoch 35/200\n",
            "126/126 [==============================] - 0s 2ms/step - loss: 65942.2891 - MSE: 26745726976.0000 - val_loss: 86260.1719 - val_MSE: 130760433664.0000\n",
            "\n",
            "Epoch 00035: saving model to checkpoints1/weights.35.hdf5\n",
            "Epoch 36/200\n",
            "126/126 [==============================] - 0s 2ms/step - loss: 67079.3672 - MSE: 25028861952.0000 - val_loss: 86239.2812 - val_MSE: 118130434048.0000\n",
            "Epoch 37/200\n",
            "126/126 [==============================] - 0s 2ms/step - loss: 69928.5078 - MSE: 56269017088.0000 - val_loss: 88771.4531 - val_MSE: 148964605952.0000\n",
            "Epoch 38/200\n",
            "126/126 [==============================] - 0s 2ms/step - loss: 66624.7500 - MSE: 31091187712.0000 - val_loss: 86287.5547 - val_MSE: 116214669312.0000\n",
            "Epoch 39/200\n",
            "126/126 [==============================] - 0s 2ms/step - loss: 67200.2656 - MSE: 29937979392.0000 - val_loss: 86574.1328 - val_MSE: 111173189632.0000\n",
            "Epoch 40/200\n",
            "126/126 [==============================] - 0s 2ms/step - loss: 68196.4609 - MSE: 41788477440.0000 - val_loss: 86470.5156 - val_MSE: 112867475456.0000\n",
            "\n",
            "Epoch 00040: saving model to checkpoints1/weights.40.hdf5\n",
            "Epoch 41/200\n",
            "126/126 [==============================] - 0s 2ms/step - loss: 73126.0312 - MSE: 231684702208.0000 - val_loss: 86213.4922 - val_MSE: 116390428672.0000\n",
            "Epoch 42/200\n",
            "126/126 [==============================] - 0s 2ms/step - loss: 67417.0391 - MSE: 30743818240.0000 - val_loss: 85988.6641 - val_MSE: 123230502912.0000\n",
            "Epoch 43/200\n",
            "126/126 [==============================] - 0s 2ms/step - loss: 67653.5469 - MSE: 31421646848.0000 - val_loss: 86034.2656 - val_MSE: 119850360832.0000\n",
            "Epoch 44/200\n",
            "126/126 [==============================] - 0s 2ms/step - loss: 68086.4844 - MSE: 38204293120.0000 - val_loss: 89554.0156 - val_MSE: 152038768640.0000\n",
            "Epoch 45/200\n",
            "126/126 [==============================] - 0s 2ms/step - loss: 66625.8906 - MSE: 28517988352.0000 - val_loss: 86785.0938 - val_MSE: 108760694784.0000\n",
            "\n",
            "Epoch 00045: saving model to checkpoints1/weights.45.hdf5\n",
            "Epoch 46/200\n",
            "126/126 [==============================] - 0s 2ms/step - loss: 65052.1406 - MSE: 17550690304.0000 - val_loss: 86007.5312 - val_MSE: 121252855808.0000\n",
            "Epoch 47/200\n",
            "126/126 [==============================] - 0s 2ms/step - loss: 68574.5469 - MSE: 77732864000.0000 - val_loss: 86536.5859 - val_MSE: 111351103488.0000\n",
            "Epoch 48/200\n",
            "126/126 [==============================] - 0s 2ms/step - loss: 65617.1484 - MSE: 19177453568.0000 - val_loss: 88183.8203 - val_MSE: 145058332672.0000\n",
            "Epoch 49/200\n",
            "126/126 [==============================] - 0s 2ms/step - loss: 67964.1250 - MSE: 40551186432.0000 - val_loss: 89178.1875 - val_MSE: 150165536768.0000\n",
            "Epoch 50/200\n",
            "126/126 [==============================] - 0s 2ms/step - loss: 64584.5195 - MSE: 16918264832.0000 - val_loss: 85989.4531 - val_MSE: 120021155840.0000\n",
            "\n",
            "Epoch 00050: saving model to checkpoints1/weights.50.hdf5\n",
            "Epoch 51/200\n",
            "126/126 [==============================] - 0s 2ms/step - loss: 65545.1953 - MSE: 23849596928.0000 - val_loss: 86380.6328 - val_MSE: 112422731776.0000\n",
            "Epoch 52/200\n",
            "126/126 [==============================] - 0s 2ms/step - loss: 67217.1328 - MSE: 29114884096.0000 - val_loss: 86705.2344 - val_MSE: 135328784384.0000\n",
            "Epoch 53/200\n",
            "126/126 [==============================] - 0s 2ms/step - loss: 65743.8828 - MSE: 21433552896.0000 - val_loss: 86625.6484 - val_MSE: 109435535360.0000\n",
            "Epoch 54/200\n",
            "126/126 [==============================] - 0s 2ms/step - loss: 65883.9453 - MSE: 23356151808.0000 - val_loss: 85927.1016 - val_MSE: 121664184320.0000\n",
            "Epoch 55/200\n",
            "126/126 [==============================] - 0s 2ms/step - loss: 66591.3516 - MSE: 26751107072.0000 - val_loss: 86065.2891 - val_MSE: 116229521408.0000\n",
            "\n",
            "Epoch 00055: saving model to checkpoints1/weights.55.hdf5\n",
            "Epoch 56/200\n",
            "126/126 [==============================] - 0s 2ms/step - loss: 66470.7969 - MSE: 30237405184.0000 - val_loss: 85977.2422 - val_MSE: 118156697600.0000\n",
            "Epoch 57/200\n",
            "126/126 [==============================] - 0s 2ms/step - loss: 65061.1484 - MSE: 18153998336.0000 - val_loss: 85926.0000 - val_MSE: 120282333184.0000\n",
            "Epoch 58/200\n",
            "126/126 [==============================] - 0s 2ms/step - loss: 67171.2188 - MSE: 35628007424.0000 - val_loss: 86998.9844 - val_MSE: 105713369088.0000\n",
            "Epoch 59/200\n",
            "126/126 [==============================] - 0s 2ms/step - loss: 65053.9648 - MSE: 16688944128.0000 - val_loss: 86629.3672 - val_MSE: 134657212416.0000\n",
            "Epoch 60/200\n",
            "126/126 [==============================] - 0s 2ms/step - loss: 65079.7930 - MSE: 20925833216.0000 - val_loss: 88245.9609 - val_MSE: 99548602368.0000\n",
            "\n",
            "Epoch 00060: saving model to checkpoints1/weights.60.hdf5\n",
            "Epoch 61/200\n",
            "126/126 [==============================] - 0s 2ms/step - loss: 65338.4219 - MSE: 20920057856.0000 - val_loss: 86568.1875 - val_MSE: 134123405312.0000\n",
            "Epoch 62/200\n",
            "126/126 [==============================] - 0s 2ms/step - loss: 66125.9688 - MSE: 22954895360.0000 - val_loss: 87514.9844 - val_MSE: 140387581952.0000\n",
            "Epoch 63/200\n",
            "126/126 [==============================] - 0s 2ms/step - loss: 65044.2812 - MSE: 19709595648.0000 - val_loss: 86587.8672 - val_MSE: 134231162880.0000\n",
            "Epoch 64/200\n",
            "126/126 [==============================] - 0s 2ms/step - loss: 64095.4258 - MSE: 15608864768.0000 - val_loss: 85931.7422 - val_MSE: 124576423936.0000\n",
            "Epoch 65/200\n",
            "126/126 [==============================] - 0s 2ms/step - loss: 65914.8906 - MSE: 19691606016.0000 - val_loss: 90249.6641 - val_MSE: 154215743488.0000\n",
            "\n",
            "Epoch 00065: saving model to checkpoints1/weights.65.hdf5\n",
            "Epoch 66/200\n",
            "126/126 [==============================] - 0s 2ms/step - loss: 64754.8672 - MSE: 16361621504.0000 - val_loss: 89406.7266 - val_MSE: 150324346880.0000\n",
            "Epoch 67/200\n",
            "126/126 [==============================] - 0s 2ms/step - loss: 66579.4531 - MSE: 20800380928.0000 - val_loss: 87237.0156 - val_MSE: 138473881600.0000\n",
            "Epoch 68/200\n",
            "126/126 [==============================] - 0s 2ms/step - loss: 66135.6172 - MSE: 34483257344.0000 - val_loss: 85944.1328 - val_MSE: 117454135296.0000\n",
            "Epoch 69/200\n",
            "126/126 [==============================] - 0s 2ms/step - loss: 65825.6250 - MSE: 24243341312.0000 - val_loss: 88844.3750 - val_MSE: 147513556992.0000\n",
            "Epoch 70/200\n",
            "126/126 [==============================] - 0s 2ms/step - loss: 64284.1758 - MSE: 16186442752.0000 - val_loss: 85991.0000 - val_MSE: 126182580224.0000\n",
            "\n",
            "Epoch 00070: saving model to checkpoints1/weights.70.hdf5\n",
            "Epoch 71/200\n",
            "126/126 [==============================] - 0s 2ms/step - loss: 65531.0742 - MSE: 25227343872.0000 - val_loss: 86160.3906 - val_MSE: 113273716736.0000\n",
            "Epoch 72/200\n",
            "126/126 [==============================] - 0s 2ms/step - loss: 66903.5078 - MSE: 26122946560.0000 - val_loss: 90967.8125 - val_MSE: 157214654464.0000\n",
            "Epoch 73/200\n",
            "126/126 [==============================] - 0s 2ms/step - loss: 66359.4297 - MSE: 29087672320.0000 - val_loss: 85902.6641 - val_MSE: 124217131008.0000\n",
            "Epoch 74/200\n",
            "126/126 [==============================] - 0s 2ms/step - loss: 66024.4453 - MSE: 20785618944.0000 - val_loss: 86599.8906 - val_MSE: 134176784384.0000\n",
            "Epoch 75/200\n",
            "126/126 [==============================] - 0s 2ms/step - loss: 67714.8594 - MSE: 33729796096.0000 - val_loss: 86955.3281 - val_MSE: 104829763584.0000\n",
            "\n",
            "Epoch 00075: saving model to checkpoints1/weights.75.hdf5\n",
            "Epoch 76/200\n",
            "126/126 [==============================] - 0s 2ms/step - loss: 65236.4844 - MSE: 22708250624.0000 - val_loss: 86300.6875 - val_MSE: 110895308800.0000\n",
            "Epoch 77/200\n",
            "126/126 [==============================] - 0s 2ms/step - loss: 65952.1562 - MSE: 23561248768.0000 - val_loss: 85847.7109 - val_MSE: 121195683840.0000\n",
            "Epoch 78/200\n",
            "126/126 [==============================] - 0s 2ms/step - loss: 63930.4805 - MSE: 16104907776.0000 - val_loss: 88016.3125 - val_MSE: 143112519680.0000\n",
            "Epoch 79/200\n",
            "126/126 [==============================] - 0s 2ms/step - loss: 64674.8438 - MSE: 17145968640.0000 - val_loss: 86222.3359 - val_MSE: 112011468800.0000\n",
            "Epoch 80/200\n",
            "126/126 [==============================] - 0s 2ms/step - loss: 64100.6797 - MSE: 15711582208.0000 - val_loss: 85849.3359 - val_MSE: 121528852480.0000\n",
            "\n",
            "Epoch 00080: saving model to checkpoints1/weights.80.hdf5\n",
            "Epoch 81/200\n",
            "126/126 [==============================] - 0s 2ms/step - loss: 64733.1016 - MSE: 16060994560.0000 - val_loss: 85838.7578 - val_MSE: 120586543104.0000\n",
            "Epoch 82/200\n",
            "126/126 [==============================] - 0s 2ms/step - loss: 64833.5820 - MSE: 16598612992.0000 - val_loss: 86483.8594 - val_MSE: 108936462336.0000\n",
            "Epoch 83/200\n",
            "126/126 [==============================] - 0s 2ms/step - loss: 64168.2656 - MSE: 16221944832.0000 - val_loss: 85882.3906 - val_MSE: 123876032512.0000\n",
            "Epoch 84/200\n",
            "126/126 [==============================] - 0s 2ms/step - loss: 64304.5742 - MSE: 15990228992.0000 - val_loss: 86052.5781 - val_MSE: 113699323904.0000\n",
            "Epoch 85/200\n",
            "126/126 [==============================] - 0s 2ms/step - loss: 63800.4922 - MSE: 16343000064.0000 - val_loss: 87765.9844 - val_MSE: 141527891968.0000\n",
            "\n",
            "Epoch 00085: saving model to checkpoints1/weights.85.hdf5\n",
            "Epoch 86/200\n",
            "126/126 [==============================] - 0s 2ms/step - loss: 64386.2969 - MSE: 16435415040.0000 - val_loss: 86023.3359 - val_MSE: 127235227648.0000\n",
            "Epoch 87/200\n",
            "126/126 [==============================] - 0s 2ms/step - loss: 63749.9375 - MSE: 16112084992.0000 - val_loss: 85853.4922 - val_MSE: 121985138688.0000\n",
            "Epoch 88/200\n",
            "126/126 [==============================] - 0s 2ms/step - loss: 64391.8320 - MSE: 17411188736.0000 - val_loss: 86032.6250 - val_MSE: 127407161344.0000\n",
            "Epoch 89/200\n",
            "126/126 [==============================] - 0s 2ms/step - loss: 65604.7188 - MSE: 22792824832.0000 - val_loss: 88219.3594 - val_MSE: 144178200576.0000\n",
            "Epoch 90/200\n",
            "126/126 [==============================] - 0s 2ms/step - loss: 65091.5898 - MSE: 17240481792.0000 - val_loss: 85865.3516 - val_MSE: 118940368896.0000\n",
            "\n",
            "Epoch 00090: saving model to checkpoints1/weights.90.hdf5\n",
            "Epoch 91/200\n",
            "126/126 [==============================] - 0s 2ms/step - loss: 64211.5703 - MSE: 15329728512.0000 - val_loss: 85972.3594 - val_MSE: 115372204032.0000\n",
            "Epoch 92/200\n",
            "126/126 [==============================] - 0s 2ms/step - loss: 65908.8828 - MSE: 22332827648.0000 - val_loss: 86897.7188 - val_MSE: 136315101184.0000\n",
            "Epoch 93/200\n",
            "126/126 [==============================] - 0s 2ms/step - loss: 65604.7188 - MSE: 24124600320.0000 - val_loss: 88309.0469 - val_MSE: 144845373440.0000\n",
            "Epoch 94/200\n",
            "126/126 [==============================] - 0s 2ms/step - loss: 64729.7695 - MSE: 15295415296.0000 - val_loss: 85866.7422 - val_MSE: 118313394176.0000\n",
            "Epoch 95/200\n",
            "126/126 [==============================] - 0s 2ms/step - loss: 65398.4141 - MSE: 17221742592.0000 - val_loss: 86225.4922 - val_MSE: 130824953856.0000\n",
            "\n",
            "Epoch 00095: saving model to checkpoints1/weights.95.hdf5\n",
            "Epoch 96/200\n",
            "126/126 [==============================] - 0s 2ms/step - loss: 64516.0469 - MSE: 15500547072.0000 - val_loss: 86761.3750 - val_MSE: 106346307584.0000\n",
            "Epoch 97/200\n",
            "126/126 [==============================] - 0s 2ms/step - loss: 65961.3672 - MSE: 21799073792.0000 - val_loss: 88248.1797 - val_MSE: 144451518464.0000\n",
            "Epoch 98/200\n",
            "126/126 [==============================] - 0s 2ms/step - loss: 64026.3047 - MSE: 15262297088.0000 - val_loss: 87205.0547 - val_MSE: 138198073344.0000\n",
            "Epoch 99/200\n",
            "126/126 [==============================] - 0s 2ms/step - loss: 63836.2578 - MSE: 14738882560.0000 - val_loss: 85934.8672 - val_MSE: 115287056384.0000\n",
            "Epoch 100/200\n",
            "126/126 [==============================] - 0s 2ms/step - loss: 64208.3828 - MSE: 15773995008.0000 - val_loss: 86097.0391 - val_MSE: 128884924416.0000\n",
            "\n",
            "Epoch 00100: saving model to checkpoints1/weights.100.hdf5\n",
            "Epoch 101/200\n",
            "126/126 [==============================] - 0s 2ms/step - loss: 64911.8945 - MSE: 18252724224.0000 - val_loss: 86122.6250 - val_MSE: 129260142592.0000\n",
            "Epoch 102/200\n",
            "126/126 [==============================] - 0s 2ms/step - loss: 63705.1523 - MSE: 14934684672.0000 - val_loss: 86350.2422 - val_MSE: 132204068864.0000\n",
            "Epoch 103/200\n",
            "126/126 [==============================] - 0s 2ms/step - loss: 64585.3281 - MSE: 16627439616.0000 - val_loss: 86709.8281 - val_MSE: 106423156736.0000\n",
            "Epoch 104/200\n",
            "126/126 [==============================] - 0s 2ms/step - loss: 64536.9844 - MSE: 15808391168.0000 - val_loss: 86851.7812 - val_MSE: 135967072256.0000\n",
            "Epoch 105/200\n",
            "126/126 [==============================] - 0s 2ms/step - loss: 64764.7500 - MSE: 17027021824.0000 - val_loss: 88430.8281 - val_MSE: 145338793984.0000\n",
            "\n",
            "Epoch 00105: saving model to checkpoints1/weights.105.hdf5\n",
            "Epoch 106/200\n",
            "126/126 [==============================] - 0s 2ms/step - loss: 64717.4414 - MSE: 15728601088.0000 - val_loss: 87996.1953 - val_MSE: 142976073728.0000\n",
            "Epoch 107/200\n",
            "126/126 [==============================] - 0s 2ms/step - loss: 63735.2461 - MSE: 15423125504.0000 - val_loss: 86012.9219 - val_MSE: 127635070976.0000\n",
            "Epoch 108/200\n",
            "126/126 [==============================] - 0s 2ms/step - loss: 65348.5703 - MSE: 18994694144.0000 - val_loss: 86278.3281 - val_MSE: 131520159744.0000\n",
            "Epoch 109/200\n",
            "126/126 [==============================] - 0s 2ms/step - loss: 64760.4492 - MSE: 17491445760.0000 - val_loss: 88648.5312 - val_MSE: 146288214016.0000\n",
            "Epoch 110/200\n",
            "126/126 [==============================] - 0s 2ms/step - loss: 63720.4727 - MSE: 16435905536.0000 - val_loss: 86171.5156 - val_MSE: 111163727872.0000\n",
            "\n",
            "Epoch 00110: saving model to checkpoints1/weights.110.hdf5\n",
            "Epoch 111/200\n",
            "126/126 [==============================] - 0s 2ms/step - loss: 62880.4688 - MSE: 14467737600.0000 - val_loss: 86957.1875 - val_MSE: 136485445632.0000\n",
            "Epoch 112/200\n",
            "126/126 [==============================] - 0s 2ms/step - loss: 64696.4492 - MSE: 19188721664.0000 - val_loss: 86522.5000 - val_MSE: 133624872960.0000\n",
            "Epoch 113/200\n",
            "126/126 [==============================] - 0s 2ms/step - loss: 64448.1719 - MSE: 16151705600.0000 - val_loss: 89435.8750 - val_MSE: 95042797568.0000\n",
            "Epoch 114/200\n",
            "126/126 [==============================] - 0s 2ms/step - loss: 64533.9648 - MSE: 16113096704.0000 - val_loss: 86729.8281 - val_MSE: 105941295104.0000\n",
            "Epoch 115/200\n",
            "126/126 [==============================] - 0s 2ms/step - loss: 64377.9688 - MSE: 15992276992.0000 - val_loss: 85782.5312 - val_MSE: 120421597184.0000\n",
            "\n",
            "Epoch 00115: saving model to checkpoints1/weights.115.hdf5\n",
            "Epoch 116/200\n",
            "126/126 [==============================] - 0s 2ms/step - loss: 63615.0703 - MSE: 15561011200.0000 - val_loss: 86198.7891 - val_MSE: 130619686912.0000\n",
            "Epoch 117/200\n",
            "126/126 [==============================] - 0s 2ms/step - loss: 63479.1367 - MSE: 15491115008.0000 - val_loss: 86247.0938 - val_MSE: 131124445184.0000\n",
            "Epoch 118/200\n",
            "126/126 [==============================] - 0s 2ms/step - loss: 64511.0078 - MSE: 15754271744.0000 - val_loss: 86911.8281 - val_MSE: 136117239808.0000\n",
            "Epoch 119/200\n",
            "126/126 [==============================] - 0s 2ms/step - loss: 63819.9844 - MSE: 15156263936.0000 - val_loss: 85792.7578 - val_MSE: 117739823104.0000\n",
            "Epoch 120/200\n",
            "126/126 [==============================] - 0s 2ms/step - loss: 63204.6094 - MSE: 14702571520.0000 - val_loss: 86068.5312 - val_MSE: 128548249600.0000\n",
            "\n",
            "Epoch 00120: saving model to checkpoints1/weights.120.hdf5\n",
            "Epoch 121/200\n",
            "126/126 [==============================] - 0s 2ms/step - loss: 64106.0938 - MSE: 16285872128.0000 - val_loss: 86505.5156 - val_MSE: 107231879168.0000\n",
            "Epoch 122/200\n",
            "126/126 [==============================] - 0s 2ms/step - loss: 63902.8477 - MSE: 15702023168.0000 - val_loss: 86306.6406 - val_MSE: 109207240704.0000\n",
            "Epoch 123/200\n",
            "126/126 [==============================] - 0s 2ms/step - loss: 64257.2852 - MSE: 15397596160.0000 - val_loss: 86313.1094 - val_MSE: 131785326592.0000\n",
            "Epoch 124/200\n",
            "126/126 [==============================] - 0s 2ms/step - loss: 64291.1250 - MSE: 16944462848.0000 - val_loss: 86032.2344 - val_MSE: 111920537600.0000\n",
            "Epoch 125/200\n",
            "126/126 [==============================] - 0s 2ms/step - loss: 64183.8945 - MSE: 15150167040.0000 - val_loss: 87082.8125 - val_MSE: 137029058560.0000\n",
            "\n",
            "Epoch 00125: saving model to checkpoints1/weights.125.hdf5\n",
            "Epoch 126/200\n",
            "126/126 [==============================] - 0s 2ms/step - loss: 63505.7383 - MSE: 14824112128.0000 - val_loss: 85785.8203 - val_MSE: 116705992704.0000\n",
            "Epoch 127/200\n",
            "126/126 [==============================] - 0s 2ms/step - loss: 63917.1523 - MSE: 15335754752.0000 - val_loss: 86145.5625 - val_MSE: 110550163456.0000\n",
            "Epoch 128/200\n",
            "126/126 [==============================] - 0s 2ms/step - loss: 65894.6484 - MSE: 33248647168.0000 - val_loss: 85984.6953 - val_MSE: 127278882816.0000\n",
            "Epoch 129/200\n",
            "126/126 [==============================] - 0s 2ms/step - loss: 64385.5352 - MSE: 15909671936.0000 - val_loss: 85945.1484 - val_MSE: 126620016640.0000\n",
            "Epoch 130/200\n",
            "126/126 [==============================] - 0s 2ms/step - loss: 63504.4336 - MSE: 14722183168.0000 - val_loss: 85961.7656 - val_MSE: 112972578816.0000\n",
            "\n",
            "Epoch 00130: saving model to checkpoints1/weights.130.hdf5\n",
            "Epoch 131/200\n",
            "126/126 [==============================] - 0s 2ms/step - loss: 64347.1875 - MSE: 17193240576.0000 - val_loss: 86068.6797 - val_MSE: 128726482944.0000\n",
            "Epoch 132/200\n",
            "126/126 [==============================] - 0s 2ms/step - loss: 64052.4570 - MSE: 15578729472.0000 - val_loss: 85716.5938 - val_MSE: 120692113408.0000\n",
            "Epoch 133/200\n",
            "126/126 [==============================] - 0s 2ms/step - loss: 64599.8398 - MSE: 22121400320.0000 - val_loss: 86142.5078 - val_MSE: 129802240000.0000\n",
            "Epoch 134/200\n",
            "126/126 [==============================] - 0s 2ms/step - loss: 63615.8633 - MSE: 15048497152.0000 - val_loss: 86390.8906 - val_MSE: 107970478080.0000\n",
            "Epoch 135/200\n",
            "126/126 [==============================] - 0s 2ms/step - loss: 64326.8242 - MSE: 15555831808.0000 - val_loss: 85859.4219 - val_MSE: 125023256576.0000\n",
            "\n",
            "Epoch 00135: saving model to checkpoints1/weights.135.hdf5\n",
            "Epoch 136/200\n",
            "126/126 [==============================] - 0s 2ms/step - loss: 63718.3203 - MSE: 14964308992.0000 - val_loss: 85929.6250 - val_MSE: 113291157504.0000\n",
            "Epoch 137/200\n",
            "126/126 [==============================] - 0s 2ms/step - loss: 63770.6641 - MSE: 15361134592.0000 - val_loss: 86645.5391 - val_MSE: 134338551808.0000\n",
            "Epoch 138/200\n",
            "126/126 [==============================] - 0s 2ms/step - loss: 63233.2930 - MSE: 14473652224.0000 - val_loss: 86565.3906 - val_MSE: 106129965056.0000\n",
            "Epoch 139/200\n",
            "126/126 [==============================] - 0s 2ms/step - loss: 63670.3828 - MSE: 15109872640.0000 - val_loss: 87147.0000 - val_MSE: 102278258688.0000\n",
            "Epoch 140/200\n",
            "126/126 [==============================] - 0s 2ms/step - loss: 64177.4805 - MSE: 15575345152.0000 - val_loss: 85750.1484 - val_MSE: 122242310144.0000\n",
            "\n",
            "Epoch 00140: saving model to checkpoints1/weights.140.hdf5\n",
            "Epoch 141/200\n",
            "126/126 [==============================] - 0s 2ms/step - loss: 64854.3984 - MSE: 15904698368.0000 - val_loss: 88420.4062 - val_MSE: 97661108224.0000\n",
            "Epoch 142/200\n",
            "126/126 [==============================] - 0s 2ms/step - loss: 64740.0938 - MSE: 19598825472.0000 - val_loss: 85806.5547 - val_MSE: 115829571584.0000\n",
            "Epoch 143/200\n",
            "126/126 [==============================] - 0s 2ms/step - loss: 63661.8086 - MSE: 15118131200.0000 - val_loss: 85796.3594 - val_MSE: 123748065280.0000\n",
            "Epoch 144/200\n",
            "126/126 [==============================] - 0s 2ms/step - loss: 63373.6250 - MSE: 14890104832.0000 - val_loss: 86068.7891 - val_MSE: 128879968256.0000\n",
            "Epoch 145/200\n",
            "126/126 [==============================] - 0s 2ms/step - loss: 63841.9648 - MSE: 15123661824.0000 - val_loss: 85791.4141 - val_MSE: 123797897216.0000\n",
            "\n",
            "Epoch 00145: saving model to checkpoints1/weights.145.hdf5\n",
            "Epoch 146/200\n",
            "126/126 [==============================] - 0s 2ms/step - loss: 63537.1328 - MSE: 15184453632.0000 - val_loss: 85840.4375 - val_MSE: 124977659904.0000\n",
            "Epoch 147/200\n",
            "126/126 [==============================] - 0s 2ms/step - loss: 63750.8242 - MSE: 14808041472.0000 - val_loss: 85829.4219 - val_MSE: 114110980096.0000\n",
            "Epoch 148/200\n",
            "126/126 [==============================] - 0s 2ms/step - loss: 63823.1133 - MSE: 14478350336.0000 - val_loss: 86665.8203 - val_MSE: 134395068416.0000\n",
            "Epoch 149/200\n",
            "126/126 [==============================] - 0s 2ms/step - loss: 63635.9922 - MSE: 14939397120.0000 - val_loss: 86141.5312 - val_MSE: 130038521856.0000\n",
            "Epoch 150/200\n",
            "126/126 [==============================] - 0s 2ms/step - loss: 63566.8633 - MSE: 14833297408.0000 - val_loss: 86123.9375 - val_MSE: 129807089664.0000\n",
            "\n",
            "Epoch 00150: saving model to checkpoints1/weights.150.hdf5\n",
            "Epoch 151/200\n",
            "126/126 [==============================] - 0s 2ms/step - loss: 63500.4727 - MSE: 14945137664.0000 - val_loss: 88128.4609 - val_MSE: 97841709056.0000\n",
            "Epoch 152/200\n",
            "126/126 [==============================] - 0s 2ms/step - loss: 64050.5703 - MSE: 14859036672.0000 - val_loss: 86087.1875 - val_MSE: 129232281600.0000\n",
            "Epoch 153/200\n",
            "126/126 [==============================] - 0s 2ms/step - loss: 64104.8516 - MSE: 15099229184.0000 - val_loss: 85709.1953 - val_MSE: 118365642752.0000\n",
            "Epoch 154/200\n",
            "126/126 [==============================] - 0s 2ms/step - loss: 63447.4102 - MSE: 14376205312.0000 - val_loss: 86049.2578 - val_MSE: 128714022912.0000\n",
            "Epoch 155/200\n",
            "126/126 [==============================] - 0s 2ms/step - loss: 66279.6719 - MSE: 27288387584.0000 - val_loss: 85725.1484 - val_MSE: 118369492992.0000\n",
            "\n",
            "Epoch 00155: saving model to checkpoints1/weights.155.hdf5\n",
            "Epoch 156/200\n",
            "126/126 [==============================] - 0s 2ms/step - loss: 64127.6992 - MSE: 15060483072.0000 - val_loss: 86417.5156 - val_MSE: 132791525376.0000\n",
            "Epoch 157/200\n",
            "126/126 [==============================] - 0s 2ms/step - loss: 63644.9492 - MSE: 15024528384.0000 - val_loss: 86449.7891 - val_MSE: 106885922816.0000\n",
            "Epoch 158/200\n",
            "126/126 [==============================] - 0s 2ms/step - loss: 63397.9453 - MSE: 14909451264.0000 - val_loss: 87246.5469 - val_MSE: 101473665024.0000\n",
            "Epoch 159/200\n",
            "126/126 [==============================] - 0s 2ms/step - loss: 64340.2617 - MSE: 15262704640.0000 - val_loss: 89852.8125 - val_MSE: 93023862784.0000\n",
            "Epoch 160/200\n",
            "126/126 [==============================] - 0s 2ms/step - loss: 63941.1953 - MSE: 14981804032.0000 - val_loss: 87024.2812 - val_MSE: 136764858368.0000\n",
            "\n",
            "Epoch 00160: saving model to checkpoints1/weights.160.hdf5\n",
            "Epoch 161/200\n",
            "126/126 [==============================] - 0s 2ms/step - loss: 63612.5508 - MSE: 14521461760.0000 - val_loss: 86347.5312 - val_MSE: 132236861440.0000\n",
            "Epoch 162/200\n",
            "126/126 [==============================] - 0s 2ms/step - loss: 64217.5977 - MSE: 15412524032.0000 - val_loss: 87670.6406 - val_MSE: 140743655424.0000\n",
            "Epoch 163/200\n",
            "126/126 [==============================] - 0s 2ms/step - loss: 63781.5117 - MSE: 15223699456.0000 - val_loss: 86660.5625 - val_MSE: 134483550208.0000\n",
            "Epoch 164/200\n",
            "126/126 [==============================] - 0s 2ms/step - loss: 63755.1602 - MSE: 14905370624.0000 - val_loss: 86435.7422 - val_MSE: 132949999616.0000\n",
            "Epoch 165/200\n",
            "126/126 [==============================] - 0s 2ms/step - loss: 63198.6836 - MSE: 14365134848.0000 - val_loss: 85672.7266 - val_MSE: 120241864704.0000\n",
            "\n",
            "Epoch 00165: saving model to checkpoints1/weights.165.hdf5\n",
            "Epoch 166/200\n",
            "126/126 [==============================] - 0s 2ms/step - loss: 63546.4688 - MSE: 14936873984.0000 - val_loss: 85815.5078 - val_MSE: 124906717184.0000\n",
            "Epoch 167/200\n",
            "126/126 [==============================] - 0s 2ms/step - loss: 63368.4570 - MSE: 15241930752.0000 - val_loss: 86025.4922 - val_MSE: 128567869440.0000\n",
            "Epoch 168/200\n",
            "126/126 [==============================] - 0s 2ms/step - loss: 63647.2930 - MSE: 15210234880.0000 - val_loss: 85807.3203 - val_MSE: 124782362624.0000\n",
            "Epoch 169/200\n",
            "126/126 [==============================] - 0s 2ms/step - loss: 64123.6367 - MSE: 15159543808.0000 - val_loss: 85807.9609 - val_MSE: 114672558080.0000\n",
            "Epoch 170/200\n",
            "126/126 [==============================] - 0s 2ms/step - loss: 63598.6836 - MSE: 15402636288.0000 - val_loss: 86144.5000 - val_MSE: 109977878528.0000\n",
            "\n",
            "Epoch 00170: saving model to checkpoints1/weights.170.hdf5\n",
            "Epoch 171/200\n",
            "126/126 [==============================] - 0s 2ms/step - loss: 63776.4375 - MSE: 14948634624.0000 - val_loss: 85961.0938 - val_MSE: 112126328832.0000\n",
            "Epoch 172/200\n",
            "126/126 [==============================] - 0s 2ms/step - loss: 63434.0469 - MSE: 14584690688.0000 - val_loss: 87104.1953 - val_MSE: 137355558912.0000\n",
            "Epoch 173/200\n",
            "126/126 [==============================] - 0s 2ms/step - loss: 63565.1172 - MSE: 14722595840.0000 - val_loss: 85723.7578 - val_MSE: 116357382144.0000\n",
            "Epoch 174/200\n",
            "126/126 [==============================] - 0s 2ms/step - loss: 63498.7344 - MSE: 14917001216.0000 - val_loss: 86687.6641 - val_MSE: 134721904640.0000\n",
            "Epoch 175/200\n",
            "126/126 [==============================] - 0s 2ms/step - loss: 63443.4570 - MSE: 14882946048.0000 - val_loss: 85676.4531 - val_MSE: 120234237952.0000\n",
            "\n",
            "Epoch 00175: saving model to checkpoints1/weights.175.hdf5\n",
            "Epoch 176/200\n",
            "126/126 [==============================] - 0s 2ms/step - loss: 63251.0430 - MSE: 14661052416.0000 - val_loss: 85805.7734 - val_MSE: 114303852544.0000\n",
            "Epoch 177/200\n",
            "126/126 [==============================] - 0s 2ms/step - loss: 63505.5703 - MSE: 14856600576.0000 - val_loss: 85744.5625 - val_MSE: 123332657152.0000\n",
            "Epoch 178/200\n",
            "126/126 [==============================] - 0s 2ms/step - loss: 63607.2969 - MSE: 14789378048.0000 - val_loss: 86432.7656 - val_MSE: 132962828288.0000\n",
            "Epoch 179/200\n",
            "126/126 [==============================] - 0s 2ms/step - loss: 63292.1719 - MSE: 14471514112.0000 - val_loss: 86906.3750 - val_MSE: 103178223616.0000\n",
            "Epoch 180/200\n",
            "126/126 [==============================] - 0s 2ms/step - loss: 64070.7109 - MSE: 14753134592.0000 - val_loss: 86001.4062 - val_MSE: 111179325440.0000\n",
            "\n",
            "Epoch 00180: saving model to checkpoints1/weights.180.hdf5\n",
            "Epoch 181/200\n",
            "126/126 [==============================] - 0s 2ms/step - loss: 64067.6641 - MSE: 16320363520.0000 - val_loss: 89198.4688 - val_MSE: 94775500800.0000\n",
            "Epoch 182/200\n",
            "126/126 [==============================] - 0s 2ms/step - loss: 65361.0430 - MSE: 19898517504.0000 - val_loss: 86217.1875 - val_MSE: 108867239936.0000\n",
            "Epoch 183/200\n",
            "126/126 [==============================] - 0s 2ms/step - loss: 63701.2852 - MSE: 15284097024.0000 - val_loss: 85978.8750 - val_MSE: 128005373952.0000\n",
            "Epoch 184/200\n",
            "126/126 [==============================] - 0s 2ms/step - loss: 65042.7773 - MSE: 24887285760.0000 - val_loss: 86397.5469 - val_MSE: 132707172352.0000\n",
            "Epoch 185/200\n",
            "126/126 [==============================] - 0s 2ms/step - loss: 63528.7031 - MSE: 14943541248.0000 - val_loss: 87854.0156 - val_MSE: 141803438080.0000\n",
            "\n",
            "Epoch 00185: saving model to checkpoints1/weights.185.hdf5\n",
            "Epoch 186/200\n",
            "126/126 [==============================] - 0s 2ms/step - loss: 63903.7773 - MSE: 15077325824.0000 - val_loss: 85958.5859 - val_MSE: 111810887680.0000\n",
            "Epoch 187/200\n",
            "126/126 [==============================] - 0s 2ms/step - loss: 63706.1992 - MSE: 14868595712.0000 - val_loss: 85723.5391 - val_MSE: 115475759104.0000\n",
            "Epoch 188/200\n",
            "126/126 [==============================] - 0s 2ms/step - loss: 63396.3750 - MSE: 14743559168.0000 - val_loss: 86136.8750 - val_MSE: 109609172992.0000\n",
            "Epoch 189/200\n",
            "126/126 [==============================] - 0s 2ms/step - loss: 64354.5039 - MSE: 14701124608.0000 - val_loss: 85635.0391 - val_MSE: 119944019968.0000\n",
            "Epoch 190/200\n",
            "126/126 [==============================] - 0s 2ms/step - loss: 64656.1133 - MSE: 15938326528.0000 - val_loss: 87835.9219 - val_MSE: 141749501952.0000\n",
            "\n",
            "Epoch 00190: saving model to checkpoints1/weights.190.hdf5\n",
            "Epoch 191/200\n",
            "126/126 [==============================] - 0s 2ms/step - loss: 64047.4414 - MSE: 15233759232.0000 - val_loss: 89108.1484 - val_MSE: 95086067712.0000\n",
            "Epoch 192/200\n",
            "126/126 [==============================] - 0s 2ms/step - loss: 64706.4453 - MSE: 15571975168.0000 - val_loss: 85668.0859 - val_MSE: 121166872576.0000\n",
            "Epoch 193/200\n",
            "126/126 [==============================] - 0s 2ms/step - loss: 63391.9531 - MSE: 14741606400.0000 - val_loss: 85777.5391 - val_MSE: 124552331264.0000\n",
            "Epoch 194/200\n",
            "126/126 [==============================] - 0s 2ms/step - loss: 63784.7461 - MSE: 14838993920.0000 - val_loss: 85771.4609 - val_MSE: 124373426176.0000\n",
            "Epoch 195/200\n",
            "126/126 [==============================] - 0s 2ms/step - loss: 63455.7070 - MSE: 14774295552.0000 - val_loss: 85751.7188 - val_MSE: 115287244800.0000\n",
            "\n",
            "Epoch 00195: saving model to checkpoints1/weights.195.hdf5\n",
            "Epoch 196/200\n",
            "126/126 [==============================] - 0s 2ms/step - loss: 63605.9961 - MSE: 14973024256.0000 - val_loss: 86034.1484 - val_MSE: 129061838848.0000\n",
            "Epoch 197/200\n",
            "126/126 [==============================] - 0s 2ms/step - loss: 63355.1406 - MSE: 14569977856.0000 - val_loss: 85855.6406 - val_MSE: 113313095680.0000\n",
            "Epoch 198/200\n",
            "126/126 [==============================] - 0s 2ms/step - loss: 63590.4727 - MSE: 14749928448.0000 - val_loss: 87015.1641 - val_MSE: 102226903040.0000\n",
            "Epoch 199/200\n",
            "126/126 [==============================] - 0s 2ms/step - loss: 63578.2422 - MSE: 14528522240.0000 - val_loss: 86471.5859 - val_MSE: 106477600768.0000\n",
            "Epoch 200/200\n",
            "126/126 [==============================] - 0s 2ms/step - loss: 63304.1172 - MSE: 15043098624.0000 - val_loss: 85723.7188 - val_MSE: 123104444416.0000\n",
            "\n",
            "Epoch 00200: saving model to checkpoints1/weights.200.hdf5\n"
          ],
          "name": "stdout"
        }
      ]
    },
    {
      "cell_type": "code",
      "metadata": {
        "id": "0EiU3b8dZgFo"
      },
      "source": [
        "# the predict() method is used to generate predictions\n",
        "y3_pred = model3.predict(X_test) # <= X has List_Price\n",
        "# Export our model to HDF5 file\n",
        "model3.save(\"NN_housing.h5\")"
      ],
      "execution_count": 36,
      "outputs": []
    },
    {
      "cell_type": "code",
      "metadata": {
        "id": "z-2wilvtZga7",
        "colab": {
          "base_uri": "https://localhost:8080/"
        },
        "outputId": "cb2dbe41-859b-442c-9adb-7c28f2898cb1"
      },
      "source": [
        "# evaluate the performance of the algorithm\n",
        "from sklearn import metrics\n",
        "from sklearn.metrics import r2_score\n",
        "print('Model 3: Neural Network with List_Price')\n",
        "#print('Mean Absolute Error (MAE):', metrics.mean_absolute_error(y_test, y3_pred))  \n",
        "#print('Mean Squared Error (MSE):', metrics.mean_squared_error(y_test, y3_pred))  \n",
        "print('Root Mean Squared Error (RMSE):', np.sqrt(metrics.mean_squared_error(y_test, y3_pred)))\n",
        "print('Variance -- VarScore:', metrics.explained_variance_score(y_test,y3_pred))\n",
        "print(\"R squared(R2):\", metrics.r2_score(y_test, y3_pred))"
      ],
      "execution_count": 37,
      "outputs": [
        {
          "output_type": "stream",
          "text": [
            "Model 3: Neural Network with List_Price\n",
            "Root Mean Squared Error (RMSE): 350862.4282263292\n",
            "Variance -- VarScore: 0.9515445391612257\n",
            "R squared(R2): 0.9515408731323525\n"
          ],
          "name": "stdout"
        }
      ]
    },
    {
      "cell_type": "code",
      "metadata": {
        "id": "ZpTWQJpjYAmW",
        "colab": {
          "base_uri": "https://localhost:8080/",
          "height": 357
        },
        "outputId": "60739731-d936-4056-c971-5fc1bae3d143"
      },
      "source": [
        "#df = create a df of Sales_Price and Prediction values\n",
        "result3_df = pd.DataFrame({\"Sale_Price\": [x for x in y_test], \"Predict_NN_3\": [x for x in y3_pred]})\n",
        "result3_df.head(10)"
      ],
      "execution_count": 38,
      "outputs": [
        {
          "output_type": "execute_result",
          "data": {
            "text/html": [
              "<div>\n",
              "<style scoped>\n",
              "    .dataframe tbody tr th:only-of-type {\n",
              "        vertical-align: middle;\n",
              "    }\n",
              "\n",
              "    .dataframe tbody tr th {\n",
              "        vertical-align: top;\n",
              "    }\n",
              "\n",
              "    .dataframe thead th {\n",
              "        text-align: right;\n",
              "    }\n",
              "</style>\n",
              "<table border=\"1\" class=\"dataframe\">\n",
              "  <thead>\n",
              "    <tr style=\"text-align: right;\">\n",
              "      <th></th>\n",
              "      <th>Sale_Price</th>\n",
              "      <th>Predict_NN_3</th>\n",
              "    </tr>\n",
              "  </thead>\n",
              "  <tbody>\n",
              "    <tr>\n",
              "      <th>0</th>\n",
              "      <td>1005000</td>\n",
              "      <td>[929482.4]</td>\n",
              "    </tr>\n",
              "    <tr>\n",
              "      <th>1</th>\n",
              "      <td>1175000</td>\n",
              "      <td>[1226439.9]</td>\n",
              "    </tr>\n",
              "    <tr>\n",
              "      <th>2</th>\n",
              "      <td>565000</td>\n",
              "      <td>[593743.4]</td>\n",
              "    </tr>\n",
              "    <tr>\n",
              "      <th>3</th>\n",
              "      <td>950000</td>\n",
              "      <td>[968047.25]</td>\n",
              "    </tr>\n",
              "    <tr>\n",
              "      <th>4</th>\n",
              "      <td>625000</td>\n",
              "      <td>[588781.94]</td>\n",
              "    </tr>\n",
              "    <tr>\n",
              "      <th>5</th>\n",
              "      <td>1925000</td>\n",
              "      <td>[1872875.5]</td>\n",
              "    </tr>\n",
              "    <tr>\n",
              "      <th>6</th>\n",
              "      <td>21150000</td>\n",
              "      <td>[25974288.0]</td>\n",
              "    </tr>\n",
              "    <tr>\n",
              "      <th>7</th>\n",
              "      <td>2000000</td>\n",
              "      <td>[1767240.1]</td>\n",
              "    </tr>\n",
              "    <tr>\n",
              "      <th>8</th>\n",
              "      <td>341000</td>\n",
              "      <td>[317636.84]</td>\n",
              "    </tr>\n",
              "    <tr>\n",
              "      <th>9</th>\n",
              "      <td>1450000</td>\n",
              "      <td>[1511867.1]</td>\n",
              "    </tr>\n",
              "  </tbody>\n",
              "</table>\n",
              "</div>"
            ],
            "text/plain": [
              "   Sale_Price  Predict_NN_3\n",
              "0     1005000    [929482.4]\n",
              "1     1175000   [1226439.9]\n",
              "2      565000    [593743.4]\n",
              "3      950000   [968047.25]\n",
              "4      625000   [588781.94]\n",
              "5     1925000   [1872875.5]\n",
              "6    21150000  [25974288.0]\n",
              "7     2000000   [1767240.1]\n",
              "8      341000   [317636.84]\n",
              "9     1450000   [1511867.1]"
            ]
          },
          "metadata": {
            "tags": []
          },
          "execution_count": 38
        }
      ]
    },
    {
      "cell_type": "code",
      "metadata": {
        "id": "xWbhndi6gTx8"
      },
      "source": [
        "# This is the final data frame. Merge two df to match the independent variables and the predicted price\n",
        "total_result_df = total_result_df.merge(result3_df, how='left', on='Sale_Price', left_index=True, right_index=True)\n",
        "#total_result_df.head(10)"
      ],
      "execution_count": 39,
      "outputs": []
    },
    {
      "cell_type": "code",
      "metadata": {
        "id": "PFh1zpD3-LIA"
      },
      "source": [
        "# visualizing residuals\n",
        "#fig = plt.figure(figsize=(10,5))\n",
        "#residuals3 = (y_test - y3_pred)\n",
        "#sns.distplot(residuals)\n",
        "#sns.histplot(residuals3)\n",
        "\n",
        "# Error: Exception: Data must be 1-dimensional"
      ],
      "execution_count": 40,
      "outputs": []
    },
    {
      "cell_type": "code",
      "metadata": {
        "id": "rrfrCC9jgT8d",
        "colab": {
          "base_uri": "https://localhost:8080/",
          "height": 350
        },
        "outputId": "a188c7e2-5b18-4782-f568-092372a32d96"
      },
      "source": [
        "import matplotlib.pyplot as plt\n",
        "plt.figure(figsize=(10,5))\n",
        "plt.plot(np.array(y3_pred))\n",
        "plt.plot(np.array(y_test))\n",
        "plt.title('Model 3: Neural Network with List_Price')\n",
        "plt.ylabel('Price')\n",
        "plt.xlabel('No. of Samples')\n",
        "plt.legend(['Predict NN 3', 'Sale_Price'], loc='upper right')\n",
        "plt.show()"
      ],
      "execution_count": 41,
      "outputs": [
        {
          "output_type": "display_data",
          "data": {
            "image/png": "[encoded data removed]",
            "text/plain": [
              "<Figure size 720x360 with 1 Axes>"
            ]
          },
          "metadata": {
            "tags": [],
            "needs_background": "light"
          }
        }
      ]
    },
    {
      "cell_type": "markdown",
      "metadata": {
        "id": "waex9f_kniqz"
      },
      "source": [
        "**MODEL 4:** Neural Network 2 **without** List_Price"
      ]
    },
    {
      "cell_type": "code",
      "metadata": {
        "id": "3AF0ydwJng24",
        "colab": {
          "base_uri": "https://localhost:8080/"
        },
        "outputId": "6cd8a7da-3ed0-4e86-c9ab-757d6ab267d1"
      },
      "source": [
        "# Need to keep it here to remind what the the testing and traing features\n",
        "print(X2_train.shape, X2_test.shape, y_train.shape, y_test.shape)"
      ],
      "execution_count": 42,
      "outputs": [
        {
          "output_type": "stream",
          "text": [
            "(4013, 46) (212, 46) (4013,) (212,)\n"
          ],
          "name": "stdout"
        }
      ]
    },
    {
      "cell_type": "code",
      "metadata": {
        "id": "pIv-9WI_nhJy",
        "colab": {
          "base_uri": "https://localhost:8080/"
        },
        "outputId": "b9bd527d-c41b-41dc-dac1-be4801dba871"
      },
      "source": [
        "# Define the model - deep neural net, i.e., the number of input features and hidden nodes for each layer.\n",
        "# See inputs above\n",
        "\n",
        "from keras.models import Sequential\n",
        "from keras.layers import Dense\n",
        "from keras.callbacks import ModelCheckpoint\n",
        "\n",
        "# Define the model - deep neural net\n",
        "number_input_features2 = X2_train.shape[1] # <= pay attention here, X2 has no List_Price\n",
        "\n",
        "model4 = tf.keras.models.Sequential()\n",
        "\n",
        "# First hidden layer\n",
        "\n",
        "model4.add(tf.keras.layers.Dense(units=hidden_nodes_layer1, input_dim=number_input_features2, activation=activation))\n",
        "\n",
        "# Second hidden layer\n",
        "model4.add(tf.keras.layers.Dense(units=hidden_nodes_layer2, activation=activation))\n",
        "\n",
        "# Third hidden layer\n",
        "model4.add(tf.keras.layers.Dense(units=hidden_nodes_layer3, activation=activation))\n",
        "\n",
        "# Output layer\n",
        "model4.add(tf.keras.layers.Dense(units=1, activation=activation_last))#sigmoid, softmax, tanh\n",
        "\n",
        "# Check the structure of the model\n",
        "model4.summary()"
      ],
      "execution_count": 43,
      "outputs": [
        {
          "output_type": "stream",
          "text": [
            "Model: \"sequential_1\"\n",
            "_________________________________________________________________\n",
            "Layer (type)                 Output Shape              Param #   \n",
            "=================================================================\n",
            "dense_4 (Dense)              (None, 15)                705       \n",
            "_________________________________________________________________\n",
            "dense_5 (Dense)              (None, 20)                320       \n",
            "_________________________________________________________________\n",
            "dense_6 (Dense)              (None, 10)                210       \n",
            "_________________________________________________________________\n",
            "dense_7 (Dense)              (None, 1)                 11        \n",
            "=================================================================\n",
            "Total params: 1,246\n",
            "Trainable params: 1,246\n",
            "Non-trainable params: 0\n",
            "_________________________________________________________________\n"
          ],
          "name": "stdout"
        }
      ]
    },
    {
      "cell_type": "code",
      "metadata": {
        "id": "czD0PWaknhTK",
        "colab": {
          "base_uri": "https://localhost:8080/"
        },
        "outputId": "23fc3dda-f35b-4097-f124-9861e370988c"
      },
      "source": [
        "# Define the checkpoint path and filenames\n",
        "os.makedirs(\"checkpoints2/\", exist_ok=True)\n",
        "checkpoint_path2 = \"checkpoints2/weights.{epoch:02d}.hdf5\"\n",
        "\n",
        "# Compile the model 4\n",
        "#model4.compile(optimizer='Adam', loss='mean_absolute_error', metrics=['MSE'])\n",
        "model4.compile(loss=loss_input, optimizer=optimizer_input, metrics=[metrics_input])\n",
        "\n",
        "# Create a callback that saves the model's weights\n",
        "cp_callback2 = ModelCheckpoint(\n",
        "    filepath=checkpoint_path2,\n",
        "    verbose=1,\n",
        "    save_weights_only=True,\n",
        "    period=5,\n",
        "    save_freq='epoch')"
      ],
      "execution_count": 44,
      "outputs": [
        {
          "output_type": "stream",
          "text": [
            "WARNING:tensorflow:`period` argument is deprecated. Please use `save_freq` to specify the frequency in number of batches seen.\n"
          ],
          "name": "stdout"
        }
      ]
    },
    {
      "cell_type": "code",
      "metadata": {
        "id": "o1oDDY2lRVxU",
        "colab": {
          "base_uri": "https://localhost:8080/"
        },
        "outputId": "3c80f1f0-bd81-4ab5-8157-54a23c6b24d0"
      },
      "source": [
        "# Train the model\n",
        "history2 = model4.fit(X2_train, y_train, batch_size=size_batch_no, epochs=epochs_no, callbacks=[cp_callback2], validation_data=(X2_test, y_test))\n",
        "#history2 = model4.fit(X2_train, y_train, batch_size=32, epochs=200, callbacks=[cp_callback2], validation_data=(X2_test, y_test))"
      ],
      "execution_count": 45,
      "outputs": [
        {
          "output_type": "stream",
          "text": [
            "Epoch 1/200\n",
            "126/126 [==============================] - 1s 3ms/step - loss: 1084354.1250 - MSE: 2524737699840.0000 - val_loss: 1129511.1250 - val_MSE: 3815176929280.0000\n",
            "Epoch 2/200\n",
            "126/126 [==============================] - 0s 2ms/step - loss: 1076766.6250 - MSE: 2410943873024.0000 - val_loss: 1128180.8750 - val_MSE: 3811510059008.0000\n",
            "Epoch 3/200\n",
            "126/126 [==============================] - 0s 2ms/step - loss: 1078375.2500 - MSE: 2484701233152.0000 - val_loss: 1124015.3750 - val_MSE: 3798907748352.0000\n",
            "Epoch 4/200\n",
            "126/126 [==============================] - 0s 2ms/step - loss: 1078738.5000 - MSE: 2487843291136.0000 - val_loss: 1122450.1250 - val_MSE: 3794662850560.0000\n",
            "Epoch 5/200\n",
            "126/126 [==============================] - 0s 2ms/step - loss: 1072451.3750 - MSE: 2475822415872.0000 - val_loss: 1118368.5000 - val_MSE: 3782398967808.0000\n",
            "\n",
            "Epoch 00005: saving model to checkpoints2/weights.05.hdf5\n",
            "Epoch 6/200\n",
            "126/126 [==============================] - 0s 2ms/step - loss: 1071307.2500 - MSE: 2500592664576.0000 - val_loss: 1114803.7500 - val_MSE: 3772259500032.0000\n",
            "Epoch 7/200\n",
            "126/126 [==============================] - 0s 2ms/step - loss: 1060030.0000 - MSE: 2374976143360.0000 - val_loss: 1107296.7500 - val_MSE: 3750353174528.0000\n",
            "Epoch 8/200\n",
            "126/126 [==============================] - 0s 2ms/step - loss: 1057027.2500 - MSE: 2549439266816.0000 - val_loss: 1093432.5000 - val_MSE: 3710097293312.0000\n",
            "Epoch 9/200\n",
            "126/126 [==============================] - 0s 2ms/step - loss: 1046902.8750 - MSE: 2765110116352.0000 - val_loss: 1069312.2500 - val_MSE: 3641095749632.0000\n",
            "Epoch 10/200\n",
            "126/126 [==============================] - 0s 2ms/step - loss: 1025274.9375 - MSE: 2882014281728.0000 - val_loss: 1044876.3750 - val_MSE: 3573203861504.0000\n",
            "\n",
            "Epoch 00010: saving model to checkpoints2/weights.10.hdf5\n",
            "Epoch 11/200\n",
            "126/126 [==============================] - 0s 2ms/step - loss: 971142.1250 - MSE: 2183592542208.0000 - val_loss: 988885.0625 - val_MSE: 3419642003456.0000\n",
            "Epoch 12/200\n",
            "126/126 [==============================] - 0s 2ms/step - loss: 899504.2500 - MSE: 2201229983744.0000 - val_loss: 881115.6875 - val_MSE: 3143467794432.0000\n",
            "Epoch 13/200\n",
            "126/126 [==============================] - 0s 2ms/step - loss: 751676.5000 - MSE: 1734474072064.0000 - val_loss: 682344.6250 - val_MSE: 2675524239360.0000\n",
            "Epoch 14/200\n",
            "126/126 [==============================] - 0s 2ms/step - loss: 573588.8125 - MSE: 1417651683328.0000 - val_loss: 549718.0000 - val_MSE: 2255145140224.0000\n",
            "Epoch 15/200\n",
            "126/126 [==============================] - 0s 2ms/step - loss: 576704.8750 - MSE: 11233694580736.0000 - val_loss: 547088.1875 - val_MSE: 2198183477248.0000\n",
            "\n",
            "Epoch 00015: saving model to checkpoints2/weights.15.hdf5\n",
            "Epoch 16/200\n",
            "126/126 [==============================] - 0s 2ms/step - loss: 514867.3750 - MSE: 1153981349888.0000 - val_loss: 539547.0625 - val_MSE: 2124801900544.0000\n",
            "Epoch 17/200\n",
            "126/126 [==============================] - 0s 2ms/step - loss: 511537.0625 - MSE: 1123564781568.0000 - val_loss: 537863.8750 - val_MSE: 2105444007936.0000\n",
            "Epoch 18/200\n",
            "126/126 [==============================] - 0s 2ms/step - loss: 512674.1250 - MSE: 1149722558464.0000 - val_loss: 536727.8750 - val_MSE: 2091683282944.0000\n",
            "Epoch 19/200\n",
            "126/126 [==============================] - 0s 2ms/step - loss: 510540.4062 - MSE: 1116619407360.0000 - val_loss: 536134.8750 - val_MSE: 2089526886400.0000\n",
            "Epoch 20/200\n",
            "126/126 [==============================] - 0s 2ms/step - loss: 509514.0312 - MSE: 1109307031552.0000 - val_loss: 535353.5000 - val_MSE: 2083302932480.0000\n",
            "\n",
            "Epoch 00020: saving model to checkpoints2/weights.20.hdf5\n",
            "Epoch 21/200\n",
            "126/126 [==============================] - 0s 2ms/step - loss: 507589.2500 - MSE: 1102481981440.0000 - val_loss: 534498.6875 - val_MSE: 2076051898368.0000\n",
            "Epoch 22/200\n",
            "126/126 [==============================] - 0s 2ms/step - loss: 508116.5312 - MSE: 1103812100096.0000 - val_loss: 533518.3125 - val_MSE: 2071333961728.0000\n",
            "Epoch 23/200\n",
            "126/126 [==============================] - 0s 2ms/step - loss: 508264.8750 - MSE: 1111412834304.0000 - val_loss: 532259.8125 - val_MSE: 2058276831232.0000\n",
            "Epoch 24/200\n",
            "126/126 [==============================] - 0s 2ms/step - loss: 507266.7812 - MSE: 1117659594752.0000 - val_loss: 531512.6875 - val_MSE: 2057538109440.0000\n",
            "Epoch 25/200\n",
            "126/126 [==============================] - 0s 2ms/step - loss: 506064.5312 - MSE: 1093105549312.0000 - val_loss: 530792.8125 - val_MSE: 2057697624064.0000\n",
            "\n",
            "Epoch 00025: saving model to checkpoints2/weights.25.hdf5\n",
            "Epoch 26/200\n",
            "126/126 [==============================] - 0s 2ms/step - loss: 504546.9688 - MSE: 1086994644992.0000 - val_loss: 529583.0625 - val_MSE: 2047067553792.0000\n",
            "Epoch 27/200\n",
            "126/126 [==============================] - 0s 2ms/step - loss: 506020.8438 - MSE: 1096468135936.0000 - val_loss: 528534.0000 - val_MSE: 2039178199040.0000\n",
            "Epoch 28/200\n",
            "126/126 [==============================] - 0s 2ms/step - loss: 503425.3438 - MSE: 1081918881792.0000 - val_loss: 527863.6875 - val_MSE: 2033208393728.0000\n",
            "Epoch 29/200\n",
            "126/126 [==============================] - 0s 2ms/step - loss: 504705.1875 - MSE: 1089154908160.0000 - val_loss: 527067.9375 - val_MSE: 2028607897600.0000\n",
            "Epoch 30/200\n",
            "126/126 [==============================] - 0s 2ms/step - loss: 504266.8750 - MSE: 1086858199040.0000 - val_loss: 526267.6875 - val_MSE: 2024171765760.0000\n",
            "\n",
            "Epoch 00030: saving model to checkpoints2/weights.30.hdf5\n",
            "Epoch 31/200\n",
            "126/126 [==============================] - 0s 2ms/step - loss: 502666.5312 - MSE: 1079320313856.0000 - val_loss: 525891.8750 - val_MSE: 2027002003456.0000\n",
            "Epoch 32/200\n",
            "126/126 [==============================] - 0s 2ms/step - loss: 502138.6250 - MSE: 1075261145088.0000 - val_loss: 525912.0625 - val_MSE: 2028405522432.0000\n",
            "Epoch 33/200\n",
            "126/126 [==============================] - 0s 2ms/step - loss: 502568.0938 - MSE: 1080648531968.0000 - val_loss: 524294.0625 - val_MSE: 1999288139776.0000\n",
            "Epoch 34/200\n",
            "126/126 [==============================] - 0s 2ms/step - loss: 502658.1875 - MSE: 1078314926080.0000 - val_loss: 523220.5938 - val_MSE: 2001180295168.0000\n",
            "Epoch 35/200\n",
            "126/126 [==============================] - 0s 2ms/step - loss: 505768.7812 - MSE: 1115662319616.0000 - val_loss: 525179.9375 - val_MSE: 2013719822336.0000\n",
            "\n",
            "Epoch 00035: saving model to checkpoints2/weights.35.hdf5\n",
            "Epoch 36/200\n",
            "126/126 [==============================] - 0s 2ms/step - loss: 502506.8438 - MSE: 1080288411648.0000 - val_loss: 523278.9375 - val_MSE: 1993727541248.0000\n",
            "Epoch 37/200\n",
            "126/126 [==============================] - 0s 2ms/step - loss: 501654.8750 - MSE: 1069105086464.0000 - val_loss: 523293.9375 - val_MSE: 2000988012544.0000\n",
            "Epoch 38/200\n",
            "126/126 [==============================] - 0s 2ms/step - loss: 499975.1875 - MSE: 1066410770432.0000 - val_loss: 521187.8750 - val_MSE: 1972445642752.0000\n",
            "Epoch 39/200\n",
            "126/126 [==============================] - 0s 2ms/step - loss: 498912.5938 - MSE: 1053246816256.0000 - val_loss: 520164.0000 - val_MSE: 1968943792128.0000\n",
            "Epoch 40/200\n",
            "126/126 [==============================] - 0s 2ms/step - loss: 500108.2812 - MSE: 1062316343296.0000 - val_loss: 519930.4375 - val_MSE: 1973812592640.0000\n",
            "\n",
            "Epoch 00040: saving model to checkpoints2/weights.40.hdf5\n",
            "Epoch 41/200\n",
            "126/126 [==============================] - 0s 2ms/step - loss: 498040.8750 - MSE: 1056387563520.0000 - val_loss: 519971.5938 - val_MSE: 1960804089856.0000\n",
            "Epoch 42/200\n",
            "126/126 [==============================] - 0s 2ms/step - loss: 498842.1875 - MSE: 1048971313152.0000 - val_loss: 519997.6250 - val_MSE: 1971218677760.0000\n",
            "Epoch 43/200\n",
            "126/126 [==============================] - 0s 2ms/step - loss: 497371.0625 - MSE: 1052444524544.0000 - val_loss: 519544.3750 - val_MSE: 1953787412480.0000\n",
            "Epoch 44/200\n",
            "126/126 [==============================] - 0s 2ms/step - loss: 496314.3125 - MSE: 1045123235840.0000 - val_loss: 518299.0312 - val_MSE: 1940713766912.0000\n",
            "Epoch 45/200\n",
            "126/126 [==============================] - 0s 2ms/step - loss: 497124.4375 - MSE: 1043046662144.0000 - val_loss: 517585.8438 - val_MSE: 1938175426560.0000\n",
            "\n",
            "Epoch 00045: saving model to checkpoints2/weights.45.hdf5\n",
            "Epoch 46/200\n",
            "126/126 [==============================] - 0s 2ms/step - loss: 495646.0000 - MSE: 1037878558720.0000 - val_loss: 516373.9688 - val_MSE: 1920595656704.0000\n",
            "Epoch 47/200\n",
            "126/126 [==============================] - 0s 2ms/step - loss: 494895.1562 - MSE: 1034172628992.0000 - val_loss: 516856.7500 - val_MSE: 1935499591680.0000\n",
            "Epoch 48/200\n",
            "126/126 [==============================] - 0s 2ms/step - loss: 495353.5625 - MSE: 1042356502528.0000 - val_loss: 515863.7500 - val_MSE: 1921604648960.0000\n",
            "Epoch 49/200\n",
            "126/126 [==============================] - 0s 2ms/step - loss: 494177.8125 - MSE: 1032016625664.0000 - val_loss: 514226.6875 - val_MSE: 1894924943360.0000\n",
            "Epoch 50/200\n",
            "126/126 [==============================] - 0s 2ms/step - loss: 494273.7188 - MSE: 1022132420608.0000 - val_loss: 515758.5625 - val_MSE: 1926636109824.0000\n",
            "\n",
            "Epoch 00050: saving model to checkpoints2/weights.50.hdf5\n",
            "Epoch 51/200\n",
            "126/126 [==============================] - 0s 2ms/step - loss: 494367.5625 - MSE: 1031976189952.0000 - val_loss: 515149.9688 - val_MSE: 1918443323392.0000\n",
            "Epoch 52/200\n",
            "126/126 [==============================] - 0s 2ms/step - loss: 493547.5938 - MSE: 1026753429504.0000 - val_loss: 513987.8750 - val_MSE: 1898160979968.0000\n",
            "Epoch 53/200\n",
            "126/126 [==============================] - 0s 2ms/step - loss: 492463.9375 - MSE: 1020396830720.0000 - val_loss: 513451.8750 - val_MSE: 1894856261632.0000\n",
            "Epoch 54/200\n",
            "126/126 [==============================] - 0s 2ms/step - loss: 494696.0000 - MSE: 1032061976576.0000 - val_loss: 512128.6875 - val_MSE: 1898180116480.0000\n",
            "Epoch 55/200\n",
            "126/126 [==============================] - 0s 2ms/step - loss: 496230.2500 - MSE: 1059133980672.0000 - val_loss: 516116.3125 - val_MSE: 1888815546368.0000\n",
            "\n",
            "Epoch 00055: saving model to checkpoints2/weights.55.hdf5\n",
            "Epoch 56/200\n",
            "126/126 [==============================] - 0s 2ms/step - loss: 493861.0938 - MSE: 1018201702400.0000 - val_loss: 514610.3438 - val_MSE: 1889603551232.0000\n",
            "Epoch 57/200\n",
            "126/126 [==============================] - 0s 2ms/step - loss: 491975.9375 - MSE: 1017400786944.0000 - val_loss: 513063.6250 - val_MSE: 1875525500928.0000\n",
            "Epoch 58/200\n",
            "126/126 [==============================] - 0s 2ms/step - loss: 491942.8125 - MSE: 1015642390528.0000 - val_loss: 512374.3750 - val_MSE: 1872151183360.0000\n",
            "Epoch 59/200\n",
            "126/126 [==============================] - 0s 2ms/step - loss: 491340.2188 - MSE: 1012753825792.0000 - val_loss: 513140.2500 - val_MSE: 1876887732224.0000\n",
            "Epoch 60/200\n",
            "126/126 [==============================] - 0s 2ms/step - loss: 490549.9375 - MSE: 1013102804992.0000 - val_loss: 510899.2812 - val_MSE: 1857363902464.0000\n",
            "\n",
            "Epoch 00060: saving model to checkpoints2/weights.60.hdf5\n",
            "Epoch 61/200\n",
            "126/126 [==============================] - 0s 2ms/step - loss: 489738.8750 - MSE: 1004795265024.0000 - val_loss: 509965.9688 - val_MSE: 1849440337920.0000\n",
            "Epoch 62/200\n",
            "126/126 [==============================] - 0s 2ms/step - loss: 489221.0625 - MSE: 996678041600.0000 - val_loss: 511075.6562 - val_MSE: 1864658190336.0000\n",
            "Epoch 63/200\n",
            "126/126 [==============================] - 0s 2ms/step - loss: 490331.2188 - MSE: 1004965068800.0000 - val_loss: 510583.5938 - val_MSE: 1859326050304.0000\n",
            "Epoch 64/200\n",
            "126/126 [==============================] - 0s 2ms/step - loss: 489369.8438 - MSE: 1006121975808.0000 - val_loss: 513307.3125 - val_MSE: 1863006945280.0000\n",
            "Epoch 65/200\n",
            "126/126 [==============================] - 0s 2ms/step - loss: 489253.1250 - MSE: 1001024782336.0000 - val_loss: 509386.8438 - val_MSE: 1826842869760.0000\n",
            "\n",
            "Epoch 00065: saving model to checkpoints2/weights.65.hdf5\n",
            "Epoch 66/200\n",
            "126/126 [==============================] - 0s 2ms/step - loss: 487766.1875 - MSE: 988342845440.0000 - val_loss: 510557.3125 - val_MSE: 1855635718144.0000\n",
            "Epoch 67/200\n",
            "126/126 [==============================] - 0s 2ms/step - loss: 488217.1562 - MSE: 998323191808.0000 - val_loss: 508467.5938 - val_MSE: 1837182222336.0000\n",
            "Epoch 68/200\n",
            "126/126 [==============================] - 0s 2ms/step - loss: 487237.2500 - MSE: 994668576768.0000 - val_loss: 507077.0312 - val_MSE: 1822997086208.0000\n",
            "Epoch 69/200\n",
            "126/126 [==============================] - 0s 2ms/step - loss: 487464.9375 - MSE: 985942458368.0000 - val_loss: 506367.5000 - val_MSE: 1815862050816.0000\n",
            "Epoch 70/200\n",
            "126/126 [==============================] - 0s 2ms/step - loss: 486089.0625 - MSE: 984108105728.0000 - val_loss: 507763.4062 - val_MSE: 1829277925376.0000\n",
            "\n",
            "Epoch 00070: saving model to checkpoints2/weights.70.hdf5\n",
            "Epoch 71/200\n",
            "126/126 [==============================] - 0s 2ms/step - loss: 486130.9375 - MSE: 989763928064.0000 - val_loss: 504038.8438 - val_MSE: 1785479823360.0000\n",
            "Epoch 72/200\n",
            "126/126 [==============================] - 0s 2ms/step - loss: 486260.1250 - MSE: 982144319488.0000 - val_loss: 506003.3125 - val_MSE: 1808870146048.0000\n",
            "Epoch 73/200\n",
            "126/126 [==============================] - 0s 2ms/step - loss: 485521.7188 - MSE: 986807140352.0000 - val_loss: 504685.1562 - val_MSE: 1793463812096.0000\n",
            "Epoch 74/200\n",
            "126/126 [==============================] - 0s 2ms/step - loss: 485317.7812 - MSE: 977603198976.0000 - val_loss: 504298.3125 - val_MSE: 1790927699968.0000\n",
            "Epoch 75/200\n",
            "126/126 [==============================] - 0s 2ms/step - loss: 484812.2188 - MSE: 976387571712.0000 - val_loss: 504546.7500 - val_MSE: 1791897108480.0000\n",
            "\n",
            "Epoch 00075: saving model to checkpoints2/weights.75.hdf5\n",
            "Epoch 76/200\n",
            "126/126 [==============================] - 0s 2ms/step - loss: 484630.9375 - MSE: 975063416832.0000 - val_loss: 504247.8750 - val_MSE: 1787798355968.0000\n",
            "Epoch 77/200\n",
            "126/126 [==============================] - 0s 2ms/step - loss: 484189.6875 - MSE: 974952464384.0000 - val_loss: 503366.3438 - val_MSE: 1777175887872.0000\n",
            "Epoch 78/200\n",
            "126/126 [==============================] - 0s 2ms/step - loss: 485811.9062 - MSE: 982824321024.0000 - val_loss: 511144.5312 - val_MSE: 1817855787008.0000\n",
            "Epoch 79/200\n",
            "126/126 [==============================] - 0s 2ms/step - loss: 487553.4375 - MSE: 983305486336.0000 - val_loss: 506618.2188 - val_MSE: 1752386764800.0000\n",
            "Epoch 80/200\n",
            "126/126 [==============================] - 0s 2ms/step - loss: 485454.4375 - MSE: 968077803520.0000 - val_loss: 505256.9688 - val_MSE: 1747161579520.0000\n",
            "\n",
            "Epoch 00080: saving model to checkpoints2/weights.80.hdf5\n",
            "Epoch 81/200\n",
            "126/126 [==============================] - 0s 2ms/step - loss: 483434.9688 - MSE: 962749399040.0000 - val_loss: 504744.9375 - val_MSE: 1760993476608.0000\n",
            "Epoch 82/200\n",
            "126/126 [==============================] - 0s 2ms/step - loss: 482818.7188 - MSE: 968598355968.0000 - val_loss: 504046.3750 - val_MSE: 1760093798400.0000\n",
            "Epoch 83/200\n",
            "126/126 [==============================] - 0s 2ms/step - loss: 482439.9375 - MSE: 962679865344.0000 - val_loss: 502333.6562 - val_MSE: 1742114783232.0000\n",
            "Epoch 84/200\n",
            "126/126 [==============================] - 0s 2ms/step - loss: 482093.9688 - MSE: 954282213376.0000 - val_loss: 501816.0312 - val_MSE: 1737533947904.0000\n",
            "Epoch 85/200\n",
            "126/126 [==============================] - 0s 2ms/step - loss: 481601.6562 - MSE: 960264077312.0000 - val_loss: 499912.0000 - val_MSE: 1712227090432.0000\n",
            "\n",
            "Epoch 00085: saving model to checkpoints2/weights.85.hdf5\n",
            "Epoch 86/200\n",
            "126/126 [==============================] - 0s 2ms/step - loss: 481327.0938 - MSE: 952810799104.0000 - val_loss: 500313.5625 - val_MSE: 1722117652480.0000\n",
            "Epoch 87/200\n",
            "126/126 [==============================] - 0s 2ms/step - loss: 480936.5938 - MSE: 953991495680.0000 - val_loss: 500135.0625 - val_MSE: 1721182453760.0000\n",
            "Epoch 88/200\n",
            "126/126 [==============================] - 0s 2ms/step - loss: 488859.4688 - MSE: 1223449247744.0000 - val_loss: 505000.3750 - val_MSE: 1740310577152.0000\n",
            "Epoch 89/200\n",
            "126/126 [==============================] - 0s 2ms/step - loss: 481508.0000 - MSE: 959169757184.0000 - val_loss: 500566.2500 - val_MSE: 1692325511168.0000\n",
            "Epoch 90/200\n",
            "126/126 [==============================] - 0s 2ms/step - loss: 480296.5938 - MSE: 943908716544.0000 - val_loss: 500357.7812 - val_MSE: 1710865121280.0000\n",
            "\n",
            "Epoch 00090: saving model to checkpoints2/weights.90.hdf5\n",
            "Epoch 91/200\n",
            "126/126 [==============================] - 0s 2ms/step - loss: 484531.1562 - MSE: 984048599040.0000 - val_loss: 504183.3125 - val_MSE: 1721907281920.0000\n",
            "Epoch 92/200\n",
            "126/126 [==============================] - 0s 2ms/step - loss: 482291.6562 - MSE: 949634072576.0000 - val_loss: 502258.5625 - val_MSE: 1693061611520.0000\n",
            "Epoch 93/200\n",
            "126/126 [==============================] - 0s 2ms/step - loss: 481336.5000 - MSE: 945386094592.0000 - val_loss: 500702.4375 - val_MSE: 1677908377600.0000\n",
            "Epoch 94/200\n",
            "126/126 [==============================] - 0s 2ms/step - loss: 480169.5000 - MSE: 936629239808.0000 - val_loss: 500474.5000 - val_MSE: 1692603777024.0000\n",
            "Epoch 95/200\n",
            "126/126 [==============================] - 0s 2ms/step - loss: 479049.0625 - MSE: 938599120896.0000 - val_loss: 498649.9688 - val_MSE: 1679471017984.0000\n",
            "\n",
            "Epoch 00095: saving model to checkpoints2/weights.95.hdf5\n",
            "Epoch 96/200\n",
            "126/126 [==============================] - 0s 2ms/step - loss: 478529.0625 - MSE: 935958282240.0000 - val_loss: 498052.7500 - val_MSE: 1679030222848.0000\n",
            "Epoch 97/200\n",
            "126/126 [==============================] - 0s 2ms/step - loss: 478101.2500 - MSE: 931821256704.0000 - val_loss: 497622.3125 - val_MSE: 1676174950400.0000\n",
            "Epoch 98/200\n",
            "126/126 [==============================] - 0s 2ms/step - loss: 477856.2812 - MSE: 931250962432.0000 - val_loss: 498324.0312 - val_MSE: 1685897216000.0000\n",
            "Epoch 99/200\n",
            "126/126 [==============================] - 0s 2ms/step - loss: 477637.4375 - MSE: 933350932480.0000 - val_loss: 497047.7812 - val_MSE: 1669520556032.0000\n",
            "Epoch 100/200\n",
            "126/126 [==============================] - 0s 2ms/step - loss: 477171.7188 - MSE: 935887568896.0000 - val_loss: 495290.4375 - val_MSE: 1649310957568.0000\n",
            "\n",
            "Epoch 00100: saving model to checkpoints2/weights.100.hdf5\n",
            "Epoch 101/200\n",
            "126/126 [==============================] - 0s 2ms/step - loss: 476998.6250 - MSE: 925162668032.0000 - val_loss: 495329.6875 - val_MSE: 1648355311616.0000\n",
            "Epoch 102/200\n",
            "126/126 [==============================] - 0s 2ms/step - loss: 476691.0312 - MSE: 925269360640.0000 - val_loss: 494772.8750 - val_MSE: 1646271135744.0000\n",
            "Epoch 103/200\n",
            "126/126 [==============================] - 0s 2ms/step - loss: 476315.6562 - MSE: 924376498176.0000 - val_loss: 494602.3125 - val_MSE: 1634209234944.0000\n",
            "Epoch 104/200\n",
            "126/126 [==============================] - 0s 2ms/step - loss: 476052.4688 - MSE: 918728212480.0000 - val_loss: 494078.6875 - val_MSE: 1631397609472.0000\n",
            "Epoch 105/200\n",
            "126/126 [==============================] - 0s 2ms/step - loss: 475611.0000 - MSE: 921448939520.0000 - val_loss: 493778.1250 - val_MSE: 1617011802112.0000\n",
            "\n",
            "Epoch 00105: saving model to checkpoints2/weights.105.hdf5\n",
            "Epoch 106/200\n",
            "126/126 [==============================] - 0s 2ms/step - loss: 475408.0312 - MSE: 912678649856.0000 - val_loss: 494758.5312 - val_MSE: 1632982138880.0000\n",
            "Epoch 107/200\n",
            "126/126 [==============================] - 0s 2ms/step - loss: 474766.6875 - MSE: 918759538688.0000 - val_loss: 493712.7500 - val_MSE: 1608341258240.0000\n",
            "Epoch 108/200\n",
            "126/126 [==============================] - 0s 2ms/step - loss: 474872.8750 - MSE: 905374334976.0000 - val_loss: 494326.1250 - val_MSE: 1615862693888.0000\n",
            "Epoch 109/200\n",
            "126/126 [==============================] - 0s 2ms/step - loss: 474553.4375 - MSE: 910202503168.0000 - val_loss: 493932.3750 - val_MSE: 1611813355520.0000\n",
            "Epoch 110/200\n",
            "126/126 [==============================] - 0s 2ms/step - loss: 474291.1875 - MSE: 909873315840.0000 - val_loss: 493602.5625 - val_MSE: 1601512931328.0000\n",
            "\n",
            "Epoch 00110: saving model to checkpoints2/weights.110.hdf5\n",
            "Epoch 111/200\n",
            "126/126 [==============================] - 0s 2ms/step - loss: 473873.7188 - MSE: 904668184576.0000 - val_loss: 494029.1562 - val_MSE: 1605249138688.0000\n",
            "Epoch 112/200\n",
            "126/126 [==============================] - 0s 2ms/step - loss: 473757.8125 - MSE: 906903420928.0000 - val_loss: 493630.8750 - val_MSE: 1592207474688.0000\n",
            "Epoch 113/200\n",
            "126/126 [==============================] - 0s 2ms/step - loss: 473226.2500 - MSE: 899265658880.0000 - val_loss: 494225.1562 - val_MSE: 1606757122048.0000\n",
            "Epoch 114/200\n",
            "126/126 [==============================] - 0s 2ms/step - loss: 473122.3438 - MSE: 902401622016.0000 - val_loss: 493958.5000 - val_MSE: 1588137951232.0000\n",
            "Epoch 115/200\n",
            "126/126 [==============================] - 0s 2ms/step - loss: 472861.7500 - MSE: 896633274368.0000 - val_loss: 493537.9688 - val_MSE: 1586749636608.0000\n",
            "\n",
            "Epoch 00115: saving model to checkpoints2/weights.115.hdf5\n",
            "Epoch 116/200\n",
            "126/126 [==============================] - 0s 2ms/step - loss: 472861.0625 - MSE: 900093968384.0000 - val_loss: 494332.1562 - val_MSE: 1587106807808.0000\n",
            "Epoch 117/200\n",
            "126/126 [==============================] - 0s 2ms/step - loss: 472307.4062 - MSE: 896934608896.0000 - val_loss: 493392.7812 - val_MSE: 1571646734336.0000\n",
            "Epoch 118/200\n",
            "126/126 [==============================] - 0s 2ms/step - loss: 472131.5312 - MSE: 896788463616.0000 - val_loss: 493000.9062 - val_MSE: 1561871908864.0000\n",
            "Epoch 119/200\n",
            "126/126 [==============================] - 0s 2ms/step - loss: 471482.4062 - MSE: 890259636224.0000 - val_loss: 491463.0938 - val_MSE: 1528207900672.0000\n",
            "Epoch 120/200\n",
            "126/126 [==============================] - 0s 2ms/step - loss: 473370.4062 - MSE: 887854071808.0000 - val_loss: 494672.5625 - val_MSE: 1539955490816.0000\n",
            "\n",
            "Epoch 00120: saving model to checkpoints2/weights.120.hdf5\n",
            "Epoch 121/200\n",
            "126/126 [==============================] - 0s 2ms/step - loss: 472049.7812 - MSE: 887881859072.0000 - val_loss: 492441.6250 - val_MSE: 1538286682112.0000\n",
            "Epoch 122/200\n",
            "126/126 [==============================] - 0s 2ms/step - loss: 471135.5625 - MSE: 881660526592.0000 - val_loss: 492862.1250 - val_MSE: 1548753305600.0000\n",
            "Epoch 123/200\n",
            "126/126 [==============================] - 0s 2ms/step - loss: 470761.7812 - MSE: 892978593792.0000 - val_loss: 493018.3750 - val_MSE: 1530519879680.0000\n",
            "Epoch 124/200\n",
            "126/126 [==============================] - 0s 2ms/step - loss: 470891.7188 - MSE: 875112890368.0000 - val_loss: 493313.2812 - val_MSE: 1549676445696.0000\n",
            "Epoch 125/200\n",
            "126/126 [==============================] - 0s 2ms/step - loss: 470426.3438 - MSE: 884779843584.0000 - val_loss: 491209.8125 - val_MSE: 1518012334080.0000\n",
            "\n",
            "Epoch 00125: saving model to checkpoints2/weights.125.hdf5\n",
            "Epoch 126/200\n",
            "126/126 [==============================] - 0s 2ms/step - loss: 470551.1562 - MSE: 880253796352.0000 - val_loss: 491373.8125 - val_MSE: 1514431971328.0000\n",
            "Epoch 127/200\n",
            "126/126 [==============================] - 0s 2ms/step - loss: 470039.5625 - MSE: 874925195264.0000 - val_loss: 491940.0625 - val_MSE: 1530912702464.0000\n",
            "Epoch 128/200\n",
            "126/126 [==============================] - 0s 2ms/step - loss: 470029.6250 - MSE: 882353242112.0000 - val_loss: 490872.8438 - val_MSE: 1508716576768.0000\n",
            "Epoch 129/200\n",
            "126/126 [==============================] - 0s 2ms/step - loss: 469726.4062 - MSE: 870828670976.0000 - val_loss: 492072.5312 - val_MSE: 1518004076544.0000\n",
            "Epoch 130/200\n",
            "126/126 [==============================] - 0s 2ms/step - loss: 469436.7500 - MSE: 875035688960.0000 - val_loss: 492394.5625 - val_MSE: 1520786604032.0000\n",
            "\n",
            "Epoch 00130: saving model to checkpoints2/weights.130.hdf5\n",
            "Epoch 131/200\n",
            "126/126 [==============================] - 0s 2ms/step - loss: 469331.1562 - MSE: 869310267392.0000 - val_loss: 491878.5312 - val_MSE: 1519737372672.0000\n",
            "Epoch 132/200\n",
            "126/126 [==============================] - 0s 2ms/step - loss: 469237.7812 - MSE: 875585732608.0000 - val_loss: 490661.1250 - val_MSE: 1496984584192.0000\n",
            "Epoch 133/200\n",
            "126/126 [==============================] - 0s 2ms/step - loss: 468904.5938 - MSE: 869348540416.0000 - val_loss: 491486.1875 - val_MSE: 1495040655360.0000\n",
            "Epoch 134/200\n",
            "126/126 [==============================] - 0s 2ms/step - loss: 468807.0312 - MSE: 865957380096.0000 - val_loss: 491316.1562 - val_MSE: 1503261884416.0000\n",
            "Epoch 135/200\n",
            "126/126 [==============================] - 0s 2ms/step - loss: 468422.8750 - MSE: 869114314752.0000 - val_loss: 492307.9375 - val_MSE: 1507904061440.0000\n",
            "\n",
            "Epoch 00135: saving model to checkpoints2/weights.135.hdf5\n",
            "Epoch 136/200\n",
            "126/126 [==============================] - 0s 2ms/step - loss: 483161.9688 - MSE: 1669196021760.0000 - val_loss: 497334.3125 - val_MSE: 1568560513024.0000\n",
            "Epoch 137/200\n",
            "126/126 [==============================] - 0s 2ms/step - loss: 472255.7500 - MSE: 882530910208.0000 - val_loss: 493809.5938 - val_MSE: 1484892143616.0000\n",
            "Epoch 138/200\n",
            "126/126 [==============================] - 0s 2ms/step - loss: 471543.0000 - MSE: 875434606592.0000 - val_loss: 493779.4688 - val_MSE: 1514250960896.0000\n",
            "Epoch 139/200\n",
            "126/126 [==============================] - 0s 2ms/step - loss: 470742.4688 - MSE: 875044470784.0000 - val_loss: 493637.0312 - val_MSE: 1496001675264.0000\n",
            "Epoch 140/200\n",
            "126/126 [==============================] - 0s 2ms/step - loss: 469260.8438 - MSE: 862458937344.0000 - val_loss: 492940.7812 - val_MSE: 1511435665408.0000\n",
            "\n",
            "Epoch 00140: saving model to checkpoints2/weights.140.hdf5\n",
            "Epoch 141/200\n",
            "126/126 [==============================] - 0s 2ms/step - loss: 468009.7188 - MSE: 864036388864.0000 - val_loss: 491371.2188 - val_MSE: 1488782098432.0000\n",
            "Epoch 142/200\n",
            "126/126 [==============================] - 0s 2ms/step - loss: 467519.5000 - MSE: 863444860928.0000 - val_loss: 490760.7812 - val_MSE: 1496386633728.0000\n",
            "Epoch 143/200\n",
            "126/126 [==============================] - 0s 2ms/step - loss: 467058.0000 - MSE: 868850270208.0000 - val_loss: 489965.2188 - val_MSE: 1479475986432.0000\n",
            "Epoch 144/200\n",
            "126/126 [==============================] - 0s 2ms/step - loss: 467051.5000 - MSE: 860363489280.0000 - val_loss: 489689.8125 - val_MSE: 1483042455552.0000\n",
            "Epoch 145/200\n",
            "126/126 [==============================] - 0s 2ms/step - loss: 466545.8125 - MSE: 860654141440.0000 - val_loss: 489584.4062 - val_MSE: 1488687988736.0000\n",
            "\n",
            "Epoch 00145: saving model to checkpoints2/weights.145.hdf5\n",
            "Epoch 146/200\n",
            "126/126 [==============================] - 0s 2ms/step - loss: 466496.0938 - MSE: 861318873088.0000 - val_loss: 489501.2500 - val_MSE: 1483255578624.0000\n",
            "Epoch 147/200\n",
            "126/126 [==============================] - 0s 2ms/step - loss: 466286.4062 - MSE: 863420481536.0000 - val_loss: 489299.4688 - val_MSE: 1479507443712.0000\n",
            "Epoch 148/200\n",
            "126/126 [==============================] - 0s 2ms/step - loss: 466338.0625 - MSE: 857491308544.0000 - val_loss: 488915.8438 - val_MSE: 1459930660864.0000\n",
            "Epoch 149/200\n",
            "126/126 [==============================] - 0s 2ms/step - loss: 465998.9375 - MSE: 856872058880.0000 - val_loss: 489086.0312 - val_MSE: 1479132839936.0000\n",
            "Epoch 150/200\n",
            "126/126 [==============================] - 0s 2ms/step - loss: 465747.2500 - MSE: 852716945408.0000 - val_loss: 488965.8750 - val_MSE: 1477623021568.0000\n",
            "\n",
            "Epoch 00150: saving model to checkpoints2/weights.150.hdf5\n",
            "Epoch 151/200\n",
            "126/126 [==============================] - 0s 2ms/step - loss: 465460.7812 - MSE: 856751079424.0000 - val_loss: 488019.4375 - val_MSE: 1463842111488.0000\n",
            "Epoch 152/200\n",
            "126/126 [==============================] - 0s 2ms/step - loss: 465165.8438 - MSE: 857823117312.0000 - val_loss: 488509.6875 - val_MSE: 1461079244800.0000\n",
            "Epoch 153/200\n",
            "126/126 [==============================] - 0s 2ms/step - loss: 464946.0000 - MSE: 848910811136.0000 - val_loss: 488366.2500 - val_MSE: 1475471605760.0000\n",
            "Epoch 154/200\n",
            "126/126 [==============================] - 0s 2ms/step - loss: 464655.1250 - MSE: 855620517888.0000 - val_loss: 487189.4375 - val_MSE: 1454240432128.0000\n",
            "Epoch 155/200\n",
            "126/126 [==============================] - 0s 2ms/step - loss: 464935.3438 - MSE: 847113355264.0000 - val_loss: 486533.8750 - val_MSE: 1458997166080.0000\n",
            "\n",
            "Epoch 00155: saving model to checkpoints2/weights.155.hdf5\n",
            "Epoch 156/200\n",
            "126/126 [==============================] - 0s 2ms/step - loss: 464484.4062 - MSE: 852667334656.0000 - val_loss: 486919.4375 - val_MSE: 1451569577984.0000\n",
            "Epoch 157/200\n",
            "126/126 [==============================] - 0s 2ms/step - loss: 464187.3125 - MSE: 847249604608.0000 - val_loss: 488173.2188 - val_MSE: 1465643040768.0000\n",
            "Epoch 158/200\n",
            "126/126 [==============================] - 0s 2ms/step - loss: 464145.5312 - MSE: 849730797568.0000 - val_loss: 487119.5938 - val_MSE: 1437499392000.0000\n",
            "Epoch 159/200\n",
            "126/126 [==============================] - 0s 2ms/step - loss: 463899.5312 - MSE: 844684787712.0000 - val_loss: 487382.3125 - val_MSE: 1464987942912.0000\n",
            "Epoch 160/200\n",
            "126/126 [==============================] - 0s 2ms/step - loss: 463726.8438 - MSE: 846147354624.0000 - val_loss: 486855.9688 - val_MSE: 1461269430272.0000\n",
            "\n",
            "Epoch 00160: saving model to checkpoints2/weights.160.hdf5\n",
            "Epoch 161/200\n",
            "126/126 [==============================] - 0s 2ms/step - loss: 463579.2812 - MSE: 844924190720.0000 - val_loss: 485882.3125 - val_MSE: 1448636579840.0000\n",
            "Epoch 162/200\n",
            "126/126 [==============================] - 0s 2ms/step - loss: 463384.3750 - MSE: 844860751872.0000 - val_loss: 485577.7500 - val_MSE: 1457974935552.0000\n",
            "Epoch 163/200\n",
            "126/126 [==============================] - 0s 2ms/step - loss: 463356.0000 - MSE: 849055580160.0000 - val_loss: 486848.9062 - val_MSE: 1454075281408.0000\n",
            "Epoch 164/200\n",
            "126/126 [==============================] - 0s 2ms/step - loss: 462865.3125 - MSE: 842852335616.0000 - val_loss: 484794.6562 - val_MSE: 1438069948416.0000\n",
            "Epoch 165/200\n",
            "126/126 [==============================] - 0s 2ms/step - loss: 467430.0000 - MSE: 870141329408.0000 - val_loss: 489108.6875 - val_MSE: 1440314294272.0000\n",
            "\n",
            "Epoch 00165: saving model to checkpoints2/weights.165.hdf5\n",
            "Epoch 166/200\n",
            "126/126 [==============================] - 0s 2ms/step - loss: 463587.0000 - MSE: 837102927872.0000 - val_loss: 486682.4062 - val_MSE: 1458506956800.0000\n",
            "Epoch 167/200\n",
            "126/126 [==============================] - 0s 2ms/step - loss: 462674.2500 - MSE: 844244123648.0000 - val_loss: 485367.1562 - val_MSE: 1454003978240.0000\n",
            "Epoch 168/200\n",
            "126/126 [==============================] - 0s 2ms/step - loss: 462097.5312 - MSE: 848410968064.0000 - val_loss: 484973.8438 - val_MSE: 1431157473280.0000\n",
            "Epoch 169/200\n",
            "126/126 [==============================] - 0s 2ms/step - loss: 461633.5938 - MSE: 839588511744.0000 - val_loss: 485745.7812 - val_MSE: 1454164934656.0000\n",
            "Epoch 170/200\n",
            "126/126 [==============================] - 0s 2ms/step - loss: 461822.5000 - MSE: 844205850624.0000 - val_loss: 485063.0312 - val_MSE: 1450890625024.0000\n",
            "\n",
            "Epoch 00170: saving model to checkpoints2/weights.170.hdf5\n",
            "Epoch 171/200\n",
            "126/126 [==============================] - 0s 2ms/step - loss: 461736.0625 - MSE: 844786171904.0000 - val_loss: 483823.3438 - val_MSE: 1426482135040.0000\n",
            "Epoch 172/200\n",
            "126/126 [==============================] - 0s 2ms/step - loss: 461296.5625 - MSE: 834251128832.0000 - val_loss: 483720.4062 - val_MSE: 1443166814208.0000\n",
            "Epoch 173/200\n",
            "126/126 [==============================] - 0s 2ms/step - loss: 461172.2812 - MSE: 841772695552.0000 - val_loss: 485371.4062 - val_MSE: 1453748256768.0000\n",
            "Epoch 174/200\n",
            "126/126 [==============================] - 0s 2ms/step - loss: 460438.2188 - MSE: 836417683456.0000 - val_loss: 482713.4375 - val_MSE: 1423387525120.0000\n",
            "Epoch 175/200\n",
            "126/126 [==============================] - 0s 2ms/step - loss: 483039.0625 - MSE: 2582369796096.0000 - val_loss: 495062.1250 - val_MSE: 1550137032704.0000\n",
            "\n",
            "Epoch 00175: saving model to checkpoints2/weights.175.hdf5\n",
            "Epoch 176/200\n",
            "126/126 [==============================] - 0s 2ms/step - loss: 470700.4688 - MSE: 872390262784.0000 - val_loss: 485357.3438 - val_MSE: 1444702978048.0000\n",
            "Epoch 177/200\n",
            "126/126 [==============================] - 0s 2ms/step - loss: 468347.0625 - MSE: 860865888256.0000 - val_loss: 485256.4375 - val_MSE: 1430102212608.0000\n",
            "Epoch 178/200\n",
            "126/126 [==============================] - 0s 2ms/step - loss: 468252.9688 - MSE: 850996166656.0000 - val_loss: 485016.3125 - val_MSE: 1436550955008.0000\n",
            "Epoch 179/200\n",
            "126/126 [==============================] - 0s 2ms/step - loss: 466424.0625 - MSE: 850472468480.0000 - val_loss: 484864.5312 - val_MSE: 1440230801408.0000\n",
            "Epoch 180/200\n",
            "126/126 [==============================] - 0s 2ms/step - loss: 466490.5000 - MSE: 851617185792.0000 - val_loss: 484667.0938 - val_MSE: 1433139544064.0000\n",
            "\n",
            "Epoch 00180: saving model to checkpoints2/weights.180.hdf5\n",
            "Epoch 181/200\n",
            "126/126 [==============================] - 0s 2ms/step - loss: 465633.7500 - MSE: 848500752384.0000 - val_loss: 484490.1875 - val_MSE: 1431158521856.0000\n",
            "Epoch 182/200\n",
            "126/126 [==============================] - 0s 2ms/step - loss: 464124.9375 - MSE: 847583641600.0000 - val_loss: 484826.3438 - val_MSE: 1414988562432.0000\n",
            "Epoch 183/200\n",
            "126/126 [==============================] - 0s 2ms/step - loss: 462884.4062 - MSE: 840754331648.0000 - val_loss: 484961.0312 - val_MSE: 1410673278976.0000\n",
            "Epoch 184/200\n",
            "126/126 [==============================] - 0s 2ms/step - loss: 470662.8125 - MSE: 1244585525248.0000 - val_loss: 483507.7500 - val_MSE: 1423969484800.0000\n",
            "Epoch 185/200\n",
            "126/126 [==============================] - 0s 2ms/step - loss: 462291.4375 - MSE: 840698691584.0000 - val_loss: 483823.0312 - val_MSE: 1433157107712.0000\n",
            "\n",
            "Epoch 00185: saving model to checkpoints2/weights.185.hdf5\n",
            "Epoch 186/200\n",
            "126/126 [==============================] - 0s 2ms/step - loss: 460535.1250 - MSE: 834739503104.0000 - val_loss: 482888.5312 - val_MSE: 1417923526656.0000\n",
            "Epoch 187/200\n",
            "126/126 [==============================] - 0s 2ms/step - loss: 458838.6562 - MSE: 832575111168.0000 - val_loss: 481729.5938 - val_MSE: 1410887450624.0000\n",
            "Epoch 188/200\n",
            "126/126 [==============================] - 0s 2ms/step - loss: 458591.2812 - MSE: 839505805312.0000 - val_loss: 480633.4688 - val_MSE: 1429081554944.0000\n",
            "Epoch 189/200\n",
            "126/126 [==============================] - 0s 2ms/step - loss: 458168.3125 - MSE: 837657886720.0000 - val_loss: 481007.3125 - val_MSE: 1410705915904.0000\n",
            "Epoch 190/200\n",
            "126/126 [==============================] - 0s 2ms/step - loss: 458317.7188 - MSE: 832165969920.0000 - val_loss: 480402.1875 - val_MSE: 1424403857408.0000\n",
            "\n",
            "Epoch 00190: saving model to checkpoints2/weights.190.hdf5\n",
            "Epoch 191/200\n",
            "126/126 [==============================] - 0s 2ms/step - loss: 457158.9375 - MSE: 829783736320.0000 - val_loss: 479967.0312 - val_MSE: 1432714084352.0000\n",
            "Epoch 192/200\n",
            "126/126 [==============================] - 0s 2ms/step - loss: 457161.6250 - MSE: 835980820480.0000 - val_loss: 480555.6875 - val_MSE: 1404257042432.0000\n",
            "Epoch 193/200\n",
            "126/126 [==============================] - 0s 2ms/step - loss: 456990.2188 - MSE: 829009494016.0000 - val_loss: 479430.9688 - val_MSE: 1416152350720.0000\n",
            "Epoch 194/200\n",
            "126/126 [==============================] - 0s 2ms/step - loss: 456572.8125 - MSE: 832020545536.0000 - val_loss: 478735.0625 - val_MSE: 1409100808192.0000\n",
            "Epoch 195/200\n",
            "126/126 [==============================] - 0s 2ms/step - loss: 456420.8125 - MSE: 827804942336.0000 - val_loss: 478701.6875 - val_MSE: 1410648244224.0000\n",
            "\n",
            "Epoch 00195: saving model to checkpoints2/weights.195.hdf5\n",
            "Epoch 196/200\n",
            "126/126 [==============================] - 0s 2ms/step - loss: 456002.2812 - MSE: 826983710720.0000 - val_loss: 478383.0312 - val_MSE: 1413032050688.0000\n",
            "Epoch 197/200\n",
            "126/126 [==============================] - 0s 2ms/step - loss: 455697.1875 - MSE: 821348007936.0000 - val_loss: 478641.5000 - val_MSE: 1424397565952.0000\n",
            "Epoch 198/200\n",
            "126/126 [==============================] - 0s 2ms/step - loss: 455452.2812 - MSE: 824214159360.0000 - val_loss: 477230.1562 - val_MSE: 1427331350528.0000\n",
            "Epoch 199/200\n",
            "126/126 [==============================] - 0s 2ms/step - loss: 457979.5312 - MSE: 843746246656.0000 - val_loss: 480591.4688 - val_MSE: 1405640376320.0000\n",
            "Epoch 200/200\n",
            "126/126 [==============================] - 0s 2ms/step - loss: 457903.9688 - MSE: 818036867072.0000 - val_loss: 479383.1250 - val_MSE: 1416283291648.0000\n",
            "\n",
            "Epoch 00200: saving model to checkpoints2/weights.200.hdf5\n"
          ],
          "name": "stdout"
        }
      ]
    },
    {
      "cell_type": "code",
      "metadata": {
        "id": "GTPKTrmLF60r"
      },
      "source": [
        "# Export our model to HDF5 file\n",
        "model4.save(\"NN2_housing.h5\")\n",
        "\n",
        "# the predict() method is used to generate predictions\n",
        "y4_pred = model4.predict(X2_test) # <= X2 has no List_Price"
      ],
      "execution_count": 46,
      "outputs": []
    },
    {
      "cell_type": "markdown",
      "metadata": {
        "id": "hEZsgBuuqk_r"
      },
      "source": [
        "**Note: ** R-square drops significantly"
      ]
    },
    {
      "cell_type": "code",
      "metadata": {
        "id": "dYvH8QKknhaV",
        "colab": {
          "base_uri": "https://localhost:8080/"
        },
        "outputId": "567cc1f1-cb6d-410b-d63a-24fc9041561f"
      },
      "source": [
        "# evaluate the performance of the algorithm (MAE - MSE - RMSE)\n",
        "from sklearn import metrics\n",
        "print('Model 4: Neural Network without List_Price')\n",
        "#print('Mean Absolute Error (MAE):', metrics.mean_absolute_error(y_test, y4_pred))  \n",
        "#print('Mean Squared Error (MSE):', metrics.mean_squared_error(y_test, y4_pred))  \n",
        "print('Root Mean Squared Error (RMSE):', np.sqrt(metrics.mean_squared_error(y_test, y4_pred)))\n",
        "print('Variance -- VarScore:', metrics.explained_variance_score(y_test,y4_pred))\n",
        "print(\"R squared(R2):\", metrics.r2_score(y_test, y4_pred))"
      ],
      "execution_count": 47,
      "outputs": [
        {
          "output_type": "stream",
          "text": [
            "Model 4: Neural Network without List_Price\n",
            "Root Mean Squared Error (RMSE): 1190077.0062738815\n",
            "Variance -- VarScore: 0.461832777676943\n",
            "R squared(R2): 0.44249087024205247\n"
          ],
          "name": "stdout"
        }
      ]
    },
    {
      "cell_type": "code",
      "metadata": {
        "id": "is_CmT9WnhlK",
        "colab": {
          "base_uri": "https://localhost:8080/",
          "height": 357
        },
        "outputId": "b249106d-68c2-46d7-ff89-94ff6ff5b74e"
      },
      "source": [
        "#df = create a df of Sales_Price and Prediction values\n",
        "result4_df = pd.DataFrame({\"Sale_Price\": [x for x in y_test], \"Predict_NN_4\": [x for x in y4_pred]})\n",
        "result4_df.head(10)"
      ],
      "execution_count": 48,
      "outputs": [
        {
          "output_type": "execute_result",
          "data": {
            "text/html": [
              "<div>\n",
              "<style scoped>\n",
              "    .dataframe tbody tr th:only-of-type {\n",
              "        vertical-align: middle;\n",
              "    }\n",
              "\n",
              "    .dataframe tbody tr th {\n",
              "        vertical-align: top;\n",
              "    }\n",
              "\n",
              "    .dataframe thead th {\n",
              "        text-align: right;\n",
              "    }\n",
              "</style>\n",
              "<table border=\"1\" class=\"dataframe\">\n",
              "  <thead>\n",
              "    <tr style=\"text-align: right;\">\n",
              "      <th></th>\n",
              "      <th>Sale_Price</th>\n",
              "      <th>Predict_NN_4</th>\n",
              "    </tr>\n",
              "  </thead>\n",
              "  <tbody>\n",
              "    <tr>\n",
              "      <th>0</th>\n",
              "      <td>1005000</td>\n",
              "      <td>[997677.2]</td>\n",
              "    </tr>\n",
              "    <tr>\n",
              "      <th>1</th>\n",
              "      <td>1175000</td>\n",
              "      <td>[1393403.6]</td>\n",
              "    </tr>\n",
              "    <tr>\n",
              "      <th>2</th>\n",
              "      <td>565000</td>\n",
              "      <td>[791725.94]</td>\n",
              "    </tr>\n",
              "    <tr>\n",
              "      <th>3</th>\n",
              "      <td>950000</td>\n",
              "      <td>[898820.56]</td>\n",
              "    </tr>\n",
              "    <tr>\n",
              "      <th>4</th>\n",
              "      <td>625000</td>\n",
              "      <td>[558029.5]</td>\n",
              "    </tr>\n",
              "    <tr>\n",
              "      <th>5</th>\n",
              "      <td>1925000</td>\n",
              "      <td>[692399.94]</td>\n",
              "    </tr>\n",
              "    <tr>\n",
              "      <th>6</th>\n",
              "      <td>21150000</td>\n",
              "      <td>[6632790.5]</td>\n",
              "    </tr>\n",
              "    <tr>\n",
              "      <th>7</th>\n",
              "      <td>2000000</td>\n",
              "      <td>[1070321.1]</td>\n",
              "    </tr>\n",
              "    <tr>\n",
              "      <th>8</th>\n",
              "      <td>341000</td>\n",
              "      <td>[710793.25]</td>\n",
              "    </tr>\n",
              "    <tr>\n",
              "      <th>9</th>\n",
              "      <td>1450000</td>\n",
              "      <td>[1632470.9]</td>\n",
              "    </tr>\n",
              "  </tbody>\n",
              "</table>\n",
              "</div>"
            ],
            "text/plain": [
              "   Sale_Price Predict_NN_4\n",
              "0     1005000   [997677.2]\n",
              "1     1175000  [1393403.6]\n",
              "2      565000  [791725.94]\n",
              "3      950000  [898820.56]\n",
              "4      625000   [558029.5]\n",
              "5     1925000  [692399.94]\n",
              "6    21150000  [6632790.5]\n",
              "7     2000000  [1070321.1]\n",
              "8      341000  [710793.25]\n",
              "9     1450000  [1632470.9]"
            ]
          },
          "metadata": {
            "tags": []
          },
          "execution_count": 48
        }
      ]
    },
    {
      "cell_type": "code",
      "metadata": {
        "colab": {
          "base_uri": "https://localhost:8080/",
          "height": 357
        },
        "id": "vJhdTSzW7HG7",
        "outputId": "b6413d06-1dd8-45e1-88a9-fc05782ba319"
      },
      "source": [
        "# This is the final data frame of all the model prediction\n",
        "total_result_df = total_result_df.merge(result4_df, how='left', on='Sale_Price', left_index=True, right_index=True)\n",
        "total_result_df.head(10)"
      ],
      "execution_count": 49,
      "outputs": [
        {
          "output_type": "execute_result",
          "data": {
            "text/html": [
              "<div>\n",
              "<style scoped>\n",
              "    .dataframe tbody tr th:only-of-type {\n",
              "        vertical-align: middle;\n",
              "    }\n",
              "\n",
              "    .dataframe tbody tr th {\n",
              "        vertical-align: top;\n",
              "    }\n",
              "\n",
              "    .dataframe thead th {\n",
              "        text-align: right;\n",
              "    }\n",
              "</style>\n",
              "<table border=\"1\" class=\"dataframe\">\n",
              "  <thead>\n",
              "    <tr style=\"text-align: right;\">\n",
              "      <th></th>\n",
              "      <th>Sale_Price</th>\n",
              "      <th>Predict_Reg_1</th>\n",
              "      <th>Predict_Reg_2</th>\n",
              "      <th>Predict_NN_3</th>\n",
              "      <th>Predict_NN_4</th>\n",
              "    </tr>\n",
              "  </thead>\n",
              "  <tbody>\n",
              "    <tr>\n",
              "      <th>0</th>\n",
              "      <td>1005000</td>\n",
              "      <td>913,281.32</td>\n",
              "      <td>1,416,121.20</td>\n",
              "      <td>[929482.4]</td>\n",
              "      <td>[997677.2]</td>\n",
              "    </tr>\n",
              "    <tr>\n",
              "      <th>1</th>\n",
              "      <td>1175000</td>\n",
              "      <td>1,219,022.44</td>\n",
              "      <td>1,559,513.55</td>\n",
              "      <td>[1226439.9]</td>\n",
              "      <td>[1393403.6]</td>\n",
              "    </tr>\n",
              "    <tr>\n",
              "      <th>2</th>\n",
              "      <td>565000</td>\n",
              "      <td>587,771.36</td>\n",
              "      <td>639,187.61</td>\n",
              "      <td>[593743.4]</td>\n",
              "      <td>[791725.94]</td>\n",
              "    </tr>\n",
              "    <tr>\n",
              "      <th>3</th>\n",
              "      <td>950000</td>\n",
              "      <td>959,388.14</td>\n",
              "      <td>1,152,340.72</td>\n",
              "      <td>[968047.25]</td>\n",
              "      <td>[898820.56]</td>\n",
              "    </tr>\n",
              "    <tr>\n",
              "      <th>4</th>\n",
              "      <td>625000</td>\n",
              "      <td>608,544.68</td>\n",
              "      <td>526,425.80</td>\n",
              "      <td>[588781.94]</td>\n",
              "      <td>[558029.5]</td>\n",
              "    </tr>\n",
              "    <tr>\n",
              "      <th>5</th>\n",
              "      <td>1925000</td>\n",
              "      <td>1,872,278.90</td>\n",
              "      <td>965,161.08</td>\n",
              "      <td>[1872875.5]</td>\n",
              "      <td>[692399.94]</td>\n",
              "    </tr>\n",
              "    <tr>\n",
              "      <th>6</th>\n",
              "      <td>21150000</td>\n",
              "      <td>25,521,630.17</td>\n",
              "      <td>10,581,912.84</td>\n",
              "      <td>[25974288.0]</td>\n",
              "      <td>[6632790.5]</td>\n",
              "    </tr>\n",
              "    <tr>\n",
              "      <th>7</th>\n",
              "      <td>2000000</td>\n",
              "      <td>1,830,298.75</td>\n",
              "      <td>1,322,725.73</td>\n",
              "      <td>[1767240.1]</td>\n",
              "      <td>[1070321.1]</td>\n",
              "    </tr>\n",
              "    <tr>\n",
              "      <th>8</th>\n",
              "      <td>341000</td>\n",
              "      <td>321,158.59</td>\n",
              "      <td>564,749.91</td>\n",
              "      <td>[317636.84]</td>\n",
              "      <td>[710793.25]</td>\n",
              "    </tr>\n",
              "    <tr>\n",
              "      <th>9</th>\n",
              "      <td>1450000</td>\n",
              "      <td>1,469,391.98</td>\n",
              "      <td>2,446,670.51</td>\n",
              "      <td>[1511867.1]</td>\n",
              "      <td>[1632470.9]</td>\n",
              "    </tr>\n",
              "  </tbody>\n",
              "</table>\n",
              "</div>"
            ],
            "text/plain": [
              "   Sale_Price  Predict_Reg_1  Predict_Reg_2  Predict_NN_3 Predict_NN_4\n",
              "0     1005000     913,281.32   1,416,121.20    [929482.4]   [997677.2]\n",
              "1     1175000   1,219,022.44   1,559,513.55   [1226439.9]  [1393403.6]\n",
              "2      565000     587,771.36     639,187.61    [593743.4]  [791725.94]\n",
              "3      950000     959,388.14   1,152,340.72   [968047.25]  [898820.56]\n",
              "4      625000     608,544.68     526,425.80   [588781.94]   [558029.5]\n",
              "5     1925000   1,872,278.90     965,161.08   [1872875.5]  [692399.94]\n",
              "6    21150000  25,521,630.17  10,581,912.84  [25974288.0]  [6632790.5]\n",
              "7     2000000   1,830,298.75   1,322,725.73   [1767240.1]  [1070321.1]\n",
              "8      341000     321,158.59     564,749.91   [317636.84]  [710793.25]\n",
              "9     1450000   1,469,391.98   2,446,670.51   [1511867.1]  [1632470.9]"
            ]
          },
          "metadata": {
            "tags": []
          },
          "execution_count": 49
        }
      ]
    },
    {
      "cell_type": "code",
      "metadata": {
        "id": "rpu_kYUZqwrg",
        "colab": {
          "base_uri": "https://localhost:8080/",
          "height": 350
        },
        "outputId": "0143f100-a001-4b03-8066-9f2d56ee9f56"
      },
      "source": [
        "import matplotlib.pyplot as plt\n",
        "plt.figure(figsize=(10,5))\n",
        "plt.plot(np.array(y4_pred))\n",
        "plt.plot(np.array(y_test))\n",
        "plt.title('Model 4: Neural Network without List_Price')\n",
        "plt.ylabel('Price')\n",
        "plt.xlabel('No. of Samples')\n",
        "plt.legend(['Prediction 4', 'Sale_Price'], loc='upper right')\n",
        "plt.show()"
      ],
      "execution_count": 50,
      "outputs": [
        {
          "output_type": "display_data",
          "data": {
            "image/png": "[encoded data removed]",
            "text/plain": [
              "<Figure size 720x360 with 1 Axes>"
            ]
          },
          "metadata": {
            "tags": [],
            "needs_background": "light"
          }
        }
      ]
    },
    {
      "cell_type": "code",
      "metadata": {
        "id": "HFJdJchwqw0j",
        "colab": {
          "base_uri": "https://localhost:8080/"
        },
        "outputId": "703a0e00-37ed-4cea-d639-be131408b8e7"
      },
      "source": [
        "print(\"SUMMARY OF R2_SCORE\"'\\n')\n",
        "print(\"Model 1: Regression with List_Price:\", metrics.r2_score(y_test, y1_pred))\n",
        "print('')\n",
        "print(\"Model 2: Regression withOUT List_Price:\", metrics.r2_score(y_test, y2_pred))\n",
        "print('')\n",
        "print(\"Model 3: Neural Network with List_Price:\", metrics.r2_score(y_test, y3_pred))\n",
        "print('')\n",
        "print(\"Model 4: Neural Network withOUT List_Price:\", metrics.r2_score(y_test, y4_pred))"
      ],
      "execution_count": 51,
      "outputs": [
        {
          "output_type": "stream",
          "text": [
            "SUMMARY OF R2_SCORE\n",
            "\n",
            "Model 1: Regression with List_Price: 0.9605332854433306\n",
            "\n",
            "Model 2: Regression withOUT List_Price: 0.6722142200798393\n",
            "\n",
            "Model 3: Neural Network with List_Price: 0.9515408731323525\n",
            "\n",
            "Model 4: Neural Network withOUT List_Price: 0.44249087024205247\n"
          ],
          "name": "stdout"
        }
      ]
    },
    {
      "cell_type": "markdown",
      "metadata": {
        "id": "lM1xNxclg6nL"
      },
      "source": [
        "**BEGIN Random Forest**"
      ]
    },
    {
      "cell_type": "code",
      "metadata": {
        "colab": {
          "base_uri": "https://localhost:8080/"
        },
        "id": "edws-8myHsRT",
        "outputId": "a9eef188-2300-469e-f15e-638c677dbc22"
      },
      "source": [
        "# Need to keep it here to remind what the the testing and traing features\n",
        "print(X_train.shape, X_test.shape, y_train.shape, y_test.shape)# <= X_tranin includes \"List_Price\"\n",
        "print(X2_train.shape, X2_test.shape, y_train.shape, y_test.shape)# <= X2_train excludes \"List_Price\""
      ],
      "execution_count": 52,
      "outputs": [
        {
          "output_type": "stream",
          "text": [
            "(4013, 47) (212, 47) (4013,) (212,)\n",
            "(4013, 46) (212, 46) (4013,) (212,)\n"
          ],
          "name": "stdout"
        }
      ]
    },
    {
      "cell_type": "code",
      "metadata": {
        "id": "u_91-RrbHq75"
      },
      "source": [
        "from sklearn.linear_model import LinearRegression, Ridge, Lasso\n",
        "from sklearn.ensemble import RandomForestRegressor\n",
        "from sklearn.model_selection import cross_val_score, train_test_split, GridSearchCV"
      ],
      "execution_count": 53,
      "outputs": []
    },
    {
      "cell_type": "code",
      "metadata": {
        "colab": {
          "base_uri": "https://localhost:8080/"
        },
        "id": "Lo5pcmPrHrO_",
        "outputId": "e3563d17-98a2-4b57-b2c5-c937cbd07dde"
      },
      "source": [
        "# Evaluate the model\n",
        "model5 = RandomForestRegressor(n_estimators = epochs_no, max_depth = 5, min_samples_leaf= 5, max_features = 'sqrt')  # using GridSearch\n",
        "model5 = RandomForestRegressor()\n",
        "model5.fit(X_train, y_train) # gets the parameters for the rfr model"
      ],
      "execution_count": 54,
      "outputs": [
        {
          "output_type": "execute_result",
          "data": {
            "text/plain": [
              "RandomForestRegressor(bootstrap=True, ccp_alpha=0.0, criterion='mse',\n",
              "                      max_depth=None, max_features='auto', max_leaf_nodes=None,\n",
              "                      max_samples=None, min_impurity_decrease=0.0,\n",
              "                      min_impurity_split=None, min_samples_leaf=1,\n",
              "                      min_samples_split=2, min_weight_fraction_leaf=0.0,\n",
              "                      n_estimators=100, n_jobs=None, oob_score=False,\n",
              "                      random_state=None, verbose=0, warm_start=False)"
            ]
          },
          "metadata": {
            "tags": []
          },
          "execution_count": 54
        }
      ]
    },
    {
      "cell_type": "code",
      "metadata": {
        "id": "KxWyxltALiYA"
      },
      "source": [
        "# the predict() method is used to generate predictions\n",
        "y5_pred = model5.predict(X_test) # <= X2 has no List_Price"
      ],
      "execution_count": 55,
      "outputs": []
    },
    {
      "cell_type": "code",
      "metadata": {
        "id": "tbGe_HupdqEq",
        "colab": {
          "base_uri": "https://localhost:8080/"
        },
        "outputId": "a02f7777-d3c8-4be9-a899-9a9a4890d88f"
      },
      "source": [
        "# evaluate the performance of the algorithm (MAE - MSE - RMSE)\n",
        "print('Model 5: Random Forest with List_Price')\n",
        "#print('Mean Absolute Error (MAE):', metrics.mean_absolute_error(y_test, y4_pred))  \n",
        "#print('Mean Squared Error (MSE):', metrics.mean_squared_error(y_test, y4_pred))  \n",
        "print('Root Mean Squared Error (RMSE):', np.sqrt(metrics.mean_squared_error(y_test, y5_pred)))\n",
        "print('Variance -- VarScore:', metrics.explained_variance_score(y_test,y5_pred))\n",
        "print(\"R squared(R2):\", metrics.r2_score(y_test, y5_pred))"
      ],
      "execution_count": 56,
      "outputs": [
        {
          "output_type": "stream",
          "text": [
            "Model 5: Random Forest with List_Price\n",
            "Root Mean Squared Error (RMSE): 298090.0883536247\n",
            "Variance -- VarScore: 0.9651452077021345\n",
            "R squared(R2): 0.9650218426634006\n"
          ],
          "name": "stdout"
        }
      ]
    },
    {
      "cell_type": "code",
      "metadata": {
        "colab": {
          "base_uri": "https://localhost:8080/",
          "height": 357
        },
        "id": "sbhMVg3RLyi5",
        "outputId": "755b3417-a9f2-45c3-f5f8-1a66429afd64"
      },
      "source": [
        "#df = create a df of Sales_Price and Prediction values\n",
        "result5_df = pd.DataFrame({\"Sale_Price\": [x for x in y_test], \"Predict_rfr_5\": [x for x in y5_pred]})\n",
        "result5_df.head(10)"
      ],
      "execution_count": 57,
      "outputs": [
        {
          "output_type": "execute_result",
          "data": {
            "text/html": [
              "<div>\n",
              "<style scoped>\n",
              "    .dataframe tbody tr th:only-of-type {\n",
              "        vertical-align: middle;\n",
              "    }\n",
              "\n",
              "    .dataframe tbody tr th {\n",
              "        vertical-align: top;\n",
              "    }\n",
              "\n",
              "    .dataframe thead th {\n",
              "        text-align: right;\n",
              "    }\n",
              "</style>\n",
              "<table border=\"1\" class=\"dataframe\">\n",
              "  <thead>\n",
              "    <tr style=\"text-align: right;\">\n",
              "      <th></th>\n",
              "      <th>Sale_Price</th>\n",
              "      <th>Predict_rfr_5</th>\n",
              "    </tr>\n",
              "  </thead>\n",
              "  <tbody>\n",
              "    <tr>\n",
              "      <th>0</th>\n",
              "      <td>1005000</td>\n",
              "      <td>939331.20</td>\n",
              "    </tr>\n",
              "    <tr>\n",
              "      <th>1</th>\n",
              "      <td>1175000</td>\n",
              "      <td>1188578.00</td>\n",
              "    </tr>\n",
              "    <tr>\n",
              "      <th>2</th>\n",
              "      <td>565000</td>\n",
              "      <td>569309.00</td>\n",
              "    </tr>\n",
              "    <tr>\n",
              "      <th>3</th>\n",
              "      <td>950000</td>\n",
              "      <td>935994.39</td>\n",
              "    </tr>\n",
              "    <tr>\n",
              "      <th>4</th>\n",
              "      <td>625000</td>\n",
              "      <td>592265.64</td>\n",
              "    </tr>\n",
              "    <tr>\n",
              "      <th>5</th>\n",
              "      <td>1925000</td>\n",
              "      <td>1968527.70</td>\n",
              "    </tr>\n",
              "    <tr>\n",
              "      <th>6</th>\n",
              "      <td>21150000</td>\n",
              "      <td>17070070.00</td>\n",
              "    </tr>\n",
              "    <tr>\n",
              "      <th>7</th>\n",
              "      <td>2000000</td>\n",
              "      <td>1913754.02</td>\n",
              "    </tr>\n",
              "    <tr>\n",
              "      <th>8</th>\n",
              "      <td>341000</td>\n",
              "      <td>309315.00</td>\n",
              "    </tr>\n",
              "    <tr>\n",
              "      <th>9</th>\n",
              "      <td>1450000</td>\n",
              "      <td>1537127.42</td>\n",
              "    </tr>\n",
              "  </tbody>\n",
              "</table>\n",
              "</div>"
            ],
            "text/plain": [
              "   Sale_Price  Predict_rfr_5\n",
              "0     1005000      939331.20\n",
              "1     1175000     1188578.00\n",
              "2      565000      569309.00\n",
              "3      950000      935994.39\n",
              "4      625000      592265.64\n",
              "5     1925000     1968527.70\n",
              "6    21150000    17070070.00\n",
              "7     2000000     1913754.02\n",
              "8      341000      309315.00\n",
              "9     1450000     1537127.42"
            ]
          },
          "metadata": {
            "tags": []
          },
          "execution_count": 57
        }
      ]
    },
    {
      "cell_type": "code",
      "metadata": {
        "colab": {
          "base_uri": "https://localhost:8080/",
          "height": 357
        },
        "id": "9qtWwemgMREN",
        "outputId": "1f40aeb8-d7df-455e-e08f-e725430144e6"
      },
      "source": [
        "# This is the final data frame of all the model prediction\n",
        "total_result_df = total_result_df.merge(result5_df, how='left', on='Sale_Price', left_index=True, right_index=True)\n",
        "total_result_df.head(10)"
      ],
      "execution_count": 58,
      "outputs": [
        {
          "output_type": "execute_result",
          "data": {
            "text/html": [
              "<div>\n",
              "<style scoped>\n",
              "    .dataframe tbody tr th:only-of-type {\n",
              "        vertical-align: middle;\n",
              "    }\n",
              "\n",
              "    .dataframe tbody tr th {\n",
              "        vertical-align: top;\n",
              "    }\n",
              "\n",
              "    .dataframe thead th {\n",
              "        text-align: right;\n",
              "    }\n",
              "</style>\n",
              "<table border=\"1\" class=\"dataframe\">\n",
              "  <thead>\n",
              "    <tr style=\"text-align: right;\">\n",
              "      <th></th>\n",
              "      <th>Sale_Price</th>\n",
              "      <th>Predict_Reg_1</th>\n",
              "      <th>Predict_Reg_2</th>\n",
              "      <th>Predict_NN_3</th>\n",
              "      <th>Predict_NN_4</th>\n",
              "      <th>Predict_rfr_5</th>\n",
              "    </tr>\n",
              "  </thead>\n",
              "  <tbody>\n",
              "    <tr>\n",
              "      <th>0</th>\n",
              "      <td>1005000</td>\n",
              "      <td>913,281.32</td>\n",
              "      <td>1,416,121.20</td>\n",
              "      <td>[929482.4]</td>\n",
              "      <td>[997677.2]</td>\n",
              "      <td>939331.20</td>\n",
              "    </tr>\n",
              "    <tr>\n",
              "      <th>1</th>\n",
              "      <td>1175000</td>\n",
              "      <td>1,219,022.44</td>\n",
              "      <td>1,559,513.55</td>\n",
              "      <td>[1226439.9]</td>\n",
              "      <td>[1393403.6]</td>\n",
              "      <td>1188578.00</td>\n",
              "    </tr>\n",
              "    <tr>\n",
              "      <th>2</th>\n",
              "      <td>565000</td>\n",
              "      <td>587,771.36</td>\n",
              "      <td>639,187.61</td>\n",
              "      <td>[593743.4]</td>\n",
              "      <td>[791725.94]</td>\n",
              "      <td>569309.00</td>\n",
              "    </tr>\n",
              "    <tr>\n",
              "      <th>3</th>\n",
              "      <td>950000</td>\n",
              "      <td>959,388.14</td>\n",
              "      <td>1,152,340.72</td>\n",
              "      <td>[968047.25]</td>\n",
              "      <td>[898820.56]</td>\n",
              "      <td>935994.39</td>\n",
              "    </tr>\n",
              "    <tr>\n",
              "      <th>4</th>\n",
              "      <td>625000</td>\n",
              "      <td>608,544.68</td>\n",
              "      <td>526,425.80</td>\n",
              "      <td>[588781.94]</td>\n",
              "      <td>[558029.5]</td>\n",
              "      <td>592265.64</td>\n",
              "    </tr>\n",
              "    <tr>\n",
              "      <th>5</th>\n",
              "      <td>1925000</td>\n",
              "      <td>1,872,278.90</td>\n",
              "      <td>965,161.08</td>\n",
              "      <td>[1872875.5]</td>\n",
              "      <td>[692399.94]</td>\n",
              "      <td>1968527.70</td>\n",
              "    </tr>\n",
              "    <tr>\n",
              "      <th>6</th>\n",
              "      <td>21150000</td>\n",
              "      <td>25,521,630.17</td>\n",
              "      <td>10,581,912.84</td>\n",
              "      <td>[25974288.0]</td>\n",
              "      <td>[6632790.5]</td>\n",
              "      <td>17070070.00</td>\n",
              "    </tr>\n",
              "    <tr>\n",
              "      <th>7</th>\n",
              "      <td>2000000</td>\n",
              "      <td>1,830,298.75</td>\n",
              "      <td>1,322,725.73</td>\n",
              "      <td>[1767240.1]</td>\n",
              "      <td>[1070321.1]</td>\n",
              "      <td>1913754.02</td>\n",
              "    </tr>\n",
              "    <tr>\n",
              "      <th>8</th>\n",
              "      <td>341000</td>\n",
              "      <td>321,158.59</td>\n",
              "      <td>564,749.91</td>\n",
              "      <td>[317636.84]</td>\n",
              "      <td>[710793.25]</td>\n",
              "      <td>309315.00</td>\n",
              "    </tr>\n",
              "    <tr>\n",
              "      <th>9</th>\n",
              "      <td>1450000</td>\n",
              "      <td>1,469,391.98</td>\n",
              "      <td>2,446,670.51</td>\n",
              "      <td>[1511867.1]</td>\n",
              "      <td>[1632470.9]</td>\n",
              "      <td>1537127.42</td>\n",
              "    </tr>\n",
              "  </tbody>\n",
              "</table>\n",
              "</div>"
            ],
            "text/plain": [
              "   Sale_Price  Predict_Reg_1  ... Predict_NN_4 Predict_rfr_5\n",
              "0     1005000     913,281.32  ...   [997677.2]     939331.20\n",
              "1     1175000   1,219,022.44  ...  [1393403.6]    1188578.00\n",
              "2      565000     587,771.36  ...  [791725.94]     569309.00\n",
              "3      950000     959,388.14  ...  [898820.56]     935994.39\n",
              "4      625000     608,544.68  ...   [558029.5]     592265.64\n",
              "5     1925000   1,872,278.90  ...  [692399.94]    1968527.70\n",
              "6    21150000  25,521,630.17  ...  [6632790.5]   17070070.00\n",
              "7     2000000   1,830,298.75  ...  [1070321.1]    1913754.02\n",
              "8      341000     321,158.59  ...  [710793.25]     309315.00\n",
              "9     1450000   1,469,391.98  ...  [1632470.9]    1537127.42\n",
              "\n",
              "[10 rows x 6 columns]"
            ]
          },
          "metadata": {
            "tags": []
          },
          "execution_count": 58
        }
      ]
    },
    {
      "cell_type": "code",
      "metadata": {
        "colab": {
          "base_uri": "https://localhost:8080/",
          "height": 350
        },
        "id": "mt2XujmnMqNR",
        "outputId": "0e00073a-4e76-4241-aebb-4b363aadbd02"
      },
      "source": [
        "import matplotlib.pyplot as plt\n",
        "plt.figure(figsize=(10,5))\n",
        "plt.plot(np.array(y5_pred))\n",
        "plt.plot(np.array(y_test))\n",
        "plt.title('Model 5: Random Forest with List_Price')\n",
        "plt.ylabel('Price')\n",
        "plt.xlabel('No. of Samples')\n",
        "plt.legend(['Predict_rfr_5', 'Sale_Price'], loc='upper right')\n",
        "plt.show()"
      ],
      "execution_count": 59,
      "outputs": [
        {
          "output_type": "display_data",
          "data": {
            "image/png": "[encoded data removed]",
            "text/plain": [
              "<Figure size 720x360 with 1 Axes>"
            ]
          },
          "metadata": {
            "tags": [],
            "needs_background": "light"
          }
        }
      ]
    },
    {
      "cell_type": "code",
      "metadata": {
        "colab": {
          "base_uri": "https://localhost:8080/"
        },
        "id": "PvCKYEm0I4eQ",
        "outputId": "a001ab78-7014-4bd8-db25-5699f3fd9f19"
      },
      "source": [
        "# Random forest determined feature importances\n",
        "model5.feature_importances_"
      ],
      "execution_count": 60,
      "outputs": [
        {
          "output_type": "execute_result",
          "data": {
            "text/plain": [
              "array([5.23279906e-03, 5.07124256e-03, 3.99934180e-03, 6.47785392e-04,\n",
              "       2.70180396e-04, 5.07258160e-04, 8.18177430e-04, 2.17664904e-03,\n",
              "       2.49548850e-06, 9.77467341e-01, 5.46698485e-04, 2.21515665e-07,\n",
              "       1.42763648e-06, 1.40960892e-04, 5.72096038e-06, 3.54239997e-07,\n",
              "       1.66584243e-06, 1.52090857e-04, 5.49741750e-07, 3.20374507e-04,\n",
              "       2.90732308e-07, 8.89574965e-07, 6.00960090e-06, 3.31151016e-06,\n",
              "       1.71624698e-06, 5.23225366e-04, 1.05967407e-06, 1.30778330e-05,\n",
              "       9.17874335e-06, 1.20795845e-05, 3.86434847e-07, 1.18735809e-05,\n",
              "       4.78765419e-05, 1.35546916e-04, 7.06933425e-06, 7.11029671e-06,\n",
              "       1.45457813e-03, 1.61135175e-07, 3.06157203e-04, 1.42895615e-05,\n",
              "       2.17740107e-06, 5.94340690e-05, 2.56613757e-06, 2.51918894e-06,\n",
              "       5.55601028e-06, 7.85299560e-06, 6.70932576e-07])"
            ]
          },
          "metadata": {
            "tags": []
          },
          "execution_count": 60
        }
      ]
    },
    {
      "cell_type": "code",
      "metadata": {
        "colab": {
          "base_uri": "https://localhost:8080/"
        },
        "id": "RjDEzVUJI-FA",
        "outputId": "5e604923-f740-4d09-98f1-dcb28b57cea2"
      },
      "source": [
        "importance = model5.feature_importances_\n",
        "\n",
        "# map feature importance values to the features\n",
        "feature_importances = zip(importance, X.columns)\n",
        "#list(feature_importances)\n",
        "\n",
        "sorted_feature_importances = sorted(feature_importances, reverse = True)\n",
        "#print(sorted_feature_importances)\n",
        "\n",
        "top_15_predictors = sorted_feature_importances[0:10]\n",
        "values = [value for value, predictors in top_15_predictors]\n",
        "predictors = [predictors for value, predictors in top_15_predictors]\n",
        "print(predictors)"
      ],
      "execution_count": 61,
      "outputs": [
        {
          "output_type": "stream",
          "text": [
            "['List_Price', 'SqFtTotal', 'Lot_Size', 'Age', 'DOM', 'county_San Mateo', 'BathsHalf', 'BathsTotal', 'county_Alameda', 'county_Orange']\n"
          ],
          "name": "stdout"
        }
      ]
    },
    {
      "cell_type": "code",
      "metadata": {
        "colab": {
          "base_uri": "https://localhost:8080/",
          "height": 363
        },
        "id": "MWf91sL3JF4m",
        "outputId": "8ae9a03a-452b-496e-cbd1-359df16c7901"
      },
      "source": [
        "# Plot the feature importances of the forest\n",
        "plt.figure()\n",
        "plt.title(\"Feature importances\")\n",
        "plt.bar(range(len(predictors)), values,color=\"r\", align=\"center\");\n",
        "plt.xticks(range(len(predictors)), predictors, rotation=90);"
      ],
      "execution_count": 62,
      "outputs": [
        {
          "output_type": "display_data",
          "data": {
            "image/png": "[encoded data removed]",
            "text/plain": [
              "<Figure size 432x288 with 1 Axes>"
            ]
          },
          "metadata": {
            "tags": [],
            "needs_background": "light"
          }
        }
      ]
    },
    {
      "cell_type": "markdown",
      "metadata": {
        "id": "QDExaVkIftfi"
      },
      "source": [
        "**Model 6** Random Forest without List_Price"
      ]
    },
    {
      "cell_type": "code",
      "metadata": {
        "id": "VNsL7Q5HIl2G"
      },
      "source": [
        "# Evaluate the model\n",
        "model6 = RandomForestRegressor(n_estimators = epochs_no, max_depth = 5, min_samples_leaf= 5, max_features = 'sqrt')  # using GridSearch\n",
        "model6 = RandomForestRegressor()\n",
        "model6.fit(X2_train, y_train) # gets the parameters for the rfr model\n",
        "# the predict() method is used to generate predictions\n",
        "y6_pred = model6.predict(X2_test) # <= X2 has no List_Price"
      ],
      "execution_count": 63,
      "outputs": []
    },
    {
      "cell_type": "code",
      "metadata": {
        "id": "MlW1TuRrIl9n",
        "colab": {
          "base_uri": "https://localhost:8080/"
        },
        "outputId": "7fca93ba-f41f-477d-df6a-dcec234d62f3"
      },
      "source": [
        "# evaluate the performance of the algorithm (MAE - MSE - RMSE)\n",
        "print('Model 6: Random Forest without List_Price')\n",
        "#print('Mean Absolute Error (MAE):', metrics.mean_absolute_error(y_test, y4_pred))  \n",
        "#print('Mean Squared Error (MSE):', metrics.mean_squared_error(y_test, y4_pred))  \n",
        "print('Root Mean Squared Error (RMSE):', np.sqrt(metrics.mean_squared_error(y_test, y6_pred)))\n",
        "print('Variance -- VarScore:', metrics.explained_variance_score(y_test,y6_pred))\n",
        "print(\"R squared(R2):\", metrics.r2_score(y_test, y6_pred))"
      ],
      "execution_count": 64,
      "outputs": [
        {
          "output_type": "stream",
          "text": [
            "Model 6: Random Forest without List_Price\n",
            "Root Mean Squared Error (RMSE): 949328.7929396116\n",
            "Variance -- VarScore: 0.6452786016290247\n",
            "R squared(R2): 0.64523957894399\n"
          ],
          "name": "stdout"
        }
      ]
    },
    {
      "cell_type": "code",
      "metadata": {
        "id": "7iAf_VyugZEr",
        "colab": {
          "base_uri": "https://localhost:8080/",
          "height": 357
        },
        "outputId": "c79edde8-d97f-469e-e4a6-b8bc0f8092fd"
      },
      "source": [
        "#df = create a df of Sales_Price and Prediction values\n",
        "result6_df = pd.DataFrame({\"Sale_Price\": [x for x in y_test], \"Predict_rfr_6\": [x for x in y6_pred]})\n",
        "result6_df.head(10)"
      ],
      "execution_count": 65,
      "outputs": [
        {
          "output_type": "execute_result",
          "data": {
            "text/html": [
              "<div>\n",
              "<style scoped>\n",
              "    .dataframe tbody tr th:only-of-type {\n",
              "        vertical-align: middle;\n",
              "    }\n",
              "\n",
              "    .dataframe tbody tr th {\n",
              "        vertical-align: top;\n",
              "    }\n",
              "\n",
              "    .dataframe thead th {\n",
              "        text-align: right;\n",
              "    }\n",
              "</style>\n",
              "<table border=\"1\" class=\"dataframe\">\n",
              "  <thead>\n",
              "    <tr style=\"text-align: right;\">\n",
              "      <th></th>\n",
              "      <th>Sale_Price</th>\n",
              "      <th>Predict_rfr_6</th>\n",
              "    </tr>\n",
              "  </thead>\n",
              "  <tbody>\n",
              "    <tr>\n",
              "      <th>0</th>\n",
              "      <td>1005000</td>\n",
              "      <td>1439304.00</td>\n",
              "    </tr>\n",
              "    <tr>\n",
              "      <th>1</th>\n",
              "      <td>1175000</td>\n",
              "      <td>1280957.00</td>\n",
              "    </tr>\n",
              "    <tr>\n",
              "      <th>2</th>\n",
              "      <td>565000</td>\n",
              "      <td>510560.00</td>\n",
              "    </tr>\n",
              "    <tr>\n",
              "      <th>3</th>\n",
              "      <td>950000</td>\n",
              "      <td>1070692.50</td>\n",
              "    </tr>\n",
              "    <tr>\n",
              "      <th>4</th>\n",
              "      <td>625000</td>\n",
              "      <td>701523.00</td>\n",
              "    </tr>\n",
              "    <tr>\n",
              "      <th>5</th>\n",
              "      <td>1925000</td>\n",
              "      <td>850446.62</td>\n",
              "    </tr>\n",
              "    <tr>\n",
              "      <th>6</th>\n",
              "      <td>21150000</td>\n",
              "      <td>10930275.00</td>\n",
              "    </tr>\n",
              "    <tr>\n",
              "      <th>7</th>\n",
              "      <td>2000000</td>\n",
              "      <td>1469297.85</td>\n",
              "    </tr>\n",
              "    <tr>\n",
              "      <th>8</th>\n",
              "      <td>341000</td>\n",
              "      <td>666331.33</td>\n",
              "    </tr>\n",
              "    <tr>\n",
              "      <th>9</th>\n",
              "      <td>1450000</td>\n",
              "      <td>1574130.00</td>\n",
              "    </tr>\n",
              "  </tbody>\n",
              "</table>\n",
              "</div>"
            ],
            "text/plain": [
              "   Sale_Price  Predict_rfr_6\n",
              "0     1005000     1439304.00\n",
              "1     1175000     1280957.00\n",
              "2      565000      510560.00\n",
              "3      950000     1070692.50\n",
              "4      625000      701523.00\n",
              "5     1925000      850446.62\n",
              "6    21150000    10930275.00\n",
              "7     2000000     1469297.85\n",
              "8      341000      666331.33\n",
              "9     1450000     1574130.00"
            ]
          },
          "metadata": {
            "tags": []
          },
          "execution_count": 65
        }
      ]
    },
    {
      "cell_type": "code",
      "metadata": {
        "id": "pLQEVEm8g0ye",
        "colab": {
          "base_uri": "https://localhost:8080/",
          "height": 350
        },
        "outputId": "7c0e9733-9e8b-42c1-d06d-cb1e3496b117"
      },
      "source": [
        "import matplotlib.pyplot as plt\n",
        "plt.figure(figsize=(10,5))\n",
        "plt.plot(np.array(y5_pred))\n",
        "plt.plot(np.array(y_test))\n",
        "plt.title('Model 6: Random Forest without List_Price')\n",
        "plt.ylabel('Price')\n",
        "plt.xlabel('No. of Samples')\n",
        "plt.legend(['Predict_rfr_6', 'Sale_Price'], loc='upper right')\n",
        "plt.show()"
      ],
      "execution_count": 66,
      "outputs": [
        {
          "output_type": "display_data",
          "data": {
            "image/png": "[encoded data removed]",
            "text/plain": [
              "<Figure size 720x360 with 1 Axes>"
            ]
          },
          "metadata": {
            "tags": [],
            "needs_background": "light"
          }
        }
      ]
    },
    {
      "cell_type": "code",
      "metadata": {
        "id": "Ua1BVZjYhVNu",
        "colab": {
          "base_uri": "https://localhost:8080/",
          "height": 407
        },
        "outputId": "60f22b21-e06e-4f14-afb0-03068a3e60c2"
      },
      "source": [
        "# Random forest determined feature importances\n",
        "model6.feature_importances_\n",
        "importance = model6.feature_importances_\n",
        "\n",
        "# map feature importance values to the features\n",
        "feature_importances = zip(importance, X.columns)\n",
        "#list(feature_importances)\n",
        "\n",
        "sorted_feature_importances = sorted(feature_importances, reverse = True)\n",
        "#print(sorted_feature_importances)\n",
        "\n",
        "top_15_predictors = sorted_feature_importances[0:10]\n",
        "values = [value for value, predictors in top_15_predictors]\n",
        "predictors = [predictors for value, predictors in top_15_predictors]\n",
        "print(predictors)\n",
        "\n",
        "# Plot the feature importances of the forest\n",
        "plt.figure()\n",
        "plt.title(\"Feature importances\")\n",
        "plt.bar(range(len(predictors)), values,color=\"r\", align=\"center\");\n",
        "plt.xticks(range(len(predictors)), predictors, rotation=90);"
      ],
      "execution_count": 67,
      "outputs": [
        {
          "output_type": "stream",
          "text": [
            "['SqFtTotal', 'Age', 'Lot_Size', 'county_Santa Barbara', 'county_San Luis Obispo', 'county_Madera', 'DOM', 'BathsTotal', 'BathsFull', 'BedsTotal']\n"
          ],
          "name": "stdout"
        },
        {
          "output_type": "display_data",
          "data": {
            "image/png": "[encoded data removed]",
            "text/plain": [
              "<Figure size 432x288 with 1 Axes>"
            ]
          },
          "metadata": {
            "tags": [],
            "needs_background": "light"
          }
        }
      ]
    },
    {
      "cell_type": "markdown",
      "metadata": {
        "id": "WDLgxbL-htXh"
      },
      "source": [
        "**Final Report**"
      ]
    },
    {
      "cell_type": "code",
      "metadata": {
        "id": "gfXDEV2qgZjC",
        "colab": {
          "base_uri": "https://localhost:8080/"
        },
        "outputId": "e0bf6f9d-0b7c-4312-bd30-f4c74c7f94cb"
      },
      "source": [
        "print(\"SUMMARY OF R2_SCORE\"'\\n')\n",
        "print(\"Model 1: Regression with List_Price:\", metrics.r2_score(y_test, y1_pred))\n",
        "print('')\n",
        "print(\"Model 2: Regression withOUT List_Price:\", metrics.r2_score(y_test, y2_pred))\n",
        "print('')\n",
        "print(\"Model 3: Neural Network with List_Price:\", metrics.r2_score(y_test, y3_pred))\n",
        "print('')\n",
        "print(\"Model 4: Neural Network withOUT List_Price:\", metrics.r2_score(y_test, y4_pred))\n",
        "print('')\n",
        "print(\"Model 5: Random Forest with List_Price:\", metrics.r2_score(y_test, y5_pred))\n",
        "print('')\n",
        "print(\"Model 6: Random Forest withOUT List_Price:\", metrics.r2_score(y_test, y6_pred))"
      ],
      "execution_count": 68,
      "outputs": [
        {
          "output_type": "stream",
          "text": [
            "SUMMARY OF R2_SCORE\n",
            "\n",
            "Model 1: Regression with List_Price: 0.9605332854433306\n",
            "\n",
            "Model 2: Regression withOUT List_Price: 0.6722142200798393\n",
            "\n",
            "Model 3: Neural Network with List_Price: 0.9515408731323525\n",
            "\n",
            "Model 4: Neural Network withOUT List_Price: 0.44249087024205247\n",
            "\n",
            "Model 5: Random Forest with List_Price: 0.9650218426634006\n",
            "\n",
            "Model 6: Random Forest withOUT List_Price: 0.64523957894399\n"
          ],
          "name": "stdout"
        }
      ]
    },
    {
      "cell_type": "code",
      "metadata": {
        "id": "MX2IYZj_h3nW",
        "colab": {
          "base_uri": "https://localhost:8080/",
          "height": 357
        },
        "outputId": "de591d0b-d5b1-46e2-cef6-e4920b9b70f2"
      },
      "source": [
        "# This is the final data frame of all the model prediction\n",
        "total_result_df = total_result_df.merge(result6_df, how='left', on='Sale_Price', left_index=True, right_index=True)\n",
        "total_result_df.head(10)"
      ],
      "execution_count": 69,
      "outputs": [
        {
          "output_type": "execute_result",
          "data": {
            "text/html": [
              "<div>\n",
              "<style scoped>\n",
              "    .dataframe tbody tr th:only-of-type {\n",
              "        vertical-align: middle;\n",
              "    }\n",
              "\n",
              "    .dataframe tbody tr th {\n",
              "        vertical-align: top;\n",
              "    }\n",
              "\n",
              "    .dataframe thead th {\n",
              "        text-align: right;\n",
              "    }\n",
              "</style>\n",
              "<table border=\"1\" class=\"dataframe\">\n",
              "  <thead>\n",
              "    <tr style=\"text-align: right;\">\n",
              "      <th></th>\n",
              "      <th>Sale_Price</th>\n",
              "      <th>Predict_Reg_1</th>\n",
              "      <th>Predict_Reg_2</th>\n",
              "      <th>Predict_NN_3</th>\n",
              "      <th>Predict_NN_4</th>\n",
              "      <th>Predict_rfr_5</th>\n",
              "      <th>Predict_rfr_6</th>\n",
              "    </tr>\n",
              "  </thead>\n",
              "  <tbody>\n",
              "    <tr>\n",
              "      <th>0</th>\n",
              "      <td>1005000</td>\n",
              "      <td>913,281.32</td>\n",
              "      <td>1,416,121.20</td>\n",
              "      <td>[929482.4]</td>\n",
              "      <td>[997677.2]</td>\n",
              "      <td>939331.20</td>\n",
              "      <td>1439304.00</td>\n",
              "    </tr>\n",
              "    <tr>\n",
              "      <th>1</th>\n",
              "      <td>1175000</td>\n",
              "      <td>1,219,022.44</td>\n",
              "      <td>1,559,513.55</td>\n",
              "      <td>[1226439.9]</td>\n",
              "      <td>[1393403.6]</td>\n",
              "      <td>1188578.00</td>\n",
              "      <td>1280957.00</td>\n",
              "    </tr>\n",
              "    <tr>\n",
              "      <th>2</th>\n",
              "      <td>565000</td>\n",
              "      <td>587,771.36</td>\n",
              "      <td>639,187.61</td>\n",
              "      <td>[593743.4]</td>\n",
              "      <td>[791725.94]</td>\n",
              "      <td>569309.00</td>\n",
              "      <td>510560.00</td>\n",
              "    </tr>\n",
              "    <tr>\n",
              "      <th>3</th>\n",
              "      <td>950000</td>\n",
              "      <td>959,388.14</td>\n",
              "      <td>1,152,340.72</td>\n",
              "      <td>[968047.25]</td>\n",
              "      <td>[898820.56]</td>\n",
              "      <td>935994.39</td>\n",
              "      <td>1070692.50</td>\n",
              "    </tr>\n",
              "    <tr>\n",
              "      <th>4</th>\n",
              "      <td>625000</td>\n",
              "      <td>608,544.68</td>\n",
              "      <td>526,425.80</td>\n",
              "      <td>[588781.94]</td>\n",
              "      <td>[558029.5]</td>\n",
              "      <td>592265.64</td>\n",
              "      <td>701523.00</td>\n",
              "    </tr>\n",
              "    <tr>\n",
              "      <th>5</th>\n",
              "      <td>1925000</td>\n",
              "      <td>1,872,278.90</td>\n",
              "      <td>965,161.08</td>\n",
              "      <td>[1872875.5]</td>\n",
              "      <td>[692399.94]</td>\n",
              "      <td>1968527.70</td>\n",
              "      <td>850446.62</td>\n",
              "    </tr>\n",
              "    <tr>\n",
              "      <th>6</th>\n",
              "      <td>21150000</td>\n",
              "      <td>25,521,630.17</td>\n",
              "      <td>10,581,912.84</td>\n",
              "      <td>[25974288.0]</td>\n",
              "      <td>[6632790.5]</td>\n",
              "      <td>17070070.00</td>\n",
              "      <td>10930275.00</td>\n",
              "    </tr>\n",
              "    <tr>\n",
              "      <th>7</th>\n",
              "      <td>2000000</td>\n",
              "      <td>1,830,298.75</td>\n",
              "      <td>1,322,725.73</td>\n",
              "      <td>[1767240.1]</td>\n",
              "      <td>[1070321.1]</td>\n",
              "      <td>1913754.02</td>\n",
              "      <td>1469297.85</td>\n",
              "    </tr>\n",
              "    <tr>\n",
              "      <th>8</th>\n",
              "      <td>341000</td>\n",
              "      <td>321,158.59</td>\n",
              "      <td>564,749.91</td>\n",
              "      <td>[317636.84]</td>\n",
              "      <td>[710793.25]</td>\n",
              "      <td>309315.00</td>\n",
              "      <td>666331.33</td>\n",
              "    </tr>\n",
              "    <tr>\n",
              "      <th>9</th>\n",
              "      <td>1450000</td>\n",
              "      <td>1,469,391.98</td>\n",
              "      <td>2,446,670.51</td>\n",
              "      <td>[1511867.1]</td>\n",
              "      <td>[1632470.9]</td>\n",
              "      <td>1537127.42</td>\n",
              "      <td>1574130.00</td>\n",
              "    </tr>\n",
              "  </tbody>\n",
              "</table>\n",
              "</div>"
            ],
            "text/plain": [
              "   Sale_Price  Predict_Reg_1  ... Predict_rfr_5 Predict_rfr_6\n",
              "0     1005000     913,281.32  ...     939331.20    1439304.00\n",
              "1     1175000   1,219,022.44  ...    1188578.00    1280957.00\n",
              "2      565000     587,771.36  ...     569309.00     510560.00\n",
              "3      950000     959,388.14  ...     935994.39    1070692.50\n",
              "4      625000     608,544.68  ...     592265.64     701523.00\n",
              "5     1925000   1,872,278.90  ...    1968527.70     850446.62\n",
              "6    21150000  25,521,630.17  ...   17070070.00   10930275.00\n",
              "7     2000000   1,830,298.75  ...    1913754.02    1469297.85\n",
              "8      341000     321,158.59  ...     309315.00     666331.33\n",
              "9     1450000   1,469,391.98  ...    1537127.42    1574130.00\n",
              "\n",
              "[10 rows x 7 columns]"
            ]
          },
          "metadata": {
            "tags": []
          },
          "execution_count": 69
        }
      ]
    },
    {
      "cell_type": "markdown",
      "metadata": {
        "id": "Xr5Eanle7jRy"
      },
      "source": [
        "**END of the ENd!**"
      ]
    }
  ]
}