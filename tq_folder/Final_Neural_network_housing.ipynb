{
  "nbformat": 4,
  "nbformat_minor": 0,
  "metadata": {
    "colab": {
      "name": "Final_Neural_network_housing.ipynb",
      "provenance": [],
      "collapsed_sections": []
    },
    "kernelspec": {
      "name": "python3",
      "display_name": "Python 3"
    },
    "language_info": {
      "name": "python"
    }
  },
  "cells": [
    {
      "cell_type": "code",
      "metadata": {
        "colab": {
          "base_uri": "https://localhost:8080/"
        },
        "id": "lFv5-T_zupnd",
        "outputId": "72e3a1af-8a53-454a-85cd-d4054fb3cf38"
      },
      "source": [
        "import os\n",
        "# Find the latest version of spark 3.0  from http://www.apache.org/dist/spark/ and enter as the spark version\n",
        "# For example:\n",
        "spark_version = 'spark-3.0.3'\n",
        "#spark_version = 'spark-3.<enter version>'\n",
        "os.environ['SPARK_VERSION']=spark_version\n",
        "\n",
        "# Install Spark and Java\n",
        "!apt-get update\n",
        "!apt-get install openjdk-11-jdk-headless -qq > /dev/null\n",
        "!wget -q http://www.apache.org/dist/spark/$SPARK_VERSION/$SPARK_VERSION-bin-hadoop2.7.tgz\n",
        "!tar xf $SPARK_VERSION-bin-hadoop2.7.tgz\n",
        "!pip install -q findspark\n",
        "\n",
        "# Set Environment Variables\n",
        "import os\n",
        "os.environ[\"JAVA_HOME\"] = \"/usr/lib/jvm/java-11-openjdk-amd64\"\n",
        "os.environ[\"SPARK_HOME\"] = f\"/content/{spark_version}-bin-hadoop2.7\"\n",
        "\n",
        "# Start a SparkSession\n",
        "import findspark\n",
        "findspark.init()"
      ],
      "execution_count": 1,
      "outputs": [
        {
          "output_type": "stream",
          "text": [
            "\r0% [Working]\r            \rHit:1 https://cloud.r-project.org/bin/linux/ubuntu bionic-cran40/ InRelease\n",
            "\r0% [Connecting to archive.ubuntu.com (91.189.88.142)] [Connecting to security.u\r0% [1 InRelease gpgv 3,626 B] [Waiting for headers] [Waiting for headers] [Wait\r                                                                               \rHit:2 http://security.ubuntu.com/ubuntu bionic-security InRelease\n",
            "Ign:3 https://developer.download.nvidia.com/compute/cuda/repos/ubuntu1804/x86_64  InRelease\n",
            "Hit:4 http://ppa.launchpad.net/c2d4u.team/c2d4u4.0+/ubuntu bionic InRelease\n",
            "Hit:5 http://archive.ubuntu.com/ubuntu bionic InRelease\n",
            "Ign:6 https://developer.download.nvidia.com/compute/machine-learning/repos/ubuntu1804/x86_64  InRelease\n",
            "Hit:7 https://developer.download.nvidia.com/compute/cuda/repos/ubuntu1804/x86_64  Release\n",
            "Hit:8 https://developer.download.nvidia.com/compute/machine-learning/repos/ubuntu1804/x86_64  Release\n",
            "Get:9 http://archive.ubuntu.com/ubuntu bionic-updates InRelease [88.7 kB]\n",
            "Hit:10 http://ppa.launchpad.net/cran/libgit2/ubuntu bionic InRelease\n",
            "Hit:11 http://ppa.launchpad.net/deadsnakes/ppa/ubuntu bionic InRelease\n",
            "Get:12 http://archive.ubuntu.com/ubuntu bionic-backports InRelease [74.6 kB]\n",
            "Hit:13 http://ppa.launchpad.net/graphics-drivers/ppa/ubuntu bionic InRelease\n",
            "Fetched 163 kB in 2s (72.3 kB/s)\n",
            "Reading package lists... Done\n"
          ],
          "name": "stdout"
        }
      ]
    },
    {
      "cell_type": "code",
      "metadata": {
        "colab": {
          "base_uri": "https://localhost:8080/"
        },
        "id": "Chcx1Hb5vNuS",
        "outputId": "a3c720b7-7697-4778-aa27-d341c73eb796"
      },
      "source": [
        "# First, enter the following code to download a Postgres driver that will allow Spark to interact with Postgres:\n",
        "!wget https://jdbc.postgresql.org/download/postgresql-42.2.16.jar"
      ],
      "execution_count": 2,
      "outputs": [
        {
          "output_type": "stream",
          "text": [
            "--2021-08-02 06:24:45--  https://jdbc.postgresql.org/download/postgresql-42.2.16.jar\n",
            "Resolving jdbc.postgresql.org (jdbc.postgresql.org)... 72.32.157.228, 2001:4800:3e1:1::228\n",
            "Connecting to jdbc.postgresql.org (jdbc.postgresql.org)|72.32.157.228|:443... connected.\n",
            "HTTP request sent, awaiting response... 200 OK\n",
            "Length: 1002883 (979K) [application/java-archive]\n",
            "Saving to: ‘postgresql-42.2.16.jar.4’\n",
            "\n",
            "postgresql-42.2.16. 100%[===================>] 979.38K  --.-KB/s    in 0.1s    \n",
            "\n",
            "2021-08-02 06:24:46 (6.60 MB/s) - ‘postgresql-42.2.16.jar.4’ saved [1002883/1002883]\n",
            "\n"
          ],
          "name": "stdout"
        }
      ]
    },
    {
      "cell_type": "code",
      "metadata": {
        "id": "x1fG3JpHGtlD"
      },
      "source": [
        "from pyspark.sql import SparkSession\n",
        "spark = SparkSession.builder.appName(\"Final_data\").config(\"spark.driver.extraClassPath\",\"/content/postgresql-42.2.16.jar\").getOrCreate()"
      ],
      "execution_count": 3,
      "outputs": []
    },
    {
      "cell_type": "code",
      "metadata": {
        "id": "-L7yMupXPGSn"
      },
      "source": [
        "# Load in a sql functions\n",
        "from pyspark.sql.functions import col, avg, sum, count, rand, randn, to_timestamp, format_number"
      ],
      "execution_count": 4,
      "outputs": []
    },
    {
      "cell_type": "code",
      "metadata": {
        "colab": {
          "base_uri": "https://localhost:8080/"
        },
        "id": "4lKF0Lk1nZ2-",
        "outputId": "13a18f6f-51b1-4105-8925-aae108a38597"
      },
      "source": [
        "# Read in data from S3 Buckets\n",
        "from pyspark import SparkFiles\n",
        "url = \"https://tq2cutebucket.s3.us-west-1.amazonaws.com/final_data.csv\"\n",
        "spark.sparkContext.addFile(url)\n",
        "df = spark.read.option(\"encoding\", \"UTF-8\").csv(SparkFiles.get(\"final_data.csv\"), sep=\",\", header=True, inferSchema=True)\n",
        "df.show()"
      ],
      "execution_count": 5,
      "outputs": [
        {
          "output_type": "stream",
          "text": [
            "+------------+--------------------+------------+--------+--------------+------------+---------+--------+---+----------+---------+---------+---------+---+---------+---------+----------+----------+--------------+--------------+----------+\n",
            "|  MLS_Number|      Street_Address|        City|Zip_Code|        county|County_Index|SqFtTotal|Lot_Size|Age|BathsTotal|BedsTotal|BathsFull|BathsHalf|DOM|Year_List|Year_Sold|List_Price|Sale_Price|  Listing_Date|     Sale_Date|Year_Built|\n",
            "+------------+--------------------+------------+--------+--------------+------------+---------+--------+---+----------+---------+---------+---------+---+---------+---------+----------+----------+--------------+--------------+----------+\n",
            "|  BE40950609|   2724 Foxglove Ct |  Pleasanton|   94588|       Alameda|           8|     2051|  2949.0| 23|         3|        4|        2|        1|  6|     2021|     2021|   1450000|   1625000|5/19/2021 0:00|5/25/2021 0:00|      1998|\n",
            "|  ML81845215|  7873 Chestnut WAY |  Pleasanton|   94588|       Alameda|           8|     1650|  7763.0| 48|         2|        4|        2|        0|  8|     2021|     2021|   1228888|   1650000|5/21/2021 0:00|5/29/2021 0:00|      1973|\n",
            "| ME202001823|3252 Rogue River DR |       Chico|   95973|         Butte|          11|     2216|  6098.0|  6|         2|        4|        2|        0| 37|     2020|     2020|    489000|    484000|6/18/2020 0:00|7/25/2020 0:00|      2015|\n",
            "| ME221053072|   6014 Steadman PL |   Elk Grove|   95758|    Sacramento|           4|     1404|  8346.0| 29|         2|        3|        2|        0|  2|     2021|     2021|    520000|    520000|5/17/2021 0:00|5/19/2021 0:00|      1992|\n",
            "| ME221054463|5834 Valley Sprin...|   Elk Grove|   95758|    Sacramento|           4|     2574|  6726.0| 32|         3|        4|        3|        0|  5|     2021|     2021|    559999|    595000|5/20/2021 0:00|5/25/2021 0:00|      1989|\n",
            "|CRIV21105150|39181 Trail Creek...|    Temecula|   92591|     Riverside|           1|     2389|  6098.0|  7|         3|        3|        3|        0|  6|     2021|     2021|    699900|    800000|5/17/2021 0:00|5/23/2021 0:00|      2014|\n",
            "|CRCV21108717| 651 W Terrylynn PL |  Long Beach|   90807|   Los Angeles|           0|     2189|  3120.0| 47|         2|        3|        2|        0|  4|     2021|     2021|    970000|   1056500|5/20/2021 0:00|5/24/2021 0:00|      1974|\n",
            "| ME221054451|         369 Eva CT |     Manteca|   95336|   San Joaquin|          10|     1142|  4999.0| 50|         2|        3|        2|        0|  8|     2021|     2021|    434950|    470000|5/20/2021 0:00|5/28/2021 0:00|      1971|\n",
            "| BA321047809|  145 Hawthorne AVE |    Larkspur|   94939|         Marin|          15|     1315|  5301.0|101|         1|        2|        1|        0| 11|     2021|     2021|   1799000|   2050000| 5/7/2021 0:00|5/18/2021 0:00|      1920|\n",
            "|  ML81844682|   2924 Congress RD |Pebble Beach|   93953|      Monterey|          24|     1833|  8700.0| 52|         3|        3|        2|        1|  5|     2021|     2021|   1399000|   1545000|5/19/2021 0:00|5/24/2021 0:00|      1969|\n",
            "| ME202000128|       1805 Ohio ST |     Gridley|   95948|         Butte|          11|     2538|  6970.0| 15|         4|        5|        3|        1|218|     2020|     2020|    335000|    335000|1/14/2020 0:00|8/19/2020 0:00|      2006|\n",
            "|CREV21115375|       588 Leafy LN |   Crestline|   92325|San Bernardino|           3|      565|  4500.0| 86|         1|        2|        1|        0|  0|     2021|     2021|    237000|    237000|5/28/2021 0:00|5/28/2021 0:00|      1935|\n",
            "| ME221053524|  14399 Tim Burr LN |Grass Valley|   95945|        Nevada|          27|     1938| 22216.0| 56|         2|        3|        2|        0|  9|     2021|     2021|    695000|    725000|5/19/2021 0:00|5/28/2021 0:00|      1965|\n",
            "| ME221050890|5148 Linda Lou Dr...|  Carmichael|   95608|    Sacramento|           4|     1456|  6970.0| 37|         2|        3|        2|        0|  3|     2021|     2021|    475000|    548000|5/19/2021 0:00|5/22/2021 0:00|      1984|\n",
            "|  ML81844669|1523 San Andreas ...|    San Jose|   95118|   Santa Clara|           7|     1144|  5822.0| 67|         2|        3|        2|        0|  8|     2021|     2021|   1199000|   1335555|5/19/2021 0:00|5/27/2021 0:00|      1954|\n",
            "|CRSN21105110|     4255 Stable LN |       Chico|   95973|         Butte|          11|     1729| 34412.0| 41|         2|        3|        2|        0|  6|     2021|     2021|    569900|    580000|5/17/2021 0:00|5/23/2021 0:00|      1980|\n",
            "|CRPW21106375| 2717 E Palmyra AVE |      Orange|   92869|        Orange|           2|     1814|  7850.0| 58|         2|        3|        2|        0|  5|     2021|     2021|    825000|    885000|5/18/2021 0:00|5/23/2021 0:00|      1963|\n",
            "| ME221055681|  1142 Elderwood DR |        Galt|   95632|    Sacramento|           4|     1218|  6499.0| 23|         2|        3|        2|        0|  3|     2021|     2021|    425000|    450000|5/21/2021 0:00|5/24/2021 0:00|      1998|\n",
            "|  EB40951076|        1331 Elm St |  El Cerrito|   94530|  Contra Costa|           6|      951|  3700.0| 73|         1|        2|        1|        0|  0|     2021|     2021|    900000|    900000|5/21/2021 0:00|5/21/2021 0:00|      1948|\n",
            "|  ML81845593|   1563 Piedmont RD |    San Jose|   95132|   Santa Clara|           7|     1811|  6552.0| 48|         2|        5|        2|        0|  0|     2021|     2021|   1000000|   1000000|5/24/2021 0:00|5/24/2021 0:00|      1973|\n",
            "+------------+--------------------+------------+--------+--------------+------------+---------+--------+---+----------+---------+---------+---------+---+---------+---------+----------+----------+--------------+--------------+----------+\n",
            "only showing top 20 rows\n",
            "\n"
          ],
          "name": "stdout"
        }
      ]
    },
    {
      "cell_type": "code",
      "metadata": {
        "colab": {
          "base_uri": "https://localhost:8080/"
        },
        "id": "yV-FPbfxoYEr",
        "outputId": "d02e7ac8-484a-4f7e-caf1-3c3803b251db"
      },
      "source": [
        "# import sql function pyspark\n",
        "import pyspark.sql.functions as f\n",
        "\n",
        "# null values in each column\n",
        "data_agg = df.agg(*[f.count(f.when(f.isnull(c), c)).alias(c) for c in df.columns])\n",
        "data_agg.show()"
      ],
      "execution_count": 6,
      "outputs": [
        {
          "output_type": "stream",
          "text": [
            "+----------+--------------+----+--------+------+------------+---------+--------+---+----------+---------+---------+---------+---+---------+---------+----------+----------+------------+---------+----------+\n",
            "|MLS_Number|Street_Address|City|Zip_Code|county|County_Index|SqFtTotal|Lot_Size|Age|BathsTotal|BedsTotal|BathsFull|BathsHalf|DOM|Year_List|Year_Sold|List_Price|Sale_Price|Listing_Date|Sale_Date|Year_Built|\n",
            "+----------+--------------+----+--------+------+------------+---------+--------+---+----------+---------+---------+---------+---+---------+---------+----------+----------+------------+---------+----------+\n",
            "|         0|             0|  44|       0|     0|           0|        0|       0|  0|         0|        0|        0|        0|  0|        0|        0|         0|         0|           0|        0|         0|\n",
            "+----------+--------------+----+--------+------+------------+---------+--------+---+----------+---------+---------+---------+---+---------+---------+----------+----------+------------+---------+----------+\n",
            "\n"
          ],
          "name": "stdout"
        }
      ]
    },
    {
      "cell_type": "code",
      "metadata": {
        "colab": {
          "base_uri": "https://localhost:8080/"
        },
        "id": "y8Ali63JgPLl",
        "outputId": "42d68dcb-779f-4d31-ca1c-41a6254c772e"
      },
      "source": [
        "#import pandas\n",
        "import pandas as pd\n",
        "import numpy as np\n",
        "from sqlalchemy import create_engine\n",
        "df.count()"
      ],
      "execution_count": 7,
      "outputs": [
        {
          "output_type": "execute_result",
          "data": {
            "text/plain": [
              "4269"
            ]
          },
          "metadata": {
            "tags": []
          },
          "execution_count": 7
        }
      ]
    },
    {
      "cell_type": "code",
      "metadata": {
        "colab": {
          "base_uri": "https://localhost:8080/"
        },
        "id": "RH3xSLjCmwg0",
        "outputId": "6d980e81-adf6-44d0-8a6c-4bd32c07659b"
      },
      "source": [
        "df.printSchema()"
      ],
      "execution_count": 8,
      "outputs": [
        {
          "output_type": "stream",
          "text": [
            "root\n",
            " |-- MLS_Number: string (nullable = true)\n",
            " |-- Street_Address: string (nullable = true)\n",
            " |-- City: string (nullable = true)\n",
            " |-- Zip_Code: integer (nullable = true)\n",
            " |-- county: string (nullable = true)\n",
            " |-- County_Index: integer (nullable = true)\n",
            " |-- SqFtTotal: integer (nullable = true)\n",
            " |-- Lot_Size: double (nullable = true)\n",
            " |-- Age: integer (nullable = true)\n",
            " |-- BathsTotal: integer (nullable = true)\n",
            " |-- BedsTotal: integer (nullable = true)\n",
            " |-- BathsFull: integer (nullable = true)\n",
            " |-- BathsHalf: integer (nullable = true)\n",
            " |-- DOM: integer (nullable = true)\n",
            " |-- Year_List: integer (nullable = true)\n",
            " |-- Year_Sold: integer (nullable = true)\n",
            " |-- List_Price: integer (nullable = true)\n",
            " |-- Sale_Price: integer (nullable = true)\n",
            " |-- Listing_Date: string (nullable = true)\n",
            " |-- Sale_Date: string (nullable = true)\n",
            " |-- Year_Built: integer (nullable = true)\n",
            "\n"
          ],
          "name": "stdout"
        }
      ]
    },
    {
      "cell_type": "code",
      "metadata": {
        "id": "G2wR6iQ6m_0c"
      },
      "source": [
        "# Transpose for easy reading, but it takes lots of times\n",
        "# df.describe().toPandas().transpose()"
      ],
      "execution_count": 9,
      "outputs": []
    },
    {
      "cell_type": "code",
      "metadata": {
        "colab": {
          "base_uri": "https://localhost:8080/"
        },
        "id": "rW_FGhjAIgZT",
        "outputId": "3dacbcb0-0d18-4981-d500-e1c33f1b5577"
      },
      "source": [
        "# Select the column needed\n",
        "#reg_df = df.select('MLS_Number','Street_Address','City','Zip_Code','county','County_Index','SqFtTotal','Lot_Size','Age','BathsTotal','BedsTotal','BathsFull','BathsHalf','DOM','Year_List','Year_Sold','List_Price','Sale_Price','Listing_Date','Sale_Date','Year_Built')\n",
        "reg_df = df.select('County_Index','SqFtTotal','Lot_Size','Age','BedsTotal','BathsTotal','DOM','Year_Sold','List_Price','Sale_Price')\n",
        "reg_df.show()\n",
        "reg_df.count()"
      ],
      "execution_count": 10,
      "outputs": [
        {
          "output_type": "stream",
          "text": [
            "+------------+---------+--------+---+---------+----------+---+---------+----------+----------+\n",
            "|County_Index|SqFtTotal|Lot_Size|Age|BedsTotal|BathsTotal|DOM|Year_Sold|List_Price|Sale_Price|\n",
            "+------------+---------+--------+---+---------+----------+---+---------+----------+----------+\n",
            "|           8|     2051|  2949.0| 23|        4|         3|  6|     2021|   1450000|   1625000|\n",
            "|           8|     1650|  7763.0| 48|        4|         2|  8|     2021|   1228888|   1650000|\n",
            "|          11|     2216|  6098.0|  6|        4|         2| 37|     2020|    489000|    484000|\n",
            "|           4|     1404|  8346.0| 29|        3|         2|  2|     2021|    520000|    520000|\n",
            "|           4|     2574|  6726.0| 32|        4|         3|  5|     2021|    559999|    595000|\n",
            "|           1|     2389|  6098.0|  7|        3|         3|  6|     2021|    699900|    800000|\n",
            "|           0|     2189|  3120.0| 47|        3|         2|  4|     2021|    970000|   1056500|\n",
            "|          10|     1142|  4999.0| 50|        3|         2|  8|     2021|    434950|    470000|\n",
            "|          15|     1315|  5301.0|101|        2|         1| 11|     2021|   1799000|   2050000|\n",
            "|          24|     1833|  8700.0| 52|        3|         3|  5|     2021|   1399000|   1545000|\n",
            "|          11|     2538|  6970.0| 15|        5|         4|218|     2020|    335000|    335000|\n",
            "|           3|      565|  4500.0| 86|        2|         1|  0|     2021|    237000|    237000|\n",
            "|          27|     1938| 22216.0| 56|        3|         2|  9|     2021|    695000|    725000|\n",
            "|           4|     1456|  6970.0| 37|        3|         2|  3|     2021|    475000|    548000|\n",
            "|           7|     1144|  5822.0| 67|        3|         2|  8|     2021|   1199000|   1335555|\n",
            "|          11|     1729| 34412.0| 41|        3|         2|  6|     2021|    569900|    580000|\n",
            "|           2|     1814|  7850.0| 58|        3|         2|  5|     2021|    825000|    885000|\n",
            "|           4|     1218|  6499.0| 23|        3|         2|  3|     2021|    425000|    450000|\n",
            "|           6|      951|  3700.0| 73|        2|         1|  0|     2021|    900000|    900000|\n",
            "|           7|     1811|  6552.0| 48|        5|         2|  0|     2021|   1000000|   1000000|\n",
            "+------------+---------+--------+---+---------+----------+---+---------+----------+----------+\n",
            "only showing top 20 rows\n",
            "\n"
          ],
          "name": "stdout"
        },
        {
          "output_type": "execute_result",
          "data": {
            "text/plain": [
              "4269"
            ]
          },
          "metadata": {
            "tags": []
          },
          "execution_count": 10
        }
      ]
    },
    {
      "cell_type": "code",
      "metadata": {
        "colab": {
          "base_uri": "https://localhost:8080/"
        },
        "id": "4x5z1gyM3OEw",
        "outputId": "3424a2a2-24b3-4948-9317-cc69435d8109"
      },
      "source": [
        "type(reg_df)"
      ],
      "execution_count": 11,
      "outputs": [
        {
          "output_type": "execute_result",
          "data": {
            "text/plain": [
              "pyspark.sql.dataframe.DataFrame"
            ]
          },
          "metadata": {
            "tags": []
          },
          "execution_count": 11
        }
      ]
    },
    {
      "cell_type": "code",
      "metadata": {
        "colab": {
          "base_uri": "https://localhost:8080/",
          "height": 417
        },
        "id": "BrJv09Ok3bxK",
        "outputId": "c0fb92ae-9611-4a50-e18b-ea94696586a8"
      },
      "source": [
        "reg_pd_df=reg_df.toPandas()\n",
        "reg_pd_df"
      ],
      "execution_count": 12,
      "outputs": [
        {
          "output_type": "execute_result",
          "data": {
            "text/html": [
              "<div>\n",
              "<style scoped>\n",
              "    .dataframe tbody tr th:only-of-type {\n",
              "        vertical-align: middle;\n",
              "    }\n",
              "\n",
              "    .dataframe tbody tr th {\n",
              "        vertical-align: top;\n",
              "    }\n",
              "\n",
              "    .dataframe thead th {\n",
              "        text-align: right;\n",
              "    }\n",
              "</style>\n",
              "<table border=\"1\" class=\"dataframe\">\n",
              "  <thead>\n",
              "    <tr style=\"text-align: right;\">\n",
              "      <th></th>\n",
              "      <th>County_Index</th>\n",
              "      <th>SqFtTotal</th>\n",
              "      <th>Lot_Size</th>\n",
              "      <th>Age</th>\n",
              "      <th>BedsTotal</th>\n",
              "      <th>BathsTotal</th>\n",
              "      <th>DOM</th>\n",
              "      <th>Year_Sold</th>\n",
              "      <th>List_Price</th>\n",
              "      <th>Sale_Price</th>\n",
              "    </tr>\n",
              "  </thead>\n",
              "  <tbody>\n",
              "    <tr>\n",
              "      <th>0</th>\n",
              "      <td>8</td>\n",
              "      <td>2051</td>\n",
              "      <td>2949.0</td>\n",
              "      <td>23</td>\n",
              "      <td>4</td>\n",
              "      <td>3</td>\n",
              "      <td>6</td>\n",
              "      <td>2021</td>\n",
              "      <td>1450000</td>\n",
              "      <td>1625000</td>\n",
              "    </tr>\n",
              "    <tr>\n",
              "      <th>1</th>\n",
              "      <td>8</td>\n",
              "      <td>1650</td>\n",
              "      <td>7763.0</td>\n",
              "      <td>48</td>\n",
              "      <td>4</td>\n",
              "      <td>2</td>\n",
              "      <td>8</td>\n",
              "      <td>2021</td>\n",
              "      <td>1228888</td>\n",
              "      <td>1650000</td>\n",
              "    </tr>\n",
              "    <tr>\n",
              "      <th>2</th>\n",
              "      <td>11</td>\n",
              "      <td>2216</td>\n",
              "      <td>6098.0</td>\n",
              "      <td>6</td>\n",
              "      <td>4</td>\n",
              "      <td>2</td>\n",
              "      <td>37</td>\n",
              "      <td>2020</td>\n",
              "      <td>489000</td>\n",
              "      <td>484000</td>\n",
              "    </tr>\n",
              "    <tr>\n",
              "      <th>3</th>\n",
              "      <td>4</td>\n",
              "      <td>1404</td>\n",
              "      <td>8346.0</td>\n",
              "      <td>29</td>\n",
              "      <td>3</td>\n",
              "      <td>2</td>\n",
              "      <td>2</td>\n",
              "      <td>2021</td>\n",
              "      <td>520000</td>\n",
              "      <td>520000</td>\n",
              "    </tr>\n",
              "    <tr>\n",
              "      <th>4</th>\n",
              "      <td>4</td>\n",
              "      <td>2574</td>\n",
              "      <td>6726.0</td>\n",
              "      <td>32</td>\n",
              "      <td>4</td>\n",
              "      <td>3</td>\n",
              "      <td>5</td>\n",
              "      <td>2021</td>\n",
              "      <td>559999</td>\n",
              "      <td>595000</td>\n",
              "    </tr>\n",
              "    <tr>\n",
              "      <th>...</th>\n",
              "      <td>...</td>\n",
              "      <td>...</td>\n",
              "      <td>...</td>\n",
              "      <td>...</td>\n",
              "      <td>...</td>\n",
              "      <td>...</td>\n",
              "      <td>...</td>\n",
              "      <td>...</td>\n",
              "      <td>...</td>\n",
              "      <td>...</td>\n",
              "    </tr>\n",
              "    <tr>\n",
              "      <th>4264</th>\n",
              "      <td>5</td>\n",
              "      <td>2528</td>\n",
              "      <td>348474.0</td>\n",
              "      <td>25</td>\n",
              "      <td>2</td>\n",
              "      <td>3</td>\n",
              "      <td>8</td>\n",
              "      <td>2021</td>\n",
              "      <td>675000</td>\n",
              "      <td>675000</td>\n",
              "    </tr>\n",
              "    <tr>\n",
              "      <th>4265</th>\n",
              "      <td>5</td>\n",
              "      <td>1580</td>\n",
              "      <td>10095.0</td>\n",
              "      <td>35</td>\n",
              "      <td>4</td>\n",
              "      <td>2</td>\n",
              "      <td>32</td>\n",
              "      <td>2021</td>\n",
              "      <td>578000</td>\n",
              "      <td>578000</td>\n",
              "    </tr>\n",
              "    <tr>\n",
              "      <th>4266</th>\n",
              "      <td>5</td>\n",
              "      <td>1899</td>\n",
              "      <td>4401.0</td>\n",
              "      <td>33</td>\n",
              "      <td>2</td>\n",
              "      <td>3</td>\n",
              "      <td>15</td>\n",
              "      <td>2021</td>\n",
              "      <td>750000</td>\n",
              "      <td>750000</td>\n",
              "    </tr>\n",
              "    <tr>\n",
              "      <th>4267</th>\n",
              "      <td>11</td>\n",
              "      <td>1830</td>\n",
              "      <td>27007.0</td>\n",
              "      <td>74</td>\n",
              "      <td>5</td>\n",
              "      <td>2</td>\n",
              "      <td>426</td>\n",
              "      <td>2020</td>\n",
              "      <td>375000</td>\n",
              "      <td>311770</td>\n",
              "    </tr>\n",
              "    <tr>\n",
              "      <th>4268</th>\n",
              "      <td>4</td>\n",
              "      <td>1100</td>\n",
              "      <td>7345.0</td>\n",
              "      <td>62</td>\n",
              "      <td>3</td>\n",
              "      <td>2</td>\n",
              "      <td>5</td>\n",
              "      <td>2021</td>\n",
              "      <td>299995</td>\n",
              "      <td>385000</td>\n",
              "    </tr>\n",
              "  </tbody>\n",
              "</table>\n",
              "<p>4269 rows × 10 columns</p>\n",
              "</div>"
            ],
            "text/plain": [
              "      County_Index  SqFtTotal  Lot_Size  ...  Year_Sold  List_Price  Sale_Price\n",
              "0                8       2051    2949.0  ...       2021     1450000     1625000\n",
              "1                8       1650    7763.0  ...       2021     1228888     1650000\n",
              "2               11       2216    6098.0  ...       2020      489000      484000\n",
              "3                4       1404    8346.0  ...       2021      520000      520000\n",
              "4                4       2574    6726.0  ...       2021      559999      595000\n",
              "...            ...        ...       ...  ...        ...         ...         ...\n",
              "4264             5       2528  348474.0  ...       2021      675000      675000\n",
              "4265             5       1580   10095.0  ...       2021      578000      578000\n",
              "4266             5       1899    4401.0  ...       2021      750000      750000\n",
              "4267            11       1830   27007.0  ...       2020      375000      311770\n",
              "4268             4       1100    7345.0  ...       2021      299995      385000\n",
              "\n",
              "[4269 rows x 10 columns]"
            ]
          },
          "metadata": {
            "tags": []
          },
          "execution_count": 12
        }
      ]
    },
    {
      "cell_type": "code",
      "metadata": {
        "colab": {
          "base_uri": "https://localhost:8080/"
        },
        "id": "vrnhefRDJXFl",
        "outputId": "36023f98-62b5-41b9-90a5-9cd8b02e62cb"
      },
      "source": [
        "data_array = np.array(reg_df.collect())\n",
        "data_array"
      ],
      "execution_count": 13,
      "outputs": [
        {
          "output_type": "execute_result",
          "data": {
            "text/plain": [
              "array([[8.000000e+00, 2.051000e+03, 2.949000e+03, ..., 2.021000e+03,\n",
              "        1.450000e+06, 1.625000e+06],\n",
              "       [8.000000e+00, 1.650000e+03, 7.763000e+03, ..., 2.021000e+03,\n",
              "        1.228888e+06, 1.650000e+06],\n",
              "       [1.100000e+01, 2.216000e+03, 6.098000e+03, ..., 2.020000e+03,\n",
              "        4.890000e+05, 4.840000e+05],\n",
              "       ...,\n",
              "       [5.000000e+00, 1.899000e+03, 4.401000e+03, ..., 2.021000e+03,\n",
              "        7.500000e+05, 7.500000e+05],\n",
              "       [1.100000e+01, 1.830000e+03, 2.700700e+04, ..., 2.020000e+03,\n",
              "        3.750000e+05, 3.117700e+05],\n",
              "       [4.000000e+00, 1.100000e+03, 7.345000e+03, ..., 2.021000e+03,\n",
              "        2.999950e+05, 3.850000e+05]])"
            ]
          },
          "metadata": {
            "tags": []
          },
          "execution_count": 13
        }
      ]
    },
    {
      "cell_type": "code",
      "metadata": {
        "colab": {
          "base_uri": "https://localhost:8080/"
        },
        "id": "NwB9lojkJXwn",
        "outputId": "96e769d1-70f1-4dd4-aef0-a5fdddd79fd7"
      },
      "source": [
        "X = data_array[1:4269:,0:9]\n",
        "y = data_array[1:4269:,9:10]\n",
        "print(X)\n",
        "print(y)"
      ],
      "execution_count": 14,
      "outputs": [
        {
          "output_type": "stream",
          "text": [
            "[[8.000000e+00 1.650000e+03 7.763000e+03 ... 8.000000e+00 2.021000e+03\n",
            "  1.228888e+06]\n",
            " [1.100000e+01 2.216000e+03 6.098000e+03 ... 3.700000e+01 2.020000e+03\n",
            "  4.890000e+05]\n",
            " [4.000000e+00 1.404000e+03 8.346000e+03 ... 2.000000e+00 2.021000e+03\n",
            "  5.200000e+05]\n",
            " ...\n",
            " [5.000000e+00 1.899000e+03 4.401000e+03 ... 1.500000e+01 2.021000e+03\n",
            "  7.500000e+05]\n",
            " [1.100000e+01 1.830000e+03 2.700700e+04 ... 4.260000e+02 2.020000e+03\n",
            "  3.750000e+05]\n",
            " [4.000000e+00 1.100000e+03 7.345000e+03 ... 5.000000e+00 2.021000e+03\n",
            "  2.999950e+05]]\n",
            "[[1650000.]\n",
            " [ 484000.]\n",
            " [ 520000.]\n",
            " ...\n",
            " [ 750000.]\n",
            " [ 311770.]\n",
            " [ 385000.]]\n"
          ],
          "name": "stdout"
        }
      ]
    },
    {
      "cell_type": "code",
      "metadata": {
        "id": "zIKRxfBvNljR"
      },
      "source": [
        "from sklearn.model_selection import train_test_split\n",
        "X_train, X_test, y_train, y_test = train_test_split(X, y, test_size=0.02, random_state=1)"
      ],
      "execution_count": 15,
      "outputs": []
    },
    {
      "cell_type": "code",
      "metadata": {
        "colab": {
          "base_uri": "https://localhost:8080/"
        },
        "id": "nL2yRX8IOpj1",
        "outputId": "af5dec23-59b6-4598-b315-c88138b445b4"
      },
      "source": [
        "print(X_train.shape, X_test.shape, y_train.shape, y_test.shape)"
      ],
      "execution_count": 16,
      "outputs": [
        {
          "output_type": "stream",
          "text": [
            "(4182, 9) (86, 9) (4182, 1) (86, 1)\n"
          ],
          "name": "stdout"
        }
      ]
    },
    {
      "cell_type": "code",
      "metadata": {
        "id": "PjIXHdIWPKC_"
      },
      "source": [
        "from keras.models import Sequential\n",
        "from keras.layers import Dense"
      ],
      "execution_count": 17,
      "outputs": []
    },
    {
      "cell_type": "markdown",
      "metadata": {
        "id": "EPq76Q9zWgvR"
      },
      "source": [
        "**GOOD WORKING MODEL**\n"
      ]
    },
    {
      "cell_type": "code",
      "metadata": {
        "id": "YybTzPG8Prgt"
      },
      "source": [
        "model = Sequential([\n",
        "    Dense(9, activation='relu', input_shape=(9,)),\n",
        "    Dense(1, activation='relu')\n",
        "])\n"
      ],
      "execution_count": 18,
      "outputs": []
    },
    {
      "cell_type": "code",
      "metadata": {
        "id": "cllWutqEQhTT"
      },
      "source": [
        "model.compile(optimizer='Adam',\n",
        "              loss='MSE',\n",
        "              metrics=['MSE'])\n",
        "\n",
        "#model.compile(optimizer='sgd',\n",
        "#              loss='binary_crossentropy',\n",
        "#              metrics=['accuracy'])\n",
        "\n",
        "# optimizer: RMSPROP, SGD, AdaGrad, Adadelta, Adam\n",
        "# loss function: MSE, BCE, CC, SCC\n",
        "# metrics: MSE, accuracy, Log Loss,"
      ],
      "execution_count": 19,
      "outputs": []
    },
    {
      "cell_type": "code",
      "metadata": {
        "colab": {
          "base_uri": "https://localhost:8080/"
        },
        "id": "59dKSLwVQu03",
        "outputId": "8d20b00d-5bcb-493f-abf9-de49f05ec80d"
      },
      "source": [
        "hist = model.fit(X_train, y_train,\n",
        "          batch_size=32, epochs=50,\n",
        "          validation_data=(X_test, y_test))"
      ],
      "execution_count": 20,
      "outputs": [
        {
          "output_type": "stream",
          "text": [
            "Epoch 1/50\n",
            "131/131 [==============================] - 13s 4ms/step - loss: 2929632298449.4546 - MSE: 2929632298449.4546 - val_loss: 2017702182912.0000 - val_MSE: 2017702182912.0000\n",
            "Epoch 2/50\n",
            "131/131 [==============================] - 0s 1ms/step - loss: 2908757064735.0303 - MSE: 2908757064735.0303 - val_loss: 2017702182912.0000 - val_MSE: 2017702182912.0000\n",
            "Epoch 3/50\n",
            "131/131 [==============================] - 0s 1ms/step - loss: 2515622339304.7271 - MSE: 2515622339304.7271 - val_loss: 2017702182912.0000 - val_MSE: 2017702182912.0000\n",
            "Epoch 4/50\n",
            "131/131 [==============================] - 0s 2ms/step - loss: 2279255568508.1211 - MSE: 2279255568508.1211 - val_loss: 2017702182912.0000 - val_MSE: 2017702182912.0000\n",
            "Epoch 5/50\n",
            "131/131 [==============================] - 0s 1ms/step - loss: 2200501767571.3940 - MSE: 2200501767571.3940 - val_loss: 2017702182912.0000 - val_MSE: 2017702182912.0000\n",
            "Epoch 6/50\n",
            "131/131 [==============================] - 0s 1ms/step - loss: 2564579292253.0908 - MSE: 2564579292253.0908 - val_loss: 2017702182912.0000 - val_MSE: 2017702182912.0000\n",
            "Epoch 7/50\n",
            "131/131 [==============================] - 0s 1ms/step - loss: 2383329720382.0605 - MSE: 2383329720382.0605 - val_loss: 2017702182912.0000 - val_MSE: 2017702182912.0000\n",
            "Epoch 8/50\n",
            "131/131 [==============================] - 0s 2ms/step - loss: 2251337208676.8486 - MSE: 2251337208676.8486 - val_loss: 2017702182912.0000 - val_MSE: 2017702182912.0000\n",
            "Epoch 9/50\n",
            "131/131 [==============================] - 0s 1ms/step - loss: 2583632092935.7578 - MSE: 2583632092935.7578 - val_loss: 2017702182912.0000 - val_MSE: 2017702182912.0000\n",
            "Epoch 10/50\n",
            "131/131 [==============================] - 0s 1ms/step - loss: 2611411141104.4849 - MSE: 2611411141104.4849 - val_loss: 2017702182912.0000 - val_MSE: 2017702182912.0000\n",
            "Epoch 11/50\n",
            "131/131 [==============================] - 0s 1ms/step - loss: 2562680076846.5454 - MSE: 2562680076846.5454 - val_loss: 2017702182912.0000 - val_MSE: 2017702182912.0000\n",
            "Epoch 12/50\n",
            "131/131 [==============================] - 0s 1ms/step - loss: 2230428680688.4849 - MSE: 2230428680688.4849 - val_loss: 2017702182912.0000 - val_MSE: 2017702182912.0000\n",
            "Epoch 13/50\n",
            "131/131 [==============================] - 0s 2ms/step - loss: 2305280262640.4849 - MSE: 2305280262640.4849 - val_loss: 2017702182912.0000 - val_MSE: 2017702182912.0000\n",
            "Epoch 14/50\n",
            "131/131 [==============================] - 0s 1ms/step - loss: 3494588045622.3032 - MSE: 3494588045622.3032 - val_loss: 2017702182912.0000 - val_MSE: 2017702182912.0000\n",
            "Epoch 15/50\n",
            "131/131 [==============================] - 0s 2ms/step - loss: 2141225000711.7576 - MSE: 2141225000711.7576 - val_loss: 2017702182912.0000 - val_MSE: 2017702182912.0000\n",
            "Epoch 16/50\n",
            "131/131 [==============================] - 0s 1ms/step - loss: 2379009728263.7578 - MSE: 2379009728263.7578 - val_loss: 2017702182912.0000 - val_MSE: 2017702182912.0000\n",
            "Epoch 17/50\n",
            "131/131 [==============================] - 0s 1ms/step - loss: 2279795996237.5757 - MSE: 2279795996237.5757 - val_loss: 2017702182912.0000 - val_MSE: 2017702182912.0000\n",
            "Epoch 18/50\n",
            "131/131 [==============================] - 0s 1ms/step - loss: 2508184264455.7578 - MSE: 2508184264455.7578 - val_loss: 2017702182912.0000 - val_MSE: 2017702182912.0000\n",
            "Epoch 19/50\n",
            "131/131 [==============================] - 0s 2ms/step - loss: 2401867753658.1816 - MSE: 2401867753658.1816 - val_loss: 2017702182912.0000 - val_MSE: 2017702182912.0000\n",
            "Epoch 20/50\n",
            "131/131 [==============================] - 0s 1ms/step - loss: 2772961194108.1211 - MSE: 2772961194108.1211 - val_loss: 2017702182912.0000 - val_MSE: 2017702182912.0000\n",
            "Epoch 21/50\n",
            "131/131 [==============================] - 0s 1ms/step - loss: 2834291963469.5757 - MSE: 2834291963469.5757 - val_loss: 2017702182912.0000 - val_MSE: 2017702182912.0000\n",
            "Epoch 22/50\n",
            "131/131 [==============================] - 0s 1ms/step - loss: 2529991424062.0605 - MSE: 2529991424062.0605 - val_loss: 2017702182912.0000 - val_MSE: 2017702182912.0000\n",
            "Epoch 23/50\n",
            "131/131 [==============================] - 0s 1ms/step - loss: 2561059971320.2422 - MSE: 2561059971320.2422 - val_loss: 2017702182912.0000 - val_MSE: 2017702182912.0000\n",
            "Epoch 24/50\n",
            "131/131 [==============================] - 0s 1ms/step - loss: 2496295550479.5151 - MSE: 2496295550479.5151 - val_loss: 2017702182912.0000 - val_MSE: 2017702182912.0000\n",
            "Epoch 25/50\n",
            "131/131 [==============================] - 0s 1ms/step - loss: 2242205252639.0303 - MSE: 2242205252639.0303 - val_loss: 2017702182912.0000 - val_MSE: 2017702182912.0000\n",
            "Epoch 26/50\n",
            "131/131 [==============================] - 0s 1ms/step - loss: 2490232712843.6362 - MSE: 2490232712843.6362 - val_loss: 2017702182912.0000 - val_MSE: 2017702182912.0000\n",
            "Epoch 27/50\n",
            "131/131 [==============================] - 0s 1ms/step - loss: 3172398318064.4849 - MSE: 3172398318064.4849 - val_loss: 2017702182912.0000 - val_MSE: 2017702182912.0000\n",
            "Epoch 28/50\n",
            "131/131 [==============================] - 0s 1ms/step - loss: 2275448783840.9697 - MSE: 2275448783840.9697 - val_loss: 2017702182912.0000 - val_MSE: 2017702182912.0000\n",
            "Epoch 29/50\n",
            "131/131 [==============================] - 0s 1ms/step - loss: 2344963896413.0908 - MSE: 2344963896413.0908 - val_loss: 2017702182912.0000 - val_MSE: 2017702182912.0000\n",
            "Epoch 30/50\n",
            "131/131 [==============================] - 0s 1ms/step - loss: 2602713012534.3032 - MSE: 2602713012534.3032 - val_loss: 2017702182912.0000 - val_MSE: 2017702182912.0000\n",
            "Epoch 31/50\n",
            "131/131 [==============================] - 0s 1ms/step - loss: 2710877224463.5151 - MSE: 2710877224463.5151 - val_loss: 2017702182912.0000 - val_MSE: 2017702182912.0000\n",
            "Epoch 32/50\n",
            "131/131 [==============================] - 0s 1ms/step - loss: 2414539460980.3638 - MSE: 2414539460980.3638 - val_loss: 2017702182912.0000 - val_MSE: 2017702182912.0000\n",
            "Epoch 33/50\n",
            "131/131 [==============================] - 0s 1ms/step - loss: 2353411868113.4546 - MSE: 2353411868113.4546 - val_loss: 2017702182912.0000 - val_MSE: 2017702182912.0000\n",
            "Epoch 34/50\n",
            "131/131 [==============================] - 0s 2ms/step - loss: 2768336314616.2422 - MSE: 2768336314616.2422 - val_loss: 2017702182912.0000 - val_MSE: 2017702182912.0000\n",
            "Epoch 35/50\n",
            "131/131 [==============================] - 0s 1ms/step - loss: 2560088791350.3032 - MSE: 2560088791350.3032 - val_loss: 2017702182912.0000 - val_MSE: 2017702182912.0000\n",
            "Epoch 36/50\n",
            "131/131 [==============================] - 0s 2ms/step - loss: 2337867209510.7881 - MSE: 2337867209510.7881 - val_loss: 2017702182912.0000 - val_MSE: 2017702182912.0000\n",
            "Epoch 37/50\n",
            "131/131 [==============================] - 0s 1ms/step - loss: 2516959954881.9395 - MSE: 2516959954881.9395 - val_loss: 2017702182912.0000 - val_MSE: 2017702182912.0000\n",
            "Epoch 38/50\n",
            "131/131 [==============================] - 0s 1ms/step - loss: 2771726468064.9697 - MSE: 2771726468064.9697 - val_loss: 2017702182912.0000 - val_MSE: 2017702182912.0000\n",
            "Epoch 39/50\n",
            "131/131 [==============================] - 0s 1ms/step - loss: 2532295958776.2422 - MSE: 2532295958776.2422 - val_loss: 2017702182912.0000 - val_MSE: 2017702182912.0000\n",
            "Epoch 40/50\n",
            "131/131 [==============================] - 0s 2ms/step - loss: 2528162007474.4243 - MSE: 2528162007474.4243 - val_loss: 2017702182912.0000 - val_MSE: 2017702182912.0000\n",
            "Epoch 41/50\n",
            "131/131 [==============================] - 0s 1ms/step - loss: 2397062653145.2119 - MSE: 2397062653145.2119 - val_loss: 2017702182912.0000 - val_MSE: 2017702182912.0000\n",
            "Epoch 42/50\n",
            "131/131 [==============================] - 0s 1ms/step - loss: 2343725874703.5151 - MSE: 2343725874703.5151 - val_loss: 2017702182912.0000 - val_MSE: 2017702182912.0000\n",
            "Epoch 43/50\n",
            "131/131 [==============================] - 0s 1ms/step - loss: 2442201365535.0303 - MSE: 2442201365535.0303 - val_loss: 2017702182912.0000 - val_MSE: 2017702182912.0000\n",
            "Epoch 44/50\n",
            "131/131 [==============================] - 0s 1ms/step - loss: 2241825337468.1211 - MSE: 2241825337468.1211 - val_loss: 2017702182912.0000 - val_MSE: 2017702182912.0000\n",
            "Epoch 45/50\n",
            "131/131 [==============================] - 0s 2ms/step - loss: 2452686750192.4849 - MSE: 2452686750192.4849 - val_loss: 2017702182912.0000 - val_MSE: 2017702182912.0000\n",
            "Epoch 46/50\n",
            "131/131 [==============================] - 0s 1ms/step - loss: 2205693776740.8486 - MSE: 2205693776740.8486 - val_loss: 2017702182912.0000 - val_MSE: 2017702182912.0000\n",
            "Epoch 47/50\n",
            "131/131 [==============================] - 0s 1ms/step - loss: 2338965863951.5151 - MSE: 2338965863951.5151 - val_loss: 2017702182912.0000 - val_MSE: 2017702182912.0000\n",
            "Epoch 48/50\n",
            "131/131 [==============================] - 0s 1ms/step - loss: 2193088925075.3940 - MSE: 2193088925075.3940 - val_loss: 2017702182912.0000 - val_MSE: 2017702182912.0000\n",
            "Epoch 49/50\n",
            "131/131 [==============================] - 0s 1ms/step - loss: 2161209203991.2727 - MSE: 2161209203991.2727 - val_loss: 2017702182912.0000 - val_MSE: 2017702182912.0000\n",
            "Epoch 50/50\n",
            "131/131 [==============================] - 0s 2ms/step - loss: 2676226542002.4243 - MSE: 2676226542002.4243 - val_loss: 2017702182912.0000 - val_MSE: 2017702182912.0000\n"
          ],
          "name": "stdout"
        }
      ]
    },
    {
      "cell_type": "code",
      "metadata": {
        "colab": {
          "base_uri": "https://localhost:8080/"
        },
        "id": "LjcEO8g817xx",
        "outputId": "9b6fa3bf-be82-4471-fc3c-1bfca421c063"
      },
      "source": [
        "# the predict() method is used to generate predictions\n",
        "y_pred = model.predict(X_test)\n",
        "print(y_pred.shape)\n",
        "print(y_test.shape)"
      ],
      "execution_count": 21,
      "outputs": [
        {
          "output_type": "stream",
          "text": [
            "(86, 1)\n",
            "(86, 1)\n"
          ],
          "name": "stdout"
        }
      ]
    },
    {
      "cell_type": "code",
      "metadata": {
        "colab": {
          "base_uri": "https://localhost:8080/"
        },
        "id": "L4XmHnZt6Iy7",
        "outputId": "e8b69548-27b9-426b-bd3c-09e091b64c5b"
      },
      "source": [
        "print(X_train.shape, X_test.shape, y_train.shape, y_test.shape, y_pred.shape)"
      ],
      "execution_count": 22,
      "outputs": [
        {
          "output_type": "stream",
          "text": [
            "(4182, 9) (86, 9) (4182, 1) (86, 1) (86, 1)\n"
          ],
          "name": "stdout"
        }
      ]
    },
    {
      "cell_type": "code",
      "metadata": {
        "id": "8mEW0j2V94pt"
      },
      "source": [
        "test_data_df = pd.DataFrame(X_test,columns=[\"County_Index\",\"SqFtTotal\",'Lot_Size','Age',\t'BedsTotal',\t'BathsTotal','DOM','Year_Sold','List_Price'])"
      ],
      "execution_count": 23,
      "outputs": []
    },
    {
      "cell_type": "code",
      "metadata": {
        "colab": {
          "base_uri": "https://localhost:8080/",
          "height": 203
        },
        "id": "PbbvVXir6QXl",
        "outputId": "8b1f35f4-f504-435c-b898-5745ca2c2730"
      },
      "source": [
        "#df = pd.DataFrame.from_records([{ 'A':a,'B':b }], index='A')\n",
        "import pandas as pd\n",
        "good_result_df = pd.DataFrame({\"Sale_Price\": [x[0] for x in y_test], \"Prediction\": [x[0] for x in y_pred]})\n",
        "good_result_df.head()"
      ],
      "execution_count": 24,
      "outputs": [
        {
          "output_type": "execute_result",
          "data": {
            "text/html": [
              "<div>\n",
              "<style scoped>\n",
              "    .dataframe tbody tr th:only-of-type {\n",
              "        vertical-align: middle;\n",
              "    }\n",
              "\n",
              "    .dataframe tbody tr th {\n",
              "        vertical-align: top;\n",
              "    }\n",
              "\n",
              "    .dataframe thead th {\n",
              "        text-align: right;\n",
              "    }\n",
              "</style>\n",
              "<table border=\"1\" class=\"dataframe\">\n",
              "  <thead>\n",
              "    <tr style=\"text-align: right;\">\n",
              "      <th></th>\n",
              "      <th>Sale_Price</th>\n",
              "      <th>Prediction</th>\n",
              "    </tr>\n",
              "  </thead>\n",
              "  <tbody>\n",
              "    <tr>\n",
              "      <th>0</th>\n",
              "      <td>502000.0</td>\n",
              "      <td>0.0</td>\n",
              "    </tr>\n",
              "    <tr>\n",
              "      <th>1</th>\n",
              "      <td>740000.0</td>\n",
              "      <td>0.0</td>\n",
              "    </tr>\n",
              "    <tr>\n",
              "      <th>2</th>\n",
              "      <td>1500000.0</td>\n",
              "      <td>0.0</td>\n",
              "    </tr>\n",
              "    <tr>\n",
              "      <th>3</th>\n",
              "      <td>1608000.0</td>\n",
              "      <td>0.0</td>\n",
              "    </tr>\n",
              "    <tr>\n",
              "      <th>4</th>\n",
              "      <td>945000.0</td>\n",
              "      <td>0.0</td>\n",
              "    </tr>\n",
              "  </tbody>\n",
              "</table>\n",
              "</div>"
            ],
            "text/plain": [
              "   Sale_Price  Prediction\n",
              "0    502000.0         0.0\n",
              "1    740000.0         0.0\n",
              "2   1500000.0         0.0\n",
              "3   1608000.0         0.0\n",
              "4    945000.0         0.0"
            ]
          },
          "metadata": {
            "tags": []
          },
          "execution_count": 24
        }
      ]
    },
    {
      "cell_type": "code",
      "metadata": {
        "colab": {
          "base_uri": "https://localhost:8080/",
          "height": 417
        },
        "id": "3GyQkAYP5jUx",
        "outputId": "fd2b9ce5-ccf4-4d8c-b210-c02479fef869"
      },
      "source": [
        "final_result_data_df = test_data_df.merge(good_result_df,how='left', left_index=True, right_index=True)\n",
        "final_result_data_df"
      ],
      "execution_count": 25,
      "outputs": [
        {
          "output_type": "execute_result",
          "data": {
            "text/html": [
              "<div>\n",
              "<style scoped>\n",
              "    .dataframe tbody tr th:only-of-type {\n",
              "        vertical-align: middle;\n",
              "    }\n",
              "\n",
              "    .dataframe tbody tr th {\n",
              "        vertical-align: top;\n",
              "    }\n",
              "\n",
              "    .dataframe thead th {\n",
              "        text-align: right;\n",
              "    }\n",
              "</style>\n",
              "<table border=\"1\" class=\"dataframe\">\n",
              "  <thead>\n",
              "    <tr style=\"text-align: right;\">\n",
              "      <th></th>\n",
              "      <th>County_Index</th>\n",
              "      <th>SqFtTotal</th>\n",
              "      <th>Lot_Size</th>\n",
              "      <th>Age</th>\n",
              "      <th>BedsTotal</th>\n",
              "      <th>BathsTotal</th>\n",
              "      <th>DOM</th>\n",
              "      <th>Year_Sold</th>\n",
              "      <th>List_Price</th>\n",
              "      <th>Sale_Price</th>\n",
              "      <th>Prediction</th>\n",
              "    </tr>\n",
              "  </thead>\n",
              "  <tbody>\n",
              "    <tr>\n",
              "      <th>0</th>\n",
              "      <td>4.0</td>\n",
              "      <td>1504.0</td>\n",
              "      <td>10019.0</td>\n",
              "      <td>58.0</td>\n",
              "      <td>3.0</td>\n",
              "      <td>2.0</td>\n",
              "      <td>4.0</td>\n",
              "      <td>2021.0</td>\n",
              "      <td>459000.0</td>\n",
              "      <td>502000.0</td>\n",
              "      <td>0.0</td>\n",
              "    </tr>\n",
              "    <tr>\n",
              "      <th>1</th>\n",
              "      <td>14.0</td>\n",
              "      <td>1862.0</td>\n",
              "      <td>5850.0</td>\n",
              "      <td>60.0</td>\n",
              "      <td>4.0</td>\n",
              "      <td>3.0</td>\n",
              "      <td>9.0</td>\n",
              "      <td>2021.0</td>\n",
              "      <td>725000.0</td>\n",
              "      <td>740000.0</td>\n",
              "      <td>0.0</td>\n",
              "    </tr>\n",
              "    <tr>\n",
              "      <th>2</th>\n",
              "      <td>0.0</td>\n",
              "      <td>1917.0</td>\n",
              "      <td>5341.0</td>\n",
              "      <td>56.0</td>\n",
              "      <td>3.0</td>\n",
              "      <td>3.0</td>\n",
              "      <td>8.0</td>\n",
              "      <td>2021.0</td>\n",
              "      <td>1349000.0</td>\n",
              "      <td>1500000.0</td>\n",
              "      <td>0.0</td>\n",
              "    </tr>\n",
              "    <tr>\n",
              "      <th>3</th>\n",
              "      <td>0.0</td>\n",
              "      <td>3857.0</td>\n",
              "      <td>11019.0</td>\n",
              "      <td>33.0</td>\n",
              "      <td>5.0</td>\n",
              "      <td>4.0</td>\n",
              "      <td>9.0</td>\n",
              "      <td>2021.0</td>\n",
              "      <td>1495000.0</td>\n",
              "      <td>1608000.0</td>\n",
              "      <td>0.0</td>\n",
              "    </tr>\n",
              "    <tr>\n",
              "      <th>4</th>\n",
              "      <td>17.0</td>\n",
              "      <td>1840.0</td>\n",
              "      <td>8008.0</td>\n",
              "      <td>63.0</td>\n",
              "      <td>3.0</td>\n",
              "      <td>2.0</td>\n",
              "      <td>28.0</td>\n",
              "      <td>2021.0</td>\n",
              "      <td>939900.0</td>\n",
              "      <td>945000.0</td>\n",
              "      <td>0.0</td>\n",
              "    </tr>\n",
              "    <tr>\n",
              "      <th>...</th>\n",
              "      <td>...</td>\n",
              "      <td>...</td>\n",
              "      <td>...</td>\n",
              "      <td>...</td>\n",
              "      <td>...</td>\n",
              "      <td>...</td>\n",
              "      <td>...</td>\n",
              "      <td>...</td>\n",
              "      <td>...</td>\n",
              "      <td>...</td>\n",
              "      <td>...</td>\n",
              "    </tr>\n",
              "    <tr>\n",
              "      <th>81</th>\n",
              "      <td>2.0</td>\n",
              "      <td>1964.0</td>\n",
              "      <td>6991.0</td>\n",
              "      <td>57.0</td>\n",
              "      <td>4.0</td>\n",
              "      <td>2.0</td>\n",
              "      <td>9.0</td>\n",
              "      <td>2021.0</td>\n",
              "      <td>1085000.0</td>\n",
              "      <td>1078500.0</td>\n",
              "      <td>0.0</td>\n",
              "    </tr>\n",
              "    <tr>\n",
              "      <th>82</th>\n",
              "      <td>2.0</td>\n",
              "      <td>1231.0</td>\n",
              "      <td>6114.0</td>\n",
              "      <td>66.0</td>\n",
              "      <td>4.0</td>\n",
              "      <td>2.0</td>\n",
              "      <td>14.0</td>\n",
              "      <td>2021.0</td>\n",
              "      <td>650000.0</td>\n",
              "      <td>720000.0</td>\n",
              "      <td>0.0</td>\n",
              "    </tr>\n",
              "    <tr>\n",
              "      <th>83</th>\n",
              "      <td>0.0</td>\n",
              "      <td>1136.0</td>\n",
              "      <td>12427.0</td>\n",
              "      <td>93.0</td>\n",
              "      <td>3.0</td>\n",
              "      <td>1.0</td>\n",
              "      <td>0.0</td>\n",
              "      <td>2021.0</td>\n",
              "      <td>545000.0</td>\n",
              "      <td>550000.0</td>\n",
              "      <td>0.0</td>\n",
              "    </tr>\n",
              "    <tr>\n",
              "      <th>84</th>\n",
              "      <td>6.0</td>\n",
              "      <td>2115.0</td>\n",
              "      <td>11773.0</td>\n",
              "      <td>37.0</td>\n",
              "      <td>4.0</td>\n",
              "      <td>3.0</td>\n",
              "      <td>5.0</td>\n",
              "      <td>2021.0</td>\n",
              "      <td>875000.0</td>\n",
              "      <td>905000.0</td>\n",
              "      <td>0.0</td>\n",
              "    </tr>\n",
              "    <tr>\n",
              "      <th>85</th>\n",
              "      <td>15.0</td>\n",
              "      <td>3935.0</td>\n",
              "      <td>21449.0</td>\n",
              "      <td>112.0</td>\n",
              "      <td>5.0</td>\n",
              "      <td>4.0</td>\n",
              "      <td>13.0</td>\n",
              "      <td>2021.0</td>\n",
              "      <td>7595000.0</td>\n",
              "      <td>7600000.0</td>\n",
              "      <td>0.0</td>\n",
              "    </tr>\n",
              "  </tbody>\n",
              "</table>\n",
              "<p>86 rows × 11 columns</p>\n",
              "</div>"
            ],
            "text/plain": [
              "    County_Index  SqFtTotal  Lot_Size  ...  List_Price  Sale_Price  Prediction\n",
              "0            4.0     1504.0   10019.0  ...    459000.0    502000.0         0.0\n",
              "1           14.0     1862.0    5850.0  ...    725000.0    740000.0         0.0\n",
              "2            0.0     1917.0    5341.0  ...   1349000.0   1500000.0         0.0\n",
              "3            0.0     3857.0   11019.0  ...   1495000.0   1608000.0         0.0\n",
              "4           17.0     1840.0    8008.0  ...    939900.0    945000.0         0.0\n",
              "..           ...        ...       ...  ...         ...         ...         ...\n",
              "81           2.0     1964.0    6991.0  ...   1085000.0   1078500.0         0.0\n",
              "82           2.0     1231.0    6114.0  ...    650000.0    720000.0         0.0\n",
              "83           0.0     1136.0   12427.0  ...    545000.0    550000.0         0.0\n",
              "84           6.0     2115.0   11773.0  ...    875000.0    905000.0         0.0\n",
              "85          15.0     3935.0   21449.0  ...   7595000.0   7600000.0         0.0\n",
              "\n",
              "[86 rows x 11 columns]"
            ]
          },
          "metadata": {
            "tags": []
          },
          "execution_count": 25
        }
      ]
    },
    {
      "cell_type": "code",
      "metadata": {
        "colab": {
          "base_uri": "https://localhost:8080/",
          "height": 417
        },
        "id": "tovuvQE3XcCX",
        "outputId": "15f740fa-b3dd-4c93-e705-0f4495ee14e9"
      },
      "source": [
        "#df['cost'] = df['cost'].map('${:,.2f}'.format)\n",
        "final_result_data_df['Prediction'] = final_result_data_df['Prediction'].map('{:,.2f}'.format)\n",
        "final_result_data_df"
      ],
      "execution_count": 26,
      "outputs": [
        {
          "output_type": "execute_result",
          "data": {
            "text/html": [
              "<div>\n",
              "<style scoped>\n",
              "    .dataframe tbody tr th:only-of-type {\n",
              "        vertical-align: middle;\n",
              "    }\n",
              "\n",
              "    .dataframe tbody tr th {\n",
              "        vertical-align: top;\n",
              "    }\n",
              "\n",
              "    .dataframe thead th {\n",
              "        text-align: right;\n",
              "    }\n",
              "</style>\n",
              "<table border=\"1\" class=\"dataframe\">\n",
              "  <thead>\n",
              "    <tr style=\"text-align: right;\">\n",
              "      <th></th>\n",
              "      <th>County_Index</th>\n",
              "      <th>SqFtTotal</th>\n",
              "      <th>Lot_Size</th>\n",
              "      <th>Age</th>\n",
              "      <th>BedsTotal</th>\n",
              "      <th>BathsTotal</th>\n",
              "      <th>DOM</th>\n",
              "      <th>Year_Sold</th>\n",
              "      <th>List_Price</th>\n",
              "      <th>Sale_Price</th>\n",
              "      <th>Prediction</th>\n",
              "    </tr>\n",
              "  </thead>\n",
              "  <tbody>\n",
              "    <tr>\n",
              "      <th>0</th>\n",
              "      <td>4.0</td>\n",
              "      <td>1504.0</td>\n",
              "      <td>10019.0</td>\n",
              "      <td>58.0</td>\n",
              "      <td>3.0</td>\n",
              "      <td>2.0</td>\n",
              "      <td>4.0</td>\n",
              "      <td>2021.0</td>\n",
              "      <td>459000.0</td>\n",
              "      <td>502000.0</td>\n",
              "      <td>0.00</td>\n",
              "    </tr>\n",
              "    <tr>\n",
              "      <th>1</th>\n",
              "      <td>14.0</td>\n",
              "      <td>1862.0</td>\n",
              "      <td>5850.0</td>\n",
              "      <td>60.0</td>\n",
              "      <td>4.0</td>\n",
              "      <td>3.0</td>\n",
              "      <td>9.0</td>\n",
              "      <td>2021.0</td>\n",
              "      <td>725000.0</td>\n",
              "      <td>740000.0</td>\n",
              "      <td>0.00</td>\n",
              "    </tr>\n",
              "    <tr>\n",
              "      <th>2</th>\n",
              "      <td>0.0</td>\n",
              "      <td>1917.0</td>\n",
              "      <td>5341.0</td>\n",
              "      <td>56.0</td>\n",
              "      <td>3.0</td>\n",
              "      <td>3.0</td>\n",
              "      <td>8.0</td>\n",
              "      <td>2021.0</td>\n",
              "      <td>1349000.0</td>\n",
              "      <td>1500000.0</td>\n",
              "      <td>0.00</td>\n",
              "    </tr>\n",
              "    <tr>\n",
              "      <th>3</th>\n",
              "      <td>0.0</td>\n",
              "      <td>3857.0</td>\n",
              "      <td>11019.0</td>\n",
              "      <td>33.0</td>\n",
              "      <td>5.0</td>\n",
              "      <td>4.0</td>\n",
              "      <td>9.0</td>\n",
              "      <td>2021.0</td>\n",
              "      <td>1495000.0</td>\n",
              "      <td>1608000.0</td>\n",
              "      <td>0.00</td>\n",
              "    </tr>\n",
              "    <tr>\n",
              "      <th>4</th>\n",
              "      <td>17.0</td>\n",
              "      <td>1840.0</td>\n",
              "      <td>8008.0</td>\n",
              "      <td>63.0</td>\n",
              "      <td>3.0</td>\n",
              "      <td>2.0</td>\n",
              "      <td>28.0</td>\n",
              "      <td>2021.0</td>\n",
              "      <td>939900.0</td>\n",
              "      <td>945000.0</td>\n",
              "      <td>0.00</td>\n",
              "    </tr>\n",
              "    <tr>\n",
              "      <th>...</th>\n",
              "      <td>...</td>\n",
              "      <td>...</td>\n",
              "      <td>...</td>\n",
              "      <td>...</td>\n",
              "      <td>...</td>\n",
              "      <td>...</td>\n",
              "      <td>...</td>\n",
              "      <td>...</td>\n",
              "      <td>...</td>\n",
              "      <td>...</td>\n",
              "      <td>...</td>\n",
              "    </tr>\n",
              "    <tr>\n",
              "      <th>81</th>\n",
              "      <td>2.0</td>\n",
              "      <td>1964.0</td>\n",
              "      <td>6991.0</td>\n",
              "      <td>57.0</td>\n",
              "      <td>4.0</td>\n",
              "      <td>2.0</td>\n",
              "      <td>9.0</td>\n",
              "      <td>2021.0</td>\n",
              "      <td>1085000.0</td>\n",
              "      <td>1078500.0</td>\n",
              "      <td>0.00</td>\n",
              "    </tr>\n",
              "    <tr>\n",
              "      <th>82</th>\n",
              "      <td>2.0</td>\n",
              "      <td>1231.0</td>\n",
              "      <td>6114.0</td>\n",
              "      <td>66.0</td>\n",
              "      <td>4.0</td>\n",
              "      <td>2.0</td>\n",
              "      <td>14.0</td>\n",
              "      <td>2021.0</td>\n",
              "      <td>650000.0</td>\n",
              "      <td>720000.0</td>\n",
              "      <td>0.00</td>\n",
              "    </tr>\n",
              "    <tr>\n",
              "      <th>83</th>\n",
              "      <td>0.0</td>\n",
              "      <td>1136.0</td>\n",
              "      <td>12427.0</td>\n",
              "      <td>93.0</td>\n",
              "      <td>3.0</td>\n",
              "      <td>1.0</td>\n",
              "      <td>0.0</td>\n",
              "      <td>2021.0</td>\n",
              "      <td>545000.0</td>\n",
              "      <td>550000.0</td>\n",
              "      <td>0.00</td>\n",
              "    </tr>\n",
              "    <tr>\n",
              "      <th>84</th>\n",
              "      <td>6.0</td>\n",
              "      <td>2115.0</td>\n",
              "      <td>11773.0</td>\n",
              "      <td>37.0</td>\n",
              "      <td>4.0</td>\n",
              "      <td>3.0</td>\n",
              "      <td>5.0</td>\n",
              "      <td>2021.0</td>\n",
              "      <td>875000.0</td>\n",
              "      <td>905000.0</td>\n",
              "      <td>0.00</td>\n",
              "    </tr>\n",
              "    <tr>\n",
              "      <th>85</th>\n",
              "      <td>15.0</td>\n",
              "      <td>3935.0</td>\n",
              "      <td>21449.0</td>\n",
              "      <td>112.0</td>\n",
              "      <td>5.0</td>\n",
              "      <td>4.0</td>\n",
              "      <td>13.0</td>\n",
              "      <td>2021.0</td>\n",
              "      <td>7595000.0</td>\n",
              "      <td>7600000.0</td>\n",
              "      <td>0.00</td>\n",
              "    </tr>\n",
              "  </tbody>\n",
              "</table>\n",
              "<p>86 rows × 11 columns</p>\n",
              "</div>"
            ],
            "text/plain": [
              "    County_Index  SqFtTotal  Lot_Size  ...  List_Price  Sale_Price  Prediction\n",
              "0            4.0     1504.0   10019.0  ...    459000.0    502000.0        0.00\n",
              "1           14.0     1862.0    5850.0  ...    725000.0    740000.0        0.00\n",
              "2            0.0     1917.0    5341.0  ...   1349000.0   1500000.0        0.00\n",
              "3            0.0     3857.0   11019.0  ...   1495000.0   1608000.0        0.00\n",
              "4           17.0     1840.0    8008.0  ...    939900.0    945000.0        0.00\n",
              "..           ...        ...       ...  ...         ...         ...         ...\n",
              "81           2.0     1964.0    6991.0  ...   1085000.0   1078500.0        0.00\n",
              "82           2.0     1231.0    6114.0  ...    650000.0    720000.0        0.00\n",
              "83           0.0     1136.0   12427.0  ...    545000.0    550000.0        0.00\n",
              "84           6.0     2115.0   11773.0  ...    875000.0    905000.0        0.00\n",
              "85          15.0     3935.0   21449.0  ...   7595000.0   7600000.0        0.00\n",
              "\n",
              "[86 rows x 11 columns]"
            ]
          },
          "metadata": {
            "tags": []
          },
          "execution_count": 26
        }
      ]
    },
    {
      "cell_type": "code",
      "metadata": {
        "colab": {
          "base_uri": "https://localhost:8080/"
        },
        "id": "H5v-OxQAf9cf",
        "outputId": "61cd6fd9-b10e-44bf-ddd2-ed2e8512ac78"
      },
      "source": [
        "#Create PySpark DataFrame from Pandas\n",
        "final_result_data_df = spark.createDataFrame(final_result_data_df)\n",
        "type(final_result_data_df)"
      ],
      "execution_count": 27,
      "outputs": [
        {
          "output_type": "execute_result",
          "data": {
            "text/plain": [
              "pyspark.sql.dataframe.DataFrame"
            ]
          },
          "metadata": {
            "tags": []
          },
          "execution_count": 27
        }
      ]
    },
    {
      "cell_type": "code",
      "metadata": {
        "id": "MI4YSTUL5arX",
        "colab": {
          "base_uri": "https://localhost:8080/"
        },
        "outputId": "fe966c2b-3320-4811-f9ff-dc4040443683"
      },
      "source": [
        "# R squared\n",
        "from sklearn.metrics import r2_score\n",
        "r2_score(y_test, y_pred)"
      ],
      "execution_count": 28,
      "outputs": [
        {
          "output_type": "execute_result",
          "data": {
            "text/plain": [
              "-1.2521362167631418"
            ]
          },
          "metadata": {
            "tags": []
          },
          "execution_count": 28
        }
      ]
    },
    {
      "cell_type": "markdown",
      "metadata": {
        "id": "VWDhysWGAnLN"
      },
      "source": [
        "**When R squared is 0.94 it is a pretty good model.  Basically, this model explain about 94% in the variation of the price.  Note: it does not explain all, but only 94%.**"
      ]
    },
    {
      "cell_type": "code",
      "metadata": {
        "id": "2oqNW0TzS48A",
        "colab": {
          "base_uri": "https://localhost:8080/",
          "height": 281
        },
        "outputId": "ea44a93b-72b0-4ea5-d8cd-8afe5cd1cab6"
      },
      "source": [
        "import matplotlib.pyplot as plt\n",
        "plt.plot(y_pred)\n",
        "plt.plot(y_test)\n",
        "plt.title('Model loss')\n",
        "#plt.ylabel('Loss')\n",
        "#plt.xlabel('Epoch')\n",
        "plt.legend(['y_pred', 'y_test'], loc='upper right')\n",
        "plt.show()"
      ],
      "execution_count": 29,
      "outputs": [
        {
          "output_type": "display_data",
          "data": {
            "image/png": "[encoded data removed]",
            "text/plain": [
              "<Figure size 432x288 with 1 Axes>"
            ]
          },
          "metadata": {
            "tags": [],
            "needs_background": "light"
          }
        }
      ]
    },
    {
      "cell_type": "code",
      "metadata": {
        "id": "Z4oupivSVAQS",
        "colab": {
          "base_uri": "https://localhost:8080/",
          "height": 295
        },
        "outputId": "f633fd96-b6b4-4a7a-e8ba-e7a5d384fdc0"
      },
      "source": [
        "import matplotlib.pyplot as plt\n",
        "plt.plot(hist.history['loss'])\n",
        "plt.plot(hist.history['val_loss'])\n",
        "plt.title('Model loss')\n",
        "plt.ylabel('Loss')\n",
        "plt.xlabel('Epoch')\n",
        "plt.legend(['Train', 'Val'], loc='upper right')\n",
        "plt.show()"
      ],
      "execution_count": 30,
      "outputs": [
        {
          "output_type": "display_data",
          "data": {
            "image/png": "[encoded data removed]",
            "text/plain": [
              "<Figure size 432x288 with 1 Axes>"
            ]
          },
          "metadata": {
            "tags": [],
            "needs_background": "light"
          }
        }
      ]
    },
    {
      "cell_type": "code",
      "metadata": {
        "colab": {
          "base_uri": "https://localhost:8080/"
        },
        "id": "SOYW1x-WVar7",
        "outputId": "dbfe1b67-ab7d-46e2-9657-8f162a9daee9"
      },
      "source": [
        "# Store environmental variable\n",
        "from getpass import getpass\n",
        "password = getpass('Enter database password')\n",
        "# Configure settings for RDS\n",
        "mode = \"append\"\n",
        "jdbc_url=\"jdbc:postgresql://database-1.cvmp56um73d3.us-west-1.rds.amazonaws.com:5432/Final_Project2_db\"\n",
        "config = {\"user\":\"postgres\",\n",
        "          \"password\": password,\n",
        "          \"driver\":\"org.postgresql.Driver\"}"
      ],
      "execution_count": 31,
      "outputs": [
        {
          "output_type": "stream",
          "text": [
            "Enter database password··········\n"
          ],
          "name": "stdout"
        }
      ]
    },
    {
      "cell_type": "code",
      "metadata": {
        "id": "W5nYPF38VglV"
      },
      "source": [
        "# Write DataFrame to active_user table in RDS\n",
        "final_result_data_df.write.jdbc(url=jdbc_url, table='final_neural_network_housing', mode=mode, properties=config)"
      ],
      "execution_count": 32,
      "outputs": []
    }
  ]
}