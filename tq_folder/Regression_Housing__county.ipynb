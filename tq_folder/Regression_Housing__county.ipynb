{
  "nbformat": 4,
  "nbformat_minor": 0,
  "metadata": {
    "colab": {
      "name": "Regression_Housing _county.ipynb",
      "provenance": [],
      "collapsed_sections": []
    },
    "kernelspec": {
      "name": "python3",
      "display_name": "Python 3"
    },
    "language_info": {
      "name": "python"
    }
  },
  "cells": [
    {
      "cell_type": "code",
      "metadata": {
        "colab": {
          "base_uri": "https://localhost:8080/"
        },
        "id": "lFv5-T_zupnd",
        "outputId": "7bbe2ab9-74bb-45fd-b196-e06f56077df5"
      },
      "source": [
        "import os\n",
        "# Find the latest version of spark 3.0  from http://www.apache.org/dist/spark/ and enter as the spark version\n",
        "# For example:\n",
        "spark_version = 'spark-3.0.3'\n",
        "#spark_version = 'spark-3.<enter version>'\n",
        "os.environ['SPARK_VERSION']=spark_version\n",
        "\n",
        "# Install Spark and Java\n",
        "!apt-get update\n",
        "!apt-get install openjdk-11-jdk-headless -qq > /dev/null\n",
        "!wget -q http://www.apache.org/dist/spark/$SPARK_VERSION/$SPARK_VERSION-bin-hadoop2.7.tgz\n",
        "!tar xf $SPARK_VERSION-bin-hadoop2.7.tgz\n",
        "!pip install -q findspark\n",
        "\n",
        "# Set Environment Variables\n",
        "import os\n",
        "os.environ[\"JAVA_HOME\"] = \"/usr/lib/jvm/java-11-openjdk-amd64\"\n",
        "os.environ[\"SPARK_HOME\"] = f\"/content/{spark_version}-bin-hadoop2.7\"\n",
        "\n",
        "# Start a SparkSession\n",
        "import findspark\n",
        "findspark.init()"
      ],
      "execution_count": 1,
      "outputs": [
        {
          "output_type": "stream",
          "text": [
            "\r0% [Working]\r            \rIgn:1 https://developer.download.nvidia.com/compute/cuda/repos/ubuntu1804/x86_64  InRelease\n",
            "\r0% [Connecting to archive.ubuntu.com] [Connecting to security.ubuntu.com] [Conn\r                                                                               \rIgn:2 https://developer.download.nvidia.com/compute/machine-learning/repos/ubuntu1804/x86_64  InRelease\n",
            "\r0% [Connecting to archive.ubuntu.com] [Connecting to security.ubuntu.com (91.18\r                                                                               \rGet:3 https://developer.download.nvidia.com/compute/cuda/repos/ubuntu1804/x86_64  Release [697 B]\n",
            "\r0% [Connecting to archive.ubuntu.com] [Connecting to security.ubuntu.com (91.18\r0% [Connecting to archive.ubuntu.com] [Connecting to security.ubuntu.com (91.18\r                                                                               \rHit:4 https://developer.download.nvidia.com/compute/machine-learning/repos/ubuntu1804/x86_64  Release\n",
            "\r0% [Connecting to archive.ubuntu.com] [Connecting to security.ubuntu.com (91.18\r                                                                               \rGet:5 https://cloud.r-project.org/bin/linux/ubuntu bionic-cran40/ InRelease [3,626 B]\n",
            "\r0% [Connecting to archive.ubuntu.com] [Connecting to security.ubuntu.com (91.18\r0% [Release.gpg gpgv 564 B] [Connecting to archive.ubuntu.com] [Connecting to s\r                                                                               \rGet:6 https://developer.download.nvidia.com/compute/cuda/repos/ubuntu1804/x86_64  Release.gpg [836 B]\n",
            "Get:7 http://security.ubuntu.com/ubuntu bionic-security InRelease [88.7 kB]\n",
            "Hit:9 http://archive.ubuntu.com/ubuntu bionic InRelease\n",
            "Get:10 http://ppa.launchpad.net/c2d4u.team/c2d4u4.0+/ubuntu bionic InRelease [15.9 kB]\n",
            "Get:11 http://archive.ubuntu.com/ubuntu bionic-updates InRelease [88.7 kB]\n",
            "Get:12 https://cloud.r-project.org/bin/linux/ubuntu bionic-cran40/ Packages [62.9 kB]\n",
            "Ign:13 https://developer.download.nvidia.com/compute/cuda/repos/ubuntu1804/x86_64  Packages\n",
            "Get:13 https://developer.download.nvidia.com/compute/cuda/repos/ubuntu1804/x86_64  Packages [680 kB]\n",
            "Hit:14 http://ppa.launchpad.net/cran/libgit2/ubuntu bionic InRelease\n",
            "Get:15 http://archive.ubuntu.com/ubuntu bionic-backports InRelease [74.6 kB]\n",
            "Hit:16 http://ppa.launchpad.net/deadsnakes/ppa/ubuntu bionic InRelease\n",
            "Get:17 http://security.ubuntu.com/ubuntu bionic-security/main amd64 Packages [2,258 kB]\n",
            "Get:18 http://ppa.launchpad.net/graphics-drivers/ppa/ubuntu bionic InRelease [21.3 kB]\n",
            "Get:19 http://security.ubuntu.com/ubuntu bionic-security/multiverse amd64 Packages [26.7 kB]\n",
            "Get:20 http://security.ubuntu.com/ubuntu bionic-security/restricted amd64 Packages [505 kB]\n",
            "Get:21 http://security.ubuntu.com/ubuntu bionic-security/universe amd64 Packages [1,420 kB]\n",
            "Get:22 http://ppa.launchpad.net/c2d4u.team/c2d4u4.0+/ubuntu bionic/main Sources [1,786 kB]\n",
            "Get:23 http://archive.ubuntu.com/ubuntu bionic-updates/restricted amd64 Packages [537 kB]\n",
            "Get:24 http://archive.ubuntu.com/ubuntu bionic-updates/main amd64 Packages [2,694 kB]\n",
            "Get:25 http://archive.ubuntu.com/ubuntu bionic-updates/universe amd64 Packages [2,194 kB]\n",
            "Get:26 http://ppa.launchpad.net/c2d4u.team/c2d4u4.0+/ubuntu bionic/main amd64 Packages [914 kB]\n",
            "Get:27 http://archive.ubuntu.com/ubuntu bionic-updates/multiverse amd64 Packages [33.6 kB]\n",
            "Get:28 http://ppa.launchpad.net/graphics-drivers/ppa/ubuntu bionic/main amd64 Packages [44.1 kB]\n",
            "Fetched 13.4 MB in 4s (3,100 kB/s)\n",
            "Reading package lists... Done\n"
          ],
          "name": "stdout"
        }
      ]
    },
    {
      "cell_type": "code",
      "metadata": {
        "id": "Chcx1Hb5vNuS",
        "colab": {
          "base_uri": "https://localhost:8080/"
        },
        "outputId": "9577e722-5864-4be0-abcc-c7d2c33e722b"
      },
      "source": [
        "# First, enter the following code to download a Postgres driver that will allow Spark to interact with Postgres:\n",
        "!wget https://jdbc.postgresql.org/download/postgresql-42.2.16.jar"
      ],
      "execution_count": 2,
      "outputs": [
        {
          "output_type": "stream",
          "text": [
            "--2021-08-02 06:32:46--  https://jdbc.postgresql.org/download/postgresql-42.2.16.jar\n",
            "Resolving jdbc.postgresql.org (jdbc.postgresql.org)... 72.32.157.228, 2001:4800:3e1:1::228\n",
            "Connecting to jdbc.postgresql.org (jdbc.postgresql.org)|72.32.157.228|:443... connected.\n",
            "HTTP request sent, awaiting response... 200 OK\n",
            "Length: 1002883 (979K) [application/java-archive]\n",
            "Saving to: ‘postgresql-42.2.16.jar’\n",
            "\n",
            "postgresql-42.2.16. 100%[===================>] 979.38K  6.02MB/s    in 0.2s    \n",
            "\n",
            "2021-08-02 06:32:47 (6.02 MB/s) - ‘postgresql-42.2.16.jar’ saved [1002883/1002883]\n",
            "\n"
          ],
          "name": "stdout"
        }
      ]
    },
    {
      "cell_type": "code",
      "metadata": {
        "id": "x1fG3JpHGtlD"
      },
      "source": [
        "from pyspark.sql import SparkSession\n",
        "spark = SparkSession.builder.appName(\"Final_data\").config(\"spark.driver.extraClassPath\",\"/content/postgresql-42.2.16.jar\").getOrCreate()"
      ],
      "execution_count": 3,
      "outputs": []
    },
    {
      "cell_type": "code",
      "metadata": {
        "id": "kbZk5lFRFR6p",
        "colab": {
          "base_uri": "https://localhost:8080/"
        },
        "outputId": "5e5755d1-7163-4360-c857-cf1cecbbe5b1"
      },
      "source": [
        "# Read in data from S3 Buckets\n",
        "from pyspark import SparkFiles\n",
        "url = \"https://tq2cutebucket.s3.us-west-1.amazonaws.com/final_data.csv\"\n",
        "spark.sparkContext.addFile(url)\n",
        "df = spark.read.option(\"encoding\", \"UTF-8\").csv(SparkFiles.get(\"final_data.csv\"), sep=\",\", header=True, inferSchema=True)\n",
        "df.show()"
      ],
      "execution_count": 4,
      "outputs": [
        {
          "output_type": "stream",
          "text": [
            "+------------+--------------------+------------+--------+--------------+------------+---------+--------+---+----------+---------+---------+---------+---+---------+---------+----------+----------+--------------+--------------+----------+\n",
            "|  MLS_Number|      Street_Address|        City|Zip_Code|        county|County_Index|SqFtTotal|Lot_Size|Age|BathsTotal|BedsTotal|BathsFull|BathsHalf|DOM|Year_List|Year_Sold|List_Price|Sale_Price|  Listing_Date|     Sale_Date|Year_Built|\n",
            "+------------+--------------------+------------+--------+--------------+------------+---------+--------+---+----------+---------+---------+---------+---+---------+---------+----------+----------+--------------+--------------+----------+\n",
            "|  BE40950609|   2724 Foxglove Ct |  Pleasanton|   94588|       Alameda|           8|     2051|  2949.0| 23|         3|        4|        2|        1|  6|     2021|     2021|   1450000|   1625000|5/19/2021 0:00|5/25/2021 0:00|      1998|\n",
            "|  ML81845215|  7873 Chestnut WAY |  Pleasanton|   94588|       Alameda|           8|     1650|  7763.0| 48|         2|        4|        2|        0|  8|     2021|     2021|   1228888|   1650000|5/21/2021 0:00|5/29/2021 0:00|      1973|\n",
            "| ME202001823|3252 Rogue River DR |       Chico|   95973|         Butte|          11|     2216|  6098.0|  6|         2|        4|        2|        0| 37|     2020|     2020|    489000|    484000|6/18/2020 0:00|7/25/2020 0:00|      2015|\n",
            "| ME221053072|   6014 Steadman PL |   Elk Grove|   95758|    Sacramento|           4|     1404|  8346.0| 29|         2|        3|        2|        0|  2|     2021|     2021|    520000|    520000|5/17/2021 0:00|5/19/2021 0:00|      1992|\n",
            "| ME221054463|5834 Valley Sprin...|   Elk Grove|   95758|    Sacramento|           4|     2574|  6726.0| 32|         3|        4|        3|        0|  5|     2021|     2021|    559999|    595000|5/20/2021 0:00|5/25/2021 0:00|      1989|\n",
            "|CRIV21105150|39181 Trail Creek...|    Temecula|   92591|     Riverside|           1|     2389|  6098.0|  7|         3|        3|        3|        0|  6|     2021|     2021|    699900|    800000|5/17/2021 0:00|5/23/2021 0:00|      2014|\n",
            "|CRCV21108717| 651 W Terrylynn PL |  Long Beach|   90807|   Los Angeles|           0|     2189|  3120.0| 47|         2|        3|        2|        0|  4|     2021|     2021|    970000|   1056500|5/20/2021 0:00|5/24/2021 0:00|      1974|\n",
            "| ME221054451|         369 Eva CT |     Manteca|   95336|   San Joaquin|          10|     1142|  4999.0| 50|         2|        3|        2|        0|  8|     2021|     2021|    434950|    470000|5/20/2021 0:00|5/28/2021 0:00|      1971|\n",
            "| BA321047809|  145 Hawthorne AVE |    Larkspur|   94939|         Marin|          15|     1315|  5301.0|101|         1|        2|        1|        0| 11|     2021|     2021|   1799000|   2050000| 5/7/2021 0:00|5/18/2021 0:00|      1920|\n",
            "|  ML81844682|   2924 Congress RD |Pebble Beach|   93953|      Monterey|          24|     1833|  8700.0| 52|         3|        3|        2|        1|  5|     2021|     2021|   1399000|   1545000|5/19/2021 0:00|5/24/2021 0:00|      1969|\n",
            "| ME202000128|       1805 Ohio ST |     Gridley|   95948|         Butte|          11|     2538|  6970.0| 15|         4|        5|        3|        1|218|     2020|     2020|    335000|    335000|1/14/2020 0:00|8/19/2020 0:00|      2006|\n",
            "|CREV21115375|       588 Leafy LN |   Crestline|   92325|San Bernardino|           3|      565|  4500.0| 86|         1|        2|        1|        0|  0|     2021|     2021|    237000|    237000|5/28/2021 0:00|5/28/2021 0:00|      1935|\n",
            "| ME221053524|  14399 Tim Burr LN |Grass Valley|   95945|        Nevada|          27|     1938| 22216.0| 56|         2|        3|        2|        0|  9|     2021|     2021|    695000|    725000|5/19/2021 0:00|5/28/2021 0:00|      1965|\n",
            "| ME221050890|5148 Linda Lou Dr...|  Carmichael|   95608|    Sacramento|           4|     1456|  6970.0| 37|         2|        3|        2|        0|  3|     2021|     2021|    475000|    548000|5/19/2021 0:00|5/22/2021 0:00|      1984|\n",
            "|  ML81844669|1523 San Andreas ...|    San Jose|   95118|   Santa Clara|           7|     1144|  5822.0| 67|         2|        3|        2|        0|  8|     2021|     2021|   1199000|   1335555|5/19/2021 0:00|5/27/2021 0:00|      1954|\n",
            "|CRSN21105110|     4255 Stable LN |       Chico|   95973|         Butte|          11|     1729| 34412.0| 41|         2|        3|        2|        0|  6|     2021|     2021|    569900|    580000|5/17/2021 0:00|5/23/2021 0:00|      1980|\n",
            "|CRPW21106375| 2717 E Palmyra AVE |      Orange|   92869|        Orange|           2|     1814|  7850.0| 58|         2|        3|        2|        0|  5|     2021|     2021|    825000|    885000|5/18/2021 0:00|5/23/2021 0:00|      1963|\n",
            "| ME221055681|  1142 Elderwood DR |        Galt|   95632|    Sacramento|           4|     1218|  6499.0| 23|         2|        3|        2|        0|  3|     2021|     2021|    425000|    450000|5/21/2021 0:00|5/24/2021 0:00|      1998|\n",
            "|  EB40951076|        1331 Elm St |  El Cerrito|   94530|  Contra Costa|           6|      951|  3700.0| 73|         1|        2|        1|        0|  0|     2021|     2021|    900000|    900000|5/21/2021 0:00|5/21/2021 0:00|      1948|\n",
            "|  ML81845593|   1563 Piedmont RD |    San Jose|   95132|   Santa Clara|           7|     1811|  6552.0| 48|         2|        5|        2|        0|  0|     2021|     2021|   1000000|   1000000|5/24/2021 0:00|5/24/2021 0:00|      1973|\n",
            "+------------+--------------------+------------+--------+--------------+------------+---------+--------+---+----------+---------+---------+---------+---+---------+---------+----------+----------+--------------+--------------+----------+\n",
            "only showing top 20 rows\n",
            "\n"
          ],
          "name": "stdout"
        }
      ]
    },
    {
      "cell_type": "code",
      "metadata": {
        "colab": {
          "base_uri": "https://localhost:8080/"
        },
        "id": "9pCMYRDf2Ewi",
        "outputId": "48ad9133-5047-4720-ee00-f06d115d085e"
      },
      "source": [
        "df = df.select('county','County_Index','SqFtTotal','Lot_Size', 'BedsTotal','BathsTotal',\"Age\",'Year_Built','DOM','Year_Sold','Sale_Price')\n",
        "data_df = df.filter(\"County_Index = 1\")\n",
        "data_df.dtypes\n",
        "data_df.count()"
      ],
      "execution_count": 5,
      "outputs": [
        {
          "output_type": "execute_result",
          "data": {
            "text/plain": [
              "419"
            ]
          },
          "metadata": {
            "tags": []
          },
          "execution_count": 5
        }
      ]
    },
    {
      "cell_type": "code",
      "metadata": {
        "id": "5rDoAzll2FJE"
      },
      "source": [
        "# Import libraries\n",
        "import numpy as np\n",
        "import pandas as pd\n",
        "import seaborn as sns\n",
        "%matplotlib inline\n",
        "from pathlib import Path\n",
        "import matplotlib.pyplot as plt\n",
        "from sklearn.linear_model import LinearRegression"
      ],
      "execution_count": 6,
      "outputs": []
    },
    {
      "cell_type": "code",
      "metadata": {
        "id": "JBbAJ98y3O0v"
      },
      "source": [
        "data_array = np.array(data_df.collect())"
      ],
      "execution_count": 7,
      "outputs": []
    },
    {
      "cell_type": "code",
      "metadata": {
        "id": "OLJdL2AO3j5M",
        "colab": {
          "base_uri": "https://localhost:8080/"
        },
        "outputId": "cd957ffd-d174-44cd-9187-118284e09849"
      },
      "source": [
        "X = data_array[0:419,1:10]\n",
        "y = data_array[0:419,10:11]\n",
        "print(X)\n",
        "print(y)"
      ],
      "execution_count": 8,
      "outputs": [
        {
          "output_type": "stream",
          "text": [
            "[['1' '2389' '6098.0' ... '2014' '6' '2021']\n",
            " ['1' '2250' '4356.0' ... '2003' '0' '2021']\n",
            " ['1' '1834' '6098.0' ... '1987' '3' '2021']\n",
            " ...\n",
            " ['1' '2636' '9148.0' ... '2012' '1' '2021']\n",
            " ['1' '1542' '4792.0' ... '1996' '7' '2021']\n",
            " ['1' '2586' '5663.0' ... '2015' '6' '2021']]\n",
            "[['800000']\n",
            " ['775000']\n",
            " ['511000']\n",
            " ['540000']\n",
            " ['540000']\n",
            " ['740000']\n",
            " ['675000']\n",
            " ['560000']\n",
            " ['765000']\n",
            " ['735000']\n",
            " ['545000']\n",
            " ['506000']\n",
            " ['445000']\n",
            " ['520000']\n",
            " ['395000']\n",
            " ['730000']\n",
            " ['650000']\n",
            " ['710000']\n",
            " ['610000']\n",
            " ['560000']\n",
            " ['370000']\n",
            " ['180000']\n",
            " ['900000']\n",
            " ['375000']\n",
            " ['610000']\n",
            " ['635000']\n",
            " ['2700000']\n",
            " ['310000']\n",
            " ['900000']\n",
            " ['661000']\n",
            " ['845000']\n",
            " ['430000']\n",
            " ['590000']\n",
            " ['450000']\n",
            " ['282000']\n",
            " ['607000']\n",
            " ['546000']\n",
            " ['495000']\n",
            " ['450000']\n",
            " ['465000']\n",
            " ['535000']\n",
            " ['630000']\n",
            " ['1660000']\n",
            " ['435000']\n",
            " ['565000']\n",
            " ['415900']\n",
            " ['790000']\n",
            " ['735000']\n",
            " ['420000']\n",
            " ['455000']\n",
            " ['1200000']\n",
            " ['560000']\n",
            " ['505000']\n",
            " ['580000']\n",
            " ['1500000']\n",
            " ['655000']\n",
            " ['388500']\n",
            " ['430000']\n",
            " ['350000']\n",
            " ['550000']\n",
            " ['330000']\n",
            " ['737500']\n",
            " ['625000']\n",
            " ['380000']\n",
            " ['607000']\n",
            " ['440000']\n",
            " ['769000']\n",
            " ['243000']\n",
            " ['780000']\n",
            " ['485000']\n",
            " ['310000']\n",
            " ['378000']\n",
            " ['385000']\n",
            " ['875000']\n",
            " ['325000']\n",
            " ['465000']\n",
            " ['340000']\n",
            " ['470000']\n",
            " ['550000']\n",
            " ['305000']\n",
            " ['595000']\n",
            " ['850000']\n",
            " ['540000']\n",
            " ['445000']\n",
            " ['425000']\n",
            " ['600000']\n",
            " ['591500']\n",
            " ['375000']\n",
            " ['510000']\n",
            " ['575000']\n",
            " ['980000']\n",
            " ['660000']\n",
            " ['525000']\n",
            " ['535000']\n",
            " ['585000']\n",
            " ['765000']\n",
            " ['759000']\n",
            " ['275000']\n",
            " ['490000']\n",
            " ['612000']\n",
            " ['509000']\n",
            " ['500000']\n",
            " ['650000']\n",
            " ['610000']\n",
            " ['425000']\n",
            " ['530000']\n",
            " ['735000']\n",
            " ['875000']\n",
            " ['589000']\n",
            " ['456000']\n",
            " ['525000']\n",
            " ['525000']\n",
            " ['650000']\n",
            " ['490000']\n",
            " ['552500']\n",
            " ['500000']\n",
            " ['430000']\n",
            " ['440000']\n",
            " ['775000']\n",
            " ['670000']\n",
            " ['605000']\n",
            " ['540000']\n",
            " ['525000']\n",
            " ['495000']\n",
            " ['600000']\n",
            " ['299000']\n",
            " ['440000']\n",
            " ['599000']\n",
            " ['390000']\n",
            " ['719000']\n",
            " ['815000']\n",
            " ['480000']\n",
            " ['615000']\n",
            " ['650000']\n",
            " ['327000']\n",
            " ['612250']\n",
            " ['558000']\n",
            " ['499900']\n",
            " ['340000']\n",
            " ['825000']\n",
            " ['737500']\n",
            " ['385000']\n",
            " ['469000']\n",
            " ['408000']\n",
            " ['622000']\n",
            " ['725000']\n",
            " ['380000']\n",
            " ['505000']\n",
            " ['393000']\n",
            " ['268000']\n",
            " ['975000']\n",
            " ['545000']\n",
            " ['355000']\n",
            " ['600000']\n",
            " ['390000']\n",
            " ['565000']\n",
            " ['515000']\n",
            " ['800000']\n",
            " ['450000']\n",
            " ['1099000']\n",
            " ['657000']\n",
            " ['1300000']\n",
            " ['715000']\n",
            " ['492000']\n",
            " ['610000']\n",
            " ['720000']\n",
            " ['485000']\n",
            " ['585000']\n",
            " ['617000']\n",
            " ['700000']\n",
            " ['500000']\n",
            " ['710000']\n",
            " ['425000']\n",
            " ['680000']\n",
            " ['402500']\n",
            " ['272000']\n",
            " ['585000']\n",
            " ['447000']\n",
            " ['525000']\n",
            " ['549000']\n",
            " ['875000']\n",
            " ['530000']\n",
            " ['400000']\n",
            " ['338000']\n",
            " ['415000']\n",
            " ['429900']\n",
            " ['475000']\n",
            " ['325000']\n",
            " ['450000']\n",
            " ['430000']\n",
            " ['270000']\n",
            " ['700000']\n",
            " ['511000']\n",
            " ['415000']\n",
            " ['556000']\n",
            " ['495000']\n",
            " ['430000']\n",
            " ['440000']\n",
            " ['325000']\n",
            " ['430000']\n",
            " ['642000']\n",
            " ['700000']\n",
            " ['540000']\n",
            " ['711000']\n",
            " ['550000']\n",
            " ['579000']\n",
            " ['740000']\n",
            " ['470000']\n",
            " ['418000']\n",
            " ['395000']\n",
            " ['361000']\n",
            " ['304500']\n",
            " ['380000']\n",
            " ['410000']\n",
            " ['525000']\n",
            " ['385000']\n",
            " ['800000']\n",
            " ['690000']\n",
            " ['799900']\n",
            " ['751000']\n",
            " ['677500']\n",
            " ['430000']\n",
            " ['855000']\n",
            " ['507000']\n",
            " ['490000']\n",
            " ['280000']\n",
            " ['665000']\n",
            " ['225000']\n",
            " ['592000']\n",
            " ['540000']\n",
            " ['585000']\n",
            " ['485000']\n",
            " ['475000']\n",
            " ['586000']\n",
            " ['340000']\n",
            " ['493000']\n",
            " ['370000']\n",
            " ['745000']\n",
            " ['565000']\n",
            " ['755000']\n",
            " ['979215']\n",
            " ['775000']\n",
            " ['385000']\n",
            " ['485000']\n",
            " ['642500']\n",
            " ['510000']\n",
            " ['802000']\n",
            " ['725000']\n",
            " ['585000']\n",
            " ['505000']\n",
            " ['645000']\n",
            " ['450000']\n",
            " ['475000']\n",
            " ['725000']\n",
            " ['816000']\n",
            " ['572000']\n",
            " ['390000']\n",
            " ['295000']\n",
            " ['830000']\n",
            " ['551000']\n",
            " ['567000']\n",
            " ['640000']\n",
            " ['603000']\n",
            " ['780000']\n",
            " ['540000']\n",
            " ['793000']\n",
            " ['470000']\n",
            " ['620000']\n",
            " ['480000']\n",
            " ['600000']\n",
            " ['350000']\n",
            " ['360000']\n",
            " ['590000']\n",
            " ['280000']\n",
            " ['652500']\n",
            " ['577500']\n",
            " ['520000']\n",
            " ['397500']\n",
            " ['560000']\n",
            " ['580000']\n",
            " ['630000']\n",
            " ['325500']\n",
            " ['790000']\n",
            " ['650000']\n",
            " ['387000']\n",
            " ['291000']\n",
            " ['614000']\n",
            " ['640000']\n",
            " ['535000']\n",
            " ['585000']\n",
            " ['398000']\n",
            " ['601000']\n",
            " ['445000']\n",
            " ['740000']\n",
            " ['530000']\n",
            " ['438000']\n",
            " ['575000']\n",
            " ['500000']\n",
            " ['781000']\n",
            " ['477000']\n",
            " ['930000']\n",
            " ['515000']\n",
            " ['423000']\n",
            " ['585000']\n",
            " ['495000']\n",
            " ['600000']\n",
            " ['620000']\n",
            " ['575000']\n",
            " ['470000']\n",
            " ['645000']\n",
            " ['695000']\n",
            " ['655000']\n",
            " ['500000']\n",
            " ['600000']\n",
            " ['1050000']\n",
            " ['540000']\n",
            " ['675100']\n",
            " ['907500']\n",
            " ['590000']\n",
            " ['760000']\n",
            " ['1425000']\n",
            " ['575000']\n",
            " ['550000']\n",
            " ['585000']\n",
            " ['515000']\n",
            " ['700000']\n",
            " ['405000']\n",
            " ['503000']\n",
            " ['710000']\n",
            " ['555000']\n",
            " ['472500']\n",
            " ['395000']\n",
            " ['820000']\n",
            " ['1050000']\n",
            " ['670000']\n",
            " ['560000']\n",
            " ['341000']\n",
            " ['1350000']\n",
            " ['217500']\n",
            " ['570000']\n",
            " ['340000']\n",
            " ['600000']\n",
            " ['325000']\n",
            " ['465000']\n",
            " ['280000']\n",
            " ['800000']\n",
            " ['645000']\n",
            " ['286000']\n",
            " ['380000']\n",
            " ['595000']\n",
            " ['575000']\n",
            " ['440000']\n",
            " ['548000']\n",
            " ['200000']\n",
            " ['572000']\n",
            " ['400000']\n",
            " ['590000']\n",
            " ['595000']\n",
            " ['277000']\n",
            " ['640000']\n",
            " ['490000']\n",
            " ['481000']\n",
            " ['495000']\n",
            " ['465000']\n",
            " ['711000']\n",
            " ['1000000']\n",
            " ['750000']\n",
            " ['830000']\n",
            " ['820000']\n",
            " ['470000']\n",
            " ['584000']\n",
            " ['625000']\n",
            " ['650000']\n",
            " ['545000']\n",
            " ['465000']\n",
            " ['775000']\n",
            " ['732000']\n",
            " ['460000']\n",
            " ['580000']\n",
            " ['600500']\n",
            " ['565000']\n",
            " ['660000']\n",
            " ['2300000']\n",
            " ['620000']\n",
            " ['897000']\n",
            " ['630000']\n",
            " ['405000']\n",
            " ['963000']\n",
            " ['604000']\n",
            " ['670000']\n",
            " ['280000']\n",
            " ['425000']\n",
            " ['600000']\n",
            " ['455000']\n",
            " ['525000']\n",
            " ['470000']\n",
            " ['1150000']\n",
            " ['1675000']\n",
            " ['520000']\n",
            " ['452000']\n",
            " ['845000']\n",
            " ['659900']\n",
            " ['560000']\n",
            " ['430000']\n",
            " ['710000']\n",
            " ['636000']\n",
            " ['970000']\n",
            " ['729000']\n",
            " ['611000']\n",
            " ['477000']\n",
            " ['600000']\n",
            " ['645000']\n",
            " ['492000']\n",
            " ['1412775']\n",
            " ['625000']\n",
            " ['600000']\n",
            " ['750000']\n",
            " ['385000']\n",
            " ['570000']]\n"
          ],
          "name": "stdout"
        }
      ]
    },
    {
      "cell_type": "code",
      "metadata": {
        "id": "NGYpN-BjEFBo"
      },
      "source": [
        "#your_array = your_array.astype(np.float64)\n",
        "X = X.astype(np.float64)\n",
        "y = y.astype(np.float64)"
      ],
      "execution_count": 9,
      "outputs": []
    },
    {
      "cell_type": "code",
      "metadata": {
        "id": "V721r4IJ8JaP"
      },
      "source": [
        "from sklearn.model_selection import train_test_split\n",
        "X_train, X_test, y_train, y_test = train_test_split(X, y, test_size=0.05, random_state=5)"
      ],
      "execution_count": 10,
      "outputs": []
    },
    {
      "cell_type": "code",
      "metadata": {
        "colab": {
          "base_uri": "https://localhost:8080/"
        },
        "id": "vSQDNEXS-X6-",
        "outputId": "d4c5b9fe-6698-4100-ac3f-d9a329060cd8"
      },
      "source": [
        "print(X_train.shape, X_test.shape, y_train.shape, y_test.shape)"
      ],
      "execution_count": 11,
      "outputs": [
        {
          "output_type": "stream",
          "text": [
            "(398, 9) (21, 9) (398, 1) (21, 1)\n"
          ],
          "name": "stdout"
        }
      ]
    },
    {
      "cell_type": "code",
      "metadata": {
        "colab": {
          "base_uri": "https://localhost:8080/"
        },
        "id": "MoAa5O7T-38e",
        "outputId": "c544ba6b-9a71-4be4-f0f6-0b0639b2c61f"
      },
      "source": [
        "# Fit ML Regression to a traing set\n",
        "# Note: intercept is set to zero\n",
        "from sklearn.linear_model import LinearRegression\n",
        "regression = LinearRegression()\n",
        "regression.fit(X_train, y_train)\n",
        "\n",
        "# https://scikit-learn.org/stable/modules/generated/sklearn.linear_model.LinearRegression.html\n",
        "# LinearRegression(copy_X=True, fit_intercept=False, n_jobs=None, normalize=False)"
      ],
      "execution_count": 12,
      "outputs": [
        {
          "output_type": "execute_result",
          "data": {
            "text/plain": [
              "LinearRegression(copy_X=True, fit_intercept=True, n_jobs=None, normalize=False)"
            ]
          },
          "metadata": {
            "tags": []
          },
          "execution_count": 12
        }
      ]
    },
    {
      "cell_type": "code",
      "metadata": {
        "id": "bkVDltVtDJMx"
      },
      "source": [
        "# Predicting the test result\n",
        "y_pred = regression.predict(X_test)"
      ],
      "execution_count": 13,
      "outputs": []
    },
    {
      "cell_type": "code",
      "metadata": {
        "id": "izni-9FLGO7P",
        "colab": {
          "base_uri": "https://localhost:8080/"
        },
        "outputId": "73c7b751-5a67-4a76-e945-a988b9d0f7c4"
      },
      "source": [
        "# Print out the coefficents\n",
        "print(regression.coef_)"
      ],
      "execution_count": 14,
      "outputs": [
        {
          "output_type": "stream",
          "text": [
            "[[ 0.00000000e+00  2.34694555e+02  2.68857098e+00 -3.13283215e+04\n",
            "   2.75191985e+04  1.08161553e+03 -1.08161553e+03  2.63015595e+02\n",
            "   5.66038424e+04]]\n"
          ],
          "name": "stdout"
        }
      ]
    },
    {
      "cell_type": "code",
      "metadata": {
        "id": "d1bPEWflG4HM",
        "colab": {
          "base_uri": "https://localhost:8080/"
        },
        "outputId": "3044463f-3b53-4f29-8b78-536a6952c379"
      },
      "source": [
        "# Print out the interceptor\n",
        "print(regression.intercept_)"
      ],
      "execution_count": 15,
      "outputs": [
        {
          "output_type": "stream",
          "text": [
            "[-1.12173113e+08]\n"
          ],
          "name": "stdout"
        }
      ]
    },
    {
      "cell_type": "code",
      "metadata": {
        "colab": {
          "base_uri": "https://localhost:8080/"
        },
        "id": "tZaBfOskHAg8",
        "outputId": "2ce7b59c-289e-4d82-8a7b-d3e16c899408"
      },
      "source": [
        "# R squared\n",
        "from sklearn.metrics import r2_score\n",
        "r2_score(y_test, y_pred)"
      ],
      "execution_count": 16,
      "outputs": [
        {
          "output_type": "execute_result",
          "data": {
            "text/plain": [
              "0.23196557842444854"
            ]
          },
          "metadata": {
            "tags": []
          },
          "execution_count": 16
        }
      ]
    },
    {
      "cell_type": "code",
      "metadata": {
        "colab": {
          "base_uri": "https://localhost:8080/"
        },
        "id": "TD3xGTamtxRh",
        "outputId": "eb1b0a8c-6ddf-4707-f382-a3741eb33565"
      },
      "source": [
        "from sklearn.metrics import mean_squared_error\n",
        "mean_squared_error(y_test, y_pred)"
      ],
      "execution_count": 17,
      "outputs": [
        {
          "output_type": "execute_result",
          "data": {
            "text/plain": [
              "21270596620.03321"
            ]
          },
          "metadata": {
            "tags": []
          },
          "execution_count": 17
        }
      ]
    },
    {
      "cell_type": "code",
      "metadata": {
        "id": "e1K3xZFIHdJW",
        "colab": {
          "base_uri": "https://localhost:8080/",
          "height": 281
        },
        "outputId": "6dfcab72-2f5d-4b78-ffb9-5eefec770e1b"
      },
      "source": [
        "import matplotlib.pyplot as plt\n",
        "plt.plot(y_pred)\n",
        "plt.plot(y_test)\n",
        "plt.title('Model Prediction: no intercept')\n",
        "#plt.ylabel('Loss')\n",
        "#plt.xlabel('Epoch')\n",
        "plt.legend(['y_pred', 'y_test'], loc='upper right')\n",
        "plt.show()"
      ],
      "execution_count": 18,
      "outputs": [
        {
          "output_type": "display_data",
          "data": {
            "image/png": "[encoded data removed]",
            "text/plain": [
              "<Figure size 432x288 with 1 Axes>"
            ]
          },
          "metadata": {
            "tags": [],
            "needs_background": "light"
          }
        }
      ]
    },
    {
      "cell_type": "code",
      "metadata": {
        "colab": {
          "base_uri": "https://localhost:8080/"
        },
        "id": "8lkt25W-hZ9M",
        "outputId": "497c41be-dd5d-4fd5-d94b-15bf40bd6264"
      },
      "source": [
        "# Fit ML Regression to a traing set\n",
        "# Note: intercept is not restricted\n",
        "from sklearn.linear_model import LinearRegression\n",
        "regression2 = LinearRegression(fit_intercept=True)\n",
        "regression2.fit(X_train, y_train)\n"
      ],
      "execution_count": 19,
      "outputs": [
        {
          "output_type": "execute_result",
          "data": {
            "text/plain": [
              "LinearRegression(copy_X=True, fit_intercept=True, n_jobs=None, normalize=False)"
            ]
          },
          "metadata": {
            "tags": []
          },
          "execution_count": 19
        }
      ]
    },
    {
      "cell_type": "code",
      "metadata": {
        "id": "a-DNyR7Ihl-O"
      },
      "source": [
        "# Predicting the test result\n",
        "y_pred2 = regression2.predict(X_test)"
      ],
      "execution_count": 20,
      "outputs": []
    },
    {
      "cell_type": "code",
      "metadata": {
        "id": "3JojcG6Zh3x-",
        "colab": {
          "base_uri": "https://localhost:8080/"
        },
        "outputId": "d1e8feaf-508a-4a3d-e95d-9eaf5b108166"
      },
      "source": [
        "# Print out the coefficents\n",
        "print(regression2.coef_)"
      ],
      "execution_count": 21,
      "outputs": [
        {
          "output_type": "stream",
          "text": [
            "[[ 0.00000000e+00  2.34694555e+02  2.68857098e+00 -3.13283215e+04\n",
            "   2.75191985e+04  1.08161553e+03 -1.08161553e+03  2.63015595e+02\n",
            "   5.66038424e+04]]\n"
          ],
          "name": "stdout"
        }
      ]
    },
    {
      "cell_type": "code",
      "metadata": {
        "id": "vxEaJQFLidLq",
        "colab": {
          "base_uri": "https://localhost:8080/"
        },
        "outputId": "f095d671-f8b1-4b6c-f2e8-78dbe4df8e64"
      },
      "source": [
        "# Print out the interceptor\n",
        "print(regression.intercept_)"
      ],
      "execution_count": 22,
      "outputs": [
        {
          "output_type": "stream",
          "text": [
            "[-1.12173113e+08]\n"
          ],
          "name": "stdout"
        }
      ]
    },
    {
      "cell_type": "code",
      "metadata": {
        "id": "htSDeursh70g",
        "colab": {
          "base_uri": "https://localhost:8080/"
        },
        "outputId": "8064e9eb-f3d0-4aa2-ee39-ef92e6a30b0f"
      },
      "source": [
        "# R squared\n",
        "from sklearn.metrics import r2_score\n",
        "r2_int = r2_score(y_test, y_pred2)\n",
        "r2_int"
      ],
      "execution_count": 23,
      "outputs": [
        {
          "output_type": "execute_result",
          "data": {
            "text/plain": [
              "0.23196557842444854"
            ]
          },
          "metadata": {
            "tags": []
          },
          "execution_count": 23
        }
      ]
    },
    {
      "cell_type": "markdown",
      "metadata": {
        "id": "HxJEDiJMpP03"
      },
      "source": [
        "**With an intercept**, the R squared is also 0.62 or 62%"
      ]
    },
    {
      "cell_type": "code",
      "metadata": {
        "id": "HTiY0BfViGXc",
        "colab": {
          "base_uri": "https://localhost:8080/",
          "height": 281
        },
        "outputId": "8bb57ecd-7860-46a7-e583-0fbaaaf8fdb9"
      },
      "source": [
        "import matplotlib.pyplot as plt\n",
        "plt.plot(y_pred2)\n",
        "plt.plot(y_test)\n",
        "plt.title('Model Prediction: has an intercept')\n",
        "#plt.ylabel('Loss')\n",
        "#plt.xlabel('Epoch')\n",
        "plt.legend(['y_pred2', 'y_test', 'r2_int'], loc='upper right')\n",
        "plt.show()"
      ],
      "execution_count": 24,
      "outputs": [
        {
          "output_type": "display_data",
          "data": {
            "image/png": "[encoded data removed]",
            "text/plain": [
              "<Figure size 432x288 with 1 Axes>"
            ]
          },
          "metadata": {
            "tags": [],
            "needs_background": "light"
          }
        }
      ]
    },
    {
      "cell_type": "markdown",
      "metadata": {
        "id": "lM1xNxclg6nL"
      },
      "source": [
        "**END**"
      ]
    }
  ]
}