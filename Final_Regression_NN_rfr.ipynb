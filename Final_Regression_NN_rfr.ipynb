{
  "nbformat": 4,
  "nbformat_minor": 0,
  "metadata": {
    "colab": {
      "name": "Final_Regression_NN_rfr.ipynb",
      "provenance": [],
      "collapsed_sections": []
    },
    "kernelspec": {
      "name": "python3",
      "display_name": "Python 3"
    },
    "language_info": {
      "name": "python"
    }
  },
  "cells": [
    {
      "cell_type": "code",
      "metadata": {
        "colab": {
          "base_uri": "https://localhost:8080/"
        },
        "id": "lFv5-T_zupnd",
        "outputId": "b595a01e-01cf-443d-bd3c-e7a81ddb9451"
      },
      "source": [
        "import os\n",
        "# Find the latest version of spark 3.0  from http://www.apache.org/dist/spark/ and enter as the spark version\n",
        "# For example:\n",
        "spark_version = 'spark-3.0.3'\n",
        "#spark_version = 'spark-3.<enter version>'\n",
        "os.environ['SPARK_VERSION']=spark_version\n",
        "\n",
        "# Install Spark and Java\n",
        "!apt-get update\n",
        "!apt-get install openjdk-11-jdk-headless -qq > /dev/null\n",
        "!wget -q http://www.apache.org/dist/spark/$SPARK_VERSION/$SPARK_VERSION-bin-hadoop2.7.tgz\n",
        "!tar xf $SPARK_VERSION-bin-hadoop2.7.tgz\n",
        "!pip install -q findspark\n",
        "\n",
        "# Set Environment Variables\n",
        "import os\n",
        "os.environ[\"JAVA_HOME\"] = \"/usr/lib/jvm/java-11-openjdk-amd64\"\n",
        "os.environ[\"SPARK_HOME\"] = f\"/content/{spark_version}-bin-hadoop2.7\"\n",
        "\n",
        "# Start a SparkSession\n",
        "import findspark\n",
        "findspark.init()"
      ],
      "execution_count": 1,
      "outputs": [
        {
          "output_type": "stream",
          "text": [
            "\r0% [Working]\r            \rGet:1 http://security.ubuntu.com/ubuntu bionic-security InRelease [88.7 kB]\n",
            "\r0% [Connecting to archive.ubuntu.com (91.189.88.142)] [1 InRelease 14.2 kB/88.7\r                                                                               \rGet:2 https://cloud.r-project.org/bin/linux/ubuntu bionic-cran40/ InRelease [3,626 B]\n",
            "Ign:3 https://developer.download.nvidia.com/compute/cuda/repos/ubuntu1804/x86_64  InRelease\n",
            "Get:4 http://ppa.launchpad.net/c2d4u.team/c2d4u4.0+/ubuntu bionic InRelease [15.9 kB]\n",
            "Hit:5 http://archive.ubuntu.com/ubuntu bionic InRelease\n",
            "Ign:6 https://developer.download.nvidia.com/compute/machine-learning/repos/ubuntu1804/x86_64  InRelease\n",
            "Hit:7 https://developer.download.nvidia.com/compute/cuda/repos/ubuntu1804/x86_64  Release\n",
            "Hit:8 https://developer.download.nvidia.com/compute/machine-learning/repos/ubuntu1804/x86_64  Release\n",
            "Get:9 http://archive.ubuntu.com/ubuntu bionic-updates InRelease [88.7 kB]\n",
            "Hit:10 http://ppa.launchpad.net/cran/libgit2/ubuntu bionic InRelease\n",
            "Get:11 http://archive.ubuntu.com/ubuntu bionic-backports InRelease [74.6 kB]\n",
            "Hit:12 http://ppa.launchpad.net/deadsnakes/ppa/ubuntu bionic InRelease\n",
            "Hit:13 http://ppa.launchpad.net/graphics-drivers/ppa/ubuntu bionic InRelease\n",
            "Get:14 http://security.ubuntu.com/ubuntu bionic-security/restricted amd64 Packages [543 kB]\n",
            "Get:15 http://security.ubuntu.com/ubuntu bionic-security/universe amd64 Packages [1,421 kB]\n",
            "Get:16 http://security.ubuntu.com/ubuntu bionic-security/main amd64 Packages [2,294 kB]\n",
            "Get:19 http://ppa.launchpad.net/c2d4u.team/c2d4u4.0+/ubuntu bionic/main Sources [1,792 kB]\n",
            "Get:20 http://archive.ubuntu.com/ubuntu bionic-updates/restricted amd64 Packages [575 kB]\n",
            "Get:21 http://ppa.launchpad.net/c2d4u.team/c2d4u4.0+/ubuntu bionic/main amd64 Packages [917 kB]\n",
            "Get:22 http://archive.ubuntu.com/ubuntu bionic-updates/main amd64 Packages [2,730 kB]\n",
            "Get:23 http://archive.ubuntu.com/ubuntu bionic-updates/multiverse amd64 Packages [34.4 kB]\n",
            "Get:24 http://archive.ubuntu.com/ubuntu bionic-updates/universe amd64 Packages [2,196 kB]\n",
            "Fetched 12.8 MB in 5s (2,763 kB/s)\n",
            "Reading package lists... Done\n"
          ],
          "name": "stdout"
        }
      ]
    },
    {
      "cell_type": "code",
      "metadata": {
        "id": "Chcx1Hb5vNuS",
        "colab": {
          "base_uri": "https://localhost:8080/"
        },
        "outputId": "1d8f38e4-c38d-4233-8ca5-cd63d593a805"
      },
      "source": [
        "# First, enter the following code to download a Postgres driver that will allow Spark to interact with Postgres:\n",
        "!wget https://jdbc.postgresql.org/download/postgresql-42.2.16.jar"
      ],
      "execution_count": 2,
      "outputs": [
        {
          "output_type": "stream",
          "text": [
            "--2021-08-18 17:54:39--  https://jdbc.postgresql.org/download/postgresql-42.2.16.jar\n",
            "Resolving jdbc.postgresql.org (jdbc.postgresql.org)... 72.32.157.228, 2001:4800:3e1:1::228\n",
            "Connecting to jdbc.postgresql.org (jdbc.postgresql.org)|72.32.157.228|:443... connected.\n",
            "HTTP request sent, awaiting response... 200 OK\n",
            "Length: 1002883 (979K) [application/java-archive]\n",
            "Saving to: ‘postgresql-42.2.16.jar’\n",
            "\n",
            "postgresql-42.2.16. 100%[===================>] 979.38K  --.-KB/s    in 0.1s    \n",
            "\n",
            "2021-08-18 17:54:39 (6.53 MB/s) - ‘postgresql-42.2.16.jar’ saved [1002883/1002883]\n",
            "\n"
          ],
          "name": "stdout"
        }
      ]
    },
    {
      "cell_type": "code",
      "metadata": {
        "id": "x1fG3JpHGtlD"
      },
      "source": [
        "from pyspark.sql import SparkSession\n",
        "spark = SparkSession.builder.appName(\"Final_Regression_NeuralNetwork\").config(\"spark.driver.extraClassPath\",\"/content/postgresql-42.2.16.jar\").getOrCreate()"
      ],
      "execution_count": 3,
      "outputs": []
    },
    {
      "cell_type": "code",
      "metadata": {
        "id": "L9WRF-EGf86x"
      },
      "source": [
        "# Load in a sql functions\n",
        "# Import our dependencies\n",
        "import numpy as np\n",
        "import pandas as pd\n",
        "import seaborn as sns\n",
        "import tensorflow as tf\n",
        "import matplotlib.pyplot as plt\n",
        "\n",
        "from sklearn.model_selection import train_test_split\n",
        "from sklearn.preprocessing import StandardScaler, OneHotEncoder\n",
        "from pyspark.sql.functions import col, avg, sum, count, rand, randn, to_timestamp, to_date, date_format, sqrt, unix_timestamp, from_unixtime\n",
        "from pathlib import Path\n",
        "from sklearn.linear_model import LinearRegression"
      ],
      "execution_count": 4,
      "outputs": []
    },
    {
      "cell_type": "code",
      "metadata": {
        "id": "kbZk5lFRFR6p"
      },
      "source": [
        "# Read in data from S3 Buckets\n",
        "from pyspark import SparkFiles\n",
        "url = \"https://tq2cutebucket.s3.us-west-1.amazonaws.com/final_data.csv\"\n",
        "spark.sparkContext.addFile(url)\n",
        "df = spark.read.option(\"encoding\", \"UTF-8\").csv(SparkFiles.get(\"final_data.csv\"), sep=\",\", header=True, inferSchema=True)"
      ],
      "execution_count": 5,
      "outputs": []
    },
    {
      "cell_type": "code",
      "metadata": {
        "id": "BguLxFOQnce6"
      },
      "source": [
        "# Drop null values\n",
        "# This is a safety step in case the data is not perfect\n",
        "df = df.dropDuplicates(['MLS_Number','Street_Address','City','Zip_Code','county','County_Index','SqFtTotal','Lot_Size','BedsTotal','BathsTotal','BathsFull','BathsHalf','Year_Built','List_Price','Sale_Price'])\n",
        "df = df.sort(\"MLS_Number\")"
      ],
      "execution_count": 6,
      "outputs": []
    },
    {
      "cell_type": "code",
      "metadata": {
        "id": "VsQLq4dTRh0d"
      },
      "source": [
        "# Process the date column (listing date and sale date)\n",
        "#df.select(to_date(df.Sale_Date, 'MM/dd/yyyy HH:mm').alias('date')).show()\n",
        "\n",
        "df = df.withColumn('Sale_Date',to_date(to_timestamp(col('Sale_Date'), 'M/d/yyyy H:mm')))\n",
        "df = df.withColumn('Listing_Date',to_date(to_timestamp(col('Listing_Date'), 'M/d/yyyy H:mm')))"
      ],
      "execution_count": 7,
      "outputs": []
    },
    {
      "cell_type": "code",
      "metadata": {
        "id": "CG1oQPD4SdRR"
      },
      "source": [
        "# Convert data to pandas df\n",
        "data_df=df.select('county','SqFtTotal','Lot_Size','Age','BathsTotal','BedsTotal','BathsFull','BathsHalf','DOM','Year_Sold','List_Price','Sale_Price').toPandas()"
      ],
      "execution_count": 8,
      "outputs": []
    },
    {
      "cell_type": "code",
      "metadata": {
        "colab": {
          "base_uri": "https://localhost:8080/"
        },
        "id": "po1cWS6sQTnG",
        "outputId": "adcece0c-dae5-426e-b6cd-0f5a78e92a38"
      },
      "source": [
        "# Break down county into column of county_county\n",
        "application_cat = data_df.dtypes[data_df.dtypes == \"object\"].index.tolist()\n",
        "data_df[application_cat].nunique()"
      ],
      "execution_count": 9,
      "outputs": [
        {
          "output_type": "execute_result",
          "data": {
            "text/plain": [
              "county    46\n",
              "dtype: int64"
            ]
          },
          "metadata": {
            "tags": []
          },
          "execution_count": 9
        }
      ]
    },
    {
      "cell_type": "code",
      "metadata": {
        "colab": {
          "base_uri": "https://localhost:8080/"
        },
        "id": "hfAEi9_UScPG",
        "outputId": "c01210c5-9ed2-42bc-cc00-187a42d74c6a"
      },
      "source": [
        "# Look at APPLICATION_TYPE value counts for binning\n",
        "#  YOUR CODE GOES HERE\n",
        "# Check the unique value counts to see if binning is required\n",
        "county_type_counts = data_df.county.value_counts()\n",
        "county_type_counts"
      ],
      "execution_count": 10,
      "outputs": [
        {
          "output_type": "execute_result",
          "data": {
            "text/plain": [
              "Los Angeles        701\n",
              "Riverside          412\n",
              "Orange             403\n",
              "San Bernardino     282\n",
              "Sacramento         281\n",
              "San Diego          237\n",
              "Contra Costa       237\n",
              "Santa Clara        208\n",
              "Alameda            181\n",
              "Placer             122\n",
              "San Joaquin        104\n",
              "Stanislaus          94\n",
              "Butte               91\n",
              "San Mateo           79\n",
              "Marin               75\n",
              "San Luis Obispo     75\n",
              "Solano              60\n",
              "Ventura             53\n",
              "Yuba                52\n",
              "El Dorado           49\n",
              "Sonoma              44\n",
              "San Francisco       41\n",
              "Merced              39\n",
              "Monterey            37\n",
              "Santa Cruz          34\n",
              "Yolo                31\n",
              "Sutter              29\n",
              "Nevada              26\n",
              "Madera              18\n",
              "Lake                14\n",
              "Napa                13\n",
              "Santa Barbara       13\n",
              "Kern                12\n",
              "San Benito          11\n",
              "Amador              10\n",
              "Mendocino           10\n",
              "Shasta               9\n",
              "Fresno               9\n",
              "Colusa               8\n",
              "Calaveras            7\n",
              "Tehama               3\n",
              "Glenn                3\n",
              "Tuolumne             3\n",
              "Plumas               2\n",
              "Tulare               2\n",
              "Imperial             1\n",
              "Name: county, dtype: int64"
            ]
          },
          "metadata": {
            "tags": []
          },
          "execution_count": 10
        }
      ]
    },
    {
      "cell_type": "code",
      "metadata": {
        "id": "_xC285QmUJAQ"
      },
      "source": [
        "# Determine which values to replace if counts are less than ...?\n",
        "# Determine which values to replaceapplication_type_counts\n",
        "replace_county = list(county_type_counts[county_type_counts < 10].index)\n",
        "\n",
        "# Replace in dataframe\n",
        "for app in replace_county:\n",
        "    data_df.county = data_df.county.replace(app,\"Other\")\n",
        "    \n",
        "# Check to make sure binning was successful\n",
        "# data_df.county.value_counts()"
      ],
      "execution_count": 11,
      "outputs": []
    },
    {
      "cell_type": "code",
      "metadata": {
        "id": "0ZtE1DA1V4cS"
      },
      "source": [
        "from sklearn.preprocessing import StandardScaler,OneHotEncoder\n",
        "# Create a OneHotEncoder instance\n",
        "enc = OneHotEncoder(sparse=False)\n",
        "\n",
        "# Fit and transform the OneHotEncoder using the categorical variable list\n",
        "encode_df = pd.DataFrame(enc.fit_transform(data_df[application_cat]))\n",
        "\n",
        "\n",
        "# Add the encoded variable names to the dataframe\n",
        "encode_df.columns = enc.get_feature_names(application_cat)\n",
        "#encode_df.head()"
      ],
      "execution_count": 12,
      "outputs": []
    },
    {
      "cell_type": "code",
      "metadata": {
        "id": "J9fUm4WAawxO"
      },
      "source": [
        "# Merge one-hot encoded features and drop the originals\n",
        "data_df = data_df.merge(encode_df,left_index=True, right_index=True)\n",
        "data_df = data_df.drop(application_cat,1)"
      ],
      "execution_count": 13,
      "outputs": []
    },
    {
      "cell_type": "code",
      "metadata": {
        "colab": {
          "base_uri": "https://localhost:8080/",
          "height": 357
        },
        "id": "kuv2gyrAOGox",
        "outputId": "4229d0d3-e912-49c1-88c8-a5ee8a3eb1a6"
      },
      "source": [
        "# Perform descriptive analytics\n",
        "# This will take times and RAM resources\n",
        "data_df.describe().transpose().head(10)\n",
        "#data_df.columns"
      ],
      "execution_count": 14,
      "outputs": [
        {
          "output_type": "execute_result",
          "data": {
            "text/html": [
              "<div>\n",
              "<style scoped>\n",
              "    .dataframe tbody tr th:only-of-type {\n",
              "        vertical-align: middle;\n",
              "    }\n",
              "\n",
              "    .dataframe tbody tr th {\n",
              "        vertical-align: top;\n",
              "    }\n",
              "\n",
              "    .dataframe thead th {\n",
              "        text-align: right;\n",
              "    }\n",
              "</style>\n",
              "<table border=\"1\" class=\"dataframe\">\n",
              "  <thead>\n",
              "    <tr style=\"text-align: right;\">\n",
              "      <th></th>\n",
              "      <th>count</th>\n",
              "      <th>mean</th>\n",
              "      <th>std</th>\n",
              "      <th>min</th>\n",
              "      <th>25%</th>\n",
              "      <th>50%</th>\n",
              "      <th>75%</th>\n",
              "      <th>max</th>\n",
              "    </tr>\n",
              "  </thead>\n",
              "  <tbody>\n",
              "    <tr>\n",
              "      <th>SqFtTotal</th>\n",
              "      <td>4225.0</td>\n",
              "      <td>2.005063e+03</td>\n",
              "      <td>9.413365e+02</td>\n",
              "      <td>454.0</td>\n",
              "      <td>1368.0</td>\n",
              "      <td>1792.0</td>\n",
              "      <td>2383.0</td>\n",
              "      <td>13300.0</td>\n",
              "    </tr>\n",
              "    <tr>\n",
              "      <th>Lot_Size</th>\n",
              "      <td>4225.0</td>\n",
              "      <td>3.089252e+05</td>\n",
              "      <td>9.476886e+06</td>\n",
              "      <td>864.0</td>\n",
              "      <td>5683.0</td>\n",
              "      <td>7149.0</td>\n",
              "      <td>10063.0</td>\n",
              "      <td>493360560.0</td>\n",
              "    </tr>\n",
              "    <tr>\n",
              "      <th>Age</th>\n",
              "      <td>4225.0</td>\n",
              "      <td>4.465278e+01</td>\n",
              "      <td>2.580530e+01</td>\n",
              "      <td>0.0</td>\n",
              "      <td>23.0</td>\n",
              "      <td>43.0</td>\n",
              "      <td>64.0</td>\n",
              "      <td>138.0</td>\n",
              "    </tr>\n",
              "    <tr>\n",
              "      <th>BathsTotal</th>\n",
              "      <td>4225.0</td>\n",
              "      <td>2.480710e+00</td>\n",
              "      <td>1.010442e+00</td>\n",
              "      <td>0.0</td>\n",
              "      <td>2.0</td>\n",
              "      <td>2.0</td>\n",
              "      <td>3.0</td>\n",
              "      <td>12.0</td>\n",
              "    </tr>\n",
              "    <tr>\n",
              "      <th>BedsTotal</th>\n",
              "      <td>4225.0</td>\n",
              "      <td>3.438817e+00</td>\n",
              "      <td>8.884830e-01</td>\n",
              "      <td>1.0</td>\n",
              "      <td>3.0</td>\n",
              "      <td>3.0</td>\n",
              "      <td>4.0</td>\n",
              "      <td>8.0</td>\n",
              "    </tr>\n",
              "    <tr>\n",
              "      <th>BathsFull</th>\n",
              "      <td>4225.0</td>\n",
              "      <td>2.208757e+00</td>\n",
              "      <td>8.359631e-01</td>\n",
              "      <td>0.0</td>\n",
              "      <td>2.0</td>\n",
              "      <td>2.0</td>\n",
              "      <td>3.0</td>\n",
              "      <td>8.0</td>\n",
              "    </tr>\n",
              "    <tr>\n",
              "      <th>BathsHalf</th>\n",
              "      <td>4225.0</td>\n",
              "      <td>2.719527e-01</td>\n",
              "      <td>4.627524e-01</td>\n",
              "      <td>0.0</td>\n",
              "      <td>0.0</td>\n",
              "      <td>0.0</td>\n",
              "      <td>1.0</td>\n",
              "      <td>4.0</td>\n",
              "    </tr>\n",
              "    <tr>\n",
              "      <th>DOM</th>\n",
              "      <td>4225.0</td>\n",
              "      <td>1.036047e+01</td>\n",
              "      <td>3.052176e+01</td>\n",
              "      <td>0.0</td>\n",
              "      <td>3.0</td>\n",
              "      <td>6.0</td>\n",
              "      <td>9.0</td>\n",
              "      <td>1013.0</td>\n",
              "    </tr>\n",
              "    <tr>\n",
              "      <th>Year_Sold</th>\n",
              "      <td>4225.0</td>\n",
              "      <td>2.020981e+03</td>\n",
              "      <td>1.371441e-01</td>\n",
              "      <td>2020.0</td>\n",
              "      <td>2021.0</td>\n",
              "      <td>2021.0</td>\n",
              "      <td>2021.0</td>\n",
              "      <td>2021.0</td>\n",
              "    </tr>\n",
              "    <tr>\n",
              "      <th>List_Price</th>\n",
              "      <td>4225.0</td>\n",
              "      <td>1.014835e+06</td>\n",
              "      <td>1.119410e+06</td>\n",
              "      <td>76900.0</td>\n",
              "      <td>499000.0</td>\n",
              "      <td>715900.0</td>\n",
              "      <td>1130000.0</td>\n",
              "      <td>24999000.0</td>\n",
              "    </tr>\n",
              "  </tbody>\n",
              "</table>\n",
              "</div>"
            ],
            "text/plain": [
              "             count          mean  ...        75%          max\n",
              "SqFtTotal   4225.0  2.005063e+03  ...     2383.0      13300.0\n",
              "Lot_Size    4225.0  3.089252e+05  ...    10063.0  493360560.0\n",
              "Age         4225.0  4.465278e+01  ...       64.0        138.0\n",
              "BathsTotal  4225.0  2.480710e+00  ...        3.0         12.0\n",
              "BedsTotal   4225.0  3.438817e+00  ...        4.0          8.0\n",
              "BathsFull   4225.0  2.208757e+00  ...        3.0          8.0\n",
              "BathsHalf   4225.0  2.719527e-01  ...        1.0          4.0\n",
              "DOM         4225.0  1.036047e+01  ...        9.0       1013.0\n",
              "Year_Sold   4225.0  2.020981e+03  ...     2021.0       2021.0\n",
              "List_Price  4225.0  1.014835e+06  ...  1130000.0   24999000.0\n",
              "\n",
              "[10 rows x 8 columns]"
            ]
          },
          "metadata": {
            "tags": []
          },
          "execution_count": 14
        }
      ]
    },
    {
      "cell_type": "markdown",
      "metadata": {
        "id": "71bcOUMB57DQ"
      },
      "source": [
        "**INPUT:** need to make some decision here"
      ]
    },
    {
      "cell_type": "code",
      "metadata": {
        "id": "eEM5St_j51xk"
      },
      "source": [
        "# Need to make some decision here, which will affect all the 4 models\n",
        "test_size = 0.05 # due to sample size of 4K thousand samples\n",
        "random_state = 5\n",
        "hidden_nodes_layer1 = 15 # Change this number will affect both NN and NN2 models\n",
        "hidden_nodes_layer2 = 20 # Change this number will affect both NN and NN2 models\n",
        "hidden_nodes_layer3 = 10 # Change this number will affect both NN and NN2 models\n",
        "activation='relu'\n",
        "activation_last='linear'\n",
        "loss_input='mean_absolute_error'\n",
        "optimizer_input='Adam'\n",
        "metrics_input='MSE'\n",
        "size_batch_no = 32\n",
        "epochs_no = 200"
      ],
      "execution_count": 15,
      "outputs": []
    },
    {
      "cell_type": "code",
      "metadata": {
        "id": "JBbAJ98y3O0v",
        "colab": {
          "base_uri": "https://localhost:8080/",
          "height": 470
        },
        "outputId": "0b115111-a9cb-45f7-81ab-1086e1dadd36"
      },
      "source": [
        "# Chose the variables\n",
        "y = data_df.Sale_Price\n",
        "X = data_df.drop(columns=['Sale_Price']) # Include the Listing Price Here\n",
        "\n",
        "# Split training/test datasets\n",
        "# Regression 1 and Neural Network 1 need X_train, not X2\n",
        "from sklearn.model_selection import train_test_split\n",
        "X_train, X_test, y_train, y_test = train_test_split(X, y, test_size=test_size, random_state=random_state)\n",
        "\n",
        "# Model 2 exclude List_Price amongst the independent variables\n",
        "# Regression 2 and Neural Network 2 \"EXCLUDEs\" the variable \"List_Price\"\n",
        "X2_train = X_train.drop(columns=['List_Price']) # This way, we can be sure that the number of data points for training is the same\n",
        "X2_test = X_test.drop(columns=['List_Price']) # The same, the number of data points for testing is the same as Model 1\n",
        "\n",
        "X2_train"
      ],
      "execution_count": 16,
      "outputs": [
        {
          "output_type": "execute_result",
          "data": {
            "text/html": [
              "<div>\n",
              "<style scoped>\n",
              "    .dataframe tbody tr th:only-of-type {\n",
              "        vertical-align: middle;\n",
              "    }\n",
              "\n",
              "    .dataframe tbody tr th {\n",
              "        vertical-align: top;\n",
              "    }\n",
              "\n",
              "    .dataframe thead th {\n",
              "        text-align: right;\n",
              "    }\n",
              "</style>\n",
              "<table border=\"1\" class=\"dataframe\">\n",
              "  <thead>\n",
              "    <tr style=\"text-align: right;\">\n",
              "      <th></th>\n",
              "      <th>SqFtTotal</th>\n",
              "      <th>Lot_Size</th>\n",
              "      <th>Age</th>\n",
              "      <th>BathsTotal</th>\n",
              "      <th>BedsTotal</th>\n",
              "      <th>BathsFull</th>\n",
              "      <th>BathsHalf</th>\n",
              "      <th>DOM</th>\n",
              "      <th>Year_Sold</th>\n",
              "      <th>county_Alameda</th>\n",
              "      <th>county_Amador</th>\n",
              "      <th>county_Butte</th>\n",
              "      <th>county_Contra Costa</th>\n",
              "      <th>county_El Dorado</th>\n",
              "      <th>county_Kern</th>\n",
              "      <th>county_Lake</th>\n",
              "      <th>county_Los Angeles</th>\n",
              "      <th>county_Madera</th>\n",
              "      <th>county_Marin</th>\n",
              "      <th>county_Mendocino</th>\n",
              "      <th>county_Merced</th>\n",
              "      <th>county_Monterey</th>\n",
              "      <th>county_Napa</th>\n",
              "      <th>county_Nevada</th>\n",
              "      <th>county_Orange</th>\n",
              "      <th>county_Other</th>\n",
              "      <th>county_Placer</th>\n",
              "      <th>county_Riverside</th>\n",
              "      <th>county_Sacramento</th>\n",
              "      <th>county_San Benito</th>\n",
              "      <th>county_San Bernardino</th>\n",
              "      <th>county_San Diego</th>\n",
              "      <th>county_San Francisco</th>\n",
              "      <th>county_San Joaquin</th>\n",
              "      <th>county_San Luis Obispo</th>\n",
              "      <th>county_San Mateo</th>\n",
              "      <th>county_Santa Barbara</th>\n",
              "      <th>county_Santa Clara</th>\n",
              "      <th>county_Santa Cruz</th>\n",
              "      <th>county_Solano</th>\n",
              "      <th>county_Sonoma</th>\n",
              "      <th>county_Stanislaus</th>\n",
              "      <th>county_Sutter</th>\n",
              "      <th>county_Ventura</th>\n",
              "      <th>county_Yolo</th>\n",
              "      <th>county_Yuba</th>\n",
              "    </tr>\n",
              "  </thead>\n",
              "  <tbody>\n",
              "    <tr>\n",
              "      <th>3465</th>\n",
              "      <td>1661</td>\n",
              "      <td>5502.0</td>\n",
              "      <td>20</td>\n",
              "      <td>2</td>\n",
              "      <td>4</td>\n",
              "      <td>2</td>\n",
              "      <td>0</td>\n",
              "      <td>6</td>\n",
              "      <td>2021</td>\n",
              "      <td>0.0</td>\n",
              "      <td>0.0</td>\n",
              "      <td>0.0</td>\n",
              "      <td>0.0</td>\n",
              "      <td>0.0</td>\n",
              "      <td>0.0</td>\n",
              "      <td>0.0</td>\n",
              "      <td>0.0</td>\n",
              "      <td>0.0</td>\n",
              "      <td>0.0</td>\n",
              "      <td>0.0</td>\n",
              "      <td>0.0</td>\n",
              "      <td>0.0</td>\n",
              "      <td>0.0</td>\n",
              "      <td>0.0</td>\n",
              "      <td>0.0</td>\n",
              "      <td>0.0</td>\n",
              "      <td>0.0</td>\n",
              "      <td>0.0</td>\n",
              "      <td>0.0</td>\n",
              "      <td>0.0</td>\n",
              "      <td>0.0</td>\n",
              "      <td>0.0</td>\n",
              "      <td>0.0</td>\n",
              "      <td>0.0</td>\n",
              "      <td>0.0</td>\n",
              "      <td>0.0</td>\n",
              "      <td>0.0</td>\n",
              "      <td>0.0</td>\n",
              "      <td>0.0</td>\n",
              "      <td>0.0</td>\n",
              "      <td>0.0</td>\n",
              "      <td>1.0</td>\n",
              "      <td>0.0</td>\n",
              "      <td>0.0</td>\n",
              "      <td>0.0</td>\n",
              "      <td>0.0</td>\n",
              "    </tr>\n",
              "    <tr>\n",
              "      <th>2281</th>\n",
              "      <td>1066</td>\n",
              "      <td>10692.0</td>\n",
              "      <td>57</td>\n",
              "      <td>1</td>\n",
              "      <td>3</td>\n",
              "      <td>1</td>\n",
              "      <td>0</td>\n",
              "      <td>1</td>\n",
              "      <td>2021</td>\n",
              "      <td>0.0</td>\n",
              "      <td>0.0</td>\n",
              "      <td>0.0</td>\n",
              "      <td>0.0</td>\n",
              "      <td>0.0</td>\n",
              "      <td>0.0</td>\n",
              "      <td>0.0</td>\n",
              "      <td>0.0</td>\n",
              "      <td>0.0</td>\n",
              "      <td>0.0</td>\n",
              "      <td>0.0</td>\n",
              "      <td>0.0</td>\n",
              "      <td>0.0</td>\n",
              "      <td>0.0</td>\n",
              "      <td>0.0</td>\n",
              "      <td>0.0</td>\n",
              "      <td>0.0</td>\n",
              "      <td>0.0</td>\n",
              "      <td>0.0</td>\n",
              "      <td>0.0</td>\n",
              "      <td>0.0</td>\n",
              "      <td>1.0</td>\n",
              "      <td>0.0</td>\n",
              "      <td>0.0</td>\n",
              "      <td>0.0</td>\n",
              "      <td>0.0</td>\n",
              "      <td>0.0</td>\n",
              "      <td>0.0</td>\n",
              "      <td>0.0</td>\n",
              "      <td>0.0</td>\n",
              "      <td>0.0</td>\n",
              "      <td>0.0</td>\n",
              "      <td>0.0</td>\n",
              "      <td>0.0</td>\n",
              "      <td>0.0</td>\n",
              "      <td>0.0</td>\n",
              "      <td>0.0</td>\n",
              "    </tr>\n",
              "    <tr>\n",
              "      <th>2019</th>\n",
              "      <td>2002</td>\n",
              "      <td>7500.0</td>\n",
              "      <td>45</td>\n",
              "      <td>2</td>\n",
              "      <td>3</td>\n",
              "      <td>2</td>\n",
              "      <td>0</td>\n",
              "      <td>0</td>\n",
              "      <td>2021</td>\n",
              "      <td>0.0</td>\n",
              "      <td>0.0</td>\n",
              "      <td>0.0</td>\n",
              "      <td>0.0</td>\n",
              "      <td>0.0</td>\n",
              "      <td>0.0</td>\n",
              "      <td>0.0</td>\n",
              "      <td>1.0</td>\n",
              "      <td>0.0</td>\n",
              "      <td>0.0</td>\n",
              "      <td>0.0</td>\n",
              "      <td>0.0</td>\n",
              "      <td>0.0</td>\n",
              "      <td>0.0</td>\n",
              "      <td>0.0</td>\n",
              "      <td>0.0</td>\n",
              "      <td>0.0</td>\n",
              "      <td>0.0</td>\n",
              "      <td>0.0</td>\n",
              "      <td>0.0</td>\n",
              "      <td>0.0</td>\n",
              "      <td>0.0</td>\n",
              "      <td>0.0</td>\n",
              "      <td>0.0</td>\n",
              "      <td>0.0</td>\n",
              "      <td>0.0</td>\n",
              "      <td>0.0</td>\n",
              "      <td>0.0</td>\n",
              "      <td>0.0</td>\n",
              "      <td>0.0</td>\n",
              "      <td>0.0</td>\n",
              "      <td>0.0</td>\n",
              "      <td>0.0</td>\n",
              "      <td>0.0</td>\n",
              "      <td>0.0</td>\n",
              "      <td>0.0</td>\n",
              "      <td>0.0</td>\n",
              "    </tr>\n",
              "    <tr>\n",
              "      <th>3284</th>\n",
              "      <td>1298</td>\n",
              "      <td>5898.0</td>\n",
              "      <td>47</td>\n",
              "      <td>2</td>\n",
              "      <td>3</td>\n",
              "      <td>2</td>\n",
              "      <td>0</td>\n",
              "      <td>20</td>\n",
              "      <td>2021</td>\n",
              "      <td>0.0</td>\n",
              "      <td>0.0</td>\n",
              "      <td>0.0</td>\n",
              "      <td>0.0</td>\n",
              "      <td>0.0</td>\n",
              "      <td>0.0</td>\n",
              "      <td>0.0</td>\n",
              "      <td>0.0</td>\n",
              "      <td>0.0</td>\n",
              "      <td>0.0</td>\n",
              "      <td>0.0</td>\n",
              "      <td>0.0</td>\n",
              "      <td>0.0</td>\n",
              "      <td>0.0</td>\n",
              "      <td>0.0</td>\n",
              "      <td>0.0</td>\n",
              "      <td>0.0</td>\n",
              "      <td>0.0</td>\n",
              "      <td>0.0</td>\n",
              "      <td>1.0</td>\n",
              "      <td>0.0</td>\n",
              "      <td>0.0</td>\n",
              "      <td>0.0</td>\n",
              "      <td>0.0</td>\n",
              "      <td>0.0</td>\n",
              "      <td>0.0</td>\n",
              "      <td>0.0</td>\n",
              "      <td>0.0</td>\n",
              "      <td>0.0</td>\n",
              "      <td>0.0</td>\n",
              "      <td>0.0</td>\n",
              "      <td>0.0</td>\n",
              "      <td>0.0</td>\n",
              "      <td>0.0</td>\n",
              "      <td>0.0</td>\n",
              "      <td>0.0</td>\n",
              "      <td>0.0</td>\n",
              "    </tr>\n",
              "    <tr>\n",
              "      <th>2550</th>\n",
              "      <td>1317</td>\n",
              "      <td>4792.0</td>\n",
              "      <td>26</td>\n",
              "      <td>2</td>\n",
              "      <td>3</td>\n",
              "      <td>2</td>\n",
              "      <td>0</td>\n",
              "      <td>4</td>\n",
              "      <td>2021</td>\n",
              "      <td>0.0</td>\n",
              "      <td>0.0</td>\n",
              "      <td>0.0</td>\n",
              "      <td>0.0</td>\n",
              "      <td>0.0</td>\n",
              "      <td>0.0</td>\n",
              "      <td>0.0</td>\n",
              "      <td>0.0</td>\n",
              "      <td>0.0</td>\n",
              "      <td>0.0</td>\n",
              "      <td>0.0</td>\n",
              "      <td>0.0</td>\n",
              "      <td>0.0</td>\n",
              "      <td>0.0</td>\n",
              "      <td>0.0</td>\n",
              "      <td>0.0</td>\n",
              "      <td>0.0</td>\n",
              "      <td>0.0</td>\n",
              "      <td>1.0</td>\n",
              "      <td>0.0</td>\n",
              "      <td>0.0</td>\n",
              "      <td>0.0</td>\n",
              "      <td>0.0</td>\n",
              "      <td>0.0</td>\n",
              "      <td>0.0</td>\n",
              "      <td>0.0</td>\n",
              "      <td>0.0</td>\n",
              "      <td>0.0</td>\n",
              "      <td>0.0</td>\n",
              "      <td>0.0</td>\n",
              "      <td>0.0</td>\n",
              "      <td>0.0</td>\n",
              "      <td>0.0</td>\n",
              "      <td>0.0</td>\n",
              "      <td>0.0</td>\n",
              "      <td>0.0</td>\n",
              "      <td>0.0</td>\n",
              "    </tr>\n",
              "    <tr>\n",
              "      <th>...</th>\n",
              "      <td>...</td>\n",
              "      <td>...</td>\n",
              "      <td>...</td>\n",
              "      <td>...</td>\n",
              "      <td>...</td>\n",
              "      <td>...</td>\n",
              "      <td>...</td>\n",
              "      <td>...</td>\n",
              "      <td>...</td>\n",
              "      <td>...</td>\n",
              "      <td>...</td>\n",
              "      <td>...</td>\n",
              "      <td>...</td>\n",
              "      <td>...</td>\n",
              "      <td>...</td>\n",
              "      <td>...</td>\n",
              "      <td>...</td>\n",
              "      <td>...</td>\n",
              "      <td>...</td>\n",
              "      <td>...</td>\n",
              "      <td>...</td>\n",
              "      <td>...</td>\n",
              "      <td>...</td>\n",
              "      <td>...</td>\n",
              "      <td>...</td>\n",
              "      <td>...</td>\n",
              "      <td>...</td>\n",
              "      <td>...</td>\n",
              "      <td>...</td>\n",
              "      <td>...</td>\n",
              "      <td>...</td>\n",
              "      <td>...</td>\n",
              "      <td>...</td>\n",
              "      <td>...</td>\n",
              "      <td>...</td>\n",
              "      <td>...</td>\n",
              "      <td>...</td>\n",
              "      <td>...</td>\n",
              "      <td>...</td>\n",
              "      <td>...</td>\n",
              "      <td>...</td>\n",
              "      <td>...</td>\n",
              "      <td>...</td>\n",
              "      <td>...</td>\n",
              "      <td>...</td>\n",
              "      <td>...</td>\n",
              "    </tr>\n",
              "    <tr>\n",
              "      <th>3046</th>\n",
              "      <td>2635</td>\n",
              "      <td>11108.0</td>\n",
              "      <td>16</td>\n",
              "      <td>3</td>\n",
              "      <td>2</td>\n",
              "      <td>2</td>\n",
              "      <td>1</td>\n",
              "      <td>8</td>\n",
              "      <td>2021</td>\n",
              "      <td>0.0</td>\n",
              "      <td>0.0</td>\n",
              "      <td>0.0</td>\n",
              "      <td>0.0</td>\n",
              "      <td>0.0</td>\n",
              "      <td>0.0</td>\n",
              "      <td>0.0</td>\n",
              "      <td>0.0</td>\n",
              "      <td>0.0</td>\n",
              "      <td>0.0</td>\n",
              "      <td>0.0</td>\n",
              "      <td>0.0</td>\n",
              "      <td>0.0</td>\n",
              "      <td>0.0</td>\n",
              "      <td>0.0</td>\n",
              "      <td>0.0</td>\n",
              "      <td>0.0</td>\n",
              "      <td>1.0</td>\n",
              "      <td>0.0</td>\n",
              "      <td>0.0</td>\n",
              "      <td>0.0</td>\n",
              "      <td>0.0</td>\n",
              "      <td>0.0</td>\n",
              "      <td>0.0</td>\n",
              "      <td>0.0</td>\n",
              "      <td>0.0</td>\n",
              "      <td>0.0</td>\n",
              "      <td>0.0</td>\n",
              "      <td>0.0</td>\n",
              "      <td>0.0</td>\n",
              "      <td>0.0</td>\n",
              "      <td>0.0</td>\n",
              "      <td>0.0</td>\n",
              "      <td>0.0</td>\n",
              "      <td>0.0</td>\n",
              "      <td>0.0</td>\n",
              "      <td>0.0</td>\n",
              "    </tr>\n",
              "    <tr>\n",
              "      <th>1725</th>\n",
              "      <td>1954</td>\n",
              "      <td>7344.0</td>\n",
              "      <td>57</td>\n",
              "      <td>2</td>\n",
              "      <td>4</td>\n",
              "      <td>2</td>\n",
              "      <td>0</td>\n",
              "      <td>15</td>\n",
              "      <td>2021</td>\n",
              "      <td>0.0</td>\n",
              "      <td>0.0</td>\n",
              "      <td>0.0</td>\n",
              "      <td>0.0</td>\n",
              "      <td>0.0</td>\n",
              "      <td>0.0</td>\n",
              "      <td>0.0</td>\n",
              "      <td>0.0</td>\n",
              "      <td>0.0</td>\n",
              "      <td>0.0</td>\n",
              "      <td>0.0</td>\n",
              "      <td>0.0</td>\n",
              "      <td>0.0</td>\n",
              "      <td>0.0</td>\n",
              "      <td>0.0</td>\n",
              "      <td>1.0</td>\n",
              "      <td>0.0</td>\n",
              "      <td>0.0</td>\n",
              "      <td>0.0</td>\n",
              "      <td>0.0</td>\n",
              "      <td>0.0</td>\n",
              "      <td>0.0</td>\n",
              "      <td>0.0</td>\n",
              "      <td>0.0</td>\n",
              "      <td>0.0</td>\n",
              "      <td>0.0</td>\n",
              "      <td>0.0</td>\n",
              "      <td>0.0</td>\n",
              "      <td>0.0</td>\n",
              "      <td>0.0</td>\n",
              "      <td>0.0</td>\n",
              "      <td>0.0</td>\n",
              "      <td>0.0</td>\n",
              "      <td>0.0</td>\n",
              "      <td>0.0</td>\n",
              "      <td>0.0</td>\n",
              "      <td>0.0</td>\n",
              "    </tr>\n",
              "    <tr>\n",
              "      <th>4079</th>\n",
              "      <td>3240</td>\n",
              "      <td>2750.0</td>\n",
              "      <td>123</td>\n",
              "      <td>4</td>\n",
              "      <td>5</td>\n",
              "      <td>4</td>\n",
              "      <td>0</td>\n",
              "      <td>0</td>\n",
              "      <td>2021</td>\n",
              "      <td>0.0</td>\n",
              "      <td>0.0</td>\n",
              "      <td>0.0</td>\n",
              "      <td>0.0</td>\n",
              "      <td>0.0</td>\n",
              "      <td>0.0</td>\n",
              "      <td>0.0</td>\n",
              "      <td>0.0</td>\n",
              "      <td>0.0</td>\n",
              "      <td>0.0</td>\n",
              "      <td>0.0</td>\n",
              "      <td>0.0</td>\n",
              "      <td>0.0</td>\n",
              "      <td>0.0</td>\n",
              "      <td>0.0</td>\n",
              "      <td>0.0</td>\n",
              "      <td>0.0</td>\n",
              "      <td>0.0</td>\n",
              "      <td>0.0</td>\n",
              "      <td>0.0</td>\n",
              "      <td>0.0</td>\n",
              "      <td>0.0</td>\n",
              "      <td>0.0</td>\n",
              "      <td>1.0</td>\n",
              "      <td>0.0</td>\n",
              "      <td>0.0</td>\n",
              "      <td>0.0</td>\n",
              "      <td>0.0</td>\n",
              "      <td>0.0</td>\n",
              "      <td>0.0</td>\n",
              "      <td>0.0</td>\n",
              "      <td>0.0</td>\n",
              "      <td>0.0</td>\n",
              "      <td>0.0</td>\n",
              "      <td>0.0</td>\n",
              "      <td>0.0</td>\n",
              "      <td>0.0</td>\n",
              "    </tr>\n",
              "    <tr>\n",
              "      <th>2254</th>\n",
              "      <td>2082</td>\n",
              "      <td>6930.0</td>\n",
              "      <td>66</td>\n",
              "      <td>1</td>\n",
              "      <td>4</td>\n",
              "      <td>1</td>\n",
              "      <td>0</td>\n",
              "      <td>2</td>\n",
              "      <td>2021</td>\n",
              "      <td>0.0</td>\n",
              "      <td>0.0</td>\n",
              "      <td>0.0</td>\n",
              "      <td>0.0</td>\n",
              "      <td>0.0</td>\n",
              "      <td>0.0</td>\n",
              "      <td>0.0</td>\n",
              "      <td>0.0</td>\n",
              "      <td>0.0</td>\n",
              "      <td>0.0</td>\n",
              "      <td>0.0</td>\n",
              "      <td>0.0</td>\n",
              "      <td>0.0</td>\n",
              "      <td>0.0</td>\n",
              "      <td>0.0</td>\n",
              "      <td>1.0</td>\n",
              "      <td>0.0</td>\n",
              "      <td>0.0</td>\n",
              "      <td>0.0</td>\n",
              "      <td>0.0</td>\n",
              "      <td>0.0</td>\n",
              "      <td>0.0</td>\n",
              "      <td>0.0</td>\n",
              "      <td>0.0</td>\n",
              "      <td>0.0</td>\n",
              "      <td>0.0</td>\n",
              "      <td>0.0</td>\n",
              "      <td>0.0</td>\n",
              "      <td>0.0</td>\n",
              "      <td>0.0</td>\n",
              "      <td>0.0</td>\n",
              "      <td>0.0</td>\n",
              "      <td>0.0</td>\n",
              "      <td>0.0</td>\n",
              "      <td>0.0</td>\n",
              "      <td>0.0</td>\n",
              "      <td>0.0</td>\n",
              "    </tr>\n",
              "    <tr>\n",
              "      <th>2915</th>\n",
              "      <td>1600</td>\n",
              "      <td>4500.0</td>\n",
              "      <td>23</td>\n",
              "      <td>2</td>\n",
              "      <td>3</td>\n",
              "      <td>2</td>\n",
              "      <td>0</td>\n",
              "      <td>6</td>\n",
              "      <td>2021</td>\n",
              "      <td>0.0</td>\n",
              "      <td>0.0</td>\n",
              "      <td>0.0</td>\n",
              "      <td>0.0</td>\n",
              "      <td>0.0</td>\n",
              "      <td>0.0</td>\n",
              "      <td>0.0</td>\n",
              "      <td>0.0</td>\n",
              "      <td>0.0</td>\n",
              "      <td>0.0</td>\n",
              "      <td>0.0</td>\n",
              "      <td>0.0</td>\n",
              "      <td>0.0</td>\n",
              "      <td>0.0</td>\n",
              "      <td>0.0</td>\n",
              "      <td>0.0</td>\n",
              "      <td>0.0</td>\n",
              "      <td>0.0</td>\n",
              "      <td>0.0</td>\n",
              "      <td>1.0</td>\n",
              "      <td>0.0</td>\n",
              "      <td>0.0</td>\n",
              "      <td>0.0</td>\n",
              "      <td>0.0</td>\n",
              "      <td>0.0</td>\n",
              "      <td>0.0</td>\n",
              "      <td>0.0</td>\n",
              "      <td>0.0</td>\n",
              "      <td>0.0</td>\n",
              "      <td>0.0</td>\n",
              "      <td>0.0</td>\n",
              "      <td>0.0</td>\n",
              "      <td>0.0</td>\n",
              "      <td>0.0</td>\n",
              "      <td>0.0</td>\n",
              "      <td>0.0</td>\n",
              "      <td>0.0</td>\n",
              "    </tr>\n",
              "  </tbody>\n",
              "</table>\n",
              "<p>4013 rows × 46 columns</p>\n",
              "</div>"
            ],
            "text/plain": [
              "      SqFtTotal  Lot_Size  Age  ...  county_Ventura  county_Yolo  county_Yuba\n",
              "3465       1661    5502.0   20  ...             0.0          0.0          0.0\n",
              "2281       1066   10692.0   57  ...             0.0          0.0          0.0\n",
              "2019       2002    7500.0   45  ...             0.0          0.0          0.0\n",
              "3284       1298    5898.0   47  ...             0.0          0.0          0.0\n",
              "2550       1317    4792.0   26  ...             0.0          0.0          0.0\n",
              "...         ...       ...  ...  ...             ...          ...          ...\n",
              "3046       2635   11108.0   16  ...             0.0          0.0          0.0\n",
              "1725       1954    7344.0   57  ...             0.0          0.0          0.0\n",
              "4079       3240    2750.0  123  ...             0.0          0.0          0.0\n",
              "2254       2082    6930.0   66  ...             0.0          0.0          0.0\n",
              "2915       1600    4500.0   23  ...             0.0          0.0          0.0\n",
              "\n",
              "[4013 rows x 46 columns]"
            ]
          },
          "metadata": {
            "tags": []
          },
          "execution_count": 16
        }
      ]
    },
    {
      "cell_type": "markdown",
      "metadata": {
        "id": "PfRKI3rii-Qe"
      },
      "source": [
        "**MODEL 1:** **REGRESSION with \"List_Price\"**"
      ]
    },
    {
      "cell_type": "code",
      "metadata": {
        "id": "MoAa5O7T-38e"
      },
      "source": [
        "# Fit ML Regression to a trainingg set\n",
        "# Forcing intercept to be zero\n",
        "from sklearn.linear_model import LinearRegression\n",
        "regression = LinearRegression(fit_intercept=False) # False = no-intercept\n",
        "regression.fit(X_train, y_train)\n",
        "\n",
        "# Predicting the test result\n",
        "y1_pred = regression.predict(X_test)\n",
        "\n",
        "# https://scikit-learn.org/stable/modules/generated/sklearn.linear_model.LinearRegression.html\n",
        "# LinearRegression(copy_X=True, fit_intercept=False, n_jobs=None, normalize=False)"
      ],
      "execution_count": 17,
      "outputs": []
    },
    {
      "cell_type": "code",
      "metadata": {
        "id": "HpXUUU9NJBgL",
        "colab": {
          "base_uri": "https://localhost:8080/"
        },
        "outputId": "4c7b146e-e60f-4660-ad2c-ee7dbda08a6c"
      },
      "source": [
        "# Print out the interceptor\n",
        "# Expect intercept is zero\n",
        "print(\"Intercept: \" + str(regression.intercept_))"
      ],
      "execution_count": 18,
      "outputs": [
        {
          "output_type": "stream",
          "text": [
            "Intercept: 0.0\n"
          ],
          "name": "stdout"
        }
      ]
    },
    {
      "cell_type": "code",
      "metadata": {
        "colab": {
          "base_uri": "https://localhost:8080/",
          "height": 357
        },
        "id": "3-DBzdS7dsY3",
        "outputId": "ddba5797-aa5d-4233-ea92-80531e741741"
      },
      "source": [
        "#put results as a DataFrame\n",
        "coef_df = pd.DataFrame(regression.coef_, X_train.columns, columns=['Coefficient'])\n",
        "coef_df['Coefficient'] = coef_df['Coefficient'].map('{:,.5f}'.format)\n",
        "coef_df.head(10)"
      ],
      "execution_count": 19,
      "outputs": [
        {
          "output_type": "execute_result",
          "data": {
            "text/html": [
              "<div>\n",
              "<style scoped>\n",
              "    .dataframe tbody tr th:only-of-type {\n",
              "        vertical-align: middle;\n",
              "    }\n",
              "\n",
              "    .dataframe tbody tr th {\n",
              "        vertical-align: top;\n",
              "    }\n",
              "\n",
              "    .dataframe thead th {\n",
              "        text-align: right;\n",
              "    }\n",
              "</style>\n",
              "<table border=\"1\" class=\"dataframe\">\n",
              "  <thead>\n",
              "    <tr style=\"text-align: right;\">\n",
              "      <th></th>\n",
              "      <th>Coefficient</th>\n",
              "    </tr>\n",
              "  </thead>\n",
              "  <tbody>\n",
              "    <tr>\n",
              "      <th>SqFtTotal</th>\n",
              "      <td>7.05846</td>\n",
              "    </tr>\n",
              "    <tr>\n",
              "      <th>Lot_Size</th>\n",
              "      <td>-0.00004</td>\n",
              "    </tr>\n",
              "    <tr>\n",
              "      <th>Age</th>\n",
              "      <td>237.80992</td>\n",
              "    </tr>\n",
              "    <tr>\n",
              "      <th>BathsTotal</th>\n",
              "      <td>-6,615.07688</td>\n",
              "    </tr>\n",
              "    <tr>\n",
              "      <th>BedsTotal</th>\n",
              "      <td>4,338.21438</td>\n",
              "    </tr>\n",
              "    <tr>\n",
              "      <th>BathsFull</th>\n",
              "      <td>-1,794.02309</td>\n",
              "    </tr>\n",
              "    <tr>\n",
              "      <th>BathsHalf</th>\n",
              "      <td>-4,821.05354</td>\n",
              "    </tr>\n",
              "    <tr>\n",
              "      <th>DOM</th>\n",
              "      <td>-20.42945</td>\n",
              "    </tr>\n",
              "    <tr>\n",
              "      <th>Year_Sold</th>\n",
              "      <td>14,287.70729</td>\n",
              "    </tr>\n",
              "    <tr>\n",
              "      <th>List_Price</th>\n",
              "      <td>1.01986</td>\n",
              "    </tr>\n",
              "  </tbody>\n",
              "</table>\n",
              "</div>"
            ],
            "text/plain": [
              "             Coefficient\n",
              "SqFtTotal        7.05846\n",
              "Lot_Size        -0.00004\n",
              "Age            237.80992\n",
              "BathsTotal  -6,615.07688\n",
              "BedsTotal    4,338.21438\n",
              "BathsFull   -1,794.02309\n",
              "BathsHalf   -4,821.05354\n",
              "DOM            -20.42945\n",
              "Year_Sold   14,287.70729\n",
              "List_Price       1.01986"
            ]
          },
          "metadata": {
            "tags": []
          },
          "execution_count": 19
        }
      ]
    },
    {
      "cell_type": "code",
      "metadata": {
        "colab": {
          "base_uri": "https://localhost:8080/"
        },
        "id": "EStisQ_uhzcw",
        "outputId": "484d0edb-6e54-4adf-e773-3908b25958de"
      },
      "source": [
        "# evaluate the performance of the algorithm (MAE - MSE - RMSE)\n",
        "from sklearn import metrics\n",
        "from sklearn.metrics import r2_score\n",
        "print('Model 1: Regression with List_Price')\n",
        "#print('Mean Absolute Error (MAE):', metrics.mean_absolute_error(y_test, y1_pred))  \n",
        "#print('Mean Squared Error (MSE):', metrics.mean_squared_error(y_test, y1_pred))  \n",
        "print('Root Mean Squared Error (RMSE):', np.sqrt(metrics.mean_squared_error(y_test, y1_pred)))\n",
        "print('Variance -- VarScore:', metrics.explained_variance_score(y_test,y1_pred))\n",
        "print(\"R squared(R2):\", metrics.r2_score(y_test, y1_pred))"
      ],
      "execution_count": 20,
      "outputs": [
        {
          "output_type": "stream",
          "text": [
            "Model 1: Regression with List_Price\n",
            "Root Mean Squared Error (RMSE): 316639.1125205762\n",
            "Variance -- VarScore: 0.9606342819218879\n",
            "R squared(R2): 0.9605332854433306\n"
          ],
          "name": "stdout"
        }
      ]
    },
    {
      "cell_type": "code",
      "metadata": {
        "colab": {
          "base_uri": "https://localhost:8080/",
          "height": 357
        },
        "id": "Y_UaOkJ51YBe",
        "outputId": "2a29275a-aba7-48cb-962d-00ef8f38d74c"
      },
      "source": [
        "#df = create a df of Sales_Price and Prediction values\n",
        "result1_df = pd.DataFrame({\"Sale_Price\": [x for x in y_test], \"Predict_Reg_1\": [x for x in y1_pred]})\n",
        "result1_df['Predict_Reg_1'] = result1_df['Predict_Reg_1'].map('{:,.2f}'.format)\n",
        "result1_df.head(10)"
      ],
      "execution_count": 21,
      "outputs": [
        {
          "output_type": "execute_result",
          "data": {
            "text/html": [
              "<div>\n",
              "<style scoped>\n",
              "    .dataframe tbody tr th:only-of-type {\n",
              "        vertical-align: middle;\n",
              "    }\n",
              "\n",
              "    .dataframe tbody tr th {\n",
              "        vertical-align: top;\n",
              "    }\n",
              "\n",
              "    .dataframe thead th {\n",
              "        text-align: right;\n",
              "    }\n",
              "</style>\n",
              "<table border=\"1\" class=\"dataframe\">\n",
              "  <thead>\n",
              "    <tr style=\"text-align: right;\">\n",
              "      <th></th>\n",
              "      <th>Sale_Price</th>\n",
              "      <th>Predict_Reg_1</th>\n",
              "    </tr>\n",
              "  </thead>\n",
              "  <tbody>\n",
              "    <tr>\n",
              "      <th>0</th>\n",
              "      <td>1005000</td>\n",
              "      <td>913,281.32</td>\n",
              "    </tr>\n",
              "    <tr>\n",
              "      <th>1</th>\n",
              "      <td>1175000</td>\n",
              "      <td>1,219,022.44</td>\n",
              "    </tr>\n",
              "    <tr>\n",
              "      <th>2</th>\n",
              "      <td>565000</td>\n",
              "      <td>587,771.36</td>\n",
              "    </tr>\n",
              "    <tr>\n",
              "      <th>3</th>\n",
              "      <td>950000</td>\n",
              "      <td>959,388.14</td>\n",
              "    </tr>\n",
              "    <tr>\n",
              "      <th>4</th>\n",
              "      <td>625000</td>\n",
              "      <td>608,544.68</td>\n",
              "    </tr>\n",
              "    <tr>\n",
              "      <th>5</th>\n",
              "      <td>1925000</td>\n",
              "      <td>1,872,278.90</td>\n",
              "    </tr>\n",
              "    <tr>\n",
              "      <th>6</th>\n",
              "      <td>21150000</td>\n",
              "      <td>25,521,630.17</td>\n",
              "    </tr>\n",
              "    <tr>\n",
              "      <th>7</th>\n",
              "      <td>2000000</td>\n",
              "      <td>1,830,298.75</td>\n",
              "    </tr>\n",
              "    <tr>\n",
              "      <th>8</th>\n",
              "      <td>341000</td>\n",
              "      <td>321,158.59</td>\n",
              "    </tr>\n",
              "    <tr>\n",
              "      <th>9</th>\n",
              "      <td>1450000</td>\n",
              "      <td>1,469,391.98</td>\n",
              "    </tr>\n",
              "  </tbody>\n",
              "</table>\n",
              "</div>"
            ],
            "text/plain": [
              "   Sale_Price  Predict_Reg_1\n",
              "0     1005000     913,281.32\n",
              "1     1175000   1,219,022.44\n",
              "2      565000     587,771.36\n",
              "3      950000     959,388.14\n",
              "4      625000     608,544.68\n",
              "5     1925000   1,872,278.90\n",
              "6    21150000  25,521,630.17\n",
              "7     2000000   1,830,298.75\n",
              "8      341000     321,158.59\n",
              "9     1450000   1,469,391.98"
            ]
          },
          "metadata": {
            "tags": []
          },
          "execution_count": 21
        }
      ]
    },
    {
      "cell_type": "code",
      "metadata": {
        "colab": {
          "base_uri": "https://localhost:8080/",
          "height": 352
        },
        "id": "CtUryTDUjt0t",
        "outputId": "f62fc8cd-02c1-45ca-e665-dda027262939"
      },
      "source": [
        "# visualizing residuals\n",
        "fig = plt.figure(figsize=(10,5))\n",
        "residuals = (y_test - y1_pred)\n",
        "sns.histplot(residuals)"
      ],
      "execution_count": 22,
      "outputs": [
        {
          "output_type": "execute_result",
          "data": {
            "text/plain": [
              "<matplotlib.axes._subplots.AxesSubplot at 0x7f8872d45490>"
            ]
          },
          "metadata": {
            "tags": []
          },
          "execution_count": 22
        },
        {
          "output_type": "display_data",
          "data": {
            "image/png": "[encoded data removed]",
            "text/plain": [
              "<Figure size 720x360 with 1 Axes>"
            ]
          },
          "metadata": {
            "tags": [],
            "needs_background": "light"
          }
        }
      ]
    },
    {
      "cell_type": "code",
      "metadata": {
        "id": "e1K3xZFIHdJW",
        "colab": {
          "base_uri": "https://localhost:8080/",
          "height": 350
        },
        "outputId": "923e4ab0-3da6-4804-e796-c9b8171862e3"
      },
      "source": [
        "import matplotlib.pyplot as plt\n",
        "plt.figure(figsize=(10,5))\n",
        "plt.plot(np.array(y1_pred))\n",
        "plt.plot(np.array(y_test))\n",
        "plt.title('Model 1: Regression with List_Price')\n",
        "plt.ylabel('Price')\n",
        "plt.xlabel('No. of Samples')\n",
        "plt.legend(['Predict Reg 1', 'Sale_Price'], loc='upper right')\n",
        "plt.show()"
      ],
      "execution_count": 23,
      "outputs": [
        {
          "output_type": "display_data",
          "data": {
            "image/png": "[encoded data removed]",
            "text/plain": [
              "<Figure size 720x360 with 1 Axes>"
            ]
          },
          "metadata": {
            "tags": [],
            "needs_background": "light"
          }
        }
      ]
    },
    {
      "cell_type": "markdown",
      "metadata": {
        "id": "qblGLMT9kgdL"
      },
      "source": [
        "**MODEL 2:** **REGRESSION** without **List_Price**"
      ]
    },
    {
      "cell_type": "code",
      "metadata": {
        "colab": {
          "base_uri": "https://localhost:8080/"
        },
        "id": "PzP4y966Lvix",
        "outputId": "84686b0d-cb5a-432d-d1a2-bd9cc80b4229"
      },
      "source": [
        "# Need to keep it here to remind what the the testing and traing features\n",
        "print(X2_train.shape, X2_test.shape, y_train.shape, y_test.shape)"
      ],
      "execution_count": 24,
      "outputs": [
        {
          "output_type": "stream",
          "text": [
            "(4013, 46) (212, 46) (4013,) (212,)\n"
          ],
          "name": "stdout"
        }
      ]
    },
    {
      "cell_type": "code",
      "metadata": {
        "id": "TQtERu_fkdJC"
      },
      "source": [
        "# Fit ML Regression to a training set\n",
        "# Forcing intercept to be zero\n",
        "from sklearn.linear_model import LinearRegression\n",
        "regression2 = LinearRegression(fit_intercept=False) # False = no-intercept\n",
        "regression2.fit(X2_train, y_train)\n",
        "\n",
        "# Predicting the test result\n",
        "y2_pred = regression2.predict(X2_test) # <= X has no List_Price"
      ],
      "execution_count": 25,
      "outputs": []
    },
    {
      "cell_type": "code",
      "metadata": {
        "colab": {
          "base_uri": "https://localhost:8080/",
          "height": 357
        },
        "id": "VpVrNVp6H__u",
        "outputId": "dd253ef4-4c0b-4366-ddc3-ba1baca894c6"
      },
      "source": [
        "#save Coefficent values as a DataFrame\n",
        "coef2_df = pd.DataFrame(regression2.coef_, X2_train.columns, columns=['Coefficient'])\n",
        "coef2_df['Coefficient'] = coef2_df['Coefficient'].map('{:,.5f}'.format)\n",
        "coef2_df.head(10)"
      ],
      "execution_count": 26,
      "outputs": [
        {
          "output_type": "execute_result",
          "data": {
            "text/html": [
              "<div>\n",
              "<style scoped>\n",
              "    .dataframe tbody tr th:only-of-type {\n",
              "        vertical-align: middle;\n",
              "    }\n",
              "\n",
              "    .dataframe tbody tr th {\n",
              "        vertical-align: top;\n",
              "    }\n",
              "\n",
              "    .dataframe thead th {\n",
              "        text-align: right;\n",
              "    }\n",
              "</style>\n",
              "<table border=\"1\" class=\"dataframe\">\n",
              "  <thead>\n",
              "    <tr style=\"text-align: right;\">\n",
              "      <th></th>\n",
              "      <th>Coefficient</th>\n",
              "    </tr>\n",
              "  </thead>\n",
              "  <tbody>\n",
              "    <tr>\n",
              "      <th>SqFtTotal</th>\n",
              "      <td>879.53279</td>\n",
              "    </tr>\n",
              "    <tr>\n",
              "      <th>Lot_Size</th>\n",
              "      <td>-0.00069</td>\n",
              "    </tr>\n",
              "    <tr>\n",
              "      <th>Age</th>\n",
              "      <td>6,500.96247</td>\n",
              "    </tr>\n",
              "    <tr>\n",
              "      <th>BathsTotal</th>\n",
              "      <td>36,268.40595</td>\n",
              "    </tr>\n",
              "    <tr>\n",
              "      <th>BedsTotal</th>\n",
              "      <td>-187,635.94393</td>\n",
              "    </tr>\n",
              "    <tr>\n",
              "      <th>BathsFull</th>\n",
              "      <td>-45,284.97722</td>\n",
              "    </tr>\n",
              "    <tr>\n",
              "      <th>BathsHalf</th>\n",
              "      <td>81,541.31618</td>\n",
              "    </tr>\n",
              "    <tr>\n",
              "      <th>DOM</th>\n",
              "      <td>-418.30383</td>\n",
              "    </tr>\n",
              "    <tr>\n",
              "      <th>Year_Sold</th>\n",
              "      <td>47,083.74609</td>\n",
              "    </tr>\n",
              "    <tr>\n",
              "      <th>county_Alameda</th>\n",
              "      <td>-95,141,812.41179</td>\n",
              "    </tr>\n",
              "  </tbody>\n",
              "</table>\n",
              "</div>"
            ],
            "text/plain": [
              "                      Coefficient\n",
              "SqFtTotal               879.53279\n",
              "Lot_Size                 -0.00069\n",
              "Age                   6,500.96247\n",
              "BathsTotal           36,268.40595\n",
              "BedsTotal          -187,635.94393\n",
              "BathsFull           -45,284.97722\n",
              "BathsHalf            81,541.31618\n",
              "DOM                    -418.30383\n",
              "Year_Sold            47,083.74609\n",
              "county_Alameda  -95,141,812.41179"
            ]
          },
          "metadata": {
            "tags": []
          },
          "execution_count": 26
        }
      ]
    },
    {
      "cell_type": "markdown",
      "metadata": {
        "id": "MmkpmZF6lVFx"
      },
      "source": [
        "**r2_score:** It drops significantly"
      ]
    },
    {
      "cell_type": "code",
      "metadata": {
        "colab": {
          "base_uri": "https://localhost:8080/"
        },
        "id": "MMsHCCTmkdZ5",
        "outputId": "07d743be-b0d1-418d-924b-da5b0bd52459"
      },
      "source": [
        "# evaluate the performance of the algorithm (MAE - MSE - RMSE)\n",
        "from sklearn import metrics\n",
        "from sklearn.metrics import r2_score\n",
        "print('Model 2: Regression without List_Price')\n",
        "#print('Mean Absolute Error (MAE):', metrics.mean_absolute_error(y_test, y2_pred))  \n",
        "#print('Mean Squared Error (MSE):', metrics.mean_squared_error(y_test, y2_pred))  \n",
        "print('Root Mean Squared Error (RMSE):', np.sqrt(metrics.mean_squared_error(y_test, y2_pred)))\n",
        "print('Variance -- VarScore:', metrics.explained_variance_score(y_test,y2_pred))\n",
        "print(\"R squared(R2):\", metrics.r2_score(y_test, y2_pred))"
      ],
      "execution_count": 27,
      "outputs": [
        {
          "output_type": "stream",
          "text": [
            "Model 2: Regression without List_Price\n",
            "Root Mean Squared Error (RMSE): 912523.6454568175\n",
            "Variance -- VarScore: 0.6723058986678696\n",
            "R squared(R2): 0.6722142200798393\n"
          ],
          "name": "stdout"
        }
      ]
    },
    {
      "cell_type": "code",
      "metadata": {
        "colab": {
          "base_uri": "https://localhost:8080/",
          "height": 357
        },
        "id": "0oCgHMX50Jgn",
        "outputId": "cc4c1556-b1f7-46e8-eb84-e321e924a57c"
      },
      "source": [
        "#df = create a df of Sales_Price and Prediction values\n",
        "result2_df = pd.DataFrame({\"Sale_Price\": [x for x in y_test], \"Predict_Reg_2\": [x for x in y2_pred]})\n",
        "result2_df['Predict_Reg_2'] = result2_df['Predict_Reg_2'].map('{:,.2f}'.format)\n",
        "result2_df.head(10)"
      ],
      "execution_count": 28,
      "outputs": [
        {
          "output_type": "execute_result",
          "data": {
            "text/html": [
              "<div>\n",
              "<style scoped>\n",
              "    .dataframe tbody tr th:only-of-type {\n",
              "        vertical-align: middle;\n",
              "    }\n",
              "\n",
              "    .dataframe tbody tr th {\n",
              "        vertical-align: top;\n",
              "    }\n",
              "\n",
              "    .dataframe thead th {\n",
              "        text-align: right;\n",
              "    }\n",
              "</style>\n",
              "<table border=\"1\" class=\"dataframe\">\n",
              "  <thead>\n",
              "    <tr style=\"text-align: right;\">\n",
              "      <th></th>\n",
              "      <th>Sale_Price</th>\n",
              "      <th>Predict_Reg_2</th>\n",
              "    </tr>\n",
              "  </thead>\n",
              "  <tbody>\n",
              "    <tr>\n",
              "      <th>0</th>\n",
              "      <td>1005000</td>\n",
              "      <td>1,416,121.20</td>\n",
              "    </tr>\n",
              "    <tr>\n",
              "      <th>1</th>\n",
              "      <td>1175000</td>\n",
              "      <td>1,559,513.55</td>\n",
              "    </tr>\n",
              "    <tr>\n",
              "      <th>2</th>\n",
              "      <td>565000</td>\n",
              "      <td>639,187.61</td>\n",
              "    </tr>\n",
              "    <tr>\n",
              "      <th>3</th>\n",
              "      <td>950000</td>\n",
              "      <td>1,152,340.72</td>\n",
              "    </tr>\n",
              "    <tr>\n",
              "      <th>4</th>\n",
              "      <td>625000</td>\n",
              "      <td>526,425.80</td>\n",
              "    </tr>\n",
              "    <tr>\n",
              "      <th>5</th>\n",
              "      <td>1925000</td>\n",
              "      <td>965,161.08</td>\n",
              "    </tr>\n",
              "    <tr>\n",
              "      <th>6</th>\n",
              "      <td>21150000</td>\n",
              "      <td>10,581,912.84</td>\n",
              "    </tr>\n",
              "    <tr>\n",
              "      <th>7</th>\n",
              "      <td>2000000</td>\n",
              "      <td>1,322,725.73</td>\n",
              "    </tr>\n",
              "    <tr>\n",
              "      <th>8</th>\n",
              "      <td>341000</td>\n",
              "      <td>564,749.91</td>\n",
              "    </tr>\n",
              "    <tr>\n",
              "      <th>9</th>\n",
              "      <td>1450000</td>\n",
              "      <td>2,446,670.51</td>\n",
              "    </tr>\n",
              "  </tbody>\n",
              "</table>\n",
              "</div>"
            ],
            "text/plain": [
              "   Sale_Price  Predict_Reg_2\n",
              "0     1005000   1,416,121.20\n",
              "1     1175000   1,559,513.55\n",
              "2      565000     639,187.61\n",
              "3      950000   1,152,340.72\n",
              "4      625000     526,425.80\n",
              "5     1925000     965,161.08\n",
              "6    21150000  10,581,912.84\n",
              "7     2000000   1,322,725.73\n",
              "8      341000     564,749.91\n",
              "9     1450000   2,446,670.51"
            ]
          },
          "metadata": {
            "tags": []
          },
          "execution_count": 28
        }
      ]
    },
    {
      "cell_type": "code",
      "metadata": {
        "id": "bUXTlRQ5BWnK"
      },
      "source": [
        "# This is the final data frame. Merge two df to match the independent variables and the predicted price\n",
        "# Keep running this each model to collect prediction data for all the model\n",
        "total_result_df = result1_df.merge(result2_df, how='left', on='Sale_Price', left_index=True, right_index=True)"
      ],
      "execution_count": 29,
      "outputs": []
    },
    {
      "cell_type": "code",
      "metadata": {
        "colab": {
          "base_uri": "https://localhost:8080/",
          "height": 352
        },
        "id": "zmeaOpy58SE3",
        "outputId": "114def18-f14a-49ae-b8aa-49fe9a4e5afe"
      },
      "source": [
        "# visualizing residuals\n",
        "fig = plt.figure(figsize=(10,5))\n",
        "residuals2 = (y_test - y2_pred)\n",
        "sns.histplot(residuals2)"
      ],
      "execution_count": 30,
      "outputs": [
        {
          "output_type": "execute_result",
          "data": {
            "text/plain": [
              "<matplotlib.axes._subplots.AxesSubplot at 0x7f8867887390>"
            ]
          },
          "metadata": {
            "tags": []
          },
          "execution_count": 30
        },
        {
          "output_type": "display_data",
          "data": {
            "image/png": "[encoded data removed]",
            "text/plain": [
              "<Figure size 720x360 with 1 Axes>"
            ]
          },
          "metadata": {
            "tags": [],
            "needs_background": "light"
          }
        }
      ]
    },
    {
      "cell_type": "code",
      "metadata": {
        "colab": {
          "base_uri": "https://localhost:8080/",
          "height": 350
        },
        "id": "BYViqxlPkd2W",
        "outputId": "36f35f99-2fbc-4b24-d143-008a7ac03db5"
      },
      "source": [
        "import matplotlib.pyplot as plt\n",
        "plt.figure(figsize=(10,5))\n",
        "plt.plot(np.array(y2_pred))\n",
        "plt.plot(np.array(y_test))\n",
        "plt.title('Model 2: Regression without List_Price')\n",
        "plt.ylabel('Price')\n",
        "plt.xlabel('No. of Samples')\n",
        "plt.legend(['Predict Reg 2', 'Sale_Price'], loc='upper right')\n",
        "plt.show()"
      ],
      "execution_count": 31,
      "outputs": [
        {
          "output_type": "display_data",
          "data": {
            "image/png": "[encoded data removed]",
            "text/plain": [
              "<Figure size 720x360 with 1 Axes>"
            ]
          },
          "metadata": {
            "tags": [],
            "needs_background": "light"
          }
        }
      ]
    },
    {
      "cell_type": "markdown",
      "metadata": {
        "id": "Yy-i8GgGYCCW"
      },
      "source": [
        "**MODEL 3:** Neural Network 1 with List_Price"
      ]
    },
    {
      "cell_type": "code",
      "metadata": {
        "colab": {
          "base_uri": "https://localhost:8080/"
        },
        "id": "96eYo3qYX_aL",
        "outputId": "e4a58bd9-05d4-473f-a1f2-e5ac18439fc3"
      },
      "source": [
        "# Copy from Model 1: Regression 1\n",
        "print(X_train.shape, X_test.shape, y_train.shape, y_test.shape)"
      ],
      "execution_count": 32,
      "outputs": [
        {
          "output_type": "stream",
          "text": [
            "(4013, 47) (212, 47) (4013,) (212,)\n"
          ],
          "name": "stdout"
        }
      ]
    },
    {
      "cell_type": "code",
      "metadata": {
        "colab": {
          "base_uri": "https://localhost:8080/"
        },
        "id": "cmskpKV-X_za",
        "outputId": "6b17ba00-e2cb-4e09-c171-93cb2ee7d284"
      },
      "source": [
        "from keras.models import Sequential\n",
        "from keras.layers import Dense\n",
        "from keras.callbacks import ModelCheckpoint\n",
        "\n",
        "# Define the model - deep neural net\n",
        "number_input_features = X_train.shape[1]\n",
        "\n",
        "model3 = tf.keras.models.Sequential()\n",
        "\n",
        "# First hidden layer\n",
        "\n",
        "model3.add(tf.keras.layers.Dense(units=hidden_nodes_layer1, input_dim=number_input_features, activation=activation))\n",
        "\n",
        "# Second hidden layer\n",
        "model3.add(tf.keras.layers.Dense(units=hidden_nodes_layer2, activation=activation))\n",
        "\n",
        "# Third hidden layer\n",
        "model3.add(tf.keras.layers.Dense(units=hidden_nodes_layer3, activation=activation))\n",
        "\n",
        "# Output layer\n",
        "#  YOUR CODE GOES HERE\n",
        "model3.add(tf.keras.layers.Dense(units=1, activation=activation_last))#sigmoid, softmax, tanh\n",
        "\n",
        "# Check the structure of the model\n",
        "model3.summary()"
      ],
      "execution_count": 33,
      "outputs": [
        {
          "output_type": "stream",
          "text": [
            "Model: \"sequential\"\n",
            "_________________________________________________________________\n",
            "Layer (type)                 Output Shape              Param #   \n",
            "=================================================================\n",
            "dense (Dense)                (None, 15)                720       \n",
            "_________________________________________________________________\n",
            "dense_1 (Dense)              (None, 20)                320       \n",
            "_________________________________________________________________\n",
            "dense_2 (Dense)              (None, 10)                210       \n",
            "_________________________________________________________________\n",
            "dense_3 (Dense)              (None, 1)                 11        \n",
            "=================================================================\n",
            "Total params: 1,261\n",
            "Trainable params: 1,261\n",
            "Non-trainable params: 0\n",
            "_________________________________________________________________\n"
          ],
          "name": "stdout"
        }
      ]
    },
    {
      "cell_type": "code",
      "metadata": {
        "id": "LFuxOnLuYAH6",
        "colab": {
          "base_uri": "https://localhost:8080/"
        },
        "outputId": "1250413b-eb20-471c-b530-1e26632b28b2"
      },
      "source": [
        "# Define the checkpoint path and filenames\n",
        "os.makedirs(\"checkpoints1/\", exist_ok=True)\n",
        "checkpoint_path = \"checkpoints1/weights.{epoch:02d}.hdf5\"\n",
        "\n",
        "# Compile the model\n",
        "#model3.compile(optimizer='Adam', loss='mean_absolute_error', metrics=['MSE'])\n",
        "model3.compile(loss=loss_input, optimizer=optimizer_input, metrics=[metrics_input])# AdaGrad, AdaDelta, Adam\n",
        "\n",
        "# Create a callback that saves the model's weights\n",
        "cp_callback = ModelCheckpoint(\n",
        "    filepath=checkpoint_path,\n",
        "    verbose=1,\n",
        "    save_weights_only=True,\n",
        "    period=5,\n",
        "    save_freq='epoch')"
      ],
      "execution_count": 34,
      "outputs": [
        {
          "output_type": "stream",
          "text": [
            "WARNING:tensorflow:`period` argument is deprecated. Please use `save_freq` to specify the frequency in number of batches seen.\n"
          ],
          "name": "stdout"
        }
      ]
    },
    {
      "cell_type": "code",
      "metadata": {
        "colab": {
          "base_uri": "https://localhost:8080/"
        },
        "id": "fdtkdTcdMMZa",
        "outputId": "57b92310-428c-4192-fe34-b3ab203c32e8"
      },
      "source": [
        "# Train the model\n",
        "history = model3.fit(X_train, y_train, batch_size=size_batch_no, epochs=epochs_no, callbacks=[cp_callback], validation_data=(X_test, y_test))\n",
        "\n",
        "#history = model3.fit(X_train, y_train, batch_size=32, epochs=200, callbacks=[cp_callback], validation_data=(X_test, y_test))"
      ],
      "execution_count": 35,
      "outputs": [
        {
          "output_type": "stream",
          "text": [
            "Epoch 1/200\n",
            "126/126 [==============================] - 1s 4ms/step - loss: 651193.3125 - MSE: 1138381160448.0000 - val_loss: 115010.3516 - val_MSE: 242757730304.0000\n",
            "Epoch 2/200\n",
            "126/126 [==============================] - 0s 2ms/step - loss: 88793.1406 - MSE: 781002997760.0000 - val_loss: 87770.8203 - val_MSE: 111507259392.0000\n",
            "Epoch 3/200\n",
            "126/126 [==============================] - 0s 2ms/step - loss: 68019.2891 - MSE: 27710760960.0000 - val_loss: 86898.6953 - val_MSE: 120657674240.0000\n",
            "Epoch 4/200\n",
            "126/126 [==============================] - 0s 2ms/step - loss: 67367.0000 - MSE: 33941180416.0000 - val_loss: 86722.2422 - val_MSE: 125398335488.0000\n",
            "Epoch 5/200\n",
            "126/126 [==============================] - 0s 2ms/step - loss: 67734.8438 - MSE: 38114865152.0000 - val_loss: 86800.3203 - val_MSE: 133082759168.0000\n",
            "\n",
            "Epoch 00005: saving model to checkpoints1/weights.05.hdf5\n",
            "Epoch 6/200\n",
            "126/126 [==============================] - 0s 2ms/step - loss: 67504.7188 - MSE: 34693300224.0000 - val_loss: 86713.9688 - val_MSE: 134049292288.0000\n",
            "Epoch 7/200\n",
            "126/126 [==============================] - 0s 2ms/step - loss: 69414.0469 - MSE: 49997684736.0000 - val_loss: 86757.5469 - val_MSE: 122810212352.0000\n",
            "Epoch 8/200\n",
            "126/126 [==============================] - 0s 2ms/step - loss: 66846.7969 - MSE: 23034914816.0000 - val_loss: 86889.1953 - val_MSE: 118041780224.0000\n",
            "Epoch 9/200\n",
            "126/126 [==============================] - 0s 2ms/step - loss: 66546.9375 - MSE: 22771707904.0000 - val_loss: 87388.6641 - val_MSE: 110569275392.0000\n",
            "Epoch 10/200\n",
            "126/126 [==============================] - 0s 2ms/step - loss: 67260.9297 - MSE: 35699396608.0000 - val_loss: 88984.2891 - val_MSE: 102011895808.0000\n",
            "\n",
            "Epoch 00010: saving model to checkpoints1/weights.10.hdf5\n",
            "Epoch 11/200\n",
            "126/126 [==============================] - 0s 2ms/step - loss: 66985.6562 - MSE: 21615812608.0000 - val_loss: 90894.4531 - val_MSE: 161506492416.0000\n",
            "Epoch 12/200\n",
            "126/126 [==============================] - 0s 2ms/step - loss: 66276.1719 - MSE: 25847365632.0000 - val_loss: 86301.8984 - val_MSE: 124847734784.0000\n",
            "Epoch 13/200\n",
            "126/126 [==============================] - 0s 2ms/step - loss: 67587.0312 - MSE: 33307105280.0000 - val_loss: 88084.2109 - val_MSE: 105888808960.0000\n",
            "Epoch 14/200\n",
            "126/126 [==============================] - 0s 2ms/step - loss: 64621.1484 - MSE: 17780045824.0000 - val_loss: 86279.7578 - val_MSE: 126925676544.0000\n",
            "Epoch 15/200\n",
            "126/126 [==============================] - 0s 2ms/step - loss: 65519.0195 - MSE: 20193925120.0000 - val_loss: 86435.0859 - val_MSE: 119784275968.0000\n",
            "\n",
            "Epoch 00015: saving model to checkpoints1/weights.15.hdf5\n",
            "Epoch 16/200\n",
            "126/126 [==============================] - 0s 2ms/step - loss: 65947.7969 - MSE: 22184372224.0000 - val_loss: 86325.2188 - val_MSE: 129899454464.0000\n",
            "Epoch 17/200\n",
            "126/126 [==============================] - 0s 2ms/step - loss: 64508.3086 - MSE: 17341001728.0000 - val_loss: 87962.0938 - val_MSE: 104906153984.0000\n",
            "Epoch 18/200\n",
            "126/126 [==============================] - 0s 2ms/step - loss: 65656.0625 - MSE: 18161862656.0000 - val_loss: 86243.1016 - val_MSE: 128325738496.0000\n",
            "Epoch 19/200\n",
            "126/126 [==============================] - 0s 2ms/step - loss: 68514.3594 - MSE: 33443717120.0000 - val_loss: 86255.2266 - val_MSE: 122166910976.0000\n",
            "Epoch 20/200\n",
            "126/126 [==============================] - 0s 2ms/step - loss: 69274.2891 - MSE: 49199398912.0000 - val_loss: 87697.3047 - val_MSE: 143385329664.0000\n",
            "\n",
            "Epoch 00020: saving model to checkpoints1/weights.20.hdf5\n",
            "Epoch 21/200\n",
            "126/126 [==============================] - 0s 2ms/step - loss: 65812.1641 - MSE: 19095136256.0000 - val_loss: 96345.8281 - val_MSE: 179994935296.0000\n",
            "Epoch 22/200\n",
            "126/126 [==============================] - 0s 2ms/step - loss: 66736.4844 - MSE: 23115878400.0000 - val_loss: 86453.6094 - val_MSE: 121006497792.0000\n",
            "Epoch 23/200\n",
            "126/126 [==============================] - 0s 2ms/step - loss: 67674.3438 - MSE: 40467726336.0000 - val_loss: 89999.5625 - val_MSE: 154331791360.0000\n",
            "Epoch 24/200\n",
            "126/126 [==============================] - 0s 2ms/step - loss: 64252.9023 - MSE: 15644578816.0000 - val_loss: 86444.2188 - val_MSE: 125414817792.0000\n",
            "Epoch 25/200\n",
            "126/126 [==============================] - 0s 2ms/step - loss: 66003.5391 - MSE: 21763817472.0000 - val_loss: 86890.3203 - val_MSE: 113149591552.0000\n",
            "\n",
            "Epoch 00025: saving model to checkpoints1/weights.25.hdf5\n",
            "Epoch 26/200\n",
            "126/126 [==============================] - 0s 2ms/step - loss: 65220.8633 - MSE: 17950169088.0000 - val_loss: 86462.6250 - val_MSE: 125955891200.0000\n",
            "Epoch 27/200\n",
            "126/126 [==============================] - 0s 2ms/step - loss: 65113.9688 - MSE: 17580484608.0000 - val_loss: 86822.5625 - val_MSE: 114593923072.0000\n",
            "Epoch 28/200\n",
            "126/126 [==============================] - 0s 2ms/step - loss: 67853.0234 - MSE: 36474142720.0000 - val_loss: 86743.3281 - val_MSE: 133354610688.0000\n",
            "Epoch 29/200\n",
            "126/126 [==============================] - 0s 2ms/step - loss: 67230.7188 - MSE: 35868643328.0000 - val_loss: 86384.8594 - val_MSE: 118871425024.0000\n",
            "Epoch 30/200\n",
            "126/126 [==============================] - 0s 2ms/step - loss: 64750.2969 - MSE: 16344852480.0000 - val_loss: 86783.5547 - val_MSE: 113272012800.0000\n",
            "\n",
            "Epoch 00030: saving model to checkpoints1/weights.30.hdf5\n",
            "Epoch 31/200\n",
            "126/126 [==============================] - 0s 2ms/step - loss: 66399.5000 - MSE: 19115773952.0000 - val_loss: 86174.4922 - val_MSE: 125249437696.0000\n",
            "Epoch 32/200\n",
            "126/126 [==============================] - 0s 2ms/step - loss: 64003.2070 - MSE: 15153775616.0000 - val_loss: 86349.8672 - val_MSE: 132216627200.0000\n",
            "Epoch 33/200\n",
            "126/126 [==============================] - 0s 2ms/step - loss: 65542.5391 - MSE: 18898671616.0000 - val_loss: 87414.0938 - val_MSE: 140413255680.0000\n",
            "Epoch 34/200\n",
            "126/126 [==============================] - 0s 2ms/step - loss: 64599.0547 - MSE: 16276527104.0000 - val_loss: 86952.2266 - val_MSE: 137468887040.0000\n",
            "Epoch 35/200\n",
            "126/126 [==============================] - 0s 2ms/step - loss: 64571.3242 - MSE: 15392236544.0000 - val_loss: 90536.1250 - val_MSE: 157046308864.0000\n",
            "\n",
            "Epoch 00035: saving model to checkpoints1/weights.35.hdf5\n",
            "Epoch 36/200\n",
            "126/126 [==============================] - 0s 2ms/step - loss: 65196.6211 - MSE: 17107515392.0000 - val_loss: 86204.8750 - val_MSE: 119908777984.0000\n",
            "Epoch 37/200\n",
            "126/126 [==============================] - 0s 2ms/step - loss: 64724.2852 - MSE: 16295881728.0000 - val_loss: 88081.8203 - val_MSE: 144976986112.0000\n",
            "Epoch 38/200\n",
            "126/126 [==============================] - 0s 2ms/step - loss: 65224.8828 - MSE: 18212218880.0000 - val_loss: 87072.9453 - val_MSE: 109133873152.0000\n",
            "Epoch 39/200\n",
            "126/126 [==============================] - 0s 2ms/step - loss: 65309.9609 - MSE: 21440985088.0000 - val_loss: 86208.9062 - val_MSE: 120747188224.0000\n",
            "Epoch 40/200\n",
            "126/126 [==============================] - 0s 2ms/step - loss: 63775.8008 - MSE: 15041447936.0000 - val_loss: 87947.5000 - val_MSE: 102912311296.0000\n",
            "\n",
            "Epoch 00040: saving model to checkpoints1/weights.40.hdf5\n",
            "Epoch 41/200\n",
            "126/126 [==============================] - 0s 2ms/step - loss: 65806.1875 - MSE: 19463034880.0000 - val_loss: 87722.2734 - val_MSE: 103819452416.0000\n",
            "Epoch 42/200\n",
            "126/126 [==============================] - 0s 2ms/step - loss: 64386.5625 - MSE: 15517776896.0000 - val_loss: 88715.8594 - val_MSE: 148517027840.0000\n",
            "Epoch 43/200\n",
            "126/126 [==============================] - 0s 2ms/step - loss: 64644.2891 - MSE: 16735552512.0000 - val_loss: 86849.2266 - val_MSE: 110150803456.0000\n",
            "Epoch 44/200\n",
            "126/126 [==============================] - 0s 2ms/step - loss: 65393.6758 - MSE: 17065973760.0000 - val_loss: 86773.3203 - val_MSE: 110675394560.0000\n",
            "Epoch 45/200\n",
            "126/126 [==============================] - 0s 2ms/step - loss: 64265.6836 - MSE: 15961440256.0000 - val_loss: 90674.0469 - val_MSE: 157579247616.0000\n",
            "\n",
            "Epoch 00045: saving model to checkpoints1/weights.45.hdf5\n",
            "Epoch 46/200\n",
            "126/126 [==============================] - 0s 2ms/step - loss: 63947.4570 - MSE: 15420300288.0000 - val_loss: 86083.9219 - val_MSE: 125716283392.0000\n",
            "Epoch 47/200\n",
            "126/126 [==============================] - 0s 2ms/step - loss: 64924.0430 - MSE: 17656631296.0000 - val_loss: 86207.0156 - val_MSE: 129503027200.0000\n",
            "Epoch 48/200\n",
            "126/126 [==============================] - 0s 2ms/step - loss: 64045.9609 - MSE: 14801340416.0000 - val_loss: 86190.6953 - val_MSE: 128382574592.0000\n",
            "Epoch 49/200\n",
            "126/126 [==============================] - 0s 2ms/step - loss: 64295.7188 - MSE: 15591692288.0000 - val_loss: 86642.8203 - val_MSE: 134703357952.0000\n",
            "Epoch 50/200\n",
            "126/126 [==============================] - 0s 2ms/step - loss: 64636.4375 - MSE: 15982970880.0000 - val_loss: 86243.2422 - val_MSE: 116798980096.0000\n",
            "\n",
            "Epoch 00050: saving model to checkpoints1/weights.50.hdf5\n",
            "Epoch 51/200\n",
            "126/126 [==============================] - 0s 2ms/step - loss: 65161.8711 - MSE: 15846734848.0000 - val_loss: 86109.6641 - val_MSE: 118331736064.0000\n",
            "Epoch 52/200\n",
            "126/126 [==============================] - 0s 2ms/step - loss: 64847.5586 - MSE: 15991336960.0000 - val_loss: 86050.5469 - val_MSE: 125809197056.0000\n",
            "Epoch 53/200\n",
            "126/126 [==============================] - 0s 2ms/step - loss: 64461.5312 - MSE: 15818556416.0000 - val_loss: 86234.3750 - val_MSE: 114869116928.0000\n",
            "Epoch 54/200\n",
            "126/126 [==============================] - 0s 2ms/step - loss: 63531.2109 - MSE: 14915399680.0000 - val_loss: 87121.2812 - val_MSE: 138223550464.0000\n",
            "Epoch 55/200\n",
            "126/126 [==============================] - 0s 2ms/step - loss: 64246.0938 - MSE: 15258113024.0000 - val_loss: 86108.3359 - val_MSE: 117582159872.0000\n",
            "\n",
            "Epoch 00055: saving model to checkpoints1/weights.55.hdf5\n",
            "Epoch 56/200\n",
            "126/126 [==============================] - 0s 2ms/step - loss: 64003.6094 - MSE: 15475767296.0000 - val_loss: 86222.9922 - val_MSE: 114724241408.0000\n",
            "Epoch 57/200\n",
            "126/126 [==============================] - 0s 2ms/step - loss: 63896.2383 - MSE: 15089312768.0000 - val_loss: 86103.1641 - val_MSE: 117100765184.0000\n",
            "Epoch 58/200\n",
            "126/126 [==============================] - 0s 2ms/step - loss: 64193.3398 - MSE: 15421617152.0000 - val_loss: 86061.9375 - val_MSE: 118175481856.0000\n",
            "Epoch 59/200\n",
            "126/126 [==============================] - 0s 2ms/step - loss: 64266.0039 - MSE: 15415875584.0000 - val_loss: 86000.9688 - val_MSE: 124802334720.0000\n",
            "Epoch 60/200\n",
            "126/126 [==============================] - 0s 2ms/step - loss: 63971.4102 - MSE: 15063320576.0000 - val_loss: 86030.2656 - val_MSE: 125717954560.0000\n",
            "\n",
            "Epoch 00060: saving model to checkpoints1/weights.60.hdf5\n",
            "Epoch 61/200\n",
            "126/126 [==============================] - 0s 3ms/step - loss: 64422.8828 - MSE: 15315020800.0000 - val_loss: 88773.7578 - val_MSE: 147740295168.0000\n",
            "Epoch 62/200\n",
            "126/126 [==============================] - 0s 2ms/step - loss: 63823.8633 - MSE: 14648992768.0000 - val_loss: 86200.5859 - val_MSE: 114121465856.0000\n",
            "Epoch 63/200\n",
            "126/126 [==============================] - 0s 2ms/step - loss: 63754.0977 - MSE: 14971206656.0000 - val_loss: 87453.4219 - val_MSE: 103673282560.0000\n",
            "Epoch 64/200\n",
            "126/126 [==============================] - 0s 2ms/step - loss: 64162.5234 - MSE: 15219998720.0000 - val_loss: 86031.4844 - val_MSE: 125302145024.0000\n",
            "Epoch 65/200\n",
            "126/126 [==============================] - 0s 2ms/step - loss: 64399.9531 - MSE: 15631341568.0000 - val_loss: 86042.9375 - val_MSE: 118167560192.0000\n",
            "\n",
            "Epoch 00065: saving model to checkpoints1/weights.65.hdf5\n",
            "Epoch 66/200\n",
            "126/126 [==============================] - 0s 2ms/step - loss: 63888.7852 - MSE: 14859092992.0000 - val_loss: 86231.5078 - val_MSE: 130116730880.0000\n",
            "Epoch 67/200\n",
            "126/126 [==============================] - 0s 2ms/step - loss: 64627.1914 - MSE: 15399010304.0000 - val_loss: 85961.3281 - val_MSE: 123870953472.0000\n",
            "Epoch 68/200\n",
            "126/126 [==============================] - 0s 2ms/step - loss: 63977.2969 - MSE: 15302621184.0000 - val_loss: 86891.0781 - val_MSE: 106667343872.0000\n",
            "Epoch 69/200\n",
            "126/126 [==============================] - 0s 2ms/step - loss: 64769.8594 - MSE: 18544211968.0000 - val_loss: 85982.4609 - val_MSE: 118372122624.0000\n",
            "Epoch 70/200\n",
            "126/126 [==============================] - 0s 2ms/step - loss: 63434.1289 - MSE: 14695676928.0000 - val_loss: 86129.6484 - val_MSE: 128399245312.0000\n",
            "\n",
            "Epoch 00070: saving model to checkpoints1/weights.70.hdf5\n",
            "Epoch 71/200\n",
            "126/126 [==============================] - 0s 2ms/step - loss: 63650.6289 - MSE: 15111577600.0000 - val_loss: 87413.3984 - val_MSE: 139645698048.0000\n",
            "Epoch 72/200\n",
            "126/126 [==============================] - 0s 2ms/step - loss: 64248.0352 - MSE: 14910032896.0000 - val_loss: 86653.3125 - val_MSE: 134603890688.0000\n",
            "Epoch 73/200\n",
            "126/126 [==============================] - 0s 2ms/step - loss: 64001.5898 - MSE: 15620535296.0000 - val_loss: 86927.1797 - val_MSE: 136571969536.0000\n",
            "Epoch 74/200\n",
            "126/126 [==============================] - 0s 2ms/step - loss: 64134.5664 - MSE: 14823882752.0000 - val_loss: 85927.5469 - val_MSE: 121700270080.0000\n",
            "Epoch 75/200\n",
            "126/126 [==============================] - 0s 2ms/step - loss: 63638.5391 - MSE: 14822532096.0000 - val_loss: 86591.7656 - val_MSE: 134077235200.0000\n",
            "\n",
            "Epoch 00075: saving model to checkpoints1/weights.75.hdf5\n",
            "Epoch 76/200\n",
            "126/126 [==============================] - 0s 2ms/step - loss: 63805.4727 - MSE: 15335012352.0000 - val_loss: 87269.0625 - val_MSE: 138644488192.0000\n",
            "Epoch 77/200\n",
            "126/126 [==============================] - 0s 2ms/step - loss: 63871.0664 - MSE: 15297160192.0000 - val_loss: 86888.1719 - val_MSE: 105823141888.0000\n",
            "Epoch 78/200\n",
            "126/126 [==============================] - 0s 2ms/step - loss: 63900.1992 - MSE: 14901686272.0000 - val_loss: 86919.4453 - val_MSE: 105914220544.0000\n",
            "Epoch 79/200\n",
            "126/126 [==============================] - 0s 2ms/step - loss: 63709.5234 - MSE: 14636950528.0000 - val_loss: 90437.0938 - val_MSE: 154983809024.0000\n",
            "Epoch 80/200\n",
            "126/126 [==============================] - 0s 2ms/step - loss: 63338.4023 - MSE: 14562769920.0000 - val_loss: 87052.9453 - val_MSE: 137235783680.0000\n",
            "\n",
            "Epoch 00080: saving model to checkpoints1/weights.80.hdf5\n",
            "Epoch 81/200\n",
            "126/126 [==============================] - 0s 2ms/step - loss: 63329.9961 - MSE: 14707522560.0000 - val_loss: 86057.1016 - val_MSE: 114683002880.0000\n",
            "Epoch 82/200\n",
            "126/126 [==============================] - 0s 2ms/step - loss: 63890.4453 - MSE: 14513154048.0000 - val_loss: 86044.7109 - val_MSE: 114689744896.0000\n",
            "Epoch 83/200\n",
            "126/126 [==============================] - 0s 2ms/step - loss: 64522.9102 - MSE: 15406800896.0000 - val_loss: 86378.4141 - val_MSE: 132122656768.0000\n",
            "Epoch 84/200\n",
            "126/126 [==============================] - 0s 2ms/step - loss: 63834.3008 - MSE: 15221833728.0000 - val_loss: 86377.6875 - val_MSE: 132127899648.0000\n",
            "Epoch 85/200\n",
            "126/126 [==============================] - 0s 2ms/step - loss: 63882.8125 - MSE: 15430021120.0000 - val_loss: 86040.1484 - val_MSE: 127045976064.0000\n",
            "\n",
            "Epoch 00085: saving model to checkpoints1/weights.85.hdf5\n",
            "Epoch 86/200\n",
            "126/126 [==============================] - 0s 2ms/step - loss: 63782.7148 - MSE: 14914059264.0000 - val_loss: 88758.9688 - val_MSE: 146858426368.0000\n",
            "Epoch 87/200\n",
            "126/126 [==============================] - 0s 2ms/step - loss: 63840.7500 - MSE: 15055023104.0000 - val_loss: 85955.5859 - val_MSE: 125250134016.0000\n",
            "Epoch 88/200\n",
            "126/126 [==============================] - 0s 2ms/step - loss: 64062.6602 - MSE: 15209016320.0000 - val_loss: 86769.5859 - val_MSE: 135211057152.0000\n",
            "Epoch 89/200\n",
            "126/126 [==============================] - 0s 2ms/step - loss: 63506.3672 - MSE: 15043823616.0000 - val_loss: 86324.5625 - val_MSE: 110451892224.0000\n",
            "Epoch 90/200\n",
            "126/126 [==============================] - 0s 2ms/step - loss: 63637.6602 - MSE: 14987165696.0000 - val_loss: 87625.3516 - val_MSE: 140495290368.0000\n",
            "\n",
            "Epoch 00090: saving model to checkpoints1/weights.90.hdf5\n",
            "Epoch 91/200\n",
            "126/126 [==============================] - 0s 2ms/step - loss: 63556.4141 - MSE: 14586477568.0000 - val_loss: 86817.8750 - val_MSE: 105748799488.0000\n",
            "Epoch 92/200\n",
            "126/126 [==============================] - 0s 2ms/step - loss: 64335.1172 - MSE: 15166936064.0000 - val_loss: 86839.6797 - val_MSE: 135618592768.0000\n",
            "Epoch 93/200\n",
            "126/126 [==============================] - 0s 3ms/step - loss: 72304.9844 - MSE: 158308614144.0000 - val_loss: 86577.0000 - val_MSE: 133905072128.0000\n",
            "Epoch 94/200\n",
            "126/126 [==============================] - 0s 2ms/step - loss: 65071.2344 - MSE: 17231693824.0000 - val_loss: 85864.4531 - val_MSE: 121513328640.0000\n",
            "Epoch 95/200\n",
            "126/126 [==============================] - 0s 2ms/step - loss: 63650.0547 - MSE: 14760938496.0000 - val_loss: 87568.8047 - val_MSE: 140212256768.0000\n",
            "\n",
            "Epoch 00095: saving model to checkpoints1/weights.95.hdf5\n",
            "Epoch 96/200\n",
            "126/126 [==============================] - 0s 2ms/step - loss: 64413.8672 - MSE: 15200745472.0000 - val_loss: 87362.2891 - val_MSE: 138884857856.0000\n",
            "Epoch 97/200\n",
            "126/126 [==============================] - 0s 3ms/step - loss: 63819.6953 - MSE: 15411947520.0000 - val_loss: 85828.3203 - val_MSE: 120427094016.0000\n",
            "Epoch 98/200\n",
            "126/126 [==============================] - 0s 3ms/step - loss: 64420.4648 - MSE: 15318940672.0000 - val_loss: 88980.8906 - val_MSE: 147650363392.0000\n",
            "Epoch 99/200\n",
            "126/126 [==============================] - 0s 2ms/step - loss: 64798.7930 - MSE: 15008010240.0000 - val_loss: 87105.5391 - val_MSE: 103142023168.0000\n",
            "Epoch 100/200\n",
            "126/126 [==============================] - 0s 3ms/step - loss: 63457.0391 - MSE: 14765167616.0000 - val_loss: 86626.7734 - val_MSE: 106843545600.0000\n",
            "\n",
            "Epoch 00100: saving model to checkpoints1/weights.100.hdf5\n",
            "Epoch 101/200\n",
            "126/126 [==============================] - 0s 2ms/step - loss: 63574.6250 - MSE: 15029212160.0000 - val_loss: 87132.1016 - val_MSE: 137363070976.0000\n",
            "Epoch 102/200\n",
            "126/126 [==============================] - 0s 2ms/step - loss: 64736.8164 - MSE: 14909882368.0000 - val_loss: 86839.2422 - val_MSE: 104874754048.0000\n",
            "Epoch 103/200\n",
            "126/126 [==============================] - 0s 2ms/step - loss: 63569.8281 - MSE: 15072818176.0000 - val_loss: 86626.4844 - val_MSE: 106630209536.0000\n",
            "Epoch 104/200\n",
            "126/126 [==============================] - 0s 3ms/step - loss: 64577.6836 - MSE: 17697994752.0000 - val_loss: 86946.7578 - val_MSE: 104189411328.0000\n",
            "Epoch 105/200\n",
            "126/126 [==============================] - 0s 2ms/step - loss: 64059.1094 - MSE: 15755553792.0000 - val_loss: 87661.3281 - val_MSE: 140536381440.0000\n",
            "\n",
            "Epoch 00105: saving model to checkpoints1/weights.105.hdf5\n",
            "Epoch 106/200\n",
            "126/126 [==============================] - 0s 2ms/step - loss: 63553.0469 - MSE: 14777849856.0000 - val_loss: 87030.2734 - val_MSE: 136731500544.0000\n",
            "Epoch 107/200\n",
            "126/126 [==============================] - 0s 3ms/step - loss: 64373.0742 - MSE: 15584818176.0000 - val_loss: 89152.5312 - val_MSE: 148426489856.0000\n",
            "Epoch 108/200\n",
            "126/126 [==============================] - 0s 2ms/step - loss: 64074.7891 - MSE: 15267186688.0000 - val_loss: 86385.5781 - val_MSE: 132153262080.0000\n",
            "Epoch 109/200\n",
            "126/126 [==============================] - 0s 2ms/step - loss: 64061.4609 - MSE: 15111652352.0000 - val_loss: 86272.9844 - val_MSE: 110109917184.0000\n",
            "Epoch 110/200\n",
            "126/126 [==============================] - 0s 2ms/step - loss: 64177.7344 - MSE: 15382378496.0000 - val_loss: 97489.8672 - val_MSE: 82252210176.0000\n",
            "\n",
            "Epoch 00110: saving model to checkpoints1/weights.110.hdf5\n",
            "Epoch 111/200\n",
            "126/126 [==============================] - 0s 2ms/step - loss: 64437.9141 - MSE: 14949066752.0000 - val_loss: 85890.1094 - val_MSE: 115928457216.0000\n",
            "Epoch 112/200\n",
            "126/126 [==============================] - 0s 2ms/step - loss: 64029.2148 - MSE: 14942502912.0000 - val_loss: 88266.2656 - val_MSE: 144147628032.0000\n",
            "Epoch 113/200\n",
            "126/126 [==============================] - 0s 2ms/step - loss: 63468.8711 - MSE: 15137952768.0000 - val_loss: 86666.4219 - val_MSE: 106166886400.0000\n",
            "Epoch 114/200\n",
            "126/126 [==============================] - 0s 2ms/step - loss: 63878.4336 - MSE: 14503089152.0000 - val_loss: 87438.4688 - val_MSE: 101420253184.0000\n",
            "Epoch 115/200\n",
            "126/126 [==============================] - 0s 2ms/step - loss: 64115.9258 - MSE: 16219695104.0000 - val_loss: 86352.6016 - val_MSE: 109513392128.0000\n",
            "\n",
            "Epoch 00115: saving model to checkpoints1/weights.115.hdf5\n",
            "Epoch 116/200\n",
            "126/126 [==============================] - 0s 2ms/step - loss: 63968.8320 - MSE: 15111319552.0000 - val_loss: 85807.4219 - val_MSE: 119069376512.0000\n",
            "Epoch 117/200\n",
            "126/126 [==============================] - 0s 2ms/step - loss: 63471.5000 - MSE: 15037282304.0000 - val_loss: 86213.8672 - val_MSE: 130529402880.0000\n",
            "Epoch 118/200\n",
            "126/126 [==============================] - 0s 3ms/step - loss: 63442.7773 - MSE: 14385918976.0000 - val_loss: 85787.3281 - val_MSE: 122046496768.0000\n",
            "Epoch 119/200\n",
            "126/126 [==============================] - 0s 2ms/step - loss: 64019.7148 - MSE: 14988290048.0000 - val_loss: 88397.2422 - val_MSE: 144695001088.0000\n",
            "Epoch 120/200\n",
            "126/126 [==============================] - 0s 2ms/step - loss: 64398.3945 - MSE: 18016030720.0000 - val_loss: 85854.0938 - val_MSE: 123815788544.0000\n",
            "\n",
            "Epoch 00120: saving model to checkpoints1/weights.120.hdf5\n",
            "Epoch 121/200\n",
            "126/126 [==============================] - 0s 2ms/step - loss: 63647.1992 - MSE: 15065199616.0000 - val_loss: 85784.3203 - val_MSE: 119772487680.0000\n",
            "Epoch 122/200\n",
            "126/126 [==============================] - 0s 2ms/step - loss: 63807.2383 - MSE: 15176486912.0000 - val_loss: 86446.3203 - val_MSE: 132825735168.0000\n",
            "Epoch 123/200\n",
            "126/126 [==============================] - 0s 2ms/step - loss: 63855.5273 - MSE: 14491212800.0000 - val_loss: 85907.1875 - val_MSE: 125321199616.0000\n",
            "Epoch 124/200\n",
            "126/126 [==============================] - 0s 3ms/step - loss: 63270.4297 - MSE: 14698457088.0000 - val_loss: 86112.6250 - val_MSE: 129029226496.0000\n",
            "Epoch 125/200\n",
            "126/126 [==============================] - 0s 3ms/step - loss: 63947.6406 - MSE: 15351729152.0000 - val_loss: 86823.7734 - val_MSE: 135468236800.0000\n",
            "\n",
            "Epoch 00125: saving model to checkpoints1/weights.125.hdf5\n",
            "Epoch 126/200\n",
            "126/126 [==============================] - 0s 2ms/step - loss: 63416.8750 - MSE: 14891276288.0000 - val_loss: 86505.6094 - val_MSE: 133365538816.0000\n",
            "Epoch 127/200\n",
            "126/126 [==============================] - 0s 2ms/step - loss: 64163.3633 - MSE: 15213161472.0000 - val_loss: 85857.1094 - val_MSE: 115999383552.0000\n",
            "Epoch 128/200\n",
            "126/126 [==============================] - 0s 2ms/step - loss: 63834.7812 - MSE: 14844653568.0000 - val_loss: 89779.4531 - val_MSE: 151504814080.0000\n",
            "Epoch 129/200\n",
            "126/126 [==============================] - 0s 2ms/step - loss: 64115.9609 - MSE: 16284040192.0000 - val_loss: 86278.3984 - val_MSE: 109779566592.0000\n",
            "Epoch 130/200\n",
            "126/126 [==============================] - 0s 2ms/step - loss: 64263.4297 - MSE: 15154533376.0000 - val_loss: 85788.0469 - val_MSE: 121781796864.0000\n",
            "\n",
            "Epoch 00130: saving model to checkpoints1/weights.130.hdf5\n",
            "Epoch 131/200\n",
            "126/126 [==============================] - 0s 2ms/step - loss: 64406.2695 - MSE: 20007022592.0000 - val_loss: 85780.8125 - val_MSE: 121398034432.0000\n",
            "Epoch 132/200\n",
            "126/126 [==============================] - 0s 3ms/step - loss: 63607.1445 - MSE: 14730928128.0000 - val_loss: 86057.3516 - val_MSE: 112496623616.0000\n",
            "Epoch 133/200\n",
            "126/126 [==============================] - 0s 2ms/step - loss: 63881.3672 - MSE: 15340116992.0000 - val_loss: 86247.1641 - val_MSE: 110168604672.0000\n",
            "Epoch 134/200\n",
            "126/126 [==============================] - 0s 2ms/step - loss: 63418.9805 - MSE: 14558055424.0000 - val_loss: 87103.4531 - val_MSE: 102750879744.0000\n",
            "Epoch 135/200\n",
            "126/126 [==============================] - 0s 2ms/step - loss: 63792.9648 - MSE: 14923454464.0000 - val_loss: 85759.8203 - val_MSE: 121289302016.0000\n",
            "\n",
            "Epoch 00135: saving model to checkpoints1/weights.135.hdf5\n",
            "Epoch 136/200\n",
            "126/126 [==============================] - 0s 2ms/step - loss: 63551.8945 - MSE: 15205512192.0000 - val_loss: 85763.2422 - val_MSE: 119001300992.0000\n",
            "Epoch 137/200\n",
            "126/126 [==============================] - 0s 2ms/step - loss: 63748.6797 - MSE: 15118647296.0000 - val_loss: 86253.4219 - val_MSE: 131177029632.0000\n",
            "Epoch 138/200\n",
            "126/126 [==============================] - 0s 2ms/step - loss: 63577.8438 - MSE: 15229322240.0000 - val_loss: 85777.6016 - val_MSE: 117460475904.0000\n",
            "Epoch 139/200\n",
            "126/126 [==============================] - 0s 2ms/step - loss: 63674.7031 - MSE: 14788705280.0000 - val_loss: 85877.9141 - val_MSE: 125087391744.0000\n",
            "Epoch 140/200\n",
            "126/126 [==============================] - 0s 2ms/step - loss: 63797.3203 - MSE: 15153211392.0000 - val_loss: 87665.3203 - val_MSE: 140591104000.0000\n",
            "\n",
            "Epoch 00140: saving model to checkpoints1/weights.140.hdf5\n",
            "Epoch 141/200\n",
            "126/126 [==============================] - 0s 2ms/step - loss: 64002.7031 - MSE: 14719519744.0000 - val_loss: 88534.5469 - val_MSE: 145274060800.0000\n",
            "Epoch 142/200\n",
            "126/126 [==============================] - 0s 2ms/step - loss: 64346.5391 - MSE: 15805514752.0000 - val_loss: 85757.7344 - val_MSE: 122208116736.0000\n",
            "Epoch 143/200\n",
            "126/126 [==============================] - 0s 2ms/step - loss: 64408.3945 - MSE: 15355180032.0000 - val_loss: 87022.6484 - val_MSE: 102772613120.0000\n",
            "Epoch 144/200\n",
            "126/126 [==============================] - 0s 2ms/step - loss: 64454.5312 - MSE: 15629553664.0000 - val_loss: 85735.0469 - val_MSE: 121867583488.0000\n",
            "Epoch 145/200\n",
            "126/126 [==============================] - 0s 2ms/step - loss: 64173.8594 - MSE: 16301234176.0000 - val_loss: 87232.8047 - val_MSE: 137992257536.0000\n",
            "\n",
            "Epoch 00145: saving model to checkpoints1/weights.145.hdf5\n",
            "Epoch 146/200\n",
            "126/126 [==============================] - 0s 2ms/step - loss: 63787.6953 - MSE: 15208840192.0000 - val_loss: 85755.2578 - val_MSE: 122227253248.0000\n",
            "Epoch 147/200\n",
            "126/126 [==============================] - 0s 2ms/step - loss: 63591.4141 - MSE: 15090493440.0000 - val_loss: 85774.4688 - val_MSE: 116851163136.0000\n",
            "Epoch 148/200\n",
            "126/126 [==============================] - 0s 2ms/step - loss: 64475.8438 - MSE: 16390764544.0000 - val_loss: 85734.9219 - val_MSE: 119823835136.0000\n",
            "Epoch 149/200\n",
            "126/126 [==============================] - 0s 2ms/step - loss: 63505.1992 - MSE: 14615221248.0000 - val_loss: 85875.8750 - val_MSE: 114061385728.0000\n",
            "Epoch 150/200\n",
            "126/126 [==============================] - 0s 2ms/step - loss: 64118.9102 - MSE: 15322721280.0000 - val_loss: 86134.9375 - val_MSE: 129732550656.0000\n",
            "\n",
            "Epoch 00150: saving model to checkpoints1/weights.150.hdf5\n",
            "Epoch 151/200\n",
            "126/126 [==============================] - 0s 2ms/step - loss: 64121.9062 - MSE: 15884895232.0000 - val_loss: 90969.4219 - val_MSE: 156472344576.0000\n",
            "Epoch 152/200\n",
            "126/126 [==============================] - 0s 2ms/step - loss: 63319.7695 - MSE: 14457439232.0000 - val_loss: 86469.8203 - val_MSE: 106805624832.0000\n",
            "Epoch 153/200\n",
            "126/126 [==============================] - 0s 2ms/step - loss: 63499.9844 - MSE: 15032582144.0000 - val_loss: 93203.0312 - val_MSE: 165035294720.0000\n",
            "Epoch 154/200\n",
            "126/126 [==============================] - 0s 2ms/step - loss: 64256.8711 - MSE: 14891567104.0000 - val_loss: 86118.6719 - val_MSE: 129530036224.0000\n",
            "Epoch 155/200\n",
            "126/126 [==============================] - 0s 2ms/step - loss: 64578.2617 - MSE: 15553539072.0000 - val_loss: 85698.8359 - val_MSE: 118857105408.0000\n",
            "\n",
            "Epoch 00155: saving model to checkpoints1/weights.155.hdf5\n",
            "Epoch 156/200\n",
            "126/126 [==============================] - 0s 2ms/step - loss: 63590.5430 - MSE: 14875160576.0000 - val_loss: 86066.4453 - val_MSE: 111201042432.0000\n",
            "Epoch 157/200\n",
            "126/126 [==============================] - 0s 2ms/step - loss: 64180.9570 - MSE: 16684567552.0000 - val_loss: 85756.5547 - val_MSE: 116236746752.0000\n",
            "Epoch 158/200\n",
            "126/126 [==============================] - 0s 2ms/step - loss: 64079.1172 - MSE: 14999597056.0000 - val_loss: 85744.3359 - val_MSE: 117220728832.0000\n",
            "Epoch 159/200\n",
            "126/126 [==============================] - 0s 3ms/step - loss: 64176.4570 - MSE: 14674124800.0000 - val_loss: 86066.4375 - val_MSE: 128723812352.0000\n",
            "Epoch 160/200\n",
            "126/126 [==============================] - 0s 2ms/step - loss: 63973.8320 - MSE: 15400482816.0000 - val_loss: 86580.8281 - val_MSE: 133778530304.0000\n",
            "\n",
            "Epoch 00160: saving model to checkpoints1/weights.160.hdf5\n",
            "Epoch 161/200\n",
            "126/126 [==============================] - 0s 2ms/step - loss: 65367.4766 - MSE: 22013472768.0000 - val_loss: 85800.1484 - val_MSE: 112164257792.0000\n",
            "Epoch 162/200\n",
            "126/126 [==============================] - 0s 2ms/step - loss: 64240.2148 - MSE: 14545108992.0000 - val_loss: 87464.9375 - val_MSE: 139815272448.0000\n",
            "Epoch 163/200\n",
            "126/126 [==============================] - 0s 3ms/step - loss: 63989.0391 - MSE: 14658552832.0000 - val_loss: 93217.8672 - val_MSE: 86331654144.0000\n",
            "Epoch 164/200\n",
            "126/126 [==============================] - 0s 2ms/step - loss: 64857.8320 - MSE: 16086024192.0000 - val_loss: 92564.3203 - val_MSE: 162446852096.0000\n",
            "Epoch 165/200\n",
            "126/126 [==============================] - 0s 2ms/step - loss: 65978.6406 - MSE: 38256275456.0000 - val_loss: 85807.1406 - val_MSE: 111807987712.0000\n",
            "\n",
            "Epoch 00165: saving model to checkpoints1/weights.165.hdf5\n",
            "Epoch 166/200\n",
            "126/126 [==============================] - 0s 3ms/step - loss: 63854.2344 - MSE: 15044272128.0000 - val_loss: 86165.5312 - val_MSE: 107782258688.0000\n",
            "Epoch 167/200\n",
            "126/126 [==============================] - 0s 2ms/step - loss: 64464.3594 - MSE: 15491935232.0000 - val_loss: 88756.0000 - val_MSE: 96096993280.0000\n",
            "Epoch 168/200\n",
            "126/126 [==============================] - 0s 2ms/step - loss: 63626.5000 - MSE: 15544824832.0000 - val_loss: 86668.1875 - val_MSE: 134460678144.0000\n",
            "Epoch 169/200\n",
            "126/126 [==============================] - 0s 2ms/step - loss: 63476.7812 - MSE: 14622529536.0000 - val_loss: 85909.7891 - val_MSE: 112745119744.0000\n",
            "Epoch 170/200\n",
            "126/126 [==============================] - 0s 2ms/step - loss: 63678.0312 - MSE: 14695887872.0000 - val_loss: 85829.7734 - val_MSE: 113851473920.0000\n",
            "\n",
            "Epoch 00170: saving model to checkpoints1/weights.170.hdf5\n",
            "Epoch 171/200\n",
            "126/126 [==============================] - 0s 3ms/step - loss: 64143.5664 - MSE: 15317768192.0000 - val_loss: 85688.3516 - val_MSE: 118963224576.0000\n",
            "Epoch 172/200\n",
            "126/126 [==============================] - 0s 2ms/step - loss: 63616.3867 - MSE: 14815171584.0000 - val_loss: 85947.4922 - val_MSE: 112242188288.0000\n",
            "Epoch 173/200\n",
            "126/126 [==============================] - 0s 2ms/step - loss: 63568.5781 - MSE: 14655414272.0000 - val_loss: 86872.0859 - val_MSE: 135863558144.0000\n",
            "Epoch 174/200\n",
            "126/126 [==============================] - 0s 2ms/step - loss: 63490.6055 - MSE: 14922669056.0000 - val_loss: 86599.1406 - val_MSE: 105166446592.0000\n",
            "Epoch 175/200\n",
            "126/126 [==============================] - 0s 2ms/step - loss: 63676.2695 - MSE: 14923692032.0000 - val_loss: 86326.7656 - val_MSE: 132190945280.0000\n",
            "\n",
            "Epoch 00175: saving model to checkpoints1/weights.175.hdf5\n",
            "Epoch 176/200\n",
            "126/126 [==============================] - 0s 2ms/step - loss: 63012.2617 - MSE: 14540005376.0000 - val_loss: 85877.7734 - val_MSE: 126482300928.0000\n",
            "Epoch 177/200\n",
            "126/126 [==============================] - 0s 2ms/step - loss: 63602.2305 - MSE: 14870138880.0000 - val_loss: 85658.2812 - val_MSE: 120682504192.0000\n",
            "Epoch 178/200\n",
            "126/126 [==============================] - 0s 2ms/step - loss: 63232.2344 - MSE: 14788559872.0000 - val_loss: 85647.7891 - val_MSE: 119550582784.0000\n",
            "Epoch 179/200\n",
            "126/126 [==============================] - 0s 2ms/step - loss: 63528.0664 - MSE: 14969346048.0000 - val_loss: 85662.2656 - val_MSE: 121706209280.0000\n",
            "Epoch 180/200\n",
            "126/126 [==============================] - 0s 2ms/step - loss: 63652.1055 - MSE: 14704217088.0000 - val_loss: 85632.0859 - val_MSE: 120357396480.0000\n",
            "\n",
            "Epoch 00180: saving model to checkpoints1/weights.180.hdf5\n",
            "Epoch 181/200\n",
            "126/126 [==============================] - 0s 2ms/step - loss: 64804.0859 - MSE: 16309058560.0000 - val_loss: 85698.3047 - val_MSE: 116617338880.0000\n",
            "Epoch 182/200\n",
            "126/126 [==============================] - 0s 2ms/step - loss: 63535.1211 - MSE: 14489408512.0000 - val_loss: 86743.3203 - val_MSE: 135214579712.0000\n",
            "Epoch 183/200\n",
            "126/126 [==============================] - 0s 2ms/step - loss: 63959.9492 - MSE: 15172861952.0000 - val_loss: 85770.6016 - val_MSE: 114368176128.0000\n",
            "Epoch 184/200\n",
            "126/126 [==============================] - 0s 2ms/step - loss: 63475.7188 - MSE: 14675330048.0000 - val_loss: 85960.5547 - val_MSE: 111457574912.0000\n",
            "Epoch 185/200\n",
            "126/126 [==============================] - 0s 2ms/step - loss: 63617.3359 - MSE: 14584292352.0000 - val_loss: 89057.3203 - val_MSE: 148072906752.0000\n",
            "\n",
            "Epoch 00185: saving model to checkpoints1/weights.185.hdf5\n",
            "Epoch 186/200\n",
            "126/126 [==============================] - 0s 2ms/step - loss: 63660.0078 - MSE: 14636179456.0000 - val_loss: 85653.2734 - val_MSE: 122115727360.0000\n",
            "Epoch 187/200\n",
            "126/126 [==============================] - 0s 2ms/step - loss: 63752.5391 - MSE: 15148650496.0000 - val_loss: 85794.6328 - val_MSE: 113809006592.0000\n",
            "Epoch 188/200\n",
            "126/126 [==============================] - 0s 2ms/step - loss: 63968.7266 - MSE: 14804488192.0000 - val_loss: 86165.9922 - val_MSE: 108748103680.0000\n",
            "Epoch 189/200\n",
            "126/126 [==============================] - 0s 2ms/step - loss: 64818.9453 - MSE: 22247319552.0000 - val_loss: 87071.5312 - val_MSE: 101913116672.0000\n",
            "Epoch 190/200\n",
            "126/126 [==============================] - 0s 2ms/step - loss: 63639.7266 - MSE: 15004960768.0000 - val_loss: 85760.8359 - val_MSE: 124970483712.0000\n",
            "\n",
            "Epoch 00190: saving model to checkpoints1/weights.190.hdf5\n",
            "Epoch 191/200\n",
            "126/126 [==============================] - 0s 2ms/step - loss: 63041.6445 - MSE: 14494489600.0000 - val_loss: 86884.5547 - val_MSE: 136093925376.0000\n",
            "Epoch 192/200\n",
            "126/126 [==============================] - 0s 2ms/step - loss: 63571.5859 - MSE: 14362489856.0000 - val_loss: 85610.5859 - val_MSE: 117551226880.0000\n",
            "Epoch 193/200\n",
            "126/126 [==============================] - 0s 2ms/step - loss: 63708.8555 - MSE: 15145559040.0000 - val_loss: 85784.3906 - val_MSE: 125599612928.0000\n",
            "Epoch 194/200\n",
            "126/126 [==============================] - 0s 3ms/step - loss: 63967.1641 - MSE: 15185902592.0000 - val_loss: 86284.0078 - val_MSE: 107137351680.0000\n",
            "Epoch 195/200\n",
            "126/126 [==============================] - 0s 2ms/step - loss: 63151.0039 - MSE: 14790899712.0000 - val_loss: 85721.4219 - val_MSE: 124351791104.0000\n",
            "\n",
            "Epoch 00195: saving model to checkpoints1/weights.195.hdf5\n",
            "Epoch 196/200\n",
            "126/126 [==============================] - 0s 2ms/step - loss: 63404.6055 - MSE: 14736245760.0000 - val_loss: 85973.1328 - val_MSE: 110487511040.0000\n",
            "Epoch 197/200\n",
            "126/126 [==============================] - 0s 2ms/step - loss: 63595.0781 - MSE: 15150355456.0000 - val_loss: 85714.5781 - val_MSE: 124755771392.0000\n",
            "Epoch 198/200\n",
            "126/126 [==============================] - 0s 2ms/step - loss: 64114.6406 - MSE: 16664962048.0000 - val_loss: 85668.9062 - val_MSE: 123098497024.0000\n",
            "Epoch 199/200\n",
            "126/126 [==============================] - 0s 2ms/step - loss: 63275.9336 - MSE: 14628753408.0000 - val_loss: 85607.7266 - val_MSE: 116638146560.0000\n",
            "Epoch 200/200\n",
            "126/126 [==============================] - 0s 2ms/step - loss: 63747.4336 - MSE: 14942775296.0000 - val_loss: 86007.9453 - val_MSE: 129200521216.0000\n",
            "\n",
            "Epoch 00200: saving model to checkpoints1/weights.200.hdf5\n"
          ],
          "name": "stdout"
        }
      ]
    },
    {
      "cell_type": "code",
      "metadata": {
        "id": "0EiU3b8dZgFo"
      },
      "source": [
        "# the predict() method is used to generate predictions\n",
        "y3_pred = model3.predict(X_test) # <= X has List_Price\n",
        "# Export our model to HDF5 file\n",
        "model3.save(\"NN_housing.h5\")"
      ],
      "execution_count": 36,
      "outputs": []
    },
    {
      "cell_type": "code",
      "metadata": {
        "id": "z-2wilvtZga7",
        "colab": {
          "base_uri": "https://localhost:8080/"
        },
        "outputId": "30446607-7da2-4660-d354-33a6a412fdaa"
      },
      "source": [
        "# evaluate the performance of the algorithm\n",
        "from sklearn import metrics\n",
        "from sklearn.metrics import r2_score\n",
        "print('Model 3: Neural Network with List_Price')\n",
        "#print('Mean Absolute Error (MAE):', metrics.mean_absolute_error(y_test, y3_pred))  \n",
        "#print('Mean Squared Error (MSE):', metrics.mean_squared_error(y_test, y3_pred))  \n",
        "print('Root Mean Squared Error (RMSE):', np.sqrt(metrics.mean_squared_error(y_test, y3_pred)))\n",
        "print('Variance -- VarScore:', metrics.explained_variance_score(y_test,y3_pred))\n",
        "print(\"R squared(R2):\", metrics.r2_score(y_test, y3_pred))"
      ],
      "execution_count": 37,
      "outputs": [
        {
          "output_type": "stream",
          "text": [
            "Model 3: Neural Network with List_Price\n",
            "Root Mean Squared Error (RMSE): 359444.72234682913\n",
            "Variance -- VarScore: 0.9491457808522548\n",
            "R squared(R2): 0.9491412036076888\n"
          ],
          "name": "stdout"
        }
      ]
    },
    {
      "cell_type": "code",
      "metadata": {
        "id": "ZpTWQJpjYAmW",
        "colab": {
          "base_uri": "https://localhost:8080/",
          "height": 357
        },
        "outputId": "527d2ee2-d6b3-4d9f-ca6b-6859aae6c782"
      },
      "source": [
        "#df = create a df of Sales_Price and Prediction values\n",
        "result3_df = pd.DataFrame({\"Sale_Price\": [x for x in y_test], \"Predict_NN_3\": [x for x in y3_pred]})\n",
        "result3_df.head(10)"
      ],
      "execution_count": 38,
      "outputs": [
        {
          "output_type": "execute_result",
          "data": {
            "text/html": [
              "<div>\n",
              "<style scoped>\n",
              "    .dataframe tbody tr th:only-of-type {\n",
              "        vertical-align: middle;\n",
              "    }\n",
              "\n",
              "    .dataframe tbody tr th {\n",
              "        vertical-align: top;\n",
              "    }\n",
              "\n",
              "    .dataframe thead th {\n",
              "        text-align: right;\n",
              "    }\n",
              "</style>\n",
              "<table border=\"1\" class=\"dataframe\">\n",
              "  <thead>\n",
              "    <tr style=\"text-align: right;\">\n",
              "      <th></th>\n",
              "      <th>Sale_Price</th>\n",
              "      <th>Predict_NN_3</th>\n",
              "    </tr>\n",
              "  </thead>\n",
              "  <tbody>\n",
              "    <tr>\n",
              "      <th>0</th>\n",
              "      <td>1005000</td>\n",
              "      <td>[935062.4]</td>\n",
              "    </tr>\n",
              "    <tr>\n",
              "      <th>1</th>\n",
              "      <td>1175000</td>\n",
              "      <td>[1233813.8]</td>\n",
              "    </tr>\n",
              "    <tr>\n",
              "      <th>2</th>\n",
              "      <td>565000</td>\n",
              "      <td>[597485.9]</td>\n",
              "    </tr>\n",
              "    <tr>\n",
              "      <th>3</th>\n",
              "      <td>950000</td>\n",
              "      <td>[973792.2]</td>\n",
              "    </tr>\n",
              "    <tr>\n",
              "      <th>4</th>\n",
              "      <td>625000</td>\n",
              "      <td>[592245.8]</td>\n",
              "    </tr>\n",
              "    <tr>\n",
              "      <th>5</th>\n",
              "      <td>1925000</td>\n",
              "      <td>[1883327.4]</td>\n",
              "    </tr>\n",
              "    <tr>\n",
              "      <th>6</th>\n",
              "      <td>21150000</td>\n",
              "      <td>[26115954.0]</td>\n",
              "    </tr>\n",
              "    <tr>\n",
              "      <th>7</th>\n",
              "      <td>2000000</td>\n",
              "      <td>[1777019.9]</td>\n",
              "    </tr>\n",
              "    <tr>\n",
              "      <th>8</th>\n",
              "      <td>341000</td>\n",
              "      <td>[319792.75]</td>\n",
              "    </tr>\n",
              "    <tr>\n",
              "      <th>9</th>\n",
              "      <td>1450000</td>\n",
              "      <td>[1520923.1]</td>\n",
              "    </tr>\n",
              "  </tbody>\n",
              "</table>\n",
              "</div>"
            ],
            "text/plain": [
              "   Sale_Price  Predict_NN_3\n",
              "0     1005000    [935062.4]\n",
              "1     1175000   [1233813.8]\n",
              "2      565000    [597485.9]\n",
              "3      950000    [973792.2]\n",
              "4      625000    [592245.8]\n",
              "5     1925000   [1883327.4]\n",
              "6    21150000  [26115954.0]\n",
              "7     2000000   [1777019.9]\n",
              "8      341000   [319792.75]\n",
              "9     1450000   [1520923.1]"
            ]
          },
          "metadata": {
            "tags": []
          },
          "execution_count": 38
        }
      ]
    },
    {
      "cell_type": "code",
      "metadata": {
        "id": "xWbhndi6gTx8"
      },
      "source": [
        "# This is the final data frame. Merge two df to match the independent variables and the predicted price\n",
        "total_result_df = total_result_df.merge(result3_df, how='left', on='Sale_Price', left_index=True, right_index=True)\n",
        "#total_result_df.head(10)"
      ],
      "execution_count": 39,
      "outputs": []
    },
    {
      "cell_type": "code",
      "metadata": {
        "id": "PFh1zpD3-LIA"
      },
      "source": [
        "# visualizing residuals\n",
        "#fig = plt.figure(figsize=(10,5))\n",
        "#residuals3 = (y_test - y3_pred)\n",
        "#sns.distplot(residuals)\n",
        "#sns.histplot(residuals3)\n",
        "\n",
        "# Error: Exception: Data must be 1-dimensional"
      ],
      "execution_count": 40,
      "outputs": []
    },
    {
      "cell_type": "code",
      "metadata": {
        "id": "rrfrCC9jgT8d",
        "colab": {
          "base_uri": "https://localhost:8080/",
          "height": 350
        },
        "outputId": "e43678bd-f642-448e-d8d0-f347b93bdf01"
      },
      "source": [
        "import matplotlib.pyplot as plt\n",
        "plt.figure(figsize=(10,5))\n",
        "plt.plot(np.array(y3_pred))\n",
        "plt.plot(np.array(y_test))\n",
        "plt.title('Model 3: Neural Network with List_Price')\n",
        "plt.ylabel('Price')\n",
        "plt.xlabel('No. of Samples')\n",
        "plt.legend(['Predict NN 3', 'Sale_Price'], loc='upper right')\n",
        "plt.show()"
      ],
      "execution_count": 41,
      "outputs": [
        {
          "output_type": "display_data",
          "data": {
            "image/png": "[encoded data removed]",
            "text/plain": [
              "<Figure size 720x360 with 1 Axes>"
            ]
          },
          "metadata": {
            "tags": [],
            "needs_background": "light"
          }
        }
      ]
    },
    {
      "cell_type": "markdown",
      "metadata": {
        "id": "waex9f_kniqz"
      },
      "source": [
        "**MODEL 4:** Neural Network 2 **without** List_Price"
      ]
    },
    {
      "cell_type": "code",
      "metadata": {
        "id": "3AF0ydwJng24",
        "colab": {
          "base_uri": "https://localhost:8080/"
        },
        "outputId": "69b4de59-fc80-4a43-c68c-6b8f09ee55fc"
      },
      "source": [
        "# Need to keep it here to remind what the the testing and traing features\n",
        "print(X2_train.shape, X2_test.shape, y_train.shape, y_test.shape)"
      ],
      "execution_count": 42,
      "outputs": [
        {
          "output_type": "stream",
          "text": [
            "(4013, 46) (212, 46) (4013,) (212,)\n"
          ],
          "name": "stdout"
        }
      ]
    },
    {
      "cell_type": "code",
      "metadata": {
        "id": "pIv-9WI_nhJy",
        "colab": {
          "base_uri": "https://localhost:8080/"
        },
        "outputId": "2adc85e4-5f8d-4419-c29d-2e217d42b211"
      },
      "source": [
        "# Define the model - deep neural net, i.e., the number of input features and hidden nodes for each layer.\n",
        "# See inputs above\n",
        "\n",
        "from keras.models import Sequential\n",
        "from keras.layers import Dense\n",
        "from keras.callbacks import ModelCheckpoint\n",
        "\n",
        "# Define the model - deep neural net\n",
        "number_input_features2 = X2_train.shape[1] # <= pay attention here, X2 has no List_Price\n",
        "\n",
        "model4 = tf.keras.models.Sequential()\n",
        "\n",
        "# First hidden layer\n",
        "\n",
        "model4.add(tf.keras.layers.Dense(units=hidden_nodes_layer1, input_dim=number_input_features2, activation=activation))\n",
        "\n",
        "# Second hidden layer\n",
        "model4.add(tf.keras.layers.Dense(units=hidden_nodes_layer2, activation=activation))\n",
        "\n",
        "# Third hidden layer\n",
        "model4.add(tf.keras.layers.Dense(units=hidden_nodes_layer3, activation=activation))\n",
        "\n",
        "# Output layer\n",
        "model4.add(tf.keras.layers.Dense(units=1, activation=activation_last))#sigmoid, softmax, tanh\n",
        "\n",
        "# Check the structure of the model\n",
        "model4.summary()"
      ],
      "execution_count": 43,
      "outputs": [
        {
          "output_type": "stream",
          "text": [
            "Model: \"sequential_1\"\n",
            "_________________________________________________________________\n",
            "Layer (type)                 Output Shape              Param #   \n",
            "=================================================================\n",
            "dense_4 (Dense)              (None, 15)                705       \n",
            "_________________________________________________________________\n",
            "dense_5 (Dense)              (None, 20)                320       \n",
            "_________________________________________________________________\n",
            "dense_6 (Dense)              (None, 10)                210       \n",
            "_________________________________________________________________\n",
            "dense_7 (Dense)              (None, 1)                 11        \n",
            "=================================================================\n",
            "Total params: 1,246\n",
            "Trainable params: 1,246\n",
            "Non-trainable params: 0\n",
            "_________________________________________________________________\n"
          ],
          "name": "stdout"
        }
      ]
    },
    {
      "cell_type": "code",
      "metadata": {
        "id": "czD0PWaknhTK",
        "colab": {
          "base_uri": "https://localhost:8080/"
        },
        "outputId": "feba9e31-dba1-44f3-d6bb-d8bea28aee71"
      },
      "source": [
        "# Define the checkpoint path and filenames\n",
        "os.makedirs(\"checkpoints2/\", exist_ok=True)\n",
        "checkpoint_path2 = \"checkpoints2/weights.{epoch:02d}.hdf5\"\n",
        "\n",
        "# Compile the model 4\n",
        "#model4.compile(optimizer='Adam', loss='mean_absolute_error', metrics=['MSE'])\n",
        "model4.compile(loss=loss_input, optimizer=optimizer_input, metrics=[metrics_input])\n",
        "\n",
        "# Create a callback that saves the model's weights\n",
        "cp_callback2 = ModelCheckpoint(\n",
        "    filepath=checkpoint_path2,\n",
        "    verbose=1,\n",
        "    save_weights_only=True,\n",
        "    period=5,\n",
        "    save_freq='epoch')"
      ],
      "execution_count": 44,
      "outputs": [
        {
          "output_type": "stream",
          "text": [
            "WARNING:tensorflow:`period` argument is deprecated. Please use `save_freq` to specify the frequency in number of batches seen.\n"
          ],
          "name": "stdout"
        }
      ]
    },
    {
      "cell_type": "code",
      "metadata": {
        "id": "o1oDDY2lRVxU",
        "colab": {
          "base_uri": "https://localhost:8080/"
        },
        "outputId": "8a3b318f-f97f-46ab-8ab5-f5e397bd4e3e"
      },
      "source": [
        "# Train the model\n",
        "history2 = model4.fit(X2_train, y_train, batch_size=size_batch_no, epochs=epochs_no, callbacks=[cp_callback2], validation_data=(X2_test, y_test))\n",
        "#history2 = model4.fit(X2_train, y_train, batch_size=32, epochs=200, callbacks=[cp_callback2], validation_data=(X2_test, y_test))"
      ],
      "execution_count": 45,
      "outputs": [
        {
          "output_type": "stream",
          "text": [
            "Epoch 1/200\n",
            "126/126 [==============================] - 1s 4ms/step - loss: 1078588.2500 - MSE: 2423073275904.0000 - val_loss: 1129177.2500 - val_MSE: 3814891454464.0000\n",
            "Epoch 2/200\n",
            "126/126 [==============================] - 0s 2ms/step - loss: 1074432.5000 - MSE: 2414684405760.0000 - val_loss: 1121392.6250 - val_MSE: 3791144878080.0000\n",
            "Epoch 3/200\n",
            "126/126 [==============================] - 0s 2ms/step - loss: 1062720.7500 - MSE: 2374095339520.0000 - val_loss: 1103295.1250 - val_MSE: 3739341291520.0000\n",
            "Epoch 4/200\n",
            "126/126 [==============================] - 0s 2ms/step - loss: 1050258.3750 - MSE: 2539211194368.0000 - val_loss: 1077376.1250 - val_MSE: 3664937222144.0000\n",
            "Epoch 5/200\n",
            "126/126 [==============================] - 0s 2ms/step - loss: 1017454.1875 - MSE: 2627565780992.0000 - val_loss: 1021488.3125 - val_MSE: 3508088340480.0000\n",
            "\n",
            "Epoch 00005: saving model to checkpoints2/weights.05.hdf5\n",
            "Epoch 6/200\n",
            "126/126 [==============================] - 0s 2ms/step - loss: 933735.6875 - MSE: 2416751673344.0000 - val_loss: 904756.1250 - val_MSE: 3204827054080.0000\n",
            "Epoch 7/200\n",
            "126/126 [==============================] - 0s 2ms/step - loss: 741493.5000 - MSE: 1778555289600.0000 - val_loss: 636975.0000 - val_MSE: 2561970536448.0000\n",
            "Epoch 8/200\n",
            "126/126 [==============================] - 0s 2ms/step - loss: 541987.2500 - MSE: 1348495343616.0000 - val_loss: 544116.3750 - val_MSE: 2189077643264.0000\n",
            "Epoch 9/200\n",
            "126/126 [==============================] - 0s 2ms/step - loss: 515648.6250 - MSE: 1210407059456.0000 - val_loss: 534629.4375 - val_MSE: 2096192421888.0000\n",
            "Epoch 10/200\n",
            "126/126 [==============================] - 0s 2ms/step - loss: 518285.0000 - MSE: 1473665040384.0000 - val_loss: 535988.8750 - val_MSE: 2101807939584.0000\n",
            "\n",
            "Epoch 00010: saving model to checkpoints2/weights.10.hdf5\n",
            "Epoch 11/200\n",
            "126/126 [==============================] - 0s 2ms/step - loss: 510966.8438 - MSE: 1129116073984.0000 - val_loss: 533491.3750 - val_MSE: 2073624182784.0000\n",
            "Epoch 12/200\n",
            "126/126 [==============================] - 0s 2ms/step - loss: 510879.3750 - MSE: 1138609618944.0000 - val_loss: 531442.9375 - val_MSE: 2060952928256.0000\n",
            "Epoch 13/200\n",
            "126/126 [==============================] - 0s 2ms/step - loss: 510016.5312 - MSE: 1135754870784.0000 - val_loss: 530799.5000 - val_MSE: 2058882121728.0000\n",
            "Epoch 14/200\n",
            "126/126 [==============================] - 0s 2ms/step - loss: 509794.0625 - MSE: 1145388400640.0000 - val_loss: 530363.3125 - val_MSE: 2058200547328.0000\n",
            "Epoch 15/200\n",
            "126/126 [==============================] - 0s 2ms/step - loss: 506082.7812 - MSE: 1095003996160.0000 - val_loss: 527302.1250 - val_MSE: 2035510673408.0000\n",
            "\n",
            "Epoch 00015: saving model to checkpoints2/weights.15.hdf5\n",
            "Epoch 16/200\n",
            "126/126 [==============================] - 0s 2ms/step - loss: 504713.7500 - MSE: 1097649684480.0000 - val_loss: 526391.8750 - val_MSE: 2022280658944.0000\n",
            "Epoch 17/200\n",
            "126/126 [==============================] - 0s 2ms/step - loss: 503892.2500 - MSE: 1083728723968.0000 - val_loss: 527896.6250 - val_MSE: 2033331994624.0000\n",
            "Epoch 18/200\n",
            "126/126 [==============================] - 0s 2ms/step - loss: 502018.1562 - MSE: 1076055441408.0000 - val_loss: 526788.6875 - val_MSE: 2023181123584.0000\n",
            "Epoch 19/200\n",
            "126/126 [==============================] - 0s 2ms/step - loss: 502512.7500 - MSE: 1086601035776.0000 - val_loss: 523056.9062 - val_MSE: 1994038575104.0000\n",
            "Epoch 20/200\n",
            "126/126 [==============================] - 0s 2ms/step - loss: 501155.2188 - MSE: 1071204139008.0000 - val_loss: 523586.2500 - val_MSE: 1991677706240.0000\n",
            "\n",
            "Epoch 00020: saving model to checkpoints2/weights.20.hdf5\n",
            "Epoch 21/200\n",
            "126/126 [==============================] - 0s 2ms/step - loss: 500403.3125 - MSE: 1058464333824.0000 - val_loss: 524306.6250 - val_MSE: 2007149182976.0000\n",
            "Epoch 22/200\n",
            "126/126 [==============================] - 0s 2ms/step - loss: 502464.7812 - MSE: 1086278336512.0000 - val_loss: 524361.0625 - val_MSE: 1995563597824.0000\n",
            "Epoch 23/200\n",
            "126/126 [==============================] - 0s 2ms/step - loss: 501446.7500 - MSE: 1073848057856.0000 - val_loss: 524057.5625 - val_MSE: 1974500458496.0000\n",
            "Epoch 24/200\n",
            "126/126 [==============================] - 0s 2ms/step - loss: 498604.7812 - MSE: 1050862288896.0000 - val_loss: 520096.2188 - val_MSE: 1954769666048.0000\n",
            "Epoch 25/200\n",
            "126/126 [==============================] - 0s 2ms/step - loss: 498049.4375 - MSE: 1049896615936.0000 - val_loss: 519860.4375 - val_MSE: 1953436270592.0000\n",
            "\n",
            "Epoch 00025: saving model to checkpoints2/weights.25.hdf5\n",
            "Epoch 26/200\n",
            "126/126 [==============================] - 0s 2ms/step - loss: 496694.0312 - MSE: 1046864003072.0000 - val_loss: 517695.4375 - val_MSE: 1928416198656.0000\n",
            "Epoch 27/200\n",
            "126/126 [==============================] - 0s 2ms/step - loss: 495980.0625 - MSE: 1035781406720.0000 - val_loss: 517116.7812 - val_MSE: 1928399290368.0000\n",
            "Epoch 28/200\n",
            "126/126 [==============================] - 0s 2ms/step - loss: 496327.7812 - MSE: 1039275458560.0000 - val_loss: 516800.8438 - val_MSE: 1934341570560.0000\n",
            "Epoch 29/200\n",
            "126/126 [==============================] - 0s 2ms/step - loss: 499115.3125 - MSE: 1080399953920.0000 - val_loss: 523924.9375 - val_MSE: 1965851672576.0000\n",
            "Epoch 30/200\n",
            "126/126 [==============================] - 0s 2ms/step - loss: 499477.1250 - MSE: 1052823191552.0000 - val_loss: 520048.7500 - val_MSE: 1923129016320.0000\n",
            "\n",
            "Epoch 00030: saving model to checkpoints2/weights.30.hdf5\n",
            "Epoch 31/200\n",
            "126/126 [==============================] - 0s 2ms/step - loss: 495820.6562 - MSE: 1034754981888.0000 - val_loss: 517730.9688 - val_MSE: 1897903030272.0000\n",
            "Epoch 32/200\n",
            "126/126 [==============================] - 0s 2ms/step - loss: 495604.2812 - MSE: 1025601175552.0000 - val_loss: 516288.2500 - val_MSE: 1888141967360.0000\n",
            "Epoch 33/200\n",
            "126/126 [==============================] - 0s 2ms/step - loss: 494337.2188 - MSE: 1020812853248.0000 - val_loss: 514714.5312 - val_MSE: 1885796958208.0000\n",
            "Epoch 34/200\n",
            "126/126 [==============================] - 0s 2ms/step - loss: 492706.6562 - MSE: 1018154975232.0000 - val_loss: 512533.9375 - val_MSE: 1864420032512.0000\n",
            "Epoch 35/200\n",
            "126/126 [==============================] - 0s 2ms/step - loss: 492033.3750 - MSE: 1013646426112.0000 - val_loss: 511582.6562 - val_MSE: 1867747295232.0000\n",
            "\n",
            "Epoch 00035: saving model to checkpoints2/weights.35.hdf5\n",
            "Epoch 36/200\n",
            "126/126 [==============================] - 0s 2ms/step - loss: 490827.6250 - MSE: 1015866327040.0000 - val_loss: 511328.3750 - val_MSE: 1857911128064.0000\n",
            "Epoch 37/200\n",
            "126/126 [==============================] - 0s 2ms/step - loss: 491085.9688 - MSE: 1008433561600.0000 - val_loss: 510726.1250 - val_MSE: 1852610969600.0000\n",
            "Epoch 38/200\n",
            "126/126 [==============================] - 0s 2ms/step - loss: 492172.5938 - MSE: 1016960253952.0000 - val_loss: 509488.3125 - val_MSE: 1851379286016.0000\n",
            "Epoch 39/200\n",
            "126/126 [==============================] - 0s 2ms/step - loss: 490530.0625 - MSE: 1003562270720.0000 - val_loss: 510030.2500 - val_MSE: 1851711553536.0000\n",
            "Epoch 40/200\n",
            "126/126 [==============================] - 0s 2ms/step - loss: 488671.3750 - MSE: 996973412352.0000 - val_loss: 508973.7812 - val_MSE: 1840371073024.0000\n",
            "\n",
            "Epoch 00040: saving model to checkpoints2/weights.40.hdf5\n",
            "Epoch 41/200\n",
            "126/126 [==============================] - 0s 2ms/step - loss: 488436.7188 - MSE: 994433630208.0000 - val_loss: 508695.4062 - val_MSE: 1839474278400.0000\n",
            "Epoch 42/200\n",
            "126/126 [==============================] - 0s 2ms/step - loss: 487861.6875 - MSE: 996742594560.0000 - val_loss: 508210.3438 - val_MSE: 1825759166464.0000\n",
            "Epoch 43/200\n",
            "126/126 [==============================] - 0s 2ms/step - loss: 487594.5312 - MSE: 990313578496.0000 - val_loss: 508922.0312 - val_MSE: 1831197736960.0000\n",
            "Epoch 44/200\n",
            "126/126 [==============================] - 0s 2ms/step - loss: 486546.0938 - MSE: 990412931072.0000 - val_loss: 506309.7500 - val_MSE: 1809897619456.0000\n",
            "Epoch 45/200\n",
            "126/126 [==============================] - 0s 2ms/step - loss: 485934.7188 - MSE: 980283949056.0000 - val_loss: 505060.6875 - val_MSE: 1796363124736.0000\n",
            "\n",
            "Epoch 00045: saving model to checkpoints2/weights.45.hdf5\n",
            "Epoch 46/200\n",
            "126/126 [==============================] - 0s 2ms/step - loss: 486389.4375 - MSE: 987284963328.0000 - val_loss: 504821.5625 - val_MSE: 1793722941440.0000\n",
            "Epoch 47/200\n",
            "126/126 [==============================] - 0s 2ms/step - loss: 484667.2500 - MSE: 976190963712.0000 - val_loss: 503221.8438 - val_MSE: 1774614085632.0000\n",
            "Epoch 48/200\n",
            "126/126 [==============================] - 0s 2ms/step - loss: 484944.8438 - MSE: 972680069120.0000 - val_loss: 505087.0938 - val_MSE: 1786873643008.0000\n",
            "Epoch 49/200\n",
            "126/126 [==============================] - 0s 2ms/step - loss: 484581.1562 - MSE: 976846127104.0000 - val_loss: 500849.8125 - val_MSE: 1747914588160.0000\n",
            "Epoch 50/200\n",
            "126/126 [==============================] - 0s 2ms/step - loss: 483413.5625 - MSE: 972178784256.0000 - val_loss: 502243.5625 - val_MSE: 1748538359808.0000\n",
            "\n",
            "Epoch 00050: saving model to checkpoints2/weights.50.hdf5\n",
            "Epoch 51/200\n",
            "126/126 [==============================] - 0s 2ms/step - loss: 482921.4688 - MSE: 965734563840.0000 - val_loss: 501019.4062 - val_MSE: 1734069714944.0000\n",
            "Epoch 52/200\n",
            "126/126 [==============================] - 0s 2ms/step - loss: 483260.8750 - MSE: 962758115328.0000 - val_loss: 500710.7812 - val_MSE: 1721904529408.0000\n",
            "Epoch 53/200\n",
            "126/126 [==============================] - 0s 2ms/step - loss: 481871.8438 - MSE: 954177552384.0000 - val_loss: 502320.9688 - val_MSE: 1747553484800.0000\n",
            "Epoch 54/200\n",
            "126/126 [==============================] - 0s 2ms/step - loss: 481761.3750 - MSE: 959099764736.0000 - val_loss: 501026.0625 - val_MSE: 1730655813632.0000\n",
            "Epoch 55/200\n",
            "126/126 [==============================] - 0s 2ms/step - loss: 480622.5625 - MSE: 944227418112.0000 - val_loss: 501002.8750 - val_MSE: 1737922838528.0000\n",
            "\n",
            "Epoch 00055: saving model to checkpoints2/weights.55.hdf5\n",
            "Epoch 56/200\n",
            "126/126 [==============================] - 0s 2ms/step - loss: 488506.5625 - MSE: 1133702676480.0000 - val_loss: 509660.2188 - val_MSE: 1785167216640.0000\n",
            "Epoch 57/200\n",
            "126/126 [==============================] - 0s 2ms/step - loss: 486401.0000 - MSE: 973620576256.0000 - val_loss: 502161.5938 - val_MSE: 1683646316544.0000\n",
            "Epoch 58/200\n",
            "126/126 [==============================] - 0s 2ms/step - loss: 484609.7188 - MSE: 951286300672.0000 - val_loss: 500936.5312 - val_MSE: 1670664028160.0000\n",
            "Epoch 59/200\n",
            "126/126 [==============================] - 0s 2ms/step - loss: 482812.7188 - MSE: 948256571392.0000 - val_loss: 499750.4375 - val_MSE: 1668046258176.0000\n",
            "Epoch 60/200\n",
            "126/126 [==============================] - 0s 2ms/step - loss: 479532.8125 - MSE: 934204538880.0000 - val_loss: 499422.3750 - val_MSE: 1682986631168.0000\n",
            "\n",
            "Epoch 00060: saving model to checkpoints2/weights.60.hdf5\n",
            "Epoch 61/200\n",
            "126/126 [==============================] - 0s 2ms/step - loss: 479609.3125 - MSE: 938991812608.0000 - val_loss: 496671.7500 - val_MSE: 1661048979456.0000\n",
            "Epoch 62/200\n",
            "126/126 [==============================] - 0s 2ms/step - loss: 487387.3750 - MSE: 1049433538560.0000 - val_loss: 500004.7500 - val_MSE: 1660714352640.0000\n",
            "Epoch 63/200\n",
            "126/126 [==============================] - 0s 2ms/step - loss: 481615.2500 - MSE: 936455897088.0000 - val_loss: 500286.5938 - val_MSE: 1673641459712.0000\n",
            "Epoch 64/200\n",
            "126/126 [==============================] - 0s 2ms/step - loss: 479836.1250 - MSE: 936428634112.0000 - val_loss: 497513.0625 - val_MSE: 1650507251712.0000\n",
            "Epoch 65/200\n",
            "126/126 [==============================] - 0s 2ms/step - loss: 477550.0625 - MSE: 920431755264.0000 - val_loss: 496972.0625 - val_MSE: 1661405757440.0000\n",
            "\n",
            "Epoch 00065: saving model to checkpoints2/weights.65.hdf5\n",
            "Epoch 66/200\n",
            "126/126 [==============================] - 0s 2ms/step - loss: 477006.5000 - MSE: 928545243136.0000 - val_loss: 494755.8750 - val_MSE: 1639853195264.0000\n",
            "Epoch 67/200\n",
            "126/126 [==============================] - 0s 2ms/step - loss: 476271.5938 - MSE: 921075122176.0000 - val_loss: 496106.6875 - val_MSE: 1652662730752.0000\n",
            "Epoch 68/200\n",
            "126/126 [==============================] - 0s 2ms/step - loss: 475558.7188 - MSE: 918695510016.0000 - val_loss: 494277.1562 - val_MSE: 1632945569792.0000\n",
            "Epoch 69/200\n",
            "126/126 [==============================] - 0s 2ms/step - loss: 475680.2812 - MSE: 920720310272.0000 - val_loss: 493904.1562 - val_MSE: 1611403755520.0000\n",
            "Epoch 70/200\n",
            "126/126 [==============================] - 0s 2ms/step - loss: 475121.9688 - MSE: 913056399360.0000 - val_loss: 496231.5938 - val_MSE: 1638744588288.0000\n",
            "\n",
            "Epoch 00070: saving model to checkpoints2/weights.70.hdf5\n",
            "Epoch 71/200\n",
            "126/126 [==============================] - 0s 2ms/step - loss: 474623.1250 - MSE: 909778747392.0000 - val_loss: 493339.0938 - val_MSE: 1601408991232.0000\n",
            "Epoch 72/200\n",
            "126/126 [==============================] - 0s 2ms/step - loss: 473629.5625 - MSE: 904739684352.0000 - val_loss: 492719.7812 - val_MSE: 1596474654720.0000\n",
            "Epoch 73/200\n",
            "126/126 [==============================] - 0s 2ms/step - loss: 473987.2188 - MSE: 913330864128.0000 - val_loss: 492012.0625 - val_MSE: 1577336832000.0000\n",
            "Epoch 74/200\n",
            "126/126 [==============================] - 0s 2ms/step - loss: 474401.4375 - MSE: 902217859072.0000 - val_loss: 492727.8438 - val_MSE: 1577543401472.0000\n",
            "Epoch 75/200\n",
            "126/126 [==============================] - 0s 2ms/step - loss: 472371.9688 - MSE: 897572667392.0000 - val_loss: 492597.8125 - val_MSE: 1578986897408.0000\n",
            "\n",
            "Epoch 00075: saving model to checkpoints2/weights.75.hdf5\n",
            "Epoch 76/200\n",
            "126/126 [==============================] - 0s 2ms/step - loss: 472387.5312 - MSE: 902641025024.0000 - val_loss: 492332.2500 - val_MSE: 1570975907840.0000\n",
            "Epoch 77/200\n",
            "126/126 [==============================] - 0s 2ms/step - loss: 471855.7500 - MSE: 890742046720.0000 - val_loss: 492488.8750 - val_MSE: 1578940104704.0000\n",
            "Epoch 78/200\n",
            "126/126 [==============================] - 0s 2ms/step - loss: 471357.6250 - MSE: 898666070016.0000 - val_loss: 491232.2188 - val_MSE: 1552926638080.0000\n",
            "Epoch 79/200\n",
            "126/126 [==============================] - 0s 2ms/step - loss: 471277.8438 - MSE: 884239564800.0000 - val_loss: 492010.3438 - val_MSE: 1566238441472.0000\n",
            "Epoch 80/200\n",
            "126/126 [==============================] - 0s 2ms/step - loss: 471290.1875 - MSE: 892369829888.0000 - val_loss: 491045.8750 - val_MSE: 1553332043776.0000\n",
            "\n",
            "Epoch 00080: saving model to checkpoints2/weights.80.hdf5\n",
            "Epoch 81/200\n",
            "126/126 [==============================] - 0s 2ms/step - loss: 483370.7500 - MSE: 1098002464768.0000 - val_loss: 496596.2188 - val_MSE: 1579739381760.0000\n",
            "Epoch 82/200\n",
            "126/126 [==============================] - 0s 2ms/step - loss: 480805.1562 - MSE: 912808738816.0000 - val_loss: 494743.6875 - val_MSE: 1556147994624.0000\n",
            "Epoch 83/200\n",
            "126/126 [==============================] - 0s 2ms/step - loss: 479706.0000 - MSE: 911648423936.0000 - val_loss: 493398.1250 - val_MSE: 1531327152128.0000\n",
            "Epoch 84/200\n",
            "126/126 [==============================] - 0s 2ms/step - loss: 477740.2500 - MSE: 891689631744.0000 - val_loss: 493526.7500 - val_MSE: 1542306136064.0000\n",
            "Epoch 85/200\n",
            "126/126 [==============================] - 0s 2ms/step - loss: 476920.0625 - MSE: 893800218624.0000 - val_loss: 493633.7500 - val_MSE: 1538917138432.0000\n",
            "\n",
            "Epoch 00085: saving model to checkpoints2/weights.85.hdf5\n",
            "Epoch 86/200\n",
            "126/126 [==============================] - 0s 2ms/step - loss: 475530.9688 - MSE: 891884142592.0000 - val_loss: 493678.2500 - val_MSE: 1526462676992.0000\n",
            "Epoch 87/200\n",
            "126/126 [==============================] - 0s 2ms/step - loss: 472392.0312 - MSE: 881066704896.0000 - val_loss: 491791.9688 - val_MSE: 1510986743808.0000\n",
            "Epoch 88/200\n",
            "126/126 [==============================] - 0s 2ms/step - loss: 480637.9062 - MSE: 1057356382208.0000 - val_loss: 493495.4375 - val_MSE: 1524117667840.0000\n",
            "Epoch 89/200\n",
            "126/126 [==============================] - 0s 2ms/step - loss: 473551.6875 - MSE: 878567489536.0000 - val_loss: 493658.4062 - val_MSE: 1528737824768.0000\n",
            "Epoch 90/200\n",
            "126/126 [==============================] - 0s 2ms/step - loss: 470772.2812 - MSE: 883965493248.0000 - val_loss: 492697.6250 - val_MSE: 1501505257472.0000\n",
            "\n",
            "Epoch 00090: saving model to checkpoints2/weights.90.hdf5\n",
            "Epoch 91/200\n",
            "126/126 [==============================] - 0s 2ms/step - loss: 469573.5000 - MSE: 873220866048.0000 - val_loss: 491258.1250 - val_MSE: 1505362313216.0000\n",
            "Epoch 92/200\n",
            "126/126 [==============================] - 0s 2ms/step - loss: 468097.3125 - MSE: 868948115456.0000 - val_loss: 491423.5625 - val_MSE: 1516388745216.0000\n",
            "Epoch 93/200\n",
            "126/126 [==============================] - 0s 3ms/step - loss: 468427.0625 - MSE: 873456795648.0000 - val_loss: 490513.7500 - val_MSE: 1518884356096.0000\n",
            "Epoch 94/200\n",
            "126/126 [==============================] - 0s 2ms/step - loss: 467674.0625 - MSE: 871978565632.0000 - val_loss: 489319.8438 - val_MSE: 1488821420032.0000\n",
            "Epoch 95/200\n",
            "126/126 [==============================] - 0s 2ms/step - loss: 467362.9688 - MSE: 867391832064.0000 - val_loss: 488904.7188 - val_MSE: 1488881844224.0000\n",
            "\n",
            "Epoch 00095: saving model to checkpoints2/weights.95.hdf5\n",
            "Epoch 96/200\n",
            "126/126 [==============================] - 0s 2ms/step - loss: 493763.8750 - MSE: 3306202595328.0000 - val_loss: 492172.9688 - val_MSE: 1477682135040.0000\n",
            "Epoch 97/200\n",
            "126/126 [==============================] - 0s 2ms/step - loss: 471672.1250 - MSE: 867782688768.0000 - val_loss: 491755.0625 - val_MSE: 1485311311872.0000\n",
            "Epoch 98/200\n",
            "126/126 [==============================] - 0s 2ms/step - loss: 470350.5938 - MSE: 862304862208.0000 - val_loss: 491781.4062 - val_MSE: 1504753352704.0000\n",
            "Epoch 99/200\n",
            "126/126 [==============================] - 0s 2ms/step - loss: 468831.1875 - MSE: 871793426432.0000 - val_loss: 490503.2812 - val_MSE: 1476769349632.0000\n",
            "Epoch 100/200\n",
            "126/126 [==============================] - 0s 2ms/step - loss: 467027.0625 - MSE: 859055390720.0000 - val_loss: 489857.7500 - val_MSE: 1491145850880.0000\n",
            "\n",
            "Epoch 00100: saving model to checkpoints2/weights.100.hdf5\n",
            "Epoch 101/200\n",
            "126/126 [==============================] - 0s 2ms/step - loss: 465838.6250 - MSE: 862428790784.0000 - val_loss: 487734.7500 - val_MSE: 1476622024704.0000\n",
            "Epoch 102/200\n",
            "126/126 [==============================] - 0s 2ms/step - loss: 467520.6875 - MSE: 867599777792.0000 - val_loss: 489241.4062 - val_MSE: 1470288625664.0000\n",
            "Epoch 103/200\n",
            "126/126 [==============================] - 0s 2ms/step - loss: 465550.7500 - MSE: 851037388800.0000 - val_loss: 488846.7188 - val_MSE: 1488570023936.0000\n",
            "Epoch 104/200\n",
            "126/126 [==============================] - 0s 2ms/step - loss: 464972.7188 - MSE: 859227226112.0000 - val_loss: 490187.0938 - val_MSE: 1495491411968.0000\n",
            "Epoch 105/200\n",
            "126/126 [==============================] - 0s 2ms/step - loss: 465976.7500 - MSE: 859784937472.0000 - val_loss: 487638.4062 - val_MSE: 1473136164864.0000\n",
            "\n",
            "Epoch 00105: saving model to checkpoints2/weights.105.hdf5\n",
            "Epoch 106/200\n",
            "126/126 [==============================] - 0s 2ms/step - loss: 486106.3750 - MSE: 2819319398400.0000 - val_loss: 492802.5938 - val_MSE: 1536722337792.0000\n",
            "Epoch 107/200\n",
            "126/126 [==============================] - 0s 2ms/step - loss: 474480.6250 - MSE: 893349527552.0000 - val_loss: 488876.9062 - val_MSE: 1488500031488.0000\n",
            "Epoch 108/200\n",
            "126/126 [==============================] - 0s 2ms/step - loss: 472217.9062 - MSE: 877607583744.0000 - val_loss: 488715.0312 - val_MSE: 1465549586432.0000\n",
            "Epoch 109/200\n",
            "126/126 [==============================] - 0s 2ms/step - loss: 471565.2812 - MSE: 868692918272.0000 - val_loss: 488641.9688 - val_MSE: 1458221350912.0000\n",
            "Epoch 110/200\n",
            "126/126 [==============================] - 0s 2ms/step - loss: 470871.8438 - MSE: 866142388224.0000 - val_loss: 488274.1875 - val_MSE: 1462868901888.0000\n",
            "\n",
            "Epoch 00110: saving model to checkpoints2/weights.110.hdf5\n",
            "Epoch 111/200\n",
            "126/126 [==============================] - 0s 2ms/step - loss: 470206.1250 - MSE: 865755856896.0000 - val_loss: 488153.5938 - val_MSE: 1457840062464.0000\n",
            "Epoch 112/200\n",
            "126/126 [==============================] - 0s 2ms/step - loss: 469358.4688 - MSE: 865550139392.0000 - val_loss: 488023.2812 - val_MSE: 1452934561792.0000\n",
            "Epoch 113/200\n",
            "126/126 [==============================] - 0s 2ms/step - loss: 468751.8438 - MSE: 857483509760.0000 - val_loss: 487792.3125 - val_MSE: 1452025184256.0000\n",
            "Epoch 114/200\n",
            "126/126 [==============================] - 0s 2ms/step - loss: 467672.8750 - MSE: 857907593216.0000 - val_loss: 487508.3750 - val_MSE: 1454343585792.0000\n",
            "Epoch 115/200\n",
            "126/126 [==============================] - 0s 2ms/step - loss: 466225.1875 - MSE: 847831498752.0000 - val_loss: 487553.3125 - val_MSE: 1464275566592.0000\n",
            "\n",
            "Epoch 00115: saving model to checkpoints2/weights.115.hdf5\n",
            "Epoch 116/200\n",
            "126/126 [==============================] - 0s 2ms/step - loss: 464621.0000 - MSE: 851433750528.0000 - val_loss: 487297.6875 - val_MSE: 1451074912256.0000\n",
            "Epoch 117/200\n",
            "126/126 [==============================] - 0s 2ms/step - loss: 462783.1250 - MSE: 840809054208.0000 - val_loss: 487063.6250 - val_MSE: 1466209533952.0000\n",
            "Epoch 118/200\n",
            "126/126 [==============================] - 0s 2ms/step - loss: 461899.8750 - MSE: 847563718656.0000 - val_loss: 484710.6562 - val_MSE: 1436934078464.0000\n",
            "Epoch 119/200\n",
            "126/126 [==============================] - 0s 2ms/step - loss: 460960.5938 - MSE: 841985490944.0000 - val_loss: 483317.9375 - val_MSE: 1437218504704.0000\n",
            "Epoch 120/200\n",
            "126/126 [==============================] - 0s 2ms/step - loss: 460529.5312 - MSE: 838375768064.0000 - val_loss: 483300.3438 - val_MSE: 1437139992576.0000\n",
            "\n",
            "Epoch 00120: saving model to checkpoints2/weights.120.hdf5\n",
            "Epoch 121/200\n",
            "126/126 [==============================] - 0s 2ms/step - loss: 460240.4062 - MSE: 842566467584.0000 - val_loss: 482600.0625 - val_MSE: 1432578555904.0000\n",
            "Epoch 122/200\n",
            "126/126 [==============================] - 0s 2ms/step - loss: 460788.2812 - MSE: 836997545984.0000 - val_loss: 483855.3438 - val_MSE: 1433646923776.0000\n",
            "Epoch 123/200\n",
            "126/126 [==============================] - 0s 2ms/step - loss: 459344.6250 - MSE: 841669214208.0000 - val_loss: 482683.9688 - val_MSE: 1414108545024.0000\n",
            "Epoch 124/200\n",
            "126/126 [==============================] - 0s 2ms/step - loss: 458822.8438 - MSE: 835313860608.0000 - val_loss: 480987.8125 - val_MSE: 1422147715072.0000\n",
            "Epoch 125/200\n",
            "126/126 [==============================] - 0s 2ms/step - loss: 458446.7812 - MSE: 828319399936.0000 - val_loss: 480803.9375 - val_MSE: 1430001680384.0000\n",
            "\n",
            "Epoch 00125: saving model to checkpoints2/weights.125.hdf5\n",
            "Epoch 126/200\n",
            "126/126 [==============================] - 0s 2ms/step - loss: 457901.4062 - MSE: 832815104000.0000 - val_loss: 480644.5625 - val_MSE: 1420214796288.0000\n",
            "Epoch 127/200\n",
            "126/126 [==============================] - 0s 2ms/step - loss: 457728.5625 - MSE: 834569371648.0000 - val_loss: 479582.3125 - val_MSE: 1408820969472.0000\n",
            "Epoch 128/200\n",
            "126/126 [==============================] - 0s 2ms/step - loss: 457414.5938 - MSE: 831337922560.0000 - val_loss: 479684.0000 - val_MSE: 1407972016128.0000\n",
            "Epoch 129/200\n",
            "126/126 [==============================] - 0s 2ms/step - loss: 456772.1562 - MSE: 826170671104.0000 - val_loss: 478570.1250 - val_MSE: 1417943973888.0000\n",
            "Epoch 130/200\n",
            "126/126 [==============================] - 0s 3ms/step - loss: 456601.5000 - MSE: 833575714816.0000 - val_loss: 479434.1250 - val_MSE: 1403952824320.0000\n",
            "\n",
            "Epoch 00130: saving model to checkpoints2/weights.130.hdf5\n",
            "Epoch 131/200\n",
            "126/126 [==============================] - 0s 2ms/step - loss: 456066.3750 - MSE: 828345679872.0000 - val_loss: 478275.0938 - val_MSE: 1395757023232.0000\n",
            "Epoch 132/200\n",
            "126/126 [==============================] - 0s 2ms/step - loss: 455374.1250 - MSE: 820153024512.0000 - val_loss: 477671.5625 - val_MSE: 1399781588992.0000\n",
            "Epoch 133/200\n",
            "126/126 [==============================] - 0s 2ms/step - loss: 454650.2188 - MSE: 824303681536.0000 - val_loss: 477463.6875 - val_MSE: 1397541568512.0000\n",
            "Epoch 134/200\n",
            "126/126 [==============================] - 0s 2ms/step - loss: 454327.3750 - MSE: 824675663872.0000 - val_loss: 476661.0938 - val_MSE: 1387838308352.0000\n",
            "Epoch 135/200\n",
            "126/126 [==============================] - 0s 2ms/step - loss: 455231.2812 - MSE: 822540566528.0000 - val_loss: 477646.9062 - val_MSE: 1387209818112.0000\n",
            "\n",
            "Epoch 00135: saving model to checkpoints2/weights.135.hdf5\n",
            "Epoch 136/200\n",
            "126/126 [==============================] - 0s 2ms/step - loss: 453674.1875 - MSE: 820510392320.0000 - val_loss: 476372.9688 - val_MSE: 1379934273536.0000\n",
            "Epoch 137/200\n",
            "126/126 [==============================] - 0s 2ms/step - loss: 453063.0312 - MSE: 812411650048.0000 - val_loss: 475855.4688 - val_MSE: 1403078049792.0000\n",
            "Epoch 138/200\n",
            "126/126 [==============================] - 0s 2ms/step - loss: 452554.0312 - MSE: 812531384320.0000 - val_loss: 474744.1875 - val_MSE: 1393759617024.0000\n",
            "Epoch 139/200\n",
            "126/126 [==============================] - 0s 2ms/step - loss: 451835.5000 - MSE: 821264318464.0000 - val_loss: 473169.8750 - val_MSE: 1368051417088.0000\n",
            "Epoch 140/200\n",
            "126/126 [==============================] - 0s 2ms/step - loss: 452431.2812 - MSE: 826878459904.0000 - val_loss: 475094.3438 - val_MSE: 1390479802368.0000\n",
            "\n",
            "Epoch 00140: saving model to checkpoints2/weights.140.hdf5\n",
            "Epoch 141/200\n",
            "126/126 [==============================] - 0s 2ms/step - loss: 453691.6875 - MSE: 820535885824.0000 - val_loss: 474436.5938 - val_MSE: 1386143416320.0000\n",
            "Epoch 142/200\n",
            "126/126 [==============================] - 0s 2ms/step - loss: 450361.4062 - MSE: 814861320192.0000 - val_loss: 472704.2500 - val_MSE: 1367737499648.0000\n",
            "Epoch 143/200\n",
            "126/126 [==============================] - 0s 2ms/step - loss: 449895.1875 - MSE: 808923365376.0000 - val_loss: 472352.6875 - val_MSE: 1379028303872.0000\n",
            "Epoch 144/200\n",
            "126/126 [==============================] - 0s 2ms/step - loss: 449440.4062 - MSE: 809327460352.0000 - val_loss: 470314.1562 - val_MSE: 1369185583104.0000\n",
            "Epoch 145/200\n",
            "126/126 [==============================] - 0s 2ms/step - loss: 449055.4688 - MSE: 807779172352.0000 - val_loss: 469818.4375 - val_MSE: 1368997756928.0000\n",
            "\n",
            "Epoch 00145: saving model to checkpoints2/weights.145.hdf5\n",
            "Epoch 146/200\n",
            "126/126 [==============================] - 0s 2ms/step - loss: 447932.3438 - MSE: 805715181568.0000 - val_loss: 470465.7812 - val_MSE: 1395194855424.0000\n",
            "Epoch 147/200\n",
            "126/126 [==============================] - 0s 2ms/step - loss: 447898.4062 - MSE: 808235565056.0000 - val_loss: 468789.0938 - val_MSE: 1381588271104.0000\n",
            "Epoch 148/200\n",
            "126/126 [==============================] - 0s 2ms/step - loss: 451843.5938 - MSE: 817729175552.0000 - val_loss: 471455.0625 - val_MSE: 1353977561088.0000\n",
            "Epoch 149/200\n",
            "126/126 [==============================] - 0s 2ms/step - loss: 447232.3125 - MSE: 800324648960.0000 - val_loss: 469186.0000 - val_MSE: 1364629258240.0000\n",
            "Epoch 150/200\n",
            "126/126 [==============================] - 0s 2ms/step - loss: 445981.2812 - MSE: 799663521792.0000 - val_loss: 467685.3125 - val_MSE: 1355502059520.0000\n",
            "\n",
            "Epoch 00150: saving model to checkpoints2/weights.150.hdf5\n",
            "Epoch 151/200\n",
            "126/126 [==============================] - 0s 2ms/step - loss: 445559.0938 - MSE: 802073477120.0000 - val_loss: 466474.5938 - val_MSE: 1343348670464.0000\n",
            "Epoch 152/200\n",
            "126/126 [==============================] - 0s 2ms/step - loss: 445020.7812 - MSE: 796939845632.0000 - val_loss: 466878.8438 - val_MSE: 1355844026368.0000\n",
            "Epoch 153/200\n",
            "126/126 [==============================] - 0s 2ms/step - loss: 444152.5000 - MSE: 796888727552.0000 - val_loss: 466631.8125 - val_MSE: 1350925025280.0000\n",
            "Epoch 154/200\n",
            "126/126 [==============================] - 0s 2ms/step - loss: 444304.0938 - MSE: 799697600512.0000 - val_loss: 464865.7500 - val_MSE: 1340373598208.0000\n",
            "Epoch 155/200\n",
            "126/126 [==============================] - 0s 2ms/step - loss: 443052.1875 - MSE: 791160356864.0000 - val_loss: 463694.0000 - val_MSE: 1340439265280.0000\n",
            "\n",
            "Epoch 00155: saving model to checkpoints2/weights.155.hdf5\n",
            "Epoch 156/200\n",
            "126/126 [==============================] - 0s 2ms/step - loss: 442398.2812 - MSE: 793803882496.0000 - val_loss: 462266.1250 - val_MSE: 1319717175296.0000\n",
            "Epoch 157/200\n",
            "126/126 [==============================] - 0s 2ms/step - loss: 442052.2500 - MSE: 790405971968.0000 - val_loss: 465345.2812 - val_MSE: 1337215942656.0000\n",
            "Epoch 158/200\n",
            "126/126 [==============================] - 0s 2ms/step - loss: 441446.2500 - MSE: 787464060928.0000 - val_loss: 463106.1562 - val_MSE: 1329217404928.0000\n",
            "Epoch 159/200\n",
            "126/126 [==============================] - 0s 2ms/step - loss: 439931.5312 - MSE: 788531118080.0000 - val_loss: 464281.5625 - val_MSE: 1330574917632.0000\n",
            "Epoch 160/200\n",
            "126/126 [==============================] - 0s 2ms/step - loss: 439650.4375 - MSE: 783494283264.0000 - val_loss: 461692.3750 - val_MSE: 1327655944192.0000\n",
            "\n",
            "Epoch 00160: saving model to checkpoints2/weights.160.hdf5\n",
            "Epoch 161/200\n",
            "126/126 [==============================] - 0s 2ms/step - loss: 438845.9688 - MSE: 782552268800.0000 - val_loss: 458856.9688 - val_MSE: 1314563948544.0000\n",
            "Epoch 162/200\n",
            "126/126 [==============================] - 0s 2ms/step - loss: 439481.7188 - MSE: 784524771328.0000 - val_loss: 460348.7500 - val_MSE: 1309734469632.0000\n",
            "Epoch 163/200\n",
            "126/126 [==============================] - 0s 2ms/step - loss: 438582.3438 - MSE: 781447397376.0000 - val_loss: 464658.5625 - val_MSE: 1338725498880.0000\n",
            "Epoch 164/200\n",
            "126/126 [==============================] - 0s 2ms/step - loss: 438268.3438 - MSE: 779143544832.0000 - val_loss: 457068.0625 - val_MSE: 1287176847360.0000\n",
            "Epoch 165/200\n",
            "126/126 [==============================] - 0s 2ms/step - loss: 436813.1875 - MSE: 773575606272.0000 - val_loss: 455661.7500 - val_MSE: 1292835749888.0000\n",
            "\n",
            "Epoch 00165: saving model to checkpoints2/weights.165.hdf5\n",
            "Epoch 166/200\n",
            "126/126 [==============================] - 0s 2ms/step - loss: 435746.7812 - MSE: 771932684288.0000 - val_loss: 455616.2500 - val_MSE: 1282693005312.0000\n",
            "Epoch 167/200\n",
            "126/126 [==============================] - 0s 2ms/step - loss: 468240.5938 - MSE: 4527917891584.0000 - val_loss: 481163.1562 - val_MSE: 1420930580480.0000\n",
            "Epoch 168/200\n",
            "126/126 [==============================] - 0s 2ms/step - loss: 449477.3438 - MSE: 807000145920.0000 - val_loss: 462641.8125 - val_MSE: 1313094762496.0000\n",
            "Epoch 169/200\n",
            "126/126 [==============================] - 0s 2ms/step - loss: 442094.0625 - MSE: 790630432768.0000 - val_loss: 461423.2812 - val_MSE: 1291926765568.0000\n",
            "Epoch 170/200\n",
            "126/126 [==============================] - 0s 2ms/step - loss: 440245.3750 - MSE: 787699335168.0000 - val_loss: 460979.2500 - val_MSE: 1289459728384.0000\n",
            "\n",
            "Epoch 00170: saving model to checkpoints2/weights.170.hdf5\n",
            "Epoch 171/200\n",
            "126/126 [==============================] - 0s 2ms/step - loss: 439673.7500 - MSE: 781746831360.0000 - val_loss: 460299.4688 - val_MSE: 1284123918336.0000\n",
            "Epoch 172/200\n",
            "126/126 [==============================] - 0s 2ms/step - loss: 437414.8750 - MSE: 774115753984.0000 - val_loss: 460605.2188 - val_MSE: 1297684234240.0000\n",
            "Epoch 173/200\n",
            "126/126 [==============================] - 0s 2ms/step - loss: 435365.4688 - MSE: 769317994496.0000 - val_loss: 459703.4375 - val_MSE: 1282322857984.0000\n",
            "Epoch 174/200\n",
            "126/126 [==============================] - 0s 2ms/step - loss: 432558.5938 - MSE: 767893372928.0000 - val_loss: 457829.8750 - val_MSE: 1257870065664.0000\n",
            "Epoch 175/200\n",
            "126/126 [==============================] - 0s 2ms/step - loss: 431424.4062 - MSE: 758079356928.0000 - val_loss: 457130.1250 - val_MSE: 1272333467648.0000\n",
            "\n",
            "Epoch 00175: saving model to checkpoints2/weights.175.hdf5\n",
            "Epoch 176/200\n",
            "126/126 [==============================] - 0s 2ms/step - loss: 429189.7500 - MSE: 758732750848.0000 - val_loss: 455450.8750 - val_MSE: 1262102380544.0000\n",
            "Epoch 177/200\n",
            "126/126 [==============================] - 0s 2ms/step - loss: 428841.8125 - MSE: 754355535872.0000 - val_loss: 454542.0312 - val_MSE: 1248728842240.0000\n",
            "Epoch 178/200\n",
            "126/126 [==============================] - 0s 2ms/step - loss: 436466.6562 - MSE: 820464123904.0000 - val_loss: 457192.1250 - val_MSE: 1260785369088.0000\n",
            "Epoch 179/200\n",
            "126/126 [==============================] - 0s 2ms/step - loss: 433231.0312 - MSE: 766069506048.0000 - val_loss: 457147.7500 - val_MSE: 1255660060672.0000\n",
            "Epoch 180/200\n",
            "126/126 [==============================] - 0s 2ms/step - loss: 429888.6250 - MSE: 761596215296.0000 - val_loss: 457145.4375 - val_MSE: 1233647173632.0000\n",
            "\n",
            "Epoch 00180: saving model to checkpoints2/weights.180.hdf5\n",
            "Epoch 181/200\n",
            "126/126 [==============================] - 0s 2ms/step - loss: 427136.8125 - MSE: 747542872064.0000 - val_loss: 456395.9375 - val_MSE: 1238714286080.0000\n",
            "Epoch 182/200\n",
            "126/126 [==============================] - 0s 2ms/step - loss: 426278.3438 - MSE: 745580396544.0000 - val_loss: 455903.7812 - val_MSE: 1242600177664.0000\n",
            "Epoch 183/200\n",
            "126/126 [==============================] - 0s 2ms/step - loss: 424878.0312 - MSE: 746369384448.0000 - val_loss: 453912.5000 - val_MSE: 1221260476416.0000\n",
            "Epoch 184/200\n",
            "126/126 [==============================] - 0s 2ms/step - loss: 424460.5000 - MSE: 739774234624.0000 - val_loss: 453772.6562 - val_MSE: 1227659280384.0000\n",
            "Epoch 185/200\n",
            "126/126 [==============================] - 0s 2ms/step - loss: 423649.7500 - MSE: 737348812800.0000 - val_loss: 452763.5625 - val_MSE: 1215268519936.0000\n",
            "\n",
            "Epoch 00185: saving model to checkpoints2/weights.185.hdf5\n",
            "Epoch 186/200\n",
            "126/126 [==============================] - 0s 2ms/step - loss: 422748.3750 - MSE: 735792201728.0000 - val_loss: 451472.7812 - val_MSE: 1200420945920.0000\n",
            "Epoch 187/200\n",
            "126/126 [==============================] - 0s 2ms/step - loss: 421627.9375 - MSE: 733771595776.0000 - val_loss: 451474.5000 - val_MSE: 1189799919616.0000\n",
            "Epoch 188/200\n",
            "126/126 [==============================] - 0s 2ms/step - loss: 421472.2500 - MSE: 731434319872.0000 - val_loss: 450790.3438 - val_MSE: 1204711849984.0000\n",
            "Epoch 189/200\n",
            "126/126 [==============================] - 0s 2ms/step - loss: 420758.0000 - MSE: 730016055296.0000 - val_loss: 450799.7812 - val_MSE: 1198183677952.0000\n",
            "Epoch 190/200\n",
            "126/126 [==============================] - 0s 2ms/step - loss: 419861.6250 - MSE: 722993217536.0000 - val_loss: 450662.6875 - val_MSE: 1207723229184.0000\n",
            "\n",
            "Epoch 00190: saving model to checkpoints2/weights.190.hdf5\n",
            "Epoch 191/200\n",
            "126/126 [==============================] - 0s 2ms/step - loss: 419623.2812 - MSE: 726201335808.0000 - val_loss: 447900.0000 - val_MSE: 1171042074624.0000\n",
            "Epoch 192/200\n",
            "126/126 [==============================] - 0s 2ms/step - loss: 418821.6875 - MSE: 723876577280.0000 - val_loss: 449671.3125 - val_MSE: 1188643209216.0000\n",
            "Epoch 193/200\n",
            "126/126 [==============================] - 0s 2ms/step - loss: 418085.3125 - MSE: 724813021184.0000 - val_loss: 446860.6875 - val_MSE: 1175777181696.0000\n",
            "Epoch 194/200\n",
            "126/126 [==============================] - 0s 2ms/step - loss: 417898.2812 - MSE: 724964016128.0000 - val_loss: 447684.5312 - val_MSE: 1146335002624.0000\n",
            "Epoch 195/200\n",
            "126/126 [==============================] - 0s 2ms/step - loss: 417358.6875 - MSE: 718465335296.0000 - val_loss: 446356.3750 - val_MSE: 1163654725632.0000\n",
            "\n",
            "Epoch 00195: saving model to checkpoints2/weights.195.hdf5\n",
            "Epoch 196/200\n",
            "126/126 [==============================] - 0s 2ms/step - loss: 416286.2188 - MSE: 719685222400.0000 - val_loss: 445347.0625 - val_MSE: 1164947750912.0000\n",
            "Epoch 197/200\n",
            "126/126 [==============================] - 0s 2ms/step - loss: 417519.0000 - MSE: 723077103616.0000 - val_loss: 451085.7812 - val_MSE: 1180307554304.0000\n",
            "Epoch 198/200\n",
            "126/126 [==============================] - 0s 2ms/step - loss: 417750.6562 - MSE: 712385363968.0000 - val_loss: 448614.9375 - val_MSE: 1167670116352.0000\n",
            "Epoch 199/200\n",
            "126/126 [==============================] - 0s 3ms/step - loss: 415388.5625 - MSE: 714318282752.0000 - val_loss: 447295.1562 - val_MSE: 1140162166784.0000\n",
            "Epoch 200/200\n",
            "126/126 [==============================] - 0s 2ms/step - loss: 415366.3750 - MSE: 711598342144.0000 - val_loss: 446104.8438 - val_MSE: 1139941572608.0000\n",
            "\n",
            "Epoch 00200: saving model to checkpoints2/weights.200.hdf5\n"
          ],
          "name": "stdout"
        }
      ]
    },
    {
      "cell_type": "code",
      "metadata": {
        "id": "GTPKTrmLF60r"
      },
      "source": [
        "# Export our model to HDF5 file\n",
        "model4.save(\"NN2_housing.h5\")\n",
        "\n",
        "# the predict() method is used to generate predictions\n",
        "y4_pred = model4.predict(X2_test) # <= X2 has no List_Price"
      ],
      "execution_count": 46,
      "outputs": []
    },
    {
      "cell_type": "markdown",
      "metadata": {
        "id": "hEZsgBuuqk_r"
      },
      "source": [
        "**Note: ** R-square drops significantly"
      ]
    },
    {
      "cell_type": "code",
      "metadata": {
        "id": "dYvH8QKknhaV",
        "colab": {
          "base_uri": "https://localhost:8080/"
        },
        "outputId": "ea70da9d-66bd-4719-9998-42c908c03a5f"
      },
      "source": [
        "# evaluate the performance of the algorithm (MAE - MSE - RMSE)\n",
        "from sklearn import metrics\n",
        "print('Model 4: Neural Network without List_Price')\n",
        "#print('Mean Absolute Error (MAE):', metrics.mean_absolute_error(y_test, y4_pred))  \n",
        "#print('Mean Squared Error (MSE):', metrics.mean_squared_error(y_test, y4_pred))  \n",
        "print('Root Mean Squared Error (RMSE):', np.sqrt(metrics.mean_squared_error(y_test, y4_pred)))\n",
        "print('Variance -- VarScore:', metrics.explained_variance_score(y_test,y4_pred))\n",
        "print(\"R squared(R2):\", metrics.r2_score(y_test, y4_pred))"
      ],
      "execution_count": 47,
      "outputs": [
        {
          "output_type": "stream",
          "text": [
            "Model 4: Neural Network without List_Price\n",
            "Root Mean Squared Error (RMSE): 1067680.5434207025\n",
            "Variance -- VarScore: 0.5618832921221966\n",
            "R squared(R2): 0.5512706126023162\n"
          ],
          "name": "stdout"
        }
      ]
    },
    {
      "cell_type": "code",
      "metadata": {
        "id": "is_CmT9WnhlK",
        "colab": {
          "base_uri": "https://localhost:8080/",
          "height": 357
        },
        "outputId": "678c0bad-cd6f-4706-f35c-e6285e42e3bc"
      },
      "source": [
        "#df = create a df of Sales_Price and Prediction values\n",
        "result4_df = pd.DataFrame({\"Sale_Price\": [x for x in y_test], \"Predict_NN_4\": [x for x in y4_pred]})\n",
        "result4_df.head(10)"
      ],
      "execution_count": 48,
      "outputs": [
        {
          "output_type": "execute_result",
          "data": {
            "text/html": [
              "<div>\n",
              "<style scoped>\n",
              "    .dataframe tbody tr th:only-of-type {\n",
              "        vertical-align: middle;\n",
              "    }\n",
              "\n",
              "    .dataframe tbody tr th {\n",
              "        vertical-align: top;\n",
              "    }\n",
              "\n",
              "    .dataframe thead th {\n",
              "        text-align: right;\n",
              "    }\n",
              "</style>\n",
              "<table border=\"1\" class=\"dataframe\">\n",
              "  <thead>\n",
              "    <tr style=\"text-align: right;\">\n",
              "      <th></th>\n",
              "      <th>Sale_Price</th>\n",
              "      <th>Predict_NN_4</th>\n",
              "    </tr>\n",
              "  </thead>\n",
              "  <tbody>\n",
              "    <tr>\n",
              "      <th>0</th>\n",
              "      <td>1005000</td>\n",
              "      <td>[852559.56]</td>\n",
              "    </tr>\n",
              "    <tr>\n",
              "      <th>1</th>\n",
              "      <td>1175000</td>\n",
              "      <td>[1402990.8]</td>\n",
              "    </tr>\n",
              "    <tr>\n",
              "      <th>2</th>\n",
              "      <td>565000</td>\n",
              "      <td>[720836.9]</td>\n",
              "    </tr>\n",
              "    <tr>\n",
              "      <th>3</th>\n",
              "      <td>950000</td>\n",
              "      <td>[984286.94]</td>\n",
              "    </tr>\n",
              "    <tr>\n",
              "      <th>4</th>\n",
              "      <td>625000</td>\n",
              "      <td>[585516.44]</td>\n",
              "    </tr>\n",
              "    <tr>\n",
              "      <th>5</th>\n",
              "      <td>1925000</td>\n",
              "      <td>[955331.7]</td>\n",
              "    </tr>\n",
              "    <tr>\n",
              "      <th>6</th>\n",
              "      <td>21150000</td>\n",
              "      <td>[8318849.0]</td>\n",
              "    </tr>\n",
              "    <tr>\n",
              "      <th>7</th>\n",
              "      <td>2000000</td>\n",
              "      <td>[1190128.1]</td>\n",
              "    </tr>\n",
              "    <tr>\n",
              "      <th>8</th>\n",
              "      <td>341000</td>\n",
              "      <td>[745572.6]</td>\n",
              "    </tr>\n",
              "    <tr>\n",
              "      <th>9</th>\n",
              "      <td>1450000</td>\n",
              "      <td>[1755313.0]</td>\n",
              "    </tr>\n",
              "  </tbody>\n",
              "</table>\n",
              "</div>"
            ],
            "text/plain": [
              "   Sale_Price Predict_NN_4\n",
              "0     1005000  [852559.56]\n",
              "1     1175000  [1402990.8]\n",
              "2      565000   [720836.9]\n",
              "3      950000  [984286.94]\n",
              "4      625000  [585516.44]\n",
              "5     1925000   [955331.7]\n",
              "6    21150000  [8318849.0]\n",
              "7     2000000  [1190128.1]\n",
              "8      341000   [745572.6]\n",
              "9     1450000  [1755313.0]"
            ]
          },
          "metadata": {
            "tags": []
          },
          "execution_count": 48
        }
      ]
    },
    {
      "cell_type": "code",
      "metadata": {
        "id": "vJhdTSzW7HG7"
      },
      "source": [
        "# This is the final data frame of all the model prediction\n",
        "total_result_df = total_result_df.merge(result4_df, how='left', on='Sale_Price', left_index=True, right_index=True)\n",
        "#total_result_df.head(10)"
      ],
      "execution_count": 49,
      "outputs": []
    },
    {
      "cell_type": "code",
      "metadata": {
        "id": "rpu_kYUZqwrg",
        "colab": {
          "base_uri": "https://localhost:8080/",
          "height": 350
        },
        "outputId": "f29fca94-6462-4227-eb06-e532c6e121a2"
      },
      "source": [
        "import matplotlib.pyplot as plt\n",
        "plt.figure(figsize=(10,5))\n",
        "plt.plot(np.array(y4_pred))\n",
        "plt.plot(np.array(y_test))\n",
        "plt.title('Model 4: Neural Network without List_Price')\n",
        "plt.ylabel('Price')\n",
        "plt.xlabel('No. of Samples')\n",
        "plt.legend(['Prediction 4', 'Sale_Price'], loc='upper right')\n",
        "plt.show()"
      ],
      "execution_count": 50,
      "outputs": [
        {
          "output_type": "display_data",
          "data": {
            "image/png": "[encoded data removed]",
            "text/plain": [
              "<Figure size 720x360 with 1 Axes>"
            ]
          },
          "metadata": {
            "tags": [],
            "needs_background": "light"
          }
        }
      ]
    },
    {
      "cell_type": "code",
      "metadata": {
        "id": "HFJdJchwqw0j",
        "colab": {
          "base_uri": "https://localhost:8080/"
        },
        "outputId": "ca5b84d8-5d0e-40c7-a1a9-3add4ae49c03"
      },
      "source": [
        "print(\"SUMMARY OF R2_SCORE\"'\\n')\n",
        "print(\"Model 1: Regression with List_Price:\", metrics.r2_score(y_test, y1_pred))\n",
        "print('')\n",
        "print(\"Model 2: Regression withOUT List_Price:\", metrics.r2_score(y_test, y2_pred))\n",
        "print('')\n",
        "print(\"Model 3: Neural Network with List_Price:\", metrics.r2_score(y_test, y3_pred))\n",
        "print('')\n",
        "print(\"Model 4: Neural Network withOUT List_Price:\", metrics.r2_score(y_test, y4_pred))"
      ],
      "execution_count": 51,
      "outputs": [
        {
          "output_type": "stream",
          "text": [
            "SUMMARY OF R2_SCORE\n",
            "\n",
            "Model 1: Regression with List_Price: 0.9605332854433306\n",
            "\n",
            "Model 2: Regression withOUT List_Price: 0.6722142200798393\n",
            "\n",
            "Model 3: Neural Network with List_Price: 0.9491412036076888\n",
            "\n",
            "Model 4: Neural Network withOUT List_Price: 0.5512706126023162\n"
          ],
          "name": "stdout"
        }
      ]
    },
    {
      "cell_type": "markdown",
      "metadata": {
        "id": "lM1xNxclg6nL"
      },
      "source": [
        "**BEGIN Random Forest**"
      ]
    },
    {
      "cell_type": "code",
      "metadata": {
        "colab": {
          "base_uri": "https://localhost:8080/"
        },
        "id": "edws-8myHsRT",
        "outputId": "71bb30b9-d621-4715-bb70-1cf7c827d340"
      },
      "source": [
        "# Need to keep it here to remind what the the testing and traing features\n",
        "print(X_train.shape, X_test.shape, y_train.shape, y_test.shape)# <= X_tranin includes \"List_Price\"\n",
        "print(X2_train.shape, X2_test.shape, y_train.shape, y_test.shape)# <= X2_train excludes \"List_Price\""
      ],
      "execution_count": 52,
      "outputs": [
        {
          "output_type": "stream",
          "text": [
            "(4013, 47) (212, 47) (4013,) (212,)\n",
            "(4013, 46) (212, 46) (4013,) (212,)\n"
          ],
          "name": "stdout"
        }
      ]
    },
    {
      "cell_type": "code",
      "metadata": {
        "id": "u_91-RrbHq75"
      },
      "source": [
        "from sklearn.linear_model import LinearRegression, Ridge, Lasso\n",
        "from sklearn.ensemble import RandomForestRegressor\n",
        "from sklearn.model_selection import cross_val_score, train_test_split, GridSearchCV"
      ],
      "execution_count": 53,
      "outputs": []
    },
    {
      "cell_type": "code",
      "metadata": {
        "colab": {
          "base_uri": "https://localhost:8080/"
        },
        "id": "Lo5pcmPrHrO_",
        "outputId": "2dd1ec35-51c3-45b4-de33-1f5e1e41c465"
      },
      "source": [
        "# Evaluate the model\n",
        "model5 = RandomForestRegressor(n_estimators = epochs_no, max_depth = 5, min_samples_leaf= 5, max_features = 'sqrt')  # using GridSearch\n",
        "model5 = RandomForestRegressor()\n",
        "model5.fit(X_train, y_train) # gets the parameters for the rfr model"
      ],
      "execution_count": 54,
      "outputs": [
        {
          "output_type": "execute_result",
          "data": {
            "text/plain": [
              "RandomForestRegressor(bootstrap=True, ccp_alpha=0.0, criterion='mse',\n",
              "                      max_depth=None, max_features='auto', max_leaf_nodes=None,\n",
              "                      max_samples=None, min_impurity_decrease=0.0,\n",
              "                      min_impurity_split=None, min_samples_leaf=1,\n",
              "                      min_samples_split=2, min_weight_fraction_leaf=0.0,\n",
              "                      n_estimators=100, n_jobs=None, oob_score=False,\n",
              "                      random_state=None, verbose=0, warm_start=False)"
            ]
          },
          "metadata": {
            "tags": []
          },
          "execution_count": 54
        }
      ]
    },
    {
      "cell_type": "code",
      "metadata": {
        "id": "KxWyxltALiYA"
      },
      "source": [
        "# the predict() method is used to generate predictions\n",
        "y5_pred = model5.predict(X_test) # <= X2 has no List_Price"
      ],
      "execution_count": 55,
      "outputs": []
    },
    {
      "cell_type": "code",
      "metadata": {
        "id": "tbGe_HupdqEq",
        "colab": {
          "base_uri": "https://localhost:8080/"
        },
        "outputId": "934f9cd3-24e8-4aea-e7fd-cb443aaf2776"
      },
      "source": [
        "# evaluate the performance of the algorithm (MAE - MSE - RMSE)\n",
        "print('Model 5: Random Forest with List_Price')\n",
        "#print('Mean Absolute Error (MAE):', metrics.mean_absolute_error(y_test, y4_pred))  \n",
        "#print('Mean Squared Error (MSE):', metrics.mean_squared_error(y_test, y4_pred))  \n",
        "print('Root Mean Squared Error (RMSE):', np.sqrt(metrics.mean_squared_error(y_test, y5_pred)))\n",
        "print('Variance -- VarScore:', metrics.explained_variance_score(y_test,y5_pred))\n",
        "print(\"R squared(R2):\", metrics.r2_score(y_test, y5_pred))"
      ],
      "execution_count": 56,
      "outputs": [
        {
          "output_type": "stream",
          "text": [
            "Model 5: Random Forest with List_Price\n",
            "Root Mean Squared Error (RMSE): 301885.91178969154\n",
            "Variance -- VarScore: 0.9642781312413105\n",
            "R squared(R2): 0.9641253603276667\n"
          ],
          "name": "stdout"
        }
      ]
    },
    {
      "cell_type": "code",
      "metadata": {
        "colab": {
          "base_uri": "https://localhost:8080/",
          "height": 357
        },
        "id": "sbhMVg3RLyi5",
        "outputId": "08e7e184-1e82-4afc-958a-21d27e4298ab"
      },
      "source": [
        "#df = create a df of Sales_Price and Prediction values\n",
        "result5_df = pd.DataFrame({\"Sale_Price\": [x for x in y_test], \"Predict_rfr_5\": [x for x in y5_pred]})\n",
        "result5_df['Predict_rfr_5'] = result5_df['Predict_rfr_5'].map('{:,.2f}'.format)\n",
        "result5_df.head(10)"
      ],
      "execution_count": 57,
      "outputs": [
        {
          "output_type": "execute_result",
          "data": {
            "text/html": [
              "<div>\n",
              "<style scoped>\n",
              "    .dataframe tbody tr th:only-of-type {\n",
              "        vertical-align: middle;\n",
              "    }\n",
              "\n",
              "    .dataframe tbody tr th {\n",
              "        vertical-align: top;\n",
              "    }\n",
              "\n",
              "    .dataframe thead th {\n",
              "        text-align: right;\n",
              "    }\n",
              "</style>\n",
              "<table border=\"1\" class=\"dataframe\">\n",
              "  <thead>\n",
              "    <tr style=\"text-align: right;\">\n",
              "      <th></th>\n",
              "      <th>Sale_Price</th>\n",
              "      <th>Predict_rfr_5</th>\n",
              "    </tr>\n",
              "  </thead>\n",
              "  <tbody>\n",
              "    <tr>\n",
              "      <th>0</th>\n",
              "      <td>1005000</td>\n",
              "      <td>945,499.39</td>\n",
              "    </tr>\n",
              "    <tr>\n",
              "      <th>1</th>\n",
              "      <td>1175000</td>\n",
              "      <td>1,183,314.74</td>\n",
              "    </tr>\n",
              "    <tr>\n",
              "      <th>2</th>\n",
              "      <td>565000</td>\n",
              "      <td>569,360.00</td>\n",
              "    </tr>\n",
              "    <tr>\n",
              "      <th>3</th>\n",
              "      <td>950000</td>\n",
              "      <td>933,488.16</td>\n",
              "    </tr>\n",
              "    <tr>\n",
              "      <th>4</th>\n",
              "      <td>625000</td>\n",
              "      <td>601,743.40</td>\n",
              "    </tr>\n",
              "    <tr>\n",
              "      <th>5</th>\n",
              "      <td>1925000</td>\n",
              "      <td>2,002,273.59</td>\n",
              "    </tr>\n",
              "    <tr>\n",
              "      <th>6</th>\n",
              "      <td>21150000</td>\n",
              "      <td>17,015,100.00</td>\n",
              "    </tr>\n",
              "    <tr>\n",
              "      <th>7</th>\n",
              "      <td>2000000</td>\n",
              "      <td>1,924,737.24</td>\n",
              "    </tr>\n",
              "    <tr>\n",
              "      <th>8</th>\n",
              "      <td>341000</td>\n",
              "      <td>310,600.00</td>\n",
              "    </tr>\n",
              "    <tr>\n",
              "      <th>9</th>\n",
              "      <td>1450000</td>\n",
              "      <td>1,527,964.84</td>\n",
              "    </tr>\n",
              "  </tbody>\n",
              "</table>\n",
              "</div>"
            ],
            "text/plain": [
              "   Sale_Price  Predict_rfr_5\n",
              "0     1005000     945,499.39\n",
              "1     1175000   1,183,314.74\n",
              "2      565000     569,360.00\n",
              "3      950000     933,488.16\n",
              "4      625000     601,743.40\n",
              "5     1925000   2,002,273.59\n",
              "6    21150000  17,015,100.00\n",
              "7     2000000   1,924,737.24\n",
              "8      341000     310,600.00\n",
              "9     1450000   1,527,964.84"
            ]
          },
          "metadata": {
            "tags": []
          },
          "execution_count": 57
        }
      ]
    },
    {
      "cell_type": "code",
      "metadata": {
        "id": "9qtWwemgMREN"
      },
      "source": [
        "# This is the final data frame of all the model prediction\n",
        "total_result_df = total_result_df.merge(result5_df, how='left', on='Sale_Price', left_index=True, right_index=True)\n",
        "#total_result_df.head(10)"
      ],
      "execution_count": 58,
      "outputs": []
    },
    {
      "cell_type": "code",
      "metadata": {
        "colab": {
          "base_uri": "https://localhost:8080/",
          "height": 350
        },
        "id": "mt2XujmnMqNR",
        "outputId": "36d585d6-02a2-4388-fff7-8122e7b5c4ab"
      },
      "source": [
        "import matplotlib.pyplot as plt\n",
        "plt.figure(figsize=(10,5))\n",
        "plt.plot(np.array(y5_pred))\n",
        "plt.plot(np.array(y_test))\n",
        "plt.title('Model 5: Random Forest with List_Price')\n",
        "plt.ylabel('Price')\n",
        "plt.xlabel('No. of Samples')\n",
        "plt.legend(['Predict_rfr_5', 'Sale_Price'], loc='upper right')\n",
        "plt.show()"
      ],
      "execution_count": 59,
      "outputs": [
        {
          "output_type": "display_data",
          "data": {
            "image/png": "[encoded data removed]",
            "text/plain": [
              "<Figure size 720x360 with 1 Axes>"
            ]
          },
          "metadata": {
            "tags": [],
            "needs_background": "light"
          }
        }
      ]
    },
    {
      "cell_type": "code",
      "metadata": {
        "colab": {
          "base_uri": "https://localhost:8080/"
        },
        "id": "PvCKYEm0I4eQ",
        "outputId": "8dd912d5-43fe-439f-97e8-2ba5b3a8c86b"
      },
      "source": [
        "# Random forest determined feature importances\n",
        "model5.feature_importances_"
      ],
      "execution_count": 60,
      "outputs": [
        {
          "output_type": "execute_result",
          "data": {
            "text/plain": [
              "array([3.15507471e-03, 3.20106401e-03, 3.94243707e-03, 5.80055686e-04,\n",
              "       3.84149088e-04, 4.58209126e-04, 4.65109870e-04, 1.06928820e-03,\n",
              "       4.02348609e-06, 9.83105732e-01, 5.00934191e-04, 2.54902593e-07,\n",
              "       1.51673627e-06, 1.62035568e-04, 5.49542250e-06, 3.50275496e-07,\n",
              "       9.65432609e-07, 2.27067397e-04, 7.84769492e-07, 3.57393419e-04,\n",
              "       3.54400774e-07, 8.44894520e-07, 5.87462749e-06, 3.03807140e-06,\n",
              "       1.79278703e-06, 7.23917815e-04, 1.30555155e-06, 1.51480528e-05,\n",
              "       9.98828917e-06, 1.32198872e-05, 3.62184287e-07, 1.04307699e-05,\n",
              "       5.14972115e-05, 1.39636684e-04, 7.29178071e-06, 6.40138396e-06,\n",
              "       1.01048031e-03, 1.57072974e-07, 2.89739170e-04, 1.69288471e-05,\n",
              "       2.22162964e-06, 5.16007732e-05, 1.96513062e-06, 2.20743931e-06,\n",
              "       5.36547395e-06, 5.55533437e-06, 7.32852708e-07])"
            ]
          },
          "metadata": {
            "tags": []
          },
          "execution_count": 60
        }
      ]
    },
    {
      "cell_type": "code",
      "metadata": {
        "colab": {
          "base_uri": "https://localhost:8080/"
        },
        "id": "RjDEzVUJI-FA",
        "outputId": "6db06ad9-e1bd-4471-9641-ba61e78c033f"
      },
      "source": [
        "importance = model5.feature_importances_\n",
        "\n",
        "# map feature importance values to the features\n",
        "feature_importances = zip(importance, X.columns)\n",
        "#list(feature_importances)\n",
        "\n",
        "sorted_feature_importances = sorted(feature_importances, reverse = True)\n",
        "#print(sorted_feature_importances)\n",
        "\n",
        "top_15_predictors = sorted_feature_importances[0:10]\n",
        "values = [value for value, predictors in top_15_predictors]\n",
        "predictors = [predictors for value, predictors in top_15_predictors]\n",
        "print(predictors)"
      ],
      "execution_count": 61,
      "outputs": [
        {
          "output_type": "stream",
          "text": [
            "['List_Price', 'Age', 'Lot_Size', 'SqFtTotal', 'DOM', 'county_San Mateo', 'county_Orange', 'BathsTotal', 'county_Alameda', 'BathsHalf']\n"
          ],
          "name": "stdout"
        }
      ]
    },
    {
      "cell_type": "code",
      "metadata": {
        "colab": {
          "base_uri": "https://localhost:8080/",
          "height": 363
        },
        "id": "MWf91sL3JF4m",
        "outputId": "787956bd-b0b4-48da-cf20-d4749c918ae2"
      },
      "source": [
        "# Plot the feature importances of the forest\n",
        "plt.figure()\n",
        "plt.title(\"Feature importances\")\n",
        "plt.bar(range(len(predictors)), values,color=\"r\", align=\"center\");\n",
        "plt.xticks(range(len(predictors)), predictors, rotation=90);"
      ],
      "execution_count": 62,
      "outputs": [
        {
          "output_type": "display_data",
          "data": {
            "image/png": "[encoded data removed]",
            "text/plain": [
              "<Figure size 432x288 with 1 Axes>"
            ]
          },
          "metadata": {
            "tags": [],
            "needs_background": "light"
          }
        }
      ]
    },
    {
      "cell_type": "markdown",
      "metadata": {
        "id": "QDExaVkIftfi"
      },
      "source": [
        "**Model 6** Random Forest without List_Price"
      ]
    },
    {
      "cell_type": "code",
      "metadata": {
        "id": "VNsL7Q5HIl2G"
      },
      "source": [
        "# Evaluate the model\n",
        "model6 = RandomForestRegressor(n_estimators = epochs_no, max_depth = 5, min_samples_leaf= 5, max_features = 'sqrt')  # using GridSearch\n",
        "model6 = RandomForestRegressor()\n",
        "model6.fit(X2_train, y_train) # gets the parameters for the rfr model\n",
        "# the predict() method is used to generate predictions\n",
        "y6_pred = model6.predict(X2_test) # <= X2 has no List_Price"
      ],
      "execution_count": 63,
      "outputs": []
    },
    {
      "cell_type": "code",
      "metadata": {
        "id": "MlW1TuRrIl9n",
        "colab": {
          "base_uri": "https://localhost:8080/"
        },
        "outputId": "8a3bf29d-5baf-484b-96af-808f51dda40b"
      },
      "source": [
        "# evaluate the performance of the algorithm (MAE - MSE - RMSE)\n",
        "print('Model 6: Random Forest without List_Price')\n",
        "#print('Mean Absolute Error (MAE):', metrics.mean_absolute_error(y_test, y4_pred))  \n",
        "#print('Mean Squared Error (MSE):', metrics.mean_squared_error(y_test, y4_pred))  \n",
        "print('Root Mean Squared Error (RMSE):', np.sqrt(metrics.mean_squared_error(y_test, y6_pred)))\n",
        "print('Variance -- VarScore:', metrics.explained_variance_score(y_test,y6_pred))\n",
        "print(\"R squared(R2):\", metrics.r2_score(y_test, y6_pred))"
      ],
      "execution_count": 64,
      "outputs": [
        {
          "output_type": "stream",
          "text": [
            "Model 6: Random Forest without List_Price\n",
            "Root Mean Squared Error (RMSE): 924573.9964163348\n",
            "Variance -- VarScore: 0.6635002273992804\n",
            "R squared(R2): 0.6634998943191293\n"
          ],
          "name": "stdout"
        }
      ]
    },
    {
      "cell_type": "code",
      "metadata": {
        "id": "7iAf_VyugZEr",
        "colab": {
          "base_uri": "https://localhost:8080/",
          "height": 357
        },
        "outputId": "839c7d79-94f0-436e-d57d-82bfc6650015"
      },
      "source": [
        "#df = create a df of Sales_Price and Prediction values\n",
        "result6_df = pd.DataFrame({\"Sale_Price\": [x for x in y_test], \"Predict_rfr_6\": [x for x in y6_pred]})\n",
        "result6_df['Predict_rfr_6'] = result6_df['Predict_rfr_6'].map('{:,.2f}'.format)\n",
        "result6_df.head(10)"
      ],
      "execution_count": 65,
      "outputs": [
        {
          "output_type": "execute_result",
          "data": {
            "text/html": [
              "<div>\n",
              "<style scoped>\n",
              "    .dataframe tbody tr th:only-of-type {\n",
              "        vertical-align: middle;\n",
              "    }\n",
              "\n",
              "    .dataframe tbody tr th {\n",
              "        vertical-align: top;\n",
              "    }\n",
              "\n",
              "    .dataframe thead th {\n",
              "        text-align: right;\n",
              "    }\n",
              "</style>\n",
              "<table border=\"1\" class=\"dataframe\">\n",
              "  <thead>\n",
              "    <tr style=\"text-align: right;\">\n",
              "      <th></th>\n",
              "      <th>Sale_Price</th>\n",
              "      <th>Predict_rfr_6</th>\n",
              "    </tr>\n",
              "  </thead>\n",
              "  <tbody>\n",
              "    <tr>\n",
              "      <th>0</th>\n",
              "      <td>1005000</td>\n",
              "      <td>1,713,841.25</td>\n",
              "    </tr>\n",
              "    <tr>\n",
              "      <th>1</th>\n",
              "      <td>1175000</td>\n",
              "      <td>1,356,637.00</td>\n",
              "    </tr>\n",
              "    <tr>\n",
              "      <th>2</th>\n",
              "      <td>565000</td>\n",
              "      <td>507,210.00</td>\n",
              "    </tr>\n",
              "    <tr>\n",
              "      <th>3</th>\n",
              "      <td>950000</td>\n",
              "      <td>1,079,912.50</td>\n",
              "    </tr>\n",
              "    <tr>\n",
              "      <th>4</th>\n",
              "      <td>625000</td>\n",
              "      <td>688,270.00</td>\n",
              "    </tr>\n",
              "    <tr>\n",
              "      <th>5</th>\n",
              "      <td>1925000</td>\n",
              "      <td>862,412.16</td>\n",
              "    </tr>\n",
              "    <tr>\n",
              "      <th>6</th>\n",
              "      <td>21150000</td>\n",
              "      <td>10,595,150.00</td>\n",
              "    </tr>\n",
              "    <tr>\n",
              "      <th>7</th>\n",
              "      <td>2000000</td>\n",
              "      <td>1,558,626.85</td>\n",
              "    </tr>\n",
              "    <tr>\n",
              "      <th>8</th>\n",
              "      <td>341000</td>\n",
              "      <td>518,494.88</td>\n",
              "    </tr>\n",
              "    <tr>\n",
              "      <th>9</th>\n",
              "      <td>1450000</td>\n",
              "      <td>1,633,300.00</td>\n",
              "    </tr>\n",
              "  </tbody>\n",
              "</table>\n",
              "</div>"
            ],
            "text/plain": [
              "   Sale_Price  Predict_rfr_6\n",
              "0     1005000   1,713,841.25\n",
              "1     1175000   1,356,637.00\n",
              "2      565000     507,210.00\n",
              "3      950000   1,079,912.50\n",
              "4      625000     688,270.00\n",
              "5     1925000     862,412.16\n",
              "6    21150000  10,595,150.00\n",
              "7     2000000   1,558,626.85\n",
              "8      341000     518,494.88\n",
              "9     1450000   1,633,300.00"
            ]
          },
          "metadata": {
            "tags": []
          },
          "execution_count": 65
        }
      ]
    },
    {
      "cell_type": "code",
      "metadata": {
        "id": "pLQEVEm8g0ye",
        "colab": {
          "base_uri": "https://localhost:8080/",
          "height": 350
        },
        "outputId": "849ef036-b06e-4e96-c046-ff41ef8c9f21"
      },
      "source": [
        "import matplotlib.pyplot as plt\n",
        "plt.figure(figsize=(10,5))\n",
        "plt.plot(np.array(y5_pred))\n",
        "plt.plot(np.array(y_test))\n",
        "plt.title('Model 6: Random Forest without List_Price')\n",
        "plt.ylabel('Price')\n",
        "plt.xlabel('No. of Samples')\n",
        "plt.legend(['Predict_rfr_6', 'Sale_Price'], loc='upper right')\n",
        "plt.show()"
      ],
      "execution_count": 66,
      "outputs": [
        {
          "output_type": "display_data",
          "data": {
            "image/png": "[encoded data removed]",
            "text/plain": [
              "<Figure size 720x360 with 1 Axes>"
            ]
          },
          "metadata": {
            "tags": [],
            "needs_background": "light"
          }
        }
      ]
    },
    {
      "cell_type": "code",
      "metadata": {
        "id": "Ua1BVZjYhVNu",
        "colab": {
          "base_uri": "https://localhost:8080/",
          "height": 407
        },
        "outputId": "b2f3e6a6-25ad-4b90-97bc-95fd7875c78b"
      },
      "source": [
        "# Random forest determined feature importances\n",
        "model6.feature_importances_\n",
        "importance = model6.feature_importances_\n",
        "\n",
        "# map feature importance values to the features\n",
        "feature_importances = zip(importance, X.columns)\n",
        "#list(feature_importances)\n",
        "\n",
        "sorted_feature_importances = sorted(feature_importances, reverse = True)\n",
        "#print(sorted_feature_importances)\n",
        "\n",
        "top_15_predictors = sorted_feature_importances[0:10]\n",
        "values = [value for value, predictors in top_15_predictors]\n",
        "predictors = [predictors for value, predictors in top_15_predictors]\n",
        "print(predictors)\n",
        "\n",
        "# Plot the feature importances of the forest\n",
        "plt.figure()\n",
        "plt.title(\"Feature importances\")\n",
        "plt.bar(range(len(predictors)), values,color=\"r\", align=\"center\");\n",
        "plt.xticks(range(len(predictors)), predictors, rotation=90);"
      ],
      "execution_count": 67,
      "outputs": [
        {
          "output_type": "stream",
          "text": [
            "['SqFtTotal', 'Age', 'Lot_Size', 'county_Santa Barbara', 'county_San Luis Obispo', 'county_Madera', 'DOM', 'BathsFull', 'BathsTotal', 'BedsTotal']\n"
          ],
          "name": "stdout"
        },
        {
          "output_type": "display_data",
          "data": {
            "image/png": "[encoded data removed]",
            "text/plain": [
              "<Figure size 432x288 with 1 Axes>"
            ]
          },
          "metadata": {
            "tags": [],
            "needs_background": "light"
          }
        }
      ]
    },
    {
      "cell_type": "markdown",
      "metadata": {
        "id": "WDLgxbL-htXh"
      },
      "source": [
        "**Final Report**"
      ]
    },
    {
      "cell_type": "code",
      "metadata": {
        "id": "gfXDEV2qgZjC",
        "colab": {
          "base_uri": "https://localhost:8080/"
        },
        "outputId": "42cf30bc-70a2-4593-845d-996cbd555ff4"
      },
      "source": [
        "print(\"SUMMARY OF R2_SCORE\"'\\n')\n",
        "print(\"Model 1: Regression with List_Price:\", metrics.r2_score(y_test, y1_pred))\n",
        "print('')\n",
        "print(\"Model 2: Regression withOUT List_Price:\", metrics.r2_score(y_test, y2_pred))\n",
        "print('')\n",
        "print(\"Model 3: Neural Network with List_Price:\", metrics.r2_score(y_test, y3_pred))\n",
        "print('')\n",
        "print(\"Model 4: Neural Network withOUT List_Price:\", metrics.r2_score(y_test, y4_pred))\n",
        "print('')\n",
        "print(\"Model 5: Random Forest with List_Price:\", metrics.r2_score(y_test, y5_pred))\n",
        "print('')\n",
        "print(\"Model 6: Random Forest withOUT List_Price:\", metrics.r2_score(y_test, y6_pred))"
      ],
      "execution_count": 68,
      "outputs": [
        {
          "output_type": "stream",
          "text": [
            "SUMMARY OF R2_SCORE\n",
            "\n",
            "Model 1: Regression with List_Price: 0.9605332854433306\n",
            "\n",
            "Model 2: Regression withOUT List_Price: 0.6722142200798393\n",
            "\n",
            "Model 3: Neural Network with List_Price: 0.9491412036076888\n",
            "\n",
            "Model 4: Neural Network withOUT List_Price: 0.5512706126023162\n",
            "\n",
            "Model 5: Random Forest with List_Price: 0.9641253603276667\n",
            "\n",
            "Model 6: Random Forest withOUT List_Price: 0.6634998943191293\n"
          ],
          "name": "stdout"
        }
      ]
    },
    {
      "cell_type": "code",
      "metadata": {
        "colab": {
          "base_uri": "https://localhost:8080/",
          "height": 234
        },
        "id": "s4Hb5Xu1W4OF",
        "outputId": "18427238-02f4-4c1d-dc4c-39c0e04787a2"
      },
      "source": [
        "\n",
        "data = {\n",
        "\"Model\":[\"Model 1: Regression with List_Price\", \"Model 2: Regression withOUT List_Price\",\"Model 3: Neural Network with List_Price\",\n",
        "         \"Model 4: Neural Network withOUT List_Price\",\"Model 5: Random Forest with List_Price\",\"Model 6: Random Forest withOUT List_Price\"],\n",
        "\"R2_score\":[metrics.r2_score(y_test, y1_pred),metrics.r2_score(y_test, y2_pred),metrics.r2_score(y_test, y3_pred),metrics.r2_score(y_test, y4_pred),\n",
        "            metrics.r2_score(y_test, y5_pred),metrics.r2_score(y_test, y6_pred)]};\n",
        "\n",
        "r2score_df = pd.DataFrame(data=data);\n",
        "r2score_df"
      ],
      "execution_count": 69,
      "outputs": [
        {
          "output_type": "execute_result",
          "data": {
            "text/html": [
              "<div>\n",
              "<style scoped>\n",
              "    .dataframe tbody tr th:only-of-type {\n",
              "        vertical-align: middle;\n",
              "    }\n",
              "\n",
              "    .dataframe tbody tr th {\n",
              "        vertical-align: top;\n",
              "    }\n",
              "\n",
              "    .dataframe thead th {\n",
              "        text-align: right;\n",
              "    }\n",
              "</style>\n",
              "<table border=\"1\" class=\"dataframe\">\n",
              "  <thead>\n",
              "    <tr style=\"text-align: right;\">\n",
              "      <th></th>\n",
              "      <th>Model</th>\n",
              "      <th>R2_score</th>\n",
              "    </tr>\n",
              "  </thead>\n",
              "  <tbody>\n",
              "    <tr>\n",
              "      <th>0</th>\n",
              "      <td>Model 1: Regression with List_Price</td>\n",
              "      <td>0.960533</td>\n",
              "    </tr>\n",
              "    <tr>\n",
              "      <th>1</th>\n",
              "      <td>Model 2: Regression withOUT List_Price</td>\n",
              "      <td>0.672214</td>\n",
              "    </tr>\n",
              "    <tr>\n",
              "      <th>2</th>\n",
              "      <td>Model 3: Neural Network with List_Price</td>\n",
              "      <td>0.949141</td>\n",
              "    </tr>\n",
              "    <tr>\n",
              "      <th>3</th>\n",
              "      <td>Model 4: Neural Network withOUT List_Price</td>\n",
              "      <td>0.551271</td>\n",
              "    </tr>\n",
              "    <tr>\n",
              "      <th>4</th>\n",
              "      <td>Model 5: Random Forest with List_Price</td>\n",
              "      <td>0.964125</td>\n",
              "    </tr>\n",
              "    <tr>\n",
              "      <th>5</th>\n",
              "      <td>Model 6: Random Forest withOUT List_Price</td>\n",
              "      <td>0.663500</td>\n",
              "    </tr>\n",
              "  </tbody>\n",
              "</table>\n",
              "</div>"
            ],
            "text/plain": [
              "                                        Model  R2_score\n",
              "0         Model 1: Regression with List_Price  0.960533\n",
              "1      Model 2: Regression withOUT List_Price  0.672214\n",
              "2     Model 3: Neural Network with List_Price  0.949141\n",
              "3  Model 4: Neural Network withOUT List_Price  0.551271\n",
              "4      Model 5: Random Forest with List_Price  0.964125\n",
              "5   Model 6: Random Forest withOUT List_Price  0.663500"
            ]
          },
          "metadata": {
            "tags": []
          },
          "execution_count": 69
        }
      ]
    },
    {
      "cell_type": "code",
      "metadata": {
        "colab": {
          "base_uri": "https://localhost:8080/",
          "height": 502
        },
        "id": "GJpc47LWanCD",
        "outputId": "6e069542-3514-45a5-afcb-ddc2458df683"
      },
      "source": [
        "import matplotlib.colors as mcolors\n",
        "import matplotlib.pyplot as plot\n",
        "# Reserve the row order\n",
        "r2score_df = r2score_df.iloc[::-1]\n",
        "#datafram plot barh\n",
        "r2score_df.plot.barh(figsize = (8,8), fontsize=12, x=\"Model\", title=\"R2 Score plot\", colormap='Accent', grid=True, sort_columns=True)\n",
        "plot.show();"
      ],
      "execution_count": 70,
      "outputs": [
        {
          "output_type": "display_data",
          "data": {
            "image/png": "[encoded data removed]",
            "text/plain": [
              "<Figure size 576x576 with 1 Axes>"
            ]
          },
          "metadata": {
            "tags": [],
            "needs_background": "light"
          }
        }
      ]
    },
    {
      "cell_type": "code",
      "metadata": {
        "id": "MX2IYZj_h3nW",
        "colab": {
          "base_uri": "https://localhost:8080/",
          "height": 357
        },
        "outputId": "1af57f4d-c097-4ef7-b95c-5e91d14054a7"
      },
      "source": [
        "# This is the final data frame of all the model prediction\n",
        "total_result_df = total_result_df.merge(result6_df, how='left', on='Sale_Price', left_index=True, right_index=True)\n",
        "total_result_df.head(10)"
      ],
      "execution_count": 71,
      "outputs": [
        {
          "output_type": "execute_result",
          "data": {
            "text/html": [
              "<div>\n",
              "<style scoped>\n",
              "    .dataframe tbody tr th:only-of-type {\n",
              "        vertical-align: middle;\n",
              "    }\n",
              "\n",
              "    .dataframe tbody tr th {\n",
              "        vertical-align: top;\n",
              "    }\n",
              "\n",
              "    .dataframe thead th {\n",
              "        text-align: right;\n",
              "    }\n",
              "</style>\n",
              "<table border=\"1\" class=\"dataframe\">\n",
              "  <thead>\n",
              "    <tr style=\"text-align: right;\">\n",
              "      <th></th>\n",
              "      <th>Sale_Price</th>\n",
              "      <th>Predict_Reg_1</th>\n",
              "      <th>Predict_Reg_2</th>\n",
              "      <th>Predict_NN_3</th>\n",
              "      <th>Predict_NN_4</th>\n",
              "      <th>Predict_rfr_5</th>\n",
              "      <th>Predict_rfr_6</th>\n",
              "    </tr>\n",
              "  </thead>\n",
              "  <tbody>\n",
              "    <tr>\n",
              "      <th>0</th>\n",
              "      <td>1005000</td>\n",
              "      <td>913,281.32</td>\n",
              "      <td>1,416,121.20</td>\n",
              "      <td>[935062.4]</td>\n",
              "      <td>[852559.56]</td>\n",
              "      <td>945,499.39</td>\n",
              "      <td>1,713,841.25</td>\n",
              "    </tr>\n",
              "    <tr>\n",
              "      <th>1</th>\n",
              "      <td>1175000</td>\n",
              "      <td>1,219,022.44</td>\n",
              "      <td>1,559,513.55</td>\n",
              "      <td>[1233813.8]</td>\n",
              "      <td>[1402990.8]</td>\n",
              "      <td>1,183,314.74</td>\n",
              "      <td>1,356,637.00</td>\n",
              "    </tr>\n",
              "    <tr>\n",
              "      <th>2</th>\n",
              "      <td>565000</td>\n",
              "      <td>587,771.36</td>\n",
              "      <td>639,187.61</td>\n",
              "      <td>[597485.9]</td>\n",
              "      <td>[720836.9]</td>\n",
              "      <td>569,360.00</td>\n",
              "      <td>507,210.00</td>\n",
              "    </tr>\n",
              "    <tr>\n",
              "      <th>3</th>\n",
              "      <td>950000</td>\n",
              "      <td>959,388.14</td>\n",
              "      <td>1,152,340.72</td>\n",
              "      <td>[973792.2]</td>\n",
              "      <td>[984286.94]</td>\n",
              "      <td>933,488.16</td>\n",
              "      <td>1,079,912.50</td>\n",
              "    </tr>\n",
              "    <tr>\n",
              "      <th>4</th>\n",
              "      <td>625000</td>\n",
              "      <td>608,544.68</td>\n",
              "      <td>526,425.80</td>\n",
              "      <td>[592245.8]</td>\n",
              "      <td>[585516.44]</td>\n",
              "      <td>601,743.40</td>\n",
              "      <td>688,270.00</td>\n",
              "    </tr>\n",
              "    <tr>\n",
              "      <th>5</th>\n",
              "      <td>1925000</td>\n",
              "      <td>1,872,278.90</td>\n",
              "      <td>965,161.08</td>\n",
              "      <td>[1883327.4]</td>\n",
              "      <td>[955331.7]</td>\n",
              "      <td>2,002,273.59</td>\n",
              "      <td>862,412.16</td>\n",
              "    </tr>\n",
              "    <tr>\n",
              "      <th>6</th>\n",
              "      <td>21150000</td>\n",
              "      <td>25,521,630.17</td>\n",
              "      <td>10,581,912.84</td>\n",
              "      <td>[26115954.0]</td>\n",
              "      <td>[8318849.0]</td>\n",
              "      <td>17,015,100.00</td>\n",
              "      <td>10,595,150.00</td>\n",
              "    </tr>\n",
              "    <tr>\n",
              "      <th>7</th>\n",
              "      <td>2000000</td>\n",
              "      <td>1,830,298.75</td>\n",
              "      <td>1,322,725.73</td>\n",
              "      <td>[1777019.9]</td>\n",
              "      <td>[1190128.1]</td>\n",
              "      <td>1,924,737.24</td>\n",
              "      <td>1,558,626.85</td>\n",
              "    </tr>\n",
              "    <tr>\n",
              "      <th>8</th>\n",
              "      <td>341000</td>\n",
              "      <td>321,158.59</td>\n",
              "      <td>564,749.91</td>\n",
              "      <td>[319792.75]</td>\n",
              "      <td>[745572.6]</td>\n",
              "      <td>310,600.00</td>\n",
              "      <td>518,494.88</td>\n",
              "    </tr>\n",
              "    <tr>\n",
              "      <th>9</th>\n",
              "      <td>1450000</td>\n",
              "      <td>1,469,391.98</td>\n",
              "      <td>2,446,670.51</td>\n",
              "      <td>[1520923.1]</td>\n",
              "      <td>[1755313.0]</td>\n",
              "      <td>1,527,964.84</td>\n",
              "      <td>1,633,300.00</td>\n",
              "    </tr>\n",
              "  </tbody>\n",
              "</table>\n",
              "</div>"
            ],
            "text/plain": [
              "   Sale_Price  Predict_Reg_1  ...  Predict_rfr_5  Predict_rfr_6\n",
              "0     1005000     913,281.32  ...     945,499.39   1,713,841.25\n",
              "1     1175000   1,219,022.44  ...   1,183,314.74   1,356,637.00\n",
              "2      565000     587,771.36  ...     569,360.00     507,210.00\n",
              "3      950000     959,388.14  ...     933,488.16   1,079,912.50\n",
              "4      625000     608,544.68  ...     601,743.40     688,270.00\n",
              "5     1925000   1,872,278.90  ...   2,002,273.59     862,412.16\n",
              "6    21150000  25,521,630.17  ...  17,015,100.00  10,595,150.00\n",
              "7     2000000   1,830,298.75  ...   1,924,737.24   1,558,626.85\n",
              "8      341000     321,158.59  ...     310,600.00     518,494.88\n",
              "9     1450000   1,469,391.98  ...   1,527,964.84   1,633,300.00\n",
              "\n",
              "[10 rows x 7 columns]"
            ]
          },
          "metadata": {
            "tags": []
          },
          "execution_count": 71
        }
      ]
    },
    {
      "cell_type": "markdown",
      "metadata": {
        "id": "Xr5Eanle7jRy"
      },
      "source": [
        "**END of the End!**"
      ]
    }
  ]
}